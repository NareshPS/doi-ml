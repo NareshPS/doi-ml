{
 "cells": [
  {
   "cell_type": "markdown",
   "metadata": {},
   "source": [
    "# Neural Architecture Search With Ax\n",
    "\n",
    "We will follow the tutorial [Multi-Objective NAS with Ax](https://pytorch.org/tutorials/intermediate/ax_multiobjective_nas_tutorial.html). We will learn to use Ax to configure and search a search space.\n",
    "\n",
    "We will use the following additional libraries:\n",
    "- PyTorch Lightening (To define a model and its training loop)\n",
    "- TorchX (To run training jobs)\n",
    "- BoTorch (A dependency of Ax)\n",
    "\n",
    "We'll work on the problem described in the tutorial. It tunes the widths of two hidden layers, the learning rate, the dropout probability, the batch size, and the number of training epochs. The search objective is to find a good trade off between model performance and model size.\n",
    "\n",
    "Requirements for execution on cloud:\n",
    "- Enable [Prepare Environment](#0-prepare-environment)\n",
    "- [] Update TOTAL_TRIALS at [Choose a Generation Strategy](#7-choose-a-generation-strategy)"
   ]
  },
  {
   "cell_type": "markdown",
   "metadata": {},
   "source": [
    "# 0. Prepare Environment"
   ]
  },
  {
   "cell_type": "markdown",
   "metadata": {},
   "source": [
    "## 0.1. Install Packages"
   ]
  },
  {
   "cell_type": "code",
   "execution_count": null,
   "metadata": {},
   "outputs": [],
   "source": [
    "%%capture\n",
    "! pip install torchx ax-platform"
   ]
  },
  {
   "cell_type": "markdown",
   "metadata": {},
   "source": [
    "## 0.2. Download Dependencies"
   ]
  },
  {
   "cell_type": "code",
   "execution_count": 22,
   "metadata": {},
   "outputs": [
    {
     "name": "stdout",
     "output_type": "stream",
     "text": [
      "File: mnist_train_nas.py exists. Skipping Download\n",
      "File: ax_multiobjective_nas_tutorial.py exists. Skipping Download\n",
      "ax_multiobjective_nas_tutorial.py  mnist_train_nas.py\n",
      "helper_functions.py\n"
     ]
    }
   ],
   "source": [
    "from pathlib import Path\n",
    "\n",
    "remote_files = {\n",
    "    'mnist_train_nas.py': 'https://raw.githubusercontent.com/pytorch/tutorials/main/intermediate_source/mnist_train_nas.py',\n",
    "    'ax_multiobjective_nas_tutorial.py': 'https://raw.githubusercontent.com/pytorch/tutorials/main/intermediate_source/ax_multiobjective_nas_tutorial.py'\n",
    "}\n",
    "\n",
    "for name, remote_path in remote_files.items():\n",
    "    if Path(name).exists():\n",
    "        print(f'File: {name} exists. Skipping Download')\n",
    "    else:\n",
    "        ! wget {remote_path}\n",
    "\n",
    "! ls *.py"
   ]
  },
  {
   "cell_type": "markdown",
   "metadata": {},
   "source": [
    "# 1. Define a TorchX AppDef\n",
    "\n",
    " We'll define a TorchX AppDef which configures the parameters to the training script."
   ]
  },
  {
   "cell_type": "code",
   "execution_count": 1,
   "metadata": {},
   "outputs": [],
   "source": [
    "import torchx\n",
    "\n",
    "from torchx import specs\n",
    "from torchx.components import utils\n",
    "from pathlib import Path\n",
    "\n",
    "def trainer(\n",
    "    log_path: str,\n",
    "    hidden_size_1: int,\n",
    "    hidden_size_2: int,\n",
    "    learning_rate: float,\n",
    "    dropout: float,\n",
    "    batch_size: int,\n",
    "    epochs: int,\n",
    "    trial_idx: int = -1\n",
    ") -> specs.AppDef:\n",
    "\n",
    "    # 1. Configure the location of log files\n",
    "    if trial_idx >= 0:\n",
    "        log_path = (Path(log_path) / str(trial_idx)).absolute().as_posix()\n",
    "\n",
    "    # 2. Define configuration arguments for the training script\n",
    "    return utils.python(\n",
    "        '--log_path', log_path,\n",
    "        '--hidden_size_1', str(hidden_size_1),\n",
    "        '--hidden_size_2', str(hidden_size_2),\n",
    "        '--learning_rate', str(learning_rate),\n",
    "        '--dropout', str(dropout),\n",
    "        '--batch_size', str(batch_size),\n",
    "        '--epochs', str(epochs),\n",
    "        name = 'trainer',\n",
    "        script = 'mnist_train_nas.py',\n",
    "        image = torchx.version.TORCHX_IMAGE\n",
    "    )"
   ]
  },
  {
   "cell_type": "markdown",
   "metadata": {},
   "source": [
    "# 2. Setup TorchX Runner\n",
    "\n",
    "It configure the execution environment for torchX AppDef."
   ]
  },
  {
   "cell_type": "code",
   "execution_count": 2,
   "metadata": {},
   "outputs": [
    {
     "name": "stdout",
     "output_type": "stream",
     "text": [
      "Ax Runner: <ax.runners.torchx.TorchXRunner object at 0x1160af340>\n"
     ]
    }
   ],
   "source": [
    "import tempfile\n",
    "\n",
    "from ax.runners.torchx import TorchXRunner\n",
    "\n",
    "# 1. Make a temporary directory to write logs\n",
    "log_path = tempfile.mkdtemp()\n",
    "\n",
    "# 2. Initialize TorchX Runner\n",
    "ax_runner = TorchXRunner(\n",
    "    tracker_base=\"/tmp\",\n",
    "    component=trainer,\n",
    "    scheduler=\"local_cwd\",\n",
    "    component_const_params={\"log_path\": log_path},\n",
    "    cfg={},\n",
    ")\n",
    "\n",
    "print(f'Ax Runner: {ax_runner}')"
   ]
  },
  {
   "cell_type": "markdown",
   "metadata": {},
   "source": [
    "# 3. Setup the Search Space\n",
    "\n",
    "It defines the search parameters, their type, and the range of values they can take. Parameter types are typically integer, float, or boolean. The values these parameters can take represent the search space. "
   ]
  },
  {
   "cell_type": "code",
   "execution_count": 3,
   "metadata": {},
   "outputs": [
    {
     "name": "stdout",
     "output_type": "stream",
     "text": [
      "Search Space: SearchSpace(parameters=[RangeParameter(name='hidden_size_1', parameter_type=INT, range=[16, 128], log_scale=True), RangeParameter(name='hidden_size_2', parameter_type=INT, range=[16, 128], log_scale=True), RangeParameter(name='learning_rate', parameter_type=FLOAT, range=[0.0001, 0.01], log_scale=True), RangeParameter(name='dropout', parameter_type=FLOAT, range=[0.0, 0.5]), ChoiceParameter(name='batch_size', parameter_type=INT, values=[32, 64, 128, 256], is_ordered=True, sort_values=True), RangeParameter(name='epochs', parameter_type=INT, range=[1, 4])], parameter_constraints=[])\n"
     ]
    }
   ],
   "source": [
    "from ax.core import ChoiceParameter, ParameterType, RangeParameter, SearchSpace\n",
    "\n",
    "parameters = [\n",
    "    RangeParameter(\n",
    "        name=\"hidden_size_1\",\n",
    "        lower=16,\n",
    "        upper=128,\n",
    "        parameter_type=ParameterType.INT,\n",
    "        log_scale=True,\n",
    "    ),\n",
    "    RangeParameter(\n",
    "        name=\"hidden_size_2\",\n",
    "        lower=16,\n",
    "        upper=128,\n",
    "        parameter_type=ParameterType.INT,\n",
    "        log_scale=True,\n",
    "    ),\n",
    "    RangeParameter(\n",
    "        name=\"learning_rate\",\n",
    "        lower=0.0001,\n",
    "        upper=0.01,\n",
    "        parameter_type=ParameterType.FLOAT,\n",
    "        log_scale=True,\n",
    "    ),\n",
    "    RangeParameter(\n",
    "        name=\"dropout\", lower=0.0, upper=0.5, parameter_type=ParameterType.FLOAT\n",
    "    ),\n",
    "    ChoiceParameter(\n",
    "        name=\"batch_size\",\n",
    "        values=[32, 64, 128, 256],\n",
    "        parameter_type=ParameterType.INT,\n",
    "        is_ordered=True,\n",
    "        sort_values=True,\n",
    "    ),\n",
    "    RangeParameter(name=\"epochs\", lower=1, upper=4, parameter_type=ParameterType.INT),\n",
    "]\n",
    "\n",
    "search_space = SearchSpace(parameters=parameters, parameter_constraints=[])\n",
    "\n",
    "print(f'Search Space: {search_space}')"
   ]
  },
  {
   "cell_type": "markdown",
   "metadata": {},
   "source": [
    "# 4. Setup Metrics\n",
    "\n",
    "These metrics measure the quality of the trials."
   ]
  },
  {
   "cell_type": "markdown",
   "metadata": {},
   "source": [
    "## 4.1. Define a Container Class for the Metrics"
   ]
  },
  {
   "cell_type": "code",
   "execution_count": 4,
   "metadata": {},
   "outputs": [],
   "source": [
    "from ax.metrics.tensorboard import TensorboardCurveMetric\n",
    "\n",
    "class SearchMetric(TensorboardCurveMetric):\n",
    "    @classmethod\n",
    "    def get_ids_from_trials(cls, trials):\n",
    "        return {\n",
    "            trial.index: (Path(log_path) / str(trial.index)).as_posix()\n",
    "            for trial in trials\n",
    "        }\n",
    "\n",
    "    @classmethod\n",
    "    def is_available_while_running(cls):\n",
    "        return False\n",
    "\n",
    "# search_metric = SearchMetric('mnist', 'loss')\n",
    "# print(f'Search Metric: {search_metric}')"
   ]
  },
  {
   "cell_type": "markdown",
   "metadata": {},
   "source": [
    "## 4.2. Define seach quality metrics\n",
    "\n",
    "We will define the following metrics that cater to our multi-objective optimization target:\n",
    "- Validation Accuracy\n",
    "- Number of Model Parameters"
   ]
  },
  {
   "cell_type": "code",
   "execution_count": 5,
   "metadata": {},
   "outputs": [
    {
     "name": "stdout",
     "output_type": "stream",
     "text": [
      "Validation Accuracy: SearchMetric('val_acc')\n",
      "Number of Model Parameters: SearchMetric('num_params')\n"
     ]
    }
   ],
   "source": [
    "val_acc = SearchMetric(\n",
    "    name='val_acc',\n",
    "    curve_name='val_acc',\n",
    "    lower_is_better=False\n",
    ")\n",
    "\n",
    "num_model_parameters = SearchMetric(\n",
    "    name='num_params',\n",
    "    curve_name='num_params',\n",
    "    lower_is_better=True\n",
    ")\n",
    "\n",
    "print(f'Validation Accuracy: {val_acc}')\n",
    "print(f'Number of Model Parameters: {num_model_parameters}')"
   ]
  },
  {
   "cell_type": "code",
   "execution_count": 6,
   "metadata": {},
   "outputs": [],
   "source": [
    "# from ax.early_stopping.strategies import PercentileEarlyStoppingStrategy\n",
    "\n",
    "# percentile_early_stopping_strategy = PercentileEarlyStoppingStrategy(\n",
    "#     # stop if in bottom 70% of runs at the same progression\n",
    "#     percentile_threshold=70,\n",
    "#     # the trial must have passed `min_progression` steps before early stopping is initiated\n",
    "#     # note that we are using `normalize_progressions`, so this is on a scale of [0, 1]\n",
    "#     min_progression=0.3,\n",
    "#     # there must be `min_curves` completed trials and `min_curves` trials reporting data in\n",
    "#     # order for early stopping to be applicable\n",
    "#     min_curves=5,\n",
    "#     # specify, e.g., [0, 1] if the first two trials should never be stopped\n",
    "#     trial_indices_to_ignore=None,\n",
    "#     # check for new data every 10 seconds\n",
    "#     seconds_between_polls=10,\n",
    "#     normalize_progressions=True,\n",
    "# )\n",
    "\n",
    "# print(f'Early Stopping Strategy: {percentile_early_stopping_strategy}')"
   ]
  },
  {
   "cell_type": "markdown",
   "metadata": {},
   "source": [
    "# 5. Setup Optimization Configuration\n",
    "\n",
    "We'll setup the Multi-Objective Optimization configuration."
   ]
  },
  {
   "cell_type": "code",
   "execution_count": 7,
   "metadata": {},
   "outputs": [
    {
     "name": "stdout",
     "output_type": "stream",
     "text": [
      "Optimization Configuration: MultiObjectiveOptimizationConfig(objective=MultiObjective(objectives=[Objective(metric_name=\"val_acc\", minimize=False), Objective(metric_name=\"num_params\", minimize=True)]), outcome_constraints=[], objective_thresholds=[ObjectiveThreshold(val_acc >= 0.94), ObjectiveThreshold(num_params <= 80000)])\n"
     ]
    }
   ],
   "source": [
    "from ax.core import MultiObjective, Objective, ObjectiveThreshold\n",
    "from ax.core.optimization_config import MultiObjectiveOptimizationConfig\n",
    "\n",
    "optimization_config = MultiObjectiveOptimizationConfig(\n",
    "    objective=MultiObjective(\n",
    "        objectives=[\n",
    "            Objective(metric=val_acc, minimize=False),\n",
    "            Objective(metric=num_model_parameters, minimize=True)\n",
    "        ]\n",
    "    ),\n",
    "    objective_thresholds=[\n",
    "        ObjectiveThreshold(metric=val_acc, bound=0.94, relative=False),\n",
    "        ObjectiveThreshold(metric=num_model_parameters, bound=80_000, relative=False),\n",
    "    ]\n",
    ")\n",
    "\n",
    "print(f'Optimization Configuration: {optimization_config}')\n",
    "\n",
    "# from ax.core.optimization_config import OptimizationConfig\n",
    "\n",
    "# opt_config = OptimizationConfig(\n",
    "#     objective=Objective(\n",
    "#         metric=val_acc,\n",
    "#         minimize=False,\n",
    "#     )\n",
    "# )"
   ]
  },
  {
   "cell_type": "markdown",
   "metadata": {},
   "source": [
    "# 6. Create the Ax Experiment"
   ]
  },
  {
   "cell_type": "code",
   "execution_count": 8,
   "metadata": {},
   "outputs": [
    {
     "name": "stdout",
     "output_type": "stream",
     "text": [
      "Experiment: Experiment(torchx_mnist)\n"
     ]
    }
   ],
   "source": [
    "from ax.core import Experiment\n",
    "\n",
    "experiment = Experiment(\n",
    "    name='torchx_mnist',\n",
    "    search_space=search_space,\n",
    "    optimization_config=optimization_config,\n",
    "    # optimization_config=opt_config,\n",
    "    runner=ax_runner\n",
    ")\n",
    "\n",
    "print(f'Experiment: {experiment}')"
   ]
  },
  {
   "cell_type": "markdown",
   "metadata": {},
   "source": [
    "# 7. Choose a Generation Strategy\n",
    "\n",
    "A Generation Strategy describes the method to optimize search space. We'll let Ax automatically choose a generation strategy."
   ]
  },
  {
   "cell_type": "code",
   "execution_count": 9,
   "metadata": {},
   "outputs": [
    {
     "name": "stderr",
     "output_type": "stream",
     "text": [
      "[INFO 08-02 11:46:15] ax.modelbridge.dispatch_utils: Using Models.MOO since there are more ordered parameters than there are categories for the unordered categorical parameters.\n",
      "[INFO 08-02 11:46:15] ax.modelbridge.dispatch_utils: Calculating the number of remaining initialization trials based on num_initialization_trials=None max_initialization_trials=None num_tunable_parameters=6 num_trials=2 use_batch_trials=False\n",
      "[INFO 08-02 11:46:15] ax.modelbridge.dispatch_utils: calculated num_initialization_trials=5\n",
      "[INFO 08-02 11:46:15] ax.modelbridge.dispatch_utils: num_completed_initialization_trials=0 num_remaining_initialization_trials=5\n",
      "[INFO 08-02 11:46:15] ax.modelbridge.dispatch_utils: Using Bayesian Optimization generation strategy: GenerationStrategy(name='Sobol+MOO', steps=[Sobol for 5 trials, MOO for subsequent trials]). Iterations after 5 will take longer to generate due to model-fitting.\n"
     ]
    },
    {
     "name": "stdout",
     "output_type": "stream",
     "text": [
      "Generation Strategy: GenerationStrategy(name='Sobol+MOO', steps=[Sobol for 5 trials, MOO for subsequent trials])\n"
     ]
    }
   ],
   "source": [
    "from ax.modelbridge.dispatch_utils import choose_generation_strategy\n",
    "\n",
    "# 1. Configure the total number of trials in the experiment.\n",
    "# TOTAL_TRIALS = 48\n",
    "TOTAL_TRIALS = 2\n",
    "\n",
    "# 2. Choose a generation strategy\n",
    "gen_strategy = choose_generation_strategy(\n",
    "    search_space=experiment.search_space,\n",
    "    optimization_config=experiment.optimization_config,\n",
    "    num_trials=TOTAL_TRIALS\n",
    ")\n",
    "\n",
    "print(f'Generation Strategy: {gen_strategy}')"
   ]
  },
  {
   "cell_type": "markdown",
   "metadata": {},
   "source": [
    "# 8. Configure a Scheduler\n",
    "\n",
    "A scheduler controls the optimization loop. It communicates with the backend to launch trials, check their status, and retrieve results."
   ]
  },
  {
   "cell_type": "code",
   "execution_count": 10,
   "metadata": {},
   "outputs": [
    {
     "name": "stderr",
     "output_type": "stream",
     "text": [
      "[INFO 08-02 11:46:15] Scheduler: `Scheduler` requires experiment to have immutable search space and optimization config. Setting property immutable_search_space_and_opt_config to `True` on experiment.\n"
     ]
    },
    {
     "name": "stdout",
     "output_type": "stream",
     "text": [
      "Scheduler: Scheduler(experiment=Experiment(torchx_mnist), generation_strategy=GenerationStrategy(name='Sobol+MOO', steps=[Sobol for 5 trials, MOO for subsequent trials]), options=SchedulerOptions(max_pending_trials=4, trial_type=<TrialType.TRIAL: 0>, batch_size=None, total_trials=2, tolerated_trial_failure_rate=0.5, min_failed_trials_for_failure_rate_check=5, log_filepath=None, logging_level='DEBUG', ttl_seconds_for_trials=None, init_seconds_between_polls=1, min_seconds_before_poll=1.0, seconds_between_polls_backoff_factor=1.5, timeout_hours=None, run_trials_in_batches=False, debug_log_run_metadata=False, early_stopping_strategy=None, global_stopping_strategy=None, suppress_storage_errors_after_retries=False))\n"
     ]
    }
   ],
   "source": [
    "from ax.service.scheduler import Scheduler, SchedulerOptions\n",
    "\n",
    "scheduler = Scheduler(\n",
    "    experiment=experiment,\n",
    "    generation_strategy=gen_strategy,\n",
    "    options=SchedulerOptions(total_trials=TOTAL_TRIALS, max_pending_trials=4, logging_level='DEBUG')\n",
    ")\n",
    "\n",
    "print(f'Scheduler: {scheduler}')"
   ]
  },
  {
   "cell_type": "code",
   "execution_count": null,
   "metadata": {},
   "outputs": [],
   "source": [
    "# ! wget https://raw.githubusercontent.com/pytorch/tutorials/main/intermediate_source/ax_multiobjective_nas_tutorial.py\n",
    "# ! python ax_multiobjective_nas_tutorial.py  \n",
    "# ! python mnist_train_nas.py --log_path='trials/0/' --hidden_size_1 20 --hidden_size_2 20 --learning_rate 0.01 --epochs 2 --dropout 0.1 --batch_size 32"
   ]
  },
  {
   "cell_type": "markdown",
   "metadata": {},
   "source": [
    "# 9. Run Trials"
   ]
  },
  {
   "cell_type": "code",
   "execution_count": 11,
   "metadata": {},
   "outputs": [
    {
     "name": "stderr",
     "output_type": "stream",
     "text": [
      "[INFO 08-02 11:46:15] Scheduler: Running trials [0]...\n",
      "[DEBUG 08-02 11:46:15] ax.service.utils.with_db_settings_base: Saving or updating 1 trials in DB.\n",
      "[DEBUG 08-02 11:46:15] ax.service.utils.with_db_settings_base: Updating generation strategy in DB with 1 generator runs.\n",
      "[INFO 08-02 11:46:15] Scheduler: Running trials [1]...\n",
      "[DEBUG 08-02 11:46:15] ax.service.utils.with_db_settings_base: Saving or updating 1 trials in DB.\n",
      "[DEBUG 08-02 11:46:15] ax.service.utils.with_db_settings_base: Updating generation strategy in DB with 1 generator runs.\n",
      "[INFO 08-02 11:46:15] Scheduler: Waiting for completed trials (for 1 sec, currently running trials: 2).\n"
     ]
    },
    {
     "name": "stderr",
     "output_type": "stream",
     "text": [
      "[INFO 08-02 11:46:16] Scheduler: Waiting for completed trials (for 1.5 sec, currently running trials: 2).\n",
      "[INFO 08-02 11:46:18] Scheduler: Waiting for completed trials (for 2 sec, currently running trials: 2).\n",
      "[INFO 08-02 11:46:20] Scheduler: Waiting for completed trials (for 3 sec, currently running trials: 2).\n",
      "[INFO 08-02 11:46:23] Scheduler: Waiting for completed trials (for 5 sec, currently running trials: 2).\n",
      "[INFO 08-02 11:46:28] Scheduler: Waiting for completed trials (for 7 sec, currently running trials: 2).\n",
      "[INFO 08-02 11:46:36] Scheduler: Waiting for completed trials (for 11 sec, currently running trials: 2).\n",
      "[INFO 08-02 11:46:48] Scheduler: Retrieved COMPLETED trials: 0 - 1.\n",
      "[INFO 08-02 11:46:48] Scheduler: Fetching data for trials: 0 - 1.\n"
     ]
    },
    {
     "data": {
      "text/plain": [
       "OptimizationResult()"
      ]
     },
     "execution_count": 11,
     "metadata": {},
     "output_type": "execute_result"
    }
   ],
   "source": [
    "scheduler.run_all_trials()"
   ]
  },
  {
   "cell_type": "markdown",
   "metadata": {},
   "source": [
    "# 10. Evaluating Results"
   ]
  },
  {
   "cell_type": "markdown",
   "metadata": {},
   "source": [
    "## 10.1. Experiment Summary"
   ]
  },
  {
   "cell_type": "code",
   "execution_count": 12,
   "metadata": {},
   "outputs": [
    {
     "data": {
      "text/html": [
       "<div>\n",
       "<style scoped>\n",
       "    .dataframe tbody tr th:only-of-type {\n",
       "        vertical-align: middle;\n",
       "    }\n",
       "\n",
       "    .dataframe tbody tr th {\n",
       "        vertical-align: top;\n",
       "    }\n",
       "\n",
       "    .dataframe thead th {\n",
       "        text-align: right;\n",
       "    }\n",
       "</style>\n",
       "<table border=\"1\" class=\"dataframe\">\n",
       "  <thead>\n",
       "    <tr style=\"text-align: right;\">\n",
       "      <th></th>\n",
       "      <th>trial_index</th>\n",
       "      <th>arm_name</th>\n",
       "      <th>trial_status</th>\n",
       "      <th>generation_method</th>\n",
       "      <th>num_params</th>\n",
       "      <th>val_acc</th>\n",
       "      <th>is_feasible</th>\n",
       "      <th>hidden_size_1</th>\n",
       "      <th>hidden_size_2</th>\n",
       "      <th>learning_rate</th>\n",
       "      <th>dropout</th>\n",
       "      <th>batch_size</th>\n",
       "      <th>epochs</th>\n",
       "    </tr>\n",
       "  </thead>\n",
       "  <tbody>\n",
       "    <tr>\n",
       "      <th>0</th>\n",
       "      <td>0</td>\n",
       "      <td>0_0</td>\n",
       "      <td>COMPLETED</td>\n",
       "      <td>Sobol</td>\n",
       "      <td>23804.0</td>\n",
       "      <td>0.909035</td>\n",
       "      <td>False</td>\n",
       "      <td>26</td>\n",
       "      <td>95</td>\n",
       "      <td>0.002439</td>\n",
       "      <td>0.249959</td>\n",
       "      <td>32</td>\n",
       "      <td>1</td>\n",
       "    </tr>\n",
       "    <tr>\n",
       "      <th>1</th>\n",
       "      <td>1</td>\n",
       "      <td>1_0</td>\n",
       "      <td>COMPLETED</td>\n",
       "      <td>Sobol</td>\n",
       "      <td>88323.0</td>\n",
       "      <td>0.949558</td>\n",
       "      <td>False</td>\n",
       "      <td>103</td>\n",
       "      <td>67</td>\n",
       "      <td>0.000268</td>\n",
       "      <td>0.030802</td>\n",
       "      <td>128</td>\n",
       "      <td>3</td>\n",
       "    </tr>\n",
       "  </tbody>\n",
       "</table>\n",
       "</div>"
      ],
      "text/plain": [
       "   trial_index arm_name trial_status generation_method  num_params   val_acc  \\\n",
       "0            0      0_0    COMPLETED             Sobol     23804.0  0.909035   \n",
       "1            1      1_0    COMPLETED             Sobol     88323.0  0.949558   \n",
       "\n",
       "   is_feasible  hidden_size_1  hidden_size_2  learning_rate   dropout  \\\n",
       "0        False             26             95       0.002439  0.249959   \n",
       "1        False            103             67       0.000268  0.030802   \n",
       "\n",
       "   batch_size  epochs  \n",
       "0          32       1  \n",
       "1         128       3  "
      ]
     },
     "execution_count": 12,
     "metadata": {},
     "output_type": "execute_result"
    }
   ],
   "source": [
    "from ax.service.utils.report_utils import exp_to_df\n",
    "\n",
    "df = exp_to_df(experiment)\n",
    "df.head(10)"
   ]
  },
  {
   "cell_type": "markdown",
   "metadata": {},
   "source": [
    "## 10.2. Pareto Frontier of Trade-Offs between Validation Accuracy and Model Size"
   ]
  },
  {
   "cell_type": "code",
   "execution_count": 13,
   "metadata": {},
   "outputs": [
    {
     "data": {
      "application/vnd.plotly.v1+json": {
       "config": {
        "plotlyServerURL": "https://plot.ly"
       },
       "data": [
        {
         "hovertemplate": "%{text}",
         "marker": {
          "color": [
           0,
           100
          ],
          "colorbar": {
           "ticktext": [
            1,
            "iteration",
            2
           ],
           "tickvals": [
            0,
            50,
            100
           ]
          },
          "colorscale": [
           [
            0,
            "#000004"
           ],
           [
            0.1111111111111111,
            "#180f3d"
           ],
           [
            0.2222222222222222,
            "#440f76"
           ],
           [
            0.3333333333333333,
            "#721f81"
           ],
           [
            0.4444444444444444,
            "#9e2f7f"
           ],
           [
            0.5555555555555556,
            "#cd4071"
           ],
           [
            0.6666666666666666,
            "#f1605d"
           ],
           [
            0.7777777777777778,
            "#fd9668"
           ],
           [
            0.8888888888888888,
            "#feca8d"
           ],
           [
            1,
            "#fcfdbf"
           ]
          ]
         },
         "mode": "markers",
         "name": "Experimental points",
         "text": [
          "Arm name: 0_0",
          "Arm name: 1_0"
         ],
         "type": "scatter",
         "x": [
          0.909035325050354,
          0.9495584964752197
         ],
         "y": [
          23804,
          88323
         ]
        }
       ],
       "layout": {
        "showlegend": false,
        "template": {
         "data": {
          "bar": [
           {
            "error_x": {
             "color": "#2a3f5f"
            },
            "error_y": {
             "color": "#2a3f5f"
            },
            "marker": {
             "line": {
              "color": "#E5ECF6",
              "width": 0.5
             },
             "pattern": {
              "fillmode": "overlay",
              "size": 10,
              "solidity": 0.2
             }
            },
            "type": "bar"
           }
          ],
          "barpolar": [
           {
            "marker": {
             "line": {
              "color": "#E5ECF6",
              "width": 0.5
             },
             "pattern": {
              "fillmode": "overlay",
              "size": 10,
              "solidity": 0.2
             }
            },
            "type": "barpolar"
           }
          ],
          "carpet": [
           {
            "aaxis": {
             "endlinecolor": "#2a3f5f",
             "gridcolor": "white",
             "linecolor": "white",
             "minorgridcolor": "white",
             "startlinecolor": "#2a3f5f"
            },
            "baxis": {
             "endlinecolor": "#2a3f5f",
             "gridcolor": "white",
             "linecolor": "white",
             "minorgridcolor": "white",
             "startlinecolor": "#2a3f5f"
            },
            "type": "carpet"
           }
          ],
          "choropleth": [
           {
            "colorbar": {
             "outlinewidth": 0,
             "ticks": ""
            },
            "type": "choropleth"
           }
          ],
          "contour": [
           {
            "colorbar": {
             "outlinewidth": 0,
             "ticks": ""
            },
            "colorscale": [
             [
              0,
              "#0d0887"
             ],
             [
              0.1111111111111111,
              "#46039f"
             ],
             [
              0.2222222222222222,
              "#7201a8"
             ],
             [
              0.3333333333333333,
              "#9c179e"
             ],
             [
              0.4444444444444444,
              "#bd3786"
             ],
             [
              0.5555555555555556,
              "#d8576b"
             ],
             [
              0.6666666666666666,
              "#ed7953"
             ],
             [
              0.7777777777777778,
              "#fb9f3a"
             ],
             [
              0.8888888888888888,
              "#fdca26"
             ],
             [
              1,
              "#f0f921"
             ]
            ],
            "type": "contour"
           }
          ],
          "contourcarpet": [
           {
            "colorbar": {
             "outlinewidth": 0,
             "ticks": ""
            },
            "type": "contourcarpet"
           }
          ],
          "heatmap": [
           {
            "colorbar": {
             "outlinewidth": 0,
             "ticks": ""
            },
            "colorscale": [
             [
              0,
              "#0d0887"
             ],
             [
              0.1111111111111111,
              "#46039f"
             ],
             [
              0.2222222222222222,
              "#7201a8"
             ],
             [
              0.3333333333333333,
              "#9c179e"
             ],
             [
              0.4444444444444444,
              "#bd3786"
             ],
             [
              0.5555555555555556,
              "#d8576b"
             ],
             [
              0.6666666666666666,
              "#ed7953"
             ],
             [
              0.7777777777777778,
              "#fb9f3a"
             ],
             [
              0.8888888888888888,
              "#fdca26"
             ],
             [
              1,
              "#f0f921"
             ]
            ],
            "type": "heatmap"
           }
          ],
          "heatmapgl": [
           {
            "colorbar": {
             "outlinewidth": 0,
             "ticks": ""
            },
            "colorscale": [
             [
              0,
              "#0d0887"
             ],
             [
              0.1111111111111111,
              "#46039f"
             ],
             [
              0.2222222222222222,
              "#7201a8"
             ],
             [
              0.3333333333333333,
              "#9c179e"
             ],
             [
              0.4444444444444444,
              "#bd3786"
             ],
             [
              0.5555555555555556,
              "#d8576b"
             ],
             [
              0.6666666666666666,
              "#ed7953"
             ],
             [
              0.7777777777777778,
              "#fb9f3a"
             ],
             [
              0.8888888888888888,
              "#fdca26"
             ],
             [
              1,
              "#f0f921"
             ]
            ],
            "type": "heatmapgl"
           }
          ],
          "histogram": [
           {
            "marker": {
             "pattern": {
              "fillmode": "overlay",
              "size": 10,
              "solidity": 0.2
             }
            },
            "type": "histogram"
           }
          ],
          "histogram2d": [
           {
            "colorbar": {
             "outlinewidth": 0,
             "ticks": ""
            },
            "colorscale": [
             [
              0,
              "#0d0887"
             ],
             [
              0.1111111111111111,
              "#46039f"
             ],
             [
              0.2222222222222222,
              "#7201a8"
             ],
             [
              0.3333333333333333,
              "#9c179e"
             ],
             [
              0.4444444444444444,
              "#bd3786"
             ],
             [
              0.5555555555555556,
              "#d8576b"
             ],
             [
              0.6666666666666666,
              "#ed7953"
             ],
             [
              0.7777777777777778,
              "#fb9f3a"
             ],
             [
              0.8888888888888888,
              "#fdca26"
             ],
             [
              1,
              "#f0f921"
             ]
            ],
            "type": "histogram2d"
           }
          ],
          "histogram2dcontour": [
           {
            "colorbar": {
             "outlinewidth": 0,
             "ticks": ""
            },
            "colorscale": [
             [
              0,
              "#0d0887"
             ],
             [
              0.1111111111111111,
              "#46039f"
             ],
             [
              0.2222222222222222,
              "#7201a8"
             ],
             [
              0.3333333333333333,
              "#9c179e"
             ],
             [
              0.4444444444444444,
              "#bd3786"
             ],
             [
              0.5555555555555556,
              "#d8576b"
             ],
             [
              0.6666666666666666,
              "#ed7953"
             ],
             [
              0.7777777777777778,
              "#fb9f3a"
             ],
             [
              0.8888888888888888,
              "#fdca26"
             ],
             [
              1,
              "#f0f921"
             ]
            ],
            "type": "histogram2dcontour"
           }
          ],
          "mesh3d": [
           {
            "colorbar": {
             "outlinewidth": 0,
             "ticks": ""
            },
            "type": "mesh3d"
           }
          ],
          "parcoords": [
           {
            "line": {
             "colorbar": {
              "outlinewidth": 0,
              "ticks": ""
             }
            },
            "type": "parcoords"
           }
          ],
          "pie": [
           {
            "automargin": true,
            "type": "pie"
           }
          ],
          "scatter": [
           {
            "fillpattern": {
             "fillmode": "overlay",
             "size": 10,
             "solidity": 0.2
            },
            "type": "scatter"
           }
          ],
          "scatter3d": [
           {
            "line": {
             "colorbar": {
              "outlinewidth": 0,
              "ticks": ""
             }
            },
            "marker": {
             "colorbar": {
              "outlinewidth": 0,
              "ticks": ""
             }
            },
            "type": "scatter3d"
           }
          ],
          "scattercarpet": [
           {
            "marker": {
             "colorbar": {
              "outlinewidth": 0,
              "ticks": ""
             }
            },
            "type": "scattercarpet"
           }
          ],
          "scattergeo": [
           {
            "marker": {
             "colorbar": {
              "outlinewidth": 0,
              "ticks": ""
             }
            },
            "type": "scattergeo"
           }
          ],
          "scattergl": [
           {
            "marker": {
             "colorbar": {
              "outlinewidth": 0,
              "ticks": ""
             }
            },
            "type": "scattergl"
           }
          ],
          "scattermapbox": [
           {
            "marker": {
             "colorbar": {
              "outlinewidth": 0,
              "ticks": ""
             }
            },
            "type": "scattermapbox"
           }
          ],
          "scatterpolar": [
           {
            "marker": {
             "colorbar": {
              "outlinewidth": 0,
              "ticks": ""
             }
            },
            "type": "scatterpolar"
           }
          ],
          "scatterpolargl": [
           {
            "marker": {
             "colorbar": {
              "outlinewidth": 0,
              "ticks": ""
             }
            },
            "type": "scatterpolargl"
           }
          ],
          "scatterternary": [
           {
            "marker": {
             "colorbar": {
              "outlinewidth": 0,
              "ticks": ""
             }
            },
            "type": "scatterternary"
           }
          ],
          "surface": [
           {
            "colorbar": {
             "outlinewidth": 0,
             "ticks": ""
            },
            "colorscale": [
             [
              0,
              "#0d0887"
             ],
             [
              0.1111111111111111,
              "#46039f"
             ],
             [
              0.2222222222222222,
              "#7201a8"
             ],
             [
              0.3333333333333333,
              "#9c179e"
             ],
             [
              0.4444444444444444,
              "#bd3786"
             ],
             [
              0.5555555555555556,
              "#d8576b"
             ],
             [
              0.6666666666666666,
              "#ed7953"
             ],
             [
              0.7777777777777778,
              "#fb9f3a"
             ],
             [
              0.8888888888888888,
              "#fdca26"
             ],
             [
              1,
              "#f0f921"
             ]
            ],
            "type": "surface"
           }
          ],
          "table": [
           {
            "cells": {
             "fill": {
              "color": "#EBF0F8"
             },
             "line": {
              "color": "white"
             }
            },
            "header": {
             "fill": {
              "color": "#C8D4E3"
             },
             "line": {
              "color": "white"
             }
            },
            "type": "table"
           }
          ]
         },
         "layout": {
          "annotationdefaults": {
           "arrowcolor": "#2a3f5f",
           "arrowhead": 0,
           "arrowwidth": 1
          },
          "autotypenumbers": "strict",
          "coloraxis": {
           "colorbar": {
            "outlinewidth": 0,
            "ticks": ""
           }
          },
          "colorscale": {
           "diverging": [
            [
             0,
             "#8e0152"
            ],
            [
             0.1,
             "#c51b7d"
            ],
            [
             0.2,
             "#de77ae"
            ],
            [
             0.3,
             "#f1b6da"
            ],
            [
             0.4,
             "#fde0ef"
            ],
            [
             0.5,
             "#f7f7f7"
            ],
            [
             0.6,
             "#e6f5d0"
            ],
            [
             0.7,
             "#b8e186"
            ],
            [
             0.8,
             "#7fbc41"
            ],
            [
             0.9,
             "#4d9221"
            ],
            [
             1,
             "#276419"
            ]
           ],
           "sequential": [
            [
             0,
             "#0d0887"
            ],
            [
             0.1111111111111111,
             "#46039f"
            ],
            [
             0.2222222222222222,
             "#7201a8"
            ],
            [
             0.3333333333333333,
             "#9c179e"
            ],
            [
             0.4444444444444444,
             "#bd3786"
            ],
            [
             0.5555555555555556,
             "#d8576b"
            ],
            [
             0.6666666666666666,
             "#ed7953"
            ],
            [
             0.7777777777777778,
             "#fb9f3a"
            ],
            [
             0.8888888888888888,
             "#fdca26"
            ],
            [
             1,
             "#f0f921"
            ]
           ],
           "sequentialminus": [
            [
             0,
             "#0d0887"
            ],
            [
             0.1111111111111111,
             "#46039f"
            ],
            [
             0.2222222222222222,
             "#7201a8"
            ],
            [
             0.3333333333333333,
             "#9c179e"
            ],
            [
             0.4444444444444444,
             "#bd3786"
            ],
            [
             0.5555555555555556,
             "#d8576b"
            ],
            [
             0.6666666666666666,
             "#ed7953"
            ],
            [
             0.7777777777777778,
             "#fb9f3a"
            ],
            [
             0.8888888888888888,
             "#fdca26"
            ],
            [
             1,
             "#f0f921"
            ]
           ]
          },
          "colorway": [
           "#636efa",
           "#EF553B",
           "#00cc96",
           "#ab63fa",
           "#FFA15A",
           "#19d3f3",
           "#FF6692",
           "#B6E880",
           "#FF97FF",
           "#FECB52"
          ],
          "font": {
           "color": "#2a3f5f"
          },
          "geo": {
           "bgcolor": "white",
           "lakecolor": "white",
           "landcolor": "#E5ECF6",
           "showlakes": true,
           "showland": true,
           "subunitcolor": "white"
          },
          "hoverlabel": {
           "align": "left"
          },
          "hovermode": "closest",
          "mapbox": {
           "style": "light"
          },
          "paper_bgcolor": "white",
          "plot_bgcolor": "#E5ECF6",
          "polar": {
           "angularaxis": {
            "gridcolor": "white",
            "linecolor": "white",
            "ticks": ""
           },
           "bgcolor": "#E5ECF6",
           "radialaxis": {
            "gridcolor": "white",
            "linecolor": "white",
            "ticks": ""
           }
          },
          "scene": {
           "xaxis": {
            "backgroundcolor": "#E5ECF6",
            "gridcolor": "white",
            "gridwidth": 2,
            "linecolor": "white",
            "showbackground": true,
            "ticks": "",
            "zerolinecolor": "white"
           },
           "yaxis": {
            "backgroundcolor": "#E5ECF6",
            "gridcolor": "white",
            "gridwidth": 2,
            "linecolor": "white",
            "showbackground": true,
            "ticks": "",
            "zerolinecolor": "white"
           },
           "zaxis": {
            "backgroundcolor": "#E5ECF6",
            "gridcolor": "white",
            "gridwidth": 2,
            "linecolor": "white",
            "showbackground": true,
            "ticks": "",
            "zerolinecolor": "white"
           }
          },
          "shapedefaults": {
           "line": {
            "color": "#2a3f5f"
           }
          },
          "ternary": {
           "aaxis": {
            "gridcolor": "white",
            "linecolor": "white",
            "ticks": ""
           },
           "baxis": {
            "gridcolor": "white",
            "linecolor": "white",
            "ticks": ""
           },
           "bgcolor": "#E5ECF6",
           "caxis": {
            "gridcolor": "white",
            "linecolor": "white",
            "ticks": ""
           }
          },
          "title": {
           "x": 0.05
          },
          "xaxis": {
           "automargin": true,
           "gridcolor": "white",
           "linecolor": "white",
           "ticks": "",
           "title": {
            "standoff": 15
           },
           "zerolinecolor": "white",
           "zerolinewidth": 2
          },
          "yaxis": {
           "automargin": true,
           "gridcolor": "white",
           "linecolor": "white",
           "ticks": "",
           "title": {
            "standoff": 15
           },
           "zerolinecolor": "white",
           "zerolinewidth": 2
          }
         }
        },
        "title": {
         "text": "Observed metric values"
        },
        "xaxis": {
         "range": [
          0.9049830079078675,
          0.9536108136177063
         ],
         "title": {
          "text": "val_acc"
         }
        },
        "yaxis": {
         "range": [
          17352.1,
          94774.9
         ],
         "title": {
          "text": "num_params"
         }
        }
       }
      }
     },
     "metadata": {},
     "output_type": "display_data"
    }
   ],
   "source": [
    "from ax.service.utils.report_utils import _pareto_frontier_scatter_2d_plotly\n",
    "\n",
    "_pareto_frontier_scatter_2d_plotly(experiment)"
   ]
  },
  {
   "cell_type": "markdown",
   "metadata": {},
   "source": [
    "## 10.3. Cross-Validation of Surrogate Model Predictions with Actual Outcomes"
   ]
  },
  {
   "cell_type": "code",
   "execution_count": 15,
   "metadata": {},
   "outputs": [
    {
     "ename": "ValueError",
     "evalue": "RandomModelBridge has no training data.  Either it has been incorrectly initialized or should not be cross validated.",
     "output_type": "error",
     "traceback": [
      "\u001b[0;31m---------------------------------------------------------------------------\u001b[0m",
      "\u001b[0;31mValueError\u001b[0m                                Traceback (most recent call last)",
      "Cell \u001b[0;32mIn[15], line 5\u001b[0m\n\u001b[1;32m      2\u001b[0m \u001b[39mfrom\u001b[39;00m \u001b[39max\u001b[39;00m\u001b[39m.\u001b[39;00m\u001b[39mplot\u001b[39;00m\u001b[39m.\u001b[39;00m\u001b[39mdiagnostic\u001b[39;00m \u001b[39mimport\u001b[39;00m interact_cross_validation_plotly\n\u001b[1;32m      3\u001b[0m \u001b[39mfrom\u001b[39;00m \u001b[39max\u001b[39;00m\u001b[39m.\u001b[39;00m\u001b[39mutils\u001b[39;00m\u001b[39m.\u001b[39;00m\u001b[39mnotebook\u001b[39;00m\u001b[39m.\u001b[39;00m\u001b[39mplotting\u001b[39;00m \u001b[39mimport\u001b[39;00m init_notebook_plotting, render\n\u001b[0;32m----> 5\u001b[0m cv \u001b[39m=\u001b[39m cross_validate(model\u001b[39m=\u001b[39;49mgen_strategy\u001b[39m.\u001b[39;49mmodel)  \u001b[39m# The surrogate model is stored on the ``GenerationStrategy``\u001b[39;00m\n\u001b[1;32m      6\u001b[0m compute_diagnostics(cv)\n\u001b[1;32m      8\u001b[0m interact_cross_validation_plotly(cv)\n",
      "File \u001b[0;32m~/.venv-torch/lib/python3.10/site-packages/ax/modelbridge/cross_validation.py:115\u001b[0m, in \u001b[0;36mcross_validate\u001b[0;34m(model, folds, test_selector)\u001b[0m\n\u001b[1;32m    113\u001b[0m     \u001b[39mraise\u001b[39;00m \u001b[39mValueError\u001b[39;00m(\u001b[39mf\u001b[39m\u001b[39m\"\u001b[39m\u001b[39mTraining data only has \u001b[39m\u001b[39m{\u001b[39;00mn\u001b[39m}\u001b[39;00m\u001b[39m arms, which is less than folds\u001b[39m\u001b[39m\"\u001b[39m)\n\u001b[1;32m    114\u001b[0m \u001b[39melif\u001b[39;00m n \u001b[39m==\u001b[39m \u001b[39m0\u001b[39m:\n\u001b[0;32m--> 115\u001b[0m     \u001b[39mraise\u001b[39;00m \u001b[39mValueError\u001b[39;00m(\n\u001b[1;32m    116\u001b[0m         \u001b[39mf\u001b[39m\u001b[39m\"\u001b[39m\u001b[39m{\u001b[39;00mmodel\u001b[39m.\u001b[39m\u001b[39m__class__\u001b[39m\u001b[39m.\u001b[39m\u001b[39m__name__\u001b[39m\u001b[39m}\u001b[39;00m\u001b[39m has no training data.  Either it has been \u001b[39m\u001b[39m\"\u001b[39m\n\u001b[1;32m    117\u001b[0m         \u001b[39m\"\u001b[39m\u001b[39mincorrectly initialized or should not be cross validated.\u001b[39m\u001b[39m\"\u001b[39m\n\u001b[1;32m    118\u001b[0m     )\n\u001b[1;32m    119\u001b[0m \u001b[39melif\u001b[39;00m folds \u001b[39m<\u001b[39m \u001b[39m2\u001b[39m \u001b[39mand\u001b[39;00m folds \u001b[39m!=\u001b[39m \u001b[39m-\u001b[39m\u001b[39m1\u001b[39m:\n\u001b[1;32m    120\u001b[0m     \u001b[39mraise\u001b[39;00m \u001b[39mValueError\u001b[39;00m(\u001b[39m\"\u001b[39m\u001b[39mFolds must be -1 for LOO, or > 1.\u001b[39m\u001b[39m\"\u001b[39m)\n",
      "\u001b[0;31mValueError\u001b[0m: RandomModelBridge has no training data.  Either it has been incorrectly initialized or should not be cross validated."
     ]
    }
   ],
   "source": [
    "from ax.modelbridge.cross_validation import compute_diagnostics, cross_validate\n",
    "from ax.plot.diagnostic import interact_cross_validation_plotly\n",
    "from ax.utils.notebook.plotting import init_notebook_plotting, render\n",
    "\n",
    "cv = cross_validate(model=gen_strategy.model)  # The surrogate model is stored on the ``GenerationStrategy``\n",
    "compute_diagnostics(cv)\n",
    "\n",
    "interact_cross_validation_plotly(cv)"
   ]
  },
  {
   "cell_type": "markdown",
   "metadata": {},
   "source": [
    "## 10.4. Contour Plots of Two Inputs and their Impact on the Objectives"
   ]
  },
  {
   "cell_type": "markdown",
   "metadata": {},
   "source": [
    "### 10.4.1 Contour Plot for Validation Accuracy"
   ]
  },
  {
   "cell_type": "code",
   "execution_count": 17,
   "metadata": {},
   "outputs": [
    {
     "name": "stderr",
     "output_type": "stream",
     "text": [
      "/Users/broxoli/.venv-torch/lib/python3.10/site-packages/numpy/core/fromnumeric.py:3504: RuntimeWarning:\n",
      "\n",
      "Mean of empty slice.\n",
      "\n",
      "/Users/broxoli/.venv-torch/lib/python3.10/site-packages/numpy/core/_methods.py:129: RuntimeWarning:\n",
      "\n",
      "invalid value encountered in scalar divide\n",
      "\n"
     ]
    },
    {
     "ename": "ValueError",
     "evalue": "cannot convert float NaN to integer",
     "output_type": "error",
     "traceback": [
      "\u001b[0;31m---------------------------------------------------------------------------\u001b[0m",
      "\u001b[0;31mValueError\u001b[0m                                Traceback (most recent call last)",
      "Cell \u001b[0;32mIn[17], line 3\u001b[0m\n\u001b[1;32m      1\u001b[0m \u001b[39mfrom\u001b[39;00m \u001b[39max\u001b[39;00m\u001b[39m.\u001b[39;00m\u001b[39mplot\u001b[39;00m\u001b[39m.\u001b[39;00m\u001b[39mcontour\u001b[39;00m \u001b[39mimport\u001b[39;00m interact_contour_plotly\n\u001b[0;32m----> 3\u001b[0m interact_contour_plotly(model\u001b[39m=\u001b[39;49mgen_strategy\u001b[39m.\u001b[39;49mmodel, metric_name\u001b[39m=\u001b[39;49m\u001b[39m\"\u001b[39;49m\u001b[39mval_acc\u001b[39;49m\u001b[39m\"\u001b[39;49m)\n",
      "File \u001b[0;32m~/.venv-torch/lib/python3.10/site-packages/ax/plot/contour.py:409\u001b[0m, in \u001b[0;36minteract_contour_plotly\u001b[0;34m(model, metric_name, generator_runs_dict, relative, density, slice_values, lower_is_better, fixed_features, trial_index)\u001b[0m\n\u001b[1;32m    407\u001b[0m \u001b[39mfor\u001b[39;00m param1 \u001b[39min\u001b[39;00m param_names:\n\u001b[1;32m    408\u001b[0m     \u001b[39mfor\u001b[39;00m param2 \u001b[39min\u001b[39;00m param_names:\n\u001b[0;32m--> 409\u001b[0m         _, f_plt, sd_plt, _, _, _ \u001b[39m=\u001b[39m _get_contour_predictions(\n\u001b[1;32m    410\u001b[0m             model\u001b[39m=\u001b[39;49mmodel,\n\u001b[1;32m    411\u001b[0m             x_param_name\u001b[39m=\u001b[39;49mparam1,\n\u001b[1;32m    412\u001b[0m             y_param_name\u001b[39m=\u001b[39;49mparam2,\n\u001b[1;32m    413\u001b[0m             metric\u001b[39m=\u001b[39;49mmetric_name,\n\u001b[1;32m    414\u001b[0m             generator_runs_dict\u001b[39m=\u001b[39;49mgenerator_runs_dict,\n\u001b[1;32m    415\u001b[0m             density\u001b[39m=\u001b[39;49mdensity,\n\u001b[1;32m    416\u001b[0m             slice_values\u001b[39m=\u001b[39;49mslice_values,\n\u001b[1;32m    417\u001b[0m             fixed_features\u001b[39m=\u001b[39;49mfixed_features,\n\u001b[1;32m    418\u001b[0m         )\n\u001b[1;32m    419\u001b[0m         f_dict[param1][param2] \u001b[39m=\u001b[39m f_plt\n\u001b[1;32m    420\u001b[0m         sd_dict[param1][param2] \u001b[39m=\u001b[39m sd_plt\n",
      "File \u001b[0;32m~/.venv-torch/lib/python3.10/site-packages/ax/plot/contour.py:87\u001b[0m, in \u001b[0;36m_get_contour_predictions\u001b[0;34m(model, x_param_name, y_param_name, metric, generator_runs_dict, density, slice_values, fixed_features)\u001b[0m\n\u001b[1;32m     84\u001b[0m \u001b[39melse\u001b[39;00m:\n\u001b[1;32m     85\u001b[0m     fixed_features \u001b[39m=\u001b[39m ObservationFeatures(parameters\u001b[39m=\u001b[39m{})\n\u001b[0;32m---> 87\u001b[0m fixed_values \u001b[39m=\u001b[39m get_fixed_values(model, slice_values)\n\u001b[1;32m     89\u001b[0m param_grid_obsf \u001b[39m=\u001b[39m []\n\u001b[1;32m     90\u001b[0m \u001b[39mfor\u001b[39;00m i \u001b[39min\u001b[39;00m \u001b[39mrange\u001b[39m(density\u001b[39m*\u001b[39m\u001b[39m*\u001b[39m\u001b[39m2\u001b[39m):\n",
      "File \u001b[0;32m~/.venv-torch/lib/python3.10/site-packages/ax/plot/helper.py:509\u001b[0m, in \u001b[0;36mget_fixed_values\u001b[0;34m(model, slice_values, trial_index)\u001b[0m\n\u001b[1;32m    507\u001b[0m             setx[p_name] \u001b[39m=\u001b[39m Counter(vals)\u001b[39m.\u001b[39mmost_common(\u001b[39m1\u001b[39m)[\u001b[39m0\u001b[39m][\u001b[39m0\u001b[39m]\n\u001b[1;32m    508\u001b[0m         \u001b[39melif\u001b[39;00m \u001b[39misinstance\u001b[39m(parameter, RangeParameter):\n\u001b[0;32m--> 509\u001b[0m             setx[p_name] \u001b[39m=\u001b[39m parameter\u001b[39m.\u001b[39;49mcast(np\u001b[39m.\u001b[39;49mmean(vals))\n\u001b[1;32m    511\u001b[0m \u001b[39mif\u001b[39;00m slice_values \u001b[39mis\u001b[39;00m \u001b[39mnot\u001b[39;00m \u001b[39mNone\u001b[39;00m:\n\u001b[1;32m    512\u001b[0m     \u001b[39m# slice_values has type Dictionary[str, Any]\u001b[39;00m\n\u001b[1;32m    513\u001b[0m     setx\u001b[39m.\u001b[39mupdate(slice_values)\n",
      "File \u001b[0;32m~/.venv-torch/lib/python3.10/site-packages/ax/core/parameter.py:406\u001b[0m, in \u001b[0;36mRangeParameter.cast\u001b[0;34m(self, value)\u001b[0m\n\u001b[1;32m    403\u001b[0m \u001b[39mif\u001b[39;00m \u001b[39mself\u001b[39m\u001b[39m.\u001b[39mparameter_type \u001b[39mis\u001b[39;00m ParameterType\u001b[39m.\u001b[39mFLOAT \u001b[39mand\u001b[39;00m \u001b[39mself\u001b[39m\u001b[39m.\u001b[39m_digits \u001b[39mis\u001b[39;00m \u001b[39mnot\u001b[39;00m \u001b[39mNone\u001b[39;00m:\n\u001b[1;32m    404\u001b[0m     \u001b[39m# pyre-fixme[6]: Expected `None` for 2nd param but got `Optional[int]`.\u001b[39;00m\n\u001b[1;32m    405\u001b[0m     \u001b[39mreturn\u001b[39;00m \u001b[39mround\u001b[39m(\u001b[39mfloat\u001b[39m(value), \u001b[39mself\u001b[39m\u001b[39m.\u001b[39m_digits)\n\u001b[0;32m--> 406\u001b[0m \u001b[39mreturn\u001b[39;00m \u001b[39mself\u001b[39;49m\u001b[39m.\u001b[39;49mpython_type(value)\n",
      "\u001b[0;31mValueError\u001b[0m: cannot convert float NaN to integer"
     ]
    }
   ],
   "source": [
    "# from ax.plot.contour import interact_contour_plotly\n",
    "\n",
    "# interact_contour_plotly(model=gen_strategy.model, metric_name=\"val_acc\")"
   ]
  },
  {
   "cell_type": "markdown",
   "metadata": {},
   "source": [
    "### 10.4.2 Contour Plots for Number of Parameters"
   ]
  },
  {
   "cell_type": "code",
   "execution_count": 19,
   "metadata": {},
   "outputs": [
    {
     "name": "stderr",
     "output_type": "stream",
     "text": [
      "/Users/broxoli/.venv-torch/lib/python3.10/site-packages/numpy/core/fromnumeric.py:3504: RuntimeWarning:\n",
      "\n",
      "Mean of empty slice.\n",
      "\n",
      "/Users/broxoli/.venv-torch/lib/python3.10/site-packages/numpy/core/_methods.py:129: RuntimeWarning:\n",
      "\n",
      "invalid value encountered in scalar divide\n",
      "\n"
     ]
    },
    {
     "ename": "ValueError",
     "evalue": "cannot convert float NaN to integer",
     "output_type": "error",
     "traceback": [
      "\u001b[0;31m---------------------------------------------------------------------------\u001b[0m",
      "\u001b[0;31mValueError\u001b[0m                                Traceback (most recent call last)",
      "Cell \u001b[0;32mIn[19], line 1\u001b[0m\n\u001b[0;32m----> 1\u001b[0m interact_contour_plotly(model\u001b[39m=\u001b[39;49mgen_strategy\u001b[39m.\u001b[39;49mmodel, metric_name\u001b[39m=\u001b[39;49m\u001b[39m\"\u001b[39;49m\u001b[39mnum_params\u001b[39;49m\u001b[39m\"\u001b[39;49m)\n",
      "File \u001b[0;32m~/.venv-torch/lib/python3.10/site-packages/ax/plot/contour.py:409\u001b[0m, in \u001b[0;36minteract_contour_plotly\u001b[0;34m(model, metric_name, generator_runs_dict, relative, density, slice_values, lower_is_better, fixed_features, trial_index)\u001b[0m\n\u001b[1;32m    407\u001b[0m \u001b[39mfor\u001b[39;00m param1 \u001b[39min\u001b[39;00m param_names:\n\u001b[1;32m    408\u001b[0m     \u001b[39mfor\u001b[39;00m param2 \u001b[39min\u001b[39;00m param_names:\n\u001b[0;32m--> 409\u001b[0m         _, f_plt, sd_plt, _, _, _ \u001b[39m=\u001b[39m _get_contour_predictions(\n\u001b[1;32m    410\u001b[0m             model\u001b[39m=\u001b[39;49mmodel,\n\u001b[1;32m    411\u001b[0m             x_param_name\u001b[39m=\u001b[39;49mparam1,\n\u001b[1;32m    412\u001b[0m             y_param_name\u001b[39m=\u001b[39;49mparam2,\n\u001b[1;32m    413\u001b[0m             metric\u001b[39m=\u001b[39;49mmetric_name,\n\u001b[1;32m    414\u001b[0m             generator_runs_dict\u001b[39m=\u001b[39;49mgenerator_runs_dict,\n\u001b[1;32m    415\u001b[0m             density\u001b[39m=\u001b[39;49mdensity,\n\u001b[1;32m    416\u001b[0m             slice_values\u001b[39m=\u001b[39;49mslice_values,\n\u001b[1;32m    417\u001b[0m             fixed_features\u001b[39m=\u001b[39;49mfixed_features,\n\u001b[1;32m    418\u001b[0m         )\n\u001b[1;32m    419\u001b[0m         f_dict[param1][param2] \u001b[39m=\u001b[39m f_plt\n\u001b[1;32m    420\u001b[0m         sd_dict[param1][param2] \u001b[39m=\u001b[39m sd_plt\n",
      "File \u001b[0;32m~/.venv-torch/lib/python3.10/site-packages/ax/plot/contour.py:87\u001b[0m, in \u001b[0;36m_get_contour_predictions\u001b[0;34m(model, x_param_name, y_param_name, metric, generator_runs_dict, density, slice_values, fixed_features)\u001b[0m\n\u001b[1;32m     84\u001b[0m \u001b[39melse\u001b[39;00m:\n\u001b[1;32m     85\u001b[0m     fixed_features \u001b[39m=\u001b[39m ObservationFeatures(parameters\u001b[39m=\u001b[39m{})\n\u001b[0;32m---> 87\u001b[0m fixed_values \u001b[39m=\u001b[39m get_fixed_values(model, slice_values)\n\u001b[1;32m     89\u001b[0m param_grid_obsf \u001b[39m=\u001b[39m []\n\u001b[1;32m     90\u001b[0m \u001b[39mfor\u001b[39;00m i \u001b[39min\u001b[39;00m \u001b[39mrange\u001b[39m(density\u001b[39m*\u001b[39m\u001b[39m*\u001b[39m\u001b[39m2\u001b[39m):\n",
      "File \u001b[0;32m~/.venv-torch/lib/python3.10/site-packages/ax/plot/helper.py:509\u001b[0m, in \u001b[0;36mget_fixed_values\u001b[0;34m(model, slice_values, trial_index)\u001b[0m\n\u001b[1;32m    507\u001b[0m             setx[p_name] \u001b[39m=\u001b[39m Counter(vals)\u001b[39m.\u001b[39mmost_common(\u001b[39m1\u001b[39m)[\u001b[39m0\u001b[39m][\u001b[39m0\u001b[39m]\n\u001b[1;32m    508\u001b[0m         \u001b[39melif\u001b[39;00m \u001b[39misinstance\u001b[39m(parameter, RangeParameter):\n\u001b[0;32m--> 509\u001b[0m             setx[p_name] \u001b[39m=\u001b[39m parameter\u001b[39m.\u001b[39;49mcast(np\u001b[39m.\u001b[39;49mmean(vals))\n\u001b[1;32m    511\u001b[0m \u001b[39mif\u001b[39;00m slice_values \u001b[39mis\u001b[39;00m \u001b[39mnot\u001b[39;00m \u001b[39mNone\u001b[39;00m:\n\u001b[1;32m    512\u001b[0m     \u001b[39m# slice_values has type Dictionary[str, Any]\u001b[39;00m\n\u001b[1;32m    513\u001b[0m     setx\u001b[39m.\u001b[39mupdate(slice_values)\n",
      "File \u001b[0;32m~/.venv-torch/lib/python3.10/site-packages/ax/core/parameter.py:406\u001b[0m, in \u001b[0;36mRangeParameter.cast\u001b[0;34m(self, value)\u001b[0m\n\u001b[1;32m    403\u001b[0m \u001b[39mif\u001b[39;00m \u001b[39mself\u001b[39m\u001b[39m.\u001b[39mparameter_type \u001b[39mis\u001b[39;00m ParameterType\u001b[39m.\u001b[39mFLOAT \u001b[39mand\u001b[39;00m \u001b[39mself\u001b[39m\u001b[39m.\u001b[39m_digits \u001b[39mis\u001b[39;00m \u001b[39mnot\u001b[39;00m \u001b[39mNone\u001b[39;00m:\n\u001b[1;32m    404\u001b[0m     \u001b[39m# pyre-fixme[6]: Expected `None` for 2nd param but got `Optional[int]`.\u001b[39;00m\n\u001b[1;32m    405\u001b[0m     \u001b[39mreturn\u001b[39;00m \u001b[39mround\u001b[39m(\u001b[39mfloat\u001b[39m(value), \u001b[39mself\u001b[39m\u001b[39m.\u001b[39m_digits)\n\u001b[0;32m--> 406\u001b[0m \u001b[39mreturn\u001b[39;00m \u001b[39mself\u001b[39;49m\u001b[39m.\u001b[39;49mpython_type(value)\n",
      "\u001b[0;31mValueError\u001b[0m: cannot convert float NaN to integer"
     ]
    }
   ],
   "source": [
    "interact_contour_plotly(model=gen_strategy.model, metric_name=\"num_params\")"
   ]
  }
 ],
 "metadata": {
  "kernelspec": {
   "display_name": "venv-torch",
   "language": "python",
   "name": "python3"
  },
  "language_info": {
   "codemirror_mode": {
    "name": "ipython",
    "version": 3
   },
   "file_extension": ".py",
   "mimetype": "text/x-python",
   "name": "python",
   "nbconvert_exporter": "python",
   "pygments_lexer": "ipython3",
   "version": "3.10.12"
  },
  "orig_nbformat": 4
 },
 "nbformat": 4,
 "nbformat_minor": 2
}
