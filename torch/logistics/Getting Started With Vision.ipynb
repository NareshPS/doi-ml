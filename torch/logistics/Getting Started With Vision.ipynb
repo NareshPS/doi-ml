{
 "cells": [
  {
   "attachments": {},
   "cell_type": "markdown",
   "metadata": {},
   "source": [
    "# Training Vision Models in PyTorch\n",
    "\n",
    "In this exercise, we'll learn to train vision models in PyTorch. The steps involved will be similar to [Classification](./Classification.ipynb) notebook. However, we'll work with image datasets in this notebook. Here is a summary of what follow:\n",
    "- [Data Preparation](#data-preparation)\n",
    "- [Baseline Model](#baseline-model)\n",
    "- [Training Baseline Model](#training-baseline-model)\n",
    "- [Evaluation and Making Predictions With Baseline Model](#evaluate-baseline-model)\n",
    "- [Model With Non-Linearity](#model-with-non-linearity)\n",
    "- [Evaluation and Making Predictions With The Model With Non-Linearity](#evaluate-model-with-non-linearity)\n",
    "- [CNN Model](#cnn-model)\n",
    "- [Evaluation and Making Predictions With The CNN Model](#evaluate-the-cnn-model)\n",
    "- [Compare Models](#compare-model-results-and-training-times)\n",
    "- [Make Confusion Matrix for Performance Evaluation](#make-confusion-matrix-for-performance-evaluation)\n",
    "- [Saving and Loading Models](#saving-and-loading-the-best-performing-model)\n",
    "\n",
    "We'll follow the [PyTorch Computer Vision](https://www.learnpytorch.io/03_pytorch_computer_vision/) tutorial by [@mrdbourke](https://github.com/mrdbourke/pytorch-deep-learning)"
   ]
  },
  {
   "attachments": {},
   "cell_type": "markdown",
   "metadata": {},
   "source": [
    "# Import Modules"
   ]
  },
  {
   "cell_type": "code",
   "execution_count": 200,
   "metadata": {},
   "outputs": [
    {
     "name": "stdout",
     "output_type": "stream",
     "text": [
      "Torch Version: 2.1.0.dev20230608\n",
      "Torchvision Version: 0.16.0.dev20230608\n"
     ]
    }
   ],
   "source": [
    "import random\n",
    "import torch\n",
    "import torchvision\n",
    "import torch.nn as nn\n",
    "import torchvision.datasets as datasets\n",
    "import pandas as pd\n",
    "import matplotlib.pyplot as plt\n",
    "\n",
    "from torchvision.transforms import ToTensor\n",
    "from torch.utils.data import DataLoader\n",
    "from pathlib import Path\n",
    "from timeit import default_timer as timer\n",
    "from tqdm.auto import tqdm\n",
    "\n",
    "print(f'Torch Version: {torch.__version__}')\n",
    "print(f'Torchvision Version: {torchvision.__version__}')"
   ]
  },
  {
   "attachments": {},
   "cell_type": "markdown",
   "metadata": {},
   "source": [
    "# Data Preparation\n",
    "\n",
    "We'll work with [FasionMNIST](https://github.com/zalandoresearch/fashion-mnist) dataset for this exercise. It is a collection of 10 different kinds of clothing."
   ]
  },
  {
   "attachments": {},
   "cell_type": "markdown",
   "metadata": {},
   "source": [
    "## Download"
   ]
  },
  {
   "cell_type": "code",
   "execution_count": 201,
   "metadata": {},
   "outputs": [
    {
     "name": "stdout",
     "output_type": "stream",
     "text": [
      "Dataset Sizes\n",
      "--------------\n",
      "Training Set Size: 60000\n",
      "Test Set Size: 10000\n",
      "\n",
      "Training Set\n",
      "------------\n",
      "image.shape: torch.Size([1, 28, 28])\n",
      "Sample Indices: 16 and 15\n",
      "image[0, 16]: tensor([0.0000, 0.0000, 0.0000, 0.0000, 0.0706, 0.1725, 0.3216, 0.4196, 0.7412,\n",
      "        0.8941, 0.8627, 0.8706, 0.8510, 0.8863, 0.7843, 0.8039, 0.8275, 0.9020,\n",
      "        0.8784, 0.9176, 0.6902, 0.7373, 0.9804, 0.9725, 0.9137, 0.9333, 0.8431,\n",
      "        0.0000])\n",
      "image[0, 15]: tensor([0.0000, 0.0118, 0.0000, 0.0000, 0.0000, 0.0000, 0.0000, 0.0000, 0.0000,\n",
      "        0.2431, 0.5686, 0.8000, 0.8941, 0.8118, 0.8353, 0.8667, 0.8549, 0.8157,\n",
      "        0.8275, 0.8549, 0.8784, 0.8745, 0.8588, 0.8431, 0.8784, 0.9569, 0.6235,\n",
      "        0.0000])\n",
      "label: 9\n",
      "\n",
      "Test Set\n",
      "------------\n",
      "image.shape: torch.Size([1, 28, 28])\n",
      "Sample Indices: 23 and 14\n",
      "image[0, 23]: tensor([0.0000, 0.0000, 0.2902, 0.7412, 0.8314, 0.7490, 0.6863, 0.6745, 0.6863,\n",
      "        0.7098, 0.7255, 0.7373, 0.7412, 0.7373, 0.7569, 0.7765, 0.8000, 0.8196,\n",
      "        0.8235, 0.8235, 0.8275, 0.7373, 0.7373, 0.7608, 0.7529, 0.8471, 0.6667,\n",
      "        0.0000])\n",
      "image[0, 14]: tensor([0.0000, 0.0000, 0.0039, 0.0157, 0.0235, 0.0275, 0.0078, 0.0000, 0.0000,\n",
      "        0.0000, 0.0000, 0.0000, 0.9294, 0.8863, 0.8510, 0.8745, 0.8706, 0.8588,\n",
      "        0.8706, 0.8667, 0.8471, 0.8745, 0.8980, 0.8431, 0.8549, 1.0000, 0.3020,\n",
      "        0.0000])\n",
      "label: 9\n"
     ]
    }
   ],
   "source": [
    "ROOT = '~/torchvision-datasets/'\n",
    "IMG_SIZE = 28\n",
    "\n",
    "train_data = datasets.FashionMNIST(\n",
    "    root=ROOT,\n",
    "    download=True,\n",
    "    transform=ToTensor(),\n",
    ")\n",
    "\n",
    "test_data = datasets.FashionMNIST(\n",
    "    root=ROOT,\n",
    "    train=False,\n",
    "    download=True,\n",
    "    transform=ToTensor()\n",
    ")\n",
    "\n",
    "# Training Set\n",
    "image, label = train_data[0]\n",
    "_, dim_1, _ = image.shape\n",
    "index_1_0, index_1_1 = random.randint(0, dim_1 - 1), random.randint(0, dim_1 - 1)\n",
    "\n",
    "print('Dataset Sizes')\n",
    "print('--------------')\n",
    "print(f'Training Set Size: {len(train_data)}')\n",
    "print(f'Test Set Size: {len(test_data)}')\n",
    "\n",
    "print('\\nTraining Set')\n",
    "print('------------')\n",
    "print(f'image.shape: {image.shape}')\n",
    "print(f'Sample Indices: {index_1_0} and {index_1_1}')\n",
    "print(f'image[0, {index_1_0}]: {image[0, index_1_0]}')\n",
    "print(f'image[0, {index_1_1}]: {image[0, index_1_1]}')\n",
    "print(f'label: {label}')\n",
    "\n",
    "# Test Set\n",
    "image, label = train_data[0]\n",
    "_, dim_1, _ = image.shape\n",
    "index_1_0, index_1_1 = random.randint(0, dim_1 - 1), random.randint(0, dim_1 - 1)\n",
    "\n",
    "print('\\nTest Set')\n",
    "print('------------')\n",
    "print(f'image.shape: {image.shape}')\n",
    "print(f'Sample Indices: {index_1_0} and {index_1_1}')\n",
    "print(f'image[0, {index_1_0}]: {image[0, index_1_0]}')\n",
    "print(f'image[0, {index_1_1}]: {image[0, index_1_1]}')\n",
    "print(f'label: {label}')"
   ]
  },
  {
   "attachments": {},
   "cell_type": "markdown",
   "metadata": {},
   "source": [
    "## Exploration"
   ]
  },
  {
   "cell_type": "code",
   "execution_count": 202,
   "metadata": {},
   "outputs": [
    {
     "name": "stdout",
     "output_type": "stream",
     "text": [
      "Classes\n",
      "--------\n",
      "['T-shirt/top', 'Trouser', 'Pullover', 'Dress', 'Coat', 'Sandal', 'Shirt', 'Sneaker', 'Bag', 'Ankle boot']\n",
      "\n",
      "Labels\n"
     ]
    },
    {
     "data": {
      "text/html": [
       "<div>\n",
       "<style scoped>\n",
       "    .dataframe tbody tr th:only-of-type {\n",
       "        vertical-align: middle;\n",
       "    }\n",
       "\n",
       "    .dataframe tbody tr th {\n",
       "        vertical-align: top;\n",
       "    }\n",
       "\n",
       "    .dataframe thead th {\n",
       "        text-align: right;\n",
       "    }\n",
       "</style>\n",
       "<table border=\"1\" class=\"dataframe\">\n",
       "  <thead>\n",
       "    <tr style=\"text-align: right;\">\n",
       "      <th></th>\n",
       "      <th>label</th>\n",
       "    </tr>\n",
       "  </thead>\n",
       "  <tbody>\n",
       "    <tr>\n",
       "      <th>0</th>\n",
       "      <td>9</td>\n",
       "    </tr>\n",
       "    <tr>\n",
       "      <th>1</th>\n",
       "      <td>0</td>\n",
       "    </tr>\n",
       "    <tr>\n",
       "      <th>2</th>\n",
       "      <td>0</td>\n",
       "    </tr>\n",
       "    <tr>\n",
       "      <th>3</th>\n",
       "      <td>3</td>\n",
       "    </tr>\n",
       "    <tr>\n",
       "      <th>4</th>\n",
       "      <td>0</td>\n",
       "    </tr>\n",
       "    <tr>\n",
       "      <th>5</th>\n",
       "      <td>2</td>\n",
       "    </tr>\n",
       "    <tr>\n",
       "      <th>6</th>\n",
       "      <td>7</td>\n",
       "    </tr>\n",
       "    <tr>\n",
       "      <th>7</th>\n",
       "      <td>2</td>\n",
       "    </tr>\n",
       "    <tr>\n",
       "      <th>8</th>\n",
       "      <td>5</td>\n",
       "    </tr>\n",
       "    <tr>\n",
       "      <th>9</th>\n",
       "      <td>5</td>\n",
       "    </tr>\n",
       "  </tbody>\n",
       "</table>\n",
       "</div>"
      ],
      "text/plain": [
       "   label\n",
       "0      9\n",
       "1      0\n",
       "2      0\n",
       "3      3\n",
       "4      0\n",
       "5      2\n",
       "6      7\n",
       "7      2\n",
       "8      5\n",
       "9      5"
      ]
     },
     "metadata": {},
     "output_type": "display_data"
    },
    {
     "name": "stdout",
     "output_type": "stream",
     "text": [
      "\n",
      "Label Counts\n",
      "------------\n"
     ]
    },
    {
     "data": {
      "text/plain": [
       "label\n",
       "9    6000\n",
       "0    6000\n",
       "3    6000\n",
       "2    6000\n",
       "7    6000\n",
       "5    6000\n",
       "1    6000\n",
       "6    6000\n",
       "4    6000\n",
       "8    6000\n",
       "Name: count, dtype: int64"
      ]
     },
     "metadata": {},
     "output_type": "display_data"
    }
   ],
   "source": [
    "labels = pd.DataFrame({\n",
    "    \"label\": train_data.targets\n",
    "})\n",
    "\n",
    "print('Classes')\n",
    "print('--------')\n",
    "print(f'{train_data.classes}')\n",
    "\n",
    "print('\\nLabels')\n",
    "display(labels.head(10))\n",
    "\n",
    "print('\\nLabel Counts')\n",
    "print('------------')\n",
    "display(labels.label.value_counts())\n"
   ]
  },
  {
   "attachments": {},
   "cell_type": "markdown",
   "metadata": {},
   "source": [
    "## Visualization"
   ]
  },
  {
   "attachments": {},
   "cell_type": "markdown",
   "metadata": {},
   "source": [
    "### Single Input"
   ]
  },
  {
   "cell_type": "code",
   "execution_count": 203,
   "metadata": {},
   "outputs": [
    {
     "data": {
      "text/plain": [
       "Text(0.5, 1.0, 'Coat [4]')"
      ]
     },
     "execution_count": 203,
     "metadata": {},
     "output_type": "execute_result"
    },
    {
     "data": {
      "image/png": "[encoded data removed]",
      "text/plain": [
       "<Figure size 640x480 with 2 Axes>"
      ]
     },
     "metadata": {},
     "output_type": "display_data"
    }
   ],
   "source": [
    "item_id = random.randint(0, len(train_data) - 1)\n",
    "image, label = train_data[item_id]\n",
    "\n",
    "plt.subplot(1, 2, 1)\n",
    "plt.imshow(image.squeeze())\n",
    "plt.title(f'{train_data.classes[label]} [{label}]')\n",
    "\n",
    "plt.subplot(1, 2, 2)\n",
    "plt.imshow(image.squeeze(), cmap='gray')\n",
    "plt.title(f'{train_data.classes[label]} [{label}]')"
   ]
  },
  {
   "attachments": {},
   "cell_type": "markdown",
   "metadata": {},
   "source": [
    "### Multiple Inputs"
   ]
  },
  {
   "cell_type": "code",
   "execution_count": 204,
   "metadata": {},
   "outputs": [
    {
     "data": {
      "image/png": "[encoded data removed]",
      "text/plain": [
       "<Figure size 900x900 with 16 Axes>"
      ]
     },
     "metadata": {},
     "output_type": "display_data"
    }
   ],
   "source": [
    "SEED = 3\n",
    "\n",
    "torch.manual_seed(3)\n",
    "\n",
    "fig = plt.figure(figsize=(9, 9))\n",
    "rows, cols = 4, 4\n",
    "\n",
    "for idx in range(1, rows * cols + 1):\n",
    "    random_idx = torch.randint(0, len(train_data), size=[1]).item()\n",
    "    image, label = train_data[random_idx]\n",
    "\n",
    "    fig.add_subplot(rows, cols, idx)\n",
    "    plt.imshow(image.squeeze(), cmap=\"gray\")\n",
    "    plt.title(f'{train_data.classes[label]} [{label}]')\n",
    "    plt.axis(False)"
   ]
  },
  {
   "attachments": {},
   "cell_type": "markdown",
   "metadata": {},
   "source": [
    "## DataLoader"
   ]
  },
  {
   "cell_type": "code",
   "execution_count": 205,
   "metadata": {},
   "outputs": [
    {
     "name": "stdout",
     "output_type": "stream",
     "text": [
      "Data Loaders\n",
      "-------------\n",
      "Training DataLoader: 1875 batches of size 32\n",
      "Test DataLoader: 313 batches of size 32\n",
      "\n",
      "Training Batch Shape:: Images: torch.Size([32, 1, 28, 28]) Labels: torch.Size([32])\n",
      "Test Batch Shape:: Images: torch.Size([32, 1, 28, 28]) Labels: torch.Size([32])\n",
      "Image size: torch.Size([1, 28, 28])\n",
      "Label: 8, label size: torch.Size([])\n"
     ]
    },
    {
     "data": {
      "image/png": "[encoded data removed]",
      "text/plain": [
       "<Figure size 640x480 with 1 Axes>"
      ]
     },
     "metadata": {},
     "output_type": "display_data"
    }
   ],
   "source": [
    "BATCH_SIZE = 32\n",
    "\n",
    "train_dataloader = DataLoader(train_data,\n",
    "    batch_size=BATCH_SIZE,\n",
    "    shuffle=True \n",
    ")\n",
    "\n",
    "test_dataloader = DataLoader(test_data, batch_size=BATCH_SIZE)\n",
    "\n",
    "print('Data Loaders')\n",
    "print('-------------')\n",
    "print(f\"Training DataLoader: {len(train_dataloader)} batches of size {BATCH_SIZE}\")\n",
    "print(f\"Test DataLoader: {len(test_dataloader)} batches of size {BATCH_SIZE}\")\n",
    "\n",
    "\n",
    "train_images_batch, train_labels_batch = next(iter(train_dataloader))\n",
    "test_images_batch, test_labels_batch = next(iter(test_dataloader))\n",
    "\n",
    "print(f'\\nTraining Batch Shape:: Images: {train_images_batch.shape} Labels: {train_labels_batch.shape}')\n",
    "print(f'Test Batch Shape:: Images: {test_images_batch.shape} Labels: {test_labels_batch.shape}')\n",
    "\n",
    "torch.manual_seed(SEED)\n",
    "\n",
    "random_idx = torch.randint(0, len(train_images_batch), size=[1]).item()\n",
    "image, label = train_images_batch[random_idx], train_labels_batch[random_idx]\n",
    "\n",
    "plt.imshow(image.squeeze(), cmap=\"gray\")\n",
    "plt.title(f'{train_data.classes[label]} [{label}]')\n",
    "plt.axis('off')\n",
    "\n",
    "print(f\"Image size: {image.shape}\")\n",
    "print(f\"Label: {label}, label size: {label.shape}\")"
   ]
  },
  {
   "attachments": {},
   "cell_type": "markdown",
   "metadata": {},
   "source": [
    "# Baseline Model"
   ]
  },
  {
   "attachments": {},
   "cell_type": "markdown",
   "metadata": {},
   "source": [
    "## Device Selection"
   ]
  },
  {
   "cell_type": "code",
   "execution_count": 206,
   "metadata": {},
   "outputs": [
    {
     "name": "stdout",
     "output_type": "stream",
     "text": [
      "Device: cpu\n"
     ]
    }
   ],
   "source": [
    "DEVICE = 'cpu'\n",
    "\n",
    "print(f'Device: {DEVICE}')"
   ]
  },
  {
   "attachments": {},
   "cell_type": "markdown",
   "metadata": {},
   "source": [
    "## Architecture"
   ]
  },
  {
   "cell_type": "code",
   "execution_count": 207,
   "metadata": {},
   "outputs": [
    {
     "name": "stdout",
     "output_type": "stream",
     "text": [
      "Model Architecture\n",
      "------------------\n",
      "FashionMNISTModelV0(\n",
      "  (layer_stack): Sequential(\n",
      "    (0): Flatten(start_dim=1, end_dim=-1)\n",
      "    (1): Linear(in_features=784, out_features=10, bias=True)\n",
      "    (2): Linear(in_features=10, out_features=10, bias=True)\n",
      "  )\n",
      ")\n",
      "\n",
      "Model Parameters\n",
      "--------------------------------\n",
      "layer_stack.1.weight: tensor([[-0.0354, -0.0282, -0.0153,  ...,  0.0311, -0.0222, -0.0265],\n",
      "        [-0.0316, -0.0153,  0.0043,  ...,  0.0247, -0.0167,  0.0203],\n",
      "        [-0.0146,  0.0174, -0.0178,  ...,  0.0204,  0.0098, -0.0299],\n",
      "        ...,\n",
      "        [-0.0088, -0.0081, -0.0068,  ..., -0.0320,  0.0026,  0.0076],\n",
      "        [ 0.0272, -0.0258, -0.0207,  ..., -0.0180,  0.0056, -0.0201],\n",
      "        [ 0.0192, -0.0210,  0.0020,  ...,  0.0226,  0.0077, -0.0124]])\n",
      "layer_stack.1.bias: tensor([ 0.0175, -0.0169, -0.0017, -0.0313, -0.0171, -0.0339, -0.0265, -0.0342,\n",
      "         0.0123,  0.0161])\n",
      "layer_stack.2.weight: tensor([[-0.1143,  0.0311,  0.0051, -0.3070, -0.1406,  0.1512,  0.1841,  0.0250,\n",
      "          0.2494,  0.0775],\n",
      "        [ 0.1981, -0.1338,  0.0150,  0.3128, -0.2518,  0.1904, -0.2499,  0.0813,\n",
      "         -0.1200, -0.2495],\n",
      "        [-0.2293, -0.1701, -0.0866,  0.2336, -0.0501, -0.1013,  0.1694,  0.2263,\n",
      "          0.2726,  0.1578],\n",
      "        [ 0.2485, -0.1833,  0.1766, -0.0740, -0.0007,  0.0316,  0.1889, -0.1637,\n",
      "         -0.3122,  0.0216],\n",
      "        [-0.2007, -0.2042,  0.0728,  0.1790, -0.3022,  0.1790, -0.2882,  0.1089,\n",
      "         -0.2002, -0.2413],\n",
      "        [-0.2207,  0.0184,  0.2445, -0.0881,  0.1689, -0.0532, -0.0316, -0.0223,\n",
      "          0.2762, -0.3069],\n",
      "        [-0.2460,  0.1046,  0.2063,  0.2535,  0.1553,  0.1528,  0.1447,  0.2481,\n",
      "          0.0773, -0.2270],\n",
      "        [-0.3094,  0.1504, -0.2392,  0.1419,  0.2245, -0.2566,  0.1332, -0.1175,\n",
      "         -0.0898, -0.3040],\n",
      "        [ 0.2493,  0.0133,  0.1917, -0.2916, -0.1036,  0.2350, -0.2253, -0.0940,\n",
      "          0.2843,  0.0945],\n",
      "        [-0.2387, -0.0664, -0.0583,  0.2814,  0.1011, -0.1307, -0.1838, -0.2978,\n",
      "          0.0330,  0.1221]])\n",
      "layer_stack.2.bias: tensor([-0.1499,  0.0164, -0.2196,  0.1983,  0.2048,  0.1515,  0.2439, -0.2212,\n",
      "        -0.0004,  0.1776])\n",
      "\n",
      "Inputs and Outputs\n",
      "-------------------\n",
      "Input: tensor([[ 1.2131,  0.8969,  0.1098,  ...,  0.2385,  0.4132, -0.7509],\n",
      "        [-0.6355,  0.1546,  0.5645,  ...,  0.7316, -0.0277, -2.0321]])\n",
      "Output: tensor([[-0.5067,  0.2488, -0.1496,  0.3772,  0.5026,  0.2078,  0.4570,  0.1281,\n",
      "         -0.6185, -0.1774],\n",
      "        [-0.7003,  0.8029, -0.4466,  0.2895,  0.6067,  0.0709,  0.5474, -0.3669,\n",
      "          0.0282,  0.2863]], grad_fn=<AddmmBackward0>)\n",
      "Input Shape: torch.Size([2, 784]) Output Shape: torch.Size([2, 10])\n"
     ]
    }
   ],
   "source": [
    "class FashionMNISTModelV0(nn.Module):\n",
    "    def __init__(self, input_shape, hidden_units, output_shape):\n",
    "        super().__init__()\n",
    "        self.layer_stack = nn.Sequential(\n",
    "            nn.Flatten(),\n",
    "            nn.Linear(in_features=input_shape, out_features=hidden_units),\n",
    "            nn.Linear(in_features=hidden_units, out_features=output_shape)\n",
    "        )\n",
    "    \n",
    "    def forward(self, x):\n",
    "        return self.layer_stack(x)\n",
    "\n",
    "input_shape, hidden_units, output_shape = IMG_SIZE*IMG_SIZE, 10, len(train_data.classes)\n",
    "\n",
    "torch.manual_seed(SEED)\n",
    "model_0 = FashionMNISTModelV0(input_shape, hidden_units, output_shape).to(DEVICE)\n",
    "\n",
    "print('Model Architecture')\n",
    "print('------------------')\n",
    "print(f'{model_0}')\n",
    "\n",
    "print('\\nModel Parameters')\n",
    "print(f'--------------------------------')\n",
    "for (name, param) in model_0.state_dict().items():\n",
    "    print(f'{name}: {param}')\n",
    "\n",
    "xt = torch.randn(2, input_shape, device=DEVICE)\n",
    "yt = model_0(xt)\n",
    "\n",
    "print('\\nInputs and Outputs')\n",
    "print('-------------------')\n",
    "print(f'Input: {xt}')\n",
    "print(f'Output: {yt}')\n",
    "print(f'Input Shape: {xt.shape} Output Shape: {yt.shape}')"
   ]
  },
  {
   "attachments": {},
   "cell_type": "markdown",
   "metadata": {},
   "source": [
    "## Untrained Predictions"
   ]
  },
  {
   "cell_type": "code",
   "execution_count": 208,
   "metadata": {},
   "outputs": [
    {
     "name": "stdout",
     "output_type": "stream",
     "text": [
      "Untrained Predictions\n",
      "--------------------\n",
      "test_images_batch.shape: torch.Size([32, 1, 28, 28])\n",
      "Predictions: torch.Size([32, 10])\n",
      "test_labels_batch.shape: torch.Size([32])\n",
      "Predictions[:10]: tensor([[ 0.0156, -0.0718, -0.2206,  0.0156,  0.2632,  0.3107,  0.1783, -0.1880,\n",
      "          0.1109,  0.1366],\n",
      "        [-0.1272, -0.1305, -0.0825,  0.1374,  0.1092,  0.1598, -0.0566, -0.2088,\n",
      "          0.0148,  0.4307],\n",
      "        [-0.0678, -0.2550,  0.0489,  0.1217, -0.1240,  0.0619,  0.1914, -0.1748,\n",
      "         -0.1309,  0.1987],\n",
      "        [ 0.0630, -0.3708,  0.0347,  0.1436, -0.1673,  0.2159,  0.1706, -0.1959,\n",
      "         -0.0016,  0.2124],\n",
      "        [-0.0968, -0.0093, -0.1698,  0.1173,  0.2178,  0.0686,  0.0422, -0.2090,\n",
      "          0.0102,  0.2810],\n",
      "        [-0.1035, -0.1988,  0.0470,  0.0588, -0.0799,  0.0853,  0.1857, -0.1520,\n",
      "         -0.1234,  0.1943],\n",
      "        [-0.2935,  0.0645, -0.2057,  0.1825,  0.2319,  0.1004,  0.1089, -0.2463,\n",
      "          0.0032,  0.3656],\n",
      "        [-0.0919, -0.0670, -0.1925,  0.2699,  0.0876,  0.1241, -0.0026, -0.3604,\n",
      "          0.1494,  0.2891],\n",
      "        [-0.1318, -0.0006, -0.1772,  0.1317,  0.2569,  0.2481,  0.2383, -0.1844,\n",
      "          0.0152,  0.2509],\n",
      "        [-0.0477, -0.0048, -0.2108,  0.0579,  0.2430,  0.3782,  0.3181, -0.1626,\n",
      "          0.0983,  0.1768]], grad_fn=<SliceBackward0>)\n",
      "test_labels_batch[:10]: tensor([9, 2, 1, 1, 6, 1, 4, 6, 5, 7])\n"
     ]
    }
   ],
   "source": [
    "test_images_batch, test_labels_batch = next(iter(test_dataloader))\n",
    "untrained_preds = model_0(test_images_batch.to(DEVICE))\n",
    "\n",
    "print('Untrained Predictions')\n",
    "print('--------------------')\n",
    "print(f'test_images_batch.shape: {test_images_batch.shape}')\n",
    "print(f'Predictions: {untrained_preds.shape}')\n",
    "print(f'test_labels_batch.shape: {test_labels_batch.shape}')\n",
    "print(f'Predictions[:10]: {untrained_preds[:10]}')\n",
    "print(f'test_labels_batch[:10]: {test_labels_batch[:10]}')"
   ]
  },
  {
   "attachments": {},
   "cell_type": "markdown",
   "metadata": {},
   "source": [
    "## Loss Function, Optimizer and Evaluation Metrics\n",
    "\n",
    "This is a multi-class classification problem. We will use the crossentropy loss function which computes the loss between predicted and true distributions."
   ]
  },
  {
   "cell_type": "code",
   "execution_count": 209,
   "metadata": {},
   "outputs": [
    {
     "name": "stdout",
     "output_type": "stream",
     "text": [
      "helper_functions.py already exists, skipping download\n"
     ]
    }
   ],
   "source": [
    "import requests\n",
    "\n",
    "if Path(\"helper_functions.py\").is_file():\n",
    "    print(\"helper_functions.py already exists, skipping download\")\n",
    "else:\n",
    "    print(\"Downloading helper_functions.py\")\n",
    "    request = requests.get(\"https://raw.githubusercontent.com/mrdbourke/pytorch-deep-learning/main/helper_functions.py\")\n",
    "    \n",
    "    with open(\"helper_functions.py\", \"wb\") as f:\n",
    "        f.write(request.content)"
   ]
  },
  {
   "cell_type": "code",
   "execution_count": 210,
   "metadata": {},
   "outputs": [],
   "source": [
    "from helper_functions import accuracy_fn\n",
    "\n",
    "LR = 0.1\n",
    "\n",
    "loss_fn = nn.CrossEntropyLoss()\n",
    "optimizer = torch.optim.SGD(lr=LR, params=model_0.parameters())"
   ]
  },
  {
   "attachments": {},
   "cell_type": "markdown",
   "metadata": {},
   "source": [
    "# Training Baseline Model"
   ]
  },
  {
   "cell_type": "code",
   "execution_count": 211,
   "metadata": {},
   "outputs": [],
   "source": [
    "def print_train_time(start, end, device=None):\n",
    "    total_time = end - start\n",
    "    print(f\"\\nTrain time on {device}: {total_time:.3f} seconds\")\n",
    "    return total_time"
   ]
  },
  {
   "attachments": {},
   "cell_type": "markdown",
   "metadata": {},
   "source": [
    "## Loop"
   ]
  },
  {
   "cell_type": "code",
   "execution_count": 212,
   "metadata": {},
   "outputs": [
    {
     "name": "stdout",
     "output_type": "stream",
     "text": [
      "Training Loop\n",
      "-------------\n",
      "-------------\n"
     ]
    },
    {
     "name": "stderr",
     "output_type": "stream",
     "text": [
      "  0%|          | 0/3 [00:00<?, ?it/s]"
     ]
    },
    {
     "name": "stdout",
     "output_type": "stream",
     "text": [
      "\n",
      "Epoch: 1\n",
      "---------------\n",
      "Looked at 0/60000 samples\n",
      "Looked at 12800/60000 samples\n",
      "Looked at 25600/60000 samples\n",
      "Looked at 38400/60000 samples\n",
      "Looked at 51200/60000 samples\n"
     ]
    },
    {
     "name": "stderr",
     "output_type": "stream",
     "text": [
      " 33%|███▎      | 1/3 [00:01<00:03,  1.96s/it]"
     ]
    },
    {
     "name": "stdout",
     "output_type": "stream",
     "text": [
      "Loss: 0.58912 Accuracy: 79.07500 | Test Loss: 0.50190 Test Accuracy: 82.82748\n",
      "\n",
      "Epoch: 2\n",
      "---------------\n",
      "Looked at 0/60000 samples\n",
      "Looked at 12800/60000 samples\n",
      "Looked at 25600/60000 samples\n",
      "Looked at 38400/60000 samples\n",
      "Looked at 51200/60000 samples\n"
     ]
    },
    {
     "name": "stderr",
     "output_type": "stream",
     "text": [
      " 67%|██████▋   | 2/3 [00:03<00:01,  1.89s/it]"
     ]
    },
    {
     "name": "stdout",
     "output_type": "stream",
     "text": [
      "Loss: 0.47421 Accuracy: 83.41833 | Test Loss: 0.50737 Test Accuracy: 82.28834\n",
      "\n",
      "Epoch: 3\n",
      "---------------\n",
      "Looked at 0/60000 samples\n",
      "Looked at 12800/60000 samples\n",
      "Looked at 25600/60000 samples\n",
      "Looked at 38400/60000 samples\n",
      "Looked at 51200/60000 samples\n"
     ]
    },
    {
     "name": "stderr",
     "output_type": "stream",
     "text": [
      "100%|██████████| 3/3 [00:05<00:00,  1.89s/it]"
     ]
    },
    {
     "name": "stdout",
     "output_type": "stream",
     "text": [
      "Loss: 0.45494 Accuracy: 84.04500 | Test Loss: 0.51865 Test Accuracy: 82.25839\n",
      "\n",
      "Train time on cpu: 5.669 seconds\n"
     ]
    },
    {
     "name": "stderr",
     "output_type": "stream",
     "text": [
      "\n"
     ]
    }
   ],
   "source": [
    "torch.manual_seed(SEED)\n",
    "\n",
    "EPOCHS = 3\n",
    "\n",
    "print('Training Loop')\n",
    "print('-------------')\n",
    "print('-------------')\n",
    "\n",
    "train_start_time = timer()\n",
    "\n",
    "for epoch in tqdm(range(EPOCHS)):\n",
    "    print(f'\\nEpoch: {epoch + 1}')\n",
    "    print('---------------')\n",
    "\n",
    "    ### Setup epoch training state\n",
    "    training_loss, training_accuracy = 0., 0.\n",
    "    model_0.train()\n",
    "\n",
    "    for batch, (X, y) in enumerate(train_dataloader):\n",
    "        # 1. Forward Pass\n",
    "        y_logits = model_0(X)\n",
    "        y_pred = y_logits.argmax(dim=-1)\n",
    "\n",
    "        # 2. Compute Loss and Accuracy\n",
    "        loss = loss_fn(y_logits, y)\n",
    "        accuracy = accuracy_fn(y, y_pred)\n",
    "\n",
    "        training_loss += loss\n",
    "        training_accuracy += accuracy\n",
    "\n",
    "        # 3. Clear Optimizer Gradients\n",
    "        optimizer.zero_grad()\n",
    "\n",
    "        # 4. Backward Pass\n",
    "        loss.backward()\n",
    "\n",
    "        # 5. Update Weights\n",
    "        optimizer.step()\n",
    "\n",
    "        if batch % 400 == 0:\n",
    "            print(f\"Looked at {batch * len(X)}/{len(train_dataloader.dataset)} samples\")\n",
    "    \n",
    "    ### Aggregate losses and accuracies\n",
    "    training_loss /= len(train_dataloader)\n",
    "    training_accuracy /= len(train_dataloader)\n",
    "\n",
    "    ### Setup epoch evaluation state\n",
    "    test_loss, test_accuracy = 0., 0.\n",
    "    model_0.eval()\n",
    "\n",
    "    with torch.inference_mode():\n",
    "        for batch, (X, y) in enumerate(test_dataloader):\n",
    "            # 1. Forward Pass\n",
    "            y_logits = model_0(X)\n",
    "            y_pred = y_logits.argmax(dim=-1)\n",
    "\n",
    "            # 2. Compute Loss and Accuracy\n",
    "            loss = loss_fn(y_logits, y)\n",
    "            accuracy = accuracy_fn(y, y_pred)\n",
    "\n",
    "            test_loss += loss\n",
    "            test_accuracy += accuracy\n",
    "    \n",
    "        ### Aggregate losses and accuracies for the test set.\n",
    "        test_loss /= len(test_dataloader)\n",
    "        test_accuracy /= len(test_dataloader)\n",
    "\n",
    "    print(f'Loss: {training_loss:.5f} Accuracy: {training_accuracy:.5f} | Test Loss: {test_loss:.5f} Test Accuracy: {test_accuracy:.5f}')\n",
    "\n",
    "train_end_time = timer()\n",
    "total_train_time_model_0 = print_train_time(train_start_time, train_end_time, device=DEVICE)\n"
   ]
  },
  {
   "attachments": {},
   "cell_type": "markdown",
   "metadata": {},
   "source": [
    "# Evaluate Baseline Model"
   ]
  },
  {
   "cell_type": "code",
   "execution_count": 213,
   "metadata": {},
   "outputs": [
    {
     "name": "stdout",
     "output_type": "stream",
     "text": [
      "Evaluation Results\n",
      "------------------\n",
      "{'Model': 'FashionMNISTModelV0', 'Loss': 0.5186494588851929, 'Accuracy': 82.25838658146965}\n"
     ]
    }
   ],
   "source": [
    "torch.manual_seed(42)\n",
    "def eval_model(model, data_loader, loss_fn, accuracy_fn, device):\n",
    "\n",
    "    ### Setup Evaluation State\n",
    "    loss, accuracy = 0., 0.\n",
    "    model.eval()\n",
    "\n",
    "    with torch.inference_mode():\n",
    "        for X, y in data_loader:\n",
    "            # Send data to the appropriate device\n",
    "            X, y = X.to(device), y.to(device)\n",
    "\n",
    "            # 1. Forward Pass\n",
    "            y_logits = model(X)\n",
    "            y_pred = y_logits.argmax(dim=-1)\n",
    "\n",
    "            # 2. Compute Loss and Accuracy\n",
    "            loss += loss_fn(y_logits, y)\n",
    "            accuracy += accuracy_fn(y, y_pred)\n",
    "        \n",
    "        # Scale loss and acc to find the average loss/acc per batch\n",
    "        loss /= len(data_loader)\n",
    "        accuracy /= len(data_loader)\n",
    "        \n",
    "    return {\n",
    "            \"Model\": model.__class__.__name__,\n",
    "            \"Loss\": loss.item(),\n",
    "            \"Accuracy\": accuracy\n",
    "        }\n",
    "\n",
    "# Calculate model 0 results on test dataset\n",
    "model_0_results = eval_model(\n",
    "    model=model_0,\n",
    "    data_loader=test_dataloader,\n",
    "    loss_fn=loss_fn,\n",
    "    accuracy_fn=accuracy_fn,\n",
    "    device=DEVICE\n",
    ")\n",
    "\n",
    "print('Evaluation Results')\n",
    "print('------------------')\n",
    "print(model_0_results)"
   ]
  },
  {
   "attachments": {},
   "cell_type": "markdown",
   "metadata": {},
   "source": [
    "# Model With Non-Linearity"
   ]
  },
  {
   "attachments": {},
   "cell_type": "markdown",
   "metadata": {},
   "source": [
    "## Device Selection"
   ]
  },
  {
   "cell_type": "code",
   "execution_count": 214,
   "metadata": {},
   "outputs": [
    {
     "name": "stdout",
     "output_type": "stream",
     "text": [
      "Device: mps\n"
     ]
    }
   ],
   "source": [
    "DEVICE = 'cpu'\n",
    "\n",
    "if torch.cuda.is_available():\n",
    "    DEVICE = 'cuda'\n",
    "elif torch.backends.mps.is_available():\n",
    "    DEVICE = 'mps'\n",
    "\n",
    "print(f'Device: {DEVICE}')"
   ]
  },
  {
   "attachments": {},
   "cell_type": "markdown",
   "metadata": {},
   "source": [
    "## Architecture"
   ]
  },
  {
   "cell_type": "code",
   "execution_count": 215,
   "metadata": {},
   "outputs": [
    {
     "name": "stdout",
     "output_type": "stream",
     "text": [
      "Model Architecture\n",
      "------------------\n",
      "FashionMNISTModelV1(\n",
      "  (layer_stack): Sequential(\n",
      "    (0): Flatten(start_dim=1, end_dim=-1)\n",
      "    (1): Linear(in_features=784, out_features=10, bias=True)\n",
      "    (2): ReLU()\n",
      "    (3): Linear(in_features=10, out_features=10, bias=True)\n",
      "    (4): ReLU()\n",
      "  )\n",
      ")\n",
      "\n",
      "Model Parameters\n",
      "--------------------------------\n",
      "layer_stack.1.weight: tensor([[-0.0354, -0.0282, -0.0153,  ...,  0.0311, -0.0222, -0.0265],\n",
      "        [-0.0316, -0.0153,  0.0043,  ...,  0.0247, -0.0167,  0.0203],\n",
      "        [-0.0146,  0.0174, -0.0178,  ...,  0.0204,  0.0098, -0.0299],\n",
      "        ...,\n",
      "        [-0.0088, -0.0081, -0.0068,  ..., -0.0320,  0.0026,  0.0076],\n",
      "        [ 0.0272, -0.0258, -0.0207,  ..., -0.0180,  0.0056, -0.0201],\n",
      "        [ 0.0192, -0.0210,  0.0020,  ...,  0.0226,  0.0077, -0.0124]],\n",
      "       device='mps:0')\n",
      "layer_stack.1.bias: tensor([ 0.0175, -0.0169, -0.0017, -0.0313, -0.0171, -0.0339, -0.0265, -0.0342,\n",
      "         0.0123,  0.0161], device='mps:0')\n",
      "layer_stack.3.weight: tensor([[-0.1143,  0.0311,  0.0051, -0.3070, -0.1406,  0.1512,  0.1841,  0.0250,\n",
      "          0.2494,  0.0775],\n",
      "        [ 0.1981, -0.1338,  0.0150,  0.3128, -0.2518,  0.1904, -0.2499,  0.0813,\n",
      "         -0.1200, -0.2495],\n",
      "        [-0.2293, -0.1701, -0.0866,  0.2336, -0.0501, -0.1013,  0.1694,  0.2263,\n",
      "          0.2726,  0.1578],\n",
      "        [ 0.2485, -0.1833,  0.1766, -0.0740, -0.0007,  0.0316,  0.1889, -0.1637,\n",
      "         -0.3122,  0.0216],\n",
      "        [-0.2007, -0.2042,  0.0728,  0.1790, -0.3022,  0.1790, -0.2882,  0.1089,\n",
      "         -0.2002, -0.2413],\n",
      "        [-0.2207,  0.0184,  0.2445, -0.0881,  0.1689, -0.0532, -0.0316, -0.0223,\n",
      "          0.2762, -0.3069],\n",
      "        [-0.2460,  0.1046,  0.2063,  0.2535,  0.1553,  0.1528,  0.1447,  0.2481,\n",
      "          0.0773, -0.2270],\n",
      "        [-0.3094,  0.1504, -0.2392,  0.1419,  0.2245, -0.2566,  0.1332, -0.1175,\n",
      "         -0.0898, -0.3040],\n",
      "        [ 0.2493,  0.0133,  0.1917, -0.2916, -0.1036,  0.2350, -0.2253, -0.0940,\n",
      "          0.2843,  0.0945],\n",
      "        [-0.2387, -0.0664, -0.0583,  0.2814,  0.1011, -0.1307, -0.1838, -0.2978,\n",
      "          0.0330,  0.1221]], device='mps:0')\n",
      "layer_stack.3.bias: tensor([-0.1499,  0.0164, -0.2196,  0.1983,  0.2048,  0.1515,  0.2439, -0.2212,\n",
      "        -0.0004,  0.1776], device='mps:0')\n",
      "\n",
      "Inputs and Outputs\n",
      "-------------------\n",
      "Input: tensor([[ 0.2221, -0.9873, -0.6003,  ..., -0.4179,  0.5791, -0.4410],\n",
      "        [ 0.1538,  0.1662,  0.0889,  ...,  0.6341,  0.7401, -0.0350]],\n",
      "       device='mps:0')\n",
      "Output: tensor([[0.0053, 0.0000, 0.0000, 0.1274, 0.0000, 0.0059, 0.1375, 0.0000, 0.2007,\n",
      "         0.2618],\n",
      "        [0.0000, 0.1787, 0.0000, 0.3301, 0.1082, 0.0000, 0.1451, 0.0000, 0.1616,\n",
      "         0.0000]], device='mps:0', grad_fn=<ReluBackward0>)\n",
      "Input Shape: torch.Size([2, 784]) Output Shape: torch.Size([2, 10])\n"
     ]
    }
   ],
   "source": [
    "class FashionMNISTModelV1(nn.Module):\n",
    "    def __init__(self, input_shape, hidden_units, output_shape):\n",
    "        super().__init__()\n",
    "        self.layer_stack = nn.Sequential(\n",
    "            nn.Flatten(),\n",
    "            nn.Linear(in_features=input_shape, out_features=hidden_units),\n",
    "            nn.ReLU(),\n",
    "            nn.Linear(in_features=hidden_units, out_features=output_shape),\n",
    "            nn.ReLU(),\n",
    "        )\n",
    "    \n",
    "    def forward(self, x):\n",
    "        return self.layer_stack(x)\n",
    "\n",
    "input_shape, hidden_units, output_shape = IMG_SIZE*IMG_SIZE, 10, len(train_data.classes)\n",
    "\n",
    "torch.manual_seed(SEED)\n",
    "model_1 = FashionMNISTModelV1(input_shape, hidden_units, output_shape).to(DEVICE)\n",
    "\n",
    "print('Model Architecture')\n",
    "print('------------------')\n",
    "print(f'{model_1}')\n",
    "\n",
    "print('\\nModel Parameters')\n",
    "print(f'--------------------------------')\n",
    "for (name, param) in model_1.state_dict().items():\n",
    "    print(f'{name}: {param}')\n",
    "\n",
    "xt = torch.randn(2, input_shape, device=DEVICE)\n",
    "yt = model_1(xt)\n",
    "\n",
    "print('\\nInputs and Outputs')\n",
    "print('-------------------')\n",
    "print(f'Input: {xt}')\n",
    "print(f'Output: {yt}')\n",
    "print(f'Input Shape: {xt.shape} Output Shape: {yt.shape}')"
   ]
  },
  {
   "attachments": {},
   "cell_type": "markdown",
   "metadata": {},
   "source": [
    "## Untrained Predictions"
   ]
  },
  {
   "cell_type": "code",
   "execution_count": 216,
   "metadata": {},
   "outputs": [
    {
     "name": "stdout",
     "output_type": "stream",
     "text": [
      "Untrained Predictions\n",
      "--------------------\n",
      "test_images_batch.shape: torch.Size([32, 1, 28, 28])\n",
      "Predictions: torch.Size([32, 10])\n",
      "test_labels_batch.shape: torch.Size([32])\n",
      "Predictions[:10]: tensor([[0.0000, 0.0000, 0.0000, 0.0977, 0.1350, 0.2137, 0.2846, 0.0000, 0.0604,\n",
      "         0.1648],\n",
      "        [0.0000, 0.0000, 0.0000, 0.1309, 0.0746, 0.1981, 0.2924, 0.0000, 0.1392,\n",
      "         0.2176],\n",
      "        [0.0000, 0.0000, 0.0000, 0.1405, 0.0000, 0.0682, 0.3067, 0.0000, 0.0000,\n",
      "         0.1467],\n",
      "        [0.0678, 0.0000, 0.0204, 0.1561, 0.0000, 0.1659, 0.2759, 0.0000, 0.0675,\n",
      "         0.1488],\n",
      "        [0.0000, 0.0000, 0.0000, 0.1506, 0.1282, 0.1361, 0.2318, 0.0000, 0.0405,\n",
      "         0.1897],\n",
      "        [0.0000, 0.0000, 0.0000, 0.1003, 0.0000, 0.1098, 0.3166, 0.0000, 0.0196,\n",
      "         0.1266],\n",
      "        [0.0000, 0.0341, 0.0000, 0.2067, 0.1828, 0.0775, 0.2368, 0.0000, 0.0000,\n",
      "         0.2306],\n",
      "        [0.0000, 0.0000, 0.0000, 0.2041, 0.0836, 0.1509, 0.2126, 0.0000, 0.1516,\n",
      "         0.1728],\n",
      "        [0.0000, 0.0030, 0.0000, 0.1687, 0.1842, 0.1937, 0.2612, 0.0000, 0.0407,\n",
      "         0.1791],\n",
      "        [0.0000, 0.0000, 0.0000, 0.1032, 0.1262, 0.2718, 0.3105, 0.0000, 0.1143,\n",
      "         0.1703]], device='mps:0', grad_fn=<SliceBackward0>)\n",
      "test_labels_batch[:10]: tensor([9, 2, 1, 1, 6, 1, 4, 6, 5, 7])\n"
     ]
    }
   ],
   "source": [
    "test_images_batch, test_labels_batch = next(iter(test_dataloader))\n",
    "untrained_preds = model_1(test_images_batch.to(DEVICE))\n",
    "\n",
    "print('Untrained Predictions')\n",
    "print('--------------------')\n",
    "print(f'test_images_batch.shape: {test_images_batch.shape}')\n",
    "print(f'Predictions: {untrained_preds.shape}')\n",
    "print(f'test_labels_batch.shape: {test_labels_batch.shape}')\n",
    "print(f'Predictions[:10]: {untrained_preds[:10]}')\n",
    "print(f'test_labels_batch[:10]: {test_labels_batch[:10]}')"
   ]
  },
  {
   "attachments": {},
   "cell_type": "markdown",
   "metadata": {},
   "source": [
    "## Loss Function, Optimizer and Evaluation Metrics"
   ]
  },
  {
   "cell_type": "code",
   "execution_count": 217,
   "metadata": {},
   "outputs": [],
   "source": [
    "from helper_functions import accuracy_fn\n",
    "\n",
    "LR = 0.1\n",
    "\n",
    "loss_fn = nn.CrossEntropyLoss()\n",
    "optimizer = torch.optim.SGD(lr=LR, params=model_1.parameters())"
   ]
  },
  {
   "attachments": {},
   "cell_type": "markdown",
   "metadata": {},
   "source": [
    "# Training Model With Non-Linearity"
   ]
  },
  {
   "attachments": {},
   "cell_type": "markdown",
   "metadata": {},
   "source": [
    "## Training and Test Loop Functions"
   ]
  },
  {
   "cell_type": "code",
   "execution_count": 218,
   "metadata": {},
   "outputs": [],
   "source": [
    "def train_step(model, dataloader, loss_fn, optimizer, accuracy_fn, device):\n",
    "    ### Setup initial training state\n",
    "    training_loss, training_accuracy = 0., 0.\n",
    "    model.train()\n",
    "\n",
    "    for batch, (X, y) in enumerate(dataloader):\n",
    "        # Send data to the appropriate device\n",
    "        X, y = X.to(device), y.to(device)\n",
    "\n",
    "        # 1. Forward Pass\n",
    "        y_logits = model(X)\n",
    "        y_pred = y_logits.argmax(dim=-1)\n",
    "\n",
    "        # 2. Compute Loss and Accuracy\n",
    "        loss = loss_fn(y_logits, y)\n",
    "        accuracy = accuracy_fn(y, y_pred)\n",
    "\n",
    "        training_loss += loss\n",
    "        training_accuracy += accuracy\n",
    "\n",
    "        # 3. Clear Optimizer Gradients\n",
    "        optimizer.zero_grad()\n",
    "\n",
    "        # 4. Backward Pass\n",
    "        loss.backward()\n",
    "\n",
    "        # 5. Update Weights\n",
    "        optimizer.step()\n",
    "    \n",
    "    ### Aggregate losses and accuracies\n",
    "    training_loss /= len(dataloader)\n",
    "    training_accuracy /= len(dataloader)\n",
    "\n",
    "    print(f\"Train loss: {training_loss:.5f} | Train accuracy: {training_accuracy:.2f}%\")\n",
    "\n",
    "def test_step(model, dataloader, loss_fn, optimizer, accuracy_fn, device):\n",
    "    ### Setup epoch evaluation state\n",
    "    test_loss, test_accuracy = 0., 0.\n",
    "    model.eval()\n",
    "\n",
    "    with torch.inference_mode():\n",
    "        for batch, (X, y) in enumerate(dataloader):\n",
    "            # Send data to the appropriate device\n",
    "            X, y = X.to(device), y.to(device)\n",
    "\n",
    "            # 1. Forward Pass\n",
    "            y_logits = model(X)\n",
    "            y_pred = y_logits.argmax(dim=-1)\n",
    "\n",
    "            # 2. Compute Loss and Accuracy\n",
    "            loss = loss_fn(y_logits, y)\n",
    "            accuracy = accuracy_fn(y, y_pred)\n",
    "\n",
    "            test_loss += loss\n",
    "            test_accuracy += accuracy\n",
    "    \n",
    "        ### Aggregate losses and accuracies for the test set.\n",
    "        test_loss /= len(dataloader)\n",
    "        test_accuracy /= len(dataloader)\n",
    "\n",
    "        print(f\"Test loss: {test_loss:.5f} | Test accuracy: {test_accuracy:.2f}%\")"
   ]
  },
  {
   "attachments": {},
   "cell_type": "markdown",
   "metadata": {},
   "source": [
    "## Loop"
   ]
  },
  {
   "cell_type": "code",
   "execution_count": 219,
   "metadata": {},
   "outputs": [
    {
     "name": "stdout",
     "output_type": "stream",
     "text": [
      "Training Loop\n",
      "-------------\n",
      "-------------\n"
     ]
    },
    {
     "name": "stderr",
     "output_type": "stream",
     "text": [
      "  0%|          | 0/3 [00:00<?, ?it/s]"
     ]
    },
    {
     "name": "stdout",
     "output_type": "stream",
     "text": [
      "\n",
      "Epoch: 1\n",
      "---------------\n",
      "Train loss: 1.06939 | Train accuracy: 63.07%\n"
     ]
    },
    {
     "name": "stderr",
     "output_type": "stream",
     "text": [
      " 33%|███▎      | 1/3 [00:08<00:16,  8.05s/it]"
     ]
    },
    {
     "name": "stdout",
     "output_type": "stream",
     "text": [
      "Test loss: 0.92030 | Test accuracy: 67.37%\n",
      "\n",
      "Epoch: 2\n",
      "---------------\n",
      "Train loss: 0.61371 | Train accuracy: 78.36%\n"
     ]
    },
    {
     "name": "stderr",
     "output_type": "stream",
     "text": [
      " 67%|██████▋   | 2/3 [00:16<00:08,  8.09s/it]"
     ]
    },
    {
     "name": "stdout",
     "output_type": "stream",
     "text": [
      "Test loss: 0.51424 | Test accuracy: 82.52%\n",
      "\n",
      "Epoch: 3\n",
      "---------------\n",
      "Train loss: 0.46951 | Train accuracy: 83.44%\n"
     ]
    },
    {
     "name": "stderr",
     "output_type": "stream",
     "text": [
      "100%|██████████| 3/3 [00:24<00:00,  8.06s/it]"
     ]
    },
    {
     "name": "stdout",
     "output_type": "stream",
     "text": [
      "Test loss: 0.50118 | Test accuracy: 82.62%\n",
      "\n",
      "Train time on mps: 24.178 seconds\n"
     ]
    },
    {
     "name": "stderr",
     "output_type": "stream",
     "text": [
      "\n"
     ]
    }
   ],
   "source": [
    "torch.manual_seed(SEED)\n",
    "\n",
    "EPOCHS = 3\n",
    "\n",
    "print('Training Loop')\n",
    "print('-------------')\n",
    "print('-------------')\n",
    "\n",
    "train_start_time = timer()\n",
    "\n",
    "for epoch in tqdm(range(EPOCHS)):\n",
    "    print(f'\\nEpoch: {epoch + 1}')\n",
    "    print('---------------')\n",
    "    \n",
    "    train_step(model_1, train_dataloader, loss_fn, optimizer, accuracy_fn, DEVICE) \n",
    "    test_step(model_1, test_dataloader, loss_fn, optimizer, accuracy_fn, DEVICE)\n",
    "\n",
    "train_end_time = timer()\n",
    "\n",
    "total_train_time_model_1 = print_train_time(train_start_time, train_end_time, device=DEVICE)"
   ]
  },
  {
   "attachments": {},
   "cell_type": "markdown",
   "metadata": {},
   "source": [
    "# Evaluate Model With Non-Linearity"
   ]
  },
  {
   "cell_type": "code",
   "execution_count": 220,
   "metadata": {},
   "outputs": [
    {
     "name": "stdout",
     "output_type": "stream",
     "text": [
      "Evaluation Results\n",
      "------------------\n",
      "{'Model': 'FashionMNISTModelV1', 'Loss': 0.5011794567108154, 'Accuracy': 82.61781150159744}\n"
     ]
    }
   ],
   "source": [
    "# Calculate model 0 results on test dataset\n",
    "model_1_results = eval_model(\n",
    "    model=model_1,\n",
    "    data_loader=test_dataloader,\n",
    "    loss_fn=loss_fn,\n",
    "    accuracy_fn=accuracy_fn,\n",
    "    device=DEVICE\n",
    ")\n",
    "\n",
    "print('Evaluation Results')\n",
    "print('------------------')\n",
    "print(model_1_results)"
   ]
  },
  {
   "attachments": {},
   "cell_type": "markdown",
   "metadata": {},
   "source": [
    "# CNN Model\n",
    "\n",
    "This model will use 2D convolutions to learn visual patterns in the input."
   ]
  },
  {
   "attachments": {},
   "cell_type": "markdown",
   "metadata": {},
   "source": [
    "## Architecture"
   ]
  },
  {
   "cell_type": "code",
   "execution_count": 221,
   "metadata": {},
   "outputs": [
    {
     "name": "stdout",
     "output_type": "stream",
     "text": [
      "Model Architecture\n",
      "------------------\n",
      "FashionMNISTModelV2(\n",
      "  (block_1): Sequential(\n",
      "    (0): Conv2d(1, 10, kernel_size=(3, 3), stride=(1, 1), padding=(1, 1))\n",
      "    (1): ReLU()\n",
      "    (2): Conv2d(10, 10, kernel_size=(3, 3), stride=(1, 1), padding=(1, 1))\n",
      "    (3): ReLU()\n",
      "    (4): MaxPool2d(kernel_size=2, stride=2, padding=0, dilation=1, ceil_mode=False)\n",
      "  )\n",
      "  (block_2): Sequential(\n",
      "    (0): Conv2d(10, 10, kernel_size=(3, 3), stride=(1, 1), padding=(1, 1))\n",
      "    (1): ReLU()\n",
      "    (2): Conv2d(10, 10, kernel_size=(3, 3), stride=(1, 1), padding=(1, 1))\n",
      "    (3): ReLU()\n",
      "    (4): MaxPool2d(kernel_size=2, stride=2, padding=0, dilation=1, ceil_mode=False)\n",
      "  )\n",
      "  (classifier): Sequential(\n",
      "    (0): Flatten(start_dim=1, end_dim=-1)\n",
      "    (1): Linear(in_features=490, out_features=10, bias=True)\n",
      "  )\n",
      ")\n",
      "\n",
      "Inputs and Outputs\n",
      "-------------------\n",
      "Input: tensor([[[[ 0.2221, -0.9873, -0.6003,  ..., -0.1580,  2.2446,  0.1143],\n",
      "          [-0.0136,  2.5689,  1.3023,  ..., -0.2892, -0.0889, -0.1228],\n",
      "          [ 0.6286, -1.5140,  1.3588,  ...,  0.9644, -0.2248,  0.5841],\n",
      "          ...,\n",
      "          [-0.6012,  0.8268, -0.9106,  ..., -1.5680,  1.3471,  0.6211],\n",
      "          [-0.8749,  1.4282, -1.9134,  ...,  0.8228, -0.7746, -0.6126],\n",
      "          [-1.6583,  0.3623, -0.8433,  ..., -0.4179,  0.5791, -0.4410]]],\n",
      "\n",
      "\n",
      "        [[[ 0.1538,  0.1662,  0.0889,  ..., -0.8062, -0.2550,  0.6798],\n",
      "          [-0.3673,  0.3305,  0.6822,  ..., -0.0922,  1.2944,  0.2269],\n",
      "          [ 0.8356,  0.8360, -0.7396,  ..., -1.5980,  1.2239, -0.6960],\n",
      "          ...,\n",
      "          [-0.3441,  0.4827, -0.4363,  ..., -0.7006, -0.1894, -0.4851],\n",
      "          [-1.0778,  1.5069, -0.0553,  ...,  0.3495,  1.3208,  0.9972],\n",
      "          [ 1.0614,  0.0942, -1.6739,  ...,  0.6341,  0.7401, -0.0350]]]],\n",
      "       device='mps:0')\n",
      "Output: tensor([[ 0.0754, -0.0398,  0.0233, -0.0207,  0.0024, -0.0240, -0.0021,  0.0210,\n",
      "          0.0521, -0.0496],\n",
      "        [ 0.0500, -0.0331,  0.0312, -0.0320,  0.0166, -0.0182, -0.0070,  0.0118,\n",
      "          0.0594, -0.0193]], device='mps:0', grad_fn=<LinearBackward0>)\n",
      "Input Shape: torch.Size([2, 1, 28, 28]) Output Shape: torch.Size([2, 10])\n"
     ]
    }
   ],
   "source": [
    "class FashionMNISTModelV2(nn.Module):\n",
    "    def __init__(self, input_shape, hidden_units, output_shape):\n",
    "        super().__init__()\n",
    "        self.block_1 = nn.Sequential(\n",
    "            nn.Conv2d(\n",
    "                in_channels=input_shape,\n",
    "                out_channels=hidden_units,\n",
    "                kernel_size=3,\n",
    "                stride=1,\n",
    "                padding=1\n",
    "            ),\n",
    "            nn.ReLU(),\n",
    "            nn.Conv2d(\n",
    "                in_channels=hidden_units,\n",
    "                out_channels=hidden_units,\n",
    "                kernel_size=3,\n",
    "                stride=1,\n",
    "                padding=1\n",
    "            ),\n",
    "            nn.ReLU(),\n",
    "            nn.MaxPool2d(kernel_size=2, stride=2)\n",
    "        )\n",
    "        self.block_2 = nn.Sequential(\n",
    "            nn.Conv2d(hidden_units, hidden_units, 3, 1, padding=1),\n",
    "            nn.ReLU(),\n",
    "            nn.Conv2d(hidden_units, hidden_units, 3, 1, padding=1),\n",
    "            nn.ReLU(),\n",
    "            nn.MaxPool2d(2)\n",
    "        )\n",
    "        self.classifier = nn.Sequential(\n",
    "            nn.Flatten(),\n",
    "            nn.Linear(in_features=hidden_units*7*7, out_features=output_shape)\n",
    "        )\n",
    "    \n",
    "    def forward(self, x):\n",
    "        x = self.block_1(x)\n",
    "        x = self.block_2(x)\n",
    "        x = self.classifier(x)\n",
    "\n",
    "        return x\n",
    "\n",
    "input_shape, hidden_units, output_shape = 1, 10, len(train_data.classes)\n",
    "\n",
    "torch.manual_seed(SEED)\n",
    "model_2 = FashionMNISTModelV2(input_shape, hidden_units, output_shape).to(DEVICE)\n",
    "\n",
    "print('Model Architecture')\n",
    "print('------------------')\n",
    "print(f'{model_2}')\n",
    "\n",
    "# print('\\nModel Parameters')\n",
    "# print(f'--------------------------------')\n",
    "# for (name, param) in model_1.state_dict().items():\n",
    "#     print(f'{name}: {param}')\n",
    "\n",
    "xt = torch.randn(2, 1, IMG_SIZE, IMG_SIZE, device=DEVICE)\n",
    "yt = model_2(xt)\n",
    "\n",
    "print('\\nInputs and Outputs')\n",
    "print('-------------------')\n",
    "print(f'Input: {xt}')\n",
    "print(f'Output: {yt}')\n",
    "print(f'Input Shape: {xt.shape} Output Shape: {yt.shape}')"
   ]
  },
  {
   "attachments": {},
   "cell_type": "markdown",
   "metadata": {},
   "source": [
    "## Untrained Predictions"
   ]
  },
  {
   "cell_type": "code",
   "execution_count": 222,
   "metadata": {},
   "outputs": [
    {
     "name": "stdout",
     "output_type": "stream",
     "text": [
      "Untrained Predictions\n",
      "--------------------\n",
      "test_images_batch.shape: torch.Size([32, 1, 28, 28])\n",
      "Predictions: torch.Size([32, 10])\n",
      "test_labels_batch.shape: torch.Size([32])\n",
      "Predictions[:10]: tensor([[ 0.0306, -0.0182,  0.0080, -0.0377,  0.0141, -0.0324,  0.0094, -0.0028,\n",
      "          0.0281, -0.0077],\n",
      "        [ 0.0272, -0.0148,  0.0116, -0.0182,  0.0086, -0.0387,  0.0155,  0.0023,\n",
      "          0.0234, -0.0146],\n",
      "        [ 0.0329, -0.0237,  0.0080, -0.0330,  0.0177, -0.0361,  0.0195, -0.0074,\n",
      "          0.0305, -0.0149],\n",
      "        [ 0.0330, -0.0189,  0.0079, -0.0339,  0.0197, -0.0380,  0.0158, -0.0084,\n",
      "          0.0269, -0.0124],\n",
      "        [ 0.0326, -0.0158,  0.0098, -0.0272,  0.0146, -0.0373,  0.0162, -0.0037,\n",
      "          0.0197, -0.0089],\n",
      "        [ 0.0310, -0.0216,  0.0075, -0.0319,  0.0182, -0.0375,  0.0181, -0.0066,\n",
      "          0.0299, -0.0135],\n",
      "        [ 0.0336, -0.0179,  0.0104, -0.0360,  0.0114, -0.0352,  0.0154, -0.0047,\n",
      "          0.0268, -0.0121],\n",
      "        [ 0.0343, -0.0165,  0.0110, -0.0308,  0.0119, -0.0345,  0.0129, -0.0009,\n",
      "          0.0277, -0.0153],\n",
      "        [ 0.0327, -0.0177,  0.0082, -0.0408,  0.0131, -0.0345,  0.0100, -0.0038,\n",
      "          0.0284, -0.0113],\n",
      "        [ 0.0332, -0.0202,  0.0058, -0.0370,  0.0149, -0.0331,  0.0093, -0.0052,\n",
      "          0.0283, -0.0103]], device='mps:0', grad_fn=<SliceBackward0>)\n",
      "test_labels_batch[:10]: tensor([9, 2, 1, 1, 6, 1, 4, 6, 5, 7])\n"
     ]
    }
   ],
   "source": [
    "test_images_batch, test_labels_batch = next(iter(test_dataloader))\n",
    "untrained_preds = model_2(test_images_batch.to(DEVICE))\n",
    "\n",
    "print('Untrained Predictions')\n",
    "print('--------------------')\n",
    "print(f'test_images_batch.shape: {test_images_batch.shape}')\n",
    "print(f'Predictions: {untrained_preds.shape}')\n",
    "print(f'test_labels_batch.shape: {test_labels_batch.shape}')\n",
    "print(f'Predictions[:10]: {untrained_preds[:10]}')\n",
    "print(f'test_labels_batch[:10]: {test_labels_batch[:10]}')"
   ]
  },
  {
   "attachments": {},
   "cell_type": "markdown",
   "metadata": {},
   "source": [
    "## Loss Function, Optimizer and Evaluation Metrics"
   ]
  },
  {
   "cell_type": "code",
   "execution_count": 223,
   "metadata": {},
   "outputs": [],
   "source": [
    "from helper_functions import accuracy_fn\n",
    "\n",
    "LR = 0.1\n",
    "\n",
    "loss_fn = nn.CrossEntropyLoss()\n",
    "optimizer = torch.optim.SGD(lr=LR, params=model_2.parameters())"
   ]
  },
  {
   "attachments": {},
   "cell_type": "markdown",
   "metadata": {},
   "source": [
    "# Training the CNN Model"
   ]
  },
  {
   "attachments": {},
   "cell_type": "markdown",
   "metadata": {},
   "source": [
    "## Loop"
   ]
  },
  {
   "cell_type": "code",
   "execution_count": 224,
   "metadata": {},
   "outputs": [
    {
     "name": "stdout",
     "output_type": "stream",
     "text": [
      "Training Loop\n",
      "-------------\n",
      "-------------\n"
     ]
    },
    {
     "name": "stderr",
     "output_type": "stream",
     "text": [
      "  0%|          | 0/3 [00:00<?, ?it/s]"
     ]
    },
    {
     "name": "stdout",
     "output_type": "stream",
     "text": [
      "\n",
      "Epoch: 1\n",
      "---------------\n",
      "Train loss: 0.62861 | Train accuracy: 77.30%\n"
     ]
    },
    {
     "name": "stderr",
     "output_type": "stream",
     "text": [
      " 33%|███▎      | 1/3 [00:09<00:19,  9.69s/it]"
     ]
    },
    {
     "name": "stdout",
     "output_type": "stream",
     "text": [
      "Test loss: 0.40009 | Test accuracy: 85.43%\n",
      "\n",
      "Epoch: 2\n",
      "---------------\n",
      "Train loss: 0.37755 | Train accuracy: 86.15%\n"
     ]
    },
    {
     "name": "stderr",
     "output_type": "stream",
     "text": [
      " 67%|██████▋   | 2/3 [00:19<00:09,  9.67s/it]"
     ]
    },
    {
     "name": "stdout",
     "output_type": "stream",
     "text": [
      "Test loss: 0.39934 | Test accuracy: 85.52%\n",
      "\n",
      "Epoch: 3\n",
      "---------------\n",
      "Train loss: 0.34066 | Train accuracy: 87.73%\n"
     ]
    },
    {
     "name": "stderr",
     "output_type": "stream",
     "text": [
      "100%|██████████| 3/3 [00:28<00:00,  9.66s/it]"
     ]
    },
    {
     "name": "stdout",
     "output_type": "stream",
     "text": [
      "Test loss: 0.36075 | Test accuracy: 86.76%\n",
      "\n",
      "Train time on mps: 28.984 seconds\n"
     ]
    },
    {
     "name": "stderr",
     "output_type": "stream",
     "text": [
      "\n"
     ]
    }
   ],
   "source": [
    "torch.manual_seed(SEED)\n",
    "\n",
    "EPOCHS = 3\n",
    "\n",
    "print('Training Loop')\n",
    "print('-------------')\n",
    "print('-------------')\n",
    "\n",
    "train_start_time = timer()\n",
    "\n",
    "for epoch in tqdm(range(EPOCHS)):\n",
    "    print(f'\\nEpoch: {epoch + 1}')\n",
    "    print('---------------')\n",
    "    \n",
    "    train_step(model_2, train_dataloader, loss_fn, optimizer, accuracy_fn, DEVICE) \n",
    "    test_step(model_2, test_dataloader, loss_fn, optimizer, accuracy_fn, DEVICE)\n",
    "\n",
    "train_end_time = timer()\n",
    "\n",
    "total_train_time_model_2 = print_train_time(train_start_time, train_end_time, device=DEVICE)"
   ]
  },
  {
   "attachments": {},
   "cell_type": "markdown",
   "metadata": {},
   "source": [
    "# Evaluate the CNN Model"
   ]
  },
  {
   "cell_type": "code",
   "execution_count": 225,
   "metadata": {},
   "outputs": [
    {
     "name": "stdout",
     "output_type": "stream",
     "text": [
      "Evaluation Results\n",
      "------------------\n",
      "{'Model': 'FashionMNISTModelV2', 'Loss': 0.3607487976551056, 'Accuracy': 86.7611821086262}\n"
     ]
    }
   ],
   "source": [
    "# Calculate model 2 results on test dataset\n",
    "model_2_results = eval_model(\n",
    "    model=model_2,\n",
    "    data_loader=test_dataloader,\n",
    "    loss_fn=loss_fn,\n",
    "    accuracy_fn=accuracy_fn,\n",
    "    device=DEVICE\n",
    ")\n",
    "\n",
    "print('Evaluation Results')\n",
    "print('------------------')\n",
    "print(model_2_results)"
   ]
  },
  {
   "attachments": {},
   "cell_type": "markdown",
   "metadata": {},
   "source": [
    "# Compare Model Results and Training Times"
   ]
  },
  {
   "attachments": {},
   "cell_type": "markdown",
   "metadata": {},
   "source": [
    "## DataFrame Construction"
   ]
  },
  {
   "cell_type": "code",
   "execution_count": 230,
   "metadata": {},
   "outputs": [
    {
     "data": {
      "text/html": [
       "<div>\n",
       "<style scoped>\n",
       "    .dataframe tbody tr th:only-of-type {\n",
       "        vertical-align: middle;\n",
       "    }\n",
       "\n",
       "    .dataframe tbody tr th {\n",
       "        vertical-align: top;\n",
       "    }\n",
       "\n",
       "    .dataframe thead th {\n",
       "        text-align: right;\n",
       "    }\n",
       "</style>\n",
       "<table border=\"1\" class=\"dataframe\">\n",
       "  <thead>\n",
       "    <tr style=\"text-align: right;\">\n",
       "      <th></th>\n",
       "      <th>Model</th>\n",
       "      <th>Loss</th>\n",
       "      <th>Accuracy</th>\n",
       "    </tr>\n",
       "  </thead>\n",
       "  <tbody>\n",
       "    <tr>\n",
       "      <th>0</th>\n",
       "      <td>FashionMNISTModelV0</td>\n",
       "      <td>0.518649</td>\n",
       "      <td>82.258387</td>\n",
       "    </tr>\n",
       "    <tr>\n",
       "      <th>1</th>\n",
       "      <td>FashionMNISTModelV1</td>\n",
       "      <td>0.501179</td>\n",
       "      <td>82.617812</td>\n",
       "    </tr>\n",
       "    <tr>\n",
       "      <th>2</th>\n",
       "      <td>FashionMNISTModelV2</td>\n",
       "      <td>0.360749</td>\n",
       "      <td>86.761182</td>\n",
       "    </tr>\n",
       "  </tbody>\n",
       "</table>\n",
       "</div>"
      ],
      "text/plain": [
       "                 Model      Loss   Accuracy\n",
       "0  FashionMNISTModelV0  0.518649  82.258387\n",
       "1  FashionMNISTModelV1  0.501179  82.617812\n",
       "2  FashionMNISTModelV2  0.360749  86.761182"
      ]
     },
     "execution_count": 230,
     "metadata": {},
     "output_type": "execute_result"
    }
   ],
   "source": [
    "import pandas as pd\n",
    "compare_results = pd.DataFrame([model_0_results, model_1_results, model_2_results])\n",
    "\n",
    "compare_results"
   ]
  },
  {
   "attachments": {},
   "cell_type": "markdown",
   "metadata": {},
   "source": [
    "## DataFrame with Training Times"
   ]
  },
  {
   "cell_type": "code",
   "execution_count": 231,
   "metadata": {},
   "outputs": [
    {
     "data": {
      "text/html": [
       "<div>\n",
       "<style scoped>\n",
       "    .dataframe tbody tr th:only-of-type {\n",
       "        vertical-align: middle;\n",
       "    }\n",
       "\n",
       "    .dataframe tbody tr th {\n",
       "        vertical-align: top;\n",
       "    }\n",
       "\n",
       "    .dataframe thead th {\n",
       "        text-align: right;\n",
       "    }\n",
       "</style>\n",
       "<table border=\"1\" class=\"dataframe\">\n",
       "  <thead>\n",
       "    <tr style=\"text-align: right;\">\n",
       "      <th></th>\n",
       "      <th>Model</th>\n",
       "      <th>Loss</th>\n",
       "      <th>Accuracy</th>\n",
       "      <th>Training Time</th>\n",
       "    </tr>\n",
       "  </thead>\n",
       "  <tbody>\n",
       "    <tr>\n",
       "      <th>0</th>\n",
       "      <td>FashionMNISTModelV0</td>\n",
       "      <td>0.518649</td>\n",
       "      <td>82.258387</td>\n",
       "      <td>5.668743</td>\n",
       "    </tr>\n",
       "    <tr>\n",
       "      <th>1</th>\n",
       "      <td>FashionMNISTModelV1</td>\n",
       "      <td>0.501179</td>\n",
       "      <td>82.617812</td>\n",
       "      <td>24.178068</td>\n",
       "    </tr>\n",
       "    <tr>\n",
       "      <th>2</th>\n",
       "      <td>FashionMNISTModelV2</td>\n",
       "      <td>0.360749</td>\n",
       "      <td>86.761182</td>\n",
       "      <td>28.983655</td>\n",
       "    </tr>\n",
       "  </tbody>\n",
       "</table>\n",
       "</div>"
      ],
      "text/plain": [
       "                 Model      Loss   Accuracy  Training Time\n",
       "0  FashionMNISTModelV0  0.518649  82.258387       5.668743\n",
       "1  FashionMNISTModelV1  0.501179  82.617812      24.178068\n",
       "2  FashionMNISTModelV2  0.360749  86.761182      28.983655"
      ]
     },
     "execution_count": 231,
     "metadata": {},
     "output_type": "execute_result"
    }
   ],
   "source": [
    "# Add training times to results comparison\n",
    "compare_results[\"Training Time\"] = [total_train_time_model_0,\n",
    "                                    total_train_time_model_1,\n",
    "                                    total_train_time_model_2]\n",
    "compare_results"
   ]
  },
  {
   "attachments": {},
   "cell_type": "markdown",
   "metadata": {},
   "source": [
    "## Performance Visualization"
   ]
  },
  {
   "cell_type": "code",
   "execution_count": 232,
   "metadata": {},
   "outputs": [
    {
     "data": {
      "text/plain": [
       "Text(0, 0.5, 'Model')"
      ]
     },
     "execution_count": 232,
     "metadata": {},
     "output_type": "execute_result"
    },
    {
     "data": {
      "image/png": "[encoded data removed]",
      "text/plain": [
       "<Figure size 640x480 with 1 Axes>"
      ]
     },
     "metadata": {},
     "output_type": "display_data"
    }
   ],
   "source": [
    "# Visualize our model results\n",
    "compare_results.set_index(\"Model\")[\"Accuracy\"].plot(kind=\"barh\")\n",
    "plt.xlabel(\"Accuracy (%)\")\n",
    "plt.ylabel(\"Model\")"
   ]
  },
  {
   "attachments": {},
   "cell_type": "markdown",
   "metadata": {},
   "source": [
    "# Make and Evaluate Random Predictions with the Best Model"
   ]
  },
  {
   "attachments": {},
   "cell_type": "markdown",
   "metadata": {},
   "source": [
    "## Define Prediction Function"
   ]
  },
  {
   "cell_type": "code",
   "execution_count": 234,
   "metadata": {},
   "outputs": [],
   "source": [
    "def make_predictions(model: torch.nn.Module, data: list, device: torch.device = DEVICE):\n",
    "    pred_probs = []\n",
    "    model.eval()\n",
    "\n",
    "    with torch.inference_mode():\n",
    "        for sample in data:\n",
    "            sample = torch.unsqueeze(sample, dim=0).to(device)\n",
    "            logits = model(sample)\n",
    "            y_prob = torch.softmax(logits.squeeze(), dim=0)\n",
    "            pred_probs.append(y_prob.cpu())\n",
    "            \n",
    "    # Stack the pred_probs to turn list into a tensor\n",
    "    return torch.stack(pred_probs)"
   ]
  },
  {
   "attachments": {},
   "cell_type": "markdown",
   "metadata": {},
   "source": [
    "## Pick Random Samples For Prediction"
   ]
  },
  {
   "cell_type": "code",
   "execution_count": 238,
   "metadata": {},
   "outputs": [
    {
     "name": "stdout",
     "output_type": "stream",
     "text": [
      "Test Sample\n",
      "------------\n",
      "Image Shape: torch.Size([1, 28, 28]) Label: 3 (Dress)\n"
     ]
    }
   ],
   "source": [
    "random.seed(SEED)\n",
    "\n",
    "test_samples = []\n",
    "test_labels = []\n",
    "\n",
    "class_names = train_data.classes\n",
    "\n",
    "for sample, label in random.sample(list(test_data), k=9):\n",
    "    test_samples.append(sample)\n",
    "    test_labels.append(label)\n",
    "\n",
    "print('Test Sample')\n",
    "print('------------')\n",
    "print(f'Image Shape: {test_samples[0].shape} Label: {test_labels[0]} ({class_names[test_labels[0]]})')"
   ]
  },
  {
   "attachments": {},
   "cell_type": "markdown",
   "metadata": {},
   "source": [
    "## Compute Class Probabilities"
   ]
  },
  {
   "cell_type": "code",
   "execution_count": 239,
   "metadata": {},
   "outputs": [
    {
     "name": "stdout",
     "output_type": "stream",
     "text": [
      "Sample Probabilities\n",
      "--------------------\n",
      "pred_probs[:2]: tensor([[8.0484e-03, 9.8653e-04, 5.9769e-02, 6.9990e-01, 2.2732e-01, 8.1630e-05,\n",
      "         2.7510e-03, 6.3744e-06, 1.1292e-03, 9.7403e-06],\n",
      "        [3.9375e-04, 8.0394e-05, 3.1134e-02, 2.0991e-04, 8.9574e-01, 1.1387e-05,\n",
      "         6.2479e-02, 3.3502e-06, 9.8985e-03, 5.4924e-05]])\n"
     ]
    }
   ],
   "source": [
    "pred_probs= make_predictions(model=model_2, data=test_samples)\n",
    "\n",
    "print('Sample Probabilities')\n",
    "print('--------------------')\n",
    "print(f'pred_probs[:2]: {pred_probs[:2]}')"
   ]
  },
  {
   "attachments": {},
   "cell_type": "markdown",
   "metadata": {},
   "source": [
    "## Predicted Classes"
   ]
  },
  {
   "cell_type": "code",
   "execution_count": 245,
   "metadata": {},
   "outputs": [
    {
     "name": "stdout",
     "output_type": "stream",
     "text": [
      "Predicted Classes\n",
      "-----------------\n",
      "pred_classes: [3, 4, 4, 3, 9, 4, 5, 8, 1]\n",
      "test_labels : [3, 4, 4, 3, 5, 4, 5, 8, 1]\n"
     ]
    }
   ],
   "source": [
    "pred_classes = pred_probs.argmax(dim=1)\n",
    "\n",
    "print('Predicted Classes')\n",
    "print('-----------------')\n",
    "print(f'pred_classes: {list(pred_classes.numpy())}')\n",
    "print(f'test_labels : {test_labels}')"
   ]
  },
  {
   "attachments": {},
   "cell_type": "markdown",
   "metadata": {},
   "source": [
    "## Visualization"
   ]
  },
  {
   "cell_type": "code",
   "execution_count": 246,
   "metadata": {},
   "outputs": [
    {
     "data": {
      "image/png": "[encoded data removed]",
      "text/plain": [
       "<Figure size 900x900 with 9 Axes>"
      ]
     },
     "metadata": {},
     "output_type": "display_data"
    }
   ],
   "source": [
    "plt.figure(figsize=(9, 9))\n",
    "rows, cols = 3, 3\n",
    "\n",
    "for i, sample in enumerate(test_samples):\n",
    "  plt.subplot(3, 3, i + 1)\n",
    "\n",
    "  plt.imshow(sample.squeeze(), cmap=\"gray\")\n",
    "\n",
    "  # Extract Predicted and True Label Names\n",
    "  pred_label = class_names[pred_classes[i]]\n",
    "  truth_label = class_names[test_labels[i]] \n",
    "\n",
    "  title_text = f\"Pred: {pred_label} | Truth: {truth_label}\"\n",
    "  \n",
    "  # Check for equality and change title colour accordingly\n",
    "  if pred_label == truth_label:\n",
    "      plt.title(title_text, fontsize=10, c=\"g\") # green text if correct\n",
    "  else:\n",
    "      plt.title(title_text, fontsize=10, c=\"r\") # red text if wrong\n",
    "  plt.axis(False)"
   ]
  },
  {
   "attachments": {},
   "cell_type": "markdown",
   "metadata": {},
   "source": [
    "# Make Confusion Matrix for Performance Evaluation"
   ]
  },
  {
   "attachments": {},
   "cell_type": "markdown",
   "metadata": {},
   "source": [
    "## Compute Predictions for the entire Test Dataset"
   ]
  },
  {
   "cell_type": "code",
   "execution_count": 250,
   "metadata": {},
   "outputs": [
    {
     "name": "stderr",
     "output_type": "stream",
     "text": [
      "Making predictions: 100%|██████████| 313/313 [00:00<00:00, 358.39it/s]\n"
     ]
    }
   ],
   "source": [
    "y_preds = []\n",
    "model_2.eval()\n",
    "\n",
    "with torch.inference_mode():\n",
    "    for X, y in tqdm(test_dataloader, desc=\"Making predictions\"):\n",
    "        X, y = X.to(DEVICE), y.to(DEVICE)\n",
    "        \n",
    "        y_logit = model_2(X)\n",
    "        y_pred = torch.softmax(y_logit, dim=1).argmax(dim=1)\n",
    "\n",
    "        y_preds.append(y_pred.cpu())\n",
    "\n",
    "y_pred_tensor = torch.cat(y_preds)"
   ]
  },
  {
   "attachments": {},
   "cell_type": "markdown",
   "metadata": {},
   "source": [
    "## Compute Confusion Matrix"
   ]
  },
  {
   "cell_type": "code",
   "execution_count": 251,
   "metadata": {},
   "outputs": [
    {
     "data": {
      "image/png": "[encoded data removed]",
      "text/plain": [
       "<Figure size 1000x700 with 1 Axes>"
      ]
     },
     "metadata": {},
     "output_type": "display_data"
    }
   ],
   "source": [
    "from torchmetrics import ConfusionMatrix\n",
    "from mlxtend.plotting import plot_confusion_matrix\n",
    "\n",
    "confmat = ConfusionMatrix(num_classes=len(class_names), task='multiclass')\n",
    "confmat_tensor = confmat(preds=y_pred_tensor, target=test_data.targets)\n",
    "\n",
    "fig, ax = plot_confusion_matrix(\n",
    "    conf_mat=confmat_tensor.numpy(),\n",
    "    class_names=class_names,\n",
    "    figsize=(10, 7)\n",
    ")"
   ]
  },
  {
   "attachments": {},
   "cell_type": "markdown",
   "metadata": {},
   "source": [
    "# Saving and Loading the Best Performing Model"
   ]
  },
  {
   "cell_type": "code",
   "execution_count": 253,
   "metadata": {},
   "outputs": [
    {
     "name": "stdout",
     "output_type": "stream",
     "text": [
      "\n",
      "Saving a Model\n",
      "---------------\n",
      "Saving the model model to: models/getting_started_with_vision_cnn.pth\n",
      "\n",
      "Loading a Saved Model\n",
      "------------------------\n",
      "Loading the model from: models/getting_started_with_vision_cnn.pth\n"
     ]
    },
    {
     "data": {
      "text/plain": [
       "<All keys matched successfully>"
      ]
     },
     "execution_count": 253,
     "metadata": {},
     "output_type": "execute_result"
    }
   ],
   "source": [
    "### Saving a PyTorch Model ###\n",
    "# 1. Create models store.\n",
    "MODELS_STORE = Path(\"models\")\n",
    "MODELS_STORE.mkdir(parents=True, exist_ok=True)\n",
    "\n",
    "# 2. Create model save path.\n",
    "MODEL_NAME = \"getting_started_with_vision_cnn.pth\"\n",
    "MODEL_SAVE_PATH = MODELS_STORE / MODEL_NAME\n",
    "\n",
    "# 3. Save the model state dict\n",
    "print('\\nSaving a Model')\n",
    "print('---------------')\n",
    "print(f\"Saving the model model to: {MODEL_SAVE_PATH}\")\n",
    "torch.save(obj=model_2.state_dict(), f=MODEL_SAVE_PATH)\n",
    "### Saving a PyTorch Model [ENDS] ###\n",
    "\n",
    "### Loading a PyTorch Model ###\n",
    "input_shape, hidden_units, output_shape = 1, 10, len(train_data.classes)\n",
    "saved_model = FashionMNISTModelV2(input_shape, hidden_units, output_shape).to(DEVICE)\n",
    "\n",
    "print('\\nLoading a Saved Model')\n",
    "print('------------------------')\n",
    "print(f\"Loading the model from: {MODEL_SAVE_PATH}\")\n",
    "saved_model.load_state_dict(torch.load(f=MODEL_SAVE_PATH)) # Load the saved parameters"
   ]
  }
 ],
 "metadata": {
  "kernelspec": {
   "display_name": "venv-torch",
   "language": "python",
   "name": "python3"
  },
  "language_info": {
   "codemirror_mode": {
    "name": "ipython",
    "version": 3
   },
   "file_extension": ".py",
   "mimetype": "text/x-python",
   "name": "python",
   "nbconvert_exporter": "python",
   "pygments_lexer": "ipython3",
   "version": "3.11.3"
  },
  "orig_nbformat": 4
 },
 "nbformat": 4,
 "nbformat_minor": 2
}
