{
 "cells": [
  {
   "attachments": {},
   "cell_type": "markdown",
   "metadata": {},
   "source": [
    "We'll follow the [PyTorch Fundamentals](https://www.learnpytorch.io/00_pytorch_fundamentals/) tutorial by [@mrdbourke](https://github.com/mrdbourke/pytorch-deep-learning)\n",
    "\n",
    "# Learnings\n",
    "- Note the difference between the two methods: *torch.tensor()* and *torch.Tensor()*\n",
    "  - The former method create a tensor with the input value.\n",
    "  - The later method treats a scalar input as a the size of a zero tensor.\n",
    "- *tensor.item()* is available just for scalars.\n",
    "- *tensor.shape*, *tensor.dtype* and *tensor.device* are some of the important properties of a torch tensor.\n",
    "- Torch on Mac M1 uses \"mps\" device. Regular GPUs use \"cuda\" device."
   ]
  },
  {
   "attachments": {},
   "cell_type": "markdown",
   "metadata": {},
   "source": [
    "# Module Imports"
   ]
  },
  {
   "cell_type": "code",
   "execution_count": 174,
   "metadata": {},
   "outputs": [
    {
     "data": {
      "text/plain": [
       "'2.1.0.dev20230608'"
      ]
     },
     "execution_count": 174,
     "metadata": {},
     "output_type": "execute_result"
    }
   ],
   "source": [
    "import torch\n",
    "\n",
    "import numpy as np\n",
    "import matplotlib.pyplot as plt\n",
    "import torch.nn as nn\n",
    "\n",
    "from pathlib import Path\n",
    "\n",
    "torch.__version__"
   ]
  },
  {
   "attachments": {},
   "cell_type": "markdown",
   "metadata": {},
   "source": [
    "# Tensor Creation and its Properties"
   ]
  },
  {
   "cell_type": "code",
   "execution_count": 42,
   "metadata": {},
   "outputs": [
    {
     "name": "stdout",
     "output_type": "stream",
     "text": [
      "\n",
      "Scalar\n",
      "-------------\n",
      "Value: 7\n",
      "NDIM:0, Value: 7\n",
      "\n",
      "Vector\n",
      "-------------\n",
      "Value: tensor([7., 7.])\n",
      "NDIM: 1 Shape: torch.Size([2])\n",
      "\n",
      "Matrix\n",
      "-------------\n",
      "Value: tensor([[1, 2],\n",
      "        [3, 4]])\n",
      "NDIM: 2 Shape: torch.Size([2, 2])\n",
      "\n",
      "Tensor\n",
      "-------------\n",
      "Value: tensor([[[1, 2, 3],\n",
      "         [4, 5, 6],\n",
      "         [7, 8, 9]]])\n",
      "NDIM: 3 Shape: torch.Size([1, 3, 3])\n",
      "\n",
      "Random Tensor\n",
      "-------------\n",
      "Value: tensor([[0.0061, 0.6721, 0.6355, 0.3499],\n",
      "        [0.1928, 0.9904, 0.1583, 0.9303],\n",
      "        [0.4737, 0.1640, 0.5281, 0.9073]])\n",
      "Shape: torch.Size([3, 4]) Type: torch.float32\n",
      "\n",
      "Zero Tensor\n",
      "-------------\n",
      "Value: tensor([[0., 0., 0., 0.],\n",
      "        [0., 0., 0., 0.],\n",
      "        [0., 0., 0., 0.]])\n",
      " Shape: torch.Size([3, 4]) Type: torch.float32\n",
      "\\One Tensor\n",
      "-------------\n",
      "Value: tensor([[1., 1., 1., 1.],\n",
      "        [1., 1., 1., 1.],\n",
      "        [1., 1., 1., 1.]])\n",
      "Shape: torch.Size([3, 4]) Type: torch.float32\n",
      "\\Range Tensor\n",
      "-------------\n",
      "Value: tensor([ 1,  5,  9, 13, 17])\n",
      "Shape: torch.Size([5]) Type: torch.int64\n",
      "\n",
      "Tensor 'like' Tensor\n",
      "-------------\n",
      "Source Tensor: tensor([[0., 0., 0., 0., 0.],\n",
      "        [0., 0., 0., 0., 0.]])\n",
      "Value: tensor([[1., 1., 1., 1., 1.],\n",
      "        [1., 1., 1., 1., 1.]])\n",
      "Shape: torch.Size([2, 5]) Type: torch.float32\n",
      "\n",
      "Tensor 'like' Tensor\n",
      "-------------\n",
      "Source Tensor: tensor([[0., 0., 0., 0., 0.],\n",
      "        [0., 0., 0., 0., 0.]])\n",
      "Value: tensor([[1., 1., 1., 1., 1.],\n",
      "        [1., 1., 1., 1., 1.],\n",
      "        [1., 1., 1., 1., 1.],\n",
      "        [1., 1., 1., 1., 1.],\n",
      "        [1., 1., 1., 1., 1.]], dtype=torch.float16)\n",
      "Shape: torch.Size([5, 5]) Type: torch.float16 Device: cpu\n"
     ]
    }
   ],
   "source": [
    "# Scalar\n",
    "\n",
    "scalar = torch.tensor(7)\n",
    "print(f'\\nScalar')\n",
    "print('-------------')\n",
    "print(f'Value: {scalar}')\n",
    "print(f'NDIM:{scalar.ndim}, Value: {scalar.item()}')\n",
    "\n",
    "# Vector\n",
    "vector = torch.Tensor([7, 7])\n",
    "print('\\nVector')\n",
    "print('-------------')\n",
    "print(f'Value: {vector}')\n",
    "print(f'NDIM: {vector.ndim} Shape: {vector.shape}')\n",
    "\n",
    "# Matrix\n",
    "matrix = torch.tensor([\n",
    "    [1, 2],\n",
    "    [3, 4]\n",
    "])\n",
    "print(f'\\nMatrix')\n",
    "print('-------------')\n",
    "print(f'Value: {matrix}')\n",
    "print(f'NDIM: {matrix.ndim} Shape: {matrix.shape}')\n",
    "\n",
    "# Tensor\n",
    "tensor = torch.tensor([\n",
    "    [\n",
    "        [1, 2, 3],\n",
    "        [4, 5, 6],\n",
    "        [7, 8, 9]\n",
    "    ]\n",
    "])\n",
    "print(f'\\nTensor')\n",
    "print('-------------')\n",
    "print(f'Value: {tensor}')\n",
    "print(f'NDIM: {tensor.ndim} Shape: {tensor.shape}')\n",
    "\n",
    "# Random Tensor\n",
    "tensor = torch.rand(size=(3, 4))\n",
    "print(f'\\nRandom Tensor')\n",
    "print('-------------')\n",
    "print(f'Value: {tensor}')\n",
    "print(f'Shape: {tensor.shape} Type: {tensor.dtype}')\n",
    "\n",
    "# Zero Tensor\n",
    "tensor = torch.zeros(size=(3, 4))\n",
    "print(f'\\nZero Tensor')\n",
    "print('-------------')\n",
    "print(f'Value: {tensor}')\n",
    "print(f' Shape: {tensor.shape} Type: {tensor.dtype}')\n",
    "\n",
    "# One Tensor\n",
    "tensor = torch.ones(size=(3, 4))\n",
    "print(f'\\One Tensor')\n",
    "print('-------------')\n",
    "print(f'Value: {tensor}')\n",
    "print(f'Shape: {tensor.shape} Type: {tensor.dtype}')\n",
    "\n",
    "# Range Tensor\n",
    "start, end, step = 1, 20, 4\n",
    "tensor = torch.arange(start, end, step)\n",
    "print(f'\\Range Tensor')\n",
    "print('-------------')\n",
    "print(f'Value: {tensor}')\n",
    "print(f'Shape: {tensor.shape} Type: {tensor.dtype}')\n",
    "\n",
    "# Tensor 'like' Tensor\n",
    "zero_tensor = torch.zeros([2, 5])\n",
    "tensor = torch.ones_like(zero_tensor)\n",
    "print(f'\\nTensor \\'like\\' Tensor')\n",
    "print('-------------')\n",
    "print(f'Source Tensor: {zero_tensor}')\n",
    "print(f'Value: {tensor}')\n",
    "print(f'Shape: {tensor.shape} Type: {tensor.dtype}')\n",
    "\n",
    "# Tensor with datatype\n",
    "tensor = torch.ones([5, 5], dtype=torch.float16)\n",
    "print(f'\\nTensor \\'like\\' Tensor')\n",
    "print('-------------')\n",
    "print(f'Source Tensor: {zero_tensor}')\n",
    "print(f'Value: {tensor}')\n",
    "print(f'Shape: {tensor.shape} Type: {tensor.dtype} Device: {tensor.device}')"
   ]
  },
  {
   "attachments": {},
   "cell_type": "markdown",
   "metadata": {},
   "source": [
    "# Tensor Arithmetics"
   ]
  },
  {
   "cell_type": "code",
   "execution_count": 68,
   "metadata": {},
   "outputs": [
    {
     "name": "stdout",
     "output_type": "stream",
     "text": [
      "\n",
      "Tensor Addition\n",
      "-------------\n",
      "a: tensor([1, 2, 3])\n",
      "b = a + 3: tensor([4, 5, 6])\n",
      "Value: tensor([1, 2, 3])\n",
      "\n",
      "Tensor Subtraction\n",
      "-------------\n",
      "a: tensor([1, 2, 3])\n",
      "b = a - 3: tensor([-2, -1,  0])\n",
      "Value: tensor([1, 2, 3])\n",
      "\n",
      "Tensor Multiplication\n",
      "-------------\n",
      "a: tensor([1, 2, 3])\n",
      "b = a * 3: tensor([3, 6, 9])\n",
      "Value: tensor([1, 2, 3])\n",
      "\n",
      "Matrix Multiplication\n",
      "-------------\n",
      "a: tensor([[1, 2, 3]]) Shape: torch.Size([1, 3])\n",
      "b: tensor([[4],\n",
      "        [5],\n",
      "        [6]]) Shape: torch.Size([3, 1])\n",
      "result = a @ b: tensor([[32]]) Shape: torch.Size([1, 1])\n",
      "\n",
      "Matrix Multiplication in a Linear Layer\n",
      "-------------\n",
      "a: tensor([[1., 2., 3.]]) Shape: torch.Size([1, 3])\n",
      "result = linear(a): tensor([[-0.7548, -2.0165, -0.5374, -0.5552,  1.8785, -2.3353]],\n",
      "       grad_fn=<AddmmBackward0>) Shape: torch.Size([1, 6])\n",
      "\n",
      "Change dtype\n",
      "-------------\n",
      "a: tensor([[1, 2, 3]]) Dtype: torch.int64\n",
      "b: tensor([[1., 2., 3.]]) Dtype: torch.float32\n",
      "\n",
      "Min, Max, Mean, and Sum\n",
      "-------------\n",
      "a: tensor([[1, 2, 3]]) Shape: torch.Size([1, 3])\n",
      "Min: 1 Max: 3 Mean: 2.0 Sum: 6\n",
      "\n",
      "Argmin and Argmax\n",
      "-------------\n",
      "a: tensor([[1, 2, 3]]) Shape: torch.Size([1, 3])\n",
      "Argmin: 0 Argmax: 2\n"
     ]
    }
   ],
   "source": [
    "# Addition\n",
    "a = torch.tensor([1, 2 , 3])\n",
    "b = a + 3\n",
    "print(f'\\nTensor Addition')\n",
    "print('-------------')\n",
    "print(f'a: {a}')\n",
    "print(f'b = a + 3: {b}')\n",
    "print(f'Value: {a}')\n",
    "\n",
    "# Subtraction\n",
    "a = torch.tensor([1, 2 , 3])\n",
    "b = a - 3\n",
    "print(f'\\nTensor Subtraction')\n",
    "print('-------------')\n",
    "print(f'a: {a}')\n",
    "print(f'b = a - 3: {b}')\n",
    "print(f'Value: {a}')\n",
    "\n",
    "# Multiplication\n",
    "a = torch.tensor([1, 2 , 3])\n",
    "b = a * 3\n",
    "print(f'\\nTensor Multiplication')\n",
    "print('-------------')\n",
    "print(f'a: {a}')\n",
    "print(f'b = a * 3: {b}')\n",
    "print(f'Value: {a}')\n",
    "\n",
    "# Matrix Multiplication\n",
    "a = torch.tensor([[1, 2, 3]])\n",
    "b = torch.tensor([[4, 5, 6]]).T\n",
    "result = a @ b\n",
    "print(f'\\nMatrix Multiplication')\n",
    "print('-------------')\n",
    "print(f'a: {a} Shape: {a.shape}')\n",
    "print(f'b: {b} Shape: {b.shape}')\n",
    "print(f'result = a @ b: {result} Shape: {result.shape}')\n",
    "\n",
    "# Matrix Multiplication in a Linear Layer\n",
    "a = torch.tensor([[1, 2, 3]], dtype=torch.float32)\n",
    "l = torch.nn.Linear(in_features=3, out_features=6)\n",
    "result = l(a)\n",
    "print(f'\\nMatrix Multiplication in a Linear Layer')\n",
    "print('-------------')\n",
    "print(f'a: {a} Shape: {a.shape}')\n",
    "print(f'result = linear(a): {result} Shape: {result.shape}')\n",
    "\n",
    "# Change Dtype\n",
    "a = torch.tensor([[1, 2, 3]])\n",
    "b = a.type(torch.float32)\n",
    "print(f'\\nChange dtype')\n",
    "print('-------------')\n",
    "print(f'a: {a} Dtype: {a.dtype}')\n",
    "print(f'b: {b} Dtype: {b.dtype}')\n",
    "\n",
    "# Min, Max, Mean, Sum\n",
    "a = torch.tensor([[1, 2, 3]])\n",
    "min_value = a.min()\n",
    "max_value = a.max()\n",
    "mean_value = a.type(torch.float32).mean()\n",
    "sum_value = a.sum()\n",
    "print(f'\\nMin, Max, Mean, and Sum')\n",
    "print('-------------')\n",
    "print(f'a: {a} Shape: {a.shape}')\n",
    "print(f'Min: {min_value} Max: {max_value} Mean: {mean_value} Sum: {sum_value}')\n",
    "\n",
    "# Argmin and Argmax\n",
    "a = torch.tensor([[1, 2, 3]])\n",
    "argmin = a.argmin()\n",
    "argmax = a.argmax()\n",
    "\n",
    "print(f'\\nArgmin and Argmax')\n",
    "print('-------------')\n",
    "print(f'a: {a} Shape: {a.shape}')\n",
    "print(f'Argmin: {argmin} Argmax: {argmax}')"
   ]
  },
  {
   "attachments": {},
   "cell_type": "markdown",
   "metadata": {},
   "source": [
    "# Tensor Stacking and Reshaping Operations"
   ]
  },
  {
   "cell_type": "code",
   "execution_count": 86,
   "metadata": {},
   "outputs": [
    {
     "name": "stdout",
     "output_type": "stream",
     "text": [
      "\n",
      "Reshape\n",
      "-------------\n",
      "x: tensor([ 1,  2,  3,  4,  5,  6,  7,  8,  9, 10]) Shape: torch.Size([10])\n",
      "Result: tensor([[ 1,  2,  3,  4,  5],\n",
      "        [ 6,  7,  8,  9, 10]]) Shape: torch.Size([2, 5])\n",
      "\n",
      "View\n",
      "-------------\n",
      "x: tensor([ 1,  2,  3,  4,  5,  6,  7,  8,  9, 10]) Shape: torch.Size([10])\n",
      "Result: tensor([[ 1,  2],\n",
      "        [ 3,  4],\n",
      "        [ 5,  6],\n",
      "        [ 7,  8],\n",
      "        [ 9, 10]]) Shape: torch.Size([5, 2])\n",
      "\n",
      "Stack\n",
      "-------------\n",
      "x: tensor([[ 1,  2],\n",
      "        [ 3,  4],\n",
      "        [ 5,  6],\n",
      "        [ 7,  8],\n",
      "        [ 9, 10]]) Shape: torch.Size([5, 2])\n",
      "Result: tensor([[1, 2],\n",
      "        [5, 6]]) Shape: torch.Size([2, 2])\n",
      "\n",
      "Squeeze\n",
      "-------------\n",
      "x: tensor([[ 1,  2,  3,  4,  5,  6,  7,  8,  9, 10]]) Shape: torch.Size([1, 10])\n",
      "Result: tensor([ 1,  2,  3,  4,  5,  6,  7,  8,  9, 10]) Shape: torch.Size([10])\n",
      "\n",
      "Unsqueeze\n",
      "-------------\n",
      "x: tensor([ 1,  2,  3,  4,  5,  6,  7,  8,  9, 10]) Shape: torch.Size([10])\n",
      "Result: tensor([[ 1,  2,  3,  4,  5,  6,  7,  8,  9, 10]]) Shape: torch.Size([1, 10])\n",
      "\\Permute\n",
      "-------------\n",
      "x: tensor([[[0.8529, 0.7632],\n",
      "         [0.9401, 0.2203],\n",
      "         [0.1457, 0.2909]],\n",
      "\n",
      "        [[0.0409, 0.0817],\n",
      "         [0.1929, 0.3411],\n",
      "         [0.1624, 0.6053]],\n",
      "\n",
      "        [[0.2268, 0.4390],\n",
      "         [0.1962, 0.0210],\n",
      "         [0.1125, 0.0811]],\n",
      "\n",
      "        [[0.7095, 0.2654],\n",
      "         [0.5051, 0.2817],\n",
      "         [0.6136, 0.6561]],\n",
      "\n",
      "        [[0.1683, 0.4594],\n",
      "         [0.2186, 0.1867],\n",
      "         [0.0220, 0.4413]]]) Shape: torch.Size([5, 3, 2])\n",
      "Result: tensor([[[0.8529, 0.9401, 0.1457],\n",
      "         [0.0409, 0.1929, 0.1624],\n",
      "         [0.2268, 0.1962, 0.1125],\n",
      "         [0.7095, 0.5051, 0.6136],\n",
      "         [0.1683, 0.2186, 0.0220]],\n",
      "\n",
      "        [[0.7632, 0.2203, 0.2909],\n",
      "         [0.0817, 0.3411, 0.6053],\n",
      "         [0.4390, 0.0210, 0.0811],\n",
      "         [0.2654, 0.2817, 0.6561],\n",
      "         [0.4594, 0.1867, 0.4413]]]) Shape: torch.Size([2, 5, 3])\n"
     ]
    }
   ],
   "source": [
    "# Reshape\n",
    "x = torch.arange(1, 11)\n",
    "result = x.reshape(2, 5)\n",
    "print(f'\\nReshape')\n",
    "print('-------------')\n",
    "print(f'x: {x} Shape: {x.shape}')\n",
    "print(f'Result: {result} Shape: {result.shape}')\n",
    "\n",
    "# View\n",
    "x = torch.arange(1, 11)\n",
    "result = x.view(5, 2)\n",
    "print(f'\\nView')\n",
    "print('-------------')\n",
    "print(f'x: {x} Shape: {x.shape}')\n",
    "print(f'Result: {result} Shape: {result.shape}')\n",
    "\n",
    "# Stack\n",
    "x = torch.arange(1, 11).reshape(5, 2)\n",
    "result = torch.stack([x[0, :], x[2, :]])\n",
    "print(f'\\nStack')\n",
    "print('-------------')\n",
    "print(f'x: {x} Shape: {x.shape}')\n",
    "print(f'Result: {result} Shape: {result.shape}')\n",
    "\n",
    "# Squeeze\n",
    "x = torch.arange(1, 11).reshape(1, 10)\n",
    "result = x.squeeze()\n",
    "print(f'\\nSqueeze')\n",
    "print('-------------')\n",
    "print(f'x: {x} Shape: {x.shape}')\n",
    "print(f'Result: {result} Shape: {result.shape}')\n",
    "\n",
    "# Unsqueeze\n",
    "x = torch.arange(1, 11)\n",
    "result = x.unsqueeze(dim=0)\n",
    "print(f'\\nUnsqueeze')\n",
    "print('-------------')\n",
    "print(f'x: {x} Shape: {x.shape}')\n",
    "print(f'Result: {result} Shape: {result.shape}')\n",
    "\n",
    "# Permute\n",
    "x = torch.rand(5, 3, 2)\n",
    "result = x.permute(2, 0, 1)\n",
    "print(f'\\Permute')\n",
    "print('-------------')\n",
    "print(f'x: {x} Shape: {x.shape}')\n",
    "print(f'Result: {result} Shape: {result.shape}')"
   ]
  },
  {
   "attachments": {},
   "cell_type": "markdown",
   "metadata": {},
   "source": [
    "# Interoperability with NumPy"
   ]
  },
  {
   "cell_type": "code",
   "execution_count": 98,
   "metadata": {},
   "outputs": [
    {
     "name": "stdout",
     "output_type": "stream",
     "text": [
      "\n",
      "NumPy to Torch Tensor\n",
      "-----------------------\n",
      "x: [ 1  2  3  4  5  6  7  8  9 10] Shape: (10,)\n",
      "Result: tensor([ 1,  2,  3,  4,  5,  6,  7,  8,  9, 10]) Shape: torch.Size([10])\n",
      "\n",
      "Torch Tensor to NumPy\n",
      "-----------------------\n",
      "x: tensor([ 1,  2,  3,  4,  5,  6,  7,  8,  9, 10]) Shape: torch.Size([10])\n",
      "Result: [ 1  2  3  4  5  6  7  8  9 10] Shape: (10,)\n"
     ]
    }
   ],
   "source": [
    "# NumPy to torch tensor\n",
    "x = np.arange(1, 11)\n",
    "result = torch.from_numpy(x)\n",
    "\n",
    "print(f'\\nNumPy to Torch Tensor')\n",
    "print('-----------------------')\n",
    "print(f'x: {x} Shape: {x.shape}')\n",
    "print(f'Result: {result} Shape: {result.shape}')\n",
    "\n",
    "# Torch tensor to NumPy\n",
    "x = torch.arange(1, 11)\n",
    "result = x.numpy()\n",
    "\n",
    "print(f'\\nTorch Tensor to NumPy')\n",
    "print('-----------------------')\n",
    "print(f'x: {x} Shape: {x.shape}')\n",
    "print(f'Result: {result} Shape: {result.shape}')\n"
   ]
  },
  {
   "attachments": {},
   "cell_type": "markdown",
   "metadata": {},
   "source": [
    "# Reproducibility"
   ]
  },
  {
   "cell_type": "code",
   "execution_count": 109,
   "metadata": {},
   "outputs": [
    {
     "name": "stdout",
     "output_type": "stream",
     "text": [
      "\n",
      "Non-reproducible Randomness\n",
      "------------------------------\n",
      "a: tensor([[0.0724, 0.6593, 0.7150, 0.5793],\n",
      "        [0.9809, 0.6502, 0.0566, 0.9201],\n",
      "        [0.6698, 0.2615, 0.0407, 0.7850]]) Shape: torch.Size([3, 4])\n",
      "b: tensor([[0.9752, 0.0903, 0.5273, 0.6794],\n",
      "        [0.2639, 0.3906, 0.1661, 0.2636],\n",
      "        [0.0442, 0.4884, 0.7965, 0.7432]]) Shape: torch.Size([3, 4])\n",
      "Comparison Result: tensor([[False, False, False, False],\n",
      "        [False, False, False, False],\n",
      "        [False, False, False, False]]) Shape: torch.Size([3, 4])\n",
      "\n",
      "Reproducible Randomness\n",
      "-----------------------\n",
      "a: tensor([[0.8303, 0.1261, 0.9075, 0.8199],\n",
      "        [0.9201, 0.1166, 0.1644, 0.7379],\n",
      "        [0.0333, 0.9942, 0.6064, 0.5646]]) Shape: torch.Size([3, 4])\n",
      "b: tensor([[0.8303, 0.1261, 0.9075, 0.8199],\n",
      "        [0.9201, 0.1166, 0.1644, 0.7379],\n",
      "        [0.0333, 0.9942, 0.6064, 0.5646]]) Shape: torch.Size([3, 4])\n",
      "Comparison Result: tensor([[True, True, True, True],\n",
      "        [True, True, True, True],\n",
      "        [True, True, True, True]]) Shape: torch.Size([3, 4])\n"
     ]
    }
   ],
   "source": [
    "# Non-reproducible Randomness\n",
    "a = torch.rand(3, 4)\n",
    "b = torch.rand(3, 4)\n",
    "result = a == b\n",
    "\n",
    "print(f'\\nNon-reproducible Randomness')\n",
    "print('------------------------------')\n",
    "print(f'a: {a} Shape: {a.shape}')\n",
    "print(f'b: {b} Shape: {b.shape}')\n",
    "print(f'Comparison Result: {result} Shape: {result.shape}')\n",
    "\n",
    "# Reproducible Randomness\n",
    "SEED = 5\n",
    "\n",
    "torch.manual_seed(SEED)\n",
    "a = torch.rand(3, 4)\n",
    "\n",
    "torch.manual_seed(SEED)\n",
    "b = torch.rand(3, 4)\n",
    "result = a == b\n",
    "\n",
    "print(f'\\nReproducible Randomness')\n",
    "print('-----------------------')\n",
    "print(f'a: {a} Shape: {a.shape}')\n",
    "print(f'b: {b} Shape: {b.shape}')\n",
    "print(f'Comparison Result: {result} Shape: {result.shape}')"
   ]
  },
  {
   "attachments": {},
   "cell_type": "markdown",
   "metadata": {},
   "source": [
    "# Torch on Mac M1"
   ]
  },
  {
   "cell_type": "code",
   "execution_count": 116,
   "metadata": {},
   "outputs": [
    {
     "name": "stdout",
     "output_type": "stream",
     "text": [
      "\n",
      "Create a tensor on Mac M1 GPU\n",
      "--------------------------------\n",
      "x: tensor([ 1,  2,  3,  4,  5,  6,  7,  8,  9, 10], device='mps:0') Shape: torch.Size([10]) Device: mps:0\n",
      "\n",
      "Move a tensor to Mac M1 GPU\n",
      "--------------------------------\n",
      "x: tensor([ 1,  2,  3,  4,  5,  6,  7,  8,  9, 10]) Shape: torch.Size([10]) Device: cpu\n",
      "Result: tensor([ 1,  2,  3,  4,  5,  6,  7,  8,  9, 10], device='mps:0') Shape: torch.Size([10]) Device: mps:0\n",
      "\n",
      "Move a tensor to Mac M1 GPU\n",
      "--------------------------------\n",
      "x: tensor([ 1,  2,  3,  4,  5,  6,  7,  8,  9, 10], device='mps:0') Shape: torch.Size([10]) Device: mps:0\n",
      "Result: tensor([ 1,  2,  3,  4,  5,  6,  7,  8,  9, 10]) Shape: torch.Size([10]) Device: cpu\n"
     ]
    }
   ],
   "source": [
    "# Create a tensor on Mac M1 GPU\n",
    "mps = torch.device(\"mps\")\n",
    "x = torch.arange(1, 11, device=mps)\n",
    "\n",
    "print(f'\\nCreate a tensor on Mac M1 GPU')\n",
    "print('--------------------------------')\n",
    "print(f'x: {x} Shape: {x.shape} Device: {x.device}')\n",
    "\n",
    "# Move a tensor to Mac M1 GPU\n",
    "x = torch.arange(1, 11)\n",
    "result = x.to(mps)\n",
    "print(f'\\nMove a tensor to Mac M1 GPU')\n",
    "print('--------------------------------')\n",
    "print(f'x: {x} Shape: {x.shape} Device: {x.device}')\n",
    "print(f'Result: {result} Shape: {result.shape} Device: {result.device}')\n",
    "\n",
    "# Move a tensor from Mac M1 GPU back to CPU\n",
    "x = torch.arange(1, 11, device=mps)\n",
    "result = x.cpu()\n",
    "print(f'\\nMove a tensor to Mac M1 GPU')\n",
    "print('--------------------------------')\n",
    "print(f'x: {x} Shape: {x.shape} Device: {x.device}')\n",
    "print(f'Result: {result} Shape: {result.shape} Device: {result.device}')"
   ]
  },
  {
   "attachments": {},
   "cell_type": "markdown",
   "metadata": {},
   "source": [
    "# PyTorch Training Workflow\n",
    "\n",
    "We'll train a simple linear regression model to understand the PyTorch training workflow. The main steps involved in the end-to-end workflow can be outlined as:\n",
    "- Data Preparation\n",
    "- Model Design\n",
    "- Model Training\n",
    "- Making Predictions\n",
    "- Model Perisistence and Loading"
   ]
  },
  {
   "attachments": {},
   "cell_type": "markdown",
   "metadata": {},
   "source": [
    "## Data Preparation\n",
    "\n",
    "We'll generate random data to train our model. The outputs will be computed based on a simple predefined function. The predefined function will just multiply input by some weight and add to it an offset. This is to ensure that the function is easy to learn."
   ]
  },
  {
   "attachments": {},
   "cell_type": "markdown",
   "metadata": {},
   "source": [
    "### Creation"
   ]
  },
  {
   "cell_type": "code",
   "execution_count": 123,
   "metadata": {},
   "outputs": [
    {
     "name": "stdout",
     "output_type": "stream",
     "text": [
      "\n",
      "Data Summary\n",
      "------------\n",
      "X:: Shape: torch.Size([50, 1])\n",
      "Y:: Shape: torch.Size([50, 1])\n",
      "\n",
      "X[:10]: tensor([[0.0000],\n",
      "        [0.0200],\n",
      "        [0.0400],\n",
      "        [0.0600],\n",
      "        [0.0800],\n",
      "        [0.1000],\n",
      "        [0.1200],\n",
      "        [0.1400],\n",
      "        [0.1600],\n",
      "        [0.1800]])\n",
      "\n",
      "Y[:10]: tensor([[0.3000],\n",
      "        [0.3140],\n",
      "        [0.3280],\n",
      "        [0.3420],\n",
      "        [0.3560],\n",
      "        [0.3700],\n",
      "        [0.3840],\n",
      "        [0.3980],\n",
      "        [0.4120],\n",
      "        [0.4260]])\n"
     ]
    }
   ],
   "source": [
    "# Function parameters.\n",
    "weight, bias = 0.7, 0.3\n",
    "\n",
    "# Data creation.\n",
    "start, end, step = 0, 1, 0.02\n",
    "X = torch.arange(start, end, step).unsqueeze(dim=1)\n",
    "Y = weight * X + bias\n",
    "\n",
    "print('\\nData Summary')\n",
    "print('------------')\n",
    "print(f'X:: Shape: {X.shape}')\n",
    "print(f'Y:: Shape: {Y.shape}')\n",
    "print(f'\\nX[:10]: {X[:10]}')\n",
    "print(f'\\nY[:10]: {Y[:10]}')"
   ]
  },
  {
   "attachments": {},
   "cell_type": "markdown",
   "metadata": {},
   "source": [
    "### Training and Test Splits"
   ]
  },
  {
   "cell_type": "code",
   "execution_count": 161,
   "metadata": {},
   "outputs": [
    {
     "name": "stdout",
     "output_type": "stream",
     "text": [
      "\n",
      "Train/Test Splits\n",
      "-----------------\n",
      "X_train: torch.Size([40, 1]) Y_train: torch.Size([40, 1])\n",
      "X_test: torch.Size([10, 1]) Y_test: torch.Size([10, 1])\n"
     ]
    }
   ],
   "source": [
    "# Create train/test split\n",
    "train_split_fraction = 0.8 # Use 80% data for training and the rest for testing.\n",
    "\n",
    "train_size = int(train_split_fraction * len(X))\n",
    "\n",
    "X_train, Y_train = X[:train_size], Y[:train_size]\n",
    "X_test, Y_test = X[train_size:], Y[train_size:]\n",
    "\n",
    "print('\\nTrain/Test Splits')\n",
    "print('-----------------')\n",
    "print(f'X_train: {X_train.shape} Y_train: {Y_train.shape}')\n",
    "print(f'X_test: {X_test.shape} Y_test: {Y_test.shape}')"
   ]
  },
  {
   "attachments": {},
   "cell_type": "markdown",
   "metadata": {},
   "source": [
    "### Visualization"
   ]
  },
  {
   "cell_type": "code",
   "execution_count": 162,
   "metadata": {},
   "outputs": [
    {
     "data": {
      "image/png": "[encoded data removed]",
      "text/plain": [
       "<Figure size 1000x700 with 1 Axes>"
      ]
     },
     "metadata": {},
     "output_type": "display_data"
    }
   ],
   "source": [
    "def plot_predictions(train_data=X_train, \n",
    "                     train_labels=Y_train, \n",
    "                     test_data=X_test, \n",
    "                     test_labels=Y_test, \n",
    "                     predictions=None):\n",
    "    \"\"\"\n",
    "    Plots training data, test data and compares predictions.\n",
    "    \"\"\"\n",
    "    plt.figure(figsize=(10, 7))\n",
    "\n",
    "    # Plot training data in blue\n",
    "    plt.scatter(train_data, train_labels, c=\"b\", s=4, label=\"Training Set\")\n",
    "\n",
    "    # Plot test data in green\n",
    "    plt.scatter(test_data, test_labels, c=\"g\", s=4, label=\"Test Set\")\n",
    "\n",
    "    if predictions is not None:\n",
    "        # Plot the predictions in red (predictions were made on the test data)\n",
    "        plt.scatter(test_data, predictions, c=\"r\", s=4, label=\"Predictions\")\n",
    "\n",
    "    # Show the legend\n",
    "    plt.legend(prop={\"size\": 14})\n",
    "\n",
    "plot_predictions()"
   ]
  },
  {
   "attachments": {},
   "cell_type": "markdown",
   "metadata": {},
   "source": [
    "## Model Design"
   ]
  },
  {
   "attachments": {},
   "cell_type": "markdown",
   "metadata": {},
   "source": [
    "### Architecture"
   ]
  },
  {
   "cell_type": "code",
   "execution_count": 163,
   "metadata": {},
   "outputs": [
    {
     "name": "stdout",
     "output_type": "stream",
     "text": [
      "\n",
      "LinearRegressionModel Parameters\n",
      "--------------------------------\n",
      "\n",
      "Parameter containing:\n",
      "tensor([0.8033], requires_grad=True)\n",
      "\n",
      "Parameter containing:\n",
      "tensor([0.1748], requires_grad=True)\n"
     ]
    },
    {
     "data": {
      "text/plain": [
       "OrderedDict([('weights', tensor([0.8033])), ('bias', tensor([0.1748]))])"
      ]
     },
     "execution_count": 163,
     "metadata": {},
     "output_type": "execute_result"
    }
   ],
   "source": [
    "class LinearRegressionModel(nn.Module):\n",
    "    def __init__(self):\n",
    "        super().__init__()\n",
    "        self.weights = nn.Parameter(torch.randn(1), requires_grad=True)\n",
    "        self.bias = nn.Parameter(torch.randn(1), requires_grad=True)\n",
    "    \n",
    "    def forward(self, x):\n",
    "        return self.weights * x + self.bias\n",
    "\n",
    "SEED = 3\n",
    "torch.manual_seed(SEED)\n",
    "\n",
    "model = LinearRegressionModel()\n",
    "\n",
    "print('\\nLinearRegressionModel Parameters')\n",
    "print(f'--------------------------------')\n",
    "for p in model.parameters():\n",
    "    print(f'\\n{p}')\n",
    "\n",
    "model.state_dict()"
   ]
  },
  {
   "attachments": {},
   "cell_type": "markdown",
   "metadata": {},
   "source": [
    "### Sample Prediction"
   ]
  },
  {
   "cell_type": "code",
   "execution_count": 164,
   "metadata": {},
   "outputs": [
    {
     "name": "stdout",
     "output_type": "stream",
     "text": [
      "\n",
      "Sample Predictions\n",
      "-------------------\n",
      "y_preds: Shape: torch.Size([10, 1])\n",
      "\n",
      "Y_test[:10]:: tensor([[0.8600],\n",
      "        [0.8740],\n",
      "        [0.8880],\n",
      "        [0.9020],\n",
      "        [0.9160],\n",
      "        [0.9300],\n",
      "        [0.9440],\n",
      "        [0.9580],\n",
      "        [0.9720],\n",
      "        [0.9860]])\n",
      "\n",
      "y_preds[:10]:: tensor([[0.8175],\n",
      "        [0.8335],\n",
      "        [0.8496],\n",
      "        [0.8657],\n",
      "        [0.8817],\n",
      "        [0.8978],\n",
      "        [0.9138],\n",
      "        [0.9299],\n",
      "        [0.9460],\n",
      "        [0.9620]])\n"
     ]
    },
    {
     "data": {
      "image/png": "[encoded data removed]",
      "text/plain": [
       "<Figure size 1000x700 with 1 Axes>"
      ]
     },
     "metadata": {},
     "output_type": "display_data"
    }
   ],
   "source": [
    "with torch.inference_mode(): \n",
    "    y_preds = model(X_test)\n",
    "\n",
    "print('\\nSample Predictions')\n",
    "print(f'-------------------')\n",
    "print(f'y_preds: Shape: {y_preds.shape}')\n",
    "print(f'\\nY_test[:10]:: {Y_test[:10]}')\n",
    "print(f'\\ny_preds[:10]:: {y_preds[:10]}')\n",
    "\n",
    "plot_predictions(predictions=y_preds)"
   ]
  },
  {
   "attachments": {},
   "cell_type": "markdown",
   "metadata": {},
   "source": [
    "## Model Training"
   ]
  },
  {
   "attachments": {},
   "cell_type": "markdown",
   "metadata": {},
   "source": [
    "### Loss Function and Optimizer"
   ]
  },
  {
   "cell_type": "code",
   "execution_count": 165,
   "metadata": {},
   "outputs": [],
   "source": [
    "LR = 0.01\n",
    "loss_fn = nn.L1Loss() # MAE Loss\n",
    "\n",
    "# Stochastic Gradient Descent (SGD) Optimizer\n",
    "optimizer = torch.optim.SGD(params=model.parameters(), lr=LR) "
   ]
  },
  {
   "attachments": {},
   "cell_type": "markdown",
   "metadata": {},
   "source": [
    "### Optimization Loop"
   ]
  },
  {
   "cell_type": "code",
   "execution_count": 166,
   "metadata": {},
   "outputs": [
    {
     "name": "stdout",
     "output_type": "stream",
     "text": [
      "Epoch: 0 | MAE Train Loss: 0.08488894999027252 | MAE Test Loss: 0.01977989636361599 \n",
      "Epoch: 10 | MAE Train Loss: 0.02520977333188057 | MAE Test Loss: 0.05137182027101517 \n",
      "Epoch: 20 | MAE Train Loss: 0.021332750096917152 | MAE Test Loss: 0.049325842410326004 \n",
      "Epoch: 30 | MAE Train Loss: 0.017900999635457993 | MAE Test Loss: 0.04105328768491745 \n",
      "Epoch: 40 | MAE Train Loss: 0.014462193474173546 | MAE Test Loss: 0.032780759036540985 \n",
      "Epoch: 50 | MAE Train Loss: 0.011030814610421658 | MAE Test Loss: 0.025195086374878883 \n",
      "Epoch: 60 | MAE Train Loss: 0.00759738078340888 | MAE Test Loss: 0.016922563314437866 \n",
      "Epoch: 70 | MAE Train Loss: 0.004158575087785721 | MAE Test Loss: 0.008650029078125954 \n",
      "Epoch: 80 | MAE Train Loss: 0.007021299563348293 | MAE Test Loss: 0.002361851977184415 \n",
      "Epoch: 90 | MAE Train Loss: 0.007021299563348293 | MAE Test Loss: 0.002361851977184415 \n"
     ]
    }
   ],
   "source": [
    "torch.manual_seed(SEED)\n",
    "\n",
    "EPOCHS = 100\n",
    "\n",
    "# Create empty loss lists to track values\n",
    "train_loss_values = []\n",
    "test_loss_values = []\n",
    "epoch_count = []\n",
    "\n",
    "for epoch in range(EPOCHS):\n",
    "    model.train() # Put the model in the training mode\n",
    "\n",
    "    # 1. Get model predictions\n",
    "    y_pred = model(X_train)\n",
    "\n",
    "    # 2. Calculate the loss between true values and predicted values.\n",
    "    loss = loss_fn(y_pred, Y_train)\n",
    "\n",
    "    # 3. Reset optimizer gradients.\n",
    "    optimizer.zero_grad()\n",
    "\n",
    "    # 4. Backward pass to compute the gradients\n",
    "    loss.backward()\n",
    "\n",
    "    # 5. Apply the computed gradients to the model parameters.\n",
    "    optimizer.step()\n",
    "\n",
    "    # Put the model in evaluation mode\n",
    "    model.eval()\n",
    "\n",
    "    with torch.inference_mode():\n",
    "      # 1. Forward pass on test data\n",
    "      test_pred = model(X_test)\n",
    "\n",
    "      # 2. Caculate loss on test data\n",
    "      test_loss = loss_fn(test_pred, Y_test.type(torch.float)) # predictions come in torch.float datatype, so comparisons need to be done with tensors of the same type\n",
    "\n",
    "      # Print out what's happening\n",
    "      if epoch % 10 == 0:\n",
    "            epoch_count.append(epoch)\n",
    "            train_loss_values.append(loss.detach().numpy())\n",
    "            test_loss_values.append(test_loss.detach().numpy())\n",
    "            print(f\"Epoch: {epoch} | MAE Train Loss: {loss} | MAE Test Loss: {test_loss} \")"
   ]
  },
  {
   "attachments": {},
   "cell_type": "markdown",
   "metadata": {},
   "source": [
    "### Training Visualization"
   ]
  },
  {
   "cell_type": "code",
   "execution_count": 167,
   "metadata": {},
   "outputs": [
    {
     "data": {
      "text/plain": [
       "<matplotlib.legend.Legend at 0x15a2a1310>"
      ]
     },
     "execution_count": 167,
     "metadata": {},
     "output_type": "execute_result"
    },
    {
     "data": {
      "image/png": "[encoded data removed]",
      "text/plain": [
       "<Figure size 640x480 with 1 Axes>"
      ]
     },
     "metadata": {},
     "output_type": "display_data"
    }
   ],
   "source": [
    "# Plot the loss curves\n",
    "plt.plot(epoch_count, train_loss_values, label=\"Train loss\")\n",
    "plt.plot(epoch_count, test_loss_values, label=\"Test loss\")\n",
    "plt.title(\"Training and test loss curves\")\n",
    "plt.ylabel(\"Loss\")\n",
    "plt.xlabel(\"Epochs\")\n",
    "plt.legend()"
   ]
  },
  {
   "attachments": {},
   "cell_type": "markdown",
   "metadata": {},
   "source": [
    "### Learned Parameters"
   ]
  },
  {
   "cell_type": "code",
   "execution_count": 168,
   "metadata": {},
   "outputs": [
    {
     "name": "stdout",
     "output_type": "stream",
     "text": [
      "The model learned the following values for weights and bias:\n",
      "OrderedDict([('weights', tensor([0.7082])), ('bias', tensor([0.3038]))])\n",
      "\n",
      "And the original values for weights and bias are:\n",
      "weights: 0.7, bias: 0.3\n"
     ]
    }
   ],
   "source": [
    "# Find our model's learned parameters\n",
    "print(\"The model learned the following values for weights and bias:\")\n",
    "print(model.state_dict())\n",
    "print(\"\\nAnd the original values for weights and bias are:\")\n",
    "print(f\"weights: {weight}, bias: {bias}\")"
   ]
  },
  {
   "attachments": {},
   "cell_type": "markdown",
   "metadata": {},
   "source": [
    "## Making Predictions"
   ]
  },
  {
   "cell_type": "code",
   "execution_count": 169,
   "metadata": {},
   "outputs": [
    {
     "name": "stdout",
     "output_type": "stream",
     "text": [
      "\n",
      "Final Predictions\n",
      "-------------------\n",
      "y_preds: Shape: torch.Size([10, 1])\n",
      "\n",
      "Y_test[:10]:: tensor([[0.8600],\n",
      "        [0.8740],\n",
      "        [0.8880],\n",
      "        [0.9020],\n",
      "        [0.9160],\n",
      "        [0.9300],\n",
      "        [0.9440],\n",
      "        [0.9580],\n",
      "        [0.9720],\n",
      "        [0.9860]])\n",
      "\n",
      "y_preds[:10]:: tensor([[0.8704],\n",
      "        [0.8845],\n",
      "        [0.8987],\n",
      "        [0.9129],\n",
      "        [0.9270],\n",
      "        [0.9412],\n",
      "        [0.9554],\n",
      "        [0.9695],\n",
      "        [0.9837],\n",
      "        [0.9978]])\n"
     ]
    },
    {
     "data": {
      "image/png": "[encoded data removed]",
      "text/plain": [
       "<Figure size 1000x700 with 1 Axes>"
      ]
     },
     "metadata": {},
     "output_type": "display_data"
    }
   ],
   "source": [
    "model.eval()\n",
    "\n",
    "with torch.inference_mode():\n",
    "  y_preds = model(X_test)\n",
    "\n",
    "\n",
    "print('\\nFinal Predictions')\n",
    "print(f'-------------------')\n",
    "print(f'y_preds: Shape: {y_preds.shape}')\n",
    "print(f'\\nY_test[:10]:: {Y_test[:10]}')\n",
    "print(f'\\ny_preds[:10]:: {y_preds[:10]}')\n",
    "\n",
    "plot_predictions(predictions=y_preds)"
   ]
  },
  {
   "attachments": {},
   "cell_type": "markdown",
   "metadata": {},
   "source": [
    "## Saving and loading a PyTorch Model"
   ]
  },
  {
   "attachments": {},
   "cell_type": "markdown",
   "metadata": {},
   "source": [
    "### Saving and loading a model"
   ]
  },
  {
   "cell_type": "code",
   "execution_count": 181,
   "metadata": {},
   "outputs": [
    {
     "name": "stdout",
     "output_type": "stream",
     "text": [
      "\n",
      "Saving a Model\n",
      "---------------\n",
      "Saving the model model to: models/getting_started_with_pytorch.pth\n",
      "\n",
      "Loading a Saved Model\n",
      "------------------------\n",
      "Loading the model from: models/getting_started_with_pytorch.pth\n"
     ]
    },
    {
     "data": {
      "text/plain": [
       "<All keys matched successfully>"
      ]
     },
     "execution_count": 181,
     "metadata": {},
     "output_type": "execute_result"
    }
   ],
   "source": [
    "### Saving a PyTorch Model ###\n",
    "# 1. Create models store.\n",
    "MODELS_STORE = Path(\"models\")\n",
    "MODELS_STORE.mkdir(parents=True, exist_ok=True)\n",
    "\n",
    "# 2. Create model save path.\n",
    "MODEL_NAME = \"getting_started_with_pytorch.pth\"\n",
    "MODEL_SAVE_PATH = MODELS_STORE / MODEL_NAME\n",
    "\n",
    "# 3. Save the model state dict\n",
    "print('\\nSaving a Model')\n",
    "print('---------------')\n",
    "print(f\"Saving the model model to: {MODEL_SAVE_PATH}\")\n",
    "torch.save(obj=model.state_dict(), f=MODEL_SAVE_PATH)\n",
    "### Saving a PyTorch Model [ENDS] ###\n",
    "\n",
    "### Loading a PyTorch Model ###\n",
    "saved_model = LinearRegressionModel() # Instantiate the model with random weights\n",
    "\n",
    "print('\\nLoading a Saved Model')\n",
    "print('------------------------')\n",
    "print(f\"Loading the model from: {MODEL_SAVE_PATH}\")\n",
    "saved_model.load_state_dict(torch.load(f=MODEL_SAVE_PATH)) # Load the saved parameters"
   ]
  },
  {
   "attachments": {},
   "cell_type": "markdown",
   "metadata": {},
   "source": [
    "### Predictions from the saved model"
   ]
  },
  {
   "cell_type": "code",
   "execution_count": 183,
   "metadata": {},
   "outputs": [
    {
     "data": {
      "image/png": "[encoded data removed]",
      "text/plain": [
       "<Figure size 1000x700 with 1 Axes>"
      ]
     },
     "metadata": {},
     "output_type": "display_data"
    }
   ],
   "source": [
    "# 1. Put the loaded model into evaluation mode\n",
    "saved_model.eval()\n",
    "\n",
    "# 2. Use the inference mode context manager to make predictions\n",
    "with torch.inference_mode():\n",
    "    saved_model_preds = saved_model(X_test) # perform a forward pass on the test data with the loaded model\n",
    "\n",
    "plot_predictions(predictions=saved_model_preds)"
   ]
  },
  {
   "attachments": {},
   "cell_type": "markdown",
   "metadata": {},
   "source": [
    "# Training On GPU\n",
    "\n",
    "In this exercise, we will use the same architecture on a GPU (MPS for Mac M1)"
   ]
  },
  {
   "attachments": {},
   "cell_type": "markdown",
   "metadata": {},
   "source": [
    "## Model Design (With LinearLayer)"
   ]
  },
  {
   "attachments": {},
   "cell_type": "markdown",
   "metadata": {},
   "source": [
    "### Architecture"
   ]
  },
  {
   "cell_type": "code",
   "execution_count": 186,
   "metadata": {},
   "outputs": [
    {
     "name": "stdout",
     "output_type": "stream",
     "text": [
      "\n",
      "LinearRegressionModel Parameters\n",
      "--------------------------------\n",
      "\n",
      "Parameter containing:\n",
      "tensor([[-0.9915]], requires_grad=True) Device: cpu\n",
      "\n",
      "Parameter containing:\n",
      "tensor([-0.7889], requires_grad=True) Device: cpu\n"
     ]
    },
    {
     "data": {
      "text/plain": [
       "OrderedDict([('linear_layer.weight', tensor([[-0.9915]])),\n",
       "             ('linear_layer.bias', tensor([-0.7889]))])"
      ]
     },
     "execution_count": 186,
     "metadata": {},
     "output_type": "execute_result"
    }
   ],
   "source": [
    "class LinearRegressionModel(nn.Module):\n",
    "    def __init__(self):\n",
    "        super().__init__()\n",
    "        self.linear_layer = nn.Linear(in_features=1, out_features=1)\n",
    "    \n",
    "    def forward(self, x):\n",
    "        return self.linear_layer(x)\n",
    "\n",
    "SEED = 3\n",
    "torch.manual_seed(SEED)\n",
    "\n",
    "model = LinearRegressionModel()\n",
    "\n",
    "print('\\nLinearRegressionModel Parameters')\n",
    "print(f'--------------------------------')\n",
    "for p in model.parameters():\n",
    "    print(f'\\n{p} Device: {p.device}')\n",
    "\n",
    "model.state_dict()"
   ]
  },
  {
   "attachments": {},
   "cell_type": "markdown",
   "metadata": {},
   "source": [
    "### Model on GPU"
   ]
  },
  {
   "cell_type": "code",
   "execution_count": 190,
   "metadata": {},
   "outputs": [
    {
     "data": {
      "text/plain": [
       "device(type='mps', index=0)"
      ]
     },
     "execution_count": 190,
     "metadata": {},
     "output_type": "execute_result"
    }
   ],
   "source": [
    "device = torch.device(\"mps\")\n",
    "\n",
    "model.to(device)\n",
    "next(model.parameters()).device"
   ]
  },
  {
   "attachments": {},
   "cell_type": "markdown",
   "metadata": {},
   "source": [
    "## Model Training"
   ]
  },
  {
   "attachments": {},
   "cell_type": "markdown",
   "metadata": {},
   "source": [
    "### Loss Function and Optimizer"
   ]
  },
  {
   "cell_type": "code",
   "execution_count": 192,
   "metadata": {},
   "outputs": [],
   "source": [
    "LR = 0.01\n",
    "loss_fn = nn.L1Loss() # MAE Loss\n",
    "\n",
    "# Stochastic Gradient Descent (SGD) Optimizer\n",
    "optimizer = torch.optim.SGD(params=model.parameters(), lr=LR) "
   ]
  },
  {
   "attachments": {},
   "cell_type": "markdown",
   "metadata": {},
   "source": [
    "### Optimization Loop"
   ]
  },
  {
   "cell_type": "code",
   "execution_count": 193,
   "metadata": {},
   "outputs": [
    {
     "name": "stderr",
     "output_type": "stream",
     "text": [
      "/Users/broxoli/venv-torch/lib/python3.11/site-packages/torch/autograd/__init__.py:204: UserWarning: The operator 'aten::sgn.out' is not currently supported on the MPS backend and will fall back to run on the CPU. This may have performance implications. (Triggered internally at /Users/runner/work/pytorch/pytorch/pytorch/aten/src/ATen/mps/MPSFallback.mm:13.)\n",
      "  Variable._execution_engine.run_backward(  # Calls into the C++ engine to run the backward pass\n"
     ]
    },
    {
     "name": "stdout",
     "output_type": "stream",
     "text": [
      "Epoch: 0 | Train loss: 1.7485355138778687 | Test loss: 2.580801248550415\n",
      "Epoch: 100 | Train loss: 0.5964365005493164 | Test loss: 1.233702540397644\n",
      "Epoch: 200 | Train loss: 0.1976146399974823 | Test loss: 0.5116909742355347\n",
      "Epoch: 300 | Train loss: 0.1601119488477707 | Test loss: 0.3744434714317322\n",
      "Epoch: 400 | Train loss: 0.12574951350688934 | Test loss: 0.29309409856796265\n",
      "Epoch: 500 | Train loss: 0.09140829741954803 | Test loss: 0.21311822533607483\n",
      "Epoch: 600 | Train loss: 0.0570630244910717 | Test loss: 0.13245347142219543\n",
      "Epoch: 700 | Train loss: 0.02272321842610836 | Test loss: 0.05247557908296585\n",
      "Epoch: 800 | Train loss: 0.008689816109836102 | Test loss: 0.0005149423959665\n",
      "Epoch: 900 | Train loss: 0.008689816109836102 | Test loss: 0.0005149423959665\n"
     ]
    }
   ],
   "source": [
    "torch.manual_seed(SEED)\n",
    "\n",
    "EPOCHS = 1000\n",
    "\n",
    "# Put data on the available device\n",
    "X_train = X_train.to(device)\n",
    "Y_train = Y_train.to(device)\n",
    "\n",
    "X_test = X_test.to(device)\n",
    "Y_test = Y_test.to(device)\n",
    "\n",
    "for epoch in range(EPOCHS):\n",
    "    model.train() # Put the model in the training mode\n",
    "\n",
    "    # 1. Get model predictions\n",
    "    y_pred = model(X_train)\n",
    "\n",
    "    # 2. Calculate the loss between true values and predicted values.\n",
    "    loss = loss_fn(y_pred, Y_train)\n",
    "\n",
    "    # 3. Reset optimizer gradients.\n",
    "    optimizer.zero_grad()\n",
    "\n",
    "    # 4. Backward pass to compute the gradients\n",
    "    loss.backward()\n",
    "\n",
    "    # 5. Apply the computed gradients to the model parameters.\n",
    "    optimizer.step()\n",
    "\n",
    "    # Put the model in evaluation mode\n",
    "    model.eval()\n",
    "\n",
    "    with torch.inference_mode():\n",
    "      # 1. Forward pass on test data\n",
    "      test_pred = model(X_test)\n",
    "\n",
    "      # 2. Caculate loss on test data\n",
    "      test_loss = loss_fn(test_pred, Y_test.type(torch.float)) # predictions come in torch.float datatype, so comparisons need to be done with tensors of the same type\n",
    "\n",
    "      # Print out what's happening\n",
    "      if epoch % 100 == 0:\n",
    "        print(f\"Epoch: {epoch} | Train loss: {loss} | Test loss: {test_loss}\")"
   ]
  },
  {
   "attachments": {},
   "cell_type": "markdown",
   "metadata": {},
   "source": [
    "### Learned Parameters"
   ]
  },
  {
   "cell_type": "code",
   "execution_count": 194,
   "metadata": {},
   "outputs": [
    {
     "name": "stdout",
     "output_type": "stream",
     "text": [
      "The model learned the following values for weights and bias:\n",
      "OrderedDict([('linear_layer.weight', tensor([[0.6915]], device='mps:0')), ('linear_layer.bias', tensor([0.2946], device='mps:0'))])\n",
      "\n",
      "And the original values for weights and bias are:\n",
      "weights: 0.7, bias: 0.3\n"
     ]
    }
   ],
   "source": [
    "# Find our model's learned parameters\n",
    "print(\"The model learned the following values for weights and bias:\")\n",
    "print(model.state_dict())\n",
    "print(\"\\nAnd the original values for weights and bias are:\")\n",
    "print(f\"weights: {weight}, bias: {bias}\")"
   ]
  },
  {
   "attachments": {},
   "cell_type": "markdown",
   "metadata": {},
   "source": [
    "## Making Predictions"
   ]
  },
  {
   "cell_type": "code",
   "execution_count": 196,
   "metadata": {},
   "outputs": [
    {
     "name": "stdout",
     "output_type": "stream",
     "text": [
      "\n",
      "Final Predictions\n",
      "-------------------\n",
      "y_preds: Shape: torch.Size([10, 1])\n",
      "\n",
      "Y_test[:10]:: tensor([[0.8600],\n",
      "        [0.8740],\n",
      "        [0.8880],\n",
      "        [0.9020],\n",
      "        [0.9160],\n",
      "        [0.9300],\n",
      "        [0.9440],\n",
      "        [0.9580],\n",
      "        [0.9720],\n",
      "        [0.9860]], device='mps:0')\n",
      "\n",
      "y_preds[:10]:: tensor([[0.8478],\n",
      "        [0.8616],\n",
      "        [0.8755],\n",
      "        [0.8893],\n",
      "        [0.9031],\n",
      "        [0.9170],\n",
      "        [0.9308],\n",
      "        [0.9446],\n",
      "        [0.9584],\n",
      "        [0.9723]], device='mps:0')\n"
     ]
    },
    {
     "data": {
      "image/png": "[encoded data removed]",
      "text/plain": [
       "<Figure size 1000x700 with 1 Axes>"
      ]
     },
     "metadata": {},
     "output_type": "display_data"
    }
   ],
   "source": [
    "model.eval()\n",
    "\n",
    "with torch.inference_mode():\n",
    "  y_preds = model(X_test)\n",
    "\n",
    "\n",
    "print('\\nFinal Predictions')\n",
    "print(f'-------------------')\n",
    "print(f'y_preds: Shape: {y_preds.shape}')\n",
    "print(f'\\nY_test[:10]:: {Y_test[:10]}')\n",
    "print(f'\\ny_preds[:10]:: {y_preds[:10]}')\n",
    "\n",
    "plot_predictions(predictions=y_preds.cpu())"
   ]
  }
 ],
 "metadata": {
  "kernelspec": {
   "display_name": "venv-torch",
   "language": "python",
   "name": "python3"
  },
  "language_info": {
   "codemirror_mode": {
    "name": "ipython",
    "version": 3
   },
   "file_extension": ".py",
   "mimetype": "text/x-python",
   "name": "python",
   "nbconvert_exporter": "python",
   "pygments_lexer": "ipython3",
   "version": "3.11.3"
  },
  "orig_nbformat": 4
 },
 "nbformat": 4,
 "nbformat_minor": 2
}
