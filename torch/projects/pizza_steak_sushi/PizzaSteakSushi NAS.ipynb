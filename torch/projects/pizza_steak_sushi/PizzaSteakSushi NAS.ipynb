{
 "cells": [
  {
   "cell_type": "markdown",
   "metadata": {},
   "source": [
    "# NAS for Pizza Steak Sushi NAS\n",
    "\n",
    "We will use the following additional libraries:\n",
    "- TorchX (To run training jobs)\n",
    "\n",
    "We'll tune the following parameters to find a good trade off between model performance and model size:\n",
    "- batch_size\n",
    "- embedding_dim\n",
    "- num_heads\n",
    "- num_encoders\n",
    "- learning_rate\n",
    "- epochs\n",
    "\n",
    "The training will be carried out using [pizza_steak_sushi.py](./pizza_steak_sushi.py) training script. Here is an example to train a model using this script:\n",
    "```\n",
    "python pizza_steak_sushi.py --log_path 'logs/0' --batch_size 2 --embedding_dim 128 --num_heads 2 --num_encoders 2 --learning_rate 0.001 --epochs 2 --subset_size 10\n",
    "```\n",
    "\n",
    "Requirements for execution on cloud:\n",
    "- [] Update TOTAL_TRIALS at [Choose a Generation Strategy](#7-choose-a-generation-strategy)\n",
    "\n",
    "Cleanup:\n",
    "- Move GitHub file download code to toolbox"
   ]
  },
  {
   "cell_type": "markdown",
   "metadata": {},
   "source": [
    "# 1. Prepare Environment"
   ]
  },
  {
   "cell_type": "markdown",
   "metadata": {},
   "source": [
    "## 1.1. Install Packages"
   ]
  },
  {
   "cell_type": "code",
   "execution_count": 25,
   "metadata": {},
   "outputs": [],
   "source": [
    "try:\n",
    "    import torchx\n",
    "    import torcheval\n",
    "except:\n",
    "    print('Installing torchx, torcheval and ax-plaform')\n",
    "    ! pip install torchx ax-platform torcheval 1>/dev/null"
   ]
  },
  {
   "cell_type": "markdown",
   "metadata": {},
   "source": [
    "## 1.2. Download Dependencies"
   ]
  },
  {
   "cell_type": "code",
   "execution_count": 2,
   "metadata": {},
   "outputs": [
    {
     "name": "stdout",
     "output_type": "stream",
     "text": [
      "File: pizza_steak_sushi.py exists. Skipping Download\n",
      "pizza_steak_sushi.py\n"
     ]
    }
   ],
   "source": [
    "from pathlib import Path\n",
    "\n",
    "remote_files = {\n",
    "    'pizza_steak_sushi.py': 'https://raw.githubusercontent.com/NareshPS/doi-ml/main/torch/projects/pizza_steak_sushi/pizza_steak_sushi.py',\n",
    "}\n",
    "\n",
    "for name, remote_path in remote_files.items():\n",
    "    if Path(name).exists():\n",
    "        print(f'File: {name} exists. Skipping Download')\n",
    "    else:\n",
    "        ! wget {remote_path}\n",
    "\n",
    "! ls *.py"
   ]
  },
  {
   "cell_type": "markdown",
   "metadata": {},
   "source": [
    "## 1.3. Download Toolbox"
   ]
  },
  {
   "cell_type": "code",
   "execution_count": 19,
   "metadata": {},
   "outputs": [
    {
     "name": "stdout",
     "output_type": "stream",
     "text": [
      "Toolbox already exists at toolbox\n"
     ]
    }
   ],
   "source": [
    "toolbox_path = 'toolbox'\n",
    "\n",
    "if not Path(toolbox_path).exists():\n",
    "    print(f'Downloading toolbox at {toolbox_path}')\n",
    "    ! git clone https://github.com/NareshPS/doi-ml-toolbox.git\n",
    "    ! mv doi-ml-toolbox/torch/toolbox .\n",
    "    ! rm -rf doi-ml-toolbox\n",
    "else:\n",
    "    print(f'Toolbox already exists at {toolbox_path}')"
   ]
  },
  {
   "cell_type": "markdown",
   "metadata": {},
   "source": [
    "# 1. Define a TorchX AppDef\n",
    "\n",
    " We'll define a TorchX AppDef which configures the parameters to the training script."
   ]
  },
  {
   "cell_type": "code",
   "execution_count": 3,
   "metadata": {},
   "outputs": [],
   "source": [
    "import torchx\n",
    "\n",
    "from torchx import specs\n",
    "from torchx.components import utils\n",
    "from pathlib import Path\n",
    "\n",
    "def trainer(\n",
    "    log_path: str,\n",
    "    batch_size: int,\n",
    "    embedding_dim: int,\n",
    "    num_heads: int,\n",
    "    num_encoders: int,\n",
    "    learning_rate: float,\n",
    "    epochs: int,\n",
    "    trial_idx: int = -1\n",
    ") -> specs.AppDef:\n",
    "\n",
    "    # 1. Configure the location of log files\n",
    "    if trial_idx >= 0:\n",
    "        log_path = (Path(log_path) / str(trial_idx)).absolute().as_posix()\n",
    "\n",
    "    # 2. Define configuration arguments for the training script\n",
    "    return utils.python(\n",
    "        '--log_path', log_path,\n",
    "        '--batch_size', str(batch_size),\n",
    "        '--embedding_dim', str(embedding_dim),\n",
    "        '--num_heads', str(num_heads),\n",
    "        '--num_encoders', str(num_encoders),\n",
    "        '--learning_rate', str(learning_rate),\n",
    "        '--epochs', str(epochs),\n",
    "        '--subset_size', str(10),\n",
    "        name = 'trainer',\n",
    "        script = 'pizza_steak_sushi.py',\n",
    "        image = torchx.version.TORCHX_IMAGE\n",
    "    )"
   ]
  },
  {
   "cell_type": "markdown",
   "metadata": {},
   "source": [
    "# 2. Setup TorchX Runner\n",
    "\n",
    "It configure the execution environment for torchX AppDef."
   ]
  },
  {
   "cell_type": "code",
   "execution_count": 17,
   "metadata": {},
   "outputs": [
    {
     "name": "stdout",
     "output_type": "stream",
     "text": [
      "Ax Runner: <ax.runners.torchx.TorchXRunner object at 0x14fa322f0> \n",
      "Log Path: logs\n"
     ]
    }
   ],
   "source": [
    "import tempfile\n",
    "\n",
    "from ax.runners.torchx import TorchXRunner\n",
    "\n",
    "# 1. Make a temporary directory to write logs\n",
    "log_path = Path('logs')\n",
    "log_path.mkdir(parents=True, exist_ok=True)\n",
    "\n",
    "# 2. Initialize TorchX Runner\n",
    "ax_runner = TorchXRunner(\n",
    "    tracker_base=\"/tmp\",\n",
    "    component=trainer,\n",
    "    scheduler=\"local_cwd\",\n",
    "    component_const_params={\"log_path\": log_path},\n",
    "    cfg={},\n",
    ")\n",
    "\n",
    "print(f'Ax Runner: {ax_runner} \\nLog Path: {log_path}')"
   ]
  },
  {
   "cell_type": "markdown",
   "metadata": {},
   "source": [
    "# 3. Setup the Search Space\n",
    "\n",
    "It defines the search parameters, their type, and the range of values they can take. Parameter types are typically integer, float, or boolean. The values these parameters can take represent the search space. "
   ]
  },
  {
   "cell_type": "code",
   "execution_count": 5,
   "metadata": {},
   "outputs": [
    {
     "name": "stdout",
     "output_type": "stream",
     "text": [
      "Search Space: SearchSpace(parameters=[ChoiceParameter(name='batch_size', parameter_type=INT, values=[16, 32, 64], is_ordered=True, sort_values=True), ChoiceParameter(name='embedding_dim', parameter_type=INT, values=[64, 128, 256, 512], is_ordered=True, sort_values=True), RangeParameter(name='num_heads', parameter_type=INT, range=[2, 8], log_scale=True), RangeParameter(name='num_encoders', parameter_type=INT, range=[4, 12], log_scale=True), RangeParameter(name='learning_rate', parameter_type=FLOAT, range=[0.0001, 0.01], log_scale=True), RangeParameter(name='epochs', parameter_type=INT, range=[4, 20])], parameter_constraints=[])\n"
     ]
    }
   ],
   "source": [
    "from ax.core import ChoiceParameter, ParameterType, RangeParameter, SearchSpace\n",
    "\n",
    "parameters = [\n",
    "    ChoiceParameter(\n",
    "        name=\"batch_size\",\n",
    "        values=[16, 32, 64],\n",
    "        parameter_type=ParameterType.INT,\n",
    "        is_ordered=True,\n",
    "        sort_values=True,\n",
    "    ),\n",
    "    ChoiceParameter(\n",
    "        name=\"embedding_dim\",\n",
    "        values=[64, 128, 256, 512],\n",
    "        parameter_type=ParameterType.INT,\n",
    "        is_ordered=True,\n",
    "        sort_values=True\n",
    "    ),\n",
    "    ChoiceParameter(\n",
    "        name=\"num_heads\",\n",
    "        values=[2, 4, 8,],\n",
    "        parameter_type=ParameterType.INT,\n",
    "        is_ordered=True,\n",
    "        sort_values=True\n",
    "    ),\n",
    "    RangeParameter(\n",
    "        name=\"num_encoders\", lower=4, upper=12, parameter_type=ParameterType.INT, log_scale=True\n",
    "    ),\n",
    "    RangeParameter(\n",
    "        name=\"learning_rate\",\n",
    "        lower=0.0001,\n",
    "        upper=0.01,\n",
    "        parameter_type=ParameterType.FLOAT,\n",
    "        log_scale=True,\n",
    "    ),\n",
    "\n",
    "    RangeParameter(name=\"epochs\", lower=4, upper=20, parameter_type=ParameterType.INT),\n",
    "]\n",
    "\n",
    "search_space = SearchSpace(parameters=parameters, parameter_constraints=[])\n",
    "\n",
    "print(f'Search Space: {search_space}')"
   ]
  },
  {
   "cell_type": "markdown",
   "metadata": {},
   "source": [
    "# 4. Setup Metrics\n",
    "\n",
    "These metrics measure the quality of the trials."
   ]
  },
  {
   "cell_type": "markdown",
   "metadata": {},
   "source": [
    "## 4.1. Define a Container Class for the Metrics"
   ]
  },
  {
   "cell_type": "code",
   "execution_count": 6,
   "metadata": {},
   "outputs": [],
   "source": [
    "from ax.metrics.tensorboard import TensorboardCurveMetric\n",
    "\n",
    "class SearchMetric(TensorboardCurveMetric):\n",
    "    @classmethod\n",
    "    def get_ids_from_trials(cls, trials):\n",
    "        return {\n",
    "            trial.index: (Path(log_path) / str(trial.index)).as_posix()\n",
    "            for trial in trials\n",
    "        }\n",
    "\n",
    "    @classmethod\n",
    "    def is_available_while_running(cls):\n",
    "        return False\n",
    "\n",
    "# search_metric = SearchMetric('mnist', 'loss')\n",
    "# print(f'Search Metric: {search_metric}')"
   ]
  },
  {
   "cell_type": "markdown",
   "metadata": {},
   "source": [
    "## 4.2. Define seach quality metrics\n",
    "\n",
    "We will define the following metrics that cater to our multi-objective optimization target:\n",
    "- Validation Accuracy\n",
    "- Number of Model Parameters"
   ]
  },
  {
   "cell_type": "code",
   "execution_count": 7,
   "metadata": {},
   "outputs": [
    {
     "name": "stdout",
     "output_type": "stream",
     "text": [
      "Validation Accuracy: SearchMetric('val_acc')\n",
      "Number of Model Parameters: SearchMetric('num_params')\n"
     ]
    }
   ],
   "source": [
    "val_acc = SearchMetric(\n",
    "    name='val_acc',\n",
    "    curve_name='val_acc',\n",
    "    lower_is_better=False\n",
    ")\n",
    "\n",
    "num_model_parameters = SearchMetric(\n",
    "    name='num_params',\n",
    "    curve_name='num_params',\n",
    "    lower_is_better=True\n",
    ")\n",
    "\n",
    "print(f'Validation Accuracy: {val_acc}')\n",
    "print(f'Number of Model Parameters: {num_model_parameters}')"
   ]
  },
  {
   "cell_type": "code",
   "execution_count": 8,
   "metadata": {},
   "outputs": [],
   "source": [
    "# from ax.early_stopping.strategies import PercentileEarlyStoppingStrategy\n",
    "\n",
    "# percentile_early_stopping_strategy = PercentileEarlyStoppingStrategy(\n",
    "#     # stop if in bottom 70% of runs at the same progression\n",
    "#     percentile_threshold=70,\n",
    "#     # the trial must have passed `min_progression` steps before early stopping is initiated\n",
    "#     # note that we are using `normalize_progressions`, so this is on a scale of [0, 1]\n",
    "#     min_progression=0.3,\n",
    "#     # there must be `min_curves` completed trials and `min_curves` trials reporting data in\n",
    "#     # order for early stopping to be applicable\n",
    "#     min_curves=5,\n",
    "#     # specify, e.g., [0, 1] if the first two trials should never be stopped\n",
    "#     trial_indices_to_ignore=None,\n",
    "#     # check for new data every 10 seconds\n",
    "#     seconds_between_polls=10,\n",
    "#     normalize_progressions=True,\n",
    "# )\n",
    "\n",
    "# print(f'Early Stopping Strategy: {percentile_early_stopping_strategy}')"
   ]
  },
  {
   "cell_type": "markdown",
   "metadata": {},
   "source": [
    "# 5. Setup Optimization Configuration\n",
    "\n",
    "We'll setup the Multi-Objective Optimization configuration."
   ]
  },
  {
   "cell_type": "code",
   "execution_count": 27,
   "metadata": {},
   "outputs": [
    {
     "name": "stdout",
     "output_type": "stream",
     "text": [
      "Optimization Configuration: MultiObjectiveOptimizationConfig(objective=MultiObjective(objectives=[Objective(metric_name=\"val_acc\", minimize=False), Objective(metric_name=\"num_params\", minimize=True)]), outcome_constraints=[], objective_thresholds=[ObjectiveThreshold(val_acc >= 0.5), ObjectiveThreshold(num_params <= 2000000)])\n"
     ]
    }
   ],
   "source": [
    "from ax.core import MultiObjective, Objective, ObjectiveThreshold\n",
    "from ax.core.optimization_config import MultiObjectiveOptimizationConfig\n",
    "\n",
    "optimization_config = MultiObjectiveOptimizationConfig(\n",
    "    objective=MultiObjective(\n",
    "        objectives=[\n",
    "            Objective(metric=val_acc, minimize=False),\n",
    "            Objective(metric=num_model_parameters, minimize=True)\n",
    "        ]\n",
    "    ),\n",
    "    objective_thresholds=[\n",
    "        ObjectiveThreshold(metric=val_acc, bound=0.50, relative=False),\n",
    "        ObjectiveThreshold(metric=num_model_parameters, bound=2_000_000, relative=False),\n",
    "    ]\n",
    ")\n",
    "\n",
    "print(f'Optimization Configuration: {optimization_config}')\n",
    "\n",
    "# from ax.core.optimization_config import OptimizationConfig\n",
    "\n",
    "# opt_config = OptimizationConfig(\n",
    "#     objective=Objective(\n",
    "#         metric=val_acc,\n",
    "#         minimize=False,\n",
    "#     )\n",
    "# )"
   ]
  },
  {
   "cell_type": "markdown",
   "metadata": {},
   "source": [
    "# 6. Create the Ax Experiment"
   ]
  },
  {
   "cell_type": "code",
   "execution_count": 10,
   "metadata": {},
   "outputs": [
    {
     "name": "stdout",
     "output_type": "stream",
     "text": [
      "Experiment: Experiment(torchx_mnist)\n"
     ]
    }
   ],
   "source": [
    "from ax.core import Experiment\n",
    "\n",
    "experiment = Experiment(\n",
    "    name='torchx_mnist',\n",
    "    search_space=search_space,\n",
    "    optimization_config=optimization_config,\n",
    "    # optimization_config=opt_config,\n",
    "    runner=ax_runner\n",
    ")\n",
    "\n",
    "print(f'Experiment: {experiment}')"
   ]
  },
  {
   "cell_type": "markdown",
   "metadata": {},
   "source": [
    "# 7. Choose a Generation Strategy\n",
    "\n",
    "A Generation Strategy describes the method to optimize search space. We'll let Ax automatically choose a generation strategy."
   ]
  },
  {
   "cell_type": "code",
   "execution_count": 11,
   "metadata": {},
   "outputs": [
    {
     "name": "stderr",
     "output_type": "stream",
     "text": [
      "[INFO 08-03 11:06:42] ax.modelbridge.dispatch_utils: Using Models.MOO since there are more ordered parameters than there are categories for the unordered categorical parameters.\n",
      "[INFO 08-03 11:06:42] ax.modelbridge.dispatch_utils: Calculating the number of remaining initialization trials based on num_initialization_trials=None max_initialization_trials=None num_tunable_parameters=6 num_trials=2 use_batch_trials=False\n",
      "[INFO 08-03 11:06:42] ax.modelbridge.dispatch_utils: calculated num_initialization_trials=5\n",
      "[INFO 08-03 11:06:42] ax.modelbridge.dispatch_utils: num_completed_initialization_trials=0 num_remaining_initialization_trials=5\n",
      "[INFO 08-03 11:06:42] ax.modelbridge.dispatch_utils: Using Bayesian Optimization generation strategy: GenerationStrategy(name='Sobol+MOO', steps=[Sobol for 5 trials, MOO for subsequent trials]). Iterations after 5 will take longer to generate due to model-fitting.\n"
     ]
    },
    {
     "name": "stdout",
     "output_type": "stream",
     "text": [
      "Generation Strategy: GenerationStrategy(name='Sobol+MOO', steps=[Sobol for 5 trials, MOO for subsequent trials])\n"
     ]
    }
   ],
   "source": [
    "from ax.modelbridge.dispatch_utils import choose_generation_strategy\n",
    "\n",
    "# 1. Configure the total number of trials in the experiment.\n",
    "# TOTAL_TRIALS = 48\n",
    "TOTAL_TRIALS = 2\n",
    "\n",
    "# 2. Choose a generation strategy\n",
    "gen_strategy = choose_generation_strategy(\n",
    "    search_space=experiment.search_space,\n",
    "    optimization_config=experiment.optimization_config,\n",
    "    num_trials=TOTAL_TRIALS\n",
    ")\n",
    "\n",
    "print(f'Generation Strategy: {gen_strategy}')"
   ]
  },
  {
   "cell_type": "markdown",
   "metadata": {},
   "source": [
    "# 8. Configure a Scheduler\n",
    "\n",
    "A scheduler controls the optimization loop. It communicates with the backend to launch trials, check their status, and retrieve results."
   ]
  },
  {
   "cell_type": "code",
   "execution_count": 12,
   "metadata": {},
   "outputs": [
    {
     "name": "stderr",
     "output_type": "stream",
     "text": [
      "[INFO 08-03 11:06:42] Scheduler: `Scheduler` requires experiment to have immutable search space and optimization config. Setting property immutable_search_space_and_opt_config to `True` on experiment.\n"
     ]
    },
    {
     "name": "stdout",
     "output_type": "stream",
     "text": [
      "Scheduler: Scheduler(experiment=Experiment(torchx_mnist), generation_strategy=GenerationStrategy(name='Sobol+MOO', steps=[Sobol for 5 trials, MOO for subsequent trials]), options=SchedulerOptions(max_pending_trials=4, trial_type=<TrialType.TRIAL: 0>, batch_size=None, total_trials=2, tolerated_trial_failure_rate=0.5, min_failed_trials_for_failure_rate_check=5, log_filepath=None, logging_level='DEBUG', ttl_seconds_for_trials=None, init_seconds_between_polls=1, min_seconds_before_poll=1.0, seconds_between_polls_backoff_factor=1.5, timeout_hours=None, run_trials_in_batches=False, debug_log_run_metadata=False, early_stopping_strategy=None, global_stopping_strategy=None, suppress_storage_errors_after_retries=False))\n"
     ]
    }
   ],
   "source": [
    "from ax.service.scheduler import Scheduler, SchedulerOptions\n",
    "\n",
    "scheduler = Scheduler(\n",
    "    experiment=experiment,\n",
    "    generation_strategy=gen_strategy,\n",
    "    options=SchedulerOptions(total_trials=TOTAL_TRIALS, max_pending_trials=4, logging_level='DEBUG')\n",
    ")\n",
    "\n",
    "print(f'Scheduler: {scheduler}')"
   ]
  },
  {
   "cell_type": "markdown",
   "metadata": {},
   "source": [
    "# 9. Run Trials"
   ]
  },
  {
   "cell_type": "code",
   "execution_count": 36,
   "metadata": {},
   "outputs": [
    {
     "name": "stdout",
     "output_type": "stream",
     "text": [
      "[INFO] Toolbox exists locally. Skipping download!\n",
      "[INFO] /Users/broxoli/.datasets/pizza_steak_sushi directory exists. Skipping download.\n",
      "Data Path: /Users/broxoli/.datasets/pizza_steak_sushi\n",
      "Train Path: /Users/broxoli/.datasets/pizza_steak_sushi/train\n",
      "Test Path: /Users/broxoli/.datasets/pizza_steak_sushi/test\n",
      "GPU available: True (mps), used: True\n",
      "TPU available: False, using: 0 TPU cores\n",
      "IPU available: False, using: 0 IPUs\n",
      "HPU available: False, using: 0 HPUs\n",
      "[INFO] Logging to path: logs/0\n",
      "[INFO] /Users/broxoli/.datasets/pizza_steak_sushi directory exists. Skipping download.\n",
      "Data Path: /Users/broxoli/.datasets/pizza_steak_sushi\n",
      "Train Path: /Users/broxoli/.datasets/pizza_steak_sushi/train\n",
      "Test Path: /Users/broxoli/.datasets/pizza_steak_sushi/test\n",
      "/Users/broxoli/.venv-torch/lib/python3.10/site-packages/pytorch_lightning/callbacks/model_checkpoint.py:615: UserWarning: Checkpoint directory logs/0/checkpoints exists and is not empty.\n",
      "  rank_zero_warn(f\"Checkpoint directory {dirpath} exists and is not empty.\")\n",
      "\n",
      "  | Name              | Type           | Params \n",
      "------------------------------------------------------\n",
      "0 | embedding_dropout | Dropout        | 0      \n",
      "1 | patch_embedding   | PatchEmbedding | 49.2 K \n",
      "2 | encoder           | Sequential     | 100.0 K\n",
      "3 | classifier        | Sequential     | 323    \n",
      "------------------------------------------------------\n",
      "162 K     Trainable params\n",
      "0         Non-trainable params\n",
      "162 K     Total params\n",
      "0.649     Total estimated model params size (MB)\n",
      "Sanity Checking: 0it [00:00, ?it/s][WARN] Using Subset Size: 10\n",
      "Sanity Checking DataLoader 0:   0%|                       | 0/2 [00:00<?, ?it/s]/Users/broxoli/.venv-torch/lib/python3.10/site-packages/torcheval/metrics/functional/classification/accuracy.py:266: UserWarning: MPS: no support for int64 reduction ops, casting it to int32 (Triggered internally at /Users/runner/work/pytorch/pytorch/pytorch/aten/src/ATen/native/mps/operations/ReduceOps.mm:144.)\n",
      "  num_correct = mask.sum()\n",
      "[WARN] Using Subset Size: 10                                                    \n",
      "Epoch 0: 100%|████████████████████████████████████| 5/5 [00:03<00:00,  1.46it/s]\n",
      "Validation: 0it [00:00, ?it/s]\u001b[A\n",
      "Validation:   0%|                                         | 0/5 [00:00<?, ?it/s]\u001b[A\n",
      "Validation DataLoader 0:   0%|                            | 0/5 [00:00<?, ?it/s]\u001b[A\n",
      "Validation DataLoader 0:  20%|████                | 1/5 [00:00<00:00, 23.01it/s]\u001b[A\n",
      "Validation DataLoader 0:  40%|████████            | 2/5 [00:00<00:00, 35.83it/s]\u001b[A\n",
      "Validation DataLoader 0:  60%|████████████        | 3/5 [00:00<00:00, 24.55it/s]\u001b[A\n",
      "Validation DataLoader 0:  80%|████████████████    | 4/5 [00:00<00:00, 31.42it/s]\u001b[A\n",
      "Epoch 0: 100%|█████████████████████| 5/5 [00:07<00:00,  1.44s/it, val_acc=1.000]\u001b[A\n",
      "Epoch 1: 100%|█████████████████████| 5/5 [00:25<00:00,  5.06s/it, val_acc=1.000]\u001b[A\n",
      "Validation: 0it [00:00, ?it/s]\u001b[A\n",
      "Validation:   0%|                                         | 0/5 [00:00<?, ?it/s]\u001b[A\n",
      "Validation DataLoader 0:   0%|                            | 0/5 [00:00<?, ?it/s]\u001b[A\n",
      "Validation DataLoader 0:  20%|████                | 1/5 [00:00<00:00, 21.07it/s]\u001b[A\n",
      "Validation DataLoader 0:  40%|████████            | 2/5 [00:00<00:00, 34.59it/s]\u001b[A\n",
      "Validation DataLoader 0:  60%|████████████        | 3/5 [00:00<00:00, 46.44it/s]\u001b[A\n",
      "Validation DataLoader 0:  80%|████████████████    | 4/5 [00:00<00:00, 57.07it/s]\u001b[A\n",
      "Epoch 1: 100%|█████████████████████| 5/5 [00:50<00:00, 10.09s/it, val_acc=1.000]\u001b[A\n",
      "Epoch 1: 100%|█████████████████████| 5/5 [00:50<00:00, 10.09s/it, val_acc=1.000]\u001b[A`Trainer.fit` stopped: `max_epochs=2` reached.\n",
      "Epoch 1: 100%|█████████████████████| 5/5 [00:50<00:00, 10.10s/it, val_acc=1.000]\n",
      "Restoring states from the checkpoint path at logs/0/checkpoints/epoch=1-step=10-v5.ckpt\n",
      "Loaded model weights from the checkpoint at logs/0/checkpoints/epoch=1-step=10-v5.ckpt\n",
      "train time: 146.31565380096436, val acc: 1.0, num_params: 162179\n"
     ]
    }
   ],
   "source": [
    "! python pizza_steak_sushi.py --log_path 'logs/0' --batch_size 2 --embedding_dim 64 --num_heads 2 --num_encoders 2 --learning_rate 0.001 --epochs 2 --subset_size 10\n",
    "# scheduler.run_all_trials()\n"
   ]
  },
  {
   "cell_type": "markdown",
   "metadata": {},
   "source": [
    "# 10. Evaluating Results"
   ]
  },
  {
   "cell_type": "markdown",
   "metadata": {},
   "source": [
    "## 10.1. Experiment Summary"
   ]
  },
  {
   "cell_type": "code",
   "execution_count": null,
   "metadata": {},
   "outputs": [
    {
     "data": {
      "text/html": [
       "<div>\n",
       "<style scoped>\n",
       "    .dataframe tbody tr th:only-of-type {\n",
       "        vertical-align: middle;\n",
       "    }\n",
       "\n",
       "    .dataframe tbody tr th {\n",
       "        vertical-align: top;\n",
       "    }\n",
       "\n",
       "    .dataframe thead th {\n",
       "        text-align: right;\n",
       "    }\n",
       "</style>\n",
       "<table border=\"1\" class=\"dataframe\">\n",
       "  <thead>\n",
       "    <tr style=\"text-align: right;\">\n",
       "      <th></th>\n",
       "      <th>trial_index</th>\n",
       "      <th>arm_name</th>\n",
       "      <th>trial_status</th>\n",
       "      <th>generation_method</th>\n",
       "      <th>num_params</th>\n",
       "      <th>val_acc</th>\n",
       "      <th>is_feasible</th>\n",
       "      <th>hidden_size_1</th>\n",
       "      <th>hidden_size_2</th>\n",
       "      <th>learning_rate</th>\n",
       "      <th>dropout</th>\n",
       "      <th>batch_size</th>\n",
       "      <th>epochs</th>\n",
       "    </tr>\n",
       "  </thead>\n",
       "  <tbody>\n",
       "    <tr>\n",
       "      <th>0</th>\n",
       "      <td>0</td>\n",
       "      <td>0_0</td>\n",
       "      <td>COMPLETED</td>\n",
       "      <td>Sobol</td>\n",
       "      <td>23804.0</td>\n",
       "      <td>0.909035</td>\n",
       "      <td>False</td>\n",
       "      <td>26</td>\n",
       "      <td>95</td>\n",
       "      <td>0.002439</td>\n",
       "      <td>0.249959</td>\n",
       "      <td>32</td>\n",
       "      <td>1</td>\n",
       "    </tr>\n",
       "    <tr>\n",
       "      <th>1</th>\n",
       "      <td>1</td>\n",
       "      <td>1_0</td>\n",
       "      <td>COMPLETED</td>\n",
       "      <td>Sobol</td>\n",
       "      <td>88323.0</td>\n",
       "      <td>0.949558</td>\n",
       "      <td>False</td>\n",
       "      <td>103</td>\n",
       "      <td>67</td>\n",
       "      <td>0.000268</td>\n",
       "      <td>0.030802</td>\n",
       "      <td>128</td>\n",
       "      <td>3</td>\n",
       "    </tr>\n",
       "  </tbody>\n",
       "</table>\n",
       "</div>"
      ],
      "text/plain": [
       "   trial_index arm_name trial_status generation_method  num_params   val_acc  \\\n",
       "0            0      0_0    COMPLETED             Sobol     23804.0  0.909035   \n",
       "1            1      1_0    COMPLETED             Sobol     88323.0  0.949558   \n",
       "\n",
       "   is_feasible  hidden_size_1  hidden_size_2  learning_rate   dropout  \\\n",
       "0        False             26             95       0.002439  0.249959   \n",
       "1        False            103             67       0.000268  0.030802   \n",
       "\n",
       "   batch_size  epochs  \n",
       "0          32       1  \n",
       "1         128       3  "
      ]
     },
     "execution_count": 12,
     "metadata": {},
     "output_type": "execute_result"
    }
   ],
   "source": [
    "from ax.service.utils.report_utils import exp_to_df\n",
    "\n",
    "df = exp_to_df(experiment)\n",
    "df"
   ]
  },
  {
   "cell_type": "markdown",
   "metadata": {},
   "source": [
    "## 10.2. Pareto Frontier of Trade-Offs between Validation Accuracy and Model Size"
   ]
  },
  {
   "cell_type": "code",
   "execution_count": null,
   "metadata": {},
   "outputs": [
    {
     "data": {
      "application/vnd.plotly.v1+json": {
       "config": {
        "plotlyServerURL": "https://plot.ly"
       },
       "data": [
        {
         "hovertemplate": "%{text}",
         "marker": {
          "color": [
           0,
           100
          ],
          "colorbar": {
           "ticktext": [
            1,
            "iteration",
            2
           ],
           "tickvals": [
            0,
            50,
            100
           ]
          },
          "colorscale": [
           [
            0,
            "#000004"
           ],
           [
            0.1111111111111111,
            "#180f3d"
           ],
           [
            0.2222222222222222,
            "#440f76"
           ],
           [
            0.3333333333333333,
            "#721f81"
           ],
           [
            0.4444444444444444,
            "#9e2f7f"
           ],
           [
            0.5555555555555556,
            "#cd4071"
           ],
           [
            0.6666666666666666,
            "#f1605d"
           ],
           [
            0.7777777777777778,
            "#fd9668"
           ],
           [
            0.8888888888888888,
            "#feca8d"
           ],
           [
            1,
            "#fcfdbf"
           ]
          ]
         },
         "mode": "markers",
         "name": "Experimental points",
         "text": [
          "Arm name: 0_0",
          "Arm name: 1_0"
         ],
         "type": "scatter",
         "x": [
          0.909035325050354,
          0.9495584964752197
         ],
         "y": [
          23804,
          88323
         ]
        }
       ],
       "layout": {
        "showlegend": false,
        "template": {
         "data": {
          "bar": [
           {
            "error_x": {
             "color": "#2a3f5f"
            },
            "error_y": {
             "color": "#2a3f5f"
            },
            "marker": {
             "line": {
              "color": "#E5ECF6",
              "width": 0.5
             },
             "pattern": {
              "fillmode": "overlay",
              "size": 10,
              "solidity": 0.2
             }
            },
            "type": "bar"
           }
          ],
          "barpolar": [
           {
            "marker": {
             "line": {
              "color": "#E5ECF6",
              "width": 0.5
             },
             "pattern": {
              "fillmode": "overlay",
              "size": 10,
              "solidity": 0.2
             }
            },
            "type": "barpolar"
           }
          ],
          "carpet": [
           {
            "aaxis": {
             "endlinecolor": "#2a3f5f",
             "gridcolor": "white",
             "linecolor": "white",
             "minorgridcolor": "white",
             "startlinecolor": "#2a3f5f"
            },
            "baxis": {
             "endlinecolor": "#2a3f5f",
             "gridcolor": "white",
             "linecolor": "white",
             "minorgridcolor": "white",
             "startlinecolor": "#2a3f5f"
            },
            "type": "carpet"
           }
          ],
          "choropleth": [
           {
            "colorbar": {
             "outlinewidth": 0,
             "ticks": ""
            },
            "type": "choropleth"
           }
          ],
          "contour": [
           {
            "colorbar": {
             "outlinewidth": 0,
             "ticks": ""
            },
            "colorscale": [
             [
              0,
              "#0d0887"
             ],
             [
              0.1111111111111111,
              "#46039f"
             ],
             [
              0.2222222222222222,
              "#7201a8"
             ],
             [
              0.3333333333333333,
              "#9c179e"
             ],
             [
              0.4444444444444444,
              "#bd3786"
             ],
             [
              0.5555555555555556,
              "#d8576b"
             ],
             [
              0.6666666666666666,
              "#ed7953"
             ],
             [
              0.7777777777777778,
              "#fb9f3a"
             ],
             [
              0.8888888888888888,
              "#fdca26"
             ],
             [
              1,
              "#f0f921"
             ]
            ],
            "type": "contour"
           }
          ],
          "contourcarpet": [
           {
            "colorbar": {
             "outlinewidth": 0,
             "ticks": ""
            },
            "type": "contourcarpet"
           }
          ],
          "heatmap": [
           {
            "colorbar": {
             "outlinewidth": 0,
             "ticks": ""
            },
            "colorscale": [
             [
              0,
              "#0d0887"
             ],
             [
              0.1111111111111111,
              "#46039f"
             ],
             [
              0.2222222222222222,
              "#7201a8"
             ],
             [
              0.3333333333333333,
              "#9c179e"
             ],
             [
              0.4444444444444444,
              "#bd3786"
             ],
             [
              0.5555555555555556,
              "#d8576b"
             ],
             [
              0.6666666666666666,
              "#ed7953"
             ],
             [
              0.7777777777777778,
              "#fb9f3a"
             ],
             [
              0.8888888888888888,
              "#fdca26"
             ],
             [
              1,
              "#f0f921"
             ]
            ],
            "type": "heatmap"
           }
          ],
          "heatmapgl": [
           {
            "colorbar": {
             "outlinewidth": 0,
             "ticks": ""
            },
            "colorscale": [
             [
              0,
              "#0d0887"
             ],
             [
              0.1111111111111111,
              "#46039f"
             ],
             [
              0.2222222222222222,
              "#7201a8"
             ],
             [
              0.3333333333333333,
              "#9c179e"
             ],
             [
              0.4444444444444444,
              "#bd3786"
             ],
             [
              0.5555555555555556,
              "#d8576b"
             ],
             [
              0.6666666666666666,
              "#ed7953"
             ],
             [
              0.7777777777777778,
              "#fb9f3a"
             ],
             [
              0.8888888888888888,
              "#fdca26"
             ],
             [
              1,
              "#f0f921"
             ]
            ],
            "type": "heatmapgl"
           }
          ],
          "histogram": [
           {
            "marker": {
             "pattern": {
              "fillmode": "overlay",
              "size": 10,
              "solidity": 0.2
             }
            },
            "type": "histogram"
           }
          ],
          "histogram2d": [
           {
            "colorbar": {
             "outlinewidth": 0,
             "ticks": ""
            },
            "colorscale": [
             [
              0,
              "#0d0887"
             ],
             [
              0.1111111111111111,
              "#46039f"
             ],
             [
              0.2222222222222222,
              "#7201a8"
             ],
             [
              0.3333333333333333,
              "#9c179e"
             ],
             [
              0.4444444444444444,
              "#bd3786"
             ],
             [
              0.5555555555555556,
              "#d8576b"
             ],
             [
              0.6666666666666666,
              "#ed7953"
             ],
             [
              0.7777777777777778,
              "#fb9f3a"
             ],
             [
              0.8888888888888888,
              "#fdca26"
             ],
             [
              1,
              "#f0f921"
             ]
            ],
            "type": "histogram2d"
           }
          ],
          "histogram2dcontour": [
           {
            "colorbar": {
             "outlinewidth": 0,
             "ticks": ""
            },
            "colorscale": [
             [
              0,
              "#0d0887"
             ],
             [
              0.1111111111111111,
              "#46039f"
             ],
             [
              0.2222222222222222,
              "#7201a8"
             ],
             [
              0.3333333333333333,
              "#9c179e"
             ],
             [
              0.4444444444444444,
              "#bd3786"
             ],
             [
              0.5555555555555556,
              "#d8576b"
             ],
             [
              0.6666666666666666,
              "#ed7953"
             ],
             [
              0.7777777777777778,
              "#fb9f3a"
             ],
             [
              0.8888888888888888,
              "#fdca26"
             ],
             [
              1,
              "#f0f921"
             ]
            ],
            "type": "histogram2dcontour"
           }
          ],
          "mesh3d": [
           {
            "colorbar": {
             "outlinewidth": 0,
             "ticks": ""
            },
            "type": "mesh3d"
           }
          ],
          "parcoords": [
           {
            "line": {
             "colorbar": {
              "outlinewidth": 0,
              "ticks": ""
             }
            },
            "type": "parcoords"
           }
          ],
          "pie": [
           {
            "automargin": true,
            "type": "pie"
           }
          ],
          "scatter": [
           {
            "fillpattern": {
             "fillmode": "overlay",
             "size": 10,
             "solidity": 0.2
            },
            "type": "scatter"
           }
          ],
          "scatter3d": [
           {
            "line": {
             "colorbar": {
              "outlinewidth": 0,
              "ticks": ""
             }
            },
            "marker": {
             "colorbar": {
              "outlinewidth": 0,
              "ticks": ""
             }
            },
            "type": "scatter3d"
           }
          ],
          "scattercarpet": [
           {
            "marker": {
             "colorbar": {
              "outlinewidth": 0,
              "ticks": ""
             }
            },
            "type": "scattercarpet"
           }
          ],
          "scattergeo": [
           {
            "marker": {
             "colorbar": {
              "outlinewidth": 0,
              "ticks": ""
             }
            },
            "type": "scattergeo"
           }
          ],
          "scattergl": [
           {
            "marker": {
             "colorbar": {
              "outlinewidth": 0,
              "ticks": ""
             }
            },
            "type": "scattergl"
           }
          ],
          "scattermapbox": [
           {
            "marker": {
             "colorbar": {
              "outlinewidth": 0,
              "ticks": ""
             }
            },
            "type": "scattermapbox"
           }
          ],
          "scatterpolar": [
           {
            "marker": {
             "colorbar": {
              "outlinewidth": 0,
              "ticks": ""
             }
            },
            "type": "scatterpolar"
           }
          ],
          "scatterpolargl": [
           {
            "marker": {
             "colorbar": {
              "outlinewidth": 0,
              "ticks": ""
             }
            },
            "type": "scatterpolargl"
           }
          ],
          "scatterternary": [
           {
            "marker": {
             "colorbar": {
              "outlinewidth": 0,
              "ticks": ""
             }
            },
            "type": "scatterternary"
           }
          ],
          "surface": [
           {
            "colorbar": {
             "outlinewidth": 0,
             "ticks": ""
            },
            "colorscale": [
             [
              0,
              "#0d0887"
             ],
             [
              0.1111111111111111,
              "#46039f"
             ],
             [
              0.2222222222222222,
              "#7201a8"
             ],
             [
              0.3333333333333333,
              "#9c179e"
             ],
             [
              0.4444444444444444,
              "#bd3786"
             ],
             [
              0.5555555555555556,
              "#d8576b"
             ],
             [
              0.6666666666666666,
              "#ed7953"
             ],
             [
              0.7777777777777778,
              "#fb9f3a"
             ],
             [
              0.8888888888888888,
              "#fdca26"
             ],
             [
              1,
              "#f0f921"
             ]
            ],
            "type": "surface"
           }
          ],
          "table": [
           {
            "cells": {
             "fill": {
              "color": "#EBF0F8"
             },
             "line": {
              "color": "white"
             }
            },
            "header": {
             "fill": {
              "color": "#C8D4E3"
             },
             "line": {
              "color": "white"
             }
            },
            "type": "table"
           }
          ]
         },
         "layout": {
          "annotationdefaults": {
           "arrowcolor": "#2a3f5f",
           "arrowhead": 0,
           "arrowwidth": 1
          },
          "autotypenumbers": "strict",
          "coloraxis": {
           "colorbar": {
            "outlinewidth": 0,
            "ticks": ""
           }
          },
          "colorscale": {
           "diverging": [
            [
             0,
             "#8e0152"
            ],
            [
             0.1,
             "#c51b7d"
            ],
            [
             0.2,
             "#de77ae"
            ],
            [
             0.3,
             "#f1b6da"
            ],
            [
             0.4,
             "#fde0ef"
            ],
            [
             0.5,
             "#f7f7f7"
            ],
            [
             0.6,
             "#e6f5d0"
            ],
            [
             0.7,
             "#b8e186"
            ],
            [
             0.8,
             "#7fbc41"
            ],
            [
             0.9,
             "#4d9221"
            ],
            [
             1,
             "#276419"
            ]
           ],
           "sequential": [
            [
             0,
             "#0d0887"
            ],
            [
             0.1111111111111111,
             "#46039f"
            ],
            [
             0.2222222222222222,
             "#7201a8"
            ],
            [
             0.3333333333333333,
             "#9c179e"
            ],
            [
             0.4444444444444444,
             "#bd3786"
            ],
            [
             0.5555555555555556,
             "#d8576b"
            ],
            [
             0.6666666666666666,
             "#ed7953"
            ],
            [
             0.7777777777777778,
             "#fb9f3a"
            ],
            [
             0.8888888888888888,
             "#fdca26"
            ],
            [
             1,
             "#f0f921"
            ]
           ],
           "sequentialminus": [
            [
             0,
             "#0d0887"
            ],
            [
             0.1111111111111111,
             "#46039f"
            ],
            [
             0.2222222222222222,
             "#7201a8"
            ],
            [
             0.3333333333333333,
             "#9c179e"
            ],
            [
             0.4444444444444444,
             "#bd3786"
            ],
            [
             0.5555555555555556,
             "#d8576b"
            ],
            [
             0.6666666666666666,
             "#ed7953"
            ],
            [
             0.7777777777777778,
             "#fb9f3a"
            ],
            [
             0.8888888888888888,
             "#fdca26"
            ],
            [
             1,
             "#f0f921"
            ]
           ]
          },
          "colorway": [
           "#636efa",
           "#EF553B",
           "#00cc96",
           "#ab63fa",
           "#FFA15A",
           "#19d3f3",
           "#FF6692",
           "#B6E880",
           "#FF97FF",
           "#FECB52"
          ],
          "font": {
           "color": "#2a3f5f"
          },
          "geo": {
           "bgcolor": "white",
           "lakecolor": "white",
           "landcolor": "#E5ECF6",
           "showlakes": true,
           "showland": true,
           "subunitcolor": "white"
          },
          "hoverlabel": {
           "align": "left"
          },
          "hovermode": "closest",
          "mapbox": {
           "style": "light"
          },
          "paper_bgcolor": "white",
          "plot_bgcolor": "#E5ECF6",
          "polar": {
           "angularaxis": {
            "gridcolor": "white",
            "linecolor": "white",
            "ticks": ""
           },
           "bgcolor": "#E5ECF6",
           "radialaxis": {
            "gridcolor": "white",
            "linecolor": "white",
            "ticks": ""
           }
          },
          "scene": {
           "xaxis": {
            "backgroundcolor": "#E5ECF6",
            "gridcolor": "white",
            "gridwidth": 2,
            "linecolor": "white",
            "showbackground": true,
            "ticks": "",
            "zerolinecolor": "white"
           },
           "yaxis": {
            "backgroundcolor": "#E5ECF6",
            "gridcolor": "white",
            "gridwidth": 2,
            "linecolor": "white",
            "showbackground": true,
            "ticks": "",
            "zerolinecolor": "white"
           },
           "zaxis": {
            "backgroundcolor": "#E5ECF6",
            "gridcolor": "white",
            "gridwidth": 2,
            "linecolor": "white",
            "showbackground": true,
            "ticks": "",
            "zerolinecolor": "white"
           }
          },
          "shapedefaults": {
           "line": {
            "color": "#2a3f5f"
           }
          },
          "ternary": {
           "aaxis": {
            "gridcolor": "white",
            "linecolor": "white",
            "ticks": ""
           },
           "baxis": {
            "gridcolor": "white",
            "linecolor": "white",
            "ticks": ""
           },
           "bgcolor": "#E5ECF6",
           "caxis": {
            "gridcolor": "white",
            "linecolor": "white",
            "ticks": ""
           }
          },
          "title": {
           "x": 0.05
          },
          "xaxis": {
           "automargin": true,
           "gridcolor": "white",
           "linecolor": "white",
           "ticks": "",
           "title": {
            "standoff": 15
           },
           "zerolinecolor": "white",
           "zerolinewidth": 2
          },
          "yaxis": {
           "automargin": true,
           "gridcolor": "white",
           "linecolor": "white",
           "ticks": "",
           "title": {
            "standoff": 15
           },
           "zerolinecolor": "white",
           "zerolinewidth": 2
          }
         }
        },
        "title": {
         "text": "Observed metric values"
        },
        "xaxis": {
         "range": [
          0.9049830079078675,
          0.9536108136177063
         ],
         "title": {
          "text": "val_acc"
         }
        },
        "yaxis": {
         "range": [
          17352.1,
          94774.9
         ],
         "title": {
          "text": "num_params"
         }
        }
       }
      }
     },
     "metadata": {},
     "output_type": "display_data"
    }
   ],
   "source": [
    "from ax.service.utils.report_utils import _pareto_frontier_scatter_2d_plotly\n",
    "\n",
    "_pareto_frontier_scatter_2d_plotly(experiment)"
   ]
  },
  {
   "cell_type": "markdown",
   "metadata": {},
   "source": [
    "## 10.3. Cross-Validation of Surrogate Model Predictions with Actual Outcomes"
   ]
  },
  {
   "cell_type": "code",
   "execution_count": null,
   "metadata": {},
   "outputs": [],
   "source": [
    "from ax.modelbridge.cross_validation import compute_diagnostics, cross_validate\n",
    "from ax.plot.diagnostic import interact_cross_validation_plotly\n",
    "from ax.utils.notebook.plotting import init_notebook_plotting, render\n",
    "\n",
    "cv = cross_validate(model=gen_strategy.model)  # The surrogate model is stored on the ``GenerationStrategy``\n",
    "compute_diagnostics(cv)\n",
    "\n",
    "interact_cross_validation_plotly(cv)"
   ]
  },
  {
   "cell_type": "markdown",
   "metadata": {},
   "source": [
    "## 10.4. Contour Plots of Two Inputs and their Impact on the Objectives"
   ]
  },
  {
   "cell_type": "markdown",
   "metadata": {},
   "source": [
    "### 10.4.1 Contour Plot for Validation Accuracy"
   ]
  },
  {
   "cell_type": "code",
   "execution_count": null,
   "metadata": {},
   "outputs": [],
   "source": [
    "from ax.plot.contour import interact_contour_plotly\n",
    "\n",
    "interact_contour_plotly(model=gen_strategy.model, metric_name=\"val_acc\")"
   ]
  },
  {
   "cell_type": "markdown",
   "metadata": {},
   "source": [
    "### 10.4.2 Contour Plots for Number of Parameters"
   ]
  },
  {
   "cell_type": "code",
   "execution_count": null,
   "metadata": {},
   "outputs": [],
   "source": [
    "interact_contour_plotly(model=gen_strategy.model, metric_name=\"num_params\")"
   ]
  }
 ],
 "metadata": {
  "kernelspec": {
   "display_name": "venv-torch",
   "language": "python",
   "name": "python3"
  },
  "language_info": {
   "codemirror_mode": {
    "name": "ipython",
    "version": 3
   },
   "file_extension": ".py",
   "mimetype": "text/x-python",
   "name": "python",
   "nbconvert_exporter": "python",
   "pygments_lexer": "ipython3",
   "version": "3.10.12"
  },
  "orig_nbformat": 4
 },
 "nbformat": 4,
 "nbformat_minor": 2
}
