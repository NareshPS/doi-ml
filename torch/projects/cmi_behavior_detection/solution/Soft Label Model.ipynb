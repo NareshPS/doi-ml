{
 "cells": [
  {
   "cell_type": "markdown",
   "id": "41638a4d",
   "metadata": {
    "_cell_guid": "5645bdf4-ac3f-4c45-be48-d8c83b3abbd5",
    "_uuid": "2f54f217-233c-4fa6-b075-e88ae2c08790",
    "collapsed": false,
    "jupyter": {
     "outputs_hidden": false
    },
    "papermill": {
     "duration": 0.007843,
     "end_time": "2025-08-21T09:32:21.986002",
     "exception": false,
     "start_time": "2025-08-21T09:32:21.978159",
     "status": "completed"
    },
    "tags": []
   },
   "source": [
    "# Introduction\n",
    "\n",
    "This notebook is built on top of the work of [Rich Olson](https://www.kaggle.com/richolson). The source notebook is [CMI 2025: 1D CNN IMU-Only Baseline\n",
    "](https://www.kaggle.com/code/richolson/cmi-2025-1d-cnn-imu-only-baseline).\n",
    "\n",
    "My final solution is an ensemble of two models. This notebook implements the first model which is trained with soft labels. The soft labels are generated using cut-mix augmentation. The second model is trained with hard labels. It is available in the second notebook. The Kaggle notebook of the solution is available here(https://www.kaggle.com/code/naresh/cmi-behavior-detection-84?scriptVersionId=257277832).\n",
    "\n",
    "| Category (train)  |  Counts | Values|\n",
    "|---|---|---|\n",
    "| row_id | 1 ||\n",
    "| sequence_type | 1 ||\n",
    "| sequence_id | 1 ||\n",
    "| sequence_counter | 1 ||\n",
    "| subject | 1 ||\n",
    "| orientation | 1 ||\n",
    "| behavior | 1 ||\n",
    "| phase | 1 ||\n",
    "| gesture | 1 ||\n",
    "| acc | 3 |acc_x,acc_y,acc_z|\n",
    "| rot | 4 |rot_w,rot_x,rot_y,rot_z|\n",
    "| thm | 5 |thm_1,thm_2,...,thm_5|\n",
    "| tof | 64x4 |tof_1_v0'...tof_1_v63,tof_2_v0'...tof_2_v63,tof_3_v0'...tof_3_v63,tof_4_v0'...tof_4_v63|\n",
    "\n",
    "| Category (test)  |  Counts | Values|\n",
    "|---|---|---|\n",
    "| row_id | 1 ||\n",
    "| <strike>sequence_type</strike>| 1 ||\n",
    "| sequence_id | 1 ||\n",
    "| sequence_counter | 1 ||\n",
    "| subject | 1 ||\n",
    "| <strike>orientation</strike> | 1 ||\n",
    "| <strike>behavior</strike> | 1 ||\n",
    "| <strike>phase</strike> | 1 ||\n",
    "| <strike>gesture</strike> | 1 ||\n",
    "| acc | 3 |acc_x,acc_y,acc_z|\n",
    "| rot | 4 |rot_w,rot_x,rot_y,rot_z|\n",
    "| thm | 5 |thm_1,thm_2,...,thm_5|\n",
    "| tof | 64x4 |tof_1_v0'...tof_1_v63,tof_2_v0'...tof_2_v63,tof_3_v0'...tof_3_v63,tof_4_v0'...tof_4_v63|"
   ]
  },
  {
   "cell_type": "markdown",
   "id": "fa562e61",
   "metadata": {
    "_cell_guid": "7f692c08-8c79-4192-adc9-e78df62ec6c6",
    "_uuid": "05dc8e25-4936-48f2-944f-5c0b45d2ece4",
    "collapsed": false,
    "jupyter": {
     "outputs_hidden": false
    },
    "papermill": {
     "duration": 0.00626,
     "end_time": "2025-08-21T09:32:21.999133",
     "exception": false,
     "start_time": "2025-08-21T09:32:21.992873",
     "status": "completed"
    },
    "tags": []
   },
   "source": [
    "# Setup Environment"
   ]
  },
  {
   "cell_type": "markdown",
   "id": "0cd4e0ec",
   "metadata": {
    "_cell_guid": "b341c65f-dd41-41c1-b11a-98e149340f8e",
    "_uuid": "3ff24982-8601-4f03-b03f-47a4c06de9b6",
    "collapsed": false,
    "jupyter": {
     "outputs_hidden": false
    },
    "papermill": {
     "duration": 0.006118,
     "end_time": "2025-08-21T09:32:22.011597",
     "exception": false,
     "start_time": "2025-08-21T09:32:22.005479",
     "status": "completed"
    },
    "tags": []
   },
   "source": [
    "## Configurations"
   ]
  },
  {
   "cell_type": "code",
   "execution_count": 1,
   "id": "876e2216",
   "metadata": {
    "_cell_guid": "624a9c1c-3a5b-4327-8071-b2d6f6025e18",
    "_uuid": "3f61db4b-ba27-4433-9994-d950d5979c4a",
    "collapsed": false,
    "execution": {
     "iopub.execute_input": "2025-08-21T09:32:22.026690Z",
     "iopub.status.busy": "2025-08-21T09:32:22.025925Z",
     "iopub.status.idle": "2025-08-21T09:32:27.098673Z",
     "shell.execute_reply": "2025-08-21T09:32:27.097831Z"
    },
    "jupyter": {
     "outputs_hidden": false
    },
    "papermill": {
     "duration": 5.08146,
     "end_time": "2025-08-21T09:32:27.100104",
     "exception": false,
     "start_time": "2025-08-21T09:32:22.018644",
     "status": "completed"
    },
    "tags": []
   },
   "outputs": [],
   "source": [
    "import torch\n",
    "\n",
    "from pathlib import Path\n",
    "from torch import nn\n",
    "from dataclasses import dataclass, field\n",
    "from typing import List, Dict, Callable\n",
    "from core_utilities import set_seed\n",
    "\n",
    "@dataclass\n",
    "class Config:\n",
    "    seed: int = 42\n",
    "    eps: float = 1e-8\n",
    "    \n",
    "    root: Path = Path('/kaggle/input/cmi-detect-behavior-with-sensor-data/')\n",
    "    ckpt_root: Path = Path('/kaggle/input/cmi-behavior-detection/lightning_logs/version_0/checkpoints')\n",
    "    # data_root: Path = Path('/kaggle/input/cmi-tof-dataset')\n",
    "    data_root: Path = Path('/kaggle/input/cmi-behavior-detection-synthetic-dataset')\n",
    "    \n",
    "    # Data groups (train, test, ...)\n",
    "    data_groups: dict[str, str] = field(default_factory=lambda: dict(\n",
    "        train='train.csv',\n",
    "        test='test.csv',\n",
    "    ))\n",
    "    \n",
    "    # Demographics data\n",
    "    demographics: dict[str, str] = field(default_factory=lambda: dict(\n",
    "        train='train_demographics.csv',\n",
    "        test='test_demographics.csv',\n",
    "    ))\n",
    "\n",
    "    # Split ratio\n",
    "    split_ratio: float = 0.2\n",
    "\n",
    "    # Torch Configuration\n",
    "    device = torch.device(\"cuda:0\" if torch.cuda.is_available() else 'cpu')\n",
    "    \n",
    "    # Feature Flags\n",
    "    features: List[str] = field(default_factory=lambda: [\n",
    "        ## Info\n",
    "        'info.splits',\n",
    "        # 'info.dataset',\n",
    "        # 'info.transforms',\n",
    "        'info.datasets',\n",
    "        'info.dataloader.params',\n",
    "        'info.dataloader.summary',\n",
    "\n",
    "        ## Data Processing\n",
    "        # 'data.linear_acc',\n",
    "        # 'data.linear_acc.overwrite',\n",
    "        # 'data.move_between_sets',\n",
    "\n",
    "        ## Model\n",
    "        'model.summary',\n",
    "\n",
    "        ## Training\n",
    "        'train',\n",
    "        'train.metrics',\n",
    "        # 'train.save.latest',\n",
    "        # 'checkpoint',\n",
    "\n",
    "        ## Evaluation\n",
    "        'evaluation.valid',\n",
    "        'evaluation.valid.sliced',\n",
    "        'evaluation.composite.sliced',\n",
    "\n",
    "        ## Competition Metrics\n",
    "        # 'competition.metrics.valid',\n",
    "        'competition.metrics.test',\n",
    "\n",
    "    ])\n",
    "\n",
    "    def data_limit(self) -> int:\n",
    "        return 3 if is_interactive() else None\n",
    "\n",
    "config = Config()\n",
    "# print(f'{config=}')\n",
    "set_seed(config.seed)"
   ]
  },
  {
   "cell_type": "code",
   "execution_count": 2,
   "id": "cddd61fa",
   "metadata": {
    "_cell_guid": "c7e83cf3-0db3-4bb8-9883-5bb04d5f9b35",
    "_uuid": "8fd15041-8a25-41ce-a6df-9d6cc6f09a4f",
    "collapsed": false,
    "execution": {
     "iopub.execute_input": "2025-08-21T09:32:27.115656Z",
     "iopub.status.busy": "2025-08-21T09:32:27.115018Z",
     "iopub.status.idle": "2025-08-21T09:32:27.123803Z",
     "shell.execute_reply": "2025-08-21T09:32:27.123000Z"
    },
    "jupyter": {
     "outputs_hidden": false
    },
    "papermill": {
     "duration": 0.017794,
     "end_time": "2025-08-21T09:32:27.124849",
     "exception": false,
     "start_time": "2025-08-21T09:32:27.107055",
     "status": "completed"
    },
    "tags": []
   },
   "outputs": [
    {
     "name": "stdout",
     "output_type": "stream",
     "text": [
      "data_config=DataConfig(slice_len=64, sequence_len=64, num_classes=18, column_to_str={'metadata': ['row_id', 'sequence_id', 'sequence_counter', 'subject'], 'metadata_d': ['subject'], 'acc': ['acc_x', 'acc_y', 'acc_z'], 'rot': ['rot_w', 'rot_x', 'rot_y', 'rot_z'], 'thm': ['thm_1', 'thm_2', 'thm_3', 'thm_4', 'thm_5'], 'tof': ['tof_1_v0', 'tof_1_v1', 'tof_1_v2', 'tof_1_v3', 'tof_1_v4', 'tof_1_v5', 'tof_1_v6', 'tof_1_v7', 'tof_1_v8', 'tof_1_v9', 'tof_1_v10', 'tof_1_v11', 'tof_1_v12', 'tof_1_v13', 'tof_1_v14', 'tof_1_v15', 'tof_1_v16', 'tof_1_v17', 'tof_1_v18', 'tof_1_v19', 'tof_1_v20', 'tof_1_v21', 'tof_1_v22', 'tof_1_v23', 'tof_1_v24', 'tof_1_v25', 'tof_1_v26', 'tof_1_v27', 'tof_1_v28', 'tof_1_v29', 'tof_1_v30', 'tof_1_v31', 'tof_1_v32', 'tof_1_v33', 'tof_1_v34', 'tof_1_v35', 'tof_1_v36', 'tof_1_v37', 'tof_1_v38', 'tof_1_v39', 'tof_1_v40', 'tof_1_v41', 'tof_1_v42', 'tof_1_v43', 'tof_1_v44', 'tof_1_v45', 'tof_1_v46', 'tof_1_v47', 'tof_1_v48', 'tof_1_v49', 'tof_1_v50', 'tof_1_v51', 'tof_1_v52', 'tof_1_v53', 'tof_1_v54', 'tof_1_v55', 'tof_1_v56', 'tof_1_v57', 'tof_1_v58', 'tof_1_v59', 'tof_1_v60', 'tof_1_v61', 'tof_1_v62', 'tof_1_v63', 'tof_2_v0', 'tof_2_v1', 'tof_2_v2', 'tof_2_v3', 'tof_2_v4', 'tof_2_v5', 'tof_2_v6', 'tof_2_v7', 'tof_2_v8', 'tof_2_v9', 'tof_2_v10', 'tof_2_v11', 'tof_2_v12', 'tof_2_v13', 'tof_2_v14', 'tof_2_v15', 'tof_2_v16', 'tof_2_v17', 'tof_2_v18', 'tof_2_v19', 'tof_2_v20', 'tof_2_v21', 'tof_2_v22', 'tof_2_v23', 'tof_2_v24', 'tof_2_v25', 'tof_2_v26', 'tof_2_v27', 'tof_2_v28', 'tof_2_v29', 'tof_2_v30', 'tof_2_v31', 'tof_2_v32', 'tof_2_v33', 'tof_2_v34', 'tof_2_v35', 'tof_2_v36', 'tof_2_v37', 'tof_2_v38', 'tof_2_v39', 'tof_2_v40', 'tof_2_v41', 'tof_2_v42', 'tof_2_v43', 'tof_2_v44', 'tof_2_v45', 'tof_2_v46', 'tof_2_v47', 'tof_2_v48', 'tof_2_v49', 'tof_2_v50', 'tof_2_v51', 'tof_2_v52', 'tof_2_v53', 'tof_2_v54', 'tof_2_v55', 'tof_2_v56', 'tof_2_v57', 'tof_2_v58', 'tof_2_v59', 'tof_2_v60', 'tof_2_v61', 'tof_2_v62', 'tof_2_v63', 'tof_3_v0', 'tof_3_v1', 'tof_3_v2', 'tof_3_v3', 'tof_3_v4', 'tof_3_v5', 'tof_3_v6', 'tof_3_v7', 'tof_3_v8', 'tof_3_v9', 'tof_3_v10', 'tof_3_v11', 'tof_3_v12', 'tof_3_v13', 'tof_3_v14', 'tof_3_v15', 'tof_3_v16', 'tof_3_v17', 'tof_3_v18', 'tof_3_v19', 'tof_3_v20', 'tof_3_v21', 'tof_3_v22', 'tof_3_v23', 'tof_3_v24', 'tof_3_v25', 'tof_3_v26', 'tof_3_v27', 'tof_3_v28', 'tof_3_v29', 'tof_3_v30', 'tof_3_v31', 'tof_3_v32', 'tof_3_v33', 'tof_3_v34', 'tof_3_v35', 'tof_3_v36', 'tof_3_v37', 'tof_3_v38', 'tof_3_v39', 'tof_3_v40', 'tof_3_v41', 'tof_3_v42', 'tof_3_v43', 'tof_3_v44', 'tof_3_v45', 'tof_3_v46', 'tof_3_v47', 'tof_3_v48', 'tof_3_v49', 'tof_3_v50', 'tof_3_v51', 'tof_3_v52', 'tof_3_v53', 'tof_3_v54', 'tof_3_v55', 'tof_3_v56', 'tof_3_v57', 'tof_3_v58', 'tof_3_v59', 'tof_3_v60', 'tof_3_v61', 'tof_3_v62', 'tof_3_v63', 'tof_4_v0', 'tof_4_v1', 'tof_4_v2', 'tof_4_v3', 'tof_4_v4', 'tof_4_v5', 'tof_4_v6', 'tof_4_v7', 'tof_4_v8', 'tof_4_v9', 'tof_4_v10', 'tof_4_v11', 'tof_4_v12', 'tof_4_v13', 'tof_4_v14', 'tof_4_v15', 'tof_4_v16', 'tof_4_v17', 'tof_4_v18', 'tof_4_v19', 'tof_4_v20', 'tof_4_v21', 'tof_4_v22', 'tof_4_v23', 'tof_4_v24', 'tof_4_v25', 'tof_4_v26', 'tof_4_v27', 'tof_4_v28', 'tof_4_v29', 'tof_4_v30', 'tof_4_v31', 'tof_4_v32', 'tof_4_v33', 'tof_4_v34', 'tof_4_v35', 'tof_4_v36', 'tof_4_v37', 'tof_4_v38', 'tof_4_v39', 'tof_4_v40', 'tof_4_v41', 'tof_4_v42', 'tof_4_v43', 'tof_4_v44', 'tof_4_v45', 'tof_4_v46', 'tof_4_v47', 'tof_4_v48', 'tof_4_v49', 'tof_4_v50', 'tof_4_v51', 'tof_4_v52', 'tof_4_v53', 'tof_4_v54', 'tof_4_v55', 'tof_4_v56', 'tof_4_v57', 'tof_4_v58', 'tof_4_v59', 'tof_4_v60', 'tof_4_v61', 'tof_4_v62', 'tof_4_v63'], 'd': ['adult_child', 'handedness'], 'label': ['gesture'], 'linear_acc': ['linear_acc_x', 'linear_acc_y', 'linear_acc_z']})\n"
     ]
    }
   ],
   "source": [
    "from dataclasses import dataclass, field\n",
    "from typing import List\n",
    "\n",
    "@dataclass\n",
    "class DataConfig:\n",
    "    slice_len: int = 64\n",
    "    sequence_len: int = 103\n",
    "\n",
    "    # Classes\n",
    "    num_classes: int = 18\n",
    "\n",
    "    column_to_str: {str, List[str]} = field(default_factory=lambda: {\n",
    "        ## Metadata columns\n",
    "        'metadata': ['row_id', 'sequence_id', 'sequence_counter', 'subject'],\n",
    "        'metadata_d': ['subject'],\n",
    "\n",
    "        ## Data Columns\n",
    "        'acc': ['acc_x', 'acc_y', 'acc_z'],\n",
    "        'rot': ['rot_w', 'rot_x', 'rot_y', 'rot_z'],\n",
    "        'thm': [f'thm_{v}' for v in range(1, 6)],\n",
    "        'tof': (\n",
    "            [f'tof_1_v{v}' for v in range(64)]\n",
    "            + [f'tof_2_v{v}' for v in range(64)]\n",
    "            + [f'tof_3_v{v}' for v in range(64)]\n",
    "            + [f'tof_4_v{v}' for v in range(64)]\n",
    "        ),\n",
    "        ## Demographics Columns\n",
    "        'd': ['adult_child', 'handedness'],\n",
    "\n",
    "        ## Label Columns\n",
    "        'label': ['gesture'],\n",
    "\n",
    "        ## Generated Columns\n",
    "        'linear_acc': list(map(lambda s: f'linear_{s}', ['acc_x', 'acc_y', 'acc_z']))\n",
    "    })\n",
    "\n",
    "    def columns(self, hint=['acc', 'rot', 'tof', 'd']):\n",
    "        # Convert hint to a list for processing\n",
    "        if type(hint) is str: hint = [hint]\n",
    "\n",
    "        return sum(map(lambda h: self.column_to_str[h], hint), [])\n",
    "\n",
    "    def sequence_columns(self, generated=[]):\n",
    "        return self.columns(['acc', 'rot', 'thm', 'tof', 'd'] + generated)\n",
    "        \n",
    "data_config = DataConfig(slice_len=64, sequence_len=64)\n",
    "\n",
    "print(f'{data_config=}')"
   ]
  },
  {
   "cell_type": "markdown",
   "id": "fe3a9aec",
   "metadata": {
    "_cell_guid": "cba756fb-267f-4943-99ef-734501415f47",
    "_uuid": "1514a1ea-f05e-43ee-b8c2-5cc415f99523",
    "collapsed": false,
    "jupyter": {
     "outputs_hidden": false
    },
    "papermill": {
     "duration": 0.006256,
     "end_time": "2025-08-21T09:32:27.137679",
     "exception": false,
     "start_time": "2025-08-21T09:32:27.131423",
     "status": "completed"
    },
    "tags": []
   },
   "source": [
    "# Train/Valid Split"
   ]
  },
  {
   "cell_type": "code",
   "execution_count": 3,
   "id": "b00d7001",
   "metadata": {
    "_cell_guid": "888db187-7833-439c-8a46-95823b29d574",
    "_uuid": "06124929-1b47-484b-84b6-d727815f8423",
    "collapsed": false,
    "execution": {
     "iopub.execute_input": "2025-08-21T09:32:27.151383Z",
     "iopub.status.busy": "2025-08-21T09:32:27.151155Z",
     "iopub.status.idle": "2025-08-21T09:32:38.398605Z",
     "shell.execute_reply": "2025-08-21T09:32:38.397703Z"
    },
    "jupyter": {
     "outputs_hidden": false
    },
    "papermill": {
     "duration": 11.255912,
     "end_time": "2025-08-21T09:32:38.399935",
     "exception": false,
     "start_time": "2025-08-21T09:32:27.144023",
     "status": "completed"
    },
    "tags": []
   },
   "outputs": [
    {
     "name": "stdout",
     "output_type": "stream",
     "text": [
      "Loading data from: /kaggle/input/cmi-behavior-detection-synthetic-dataset\n",
      "\n",
      "Train\n",
      "=====\n",
      "\n",
      "6520 train_X[0].shape=(57, 273) train_y.shape=(6520,)\n",
      "\n",
      "Valid\n",
      "=====\n",
      "\n",
      "1631 valid_X[0].shape=(45, 273) valid_y.shape=(1631,)\n"
     ]
    }
   ],
   "source": [
    "from core_utilities import make_header, load_pkl\n",
    "\n",
    "print(f'Loading data from: {config.data_root}')\n",
    "\n",
    "## Train set\n",
    "train_X = load_pkl(config.data_root / 'train_X.pkl')\n",
    "train_y = load_pkl(config.data_root / 'train_y.pkl')\n",
    "\n",
    "## Valid set\n",
    "valid_X = load_pkl(config.data_root / 'valid_X.pkl')\n",
    "valid_y = load_pkl(config.data_root / 'valid_y.pkl')\n",
    "\n",
    "if 'info.splits' in config.features:\n",
    "    print(make_header('Train'))\n",
    "    print(f'{len(train_X)} {train_X[0].shape=} {train_y.shape=}')\n",
    "    \n",
    "    print(make_header('Valid'))\n",
    "    print(f'{len(valid_X)} {valid_X[0].shape=} {valid_y.shape=}')"
   ]
  },
  {
   "cell_type": "code",
   "execution_count": 4,
   "id": "a18652dc",
   "metadata": {
    "execution": {
     "iopub.execute_input": "2025-08-21T09:32:38.414694Z",
     "iopub.status.busy": "2025-08-21T09:32:38.414430Z",
     "iopub.status.idle": "2025-08-21T09:32:38.426749Z",
     "shell.execute_reply": "2025-08-21T09:32:38.426105Z"
    },
    "papermill": {
     "duration": 0.020717,
     "end_time": "2025-08-21T09:32:38.427811",
     "exception": false,
     "start_time": "2025-08-21T09:32:38.407094",
     "status": "completed"
    },
    "tags": []
   },
   "outputs": [
    {
     "name": "stdout",
     "output_type": "stream",
     "text": [
      "\n",
      "Train\n",
      "=====\n",
      "\n",
      "6520 train_X[0].shape=(57, 270) train_y.shape=(6520,)\n",
      "\n",
      "Valid\n",
      "=====\n",
      "\n",
      "1631 valid_X[0].shape=(45, 270) valid_y.shape=(1631,)\n"
     ]
    }
   ],
   "source": [
    "import numpy as np\n",
    "\n",
    "def switch_acc_with_linear_acc(data):\n",
    "    return list(map(\n",
    "        lambda X: np.concatenate([X[..., -3:], X[..., 3:-3]], axis=-1),\n",
    "        data\n",
    "    ))\n",
    "\n",
    "def remove_linear_acc(data):\n",
    "    return list(map(\n",
    "        lambda X: X[..., :-3],\n",
    "        data\n",
    "    ))\n",
    "\n",
    "def move_between_sets(data_1, data_2, frac=.5):\n",
    "    data_1_X, data_1_y = data_1\n",
    "    data_2_X, data_2_y = data_2\n",
    "    \n",
    "    num_items = len(data_2_X)\n",
    "    num_items_to_move = int(num_items*frac)\n",
    "\n",
    "    # Move data_2_X to data_1_X\n",
    "    data_1_X = data_1_X + data_2_X[:num_items_to_move]\n",
    "    data_2_X = data_2_X[num_items_to_move:]\n",
    "\n",
    "    # Move data_2_y to data_1_y\n",
    "    data_1_y = np.concatenate([data_1_y, data_2_y[:num_items_to_move]])\n",
    "    data_2_y = data_2_y[num_items_to_move:]\n",
    "\n",
    "    return (data_1_X, data_1_y), (data_2_X, data_2_y)\n",
    "\n",
    "if 'data.linear_acc.overwrite' in config.features:\n",
    "    train_X = switch_acc_with_linear_acc(train_X)\n",
    "    valid_X = switch_acc_with_linear_acc(valid_X)\n",
    "elif not 'data.linear_acc' in config.features:\n",
    "    train_X = remove_linear_acc(train_X)\n",
    "    valid_X = remove_linear_acc(valid_X)\n",
    "\n",
    "if 'data.move_between_sets' in config.features:\n",
    "    # (train_X, train_y), (valid_X, valid_y) = move_between_sets(\n",
    "    #     (train_X, train_y),\n",
    "    #     (valid_X, valid_y),\n",
    "    #     frac=.1,\n",
    "    # )\n",
    "    (valid_X, valid_y), (train_X, train_y) = move_between_sets(\n",
    "        (valid_X, valid_y),\n",
    "        (train_X, train_y),\n",
    "        frac=.1,\n",
    "    )\n",
    "\n",
    "print(make_header('Train'))\n",
    "print(f'{len(train_X)} {train_X[0].shape=} {train_y.shape=}')\n",
    "\n",
    "print(make_header('Valid'))\n",
    "print(f'{len(valid_X)} {valid_X[0].shape=} {valid_y.shape=}')"
   ]
  },
  {
   "cell_type": "markdown",
   "id": "6b425bd7",
   "metadata": {
    "_cell_guid": "94ad4c6d-9276-47c9-a945-86270cd7386c",
    "_uuid": "bcbc5fcc-7aaa-4f3e-9da3-65d03dc265cc",
    "collapsed": false,
    "jupyter": {
     "outputs_hidden": false
    },
    "papermill": {
     "duration": 0.006464,
     "end_time": "2025-08-21T09:32:38.441079",
     "exception": false,
     "start_time": "2025-08-21T09:32:38.434615",
     "status": "completed"
    },
    "tags": []
   },
   "source": [
    "## Class Weights"
   ]
  },
  {
   "cell_type": "code",
   "execution_count": 5,
   "id": "9c1a29f0",
   "metadata": {
    "_cell_guid": "8d6eb975-8245-4db7-bdb7-d603acae60fd",
    "_uuid": "ae114b82-f10c-4238-8cf9-ffa5b91add65",
    "collapsed": false,
    "execution": {
     "iopub.execute_input": "2025-08-21T09:32:38.455637Z",
     "iopub.status.busy": "2025-08-21T09:32:38.455041Z",
     "iopub.status.idle": "2025-08-21T09:32:38.465410Z",
     "shell.execute_reply": "2025-08-21T09:32:38.464760Z"
    },
    "jupyter": {
     "outputs_hidden": false
    },
    "papermill": {
     "duration": 0.018812,
     "end_time": "2025-08-21T09:32:38.466438",
     "exception": false,
     "start_time": "2025-08-21T09:32:38.447626",
     "status": "completed"
    },
    "tags": []
   },
   "outputs": [
    {
     "name": "stdout",
     "output_type": "stream",
     "text": [
      "\n",
      "Class Weights (train)\n",
      "=====================\n",
      "\n",
      "[0.23210832 0.234375   0.95238095 0.24390244 0.22641509 0.94488189\n",
      " 0.24390244 0.23952096 0.93023256 0.23255814 0.2259887  0.97560976\n",
      " 0.3030303  0.9375     0.23762376 0.30534351 0.31413613 1.        ]\n",
      "\n",
      "Class Weights (valid)\n",
      "=====================\n",
      "\n",
      "[0.99173554 0.96       3.42857143 0.82191781 1.09090909 3.52941176\n",
      " 0.81081081 0.86330935 3.75       0.96774194 1.10091743 3.15789474\n",
      " 1.48148148 3.63636364 0.88888889 1.41176471 1.26315789 2.92682927]\n"
     ]
    }
   ],
   "source": [
    "import numpy as np\n",
    "\n",
    "def compute_class_weights(ys):\n",
    "    _, freqs = np.unique(ys, return_counts=True)\n",
    "    # weights = freqs / len(ys)\n",
    "    weights = 120 / freqs\n",
    "\n",
    "    return weights\n",
    "\n",
    "train_class_weights = compute_class_weights(train_y)\n",
    "valid_class_weights = compute_class_weights(valid_y)\n",
    "\n",
    "print(make_header(f'Class Weights (train)'))\n",
    "print(train_class_weights)\n",
    "\n",
    "print(make_header(f'Class Weights (valid)'))\n",
    "print(valid_class_weights)"
   ]
  },
  {
   "cell_type": "markdown",
   "id": "d7ef5629",
   "metadata": {
    "_cell_guid": "60fc9a71-1958-4cda-a2bc-72920c6e4dea",
    "_uuid": "79cc546e-d646-40d1-a90d-d77cbb246572",
    "collapsed": false,
    "jupyter": {
     "outputs_hidden": false
    },
    "papermill": {
     "duration": 0.006942,
     "end_time": "2025-08-21T09:32:38.480518",
     "exception": false,
     "start_time": "2025-08-21T09:32:38.473576",
     "status": "completed"
    },
    "tags": []
   },
   "source": [
    "# Datasets\n",
    "\n",
    "It build a sequence by grouping the data by _sequence\\_id_."
   ]
  },
  {
   "cell_type": "markdown",
   "id": "51b3a3df",
   "metadata": {
    "_cell_guid": "5a92b1c5-07dd-43c7-a81b-cb640ba70033",
    "_uuid": "0ac4f3d8-911b-4074-81c0-eda7c8885ee1",
    "collapsed": false,
    "jupyter": {
     "outputs_hidden": false
    },
    "papermill": {
     "duration": 0.007166,
     "end_time": "2025-08-21T09:32:38.494534",
     "exception": false,
     "start_time": "2025-08-21T09:32:38.487368",
     "status": "completed"
    },
    "tags": []
   },
   "source": [
    "## Definition"
   ]
  },
  {
   "cell_type": "code",
   "execution_count": 6,
   "id": "54a140b0",
   "metadata": {
    "_cell_guid": "65e1e061-3dad-4401-a60e-2e38d9acd87a",
    "_uuid": "f50137a5-4be1-400b-b9fd-84a14908ae3e",
    "collapsed": false,
    "execution": {
     "iopub.execute_input": "2025-08-21T09:32:38.510461Z",
     "iopub.status.busy": "2025-08-21T09:32:38.510241Z",
     "iopub.status.idle": "2025-08-21T09:32:38.518209Z",
     "shell.execute_reply": "2025-08-21T09:32:38.517617Z"
    },
    "jupyter": {
     "outputs_hidden": false
    },
    "papermill": {
     "duration": 0.017278,
     "end_time": "2025-08-21T09:32:38.519286",
     "exception": false,
     "start_time": "2025-08-21T09:32:38.502008",
     "status": "completed"
    },
    "tags": []
   },
   "outputs": [],
   "source": [
    "import torch\n",
    "import random\n",
    "import numpy as np\n",
    "\n",
    "class CMIDataset(torch.utils.data.Dataset):\n",
    "    def __init__(self, Xs, ys=None, transforms=[], variants=1, merge_fn=lambda Xs,y: (Xs[0], y)):\n",
    "        # Input args\n",
    "        self.Xs = Xs\n",
    "        self.ys = ys\n",
    "        self.transforms = transforms\n",
    "        self.variants = variants\n",
    "        self.merge_fn = merge_fn\n",
    "\n",
    "    def __len__(self):\n",
    "        return len(self.Xs)\n",
    "\n",
    "    def get_single_variant(self, X, y):\n",
    "        # Apply transformations\n",
    "        for t in self.transforms:\n",
    "            X, y = t(X, y)\n",
    "\n",
    "        return X, y\n",
    "\n",
    "    def get_variants(self, X, y):\n",
    "        # Create a container for variants\n",
    "        Xs = []\n",
    "\n",
    "        # Fetch the required number of variants\n",
    "        for _ in range(self.variants):\n",
    "            Xv, _ = self.get_single_variant(X, y)\n",
    "\n",
    "            # Add variants to the container\n",
    "            Xs.append(Xv)\n",
    "\n",
    "        return Xs, y\n",
    "\n",
    "    def __getitem__(self, idx):\n",
    "        # Get X and y for the input idx\n",
    "        X = self.Xs[idx]\n",
    "        y = None if self.ys is None else self.ys[idx]\n",
    "\n",
    "        # Get all variants of X and y\n",
    "        Xs, y = self.get_variants(X, y)\n",
    "\n",
    "        # Merge variants\n",
    "        X, y = self.merge_fn(Xs, y)\n",
    "        \n",
    "        return X if y is None else (X, y)\n",
    "\n",
    "    def __repr__(self):\n",
    "        idx = random.randrange(len(self))\n",
    "        X, y = (self[idx], None) if self.ys is None else self[idx]\n",
    "\n",
    "        if self.variants == 1:\n",
    "            repr_str = f'Length: {len(self)}\\n{idx=}\\n{X.shape=}\\n{X[0]=}\\n{X[-1]=}\\n{y=}'\n",
    "        else:\n",
    "            repr_str = f'Length: {len(self)}\\n{idx=}\\n{X.shape=}\\n{X[0][0]=}\\n{X[0][-1]=}\\n{X[1][0]=}\\n{X[1][-1]=}\\n{y=}'\n",
    "\n",
    "        return repr_str\n",
    "\n",
    "if 'info.dataset' in config.features:\n",
    "    dataset = CMIDataset(train_X, train_y)\n",
    "    print(f'{dataset=}')"
   ]
  },
  {
   "cell_type": "markdown",
   "id": "d880b524",
   "metadata": {
    "_cell_guid": "4caa0d86-2feb-4523-8e63-0e6611a0cf9e",
    "_uuid": "7aa0ce91-aeca-4b2c-9fc4-f550a40ff4f8",
    "collapsed": false,
    "jupyter": {
     "outputs_hidden": false
    },
    "papermill": {
     "duration": 0.007282,
     "end_time": "2025-08-21T09:32:38.534565",
     "exception": false,
     "start_time": "2025-08-21T09:32:38.527283",
     "status": "completed"
    },
    "tags": []
   },
   "source": [
    "## Transforms"
   ]
  },
  {
   "cell_type": "code",
   "execution_count": 7,
   "id": "117535f8",
   "metadata": {
    "_cell_guid": "445e13be-b809-4f07-a3be-572a69c8aa29",
    "_uuid": "c989102f-d45c-4ba5-afd0-f866d209d13f",
    "collapsed": false,
    "execution": {
     "iopub.execute_input": "2025-08-21T09:32:38.548494Z",
     "iopub.status.busy": "2025-08-21T09:32:38.548314Z",
     "iopub.status.idle": "2025-08-21T09:32:38.819786Z",
     "shell.execute_reply": "2025-08-21T09:32:38.819197Z"
    },
    "jupyter": {
     "outputs_hidden": false
    },
    "papermill": {
     "duration": 0.279989,
     "end_time": "2025-08-21T09:32:38.821240",
     "exception": false,
     "start_time": "2025-08-21T09:32:38.541251",
     "status": "completed"
    },
    "tags": []
   },
   "outputs": [],
   "source": [
    "from core_utilities import make_header\n",
    "from transforms import Slice, FixLength, Transpose, ToType, Resize\n",
    "\n",
    "transforms = [\n",
    "    Slice(data_config.sequence_len),\n",
    "    FixLength(data_config.sequence_len),\n",
    "    Transpose(),\n",
    "    ToType(),\n",
    "]\n",
    "\n",
    "if 'info.transforms' in config.features:\n",
    "    print(make_header(f'Train'))\n",
    "    dataset = CMIDataset(train_X, train_y, transforms=transforms)\n",
    "    print(f'{dataset=}')"
   ]
  },
  {
   "cell_type": "markdown",
   "id": "531b0a04",
   "metadata": {
    "_cell_guid": "66aee330-9480-4c69-ac88-19414e35dec0",
    "_uuid": "485a86dc-27c2-4652-b278-afd62393184e",
    "collapsed": false,
    "jupyter": {
     "outputs_hidden": false
    },
    "papermill": {
     "duration": 0.05629,
     "end_time": "2025-08-21T09:32:38.884669",
     "exception": false,
     "start_time": "2025-08-21T09:32:38.828379",
     "status": "completed"
    },
    "tags": []
   },
   "source": [
    "## Train and Valid Datasets"
   ]
  },
  {
   "cell_type": "code",
   "execution_count": 8,
   "id": "91258d21",
   "metadata": {
    "_cell_guid": "ab4cd483-8660-4c0e-b8da-5f3d07129209",
    "_uuid": "2f3ed135-0b98-41b1-9ed4-bfea342a507f",
    "collapsed": false,
    "execution": {
     "iopub.execute_input": "2025-08-21T09:32:38.899374Z",
     "iopub.status.busy": "2025-08-21T09:32:38.899077Z",
     "iopub.status.idle": "2025-08-21T09:32:38.909335Z",
     "shell.execute_reply": "2025-08-21T09:32:38.908288Z"
    },
    "jupyter": {
     "outputs_hidden": false
    },
    "papermill": {
     "duration": 0.019112,
     "end_time": "2025-08-21T09:32:38.910610",
     "exception": false,
     "start_time": "2025-08-21T09:32:38.891498",
     "status": "completed"
    },
    "tags": []
   },
   "outputs": [
    {
     "name": "stdout",
     "output_type": "stream",
     "text": [
      "\n",
      "Train\n",
      "=====\n",
      "\n",
      "train_set=Length: 6520\n",
      "idx=5238\n",
      "X.shape=(270, 64)\n",
      "X[0]=array([ 0.8964472 ,  0.9203771 ,  0.72056216,  0.7618413 ,  0.92576134,\n",
      "        0.8731155 ,  0.8557663 ,  0.8497838 ,  0.8497838 ,  0.8438013 ,\n",
      "        0.8438013 ,  0.8438013 ,  0.8438013 ,  0.83183634,  0.83183634,\n",
      "        0.83183634,  0.82645214,  0.8497838 ,  0.8204696 ,  0.81448716,\n",
      "        0.81448716,  0.8085047 ,  0.797138  ,  0.83183634,  0.81448716,\n",
      "        0.8085047 ,  0.8025222 ,  0.797138  ,  0.797138  ,  0.797138  ,\n",
      "        0.797138  ,  0.797138  ,  0.797138  ,  0.797138  ,  0.773208  ,\n",
      "        0.797138  ,  0.8085047 ,  0.7678238 ,  0.6152705 ,  0.6499689 ,\n",
      "        0.74389386,  0.7265447 ,  0.7265447 ,  0.773208  ,  0.9143946 ,\n",
      "        0.15761058,  0.20427395, -0.30004933, -1.0514491 , -1.0975143 ,\n",
      "       -1.1441776 , -1.1274266 , -1.1214441 , -1.1094792 , -1.1561426 ,\n",
      "       -1.2093867 , -1.1681075 , -1.1447759 , -1.1986182 , -1.2034042 ,\n",
      "       -1.1687058 , -1.1920375 , -1.2034042 , -1.1280249 ], dtype=float32)\n",
      "X[-1]=array([0., 0., 0., 0., 0., 0., 0., 0., 0., 0., 0., 0., 0., 0., 0., 0., 0.,\n",
      "       0., 0., 0., 0., 0., 0., 0., 0., 0., 0., 0., 0., 0., 0., 0., 0., 0.,\n",
      "       0., 0., 0., 0., 0., 0., 0., 0., 0., 0., 0., 0., 0., 0., 0., 0., 0.,\n",
      "       0., 0., 0., 0., 0., 0., 0., 0., 0., 0., 0., 0., 0.], dtype=float32)\n",
      "y=1\n",
      "\n",
      "Valid\n",
      "=====\n",
      "\n",
      "valid_set=Length: 1631\n",
      "idx=457\n",
      "X.shape=(270, 64)\n",
      "X[0]=array([ 0.9632364 ,  0.9691846 ,  0.9691846 ,  0.9691846 ,  0.9632364 ,\n",
      "        0.9632364 ,  0.9691846 ,  0.95728827,  0.9632364 ,  0.9459868 ,\n",
      "        0.95193493,  0.95728827,  0.95728827,  0.95193493,  0.95193493,\n",
      "        0.95728827,  0.95728827,  0.95728827,  0.9632364 ,  0.95728827,\n",
      "        0.9632364 ,  0.9632364 ,  0.9751327 ,  0.9691846 ,  0.9691846 ,\n",
      "        0.9691846 ,  0.9632364 ,  0.95728827,  0.9632364 ,  0.95728827,\n",
      "        0.95193493,  0.95728827,  0.95193493,  0.95193493,  1.0744666 ,\n",
      "        1.1327583 ,  1.6282378 ,  0.69497555, -0.24958825, -0.8681943 ,\n",
      "       -0.8675994 , -0.85629797, -0.84559137, -0.8675994 , -0.9841829 ,\n",
      "       -1.0662671 , -0.8277469 , -0.78729963, -1.0847063 , -0.9841829 ,\n",
      "       -0.97882956, -1.1013612 , -1.1596528 , -1.1245588 , -1.1132574 ,\n",
      "       -1.1542995 , -0.974071  , -1.1650062 , -1.0145184 , -1.0662671 ,\n",
      "       -1.095413  , -1.0026221 , -1.0490175 , -1.0829219 ], dtype=float32)\n",
      "X[-1]=array([0., 0., 0., 0., 0., 0., 0., 0., 0., 0., 0., 0., 0., 0., 0., 0., 0.,\n",
      "       0., 0., 0., 0., 0., 0., 0., 0., 0., 0., 0., 0., 0., 0., 0., 0., 0.,\n",
      "       0., 0., 0., 0., 0., 0., 0., 0., 0., 0., 0., 0., 0., 0., 0., 0., 0.,\n",
      "       0., 0., 0., 0., 0., 0., 0., 0., 0., 0., 0., 0., 0.], dtype=float32)\n",
      "y=3\n"
     ]
    }
   ],
   "source": [
    "from core_utilities import make_header\n",
    "from transforms import Slice, FixLength, Transpose, ToType, Resize, Holes, Clip, LambdaX, OffChannel\n",
    "\n",
    "# Make train set\n",
    "train_transforms = [\n",
    "    Slice(data_config.sequence_len),\n",
    "    Clip(limits=(-3.5, 2.5)),\n",
    "    FixLength(data_config.sequence_len),\n",
    "    # Holes(count=6),\n",
    "    Holes(count=128),\n",
    "    OffChannel(\n",
    "        len(data_config.columns(['acc', 'rot'])),\n",
    "        len(data_config.columns(['thm', 'tof'])),\n",
    "    ),\n",
    "    Transpose(),\n",
    "    ToType(),\n",
    "]\n",
    "\n",
    "train_set = CMIDataset(train_X, train_y, transforms=train_transforms)\n",
    "\n",
    "# Make valid set\n",
    "valid_transforms = [\n",
    "    Slice(data_config.sequence_len),\n",
    "    Clip(limits=(-3.5, 2.5)),\n",
    "    FixLength(data_config.sequence_len),\n",
    "    OffChannel(\n",
    "        len(data_config.columns(['acc', 'rot'])),\n",
    "        len(data_config.columns(['thm', 'tof'])),\n",
    "    ),\n",
    "    Transpose(),\n",
    "    ToType(),\n",
    "]\n",
    "\n",
    "valid_set = CMIDataset(valid_X, valid_y, transforms=valid_transforms)\n",
    "\n",
    "if 'info.datasets' in config.features:\n",
    "    print(make_header(f'Train'))\n",
    "    print(f'{train_set=}')\n",
    "\n",
    "    print(make_header(f'Valid'))\n",
    "    print(f'{valid_set=}')"
   ]
  },
  {
   "cell_type": "markdown",
   "id": "7cecc47a",
   "metadata": {
    "_cell_guid": "d2be36ef-d58d-4739-a8a1-b8a070ecb335",
    "_uuid": "ca2b581e-f193-4fa5-96aa-3ea5a3d34ce0",
    "collapsed": false,
    "jupyter": {
     "outputs_hidden": false
    },
    "papermill": {
     "duration": 0.006524,
     "end_time": "2025-08-21T09:32:38.923834",
     "exception": false,
     "start_time": "2025-08-21T09:32:38.917310",
     "status": "completed"
    },
    "tags": []
   },
   "source": [
    "# Model"
   ]
  },
  {
   "cell_type": "markdown",
   "id": "f992d1b4",
   "metadata": {
    "_cell_guid": "bab667ef-7737-4a0a-ae07-8c54b68b7862",
    "_uuid": "f05f7014-34dc-4ac4-878f-ba2944634ad1",
    "collapsed": false,
    "jupyter": {
     "outputs_hidden": false
    },
    "papermill": {
     "duration": 0.006512,
     "end_time": "2025-08-21T09:32:38.937006",
     "exception": false,
     "start_time": "2025-08-21T09:32:38.930494",
     "status": "completed"
    },
    "tags": []
   },
   "source": [
    "## BDLstmModel"
   ]
  },
  {
   "cell_type": "code",
   "execution_count": 9,
   "id": "66352281",
   "metadata": {
    "execution": {
     "iopub.execute_input": "2025-08-21T09:32:38.951312Z",
     "iopub.status.busy": "2025-08-21T09:32:38.951096Z",
     "iopub.status.idle": "2025-08-21T09:32:38.958059Z",
     "shell.execute_reply": "2025-08-21T09:32:38.957347Z"
    },
    "papermill": {
     "duration": 0.015336,
     "end_time": "2025-08-21T09:32:38.959115",
     "exception": false,
     "start_time": "2025-08-21T09:32:38.943779",
     "status": "completed"
    },
    "tags": []
   },
   "outputs": [
    {
     "name": "stdout",
     "output_type": "stream",
     "text": [
      "model_config=ModelConfig(model='BDLstmModel', input_size=64, out_channels=18, in_splits=[3, 4, 5, 256, 2], in_encoders=['acc', 'rot', 'thm', 'tof', 'dem'], slice_encoders={}, rnn_channels=64, squeeze_channels=32, with_noise=False)\n",
      "model_config.input_shape()=(64, 270)\n"
     ]
    }
   ],
   "source": [
    "from pathlib import Path\n",
    "from dataclasses import dataclass, field\n",
    "from collections.abc import Callable\n",
    "\n",
    "@dataclass\n",
    "class ModelConfig:\n",
    "    model: str = 'BDLstmModel'\n",
    "\n",
    "    # Required configuration\n",
    "    input_size: int = 64\n",
    "    out_channels: int = 18\n",
    "\n",
    "    # Input split configuration\n",
    "    in_splits: list[int] = field(default_factory=lambda: [3, 4, 5, 256, 2])\n",
    "    in_encoders: list[str] = field(default_factory=lambda: ['acc', 'rot', 'thm', 'tof', 'dem'])\n",
    "\n",
    "    # Input slice configuration\n",
    "    slice_encoders: dict[str, tuple[int]] = field(default_factory=lambda: {\n",
    "        # 'acc_rot': [slice(7)],\n",
    "    })\n",
    "\n",
    "    # Optional configuration\n",
    "    rnn_channels: int = 64\n",
    "    squeeze_channels: int = 128\n",
    "    \n",
    "    # Optional layers\n",
    "    with_noise: bool = False\n",
    "    \n",
    "    def input_shape(self) -> tuple[int, int]:\n",
    "        return (self.input_size, self.in_channels)\n",
    "\n",
    "    @property\n",
    "    def in_channels(self) -> int:\n",
    "        return sum(self.in_splits)\n",
    "\n",
    "model_config = ModelConfig(\n",
    "    input_size=data_config.sequence_len,\n",
    "    rnn_channels=data_config.sequence_len,\n",
    "    squeeze_channels=32,\n",
    ")\n",
    "print(f'{model_config=}')\n",
    "print(f'{model_config.input_shape()=}')"
   ]
  },
  {
   "cell_type": "code",
   "execution_count": 10,
   "id": "a010cca8",
   "metadata": {
    "_cell_guid": "34b21e09-694b-4660-8ec4-2b31c02ca37f",
    "_uuid": "688fcc9b-e884-43db-a132-e50a553f88ac",
    "collapsed": false,
    "execution": {
     "iopub.execute_input": "2025-08-21T09:32:38.973685Z",
     "iopub.status.busy": "2025-08-21T09:32:38.973471Z",
     "iopub.status.idle": "2025-08-21T09:32:46.132052Z",
     "shell.execute_reply": "2025-08-21T09:32:46.131351Z"
    },
    "jupyter": {
     "outputs_hidden": false
    },
    "papermill": {
     "duration": 7.168029,
     "end_time": "2025-08-21T09:32:46.133823",
     "exception": false,
     "start_time": "2025-08-21T09:32:38.965794",
     "status": "completed"
    },
    "tags": []
   },
   "outputs": [
    {
     "name": "stdout",
     "output_type": "stream",
     "text": [
      "============================================================================================================================================\n",
      "Layer (type (var_name))                                      Input Shape          Output Shape         Param #              Trainable\n",
      "============================================================================================================================================\n",
      "BDLstmModel (BDLstmModel)                                    [16, 270, 64]        [16, 18]             --                   True\n",
      "├─ModuleDict (encoders)                                      --                   --                   --                   True\n",
      "│    └─Sequential (acc)                                      [16, 3, 64]          [16, 1024, 64]       --                   True\n",
      "│    │    └─BDConvBlock (0)                                  [16, 3, 64]          [16, 512, 64]        38,912               True\n",
      "│    │    └─BDConvBlock (1)                                  [16, 512, 64]        [16, 768, 64]        2,017,536            True\n",
      "│    │    └─BDConvBlock (2)                                  [16, 768, 64]        [16, 1024, 64]       2,427,904            True\n",
      "│    └─Sequential (rot)                                      [16, 4, 64]          [16, 1024, 64]       --                   True\n",
      "│    │    └─BDConvBlock (0)                                  [16, 4, 64]          [16, 512, 64]        40,448               True\n",
      "│    │    └─BDConvBlock (1)                                  [16, 512, 64]        [16, 768, 64]        2,017,536            True\n",
      "│    │    └─BDConvBlock (2)                                  [16, 768, 64]        [16, 1024, 64]       2,427,904            True\n",
      "│    └─Sequential (thm)                                      [16, 5, 64]          [16, 128, 64]        --                   True\n",
      "│    │    └─ConvBlock1d (0)                                  [16, 5, 64]          [16, 64, 64]         1,088                True\n",
      "│    │    └─Dropout (1)                                      [16, 64, 64]         [16, 64, 64]         --                   --\n",
      "│    │    └─ConvBlock1d (2)                                  [16, 64, 64]         [16, 128, 64]        24,832               True\n",
      "│    │    └─Dropout (3)                                      [16, 128, 64]        [16, 128, 64]        --                   --\n",
      "│    └─Sequential (tof)                                      [16, 256, 64]        [16, 128, 64]        --                   True\n",
      "│    │    └─ConvBlock1d (0)                                  [16, 256, 64]        [16, 64, 64]         49,280               True\n",
      "│    │    └─Dropout (1)                                      [16, 64, 64]         [16, 64, 64]         --                   --\n",
      "│    │    └─ConvBlock1d (2)                                  [16, 64, 64]         [16, 128, 64]        24,832               True\n",
      "│    │    └─Dropout (3)                                      [16, 128, 64]        [16, 128, 64]        --                   --\n",
      "│    └─Sequential (dem)                                      [16, 2, 64]          [16, 128, 64]        --                   True\n",
      "│    │    └─ConvBlock1d (0)                                  [16, 2, 64]          [16, 64, 64]         512                  True\n",
      "│    │    └─Dropout (1)                                      [16, 64, 64]         [16, 64, 64]         --                   --\n",
      "│    │    └─ConvBlock1d (2)                                  [16, 64, 64]         [16, 128, 64]        24,832               True\n",
      "│    │    └─Dropout (3)                                      [16, 128, 64]        [16, 128, 64]        --                   --\n",
      "├─Sequential (conv_m)                                        [16, 270, 64]        [16, 1024, 64]       --                   True\n",
      "│    └─BDConvBlock (0)                                       [16, 270, 64]        [16, 512, 64]        --                   True\n",
      "│    │    └─Sequential (block)                               [16, 270, 64]        [16, 512, 64]        416,256              True\n",
      "│    │    └─ChannelSeBlock (se_block)                        [16, 512, 64]        [16, 512, 64]        32,768               True\n",
      "│    └─BDConvBlock (1)                                       [16, 512, 64]        [16, 768, 64]        --                   True\n",
      "│    │    └─Sequential (block)                               [16, 512, 64]        [16, 768, 64]        1,968,384            True\n",
      "│    │    └─ChannelSeBlock (se_block)                        [16, 768, 64]        [16, 768, 64]        49,152               True\n",
      "│    └─BDConvBlock (2)                                       [16, 768, 64]        [16, 1024, 64]       --                   True\n",
      "│    │    └─Sequential (block)                               [16, 768, 64]        [16, 1024, 64]       2,362,368            True\n",
      "│    │    └─ChannelSeBlock (se_block)                        [16, 1024, 64]       [16, 1024, 64]       65,536               True\n",
      "├─ModuleList (branches)                                      --                   --                   --                   True\n",
      "│    └─LSTM (0)                                              [16, 64, 3456]       [16, 64, 128]        1,803,264            True\n",
      "│    └─GRU (1)                                               [16, 64, 3456]       [16, 64, 128]        1,352,448            True\n",
      "│    └─RNN (2)                                               [16, 64, 3456]       [16, 64, 128]        450,816              True\n",
      "├─Dropout (dropout_m)                                        [16, 64, 384]        [16, 64, 384]        --                   --\n",
      "├─Sequential (linear_backbone)                               [16, 64, 384]        [16, 64, 128]        --                   True\n",
      "│    └─BDLinearBlock (block_0)                               [16, 64, 384]        [16, 64, 128]        --                   True\n",
      "│    │    └─Sequential (block)                               [16, 64, 384]        [16, 64, 128]        49,152               True\n",
      "├─Linear (linear)                                            [16, 128]            [16, 18]             2,322                True\n",
      "============================================================================================================================================\n",
      "Total params: 17,648,082\n",
      "Trainable params: 17,648,082\n",
      "Non-trainable params: 0\n",
      "Total mult-adds (Units.GIGABYTES): 17.56\n",
      "============================================================================================================================================\n",
      "Input size (MB): 1.11\n",
      "Forward/backward pass size (MB): 127.80\n",
      "Params size (MB): 70.59\n",
      "Estimated Total Size (MB): 199.50\n",
      "============================================================================================================================================\n"
     ]
    }
   ],
   "source": [
    "import torch\n",
    "\n",
    "import torch.nn.functional as F\n",
    "import torch.nn as nn\n",
    "\n",
    "from torchvision.transforms.v2 import GaussianNoise\n",
    "from collections import OrderedDict, defaultdict\n",
    "from torchinfo import summary\n",
    "from torch_layers import BDConvBlock, BDLinearBlock, ChannelSeBlock, ConvNormActivation, ConvBlock1d\n",
    "from torch_layers import Lambda\n",
    "\n",
    "class BDLstmModel(nn.Module):\n",
    "    name = 'lstm-model'\n",
    "        \n",
    "    def __init__(\n",
    "        self,\n",
    "        in_channels,\n",
    "        out_channels,\n",
    "\n",
    "        in_splits,\n",
    "        in_encoders,\n",
    "        slice_encoders,\n",
    "        \n",
    "        conv_configs=[\n",
    "            # (256, 3, .1), (512, 5, .1),\n",
    "            # (768, 3, .1),\n",
    "            \n",
    "            (512, 3, .1), (768, 5, .1),\n",
    "            (1024, 3, .1), #(1536, 3, .4),\n",
    "            #(2048, 3, .5),\n",
    "        ],\n",
    "        linear_configs=[\n",
    "            # (2048, 2048, .5), (2048, 1024, .4),\n",
    "            #(1024, 512, .3),\n",
    "            # (512, 128, .3),\n",
    "            (512, 128, .3),\n",
    "        ],\n",
    "        squeeze_channels=128,\n",
    "        rnn_channels=128,\n",
    "        with_noise=False,\n",
    "    ):\n",
    "        super().__init__()\n",
    "\n",
    "        # Input args\n",
    "        self.in_channels = in_channels\n",
    "        self.out_channels = out_channels\n",
    "\n",
    "        self.in_splits = in_splits\n",
    "        self.in_encoders = in_encoders\n",
    "        self.slice_encoders = slice_encoders\n",
    "        \n",
    "        self.conv_configs = conv_configs\n",
    "        self.linear_configs = linear_configs.copy()\n",
    "        self.squeeze_channels = squeeze_channels\n",
    "        self.with_noise = with_noise\n",
    "\n",
    "        # Derived args\n",
    "        conv_out_channels = conv_configs[-1][0] # Output channels of the last conv block\n",
    "        encoders_out_channels = conv_out_channels*3 + 128*3\n",
    "        rnn_args = (encoders_out_channels, rnn_channels)\n",
    "        rnn_kwargs = dict(bidirectional=True, batch_first=True)\n",
    "\n",
    "        # Adjusted args\n",
    "        _, last_out_channels, last_dropout = linear_configs[-1]\n",
    "        self.linear_configs[-1] = (rnn_channels*6, last_out_channels, last_dropout)\n",
    "\n",
    "        # Additional args\n",
    "        conv_configs_64_128 = [\n",
    "            (64, 3, .2),\n",
    "            (128, 3, .2),\n",
    "        ]\n",
    "        conv_configs_128_256 = [\n",
    "            (128, 3, .2),\n",
    "            (256, 3, .2),\n",
    "        ]\n",
    "        conv_configs_256_512 = [\n",
    "            (256, 3, .2),\n",
    "            (512, 3, .2),\n",
    "        ]\n",
    "        conv_configs_64_128_256 = [\n",
    "            (64, 3, .2),\n",
    "            (128, 3, .2),\n",
    "            (256, 3, .2),\n",
    "        ]\n",
    "        conv_configs_64_128_256_512 = [\n",
    "            (64, 3, .2),\n",
    "            (128, 3, .2),\n",
    "            (256, 3, .2),\n",
    "            (512, 3, .2),\n",
    "        ]\n",
    "        reflex_fn = lambda x: x\n",
    "\n",
    "        # Layers\n",
    "        self.encoders = nn.ModuleDict(OrderedDict(filter(\n",
    "            lambda item: item[1] is not None,\n",
    "            [\n",
    "                (\n",
    "                    'acc',\n",
    "                    self.make_bdconv_module(3, conv_configs, padding='same')\n",
    "                ),\n",
    "                (\n",
    "                    'rot',\n",
    "                    self.make_bdconv_module(4, conv_configs, padding='same')\n",
    "                    # self.make_small_conv_module(4, conv_configs_128_256, padding='same', bias=False)\n",
    "                ),\n",
    "                (\n",
    "                    'thm',\n",
    "                    self.make_small_conv_module(5, conv_configs_64_128, padding='same', bias=False)\n",
    "                ),\n",
    "                (\n",
    "                    'tof',\n",
    "                    self.make_small_conv_module(256, conv_configs_64_128, padding='same', bias=False)\n",
    "                    # self.make_small_conv_module(256, conv_configs_256_512, padding='same', bias=False)\n",
    "                ),\n",
    "                (\n",
    "                    'dem',\n",
    "                    self.make_small_conv_module(2, conv_configs_64_128, padding='same', bias=False)\n",
    "                ),\n",
    "            ]\n",
    "        )))\n",
    "        self.conv_m = self.make_bdconv_module(in_channels, conv_configs, padding='same')\n",
    "\n",
    "        # Noise branch\n",
    "        if with_noise: noise_m = nn.Sequential(\n",
    "            GaussianNoise(),\n",
    "            nn.Linear(self.encoders_out_channels, 16),\n",
    "            nn.ReLU(inplace=True),\n",
    "        )\n",
    "\n",
    "        # All branches\n",
    "        self.branches = nn.ModuleList(filter(\n",
    "            lambda fn: fn is not None,\n",
    "            [\n",
    "                nn.LSTM(*rnn_args, **rnn_kwargs),\n",
    "                nn.GRU(*rnn_args, **rnn_kwargs),\n",
    "                nn.RNN(*rnn_args, nonlinearity='relu', **rnn_kwargs),\n",
    "                noise_m if self.with_noise else None,\n",
    "            ]\n",
    "        ))\n",
    "        self.branch_fns = list(filter(\n",
    "            lambda fn: fn is not None,\n",
    "            [\n",
    "                ([], []),\n",
    "                # ([], []),\n",
    "                ([torch.fliplr], [torch.fliplr]),\n",
    "                ([], []),\n",
    "                ([], []) if self.with_noise else None,\n",
    "            ]\n",
    "            \n",
    "        ))\n",
    "\n",
    "        self.dropout_m = nn.Dropout(.2)\n",
    "        \n",
    "        self.linear_backbone = nn.Sequential(\n",
    "            OrderedDict(\n",
    "                map(\n",
    "                    self.make_linear_block,\n",
    "                    enumerate(self.linear_configs)\n",
    "                ),\n",
    "            )\n",
    "        )\n",
    "\n",
    "        self.linear = nn.Linear(self.linear_configs[-1][1], self.out_channels)\n",
    "\n",
    "    def apply_one_branch(self, branch_m, x, branch_fns=([], [])):\n",
    "        pre_fns, post_fns = branch_fns\n",
    "        # print(f'{type(branch_m)} {type(prep_fns)} {x.shape=}')\n",
    "\n",
    "        # Apply branch input prep functions\n",
    "        x = self.apply_fns(x, pre_fns)\n",
    "        \n",
    "        # Apply RNN branch. RNN branches require channel-last input\n",
    "        # print(f'{x.shape=} {branch_m=}')\n",
    "        x, _ = branch_m(x)\n",
    "\n",
    "        # Apply branch post-process functions\n",
    "        x = self.apply_fns(x, post_fns)\n",
    "\n",
    "        # print(f'{x.shape=}')\n",
    "\n",
    "        return x\n",
    "\n",
    "    def apply_fns(self, x, fns):\n",
    "        for fn in fns: x = fn(x)\n",
    "\n",
    "        return x\n",
    "        \n",
    "    def apply_branches(self, x):\n",
    "        # print(f'apply_branches({x.shape=})')\n",
    "        \n",
    "        # Apply branches\n",
    "        xs = list(map(\n",
    "            lambda args: self.apply_one_branch(*args),\n",
    "            zip(self.branches, [x]*len(self.branches), self.branch_fns)\n",
    "        ))\n",
    "\n",
    "        return xs\n",
    "\n",
    "    def apply_encoders(self, x):\n",
    "        # 1. Split inputs\n",
    "        x_splits = x.split(self.in_splits, dim=1)\n",
    "        # print(f'{len(x_splits)}')\n",
    "\n",
    "        # 2. Group splits by encoder\n",
    "        x_grouped = defaultdict(list)\n",
    "        for x_split, e_name in zip(x_splits, self.in_encoders):\n",
    "            # print(f'{e_name} {x_split.shape}')\n",
    "            x_grouped[e_name].append(x_split)\n",
    "        \n",
    "        # 3. Merge groups\n",
    "        xs = list(map(\n",
    "            lambda e_name: torch.concat(x_grouped[e_name], dim=1) if len(x_grouped[e_name]) > 1 else x_grouped[e_name][0],\n",
    "            self.in_encoders,\n",
    "        ))\n",
    "\n",
    "        # for x in xs:\n",
    "        #     print(f'{x.shape=}')\n",
    "\n",
    "        # 4. Apply encoders\n",
    "        xs = list(map(\n",
    "            lambda item: self.encoders[item[0]](item[1]), \n",
    "            zip(x_grouped.keys(), xs),\n",
    "        ))\n",
    "\n",
    "        return torch.concat(xs, dim=1)\n",
    "\n",
    "    def apply_slice_encoders(self, x):\n",
    "        # 1. Get slices\n",
    "        x_slices = []\n",
    "        for slices in self.slice_encoders.values():\n",
    "            x_slice = torch.concat(\n",
    "                list(map(lambda s: x[:, s, :], slices)),\n",
    "                dim=1\n",
    "            )\n",
    "            x_slices.append(x_slice)\n",
    "            # print(f'{x_slice.shape=}')\n",
    "            \n",
    "        # print(f'{len(x_slices)}')\n",
    "\n",
    "        # 4. Apply encoders\n",
    "        xs = list(map(\n",
    "            lambda item: self.encoders[item[0]](item[1]), \n",
    "            zip(self.slice_encoders.keys(), x_slices),\n",
    "        ))\n",
    "\n",
    "        return torch.concat(xs, dim=1)\n",
    "\n",
    "    def forward(self, x):\n",
    "        # Save input\n",
    "        inp = x\n",
    "        \n",
    "        # -> Apply encoders\n",
    "        x_enc = self.apply_encoders(x)\n",
    "        # print(f'{x.shape=} <- apply_encoders()')\n",
    "\n",
    "        # -> Apply slice_encoders\n",
    "        if self.slice_encoders:\n",
    "            x_slice_enc = self.apply_slice_encoders(x)\n",
    "            # print(f'{x_slice_enc.shape=} <- apply_slice_encoders()')\n",
    "\n",
    "            ## -> Merge encoders\n",
    "            x = torch.concat([x_enc, x_slice_enc], dim=1)\n",
    "        else:\n",
    "            x = x_enc\n",
    "\n",
    "        x = torch.concat([x, self.conv_m(inp)], dim=1)\n",
    "        \n",
    "        # -> Apply branches\n",
    "        xs = self.apply_branches(x.permute(0, 2, 1))\n",
    "        \n",
    "        # -> Join the branches on the channel dimension and apply attention\n",
    "        x = torch.concat(xs, dim=2)\n",
    "\n",
    "        # -> Apply Dropout\n",
    "        # print(f'{x.shape=}')\n",
    "        x = self.dropout_m(x)\n",
    "        \n",
    "        # -> Join the branches on the channel dimension and apply attention\n",
    "        x = F.scaled_dot_product_attention(x, x, x)\n",
    "        \n",
    "        # -> Apply linear backbone and pick the last element for classification\n",
    "        x = self.linear_backbone(x)\n",
    "        x = self.linear(x[..., -1, :])\n",
    "\n",
    "        return x\n",
    "\n",
    "    def make_small_conv_module(self, in_channels, conv_configs, **kwargs):\n",
    "        def conv_fn(args):\n",
    "            # Extract parameters\n",
    "            conv_idx, (conv_out, kernel, dropout) = args\n",
    "            conv_in = in_channels if conv_idx == 0 else conv_configs[conv_idx - 1][0]\n",
    "\n",
    "            # Create layers\n",
    "            layers = [\n",
    "                ConvBlock1d(conv_in, conv_out, kernel, **kwargs)\n",
    "            ]\n",
    "            \n",
    "            if dropout is not None: layers.append(nn.Dropout(dropout))\n",
    "            \n",
    "            return layers\n",
    "            \n",
    "        return nn.Sequential(\n",
    "            *sum(\n",
    "                map(\n",
    "                    conv_fn,\n",
    "                    enumerate(conv_configs)\n",
    "                ),\n",
    "                []\n",
    "            )\n",
    "        )\n",
    "\n",
    "    def make_bdconv_module(self, in_channels, conv_configs, **kwargs):\n",
    "        def bdconv_fn(args):\n",
    "            # Extract parameters\n",
    "            conv_idx, config = args\n",
    "            conv_in = in_channels if conv_idx == 0 else conv_configs[conv_idx - 1][0]\n",
    "\n",
    "            return BDConvBlock(\n",
    "                f'bdconv_{conv_idx}', conv_in, *config,\n",
    "                squeeze_channels=self.squeeze_channels, **kwargs,\n",
    "            )\n",
    "            \n",
    "        return nn.Sequential(*map(bdconv_fn, enumerate(conv_configs)))\n",
    "\n",
    "    def make_linear_block(self, args):\n",
    "        idx, config = args\n",
    "        block_name = f'block_{idx}'\n",
    "        block = BDLinearBlock(block_name, *config, bias=False)\n",
    "\n",
    "        return block_name, block\n",
    "        \n",
    "model = BDLstmModel(\n",
    "    in_channels=model_config.in_channels,\n",
    "    out_channels=model_config.out_channels,\n",
    "    \n",
    "    in_splits=model_config.in_splits,\n",
    "    in_encoders=model_config.in_encoders,\n",
    "    slice_encoders=model_config.slice_encoders,\n",
    "    \n",
    "    squeeze_channels=model_config.squeeze_channels,\n",
    "    rnn_channels=model_config.rnn_channels,\n",
    "    \n",
    "    with_noise=model_config.with_noise,\n",
    ").to(config.device)\n",
    "\n",
    "if 'model.summary' in config.features:\n",
    "    print(\n",
    "        summary(\n",
    "            model=model, \n",
    "            input_size=(16, model_config.in_channels, model_config.input_size),\n",
    "            col_names=[\"input_size\", \"output_size\", \"num_params\", \"trainable\"],\n",
    "            col_width=20,\n",
    "            row_settings=[\"var_names\"],\n",
    "        )\n",
    "    )"
   ]
  },
  {
   "cell_type": "markdown",
   "id": "50b95489",
   "metadata": {
    "_cell_guid": "9c3468ba-e764-4f51-89a5-efe2963ce777",
    "_uuid": "e3e0e194-4c8c-48cc-8f18-0cf46c7a6bf1",
    "collapsed": false,
    "jupyter": {
     "outputs_hidden": false
    },
    "papermill": {
     "duration": 0.007315,
     "end_time": "2025-08-21T09:32:46.153560",
     "exception": false,
     "start_time": "2025-08-21T09:32:46.146245",
     "status": "completed"
    },
    "tags": []
   },
   "source": [
    "# Training"
   ]
  },
  {
   "cell_type": "markdown",
   "id": "e617a700",
   "metadata": {
    "_cell_guid": "7eb6c304-83a6-4109-b446-5ddef900fc34",
    "_uuid": "45e5924f-d65b-4d30-a82c-02c1ef66d187",
    "collapsed": false,
    "jupyter": {
     "outputs_hidden": false
    },
    "papermill": {
     "duration": 0.00685,
     "end_time": "2025-08-21T09:32:46.167449",
     "exception": false,
     "start_time": "2025-08-21T09:32:46.160599",
     "status": "completed"
    },
    "tags": []
   },
   "source": [
    "## Configuration"
   ]
  },
  {
   "cell_type": "code",
   "execution_count": 11,
   "id": "f6c4ac27",
   "metadata": {
    "_cell_guid": "a7dc9ee8-3f1b-49a6-bcdb-a2a1dc4fe2c4",
    "_uuid": "2732fc4d-214c-4f03-8d73-c8e47f9fe4ae",
    "collapsed": false,
    "execution": {
     "iopub.execute_input": "2025-08-21T09:32:46.182950Z",
     "iopub.status.busy": "2025-08-21T09:32:46.182212Z",
     "iopub.status.idle": "2025-08-21T09:32:46.191453Z",
     "shell.execute_reply": "2025-08-21T09:32:46.190756Z"
    },
    "jupyter": {
     "outputs_hidden": false
    },
    "papermill": {
     "duration": 0.018046,
     "end_time": "2025-08-21T09:32:46.192458",
     "exception": false,
     "start_time": "2025-08-21T09:32:46.174412",
     "status": "completed"
    },
    "tags": []
   },
   "outputs": [
    {
     "name": "stdout",
     "output_type": "stream",
     "text": [
      "train_config=TrainConfig(name='train', num_classes=18, batch_size=64, epochs=200, optimizer=OptimizerConfig(name='adam', lr=0.0007, early_stopping=20, patience=1, lr_decay=0.65, min_lr=0.0001, momentum=0.9, weight_decay=0.0001), early_stop=False, device=device(type='cuda', index=0), dataloader_workers=3, checkpoint=PosixPath('weights.pt'), load_best_ckpt=False, items_to_mix=2, mixup_num_samples=64, mixup_prob=0.4, items_to_cutmix=2, max_cutmix_samples=64, cutmix_prob=0.4, cut_size=0.4)\n",
      "valid_config=TrainConfig(name='valid', num_classes=18, batch_size=64, epochs=200, optimizer=OptimizerConfig(name='adam', lr=0.0007, early_stopping=20, patience=1, lr_decay=0.65, min_lr=0.0001, momentum=0.9, weight_decay=0.0001), early_stop=False, device=device(type='cuda', index=0), dataloader_workers=3, checkpoint=None, load_best_ckpt=False, items_to_mix=2, mixup_num_samples=64, mixup_prob=0.4, items_to_cutmix=2, max_cutmix_samples=64, cutmix_prob=0.4, cut_size=0.4)\n"
     ]
    }
   ],
   "source": [
    "from dataclasses import dataclass, field\n",
    "from typing import List, Dict, Callable, Union\n",
    "from pathlib import Path\n",
    "\n",
    "@dataclass\n",
    "class OptimizerConfig:\n",
    "    name: str = 'adam'\n",
    "    lr: float = 7E-4\n",
    "    \n",
    "    early_stopping: int = 20\n",
    "\n",
    "    # Scheduler\n",
    "    patience: int = 1\n",
    "    lr_decay: float = 0.65\n",
    "    min_lr: float = 1E-4\n",
    "    \n",
    "    momentum: float = 0.9\n",
    "\n",
    "    # Regularization\n",
    "    weight_decay: float = 1E-4\n",
    "\n",
    "@dataclass\n",
    "class TrainConfig:\n",
    "    name: str = 'train'\n",
    "    num_classes: int = 18\n",
    "        \n",
    "    batch_size: int = 64\n",
    "    # batch_size: int = 16\n",
    "    epochs: int = 200\n",
    "        \n",
    "    optimizer: OptimizerConfig = field(default_factory=OptimizerConfig)\n",
    "    early_stop: bool = False\n",
    "\n",
    "    device: str = 'cpu'\n",
    "    dataloader_workers: int = 3\n",
    "\n",
    "    checkpoint: Path = None\n",
    "    load_best_ckpt: bool = False\n",
    "\n",
    "    # Mixup\n",
    "    items_to_mix: int = 2\n",
    "    mixup_num_samples: int = 64\n",
    "    mixup_prob: float = .4\n",
    "\n",
    "    # Cutmix\n",
    "    items_to_cutmix: int = 2\n",
    "    max_cutmix_samples: int = 64\n",
    "    cutmix_prob: float = .4\n",
    "    cut_size: float = .4\n",
    "\n",
    "train_config = TrainConfig(\n",
    "    name='train',\n",
    "    num_classes=model_config.out_channels,\n",
    "    device=config.device,\n",
    "    checkpoint=Path('weights.pt')\n",
    ")\n",
    "valid_config = TrainConfig(\n",
    "    name='valid',\n",
    "    num_classes=model_config.out_channels,\n",
    "    device=config.device,\n",
    ")\n",
    "\n",
    "print(f'{train_config=}')\n",
    "print(f'{valid_config=}')"
   ]
  },
  {
   "cell_type": "markdown",
   "id": "e1a0e396",
   "metadata": {
    "_cell_guid": "ec038ee5-d04a-48f6-ad95-cab157d42a10",
    "_uuid": "84930f31-69a3-4820-bde0-8de5d68cc6f0",
    "collapsed": false,
    "jupyter": {
     "outputs_hidden": false
    },
    "papermill": {
     "duration": 0.00693,
     "end_time": "2025-08-21T09:32:46.206581",
     "exception": false,
     "start_time": "2025-08-21T09:32:46.199651",
     "status": "completed"
    },
    "tags": []
   },
   "source": [
    "## Dataloaders"
   ]
  },
  {
   "cell_type": "code",
   "execution_count": 12,
   "id": "5a68b180",
   "metadata": {
    "_cell_guid": "c9ddb217-cd89-4dc5-8f3d-2d666cf6ad34",
    "_uuid": "2d6bfacd-d2b4-44fc-9043-9ea5d60606b7",
    "collapsed": false,
    "execution": {
     "iopub.execute_input": "2025-08-21T09:32:46.221420Z",
     "iopub.status.busy": "2025-08-21T09:32:46.221238Z",
     "iopub.status.idle": "2025-08-21T09:32:46.245098Z",
     "shell.execute_reply": "2025-08-21T09:32:46.244352Z"
    },
    "jupyter": {
     "outputs_hidden": false
    },
    "papermill": {
     "duration": 0.032471,
     "end_time": "2025-08-21T09:32:46.246084",
     "exception": false,
     "start_time": "2025-08-21T09:32:46.213613",
     "status": "completed"
    },
    "tags": []
   },
   "outputs": [
    {
     "name": "stdout",
     "output_type": "stream",
     "text": [
      "\n",
      "Train\n",
      "=====\n",
      " \n",
      "train_loader_params={'batch_size': 64, 'shuffle': True, 'pin_memory': True, 'num_workers': 3, 'persistent_workers': True}\n",
      "\n",
      "Validation\n",
      "==========\n",
      " \n",
      "valid_loader_params={'batch_size': 64, 'shuffle': False, 'pin_memory': True, 'num_workers': 3, 'persistent_workers': True}\n"
     ]
    }
   ],
   "source": [
    "from core_utilities import make_header\n",
    "from torch_dataloader import dataloader_params\n",
    "\n",
    "train_loader_params = dataloader_params(train_config)\n",
    "valid_loader_params = dataloader_params(valid_config)\n",
    "\n",
    "if 'info.dataloader.params' in config.features:\n",
    "    print(\n",
    "        make_header('Train'),\n",
    "        f'\\n{train_loader_params=}'\n",
    "    )\n",
    "    print(\n",
    "        make_header('Validation'),\n",
    "        f'\\n{valid_loader_params=}'\n",
    "    )"
   ]
  },
  {
   "cell_type": "code",
   "execution_count": 13,
   "id": "69c980c4",
   "metadata": {
    "_cell_guid": "1bcdee50-bb6a-4a4b-b9e8-483a87403db8",
    "_uuid": "ece13dd0-30a1-4174-9122-36e5f730fdb2",
    "collapsed": false,
    "execution": {
     "iopub.execute_input": "2025-08-21T09:32:46.261497Z",
     "iopub.status.busy": "2025-08-21T09:32:46.261292Z",
     "iopub.status.idle": "2025-08-21T09:32:46.635576Z",
     "shell.execute_reply": "2025-08-21T09:32:46.634264Z"
    },
    "jupyter": {
     "outputs_hidden": false
    },
    "papermill": {
     "duration": 0.384902,
     "end_time": "2025-08-21T09:32:46.638178",
     "exception": false,
     "start_time": "2025-08-21T09:32:46.253276",
     "status": "completed"
    },
    "tags": []
   },
   "outputs": [
    {
     "name": "stdout",
     "output_type": "stream",
     "text": [
      "<class 'torch.Tensor'>\n",
      "\n",
      "Dataloader: train\n",
      "=================\n",
      " \n",
      "Xs.shape=torch.Size([64, 270, 64]) torch.float32 ys.shape=torch.Size([64]) ys.dtype=torch.int64 ys=tensor([ 4, 14, 15,  6, 14,  1,  2,  1,  1,  3, 14,  3,  4,  7,  7, 14, 17, 15,\n",
      "         0, 14,  7, 15,  3,  0,  3,  9, 10, 10,  2,  2, 16,  0, 12, 11, 16, 12,\n",
      "        10,  4,  1, 17, 12, 12,  4, 11, 10, 13,  9,  9,  7,  4,  3,  3,  0,  1,\n",
      "         2,  5,  7,  2,  7,  0,  6, 10,  0,  4])\n",
      "<class 'torch.Tensor'>\n",
      "\n",
      "Dataloader: valid\n",
      "=================\n",
      " \n",
      "Xs.shape=torch.Size([64, 270, 64]) torch.float32 ys.shape=torch.Size([64]) ys.dtype=torch.int64 ys=tensor([10,  9, 16,  1, 11,  0, 16,  4,  1, 12,  7,  3,  1, 11,  1, 14, 15,  4,\n",
      "         1,  1,  1,  5,  9,  6, 13,  6,  7,  7,  1,  6, 10,  4,  1,  0, 15,  3,\n",
      "        16, 17, 14,  8,  9, 14,  5,  0,  7, 15, 14,  4, 15,  7,  6,  5, 14,  0,\n",
      "         4,  4,  9, 14,  0, 14,  1,  3, 15, 14])\n"
     ]
    }
   ],
   "source": [
    "from torch.utils.data import TensorDataset, DataLoader\n",
    "from core_utilities import make_header\n",
    "from torch_dataloader import create_dataloader, summarize_dataloader\n",
    "from torch_dataloader import get_mixup_collate_fn\n",
    "from torch_dataloader import make_collater, get_mixing_fn, get_cutmix_fn\n",
    "\n",
    "train_loader = create_dataloader(\n",
    "    train_set,\n",
    "    train_config=train_config,\n",
    "    collate_fn=make_collater(\n",
    "        collate_fn=get_mixing_fn(\n",
    "            mix_Xys=get_cutmix_fn(\n",
    "                size=train_config.cut_size,\n",
    "                dim=2,\n",
    "                num_classes=model_config.out_channels,\n",
    "            ),\n",
    "            items_to_mix=train_config.items_to_cutmix,\n",
    "            max_mix_samples=train_config.max_cutmix_samples,\n",
    "            num_classes=model_config.out_channels,\n",
    "        ),\n",
    "        prob=train_config.cutmix_prob,\n",
    "    )\n",
    "    # collate_fn=get_mixup_collate_fn(\n",
    "    #     num_classes=model_config.out_channels,\n",
    "    #     items_to_mix=train_config.items_to_mix,\n",
    "    #     prob=train_config.mixup_prob,\n",
    "    #     mixup_num_samples=train_config.mixup_num_samples,\n",
    "    # )\n",
    ")\n",
    "valid_loader = create_dataloader(valid_set, train_config=valid_config)\n",
    "\n",
    "if 'info.dataloader.summary' in config.features:\n",
    "    summarize_dataloader('train', train_loader)\n",
    "    summarize_dataloader('valid', valid_loader)\n"
   ]
  },
  {
   "cell_type": "markdown",
   "id": "66ba954c",
   "metadata": {
    "_cell_guid": "3580e539-7123-4c68-b157-74e08033d30d",
    "_uuid": "a44de60e-d0c9-46cd-a6d4-db017504cd5a",
    "collapsed": false,
    "jupyter": {
     "outputs_hidden": false
    },
    "papermill": {
     "duration": 0.017331,
     "end_time": "2025-08-21T09:32:46.677674",
     "exception": false,
     "start_time": "2025-08-21T09:32:46.660343",
     "status": "completed"
    },
    "tags": []
   },
   "source": [
    "## Training Loop"
   ]
  },
  {
   "cell_type": "code",
   "execution_count": 14,
   "id": "eb00bc0f",
   "metadata": {
    "execution": {
     "iopub.execute_input": "2025-08-21T09:32:46.694313Z",
     "iopub.status.busy": "2025-08-21T09:32:46.693949Z",
     "iopub.status.idle": "2025-08-21T09:32:46.699565Z",
     "shell.execute_reply": "2025-08-21T09:32:46.699004Z"
    },
    "papermill": {
     "duration": 0.015392,
     "end_time": "2025-08-21T09:32:46.700677",
     "exception": false,
     "start_time": "2025-08-21T09:32:46.685285",
     "status": "completed"
    },
    "tags": []
   },
   "outputs": [],
   "source": [
    "import torch\n",
    "\n",
    "from pathlib import Path\n",
    "\n",
    "if 'checkpoint' in config.features:\n",
    "    ckpt_path = Path('/kaggle/input/cmi-behavior-detection-lstm-l/weights.pt')\n",
    "    print(f'Load:: {ckpt_path=}')\n",
    "    model.load_state_dict(\n",
    "        torch.load(\n",
    "            ckpt_path,\n",
    "            weights_only=True,\n",
    "            map_location=torch.device(config.device)\n",
    "        )\n",
    "    )"
   ]
  },
  {
   "cell_type": "code",
   "execution_count": 15,
   "id": "b04baf65",
   "metadata": {
    "execution": {
     "iopub.execute_input": "2025-08-21T09:32:46.716556Z",
     "iopub.status.busy": "2025-08-21T09:32:46.716331Z",
     "iopub.status.idle": "2025-08-21T09:32:46.722087Z",
     "shell.execute_reply": "2025-08-21T09:32:46.721365Z"
    },
    "papermill": {
     "duration": 0.014857,
     "end_time": "2025-08-21T09:32:46.723135",
     "exception": false,
     "start_time": "2025-08-21T09:32:46.708278",
     "status": "completed"
    },
    "tags": []
   },
   "outputs": [
    {
     "name": "stdout",
     "output_type": "stream",
     "text": [
      "train_class_weights=array([1. , 1.5, 1. , 1.5, 1.5, 1. , 1.5, 1.5, 1. , 1.5, 1.5, 1. , 1. ,\n",
      "       1. , 1. , 1. , 1. , 1.5])\n"
     ]
    }
   ],
   "source": [
    "import numpy as np\n",
    "\n",
    "train_class_weights = np.ones(model_config.out_channels)\n",
    "boosted_classes = np.array([1, 3, 4, 6, 7, 9, 10, 17])\n",
    "boost_factor = 1.5\n",
    "train_class_weights[boosted_classes] = train_class_weights[boosted_classes]*boost_factor\n",
    "print(f'{train_class_weights=}')"
   ]
  },
  {
   "cell_type": "code",
   "execution_count": 16,
   "id": "7a5d9dca",
   "metadata": {
    "_cell_guid": "e6553d1d-61cd-435f-9580-cd5e8bd7da1f",
    "_uuid": "a9c52fb9-91d3-4403-ac1a-57c9578fcbd7",
    "collapsed": false,
    "execution": {
     "iopub.execute_input": "2025-08-21T09:32:46.738565Z",
     "iopub.status.busy": "2025-08-21T09:32:46.738348Z",
     "iopub.status.idle": "2025-08-21T09:56:47.967943Z",
     "shell.execute_reply": "2025-08-21T09:56:47.967251Z"
    },
    "jupyter": {
     "outputs_hidden": false
    },
    "papermill": {
     "duration": 1441.2389,
     "end_time": "2025-08-21T09:56:47.969412",
     "exception": false,
     "start_time": "2025-08-21T09:32:46.730512",
     "status": "completed"
    },
    "tags": []
   },
   "outputs": [
    {
     "name": "stderr",
     "output_type": "stream",
     "text": [
      "  0%|          | 1/200 [00:10<35:27, 10.69s/it, epoch=0, loss=3.04, lr=0.000700, mem=1.90 GB, step=25, train_acc=0.051, valid_acc=0.116, valid_loss=2.59]"
     ]
    },
    {
     "name": "stdout",
     "output_type": "stream",
     "text": [
      "Saving epoch=0 result=0.1161\n"
     ]
    },
    {
     "name": "stderr",
     "output_type": "stream",
     "text": [
      "  1%|          | 2/200 [00:21<34:41, 10.51s/it, epoch=1, loss=2.77, lr=0.000700, mem=1.90 GB, step=25, train_acc=0.102, valid_acc=0.224, valid_loss=2.28]"
     ]
    },
    {
     "name": "stdout",
     "output_type": "stream",
     "text": [
      "Saving epoch=1 result=0.2238\n"
     ]
    },
    {
     "name": "stderr",
     "output_type": "stream",
     "text": [
      "  2%|▏         | 3/200 [00:31<34:28, 10.50s/it, epoch=2, loss=2.59, lr=0.000700, mem=1.90 GB, step=25, train_acc=0.152, valid_acc=0.298, valid_loss=2.05]"
     ]
    },
    {
     "name": "stdout",
     "output_type": "stream",
     "text": [
      "Saving epoch=2 result=0.2979\n"
     ]
    },
    {
     "name": "stderr",
     "output_type": "stream",
     "text": [
      "  2%|▏         | 4/200 [00:41<33:33, 10.27s/it, epoch=3, loss=2.58, lr=0.000700, mem=1.90 GB, step=25, train_acc=0.165, valid_acc=0.323, valid_loss=1.96]"
     ]
    },
    {
     "name": "stdout",
     "output_type": "stream",
     "text": [
      "Saving epoch=3 result=0.3230\n"
     ]
    },
    {
     "name": "stderr",
     "output_type": "stream",
     "text": [
      "  2%|▎         | 5/200 [00:51<33:36, 10.34s/it, epoch=4, loss=2.38, lr=0.000700, mem=1.90 GB, step=25, train_acc=0.22, valid_acc=0.365, valid_loss=1.86]"
     ]
    },
    {
     "name": "stdout",
     "output_type": "stream",
     "text": [
      "Saving epoch=4 result=0.3652\n"
     ]
    },
    {
     "name": "stderr",
     "output_type": "stream",
     "text": [
      "  3%|▎         | 6/200 [01:02<33:37, 10.40s/it, epoch=5, loss=2.27, lr=0.000700, mem=1.90 GB, step=25, train_acc=0.245, valid_acc=0.393, valid_loss=1.77]"
     ]
    },
    {
     "name": "stdout",
     "output_type": "stream",
     "text": [
      "Saving epoch=5 result=0.3934\n"
     ]
    },
    {
     "name": "stderr",
     "output_type": "stream",
     "text": [
      "  4%|▎         | 7/200 [01:12<32:54, 10.23s/it, epoch=6, loss=2.38, lr=0.000700, mem=1.90 GB, step=25, train_acc=0.213, valid_acc=0.412, valid_loss=1.71]"
     ]
    },
    {
     "name": "stdout",
     "output_type": "stream",
     "text": [
      "Saving epoch=6 result=0.4120\n"
     ]
    },
    {
     "name": "stderr",
     "output_type": "stream",
     "text": [
      "  4%|▍         | 8/200 [01:22<32:15, 10.08s/it, epoch=7, loss=2.34, lr=0.000700, mem=1.90 GB, step=25, train_acc=0.222, valid_acc=0.428, valid_loss=1.67]"
     ]
    },
    {
     "name": "stdout",
     "output_type": "stream",
     "text": [
      "Saving epoch=7 result=0.4283\n"
     ]
    },
    {
     "name": "stderr",
     "output_type": "stream",
     "text": [
      "  4%|▍         | 9/200 [01:32<32:05, 10.08s/it, epoch=8, loss=2.21, lr=0.000700, mem=1.90 GB, step=25, train_acc=0.25, valid_acc=0.449, valid_loss=1.59]"
     ]
    },
    {
     "name": "stdout",
     "output_type": "stream",
     "text": [
      "Saving epoch=8 result=0.4488\n"
     ]
    },
    {
     "name": "stderr",
     "output_type": "stream",
     "text": [
      "  5%|▌         | 10/200 [01:41<31:27,  9.93s/it, epoch=9, loss=2.3, lr=0.000700, mem=1.90 GB, step=25, train_acc=0.225, valid_acc=0.484, valid_loss=1.55]"
     ]
    },
    {
     "name": "stdout",
     "output_type": "stream",
     "text": [
      "Saving epoch=9 result=0.4842\n"
     ]
    },
    {
     "name": "stderr",
     "output_type": "stream",
     "text": [
      "  6%|▌         | 11/200 [01:52<31:42, 10.07s/it, epoch=10, loss=2.02, lr=0.000700, mem=1.90 GB, step=25, train_acc=0.317, valid_acc=0.49, valid_loss=1.5]"
     ]
    },
    {
     "name": "stdout",
     "output_type": "stream",
     "text": [
      "Saving epoch=10 result=0.4903\n"
     ]
    },
    {
     "name": "stderr",
     "output_type": "stream",
     "text": [
      "  6%|▌         | 12/200 [02:02<31:56, 10.19s/it, epoch=11, loss=1.97, lr=0.000700, mem=1.90 GB, step=25, train_acc=0.335, valid_acc=0.521, valid_loss=1.46]"
     ]
    },
    {
     "name": "stdout",
     "output_type": "stream",
     "text": [
      "Saving epoch=11 result=0.5215\n"
     ]
    },
    {
     "name": "stderr",
     "output_type": "stream",
     "text": [
      "  7%|▋         | 14/200 [02:23<31:42, 10.23s/it, epoch=13, loss=1.95, lr=0.000700, mem=1.90 GB, step=25, train_acc=0.33, valid_acc=0.529, valid_loss=1.43]"
     ]
    },
    {
     "name": "stdout",
     "output_type": "stream",
     "text": [
      "Saving epoch=13 result=0.5293\n"
     ]
    },
    {
     "name": "stderr",
     "output_type": "stream",
     "text": [
      "  8%|▊         | 15/200 [02:33<31:56, 10.36s/it, epoch=14, loss=1.82, lr=0.000700, mem=1.90 GB, step=25, train_acc=0.378, valid_acc=0.537, valid_loss=1.37]"
     ]
    },
    {
     "name": "stdout",
     "output_type": "stream",
     "text": [
      "Saving epoch=14 result=0.5373\n"
     ]
    },
    {
     "name": "stderr",
     "output_type": "stream",
     "text": [
      "  8%|▊         | 16/200 [02:44<31:56, 10.41s/it, epoch=15, loss=1.81, lr=0.000700, mem=1.90 GB, step=25, train_acc=0.382, valid_acc=0.54, valid_loss=1.36]"
     ]
    },
    {
     "name": "stdout",
     "output_type": "stream",
     "text": [
      "Saving epoch=15 result=0.5396\n"
     ]
    },
    {
     "name": "stderr",
     "output_type": "stream",
     "text": [
      "  8%|▊         | 17/200 [02:54<31:42, 10.39s/it, epoch=16, loss=1.83, lr=0.000700, mem=1.90 GB, step=25, train_acc=0.354, valid_acc=0.553, valid_loss=1.31]"
     ]
    },
    {
     "name": "stdout",
     "output_type": "stream",
     "text": [
      "Saving epoch=16 result=0.5534\n"
     ]
    },
    {
     "name": "stderr",
     "output_type": "stream",
     "text": [
      " 10%|█         | 20/200 [03:24<30:36, 10.20s/it, epoch=19, loss=1.79, lr=0.000455, mem=1.90 GB, step=25, train_acc=0.37, valid_acc=0.554, valid_loss=1.32]"
     ]
    },
    {
     "name": "stdout",
     "output_type": "stream",
     "text": [
      "Saving epoch=19 result=0.5535\n"
     ]
    },
    {
     "name": "stderr",
     "output_type": "stream",
     "text": [
      " 10%|█         | 21/200 [03:35<30:42, 10.29s/it, epoch=20, loss=1.67, lr=0.000455, mem=1.90 GB, step=25, train_acc=0.404, valid_acc=0.579, valid_loss=1.25]"
     ]
    },
    {
     "name": "stdout",
     "output_type": "stream",
     "text": [
      "Saving epoch=20 result=0.5786\n"
     ]
    },
    {
     "name": "stderr",
     "output_type": "stream",
     "text": [
      " 11%|█         | 22/200 [03:45<29:58, 10.11s/it, epoch=21, loss=1.9, lr=0.000455, mem=1.90 GB, step=25, train_acc=0.312, valid_acc=0.592, valid_loss=1.22]"
     ]
    },
    {
     "name": "stdout",
     "output_type": "stream",
     "text": [
      "Saving epoch=21 result=0.5920\n"
     ]
    },
    {
     "name": "stderr",
     "output_type": "stream",
     "text": [
      " 14%|█▎        | 27/200 [04:36<29:32, 10.25s/it, epoch=26, loss=1.54, lr=0.000296, mem=1.90 GB, step=25, train_acc=0.443, valid_acc=0.601, valid_loss=1.17]"
     ]
    },
    {
     "name": "stdout",
     "output_type": "stream",
     "text": [
      "Saving epoch=26 result=0.6010\n"
     ]
    },
    {
     "name": "stderr",
     "output_type": "stream",
     "text": [
      " 14%|█▍        | 28/200 [04:46<29:29, 10.28s/it, epoch=27, loss=1.57, lr=0.000296, mem=1.90 GB, step=25, train_acc=0.43, valid_acc=0.602, valid_loss=1.17]"
     ]
    },
    {
     "name": "stdout",
     "output_type": "stream",
     "text": [
      "Saving epoch=27 result=0.6021\n"
     ]
    },
    {
     "name": "stderr",
     "output_type": "stream",
     "text": [
      " 14%|█▍        | 29/200 [04:57<29:21, 10.30s/it, epoch=28, loss=1.57, lr=0.000296, mem=1.90 GB, step=25, train_acc=0.424, valid_acc=0.626, valid_loss=1.15]"
     ]
    },
    {
     "name": "stdout",
     "output_type": "stream",
     "text": [
      "Saving epoch=28 result=0.6257\n"
     ]
    },
    {
     "name": "stderr",
     "output_type": "stream",
     "text": [
      " 18%|█▊        | 37/200 [06:17<27:37, 10.17s/it, epoch=36, loss=1.36, lr=0.000125, mem=1.90 GB, step=25, train_acc=0.493, valid_acc=0.633, valid_loss=1.1]"
     ]
    },
    {
     "name": "stdout",
     "output_type": "stream",
     "text": [
      "Saving epoch=36 result=0.6328\n"
     ]
    },
    {
     "name": "stderr",
     "output_type": "stream",
     "text": [
      " 22%|██▏       | 43/200 [07:18<26:41, 10.20s/it, epoch=42, loss=1.24, lr=0.000100, mem=1.90 GB, step=25, train_acc=0.532, valid_acc=0.638, valid_loss=1.1]"
     ]
    },
    {
     "name": "stdout",
     "output_type": "stream",
     "text": [
      "Saving epoch=42 result=0.6384\n"
     ]
    },
    {
     "name": "stderr",
     "output_type": "stream",
     "text": [
      " 30%|██▉       | 59/200 [09:59<23:36, 10.05s/it, epoch=58, loss=1.39, lr=0.000100, mem=1.90 GB, step=25, train_acc=0.45, valid_acc=0.639, valid_loss=1.12]"
     ]
    },
    {
     "name": "stdout",
     "output_type": "stream",
     "text": [
      "Saving epoch=58 result=0.6394\n"
     ]
    },
    {
     "name": "stderr",
     "output_type": "stream",
     "text": [
      " 34%|███▎      | 67/200 [11:20<22:17, 10.05s/it, epoch=66, loss=1.4, lr=0.000100, mem=1.90 GB, step=25, train_acc=0.429, valid_acc=0.642, valid_loss=1.11]"
     ]
    },
    {
     "name": "stdout",
     "output_type": "stream",
     "text": [
      "Saving epoch=66 result=0.6424\n"
     ]
    },
    {
     "name": "stderr",
     "output_type": "stream",
     "text": [
      " 36%|███▌      | 71/200 [12:00<21:22,  9.95s/it, epoch=70, loss=1.34, lr=0.000100, mem=1.90 GB, step=25, train_acc=0.453, valid_acc=0.646, valid_loss=1.12]"
     ]
    },
    {
     "name": "stdout",
     "output_type": "stream",
     "text": [
      "Saving epoch=70 result=0.6462\n"
     ]
    },
    {
     "name": "stderr",
     "output_type": "stream",
     "text": [
      " 38%|███▊      | 75/200 [12:40<20:54, 10.03s/it, epoch=74, loss=1.26, lr=0.000100, mem=1.90 GB, step=25, train_acc=0.48, valid_acc=0.649, valid_loss=1.11]"
     ]
    },
    {
     "name": "stdout",
     "output_type": "stream",
     "text": [
      "Saving epoch=74 result=0.6485\n"
     ]
    },
    {
     "name": "stderr",
     "output_type": "stream",
     "text": [
      " 43%|████▎     | 86/200 [14:30<18:58,  9.99s/it, epoch=85, loss=1.14, lr=0.000100, mem=1.90 GB, step=25, train_acc=0.533, valid_acc=0.649, valid_loss=1.11]"
     ]
    },
    {
     "name": "stdout",
     "output_type": "stream",
     "text": [
      "Saving epoch=85 result=0.6490\n"
     ]
    },
    {
     "name": "stderr",
     "output_type": "stream",
     "text": [
      " 44%|████▎     | 87/200 [14:40<19:00, 10.09s/it, epoch=86, loss=1.12, lr=0.000100, mem=1.90 GB, step=25, train_acc=0.529, valid_acc=0.65, valid_loss=1.17]"
     ]
    },
    {
     "name": "stdout",
     "output_type": "stream",
     "text": [
      "Saving epoch=86 result=0.6503\n"
     ]
    },
    {
     "name": "stderr",
     "output_type": "stream",
     "text": [
      " 50%|█████     | 101/200 [17:00<16:40, 10.10s/it, epoch=100, loss=1.03, lr=0.000100, mem=1.90 GB, step=25, train_acc=0.575, valid_acc=0.652, valid_loss=1.17]"
     ]
    },
    {
     "name": "stdout",
     "output_type": "stream",
     "text": [
      "Saving epoch=100 result=0.6516\n"
     ]
    },
    {
     "name": "stderr",
     "output_type": "stream",
     "text": [
      " 58%|█████▊    | 117/200 [19:43<14:14, 10.30s/it, epoch=116, loss=0.938, lr=0.000100, mem=1.90 GB, step=25, train_acc=0.607, valid_acc=0.655, valid_loss=1.24]"
     ]
    },
    {
     "name": "stdout",
     "output_type": "stream",
     "text": [
      "Saving epoch=116 result=0.6551\n"
     ]
    },
    {
     "name": "stderr",
     "output_type": "stream",
     "text": [
      " 61%|██████    | 122/200 [20:34<13:07, 10.10s/it, epoch=121, loss=1.05, lr=0.000100, mem=1.90 GB, step=25, train_acc=0.545, valid_acc=0.664, valid_loss=1.17]"
     ]
    },
    {
     "name": "stdout",
     "output_type": "stream",
     "text": [
      "Saving epoch=121 result=0.6643\n"
     ]
    },
    {
     "name": "stderr",
     "output_type": "stream",
     "text": [
      " 70%|███████   | 141/200 [23:55<10:00, 10.18s/it, epoch=141, loss=1.12, lr=0.000100, mem=1.90 GB, step=25, train_acc=0.488, valid_acc=0.648, valid_loss=1.19]\n"
     ]
    },
    {
     "name": "stdout",
     "output_type": "stream",
     "text": [
      "Early stopping at epoch=141\n",
      "\n",
      "Training Metrics\n",
      "================\n",
      "\n",
      "loss:[3.043998657258264, 2.7735195655678333, 2.5870774406391908, 2.5835602120971126, 2.375405171424648, 2.2655891176282346, 2.375293919200582, 2.339272224921042, 2.2130716206275918, 2.3009665154747623, 2.0235598294334896, 1.9713724882499424, 2.0108357270606856, 1.9478421494954967, 1.8246587334206927, 1.8085072294720472, 1.8328762311742905, 1.8052502482956019, 1.9815591104117447, 1.7915493063633403, 1.6742084205433796, 1.8977500956279554, 1.6586943705572585, 1.5959345365206834, 1.7389597500257203, 1.6469406838546503, 1.535132342972927, 1.5681379781401512, 1.5710241134815455, 1.4908605244461104, 1.6395103659481152, 1.512939810267976, 1.5026712497516093, 1.6559098683055347, 1.432334677691545, 1.4402976657318005, 1.3613956236326725, 1.3489540626657281, 1.5410559063161138, 1.3348161620896695, 1.473841657945541, 1.4531623635083513, 1.2441940355547771, 1.441504605718871, 1.2939061085937211, 1.5946141669989318, 1.426528265307556, 1.1567647980539502, 1.195538845550336, 1.3558518936878126, 1.4057196407576602, 1.4368562596346202, 1.431515676914212, 1.372646558274194, 1.2194192945772513, 1.2711410189026342, 1.4698324029243726, 1.1957705732056843, 1.389962650631661, 1.3160125558128737, 1.2815727565198773, 1.3801420220469356, 1.2015114340054067, 1.0909013943243362, 1.1297855312776792, 1.382975144107374, 1.4029662470949922, 1.2640451056458246, 1.3987874504483924, 1.3661818785680868, 1.3361385325796555, 1.3266555404383626, 1.2169950098573763, 1.2088794185068372, 1.2605464088003775, 1.3008906092292853, 1.3010089556876612, 1.3396925517024048, 1.161538090305605, 1.1818602024786564, 1.1888847059171859, 1.1409347784064463, 1.2115354920995385, 1.3237890516209239, 1.3823872993471942, 1.1442903027338096, 1.1229008298519343, 1.168531876268589, 1.184106158069392, 1.178106559203588, 1.1503266510505274, 1.133684302789027, 1.2668576307022972, 1.205195038975298, 1.1609051105698718, 1.1378430463407703, 1.2039995576730242, 1.1934295368594272, 1.1367589934049436, 1.2507957327812986, 1.0273536516247201, 1.1331248823052, 1.2313472316134721, 1.0629339437203038, 0.9151797537277304, 1.2607043255877715, 1.038175299347509, 1.0696806478787466, 1.1038815536255224, 1.0857390237292053, 1.0514889249210653, 0.9767840773433147, 0.9201430123356997, 0.8408279522795483, 1.0842937294617763, 1.067275208153496, 0.9377220215399005, 0.9312105661180725, 0.9968724536110505, 1.040097750080417, 1.1846224327215311, 1.0469040478960734, 1.0947982240350829, 0.9797846644123801, 0.9856606656188138, 0.8005030563118899, 0.9926823217497097, 0.961261320144386, 1.1584960744851351, 1.0644501497760455, 1.0597199568995734, 1.0356782502174815, 1.0293405138867266, 1.106135460137054, 1.1087540469423687, 1.1710944029610997, 0.8851283074089545, 0.9454068383519729, 1.0048817814475364, 1.1922576919593577, 0.9913420702352698, 1.1211371891843986]\n",
      "train_acc:[0.051011029411764705, 0.1018688725490196, 0.15174194673697153, 0.1651129202515471, 0.22045693268962935, 0.24518557418795192, 0.21310399151315876, 0.22212009803921567, 0.25, 0.22472426470588236, 0.3174019607843137, 0.33486519607843135, 0.31556372549019607, 0.32965686274509803, 0.377735469271155, 0.3823310575064491, 0.35394782938209235, 0.3745185575064491, 0.30974264705882354, 0.36963848039215685, 0.40384278694788617, 0.312456232659957, 0.41681985294117646, 0.4371936274509804, 0.37454044117647056, 0.40471813725490197, 0.44286151960784315, 0.4301251751535079, 0.42384453789860593, 0.45894607843137253, 0.3932291666666667, 0.4412202379282783, 0.44347426470588236, 0.3776041666666667, 0.4691439078134649, 0.46745885879385707, 0.4933035712616116, 0.49264705882352944, 0.41253063725490197, 0.5, 0.43045343137254904, 0.4330575980392157, 0.5324098391860139, 0.44861694702915117, 0.5162596287680608, 0.3765537464151196, 0.45730479675180774, 0.5650603993266237, 0.5520833333333334, 0.4800857843137255, 0.4595150561893688, 0.44614408238261355, 0.4332983195781708, 0.46951593137254904, 0.5340073529411765, 0.5006783961081037, 0.4184611346207413, 0.5407475490196079, 0.4497549019607843, 0.47483368364034917, 0.49525122549019607, 0.4534970235590841, 0.5353641457417432, 0.5707939424935509, 0.5636817228560355, 0.4467349438106312, 0.42922794117647056, 0.5076593137254902, 0.43771883728457434, 0.45006127450980393, 0.4528186274509804, 0.45986519607843135, 0.5140274862448374, 0.5091911764705882, 0.48006390064370397, 0.46798406862745096, 0.46481092420278813, 0.45947128826496647, 0.5277267156862745, 0.5159970235590842, 0.5080751052089766, 0.5370710784313726, 0.49831495098039214, 0.45358455882352944, 0.42036502092492345, 0.5329350490196079, 0.5291053921568627, 0.5194546568627451, 0.5145308124084099, 0.5093662464151195, 0.5278799019607843, 0.5270920869182137, 0.4678965333630057, 0.49846813725490197, 0.5180978640621784, 0.5301558124084099, 0.4888174019607843, 0.5010285365815256, 0.5229779411764706, 0.4765625, 0.5754770659932903, 0.5212928921568627, 0.49356617647058826, 0.5549063372845743, 0.6290922620717216, 0.45143995098039214, 0.5633315823826135, 0.5431766457417432, 0.5242253150425705, 0.5352984941473194, 0.5517769607843137, 0.5905330882352942, 0.6156775209249234, 0.6555716038918963, 0.528514530728845, 0.5403317575361214, 0.6065957633888021, 0.6032475490196079, 0.5671831234997394, 0.5482974438106313, 0.47969187650026057, 0.5445772058823529, 0.5306372549019608, 0.5696997549019608, 0.5709471287680608, 0.6634935222420038, 0.5611432071994332, 0.5926776960784313, 0.48743872549019607, 0.5290397411467982, 0.5251225490196079, 0.5450367647058824, 0.5471813725490197, 0.5019038863041821, 0.5030637254901961, 0.473827030728845, 0.6113007705585629, 0.5818014705882353, 0.5494135156566021, 0.45389093137254904, 0.5488664215686274, 0.4882046568627451]\n",
      "valid_loss:[2.587203566844647, 2.2780855343892026, 2.053865969181061, 1.9603002484028156, 1.858950945047232, 1.7691211379491365, 1.7068767318358788, 1.6711047887802124, 1.59432387810487, 1.5502473345169654, 1.4969414518429682, 1.4601518190824068, 1.4685442585211534, 1.4272999304991503, 1.3721728233190684, 1.3632039381907537, 1.308387462909405, 1.3382298258634715, 1.3663073961551373, 1.32404618538343, 1.2514681999499981, 1.2244914586727436, 1.2505361437797546, 1.2153797997878149, 1.2728568751078386, 1.2266992628574371, 1.1672359315248637, 1.174751102924347, 1.1458298357633443, 1.1361594406458049, 1.1551386140860045, 1.1813721290001502, 1.1630454086340392, 1.1536674132713904, 1.147297176030966, 1.0932828829838679, 1.103318833387815, 1.146191030740738, 1.1431536949597871, 1.1213383445372949, 1.111487553669856, 1.1438283094993005, 1.1029683443216176, 1.0975300555045788, 1.1112365470482752, 1.1124644944301019, 1.1309055708921874, 1.1345879962811103, 1.123996003315999, 1.0863409088208125, 1.1134563982486725, 1.136197791649745, 1.1249490540761213, 1.1249068218928118, 1.140667268863091, 1.121310307429387, 1.1132038350288684, 1.132435094851714, 1.1222124306055217, 1.1309170035215526, 1.1476923433633952, 1.1673941314220428, 1.150497562610186, 1.1538153428297777, 1.1715877262445598, 1.1346148275412047, 1.1080890320814574, 1.111004806481875, 1.1548253297805786, 1.1660660321895893, 1.1194343956617208, 1.1565010134990399, 1.1095245755635774, 1.1388372045296888, 1.1103147176595836, 1.168349068898421, 1.1416144944154298, 1.1202324468355913, 1.132202182824795, 1.1546777968223279, 1.1733494653151586, 1.110219391492697, 1.1363521493398225, 1.153602130137957, 1.1726532601393187, 1.1134447386631598, 1.173006025644449, 1.1683197411207051, 1.1816065403131337, 1.1662949254879584, 1.1308054282115056, 1.1773454546928406, 1.1787827840218177, 1.1587655017009149, 1.19209112570836, 1.2294638248590322, 1.1477660513841188, 1.1596616781674898, 1.1791579448259795, 1.1677854496699114, 1.169911414384842, 1.172513945744588, 1.192208780692174, 1.1798960589445555, 1.2166729615284846, 1.1521042539523199, 1.2442579131859999, 1.2097430710609143, 1.196423977613449, 1.1803108270351703, 1.1671536908699915, 1.194724060021914, 1.2954567006001105, 1.2777057175452893, 1.25193868462856, 1.2026169139605303, 1.242712071308723, 1.2662330842935121, 1.2841551349713252, 1.2551733049062581, 1.1956987449756036, 1.1739464356349065, 1.1414096905634954, 1.1659901692317083, 1.2604237657326918, 1.3407249381909003, 1.182547207062061, 1.1665346851715674, 1.1924556654233198, 1.2565667101970086, 1.2303096881279578, 1.1881283819675446, 1.2512153730942652, 1.1967781254878411, 1.2155015193499052, 1.218067263181393, 1.2454550380890186, 1.2044944075437694, 1.234704391314433, 1.1956868011217852, 1.291230055002066, 1.1936281965329096]\n",
      "valid_acc:[0.11614066362380981, 0.22382909403397486, 0.297902449965477, 0.3230265195553119, 0.3652101422731693, 0.39337779123049516, 0.4120463705979861, 0.4282723321364476, 0.44878256779450637, 0.4841617552133707, 0.49028768562353575, 0.5214601422731693, 0.5203357625466126, 0.5293114139483526, 0.5372790006490854, 0.5396440751277484, 0.5534274188371805, 0.5492206880679498, 0.5436957191962463, 0.553504962187547, 0.5785902601021987, 0.5919665006490854, 0.5690524188371805, 0.5817501544952393, 0.5618021087004588, 0.5839989139483526, 0.6009809237260085, 0.6020665317773819, 0.625697890153298, 0.6178466196243579, 0.6105963083413931, 0.5931296520508252, 0.5991780391106238, 0.6141633058969791, 0.6184475811628195, 0.6194556447175833, 0.6327543419141036, 0.6195331880679498, 0.6135235726833344, 0.6160437350089734, 0.6262600811628195, 0.6141633058969791, 0.6383956258113568, 0.625697890153298, 0.6274620042397425, 0.6173232014362628, 0.6208514273166656, 0.6268610427012811, 0.6291873443585175, 0.6377171209225287, 0.6299046209225287, 0.6244184237260085, 0.6334328468029315, 0.6309902289739022, 0.6371161593840673, 0.6250969286148365, 0.6280241929567777, 0.6280241929567777, 0.639442462187547, 0.6279854212815945, 0.6352745042397425, 0.6297107625466126, 0.6227318552824167, 0.6274620042397425, 0.626705954854305, 0.6267834982046714, 0.6424472698798547, 0.6376008058969791, 0.6262213083413931, 0.626899813230221, 0.6462081258113568, 0.6311065439994519, 0.6443276978456057, 0.6383956258113568, 0.6485344286148365, 0.6262600811628195, 0.6353132747686826, 0.6376783503935888, 0.6370386160337008, 0.6365151978456057, 0.6365151978456057, 0.6466927734705118, 0.6485344286148365, 0.6196495042397425, 0.6329094286148365, 0.6489803034525651, 0.650337313230221, 0.64845688526447, 0.6407607014362628, 0.6346347698798547, 0.6291873443585175, 0.634712313230221, 0.6311453168208783, 0.6377558937439551, 0.6418075366662099, 0.6454908503935888, 0.6408382447866293, 0.6478559237260085, 0.6430870042397425, 0.6443276978456057, 0.6516167796575106, 0.641322890153298, 0.6473325055379134, 0.6436491929567777, 0.6442501544952393, 0.6515780091285706, 0.6467703168208783, 0.64845688526447, 0.6504148565805875, 0.6480497832481678, 0.6466927734705118, 0.6515004657782041, 0.6462081258113568, 0.650337313230221, 0.6299046209225287, 0.6412453468029315, 0.6551450055379134, 0.6412453468029315, 0.6407607014362628, 0.6388802734705118, 0.6303117240850742, 0.6642757447866293, 0.6443276978456057, 0.6497363516917596, 0.6539430824609903, 0.6322309237260085, 0.6527023888551272, 0.6515780091285706, 0.6352745042397425, 0.626899813230221, 0.6498138950421259, 0.6454520775721624, 0.6369998443585175, 0.6376395775721624, 0.6485732014362628, 0.6495812649910266, 0.6453745342217959, 0.6467703168208783, 0.6498138950421259, 0.6564632447866293, 0.6334328468029315, 0.6480110104267414]\n",
      "Reload:: train_config.checkpoint=PosixPath('weights.pt')\n"
     ]
    }
   ],
   "source": [
    "from core_utilities import make_header\n",
    "from torch_trainer import Trainer\n",
    "\n",
    "if 'train' in config.features:\n",
    "    trainer = Trainer(\n",
    "        model,\n",
    "        train_config,\n",
    "        class_weights=train_class_weights,\n",
    "        # batch_weights=True,\n",
    "    )\n",
    "    \n",
    "    metrics = trainer.fit(\n",
    "        train_loader,\n",
    "        valid_loader,\n",
    "        monitor='valid_acc',\n",
    "        mode='max',\n",
    "        # train_batch_fn=train_batch_turn_one_class_off_per_epoch\n",
    "        # train_batch_fn=get_train_batch_mixup_fn(train_config)\n",
    "    )\n",
    "\n",
    "    if 'train.metrics' in config.features:\n",
    "        print(make_header('Training Metrics'))\n",
    "        for k, v in metrics.items():\n",
    "            print(f'{k}:{v}')\n",
    "\n",
    "    if 'train.save.latest' in config.features:\n",
    "        print(f'Save latest model at:: {train_config.checkpoint=}')\n",
    "        torch.save(model.state_dict(), train_config.checkpoint)\n",
    "\n",
    "    ## Reload best model\n",
    "    print(f'Reload:: {train_config.checkpoint=}')\n",
    "    model.load_state_dict(\n",
    "        torch.load(\n",
    "            train_config.checkpoint,\n",
    "            weights_only=True,\n",
    "            map_location=torch.device(config.device)\n",
    "        )\n",
    "    )"
   ]
  },
  {
   "cell_type": "markdown",
   "id": "661c0fe0",
   "metadata": {
    "_cell_guid": "e3ee7d66-7da8-4c01-9e9d-a7f1b3bbc037",
    "_uuid": "407e2165-4819-4d5f-9ed4-411ad6e472f9",
    "collapsed": false,
    "jupyter": {
     "outputs_hidden": false
    },
    "papermill": {
     "duration": 0.818781,
     "end_time": "2025-08-21T09:56:49.619479",
     "exception": false,
     "start_time": "2025-08-21T09:56:48.800698",
     "status": "completed"
    },
    "tags": []
   },
   "source": [
    "## Evaluation"
   ]
  },
  {
   "cell_type": "code",
   "execution_count": 17,
   "id": "8c99d8e1",
   "metadata": {
    "_cell_guid": "10160110-f23a-4347-a191-197858851281",
    "_uuid": "2710cf3e-ebd9-4384-a6ae-c3937894e738",
    "collapsed": false,
    "execution": {
     "iopub.execute_input": "2025-08-21T09:56:51.188906Z",
     "iopub.status.busy": "2025-08-21T09:56:51.188254Z",
     "iopub.status.idle": "2025-08-21T09:57:04.281877Z",
     "shell.execute_reply": "2025-08-21T09:57:04.280998Z"
    },
    "jupyter": {
     "outputs_hidden": false
    },
    "papermill": {
     "duration": 13.910888,
     "end_time": "2025-08-21T09:57:04.282942",
     "exception": false,
     "start_time": "2025-08-21T09:56:50.372054",
     "status": "completed"
    },
    "tags": []
   },
   "outputs": [
    {
     "name": "stderr",
     "output_type": "stream",
     "text": [
      "Prediction: 100%|██████████| 1631/1631 [00:10<00:00, 158.16it/s]\n"
     ]
    },
    {
     "data": {
      "image/png": "[encoded data removed]",
      "text/plain": [
       "<Figure size 640x480 with 2 Axes>"
      ]
     },
     "metadata": {},
     "output_type": "display_data"
    },
    {
     "data": {
      "text/html": [
       "<div>\n",
       "<style scoped>\n",
       "    .dataframe tbody tr th:only-of-type {\n",
       "        vertical-align: middle;\n",
       "    }\n",
       "\n",
       "    .dataframe tbody tr th {\n",
       "        vertical-align: top;\n",
       "    }\n",
       "\n",
       "    .dataframe thead th {\n",
       "        text-align: right;\n",
       "    }\n",
       "</style>\n",
       "<table border=\"1\" class=\"dataframe\">\n",
       "  <thead>\n",
       "    <tr style=\"text-align: right;\">\n",
       "      <th></th>\n",
       "      <th>Prediction</th>\n",
       "      <th>Target</th>\n",
       "    </tr>\n",
       "  </thead>\n",
       "  <tbody>\n",
       "    <tr>\n",
       "      <th>0</th>\n",
       "      <td>10</td>\n",
       "      <td>10</td>\n",
       "    </tr>\n",
       "    <tr>\n",
       "      <th>1</th>\n",
       "      <td>1</td>\n",
       "      <td>9</td>\n",
       "    </tr>\n",
       "    <tr>\n",
       "      <th>2</th>\n",
       "      <td>16</td>\n",
       "      <td>16</td>\n",
       "    </tr>\n",
       "    <tr>\n",
       "      <th>3</th>\n",
       "      <td>1</td>\n",
       "      <td>1</td>\n",
       "    </tr>\n",
       "    <tr>\n",
       "      <th>4</th>\n",
       "      <td>11</td>\n",
       "      <td>11</td>\n",
       "    </tr>\n",
       "    <tr>\n",
       "      <th>...</th>\n",
       "      <td>...</td>\n",
       "      <td>...</td>\n",
       "    </tr>\n",
       "    <tr>\n",
       "      <th>1626</th>\n",
       "      <td>14</td>\n",
       "      <td>14</td>\n",
       "    </tr>\n",
       "    <tr>\n",
       "      <th>1627</th>\n",
       "      <td>1</td>\n",
       "      <td>10</td>\n",
       "    </tr>\n",
       "    <tr>\n",
       "      <th>1628</th>\n",
       "      <td>0</td>\n",
       "      <td>0</td>\n",
       "    </tr>\n",
       "    <tr>\n",
       "      <th>1629</th>\n",
       "      <td>1</td>\n",
       "      <td>1</td>\n",
       "    </tr>\n",
       "    <tr>\n",
       "      <th>1630</th>\n",
       "      <td>17</td>\n",
       "      <td>17</td>\n",
       "    </tr>\n",
       "  </tbody>\n",
       "</table>\n",
       "<p>1631 rows × 2 columns</p>\n",
       "</div>"
      ],
      "text/plain": [
       "      Prediction  Target\n",
       "0             10      10\n",
       "1              1       9\n",
       "2             16      16\n",
       "3              1       1\n",
       "4             11      11\n",
       "...          ...     ...\n",
       "1626          14      14\n",
       "1627           1      10\n",
       "1628           0       0\n",
       "1629           1       1\n",
       "1630          17      17\n",
       "\n",
       "[1631 rows x 2 columns]"
      ]
     },
     "metadata": {},
     "output_type": "display_data"
    },
    {
     "name": "stdout",
     "output_type": "stream",
     "text": [
      "\n",
      "Valid Sliced\n",
      "============\n",
      "\n",
      "accuracy=0.7247087676272226\n"
     ]
    }
   ],
   "source": [
    "import pandas as pd\n",
    "\n",
    "from transforms import FixLength, Transpose, ToType, ToTensor, Resize, Clip\n",
    "from torch_evaluation import get_predict_fn, get_slices_fn, get_slices_predict_fn, evaluate_dataset\n",
    "from core_utilities import make_header\n",
    "\n",
    "if 'evaluation.valid.sliced' in config.features:\n",
    "    base_predict_fn = get_predict_fn(model, config.device)\n",
    "    slices_fn = get_slices_fn(\n",
    "        slice_dim=0,\n",
    "        slice_size=data_config.slice_len,\n",
    "        stride=16,\n",
    "        transforms=[Clip(limits=(-3.5, 2.5)), FixLength(data_config.sequence_len)]\n",
    "    )\n",
    "    predict_fn = get_slices_predict_fn(\n",
    "        base_predict_fn,\n",
    "        slices_fn,\n",
    "        transforms=[\n",
    "            Transpose(dims=(0, 2, 1)),\n",
    "            ToType(),\n",
    "            ToTensor(),\n",
    "        ])\n",
    "\n",
    "    # Create a dataset\n",
    "    dataset = CMIDataset(valid_X, valid_y, transforms=[])\n",
    "\n",
    "    # Compute predictions and overall accuracy\n",
    "    y_preds, ys = evaluate_dataset(dataset, predict_fn)\n",
    "    accuracy = (y_preds == ys).mean()\n",
    "\n",
    "    # Save predictions\n",
    "    df = pd.DataFrame(columns=['Prediction', 'Target'])\n",
    "    df['Prediction'] = y_preds\n",
    "    df['Target'] = ys\n",
    "    df.to_pickle('valid.sliced.predictions.pkl')\n",
    "    display(df)\n",
    "\n",
    "    print(make_header('Valid Sliced'))\n",
    "    print(f'{accuracy=}')"
   ]
  },
  {
   "cell_type": "code",
   "execution_count": 18,
   "id": "7518fd28",
   "metadata": {
    "execution": {
     "iopub.execute_input": "2025-08-21T09:57:05.912622Z",
     "iopub.status.busy": "2025-08-21T09:57:05.912364Z",
     "iopub.status.idle": "2025-08-21T09:57:06.077138Z",
     "shell.execute_reply": "2025-08-21T09:57:06.076394Z"
    },
    "papermill": {
     "duration": 0.979783,
     "end_time": "2025-08-21T09:57:06.078484",
     "exception": false,
     "start_time": "2025-08-21T09:57:05.098701",
     "status": "completed"
    },
    "tags": []
   },
   "outputs": [
    {
     "name": "stdout",
     "output_type": "stream",
     "text": [
      "============================================================================================================================================\n",
      "Layer (type (var_name))                                      Input Shape          Output Shape         Param #              Trainable\n",
      "============================================================================================================================================\n",
      "HardLabelModel (HardLabelModel)                              [16, 270, 64]        [16, 18]             --                   True\n",
      "├─ModuleDict (encoders)                                      --                   --                   --                   True\n",
      "│    └─Sequential (acc)                                      [16, 3, 64]          [16, 1024, 64]       --                   True\n",
      "│    │    └─BDConvBlock (0)                                  [16, 3, 64]          [16, 512, 64]        38,912               True\n",
      "│    │    └─BDConvBlock (1)                                  [16, 512, 64]        [16, 768, 64]        2,017,536            True\n",
      "│    │    └─BDConvBlock (2)                                  [16, 768, 64]        [16, 1024, 64]       2,427,904            True\n",
      "│    └─Sequential (rot)                                      [16, 4, 64]          [16, 1024, 64]       --                   True\n",
      "│    │    └─BDConvBlock (0)                                  [16, 4, 64]          [16, 512, 64]        40,448               True\n",
      "│    │    └─BDConvBlock (1)                                  [16, 512, 64]        [16, 768, 64]        2,017,536            True\n",
      "│    │    └─BDConvBlock (2)                                  [16, 768, 64]        [16, 1024, 64]       2,427,904            True\n",
      "│    └─Sequential (thm)                                      [16, 5, 64]          [16, 128, 64]        --                   True\n",
      "│    │    └─ConvBlock1d (0)                                  [16, 5, 64]          [16, 64, 64]         1,088                True\n",
      "│    │    └─Dropout (1)                                      [16, 64, 64]         [16, 64, 64]         --                   --\n",
      "│    │    └─ConvBlock1d (2)                                  [16, 64, 64]         [16, 128, 64]        24,832               True\n",
      "│    │    └─Dropout (3)                                      [16, 128, 64]        [16, 128, 64]        --                   --\n",
      "│    └─Sequential (tof)                                      [16, 256, 64]        [16, 128, 64]        --                   True\n",
      "│    │    └─ConvBlock1d (0)                                  [16, 256, 64]        [16, 64, 64]         49,280               True\n",
      "│    │    └─Dropout (1)                                      [16, 64, 64]         [16, 64, 64]         --                   --\n",
      "│    │    └─ConvBlock1d (2)                                  [16, 64, 64]         [16, 128, 64]        24,832               True\n",
      "│    │    └─Dropout (3)                                      [16, 128, 64]        [16, 128, 64]        --                   --\n",
      "│    └─Sequential (dem)                                      [16, 2, 64]          [16, 128, 64]        --                   True\n",
      "│    │    └─ConvBlock1d (0)                                  [16, 2, 64]          [16, 64, 64]         512                  True\n",
      "│    │    └─Dropout (1)                                      [16, 64, 64]         [16, 64, 64]         --                   --\n",
      "│    │    └─ConvBlock1d (2)                                  [16, 64, 64]         [16, 128, 64]        24,832               True\n",
      "│    │    └─Dropout (3)                                      [16, 128, 64]        [16, 128, 64]        --                   --\n",
      "├─LSTM (lstm_m)                                              [16, 64, 2432]       [16, 64, 128]        1,278,976            True\n",
      "├─GRU (gru_m)                                                [16, 64, 2432]       [16, 64, 128]        959,232              True\n",
      "├─Dropout (dropout_m)                                        [16, 64, 256]        [16, 64, 256]        --                   --\n",
      "├─Sequential (linear_backbone)                               [16, 64, 256]        [16, 64, 128]        --                   True\n",
      "│    └─BDLinearBlock (block_0)                               [16, 64, 256]        [16, 64, 128]        --                   True\n",
      "│    │    └─Sequential (block)                               [16, 64, 256]        [16, 64, 128]        32,768               True\n",
      "├─Linear (linear)                                            [16, 128]            [16, 18]             2,322                True\n",
      "============================================================================================================================================\n",
      "Total params: 11,368,914\n",
      "Trainable params: 11,368,914\n",
      "Non-trainable params: 0\n",
      "Total mult-adds (Units.GIGABYTES): 11.30\n",
      "============================================================================================================================================\n",
      "Input size (MB): 1.11\n",
      "Forward/backward pass size (MB): 88.70\n",
      "Params size (MB): 45.48\n",
      "Estimated Total Size (MB): 135.28\n",
      "============================================================================================================================================\n"
     ]
    }
   ],
   "source": [
    "import torch\n",
    "\n",
    "import torch.nn.functional as F\n",
    "import torch.nn as nn\n",
    "\n",
    "from torchvision.transforms.v2 import GaussianNoise\n",
    "from collections import OrderedDict, defaultdict\n",
    "from torchinfo import summary\n",
    "from torch_layers import BDConvBlock, BDLinearBlock, ChannelSeBlock, ConvNormActivation, ConvBlock1d\n",
    "from torch_layers import Lambda\n",
    "\n",
    "class HardLabelModel(nn.Module):\n",
    "    name = 'lstm-model'\n",
    "        \n",
    "    def __init__(\n",
    "        self,\n",
    "        in_channels,\n",
    "        out_channels,\n",
    "\n",
    "        in_splits,\n",
    "        in_encoders,\n",
    "        slice_encoders,\n",
    "        \n",
    "        conv_configs=[\n",
    "            # (256, 3, .1), (512, 5, .1),\n",
    "            # (768, 3, .1),\n",
    "            \n",
    "            (512, 3, .1), (768, 5, .1),\n",
    "            (1024, 3, .1), #(1536, 3, .4),\n",
    "            #(2048, 3, .5),\n",
    "        ],\n",
    "        linear_configs=[\n",
    "            # (2048, 2048, .5), (2048, 1024, .4),\n",
    "            #(1024, 512, .3),\n",
    "            # (512, 128, .3),\n",
    "            (512, 128, .3),\n",
    "        ],\n",
    "        squeeze_channels=128,\n",
    "        rnn_channels=128,\n",
    "        with_noise=False,\n",
    "    ):\n",
    "        super().__init__()\n",
    "\n",
    "        # Input args\n",
    "        self.in_channels = in_channels\n",
    "        self.out_channels = out_channels\n",
    "\n",
    "        self.in_splits = in_splits\n",
    "        self.in_encoders = in_encoders\n",
    "        self.slice_encoders = slice_encoders\n",
    "        \n",
    "        self.conv_configs = conv_configs\n",
    "        self.linear_configs = linear_configs.copy()\n",
    "        self.squeeze_channels = squeeze_channels\n",
    "        self.with_noise = with_noise\n",
    "\n",
    "        # Derived args\n",
    "        self.conv_out_channels = conv_configs[-1][0] # Output channels of the last conv block\n",
    "        self.encoders_out_channels = self.conv_out_channels*2 + 128*3\n",
    "\n",
    "        # Adjusted args\n",
    "        _, last_out_channels, last_dropout = linear_configs[-1]\n",
    "        self.linear_configs[-1] = (rnn_channels*4, last_out_channels, last_dropout)\n",
    "\n",
    "        # Additional args\n",
    "        conv_configs_64_128 = [\n",
    "            (64, 3, .2),\n",
    "            (128, 3, .2),\n",
    "        ]\n",
    "        conv_configs_128_256 = [\n",
    "            (128, 3, .2),\n",
    "            (256, 3, .2),\n",
    "        ]\n",
    "        conv_configs_256_512 = [\n",
    "            (256, 3, .2),\n",
    "            (512, 3, .2),\n",
    "        ]\n",
    "        conv_configs_64_128_256 = [\n",
    "            (64, 3, .2),\n",
    "            (128, 3, .2),\n",
    "            (256, 3, .2),\n",
    "        ]\n",
    "        conv_configs_64_128_256_512 = [\n",
    "            (64, 3, .2),\n",
    "            (128, 3, .2),\n",
    "            (256, 3, .2),\n",
    "            (512, 3, .2),\n",
    "        ]\n",
    "\n",
    "        # Layers\n",
    "        self.encoders = nn.ModuleDict(OrderedDict(filter(\n",
    "            lambda item: item[1] is not None,\n",
    "            [\n",
    "                (\n",
    "                    'acc',\n",
    "                    self.make_bdconv_module(3, conv_configs, padding='same')\n",
    "                ),\n",
    "                (\n",
    "                    'rot',\n",
    "                    self.make_bdconv_module(4, conv_configs, padding='same')\n",
    "                    # self.make_small_conv_module(4, conv_configs_128_256, padding='same', bias=False)\n",
    "                ),\n",
    "                (\n",
    "                    'thm',\n",
    "                    self.make_small_conv_module(5, conv_configs_64_128, padding='same', bias=False)\n",
    "                ),\n",
    "                (\n",
    "                    'tof',\n",
    "                    self.make_small_conv_module(256, conv_configs_64_128, padding='same', bias=False)\n",
    "                    # self.make_small_conv_module(256, conv_configs_256_512, padding='same', bias=False)\n",
    "                ),\n",
    "                (\n",
    "                    'dem',\n",
    "                    self.make_small_conv_module(2, conv_configs_64_128, padding='same', bias=False)\n",
    "                ),\n",
    "                (\n",
    "                    'linear_acc',\n",
    "                    self.make_small_conv_module(3, conv_configs_64_128, padding='same', bias=False) if 'linear_acc' in in_encoders else None\n",
    "                ),\n",
    "            ]\n",
    "        )))\n",
    "        \n",
    "\n",
    "        self.lstm_m = nn.LSTM(\n",
    "            self.encoders_out_channels,\n",
    "            rnn_channels,\n",
    "            bidirectional=True,\n",
    "            batch_first=True,\n",
    "        )\n",
    "        self.gru_m = nn.GRU(\n",
    "            self.encoders_out_channels,\n",
    "            rnn_channels,\n",
    "            bidirectional=True,\n",
    "            batch_first=True,\n",
    "        )\n",
    "        if with_noise: self.noise_m = nn.Sequential(\n",
    "            GaussianNoise(),\n",
    "            nn.Linear(self.encoders_out_channels, 16),\n",
    "            nn.ReLU(inplace=True),\n",
    "        )\n",
    "\n",
    "        self.dropout_m = nn.Dropout(.4)\n",
    "        \n",
    "        self.linear_backbone = nn.Sequential(\n",
    "            OrderedDict(\n",
    "                map(\n",
    "                    self.make_linear_block,\n",
    "                    enumerate(self.linear_configs)\n",
    "                ),\n",
    "            )\n",
    "        )\n",
    "\n",
    "        self.linear = nn.Linear(self.linear_configs[-1][1], self.out_channels)\n",
    "\n",
    "    def apply_one_branch(self, branch_m, x, prep_fns=[]):\n",
    "        # print(f'{type(branch_m)} {type(prep_fns)} {x.shape=}')\n",
    "\n",
    "        # Apply branch input prep functions\n",
    "        x = self.apply_prep_fns(x, prep_fns)\n",
    "        \n",
    "        # Apply RNN branch. RNN branches require channel-last input\n",
    "        # print(f'{x.shape=} {branch_m=}')\n",
    "        x, _ = branch_m(x)\n",
    "\n",
    "        # print(f'{x.shape=}')\n",
    "\n",
    "        return x\n",
    "\n",
    "    def apply_prep_fns(self, x, fns):\n",
    "        for fn in fns: x = fn(x)\n",
    "\n",
    "        return x\n",
    "        \n",
    "    def apply_branches(self, x):\n",
    "        # RNN branches\n",
    "        branches = list(filter(\n",
    "            lambda fn: fn is not None,\n",
    "            [\n",
    "                self.lstm_m,\n",
    "                self.gru_m,\n",
    "                self.noise_m if self.with_noise else None,\n",
    "            ]\n",
    "        ))\n",
    "        \n",
    "        # Apply branches\n",
    "        xs = list(map(\n",
    "            lambda args: self.apply_one_branch(*args),\n",
    "            zip(branches, [x]*len(branches))\n",
    "        ))\n",
    "\n",
    "        return xs\n",
    "\n",
    "    def apply_encoders(self, x):\n",
    "        # 1. Split inputs\n",
    "        x_splits = x.split(self.in_splits, dim=1)\n",
    "        # print(f'{len(x_splits)}')\n",
    "\n",
    "        # 2. Group splits by encoder\n",
    "        x_grouped = defaultdict(list)\n",
    "        for x_split, e_name in zip(x_splits, self.in_encoders):\n",
    "            # print(f'{e_name} {x_split.shape}')\n",
    "            x_grouped[e_name].append(x_split)\n",
    "        \n",
    "        # 3. Merge groups\n",
    "        xs = list(map(\n",
    "            lambda e_name: torch.concat(x_grouped[e_name], dim=1) if len(x_grouped[e_name]) > 1 else x_grouped[e_name][0],\n",
    "            self.in_encoders,\n",
    "        ))\n",
    "\n",
    "        # for x in xs:\n",
    "        #     print(f'{x.shape=}')\n",
    "\n",
    "        # 4. Apply encoders\n",
    "        xs = list(map(\n",
    "            lambda item: self.encoders[item[0]](item[1]), \n",
    "            zip(x_grouped.keys(), xs),\n",
    "        ))\n",
    "\n",
    "        return torch.concat(xs, dim=1)\n",
    "\n",
    "    def apply_slice_encoders(self, x):\n",
    "        # 1. Get slices\n",
    "        x_slices = []\n",
    "        for slices in self.slice_encoders.values():\n",
    "            x_slice = torch.concat(\n",
    "                list(map(lambda s: x[:, s, :], slices)),\n",
    "                dim=1\n",
    "            )\n",
    "            x_slices.append(x_slice)\n",
    "            # print(f'{x_slice.shape=}')\n",
    "            \n",
    "        # print(f'{len(x_slices)}')\n",
    "\n",
    "        # 4. Apply encoders\n",
    "        xs = list(map(\n",
    "            lambda item: self.encoders[item[0]](item[1]), \n",
    "            zip(self.slice_encoders.keys(), x_slices),\n",
    "        ))\n",
    "\n",
    "        return torch.concat(xs, dim=1)\n",
    "\n",
    "    def forward(self, x):\n",
    "        # -> Apply encoders\n",
    "        x_enc = self.apply_encoders(x)\n",
    "        # print(f'{x.shape=} <- apply_encoders()')\n",
    "\n",
    "        # -> Apply slice_encoders\n",
    "        if self.slice_encoders:\n",
    "            x_slice_enc = self.apply_slice_encoders(x)\n",
    "            # print(f'{x_slice_enc.shape=} <- apply_slice_encoders()')\n",
    "\n",
    "            ## -> Merge encoders\n",
    "            x = torch.concat([x_enc, x_slice_enc], dim=1)\n",
    "        else:\n",
    "            x = x_enc\n",
    "        \n",
    "        # -> Apply branches\n",
    "        xs = self.apply_branches(x.permute(0, 2, 1))\n",
    "        \n",
    "        # -> Join the branches on the channel dimension and apply attention\n",
    "        x = torch.concat(xs, dim=2)\n",
    "\n",
    "        # -> Apply Dropout\n",
    "        # print(f'{x.shape=}')\n",
    "        x = self.dropout_m(x)\n",
    "        \n",
    "        # -> Join the branches on the channel dimension and apply attention\n",
    "        x = F.scaled_dot_product_attention(x, x, x)\n",
    "        \n",
    "        # -> Apply linear backbone and pick the last element for classification\n",
    "        x = self.linear_backbone(x)\n",
    "        x = self.linear(x[..., -1, :])\n",
    "\n",
    "        return x\n",
    "\n",
    "    def make_small_conv_module(self, in_channels, conv_configs, **kwargs):\n",
    "        def conv_fn(args):\n",
    "            # Extract parameters\n",
    "            conv_idx, (conv_out, kernel, dropout) = args\n",
    "            conv_in = in_channels if conv_idx == 0 else conv_configs[conv_idx - 1][0]\n",
    "\n",
    "            # Create layers\n",
    "            layers = [\n",
    "                ConvBlock1d(conv_in, conv_out, kernel, **kwargs)\n",
    "            ]\n",
    "            \n",
    "            if dropout is not None: layers.append(nn.Dropout(dropout))\n",
    "            \n",
    "            return layers\n",
    "            \n",
    "        return nn.Sequential(\n",
    "            *sum(\n",
    "                map(\n",
    "                    conv_fn,\n",
    "                    enumerate(conv_configs)\n",
    "                ),\n",
    "                []\n",
    "            )\n",
    "        )\n",
    "\n",
    "    def make_bdconv_module(self, in_channels, conv_configs, **kwargs):\n",
    "        def bdconv_fn(args):\n",
    "            # Extract parameters\n",
    "            conv_idx, config = args\n",
    "            conv_in = in_channels if conv_idx == 0 else conv_configs[conv_idx - 1][0]\n",
    "\n",
    "            return BDConvBlock(\n",
    "                f'bdconv_{conv_idx}', conv_in, *config,\n",
    "                squeeze_channels=self.squeeze_channels, **kwargs,\n",
    "            )\n",
    "            \n",
    "        return nn.Sequential(*map(bdconv_fn, enumerate(conv_configs)))\n",
    "\n",
    "    def make_linear_block(self, args):\n",
    "        idx, config = args\n",
    "        block_name = f'block_{idx}'\n",
    "        block = BDLinearBlock(block_name, *config, bias=False)\n",
    "\n",
    "        return block_name, block\n",
    "\n",
    "if 'evaluation.composite.sliced' in config.features:\n",
    "    hard_label_model = HardLabelModel(\n",
    "        in_channels=model_config.in_channels,\n",
    "        out_channels=model_config.out_channels,\n",
    "        \n",
    "        in_splits=model_config.in_splits,\n",
    "        in_encoders=model_config.in_encoders,\n",
    "        slice_encoders={},\n",
    "        \n",
    "        squeeze_channels=model_config.squeeze_channels,\n",
    "        rnn_channels=model_config.rnn_channels,\n",
    "        \n",
    "        with_noise=model_config.with_noise,\n",
    "    )\n",
    "    \n",
    "    if 'model.summary' in config.features:\n",
    "        print(\n",
    "            summary(\n",
    "                model=hard_label_model, \n",
    "                input_size=(16, model_config.in_channels, model_config.input_size),\n",
    "                col_names=[\"input_size\", \"output_size\", \"num_params\", \"trainable\"],\n",
    "                col_width=20,\n",
    "                row_settings=[\"var_names\"],\n",
    "            )\n",
    "        )"
   ]
  },
  {
   "cell_type": "code",
   "execution_count": 19,
   "id": "045ccb3f",
   "metadata": {
    "execution": {
     "iopub.execute_input": "2025-08-21T09:57:07.642591Z",
     "iopub.status.busy": "2025-08-21T09:57:07.641831Z",
     "iopub.status.idle": "2025-08-21T09:57:07.645423Z",
     "shell.execute_reply": "2025-08-21T09:57:07.644786Z"
    },
    "papermill": {
     "duration": 0.824926,
     "end_time": "2025-08-21T09:57:07.646554",
     "exception": false,
     "start_time": "2025-08-21T09:57:06.821628",
     "status": "completed"
    },
    "tags": []
   },
   "outputs": [],
   "source": [
    "# torch.save(model.state_dict(), 'weights.pt')"
   ]
  },
  {
   "cell_type": "code",
   "execution_count": 20,
   "id": "2335e6f6",
   "metadata": {
    "execution": {
     "iopub.execute_input": "2025-08-21T09:57:09.194587Z",
     "iopub.status.busy": "2025-08-21T09:57:09.194285Z",
     "iopub.status.idle": "2025-08-21T09:57:27.237496Z",
     "shell.execute_reply": "2025-08-21T09:57:27.236740Z"
    },
    "papermill": {
     "duration": 18.792728,
     "end_time": "2025-08-21T09:57:27.238632",
     "exception": false,
     "start_time": "2025-08-21T09:57:08.445904",
     "status": "completed"
    },
    "tags": []
   },
   "outputs": [
    {
     "name": "stdout",
     "output_type": "stream",
     "text": [
      "Loading [(mixup)]:: p=PosixPath('weights.pt')\n",
      "Loading [(hard-labels)]:: p=PosixPath('/kaggle/input/cmi-behavior-detection-lstm/weights.pt')\n"
     ]
    },
    {
     "name": "stderr",
     "output_type": "stream",
     "text": [
      "Prediction: 100%|██████████| 1631/1631 [00:16<00:00, 96.66it/s]\n"
     ]
    },
    {
     "data": {
      "image/png": "[encoded data removed]",
      "text/plain": [
       "<Figure size 640x480 with 2 Axes>"
      ]
     },
     "metadata": {},
     "output_type": "display_data"
    },
    {
     "data": {
      "text/html": [
       "<div>\n",
       "<style scoped>\n",
       "    .dataframe tbody tr th:only-of-type {\n",
       "        vertical-align: middle;\n",
       "    }\n",
       "\n",
       "    .dataframe tbody tr th {\n",
       "        vertical-align: top;\n",
       "    }\n",
       "\n",
       "    .dataframe thead th {\n",
       "        text-align: right;\n",
       "    }\n",
       "</style>\n",
       "<table border=\"1\" class=\"dataframe\">\n",
       "  <thead>\n",
       "    <tr style=\"text-align: right;\">\n",
       "      <th></th>\n",
       "      <th>Prediction</th>\n",
       "      <th>Target</th>\n",
       "    </tr>\n",
       "  </thead>\n",
       "  <tbody>\n",
       "    <tr>\n",
       "      <th>0</th>\n",
       "      <td>10</td>\n",
       "      <td>10</td>\n",
       "    </tr>\n",
       "    <tr>\n",
       "      <th>1</th>\n",
       "      <td>1</td>\n",
       "      <td>9</td>\n",
       "    </tr>\n",
       "    <tr>\n",
       "      <th>2</th>\n",
       "      <td>16</td>\n",
       "      <td>16</td>\n",
       "    </tr>\n",
       "    <tr>\n",
       "      <th>3</th>\n",
       "      <td>1</td>\n",
       "      <td>1</td>\n",
       "    </tr>\n",
       "    <tr>\n",
       "      <th>4</th>\n",
       "      <td>11</td>\n",
       "      <td>11</td>\n",
       "    </tr>\n",
       "    <tr>\n",
       "      <th>...</th>\n",
       "      <td>...</td>\n",
       "      <td>...</td>\n",
       "    </tr>\n",
       "    <tr>\n",
       "      <th>1626</th>\n",
       "      <td>14</td>\n",
       "      <td>14</td>\n",
       "    </tr>\n",
       "    <tr>\n",
       "      <th>1627</th>\n",
       "      <td>1</td>\n",
       "      <td>10</td>\n",
       "    </tr>\n",
       "    <tr>\n",
       "      <th>1628</th>\n",
       "      <td>0</td>\n",
       "      <td>0</td>\n",
       "    </tr>\n",
       "    <tr>\n",
       "      <th>1629</th>\n",
       "      <td>1</td>\n",
       "      <td>1</td>\n",
       "    </tr>\n",
       "    <tr>\n",
       "      <th>1630</th>\n",
       "      <td>17</td>\n",
       "      <td>17</td>\n",
       "    </tr>\n",
       "  </tbody>\n",
       "</table>\n",
       "<p>1631 rows × 2 columns</p>\n",
       "</div>"
      ],
      "text/plain": [
       "      Prediction  Target\n",
       "0             10      10\n",
       "1              1       9\n",
       "2             16      16\n",
       "3              1       1\n",
       "4             11      11\n",
       "...          ...     ...\n",
       "1626          14      14\n",
       "1627           1      10\n",
       "1628           0       0\n",
       "1629           1       1\n",
       "1630          17      17\n",
       "\n",
       "[1631 rows x 2 columns]"
      ]
     },
     "metadata": {},
     "output_type": "display_data"
    },
    {
     "name": "stdout",
     "output_type": "stream",
     "text": [
      "\n",
      "Valid Sliced\n",
      "============\n",
      "\n",
      "accuracy=0.7400367872470877\n"
     ]
    }
   ],
   "source": [
    "import pandas as pd\n",
    "\n",
    "from transforms import FixLength, Transpose, ToType, ToTensor, Resize, Clip\n",
    "from torch_evaluation import load_models, get_multi_predict_fn, get_slices_fn, get_slices_predict_fn, evaluate_dataset\n",
    "from core_utilities import make_header\n",
    "\n",
    "if 'evaluation.composite.sliced' in config.features:\n",
    "    # Model Weights\n",
    "    model_weights = {\n",
    "        'mixup': (\n",
    "            model,\n",
    "            Path('weights.pt')\n",
    "        ),\n",
    "        'hard-labels': (\n",
    "            hard_label_model,\n",
    "            Path('/kaggle/input/cmi-behavior-detection-lstm/weights.pt')\n",
    "        ),\n",
    "    }\n",
    "    \n",
    "    # Load all models\n",
    "    models = load_models(model_weights, config.device)\n",
    "\n",
    "    # base_predict_fn = get_predict_fn(model, config.device)\n",
    "    base_predict_fn = get_multi_predict_fn(models, config.device)\n",
    "    slices_fn = get_slices_fn(\n",
    "        slice_dim=0,\n",
    "        slice_size=data_config.slice_len,\n",
    "        stride=16,\n",
    "        transforms=[Clip(limits=(-3.5, 2.5)), FixLength(data_config.sequence_len)]\n",
    "    )\n",
    "    predict_fn = get_slices_predict_fn(\n",
    "        base_predict_fn,\n",
    "        slices_fn,\n",
    "        transforms=[\n",
    "            Transpose(dims=(0, 2, 1)),\n",
    "            ToType(),\n",
    "            ToTensor(),\n",
    "        ])\n",
    "\n",
    "    # Create a dataset\n",
    "    dataset = CMIDataset(valid_X, valid_y, transforms=[])\n",
    "\n",
    "    # Compute predictions and overall accuracy\n",
    "    y_preds, ys = evaluate_dataset(dataset, predict_fn)\n",
    "    accuracy = (y_preds == ys).mean()\n",
    "\n",
    "    # Save predictions\n",
    "    df = pd.DataFrame(columns=['Prediction', 'Target'])\n",
    "    df['Prediction'] = y_preds\n",
    "    df['Target'] = ys\n",
    "    df.to_pickle('valid.sliced.predictions.pkl')\n",
    "    display(df)\n",
    "\n",
    "    print(make_header('Valid Sliced'))\n",
    "    print(f'{accuracy=}')"
   ]
  },
  {
   "cell_type": "code",
   "execution_count": 21,
   "id": "5b5b02b1",
   "metadata": {
    "_cell_guid": "67ecc4b9-5b8c-470e-b6db-b6a61475b7ea",
    "_uuid": "69b1d8e1-1630-44e5-ac59-545dc9363675",
    "collapsed": false,
    "execution": {
     "iopub.execute_input": "2025-08-21T09:57:28.821632Z",
     "iopub.status.busy": "2025-08-21T09:57:28.821351Z",
     "iopub.status.idle": "2025-08-21T09:57:38.337137Z",
     "shell.execute_reply": "2025-08-21T09:57:38.336299Z"
    },
    "jupyter": {
     "outputs_hidden": false
    },
    "papermill": {
     "duration": 10.264949,
     "end_time": "2025-08-21T09:57:38.338219",
     "exception": false,
     "start_time": "2025-08-21T09:57:28.073270",
     "status": "completed"
    },
    "tags": []
   },
   "outputs": [
    {
     "name": "stderr",
     "output_type": "stream",
     "text": [
      "Prediction: 100%|██████████| 1631/1631 [00:08<00:00, 182.68it/s]\n"
     ]
    },
    {
     "data": {
      "image/png": "[encoded data removed]",
      "text/plain": [
       "<Figure size 640x480 with 2 Axes>"
      ]
     },
     "metadata": {},
     "output_type": "display_data"
    },
    {
     "data": {
      "text/html": [
       "<div>\n",
       "<style scoped>\n",
       "    .dataframe tbody tr th:only-of-type {\n",
       "        vertical-align: middle;\n",
       "    }\n",
       "\n",
       "    .dataframe tbody tr th {\n",
       "        vertical-align: top;\n",
       "    }\n",
       "\n",
       "    .dataframe thead th {\n",
       "        text-align: right;\n",
       "    }\n",
       "</style>\n",
       "<table border=\"1\" class=\"dataframe\">\n",
       "  <thead>\n",
       "    <tr style=\"text-align: right;\">\n",
       "      <th></th>\n",
       "      <th>Prediction</th>\n",
       "      <th>Target</th>\n",
       "    </tr>\n",
       "  </thead>\n",
       "  <tbody>\n",
       "    <tr>\n",
       "      <th>0</th>\n",
       "      <td>10</td>\n",
       "      <td>10</td>\n",
       "    </tr>\n",
       "    <tr>\n",
       "      <th>1</th>\n",
       "      <td>1</td>\n",
       "      <td>9</td>\n",
       "    </tr>\n",
       "    <tr>\n",
       "      <th>2</th>\n",
       "      <td>16</td>\n",
       "      <td>16</td>\n",
       "    </tr>\n",
       "    <tr>\n",
       "      <th>3</th>\n",
       "      <td>1</td>\n",
       "      <td>1</td>\n",
       "    </tr>\n",
       "    <tr>\n",
       "      <th>4</th>\n",
       "      <td>11</td>\n",
       "      <td>11</td>\n",
       "    </tr>\n",
       "    <tr>\n",
       "      <th>...</th>\n",
       "      <td>...</td>\n",
       "      <td>...</td>\n",
       "    </tr>\n",
       "    <tr>\n",
       "      <th>1626</th>\n",
       "      <td>14</td>\n",
       "      <td>14</td>\n",
       "    </tr>\n",
       "    <tr>\n",
       "      <th>1627</th>\n",
       "      <td>1</td>\n",
       "      <td>10</td>\n",
       "    </tr>\n",
       "    <tr>\n",
       "      <th>1628</th>\n",
       "      <td>0</td>\n",
       "      <td>0</td>\n",
       "    </tr>\n",
       "    <tr>\n",
       "      <th>1629</th>\n",
       "      <td>1</td>\n",
       "      <td>1</td>\n",
       "    </tr>\n",
       "    <tr>\n",
       "      <th>1630</th>\n",
       "      <td>17</td>\n",
       "      <td>17</td>\n",
       "    </tr>\n",
       "  </tbody>\n",
       "</table>\n",
       "<p>1631 rows × 2 columns</p>\n",
       "</div>"
      ],
      "text/plain": [
       "      Prediction  Target\n",
       "0             10      10\n",
       "1              1       9\n",
       "2             16      16\n",
       "3              1       1\n",
       "4             11      11\n",
       "...          ...     ...\n",
       "1626          14      14\n",
       "1627           1      10\n",
       "1628           0       0\n",
       "1629           1       1\n",
       "1630          17      17\n",
       "\n",
       "[1631 rows x 2 columns]"
      ]
     },
     "metadata": {},
     "output_type": "display_data"
    },
    {
     "name": "stdout",
     "output_type": "stream",
     "text": [
      "\n",
      "Valid\n",
      "=====\n",
      "\n",
      "accuracy=0.6860821581851625\n"
     ]
    }
   ],
   "source": [
    "import pandas as pd\n",
    "\n",
    "from transforms import FixLength, Transpose, ToType, ToTensor, Resize, Clip\n",
    "from torch_evaluation import get_predict_fn, evaluate_dataset\n",
    "from core_utilities import make_header\n",
    "\n",
    "def Unsqueeze(dim=0):\n",
    "    def fn(X, y=None):\n",
    "        X = X.unsqueeze(dim)\n",
    "\n",
    "        return X if y is None else (X, y)\n",
    "\n",
    "    return fn\n",
    "\n",
    "if 'evaluation.valid' in config.features:\n",
    "    predict_fn = get_predict_fn(model, config.device)\n",
    "\n",
    "    # Create a dataset22\n",
    "    transforms = [\n",
    "        Clip(limits=(-3.5, 2.5)),\n",
    "        FixLength(data_config.sequence_len),\n",
    "        Transpose(),\n",
    "        ToType(),\n",
    "        ToTensor(),\n",
    "        Unsqueeze(),\n",
    "    ]\n",
    "    dataset = CMIDataset(valid_X, valid_y, transforms=transforms)\n",
    "\n",
    "    # Compute predictions and overall accuracy\n",
    "    y_preds, ys = evaluate_dataset(dataset, predict_fn)\n",
    "    accuracy = (y_preds == ys).mean()\n",
    "\n",
    "    # Save predictions\n",
    "    df = pd.DataFrame(columns=['Prediction', 'Target'])\n",
    "    df['Prediction'] = y_preds\n",
    "    df['Target'] = ys\n",
    "    df.to_pickle('valid.predictions.pkl')\n",
    "    display(df)\n",
    "    \n",
    "    print(make_header('Valid'))\n",
    "    print(f'{accuracy=}')\n",
    "\n",
    "# predict_fn = get_predict_fn(model, config)\n",
    "\n",
    "# torch.argmax(predict_fn(torch.tensor(valid_X[0].astype('float32')).unsqueeze(0).transpose(1, 2)))"
   ]
  },
  {
   "cell_type": "markdown",
   "id": "ab0aa0df",
   "metadata": {
    "_cell_guid": "daea6713-827f-4552-88f9-34ae4e3d51fa",
    "_uuid": "3ed7d83c-403a-4b59-9956-57ac6fec074a",
    "collapsed": false,
    "jupyter": {
     "outputs_hidden": false
    },
    "papermill": {
     "duration": 0.830587,
     "end_time": "2025-08-21T09:57:40.006860",
     "exception": false,
     "start_time": "2025-08-21T09:57:39.176273",
     "status": "completed"
    },
    "tags": []
   },
   "source": [
    "# Competition Metrics\n",
    "\n",
    "* We use: https://www.kaggle.com/code/richolson/cmi-2025-metric-copy-for-import"
   ]
  },
  {
   "cell_type": "code",
   "execution_count": 22,
   "id": "601c785c",
   "metadata": {
    "_cell_guid": "a4358841-bab8-495e-9200-c9c703f8e593",
    "_uuid": "5a0d5592-25ea-4205-9e0f-b11290f82182",
    "collapsed": false,
    "execution": {
     "iopub.execute_input": "2025-08-21T09:57:41.714407Z",
     "iopub.status.busy": "2025-08-21T09:57:41.714110Z",
     "iopub.status.idle": "2025-08-21T09:57:41.718626Z",
     "shell.execute_reply": "2025-08-21T09:57:41.718107Z"
    },
    "jupyter": {
     "outputs_hidden": false
    },
    "papermill": {
     "duration": 0.87042,
     "end_time": "2025-08-21T09:57:41.719809",
     "exception": false,
     "start_time": "2025-08-21T09:57:40.849389",
     "status": "completed"
    },
    "tags": []
   },
   "outputs": [],
   "source": [
    "import torch\n",
    "import pandas as pd\n",
    "\n",
    "def compute_gestures(dataset, classes, model, config):\n",
    "    # Compute predictions\n",
    "    y_probs, ys = get_predictions(\n",
    "        dataset, \n",
    "        predict_fn=get_predict_fn(model, config.device),\n",
    "        config=config\n",
    "    )\n",
    "    y_preds = torch.argmax(y_probs, dim=1).cpu().numpy()\n",
    "    gestures = pd.Series(y_preds).map(lambda c_idx: classes[c_idx])\n",
    "\n",
    "    return y_preds, gestures"
   ]
  },
  {
   "cell_type": "code",
   "execution_count": 23,
   "id": "e0a65dfe",
   "metadata": {
    "_cell_guid": "c474f3e9-a5fd-4526-a7e8-357865371194",
    "_uuid": "f4a83a5a-aaaf-4be0-b205-14d02ffbd03a",
    "collapsed": false,
    "execution": {
     "iopub.execute_input": "2025-08-21T09:57:43.323331Z",
     "iopub.status.busy": "2025-08-21T09:57:43.322564Z",
     "iopub.status.idle": "2025-08-21T09:57:43.334176Z",
     "shell.execute_reply": "2025-08-21T09:57:43.333641Z"
    },
    "jupyter": {
     "outputs_hidden": false
    },
    "papermill": {
     "duration": 0.848094,
     "end_time": "2025-08-21T09:57:43.335349",
     "exception": false,
     "start_time": "2025-08-21T09:57:42.487255",
     "status": "completed"
    },
    "tags": []
   },
   "outputs": [],
   "source": [
    "import pandas as pd\n",
    "\n",
    "from cmi_2025_metric_copy_for_import import CompetitionMetric\n",
    "from core_utilities import make_header\n",
    "\n",
    "def evaluate_valid_score(dataset, classes, model, config):\n",
    "    preds, preds_gestures = compute_gestures(dataset, classes, model, config)\n",
    "    y_gestures = pd.Series(y).map(lambda c_idx: classes[c_idx])\n",
    "    \n",
    "    submission = pd.DataFrame({'gesture': preds_gestures})\n",
    "    solution = pd.DataFrame({'gesture': y_gestures})\n",
    "    \n",
    "    # Run competition metric\n",
    "    metric = CompetitionMetric()\n",
    "    score = metric.calculate_hierarchical_f1(solution, submission)\n",
    "    print(f\"Estimated leaderboard score: {score:.4f}\")\n",
    "\n",
    "if 'competition.metrics.valid' in config.features:\n",
    "    print(make_header('Valid Gestures'))\n",
    "    evaluate_valid_score(valid_set, label_encoders[0].classes_, model, valid_config)"
   ]
  },
  {
   "cell_type": "markdown",
   "id": "dfa71f1f",
   "metadata": {
    "_cell_guid": "2c9f4946-6846-4dbd-9d09-fb23056e9886",
    "_uuid": "93c6582b-0895-4f81-825e-7722c0f459d1",
    "collapsed": false,
    "jupyter": {
     "outputs_hidden": false
    },
    "papermill": {
     "duration": 0.770096,
     "end_time": "2025-08-21T09:57:44.935704",
     "exception": false,
     "start_time": "2025-08-21T09:57:44.165608",
     "status": "completed"
    },
    "tags": []
   },
   "source": [
    "## Test"
   ]
  },
  {
   "cell_type": "code",
   "execution_count": 24,
   "id": "6305ea29",
   "metadata": {
    "execution": {
     "iopub.execute_input": "2025-08-21T09:57:46.542245Z",
     "iopub.status.busy": "2025-08-21T09:57:46.541878Z",
     "iopub.status.idle": "2025-08-21T09:57:46.548620Z",
     "shell.execute_reply": "2025-08-21T09:57:46.547880Z"
    },
    "papermill": {
     "duration": 0.777552,
     "end_time": "2025-08-21T09:57:46.549865",
     "exception": false,
     "start_time": "2025-08-21T09:57:45.772313",
     "status": "completed"
    },
    "tags": []
   },
   "outputs": [],
   "source": [
    "import numpy as np\n",
    "import pandas as pd\n",
    "\n",
    "from scipy.spatial.transform import Rotation as R\n",
    "\n",
    "def remove_gravity_from_acc(acc_values, quat_values):\n",
    "    # Some variables\n",
    "    num_samples = acc_values.shape[0]\n",
    "    linear_accel = np.zeros_like(acc_values)\n",
    "    gravity_world = np.array([0, 0, 9.81])\n",
    "\n",
    "    # Iterate over all the samples\n",
    "    for idx in range(num_samples):\n",
    "        ## Handle NaN and 0 cases\n",
    "        if np.all(np.isnan(quat_values[idx])) or np.allclose(quat_values[idx], 0):\n",
    "            linear_accel[idx, :] = acc_values[idx, :]\n",
    "        ## Handle valid rotation values cases\n",
    "        else:\n",
    "            try:\n",
    "                rotation = R.from_quat(quat_values[idx], scalar_first=True)\n",
    "                gravity_frame = rotation.apply(gravity_world, inverse=True)\n",
    "                linear_accel[idx, :] = acc_values[idx, :] - gravity_frame\n",
    "            except ValueError:\n",
    "                 linear_accel[idx, :] = acc_values[idx, :]\n",
    "    return linear_accel\n",
    "\n",
    "def get_linear_acc(data, config):\n",
    "    # Get acceleration and rotation values\n",
    "    acc_values = data[config.columns('acc')].values\n",
    "    rot_values = data[config.columns('rot')].values\n",
    "    \n",
    "    # Compute linear acceleration values\n",
    "    linear_acc_values = remove_gravity_from_acc(acc_values, rot_values)\n",
    "\n",
    "    return linear_acc_values"
   ]
  },
  {
   "cell_type": "code",
   "execution_count": 25,
   "id": "d82858a2",
   "metadata": {
    "execution": {
     "iopub.execute_input": "2025-08-21T09:57:48.247785Z",
     "iopub.status.busy": "2025-08-21T09:57:48.247495Z",
     "iopub.status.idle": "2025-08-21T09:57:48.255220Z",
     "shell.execute_reply": "2025-08-21T09:57:48.254644Z"
    },
    "papermill": {
     "duration": 0.869439,
     "end_time": "2025-08-21T09:57:48.256300",
     "exception": false,
     "start_time": "2025-08-21T09:57:47.386861",
     "status": "completed"
    },
    "tags": []
   },
   "outputs": [],
   "source": [
    "import warnings\n",
    "import numpy as np\n",
    "import pandas as pd\n",
    "\n",
    "from sklearn.preprocessing import StandardScaler\n",
    "from scipy.signal import savgol_filter\n",
    "\n",
    "def get_sequence_prep_fn(config, data_config, sm_window=None):\n",
    "    def fn(sequence_data):\n",
    "        ## Placeholder for data\n",
    "        # data = sequence_data[sequence_data.columns]\n",
    "        data = sequence_data[data_config.sequence_columns()].copy()\n",
    "\n",
    "        ## Fix tof data\n",
    "        if data_config.columns('tof'):\n",
    "            ### Get tof_columns values\n",
    "            tof_values = data[data_config.columns('tof')].values\n",
    "\n",
    "            ### Replace -1 with NaN\n",
    "            tof_values[tof_values == -1.] = np.nan\n",
    "\n",
    "            ### Compute mean of tof_columns while skipping NaNs\n",
    "            with warnings.catch_warnings():\n",
    "                warnings.simplefilter(\"ignore\", category=RuntimeWarning)\n",
    "                tof_mean = np.nan_to_num(np.nanmean(tof_values, axis=0))\n",
    "\n",
    "            ### Replace NaN with means\n",
    "            tof_values = np.where(np.isnan(tof_values), tof_mean, tof_values)\n",
    "\n",
    "            ### Update the DataFrame\n",
    "            data[data_config.columns('tof')] = tof_values\n",
    "\n",
    "        if any(feature in config.features for feature in ['data.linear_acc', 'data.linear_acc.overwrite']):\n",
    "        # if 'data.linear_acc' in config.features:\n",
    "            linear_acc = pd.DataFrame(\n",
    "                get_linear_acc(data, data_config),\n",
    "                columns=data_config.columns('linear_acc'),\n",
    "                index=data.index,\n",
    "            )\n",
    "\n",
    "            if 'data.linear_acc.overwrite' in config.features:\n",
    "                data[data_config.columns('acc')] = linear_acc\n",
    "            else:\n",
    "                # print(data.shape, linear_acc.shape)\n",
    "                # display(data), display(linear_acc)\n",
    "                data = pd.concat([data, linear_acc], axis=1)\n",
    "                # display(data)\n",
    "                # print(f'After concat:: {data.shape=}')\n",
    "\n",
    "        ### Fill NaN with the mean value\n",
    "        means = data.mean().fillna(0)\n",
    "        data = data.ffill().bfill().fillna(means.to_dict())\n",
    "        \n",
    "        ## Data scaling\n",
    "        data = StandardScaler().fit_transform(data)\n",
    "\n",
    "        ## Data smoothening\n",
    "        if sm_window:\n",
    "            data = savgol_filter(data, sm_window, 3, axis=0)\n",
    "        \n",
    "        return data\n",
    "\n",
    "    return fn"
   ]
  },
  {
   "cell_type": "code",
   "execution_count": 26,
   "id": "1b0398b3",
   "metadata": {
    "_cell_guid": "e6d08b84-5c7e-4aa0-8f55-1b774a210e52",
    "_uuid": "ce6dbbff-eb5f-47c6-9be2-a1978d7709d5",
    "collapsed": false,
    "execution": {
     "iopub.execute_input": "2025-08-21T09:57:49.870546Z",
     "iopub.status.busy": "2025-08-21T09:57:49.870267Z",
     "iopub.status.idle": "2025-08-21T09:57:52.897692Z",
     "shell.execute_reply": "2025-08-21T09:57:52.896992Z"
    },
    "jupyter": {
     "outputs_hidden": false
    },
    "papermill": {
     "duration": 3.797329,
     "end_time": "2025-08-21T09:57:52.898916",
     "exception": false,
     "start_time": "2025-08-21T09:57:49.101587",
     "status": "completed"
    },
    "tags": []
   },
   "outputs": [
    {
     "data": {
      "text/html": [
       "<div>\n",
       "<style scoped>\n",
       "    .dataframe tbody tr th:only-of-type {\n",
       "        vertical-align: middle;\n",
       "    }\n",
       "\n",
       "    .dataframe tbody tr th {\n",
       "        vertical-align: top;\n",
       "    }\n",
       "\n",
       "    .dataframe thead th {\n",
       "        text-align: right;\n",
       "    }\n",
       "</style>\n",
       "<table border=\"1\" class=\"dataframe\">\n",
       "  <thead>\n",
       "    <tr style=\"text-align: right;\">\n",
       "      <th></th>\n",
       "      <th>sequence_id</th>\n",
       "      <th>gesture</th>\n",
       "    </tr>\n",
       "  </thead>\n",
       "  <tbody>\n",
       "    <tr>\n",
       "      <th>0</th>\n",
       "      <td>SEQ_000001</td>\n",
       "      <td>Forehead - scratch</td>\n",
       "    </tr>\n",
       "    <tr>\n",
       "      <th>1</th>\n",
       "      <td>SEQ_000011</td>\n",
       "      <td>Eyelash - pull hair</td>\n",
       "    </tr>\n",
       "  </tbody>\n",
       "</table>\n",
       "</div>"
      ],
      "text/plain": [
       "  sequence_id              gesture\n",
       "0  SEQ_000001   Forehead - scratch\n",
       "1  SEQ_000011  Eyelash - pull hair"
      ]
     },
     "metadata": {},
     "output_type": "display_data"
    }
   ],
   "source": [
    "import os\n",
    "import torch\n",
    "import kaggle_evaluation.cmi_inference_server\n",
    "\n",
    "import polars as pl\n",
    "import pandas as pd\n",
    "\n",
    "from transforms import FixLength, Transpose, ToType, ToTensor, Resize, Clip\n",
    "from torch_evaluation import get_predict_fn, get_slices_fn, get_slices_predict_fn\n",
    "from core_utilities import make_header\n",
    "\n",
    "# Sequence Builder\n",
    "test_sequence_prep_fn = get_sequence_prep_fn(config, data_config)\n",
    "\n",
    "# Class names\n",
    "class_names = load_pkl(config.data_root / 'class_names.pkl')\n",
    "\n",
    "# Multi-slice test transforms\n",
    "base_predict_fn = get_predict_fn(model, config.device)\n",
    "slices_fn = get_slices_fn(\n",
    "    slice_dim=0,\n",
    "    slice_size=data_config.slice_len,\n",
    "    stride=16,\n",
    "    transforms=[Clip(limits=(-3.5, 2.5)), FixLength(data_config.sequence_len)]\n",
    ")\n",
    "\n",
    "predict_fn = get_slices_predict_fn(\n",
    "    base_predict_fn,\n",
    "    slices_fn,\n",
    "    transforms=[\n",
    "        Transpose(dims=(0, 2, 1)),\n",
    "        ToType(),\n",
    "        ToTensor(),\n",
    "    ])\n",
    "\n",
    "@torch.inference_mode()\n",
    "def predict(sequence: pl.DataFrame, demographics: pl.DataFrame) -> str:\n",
    "    ## Convert daa\n",
    "    data = sequence.to_pandas()[data_config.columns(['metadata', 'acc', 'rot', 'thm', 'tof'])]\n",
    "    demographics_data = demographics.to_pandas()[data_config.columns(['metadata_d', 'd'])]\n",
    "    \n",
    "    selection = data_config.sequence_columns()\n",
    "    data = pd.merge(data, demographics_data, on='subject')[selection]\n",
    "\n",
    "    ## Normalize\n",
    "    X = test_sequence_prep_fn(data)\n",
    "\n",
    "    ## Compute probabilities\n",
    "    probs = predict_fn(X)\n",
    "\n",
    "    ## Compute predicted class\n",
    "    y_label = np.squeeze(torch.argmax(probs, dim=1).cpu().numpy())\n",
    "\n",
    "    ## Compute gesture\n",
    "    gesture = class_names[y_label]\n",
    "\n",
    "    return gesture\n",
    "\n",
    "if 'competition.metrics.test' in config.features:\n",
    "    inference_server = kaggle_evaluation.cmi_inference_server.CMIInferenceServer(predict)\n",
    "\n",
    "    if os.getenv('KAGGLE_IS_COMPETITION_RERUN'):\n",
    "        inference_server.serve()\n",
    "    else:\n",
    "        inference_server.run_local_gateway(\n",
    "            data_paths=(\n",
    "                '/kaggle/input/cmi-detect-behavior-with-sensor-data/test.csv',\n",
    "                '/kaggle/input/cmi-detect-behavior-with-sensor-data/test_demographics.csv',\n",
    "            )\n",
    "        )\n",
    "        display(pd.read_parquet('submission.parquet'))\n",
    "    \n",
    "# if 'competition.metrics.test' in config.features:\n",
    "#     print(make_header('Valid Gestures'))\n",
    "#     evaluate_score(X_test, None, label_encoders[0].classes_, model, valid_config)"
   ]
  }
 ],
 "metadata": {
  "kaggle": {
   "accelerator": "none",
   "dataSources": [
    {
     "databundleVersionId": 12518947,
     "sourceId": 102335,
     "sourceType": "competition"
    },
    {
     "datasetId": 8013230,
     "sourceId": 12709968,
     "sourceType": "datasetVersion"
    },
    {
     "sourceId": 242954653,
     "sourceType": "kernelVersion"
    },
    {
     "sourceId": 254765745,
     "sourceType": "kernelVersion"
    },
    {
     "sourceId": 254773128,
     "sourceType": "kernelVersion"
    },
    {
     "sourceId": 254975243,
     "sourceType": "kernelVersion"
    },
    {
     "sourceId": 255778641,
     "sourceType": "kernelVersion"
    },
    {
     "sourceId": 256260848,
     "sourceType": "kernelVersion"
    },
    {
     "sourceId": 256586827,
     "sourceType": "kernelVersion"
    },
    {
     "sourceId": 257055511,
     "sourceType": "kernelVersion"
    },
    {
     "sourceId": 257063621,
     "sourceType": "kernelVersion"
    }
   ],
   "dockerImageVersionId": 31089,
   "isGpuEnabled": false,
   "isInternetEnabled": true,
   "language": "python",
   "sourceType": "notebook"
  },
  "kernelspec": {
   "display_name": "Python 3",
   "language": "python",
   "name": "python3"
  },
  "language_info": {
   "codemirror_mode": {
    "name": "ipython",
    "version": 3
   },
   "file_extension": ".py",
   "mimetype": "text/x-python",
   "name": "python",
   "nbconvert_exporter": "python",
   "pygments_lexer": "ipython3",
   "version": "3.11.13"
  },
  "papermill": {
   "default_parameters": {},
   "duration": 1539.411101,
   "end_time": "2025-08-21T09:57:56.531680",
   "environment_variables": {},
   "exception": null,
   "input_path": "__notebook__.ipynb",
   "output_path": "__notebook__.ipynb",
   "parameters": {},
   "start_time": "2025-08-21T09:32:17.120579",
   "version": "2.6.0"
  }
 },
 "nbformat": 4,
 "nbformat_minor": 5
}
