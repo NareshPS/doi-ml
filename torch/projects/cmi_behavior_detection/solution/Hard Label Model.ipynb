{
 "cells": [
  {
   "cell_type": "markdown",
   "id": "f5f127f8",
   "metadata": {
    "_cell_guid": "5645bdf4-ac3f-4c45-be48-d8c83b3abbd5",
    "_uuid": "2f54f217-233c-4fa6-b075-e88ae2c08790",
    "collapsed": false,
    "jupyter": {
     "outputs_hidden": false
    },
    "papermill": {
     "duration": 0.007436,
     "end_time": "2025-08-20T10:29:11.045639",
     "exception": false,
     "start_time": "2025-08-20T10:29:11.038203",
     "status": "completed"
    },
    "tags": []
   },
   "source": [
    "# Introduction\n",
    "\n",
    "This notebook is built on top of the work of [Rich Olson](https://www.kaggle.com/richolson). The source notebook is [CMI 2025: 1D CNN IMU-Only Baseline\n",
    "](https://www.kaggle.com/code/richolson/cmi-2025-1d-cnn-imu-only-baseline).\n",
    "\n",
    "My final solution is an ensemble of two models. This notebook implements the second model which is trained with hard labels. The Kaggle notebook of the solution is available here(https://www.kaggle.com/code/naresh/cmi-behavior-detection-lstm?scriptVersionId=257063621).\n",
    "\n",
    "| Category (train)  |  Counts | Values|\n",
    "|---|---|---|\n",
    "| row_id | 1 ||\n",
    "| sequence_type | 1 ||\n",
    "| sequence_id | 1 ||\n",
    "| sequence_counter | 1 ||\n",
    "| subject | 1 ||\n",
    "| orientation | 1 ||\n",
    "| behavior | 1 ||\n",
    "| phase | 1 ||\n",
    "| gesture | 1 ||\n",
    "| acc | 3 |acc_x,acc_y,acc_z|\n",
    "| rot | 4 |rot_w,rot_x,rot_y,rot_z|\n",
    "| thm | 5 |thm_1,thm_2,...,thm_5|\n",
    "| tof | 64x4 |tof_1_v0'...tof_1_v63,tof_2_v0'...tof_2_v63,tof_3_v0'...tof_3_v63,tof_4_v0'...tof_4_v63|\n",
    "\n",
    "| Category (test)  |  Counts | Values|\n",
    "|---|---|---|\n",
    "| row_id | 1 ||\n",
    "| <strike>sequence_type</strike>| 1 ||\n",
    "| sequence_id | 1 ||\n",
    "| sequence_counter | 1 ||\n",
    "| subject | 1 ||\n",
    "| <strike>orientation</strike> | 1 ||\n",
    "| <strike>behavior</strike> | 1 ||\n",
    "| <strike>phase</strike> | 1 ||\n",
    "| <strike>gesture</strike> | 1 ||\n",
    "| acc | 3 |acc_x,acc_y,acc_z|\n",
    "| rot | 4 |rot_w,rot_x,rot_y,rot_z|\n",
    "| thm | 5 |thm_1,thm_2,...,thm_5|\n",
    "| tof | 64x4 |tof_1_v0'...tof_1_v63,tof_2_v0'...tof_2_v63,tof_3_v0'...tof_3_v63,tof_4_v0'...tof_4_v63|\n",
    "\n",
    "| Version  | Changes |\n",
    "|---|---|\n",
    "| 11 | base |\n",
    "| 16 | slides |\n",
    "\n",
    "### TODO\n",
    "- [x] Tune LR.\n",
    "\n",
    "### Changes\n",
    "- [] ."
   ]
  },
  {
   "cell_type": "markdown",
   "id": "0efbc4cb",
   "metadata": {
    "_cell_guid": "7f692c08-8c79-4192-adc9-e78df62ec6c6",
    "_uuid": "05dc8e25-4936-48f2-944f-5c0b45d2ece4",
    "collapsed": false,
    "jupyter": {
     "outputs_hidden": false
    },
    "papermill": {
     "duration": 0.005854,
     "end_time": "2025-08-20T10:29:11.058061",
     "exception": false,
     "start_time": "2025-08-20T10:29:11.052207",
     "status": "completed"
    },
    "tags": []
   },
   "source": [
    "# Setup Environment"
   ]
  },
  {
   "cell_type": "markdown",
   "id": "213d02de",
   "metadata": {
    "_cell_guid": "b341c65f-dd41-41c1-b11a-98e149340f8e",
    "_uuid": "3ff24982-8601-4f03-b03f-47a4c06de9b6",
    "collapsed": false,
    "jupyter": {
     "outputs_hidden": false
    },
    "papermill": {
     "duration": 0.005719,
     "end_time": "2025-08-20T10:29:11.069678",
     "exception": false,
     "start_time": "2025-08-20T10:29:11.063959",
     "status": "completed"
    },
    "tags": []
   },
   "source": [
    "## Configurations"
   ]
  },
  {
   "cell_type": "code",
   "execution_count": 1,
   "id": "d74cc93d",
   "metadata": {
    "_cell_guid": "624a9c1c-3a5b-4327-8071-b2d6f6025e18",
    "_uuid": "3f61db4b-ba27-4433-9994-d950d5979c4a",
    "collapsed": false,
    "execution": {
     "iopub.execute_input": "2025-08-20T10:29:11.083354Z",
     "iopub.status.busy": "2025-08-20T10:29:11.083073Z",
     "iopub.status.idle": "2025-08-20T10:29:15.055868Z",
     "shell.execute_reply": "2025-08-20T10:29:15.054898Z"
    },
    "jupyter": {
     "outputs_hidden": false
    },
    "papermill": {
     "duration": 3.981405,
     "end_time": "2025-08-20T10:29:15.057644",
     "exception": false,
     "start_time": "2025-08-20T10:29:11.076239",
     "status": "completed"
    },
    "tags": []
   },
   "outputs": [],
   "source": [
    "import torch\n",
    "\n",
    "from pathlib import Path\n",
    "from torch import nn\n",
    "from dataclasses import dataclass, field\n",
    "from typing import List, Dict, Callable\n",
    "from core_utilities import set_seed\n",
    "\n",
    "@dataclass\n",
    "class Config:\n",
    "    seed: int = 42\n",
    "    eps: float = 1e-8\n",
    "    \n",
    "    root: Path = Path('/kaggle/input/cmi-detect-behavior-with-sensor-data/')\n",
    "    ckpt_root: Path = Path('/kaggle/input/cmi-behavior-detection/lightning_logs/version_0/checkpoints')\n",
    "    # data_root: Path = Path('/kaggle/input/cmi-tof-dataset')\n",
    "    data_root: Path = Path('/kaggle/input/cmi-behavior-detection-synthetic-dataset')\n",
    "    \n",
    "    # Data groups (train, test, ...)\n",
    "    data_groups: dict[str, str] = field(default_factory=lambda: dict(\n",
    "        train='train.csv',\n",
    "        test='test.csv',\n",
    "    ))\n",
    "    \n",
    "    # Demographics data\n",
    "    demographics: dict[str, str] = field(default_factory=lambda: dict(\n",
    "        train='train_demographics.csv',\n",
    "        test='test_demographics.csv',\n",
    "    ))\n",
    "\n",
    "    # Split ratio\n",
    "    split_ratio: float = 0.2\n",
    "\n",
    "    # Torch Configuration\n",
    "    device = torch.device(\"cuda:0\" if torch.cuda.is_available() else 'cpu')\n",
    "    \n",
    "    # Feature Flags\n",
    "    features: List[str] = field(default_factory=lambda: [\n",
    "        ## Info\n",
    "        'info.splits',\n",
    "        # 'info.dataset',\n",
    "        # 'info.transforms',\n",
    "        'info.datasets',\n",
    "        'info.dataloader.params',\n",
    "        'info.dataloader.summary',\n",
    "\n",
    "        ## Data Processing\n",
    "        # 'data.linear_acc',\n",
    "        # 'data.linear_acc.overwrite',\n",
    "        # 'data.move_between_sets',\n",
    "\n",
    "        ## Model\n",
    "        'model.summary',\n",
    "\n",
    "        ## Training\n",
    "        'train',\n",
    "        'train.metrics',\n",
    "        # 'train.save.latest',\n",
    "        # 'checkpoint',\n",
    "\n",
    "        ## Evaluation\n",
    "        'evaluation.valid',\n",
    "        'evaluation.valid.sliced',\n",
    "        # 'evaluation.composite.sliced',\n",
    "\n",
    "        ## Competition Metrics\n",
    "        # 'competition.metrics.valid',\n",
    "        'competition.metrics.test',\n",
    "\n",
    "    ])\n",
    "\n",
    "    def data_limit(self) -> int:\n",
    "        return 3 if is_interactive() else None\n",
    "\n",
    "config = Config()\n",
    "# print(f'{config=}')\n",
    "set_seed(config.seed)"
   ]
  },
  {
   "cell_type": "code",
   "execution_count": 2,
   "id": "89186502",
   "metadata": {
    "_cell_guid": "c7e83cf3-0db3-4bb8-9883-5bb04d5f9b35",
    "_uuid": "8fd15041-8a25-41ce-a6df-9d6cc6f09a4f",
    "collapsed": false,
    "execution": {
     "iopub.execute_input": "2025-08-20T10:29:15.071580Z",
     "iopub.status.busy": "2025-08-20T10:29:15.070932Z",
     "iopub.status.idle": "2025-08-20T10:29:15.079481Z",
     "shell.execute_reply": "2025-08-20T10:29:15.078720Z"
    },
    "jupyter": {
     "outputs_hidden": false
    },
    "papermill": {
     "duration": 0.016385,
     "end_time": "2025-08-20T10:29:15.080631",
     "exception": false,
     "start_time": "2025-08-20T10:29:15.064246",
     "status": "completed"
    },
    "tags": []
   },
   "outputs": [
    {
     "name": "stdout",
     "output_type": "stream",
     "text": [
      "data_config=DataConfig(slice_len=64, sequence_len=64, num_classes=18, column_to_str={'metadata': ['row_id', 'sequence_id', 'sequence_counter', 'subject'], 'metadata_d': ['subject'], 'acc': ['acc_x', 'acc_y', 'acc_z'], 'rot': ['rot_w', 'rot_x', 'rot_y', 'rot_z'], 'thm': ['thm_1', 'thm_2', 'thm_3', 'thm_4', 'thm_5'], 'tof': ['tof_1_v0', 'tof_1_v1', 'tof_1_v2', 'tof_1_v3', 'tof_1_v4', 'tof_1_v5', 'tof_1_v6', 'tof_1_v7', 'tof_1_v8', 'tof_1_v9', 'tof_1_v10', 'tof_1_v11', 'tof_1_v12', 'tof_1_v13', 'tof_1_v14', 'tof_1_v15', 'tof_1_v16', 'tof_1_v17', 'tof_1_v18', 'tof_1_v19', 'tof_1_v20', 'tof_1_v21', 'tof_1_v22', 'tof_1_v23', 'tof_1_v24', 'tof_1_v25', 'tof_1_v26', 'tof_1_v27', 'tof_1_v28', 'tof_1_v29', 'tof_1_v30', 'tof_1_v31', 'tof_1_v32', 'tof_1_v33', 'tof_1_v34', 'tof_1_v35', 'tof_1_v36', 'tof_1_v37', 'tof_1_v38', 'tof_1_v39', 'tof_1_v40', 'tof_1_v41', 'tof_1_v42', 'tof_1_v43', 'tof_1_v44', 'tof_1_v45', 'tof_1_v46', 'tof_1_v47', 'tof_1_v48', 'tof_1_v49', 'tof_1_v50', 'tof_1_v51', 'tof_1_v52', 'tof_1_v53', 'tof_1_v54', 'tof_1_v55', 'tof_1_v56', 'tof_1_v57', 'tof_1_v58', 'tof_1_v59', 'tof_1_v60', 'tof_1_v61', 'tof_1_v62', 'tof_1_v63', 'tof_2_v0', 'tof_2_v1', 'tof_2_v2', 'tof_2_v3', 'tof_2_v4', 'tof_2_v5', 'tof_2_v6', 'tof_2_v7', 'tof_2_v8', 'tof_2_v9', 'tof_2_v10', 'tof_2_v11', 'tof_2_v12', 'tof_2_v13', 'tof_2_v14', 'tof_2_v15', 'tof_2_v16', 'tof_2_v17', 'tof_2_v18', 'tof_2_v19', 'tof_2_v20', 'tof_2_v21', 'tof_2_v22', 'tof_2_v23', 'tof_2_v24', 'tof_2_v25', 'tof_2_v26', 'tof_2_v27', 'tof_2_v28', 'tof_2_v29', 'tof_2_v30', 'tof_2_v31', 'tof_2_v32', 'tof_2_v33', 'tof_2_v34', 'tof_2_v35', 'tof_2_v36', 'tof_2_v37', 'tof_2_v38', 'tof_2_v39', 'tof_2_v40', 'tof_2_v41', 'tof_2_v42', 'tof_2_v43', 'tof_2_v44', 'tof_2_v45', 'tof_2_v46', 'tof_2_v47', 'tof_2_v48', 'tof_2_v49', 'tof_2_v50', 'tof_2_v51', 'tof_2_v52', 'tof_2_v53', 'tof_2_v54', 'tof_2_v55', 'tof_2_v56', 'tof_2_v57', 'tof_2_v58', 'tof_2_v59', 'tof_2_v60', 'tof_2_v61', 'tof_2_v62', 'tof_2_v63', 'tof_3_v0', 'tof_3_v1', 'tof_3_v2', 'tof_3_v3', 'tof_3_v4', 'tof_3_v5', 'tof_3_v6', 'tof_3_v7', 'tof_3_v8', 'tof_3_v9', 'tof_3_v10', 'tof_3_v11', 'tof_3_v12', 'tof_3_v13', 'tof_3_v14', 'tof_3_v15', 'tof_3_v16', 'tof_3_v17', 'tof_3_v18', 'tof_3_v19', 'tof_3_v20', 'tof_3_v21', 'tof_3_v22', 'tof_3_v23', 'tof_3_v24', 'tof_3_v25', 'tof_3_v26', 'tof_3_v27', 'tof_3_v28', 'tof_3_v29', 'tof_3_v30', 'tof_3_v31', 'tof_3_v32', 'tof_3_v33', 'tof_3_v34', 'tof_3_v35', 'tof_3_v36', 'tof_3_v37', 'tof_3_v38', 'tof_3_v39', 'tof_3_v40', 'tof_3_v41', 'tof_3_v42', 'tof_3_v43', 'tof_3_v44', 'tof_3_v45', 'tof_3_v46', 'tof_3_v47', 'tof_3_v48', 'tof_3_v49', 'tof_3_v50', 'tof_3_v51', 'tof_3_v52', 'tof_3_v53', 'tof_3_v54', 'tof_3_v55', 'tof_3_v56', 'tof_3_v57', 'tof_3_v58', 'tof_3_v59', 'tof_3_v60', 'tof_3_v61', 'tof_3_v62', 'tof_3_v63', 'tof_4_v0', 'tof_4_v1', 'tof_4_v2', 'tof_4_v3', 'tof_4_v4', 'tof_4_v5', 'tof_4_v6', 'tof_4_v7', 'tof_4_v8', 'tof_4_v9', 'tof_4_v10', 'tof_4_v11', 'tof_4_v12', 'tof_4_v13', 'tof_4_v14', 'tof_4_v15', 'tof_4_v16', 'tof_4_v17', 'tof_4_v18', 'tof_4_v19', 'tof_4_v20', 'tof_4_v21', 'tof_4_v22', 'tof_4_v23', 'tof_4_v24', 'tof_4_v25', 'tof_4_v26', 'tof_4_v27', 'tof_4_v28', 'tof_4_v29', 'tof_4_v30', 'tof_4_v31', 'tof_4_v32', 'tof_4_v33', 'tof_4_v34', 'tof_4_v35', 'tof_4_v36', 'tof_4_v37', 'tof_4_v38', 'tof_4_v39', 'tof_4_v40', 'tof_4_v41', 'tof_4_v42', 'tof_4_v43', 'tof_4_v44', 'tof_4_v45', 'tof_4_v46', 'tof_4_v47', 'tof_4_v48', 'tof_4_v49', 'tof_4_v50', 'tof_4_v51', 'tof_4_v52', 'tof_4_v53', 'tof_4_v54', 'tof_4_v55', 'tof_4_v56', 'tof_4_v57', 'tof_4_v58', 'tof_4_v59', 'tof_4_v60', 'tof_4_v61', 'tof_4_v62', 'tof_4_v63'], 'd': ['adult_child', 'handedness'], 'label': ['gesture'], 'linear_acc': ['linear_acc_x', 'linear_acc_y', 'linear_acc_z']})\n"
     ]
    }
   ],
   "source": [
    "from dataclasses import dataclass, field\n",
    "from typing import List\n",
    "\n",
    "@dataclass\n",
    "class DataConfig:\n",
    "    slice_len: int = 64\n",
    "    sequence_len: int = 103\n",
    "\n",
    "    # Classes\n",
    "    num_classes: int = 18\n",
    "\n",
    "    column_to_str: {str, List[str]} = field(default_factory=lambda: {\n",
    "        ## Metadata columns\n",
    "        'metadata': ['row_id', 'sequence_id', 'sequence_counter', 'subject'],\n",
    "        'metadata_d': ['subject'],\n",
    "\n",
    "        ## Data Columns\n",
    "        'acc': ['acc_x', 'acc_y', 'acc_z'],\n",
    "        'rot': ['rot_w', 'rot_x', 'rot_y', 'rot_z'],\n",
    "        'thm': [f'thm_{v}' for v in range(1, 6)],\n",
    "        'tof': (\n",
    "            [f'tof_1_v{v}' for v in range(64)]\n",
    "            + [f'tof_2_v{v}' for v in range(64)]\n",
    "            + [f'tof_3_v{v}' for v in range(64)]\n",
    "            + [f'tof_4_v{v}' for v in range(64)]\n",
    "        ),\n",
    "        ## Demographics Columns\n",
    "        'd': ['adult_child', 'handedness'],\n",
    "\n",
    "        ## Label Columns\n",
    "        'label': ['gesture'],\n",
    "\n",
    "        ## Generated Columns\n",
    "        'linear_acc': list(map(lambda s: f'linear_{s}', ['acc_x', 'acc_y', 'acc_z']))\n",
    "    })\n",
    "\n",
    "    def columns(self, hint=['acc', 'rot', 'tof', 'd']):\n",
    "        # Convert hint to a list for processing\n",
    "        if type(hint) is str: hint = [hint]\n",
    "\n",
    "        return sum(map(lambda h: self.column_to_str[h], hint), [])\n",
    "\n",
    "    def sequence_columns(self, generated=[]):\n",
    "        return self.columns(['acc', 'rot', 'thm', 'tof', 'd'] + generated)\n",
    "        \n",
    "data_config = DataConfig(slice_len=64, sequence_len=64)\n",
    "\n",
    "print(f'{data_config=}')"
   ]
  },
  {
   "cell_type": "markdown",
   "id": "8bb1a588",
   "metadata": {
    "_cell_guid": "cba756fb-267f-4943-99ef-734501415f47",
    "_uuid": "1514a1ea-f05e-43ee-b8c2-5cc415f99523",
    "collapsed": false,
    "jupyter": {
     "outputs_hidden": false
    },
    "papermill": {
     "duration": 0.005878,
     "end_time": "2025-08-20T10:29:15.092790",
     "exception": false,
     "start_time": "2025-08-20T10:29:15.086912",
     "status": "completed"
    },
    "tags": []
   },
   "source": [
    "# Train/Valid Split"
   ]
  },
  {
   "cell_type": "code",
   "execution_count": 3,
   "id": "b98e526b",
   "metadata": {
    "_cell_guid": "888db187-7833-439c-8a46-95823b29d574",
    "_uuid": "06124929-1b47-484b-84b6-d727815f8423",
    "collapsed": false,
    "execution": {
     "iopub.execute_input": "2025-08-20T10:29:15.105189Z",
     "iopub.status.busy": "2025-08-20T10:29:15.105011Z",
     "iopub.status.idle": "2025-08-20T10:29:23.150784Z",
     "shell.execute_reply": "2025-08-20T10:29:23.149905Z"
    },
    "jupyter": {
     "outputs_hidden": false
    },
    "papermill": {
     "duration": 8.053416,
     "end_time": "2025-08-20T10:29:23.152056",
     "exception": false,
     "start_time": "2025-08-20T10:29:15.098640",
     "status": "completed"
    },
    "tags": []
   },
   "outputs": [
    {
     "name": "stdout",
     "output_type": "stream",
     "text": [
      "Loading data from: /kaggle/input/cmi-behavior-detection-synthetic-dataset\n",
      "\n",
      "Train\n",
      "=====\n",
      "\n",
      "6520 train_X[0].shape=(57, 273) train_y.shape=(6520,)\n",
      "\n",
      "Valid\n",
      "=====\n",
      "\n",
      "1631 valid_X[0].shape=(45, 273) valid_y.shape=(1631,)\n"
     ]
    }
   ],
   "source": [
    "from core_utilities import make_header, load_pkl\n",
    "\n",
    "print(f'Loading data from: {config.data_root}')\n",
    "\n",
    "## Train set\n",
    "train_X = load_pkl(config.data_root / 'train_X.pkl')\n",
    "train_y = load_pkl(config.data_root / 'train_y.pkl')\n",
    "\n",
    "## Valid set\n",
    "valid_X = load_pkl(config.data_root / 'valid_X.pkl')\n",
    "valid_y = load_pkl(config.data_root / 'valid_y.pkl')\n",
    "\n",
    "if 'info.splits' in config.features:\n",
    "    print(make_header('Train'))\n",
    "    print(f'{len(train_X)} {train_X[0].shape=} {train_y.shape=}')\n",
    "    \n",
    "    print(make_header('Valid'))\n",
    "    print(f'{len(valid_X)} {valid_X[0].shape=} {valid_y.shape=}')"
   ]
  },
  {
   "cell_type": "code",
   "execution_count": 4,
   "id": "1b9ab04f",
   "metadata": {
    "execution": {
     "iopub.execute_input": "2025-08-20T10:29:23.166480Z",
     "iopub.status.busy": "2025-08-20T10:29:23.165876Z",
     "iopub.status.idle": "2025-08-20T10:29:23.178564Z",
     "shell.execute_reply": "2025-08-20T10:29:23.177906Z"
    },
    "papermill": {
     "duration": 0.020893,
     "end_time": "2025-08-20T10:29:23.179659",
     "exception": false,
     "start_time": "2025-08-20T10:29:23.158766",
     "status": "completed"
    },
    "tags": []
   },
   "outputs": [
    {
     "name": "stdout",
     "output_type": "stream",
     "text": [
      "\n",
      "Train\n",
      "=====\n",
      "\n",
      "6520 train_X[0].shape=(57, 270) train_y.shape=(6520,)\n",
      "\n",
      "Valid\n",
      "=====\n",
      "\n",
      "1631 valid_X[0].shape=(45, 270) valid_y.shape=(1631,)\n"
     ]
    }
   ],
   "source": [
    "import numpy as np\n",
    "\n",
    "def switch_acc_with_linear_acc(data):\n",
    "    return list(map(\n",
    "        lambda X: np.concatenate([X[..., -3:], X[..., 3:-3]], axis=-1),\n",
    "        data\n",
    "    ))\n",
    "\n",
    "def remove_linear_acc(data):\n",
    "    return list(map(\n",
    "        lambda X: X[..., :-3],\n",
    "        data\n",
    "    ))\n",
    "\n",
    "def move_between_sets(data_1, data_2, frac=.5):\n",
    "    data_1_X, data_1_y = data_1\n",
    "    data_2_X, data_2_y = data_2\n",
    "    \n",
    "    num_items = len(data_2_X)\n",
    "    num_items_to_move = int(num_items*frac)\n",
    "\n",
    "    # Move data_2_X to data_1_X\n",
    "    data_1_X = data_1_X + data_2_X[:num_items_to_move]\n",
    "    data_2_X = data_2_X[num_items_to_move:]\n",
    "\n",
    "    # Move data_2_y to data_1_y\n",
    "    data_1_y = np.concatenate([data_1_y, data_2_y[:num_items_to_move]])\n",
    "    data_2_y = data_2_y[num_items_to_move:]\n",
    "\n",
    "    return (data_1_X, data_1_y), (data_2_X, data_2_y)\n",
    "\n",
    "if 'data.linear_acc.overwrite' in config.features:\n",
    "    train_X = switch_acc_with_linear_acc(train_X)\n",
    "    valid_X = switch_acc_with_linear_acc(valid_X)\n",
    "elif not 'data.linear_acc' in config.features:\n",
    "    train_X = remove_linear_acc(train_X)\n",
    "    valid_X = remove_linear_acc(valid_X)\n",
    "\n",
    "if 'data.move_between_sets' in config.features:\n",
    "    # (train_X, train_y), (valid_X, valid_y) = move_between_sets(\n",
    "    #     (train_X, train_y),\n",
    "    #     (valid_X, valid_y),\n",
    "    #     frac=.1,\n",
    "    # )\n",
    "    (valid_X, valid_y), (train_X, train_y) = move_between_sets(\n",
    "        (valid_X, valid_y),\n",
    "        (train_X, train_y),\n",
    "        frac=.1,\n",
    "    )\n",
    "\n",
    "print(make_header('Train'))\n",
    "print(f'{len(train_X)} {train_X[0].shape=} {train_y.shape=}')\n",
    "\n",
    "print(make_header('Valid'))\n",
    "print(f'{len(valid_X)} {valid_X[0].shape=} {valid_y.shape=}')"
   ]
  },
  {
   "cell_type": "markdown",
   "id": "2ed42bbd",
   "metadata": {
    "_cell_guid": "94ad4c6d-9276-47c9-a945-86270cd7386c",
    "_uuid": "bcbc5fcc-7aaa-4f3e-9da3-65d03dc265cc",
    "collapsed": false,
    "jupyter": {
     "outputs_hidden": false
    },
    "papermill": {
     "duration": 0.006445,
     "end_time": "2025-08-20T10:29:23.192648",
     "exception": false,
     "start_time": "2025-08-20T10:29:23.186203",
     "status": "completed"
    },
    "tags": []
   },
   "source": [
    "## Class Weights"
   ]
  },
  {
   "cell_type": "code",
   "execution_count": 5,
   "id": "2df7574f",
   "metadata": {
    "_cell_guid": "8d6eb975-8245-4db7-bdb7-d603acae60fd",
    "_uuid": "ae114b82-f10c-4238-8cf9-ffa5b91add65",
    "collapsed": false,
    "execution": {
     "iopub.execute_input": "2025-08-20T10:29:23.206260Z",
     "iopub.status.busy": "2025-08-20T10:29:23.205616Z",
     "iopub.status.idle": "2025-08-20T10:29:23.215198Z",
     "shell.execute_reply": "2025-08-20T10:29:23.214272Z"
    },
    "jupyter": {
     "outputs_hidden": false
    },
    "papermill": {
     "duration": 0.017595,
     "end_time": "2025-08-20T10:29:23.216435",
     "exception": false,
     "start_time": "2025-08-20T10:29:23.198840",
     "status": "completed"
    },
    "tags": []
   },
   "outputs": [
    {
     "name": "stdout",
     "output_type": "stream",
     "text": [
      "\n",
      "Class Weights (train)\n",
      "=====================\n",
      "\n",
      "[0.07929448 0.07852761 0.01932515 0.07546012 0.08128834 0.01947853\n",
      " 0.07546012 0.07684049 0.01978528 0.0791411  0.08144172 0.01886503\n",
      " 0.0607362  0.0196319  0.07745399 0.06027607 0.05858896 0.01840491]\n",
      "\n",
      "Class Weights (valid)\n",
      "=====================\n",
      "\n",
      "[0.07418761 0.0766401  0.02145923 0.08951563 0.06744329 0.02084611\n",
      " 0.09074188 0.08522379 0.01961987 0.07602698 0.06683017 0.02329859\n",
      " 0.04966278 0.02023299 0.08277131 0.05211527 0.05824647 0.02513795]\n"
     ]
    }
   ],
   "source": [
    "import numpy as np\n",
    "\n",
    "def compute_class_weights(ys):\n",
    "    _, freqs = np.unique(ys, return_counts=True)\n",
    "    weights = freqs / len(ys)\n",
    "\n",
    "    return weights\n",
    "\n",
    "train_class_weights = compute_class_weights(train_y)\n",
    "valid_class_weights = compute_class_weights(valid_y)\n",
    "\n",
    "print(make_header(f'Class Weights (train)'))\n",
    "print(train_class_weights)\n",
    "\n",
    "print(make_header(f'Class Weights (valid)'))\n",
    "print(valid_class_weights)"
   ]
  },
  {
   "cell_type": "markdown",
   "id": "47171b44",
   "metadata": {
    "_cell_guid": "60fc9a71-1958-4cda-a2bc-72920c6e4dea",
    "_uuid": "79cc546e-d646-40d1-a90d-d77cbb246572",
    "collapsed": false,
    "jupyter": {
     "outputs_hidden": false
    },
    "papermill": {
     "duration": 0.006311,
     "end_time": "2025-08-20T10:29:23.229078",
     "exception": false,
     "start_time": "2025-08-20T10:29:23.222767",
     "status": "completed"
    },
    "tags": []
   },
   "source": [
    "# Datasets\n",
    "\n",
    "It build a sequence by grouping the data by _sequence\\_id_."
   ]
  },
  {
   "cell_type": "markdown",
   "id": "c47a3356",
   "metadata": {
    "_cell_guid": "5a92b1c5-07dd-43c7-a81b-cb640ba70033",
    "_uuid": "0ac4f3d8-911b-4074-81c0-eda7c8885ee1",
    "collapsed": false,
    "jupyter": {
     "outputs_hidden": false
    },
    "papermill": {
     "duration": 0.006099,
     "end_time": "2025-08-20T10:29:23.241318",
     "exception": false,
     "start_time": "2025-08-20T10:29:23.235219",
     "status": "completed"
    },
    "tags": []
   },
   "source": [
    "## Definition"
   ]
  },
  {
   "cell_type": "code",
   "execution_count": 6,
   "id": "87464773",
   "metadata": {
    "_cell_guid": "65e1e061-3dad-4401-a60e-2e38d9acd87a",
    "_uuid": "f50137a5-4be1-400b-b9fd-84a14908ae3e",
    "collapsed": false,
    "execution": {
     "iopub.execute_input": "2025-08-20T10:29:23.254735Z",
     "iopub.status.busy": "2025-08-20T10:29:23.254317Z",
     "iopub.status.idle": "2025-08-20T10:29:23.262231Z",
     "shell.execute_reply": "2025-08-20T10:29:23.261728Z"
    },
    "jupyter": {
     "outputs_hidden": false
    },
    "papermill": {
     "duration": 0.015924,
     "end_time": "2025-08-20T10:29:23.263443",
     "exception": false,
     "start_time": "2025-08-20T10:29:23.247519",
     "status": "completed"
    },
    "tags": []
   },
   "outputs": [],
   "source": [
    "import torch\n",
    "import random\n",
    "import numpy as np\n",
    "\n",
    "class CMIDataset(torch.utils.data.Dataset):\n",
    "    def __init__(self, Xs, ys=None, transforms=[], variants=1, merge_fn=lambda Xs,y: (Xs[0], y)):\n",
    "        # Input args\n",
    "        self.Xs = Xs\n",
    "        self.ys = ys\n",
    "        self.transforms = transforms\n",
    "        self.variants = variants\n",
    "        self.merge_fn = merge_fn\n",
    "\n",
    "    def __len__(self):\n",
    "        return len(self.Xs)\n",
    "\n",
    "    def get_single_variant(self, X, y):\n",
    "        # Apply transformations\n",
    "        for t in self.transforms:\n",
    "            X, y = t(X, y)\n",
    "\n",
    "        return X, y\n",
    "\n",
    "    def get_variants(self, X, y):\n",
    "        # Create a container for variants\n",
    "        Xs = []\n",
    "\n",
    "        # Fetch the required number of variants\n",
    "        for _ in range(self.variants):\n",
    "            Xv, _ = self.get_single_variant(X, y)\n",
    "\n",
    "            # Add variants to the container\n",
    "            Xs.append(Xv)\n",
    "\n",
    "        return Xs, y\n",
    "\n",
    "    def __getitem__(self, idx):\n",
    "        # Get X and y for the input idx\n",
    "        X = self.Xs[idx]\n",
    "        y = None if self.ys is None else self.ys[idx]\n",
    "\n",
    "        # Get all variants of X and y\n",
    "        Xs, y = self.get_variants(X, y)\n",
    "\n",
    "        # Merge variants\n",
    "        X, y = self.merge_fn(Xs, y)\n",
    "        \n",
    "        return X if y is None else (X, y)\n",
    "\n",
    "    def __repr__(self):\n",
    "        idx = random.randrange(len(self))\n",
    "        X, y = (self[idx], None) if self.ys is None else self[idx]\n",
    "\n",
    "        if self.variants == 1:\n",
    "            repr_str = f'Length: {len(self)}\\n{idx=}\\n{X.shape=}\\n{X[0]=}\\n{X[-1]=}\\n{y=}'\n",
    "        else:\n",
    "            repr_str = f'Length: {len(self)}\\n{idx=}\\n{X.shape=}\\n{X[0][0]=}\\n{X[0][-1]=}\\n{X[1][0]=}\\n{X[1][-1]=}\\n{y=}'\n",
    "\n",
    "        return repr_str\n",
    "\n",
    "if 'info.dataset' in config.features:\n",
    "    dataset = CMIDataset(train_X, train_y)\n",
    "    print(f'{dataset=}')"
   ]
  },
  {
   "cell_type": "markdown",
   "id": "ce5b9c55",
   "metadata": {
    "_cell_guid": "4caa0d86-2feb-4523-8e63-0e6611a0cf9e",
    "_uuid": "7aa0ce91-aeca-4b2c-9fc4-f550a40ff4f8",
    "collapsed": false,
    "jupyter": {
     "outputs_hidden": false
    },
    "papermill": {
     "duration": 0.006169,
     "end_time": "2025-08-20T10:29:23.275800",
     "exception": false,
     "start_time": "2025-08-20T10:29:23.269631",
     "status": "completed"
    },
    "tags": []
   },
   "source": [
    "## Transforms"
   ]
  },
  {
   "cell_type": "code",
   "execution_count": 7,
   "id": "c36f6b3f",
   "metadata": {
    "_cell_guid": "445e13be-b809-4f07-a3be-572a69c8aa29",
    "_uuid": "c989102f-d45c-4ba5-afd0-f866d209d13f",
    "collapsed": false,
    "execution": {
     "iopub.execute_input": "2025-08-20T10:29:23.288967Z",
     "iopub.status.busy": "2025-08-20T10:29:23.288608Z",
     "iopub.status.idle": "2025-08-20T10:29:23.479794Z",
     "shell.execute_reply": "2025-08-20T10:29:23.479024Z"
    },
    "jupyter": {
     "outputs_hidden": false
    },
    "papermill": {
     "duration": 0.199528,
     "end_time": "2025-08-20T10:29:23.481410",
     "exception": false,
     "start_time": "2025-08-20T10:29:23.281882",
     "status": "completed"
    },
    "tags": []
   },
   "outputs": [],
   "source": [
    "from core_utilities import make_header\n",
    "from transforms import Slice, FixLength, Transpose, ToType, Resize\n",
    "\n",
    "transforms = [\n",
    "    Slice(data_config.sequence_len),\n",
    "    FixLength(data_config.sequence_len),\n",
    "    Transpose(),\n",
    "    ToType(),\n",
    "]\n",
    "\n",
    "if 'info.transforms' in config.features:\n",
    "    print(make_header(f'Train'))\n",
    "    dataset = CMIDataset(train_X, train_y, transforms=transforms)\n",
    "    print(f'{dataset=}')"
   ]
  },
  {
   "cell_type": "markdown",
   "id": "c1f35a39",
   "metadata": {
    "_cell_guid": "66aee330-9480-4c69-ac88-19414e35dec0",
    "_uuid": "485a86dc-27c2-4652-b278-afd62393184e",
    "collapsed": false,
    "jupyter": {
     "outputs_hidden": false
    },
    "papermill": {
     "duration": 0.058188,
     "end_time": "2025-08-20T10:29:23.546192",
     "exception": false,
     "start_time": "2025-08-20T10:29:23.488004",
     "status": "completed"
    },
    "tags": []
   },
   "source": [
    "## Train and Valid Datasets"
   ]
  },
  {
   "cell_type": "code",
   "execution_count": 8,
   "id": "b831b921",
   "metadata": {
    "_cell_guid": "ab4cd483-8660-4c0e-b8da-5f3d07129209",
    "_uuid": "2f3ed135-0b98-41b1-9ed4-bfea342a507f",
    "collapsed": false,
    "execution": {
     "iopub.execute_input": "2025-08-20T10:29:23.560547Z",
     "iopub.status.busy": "2025-08-20T10:29:23.560251Z",
     "iopub.status.idle": "2025-08-20T10:29:23.570303Z",
     "shell.execute_reply": "2025-08-20T10:29:23.569294Z"
    },
    "jupyter": {
     "outputs_hidden": false
    },
    "papermill": {
     "duration": 0.018717,
     "end_time": "2025-08-20T10:29:23.571514",
     "exception": false,
     "start_time": "2025-08-20T10:29:23.552797",
     "status": "completed"
    },
    "tags": []
   },
   "outputs": [
    {
     "name": "stdout",
     "output_type": "stream",
     "text": [
      "\n",
      "Train\n",
      "=====\n",
      "\n",
      "train_set=Length: 6520\n",
      "idx=5238\n",
      "X.shape=(270, 64)\n",
      "X[0]=array([ 0.8964472 ,  0.9203771 ,  0.72056216,  0.7618413 ,  0.92576134,\n",
      "        0.8731155 ,  0.8557663 ,  0.8497838 ,  0.8497838 ,  0.8438013 ,\n",
      "        0.8438013 ,  0.8438013 ,  0.8438013 ,  0.83183634,  0.83183634,\n",
      "        0.83183634,  0.82645214,  0.8497838 ,  0.8204696 ,  0.81448716,\n",
      "        0.81448716,  0.8085047 ,  0.797138  ,  0.83183634,  0.81448716,\n",
      "        0.8085047 ,  0.8025222 ,  0.797138  ,  0.797138  ,  0.797138  ,\n",
      "        0.797138  ,  0.797138  ,  0.797138  ,  0.797138  ,  0.773208  ,\n",
      "        0.797138  ,  0.8085047 ,  0.7678238 ,  0.6152705 ,  0.6499689 ,\n",
      "        0.74389386,  0.7265447 ,  0.7265447 ,  0.773208  ,  0.9143946 ,\n",
      "        0.15761058,  0.20427395, -0.30004933, -1.0514491 , -1.0975143 ,\n",
      "       -1.1441776 , -1.1274266 , -1.1214441 , -1.1094792 , -1.1561426 ,\n",
      "       -1.2093867 , -1.1681075 , -1.1447759 , -1.1986182 , -1.2034042 ,\n",
      "       -1.1687058 , -1.1920375 , -1.2034042 , -1.1280249 ], dtype=float32)\n",
      "X[-1]=array([0., 0., 0., 0., 0., 0., 0., 0., 0., 0., 0., 0., 0., 0., 0., 0., 0.,\n",
      "       0., 0., 0., 0., 0., 0., 0., 0., 0., 0., 0., 0., 0., 0., 0., 0., 0.,\n",
      "       0., 0., 0., 0., 0., 0., 0., 0., 0., 0., 0., 0., 0., 0., 0., 0., 0.,\n",
      "       0., 0., 0., 0., 0., 0., 0., 0., 0., 0., 0., 0., 0.], dtype=float32)\n",
      "y=1\n",
      "\n",
      "Valid\n",
      "=====\n",
      "\n",
      "valid_set=Length: 1631\n",
      "idx=457\n",
      "X.shape=(270, 64)\n",
      "X[0]=array([ 0.9632364 ,  0.9691846 ,  0.9691846 ,  0.9691846 ,  0.9632364 ,\n",
      "        0.9632364 ,  0.9691846 ,  0.95728827,  0.9632364 ,  0.9459868 ,\n",
      "        0.95193493,  0.95728827,  0.95728827,  0.95193493,  0.95193493,\n",
      "        0.95728827,  0.95728827,  0.95728827,  0.9632364 ,  0.95728827,\n",
      "        0.9632364 ,  0.9632364 ,  0.9751327 ,  0.9691846 ,  0.9691846 ,\n",
      "        0.9691846 ,  0.9632364 ,  0.95728827,  0.9632364 ,  0.95728827,\n",
      "        0.95193493,  0.95728827,  0.95193493,  0.95193493,  1.0744666 ,\n",
      "        1.1327583 ,  1.6282378 ,  0.69497555, -0.24958825, -0.8681943 ,\n",
      "       -0.8675994 , -0.85629797, -0.84559137, -0.8675994 , -0.9841829 ,\n",
      "       -1.0662671 , -0.8277469 , -0.78729963, -1.0847063 , -0.9841829 ,\n",
      "       -0.97882956, -1.1013612 , -1.1596528 , -1.1245588 , -1.1132574 ,\n",
      "       -1.1542995 , -0.974071  , -1.1650062 , -1.0145184 , -1.0662671 ,\n",
      "       -1.095413  , -1.0026221 , -1.0490175 , -1.0829219 ], dtype=float32)\n",
      "X[-1]=array([0., 0., 0., 0., 0., 0., 0., 0., 0., 0., 0., 0., 0., 0., 0., 0., 0.,\n",
      "       0., 0., 0., 0., 0., 0., 0., 0., 0., 0., 0., 0., 0., 0., 0., 0., 0.,\n",
      "       0., 0., 0., 0., 0., 0., 0., 0., 0., 0., 0., 0., 0., 0., 0., 0., 0.,\n",
      "       0., 0., 0., 0., 0., 0., 0., 0., 0., 0., 0., 0., 0.], dtype=float32)\n",
      "y=3\n"
     ]
    }
   ],
   "source": [
    "from core_utilities import make_header\n",
    "from transforms import Slice, FixLength, Transpose, ToType, Resize, Holes, Clip, LambdaX, OffChannel\n",
    "\n",
    "# Make train set\n",
    "train_transforms = [\n",
    "    Slice(data_config.sequence_len),\n",
    "    Clip(limits=(-3.5, 2.5)),\n",
    "    FixLength(data_config.sequence_len),\n",
    "    # Holes(count=6),\n",
    "    Holes(count=128),\n",
    "    OffChannel(\n",
    "        len(data_config.columns(['acc', 'rot'])),\n",
    "        len(data_config.columns(['thm', 'tof'])),\n",
    "    ),\n",
    "    Transpose(),\n",
    "    ToType(),\n",
    "]\n",
    "\n",
    "train_set = CMIDataset(train_X, train_y, transforms=train_transforms)\n",
    "\n",
    "# Make valid set\n",
    "valid_transforms = [\n",
    "    Slice(data_config.sequence_len),\n",
    "    Clip(limits=(-3.5, 2.5)),\n",
    "    FixLength(data_config.sequence_len),\n",
    "    OffChannel(\n",
    "        len(data_config.columns(['acc', 'rot'])),\n",
    "        len(data_config.columns(['thm', 'tof'])),\n",
    "    ),\n",
    "    Transpose(),\n",
    "    ToType(),\n",
    "]\n",
    "\n",
    "valid_set = CMIDataset(valid_X, valid_y, transforms=valid_transforms)\n",
    "\n",
    "if 'info.datasets' in config.features:\n",
    "    print(make_header(f'Train'))\n",
    "    print(f'{train_set=}')\n",
    "\n",
    "    print(make_header(f'Valid'))\n",
    "    print(f'{valid_set=}')"
   ]
  },
  {
   "cell_type": "markdown",
   "id": "8cd02b5b",
   "metadata": {
    "_cell_guid": "d2be36ef-d58d-4739-a8a1-b8a070ecb335",
    "_uuid": "ca2b581e-f193-4fa5-96aa-3ea5a3d34ce0",
    "collapsed": false,
    "jupyter": {
     "outputs_hidden": false
    },
    "papermill": {
     "duration": 0.006114,
     "end_time": "2025-08-20T10:29:23.584251",
     "exception": false,
     "start_time": "2025-08-20T10:29:23.578137",
     "status": "completed"
    },
    "tags": []
   },
   "source": [
    "# Model"
   ]
  },
  {
   "cell_type": "markdown",
   "id": "372ffbde",
   "metadata": {
    "_cell_guid": "bab667ef-7737-4a0a-ae07-8c54b68b7862",
    "_uuid": "f05f7014-34dc-4ac4-878f-ba2944634ad1",
    "collapsed": false,
    "jupyter": {
     "outputs_hidden": false
    },
    "papermill": {
     "duration": 0.006083,
     "end_time": "2025-08-20T10:29:23.596645",
     "exception": false,
     "start_time": "2025-08-20T10:29:23.590562",
     "status": "completed"
    },
    "tags": []
   },
   "source": [
    "## BDLstmModel"
   ]
  },
  {
   "cell_type": "code",
   "execution_count": 9,
   "id": "7a97ac07",
   "metadata": {
    "execution": {
     "iopub.execute_input": "2025-08-20T10:29:23.611017Z",
     "iopub.status.busy": "2025-08-20T10:29:23.610207Z",
     "iopub.status.idle": "2025-08-20T10:29:23.617912Z",
     "shell.execute_reply": "2025-08-20T10:29:23.617167Z"
    },
    "papermill": {
     "duration": 0.016156,
     "end_time": "2025-08-20T10:29:23.619067",
     "exception": false,
     "start_time": "2025-08-20T10:29:23.602911",
     "status": "completed"
    },
    "tags": []
   },
   "outputs": [
    {
     "name": "stdout",
     "output_type": "stream",
     "text": [
      "model_config=ModelConfig(model='BDLstmModel', input_size=64, out_channels=18, in_splits=[3, 4, 5, 256, 2], in_encoders=['acc', 'rot', 'thm', 'tof', 'dem'], slice_encoders={}, rnn_channels=64, squeeze_channels=32, with_noise=False)\n",
      "model_config.input_shape()=(64, 270)\n"
     ]
    }
   ],
   "source": [
    "from pathlib import Path\n",
    "from dataclasses import dataclass, field\n",
    "from collections.abc import Callable\n",
    "\n",
    "@dataclass\n",
    "class ModelConfig:\n",
    "    model: str = 'BDLstmModel'\n",
    "\n",
    "    # Required configuration\n",
    "    input_size: int = 64\n",
    "    out_channels: int = 18\n",
    "\n",
    "    # Input split configuration\n",
    "    in_splits: list[int] = field(default_factory=lambda: [3, 4, 5, 256, 2])\n",
    "    in_encoders: list[str] = field(default_factory=lambda: ['acc', 'rot', 'thm', 'tof', 'dem'])\n",
    "\n",
    "    # Input slice configuration\n",
    "    slice_encoders: dict[str, tuple[int]] = field(default_factory=lambda: {\n",
    "        # 'acc_rot': [slice(7)],\n",
    "    })\n",
    "\n",
    "    # Optional configuration\n",
    "    rnn_channels: int = 64\n",
    "    squeeze_channels: int = 128\n",
    "    \n",
    "    # Optional layers\n",
    "    with_noise: bool = False\n",
    "    \n",
    "    def input_shape(self) -> tuple[int, int]:\n",
    "        return (self.input_size, self.in_channels)\n",
    "\n",
    "    @property\n",
    "    def in_channels(self) -> int:\n",
    "        return sum(self.in_splits)\n",
    "\n",
    "model_config = ModelConfig(\n",
    "    input_size=data_config.sequence_len,\n",
    "    rnn_channels=data_config.sequence_len,\n",
    "    squeeze_channels=32,\n",
    ")\n",
    "print(f'{model_config=}')\n",
    "print(f'{model_config.input_shape()=}')"
   ]
  },
  {
   "cell_type": "code",
   "execution_count": 10,
   "id": "437d67d9",
   "metadata": {
    "_cell_guid": "34b21e09-694b-4660-8ec4-2b31c02ca37f",
    "_uuid": "688fcc9b-e884-43db-a132-e50a553f88ac",
    "collapsed": false,
    "execution": {
     "iopub.execute_input": "2025-08-20T10:29:23.633362Z",
     "iopub.status.busy": "2025-08-20T10:29:23.633106Z",
     "iopub.status.idle": "2025-08-20T10:29:29.803987Z",
     "shell.execute_reply": "2025-08-20T10:29:29.803191Z"
    },
    "jupyter": {
     "outputs_hidden": false
    },
    "papermill": {
     "duration": 6.179505,
     "end_time": "2025-08-20T10:29:29.805239",
     "exception": false,
     "start_time": "2025-08-20T10:29:23.625734",
     "status": "completed"
    },
    "tags": []
   },
   "outputs": [
    {
     "name": "stdout",
     "output_type": "stream",
     "text": [
      "============================================================================================================================================\n",
      "Layer (type (var_name))                                      Input Shape          Output Shape         Param #              Trainable\n",
      "============================================================================================================================================\n",
      "BDLstmModel (BDLstmModel)                                    [16, 270, 64]        [16, 18]             --                   True\n",
      "├─ModuleDict (encoders)                                      --                   --                   --                   True\n",
      "│    └─Sequential (acc)                                      [16, 3, 64]          [16, 1024, 64]       --                   True\n",
      "│    │    └─BDConvBlock (0)                                  [16, 3, 64]          [16, 512, 64]        38,912               True\n",
      "│    │    └─BDConvBlock (1)                                  [16, 512, 64]        [16, 768, 64]        2,017,536            True\n",
      "│    │    └─BDConvBlock (2)                                  [16, 768, 64]        [16, 1024, 64]       2,427,904            True\n",
      "│    └─Sequential (rot)                                      [16, 4, 64]          [16, 1024, 64]       --                   True\n",
      "│    │    └─BDConvBlock (0)                                  [16, 4, 64]          [16, 512, 64]        40,448               True\n",
      "│    │    └─BDConvBlock (1)                                  [16, 512, 64]        [16, 768, 64]        2,017,536            True\n",
      "│    │    └─BDConvBlock (2)                                  [16, 768, 64]        [16, 1024, 64]       2,427,904            True\n",
      "│    └─Sequential (thm)                                      [16, 5, 64]          [16, 128, 64]        --                   True\n",
      "│    │    └─ConvBlock1d (0)                                  [16, 5, 64]          [16, 64, 64]         1,088                True\n",
      "│    │    └─Dropout (1)                                      [16, 64, 64]         [16, 64, 64]         --                   --\n",
      "│    │    └─ConvBlock1d (2)                                  [16, 64, 64]         [16, 128, 64]        24,832               True\n",
      "│    │    └─Dropout (3)                                      [16, 128, 64]        [16, 128, 64]        --                   --\n",
      "│    └─Sequential (tof)                                      [16, 256, 64]        [16, 128, 64]        --                   True\n",
      "│    │    └─ConvBlock1d (0)                                  [16, 256, 64]        [16, 64, 64]         49,280               True\n",
      "│    │    └─Dropout (1)                                      [16, 64, 64]         [16, 64, 64]         --                   --\n",
      "│    │    └─ConvBlock1d (2)                                  [16, 64, 64]         [16, 128, 64]        24,832               True\n",
      "│    │    └─Dropout (3)                                      [16, 128, 64]        [16, 128, 64]        --                   --\n",
      "│    └─Sequential (dem)                                      [16, 2, 64]          [16, 128, 64]        --                   True\n",
      "│    │    └─ConvBlock1d (0)                                  [16, 2, 64]          [16, 64, 64]         512                  True\n",
      "│    │    └─Dropout (1)                                      [16, 64, 64]         [16, 64, 64]         --                   --\n",
      "│    │    └─ConvBlock1d (2)                                  [16, 64, 64]         [16, 128, 64]        24,832               True\n",
      "│    │    └─Dropout (3)                                      [16, 128, 64]        [16, 128, 64]        --                   --\n",
      "├─LSTM (lstm_m)                                              [16, 64, 2432]       [16, 64, 128]        1,278,976            True\n",
      "├─GRU (gru_m)                                                [16, 64, 2432]       [16, 64, 128]        959,232              True\n",
      "├─Dropout (dropout_m)                                        [16, 64, 256]        [16, 64, 256]        --                   --\n",
      "├─Sequential (linear_backbone)                               [16, 64, 256]        [16, 64, 128]        --                   True\n",
      "│    └─BDLinearBlock (block_0)                               [16, 64, 256]        [16, 64, 128]        --                   True\n",
      "│    │    └─Sequential (block)                               [16, 64, 256]        [16, 64, 128]        32,768               True\n",
      "├─Linear (linear)                                            [16, 128]            [16, 18]             2,322                True\n",
      "============================================================================================================================================\n",
      "Total params: 11,368,914\n",
      "Trainable params: 11,368,914\n",
      "Non-trainable params: 0\n",
      "Total mult-adds (Units.GIGABYTES): 11.30\n",
      "============================================================================================================================================\n",
      "Input size (MB): 1.11\n",
      "Forward/backward pass size (MB): 88.70\n",
      "Params size (MB): 45.48\n",
      "Estimated Total Size (MB): 135.28\n",
      "============================================================================================================================================\n"
     ]
    }
   ],
   "source": [
    "import torch\n",
    "\n",
    "import torch.nn.functional as F\n",
    "import torch.nn as nn\n",
    "\n",
    "from torchvision.transforms.v2 import GaussianNoise\n",
    "from collections import OrderedDict, defaultdict\n",
    "from torchinfo import summary\n",
    "from torch_layers import BDConvBlock, BDLinearBlock, ChannelSeBlock, ConvNormActivation, ConvBlock1d\n",
    "from torch_layers import Lambda\n",
    "\n",
    "class BDLstmModel(nn.Module):\n",
    "    name = 'lstm-model'\n",
    "        \n",
    "    def __init__(\n",
    "        self,\n",
    "        in_channels,\n",
    "        out_channels,\n",
    "\n",
    "        in_splits,\n",
    "        in_encoders,\n",
    "        slice_encoders,\n",
    "        \n",
    "        conv_configs=[\n",
    "            # (256, 3, .1), (512, 5, .1),\n",
    "            # (768, 3, .1),\n",
    "            \n",
    "            (512, 3, .1), (768, 5, .1),\n",
    "            (1024, 3, .1), #(1536, 3, .4),\n",
    "            #(2048, 3, .5),\n",
    "        ],\n",
    "        linear_configs=[\n",
    "            # (2048, 2048, .5), (2048, 1024, .4),\n",
    "            #(1024, 512, .3),\n",
    "            # (512, 128, .3),\n",
    "            (512, 128, .3),\n",
    "        ],\n",
    "        squeeze_channels=128,\n",
    "        rnn_channels=128,\n",
    "        with_noise=False,\n",
    "    ):\n",
    "        super().__init__()\n",
    "\n",
    "        # Input args\n",
    "        self.in_channels = in_channels\n",
    "        self.out_channels = out_channels\n",
    "\n",
    "        self.in_splits = in_splits\n",
    "        self.in_encoders = in_encoders\n",
    "        self.slice_encoders = slice_encoders\n",
    "        \n",
    "        self.conv_configs = conv_configs\n",
    "        self.linear_configs = linear_configs.copy()\n",
    "        self.squeeze_channels = squeeze_channels\n",
    "        self.with_noise = with_noise\n",
    "\n",
    "        # Derived args\n",
    "        self.conv_out_channels = conv_configs[-1][0] # Output channels of the last conv block\n",
    "        self.encoders_out_channels = self.conv_out_channels*2 + 128*3\n",
    "\n",
    "        # Adjusted args\n",
    "        _, last_out_channels, last_dropout = linear_configs[-1]\n",
    "        self.linear_configs[-1] = (rnn_channels*4, last_out_channels, last_dropout)\n",
    "\n",
    "        # Additional args\n",
    "        conv_configs_64_128 = [\n",
    "            (64, 3, .2),\n",
    "            (128, 3, .2),\n",
    "        ]\n",
    "        conv_configs_128_256 = [\n",
    "            (128, 3, .2),\n",
    "            (256, 3, .2),\n",
    "        ]\n",
    "        conv_configs_256_512 = [\n",
    "            (256, 3, .2),\n",
    "            (512, 3, .2),\n",
    "        ]\n",
    "        conv_configs_64_128_256 = [\n",
    "            (64, 3, .2),\n",
    "            (128, 3, .2),\n",
    "            (256, 3, .2),\n",
    "        ]\n",
    "        conv_configs_64_128_256_512 = [\n",
    "            (64, 3, .2),\n",
    "            (128, 3, .2),\n",
    "            (256, 3, .2),\n",
    "            (512, 3, .2),\n",
    "        ]\n",
    "\n",
    "        # Layers\n",
    "        self.encoders = nn.ModuleDict(OrderedDict(filter(\n",
    "            lambda item: item[1] is not None,\n",
    "            [\n",
    "                (\n",
    "                    'acc',\n",
    "                    self.make_bdconv_module(3, conv_configs, padding='same')\n",
    "                ),\n",
    "                (\n",
    "                    'rot',\n",
    "                    self.make_bdconv_module(4, conv_configs, padding='same')\n",
    "                    # self.make_small_conv_module(4, conv_configs_128_256, padding='same', bias=False)\n",
    "                ),\n",
    "                (\n",
    "                    'thm',\n",
    "                    self.make_small_conv_module(5, conv_configs_64_128, padding='same', bias=False)\n",
    "                ),\n",
    "                (\n",
    "                    'tof',\n",
    "                    self.make_small_conv_module(256, conv_configs_64_128, padding='same', bias=False)\n",
    "                    # self.make_small_conv_module(256, conv_configs_256_512, padding='same', bias=False)\n",
    "                ),\n",
    "                (\n",
    "                    'dem',\n",
    "                    self.make_small_conv_module(2, conv_configs_64_128, padding='same', bias=False)\n",
    "                ),\n",
    "                (\n",
    "                    'linear_acc',\n",
    "                    self.make_small_conv_module(3, conv_configs_64_128, padding='same', bias=False) if 'linear_acc' in in_encoders else None\n",
    "                ),\n",
    "                (\n",
    "                    'acc_rot',\n",
    "                    self.make_bdconv_module(\n",
    "                        7, conv_configs,\n",
    "                        padding='same',\n",
    "                        # 7, conv_configs_64_128_256,\n",
    "                        # padding='same',\n",
    "                    ) if 'acc_rot' in slice_encoders else None\n",
    "                ),\n",
    "            ]\n",
    "        )))\n",
    "        \n",
    "\n",
    "        self.lstm_m = nn.LSTM(\n",
    "            self.encoders_out_channels,\n",
    "            rnn_channels,\n",
    "            bidirectional=True,\n",
    "            batch_first=True,\n",
    "        )\n",
    "        self.gru_m = nn.GRU(\n",
    "            self.encoders_out_channels,\n",
    "            rnn_channels,\n",
    "            bidirectional=True,\n",
    "            batch_first=True,\n",
    "        )\n",
    "        if with_noise: self.noise_m = nn.Sequential(\n",
    "            GaussianNoise(),\n",
    "            nn.Linear(self.encoders_out_channels, 16),\n",
    "            nn.ReLU(inplace=True),\n",
    "        )\n",
    "\n",
    "        self.dropout_m = nn.Dropout(.4)\n",
    "        \n",
    "        self.linear_backbone = nn.Sequential(\n",
    "            OrderedDict(\n",
    "                map(\n",
    "                    self.make_linear_block,\n",
    "                    enumerate(self.linear_configs)\n",
    "                ),\n",
    "            )\n",
    "        )\n",
    "\n",
    "        self.linear = nn.Linear(self.linear_configs[-1][1], self.out_channels)\n",
    "\n",
    "    def apply_one_branch(self, branch_m, x, prep_fns=[]):\n",
    "        # print(f'{type(branch_m)} {type(prep_fns)} {x.shape=}')\n",
    "\n",
    "        # Apply branch input prep functions\n",
    "        x = self.apply_prep_fns(x, prep_fns)\n",
    "        \n",
    "        # Apply RNN branch. RNN branches require channel-last input\n",
    "        # print(f'{x.shape=} {branch_m=}')\n",
    "        x, _ = branch_m(x)\n",
    "\n",
    "        # print(f'{x.shape=}')\n",
    "\n",
    "        return x\n",
    "\n",
    "    def apply_prep_fns(self, x, fns):\n",
    "        for fn in fns: x = fn(x)\n",
    "\n",
    "        return x\n",
    "        \n",
    "    def apply_branches(self, x):\n",
    "        # RNN branches\n",
    "        branches = list(filter(\n",
    "            lambda fn: fn is not None,\n",
    "            [\n",
    "                self.lstm_m,\n",
    "                self.gru_m,\n",
    "                self.noise_m if self.with_noise else None,\n",
    "            ]\n",
    "        ))\n",
    "        \n",
    "        # Apply branches\n",
    "        xs = list(map(\n",
    "            lambda args: self.apply_one_branch(*args),\n",
    "            zip(branches, [x]*len(branches))\n",
    "        ))\n",
    "\n",
    "        return xs\n",
    "\n",
    "    def apply_encoders(self, x):\n",
    "        # 1. Split inputs\n",
    "        x_splits = x.split(self.in_splits, dim=1)\n",
    "        # print(f'{len(x_splits)}')\n",
    "\n",
    "        # 2. Group splits by encoder\n",
    "        x_grouped = defaultdict(list)\n",
    "        for x_split, e_name in zip(x_splits, self.in_encoders):\n",
    "            # print(f'{e_name} {x_split.shape}')\n",
    "            x_grouped[e_name].append(x_split)\n",
    "        \n",
    "        # 3. Merge groups\n",
    "        xs = list(map(\n",
    "            lambda e_name: torch.concat(x_grouped[e_name], dim=1) if len(x_grouped[e_name]) > 1 else x_grouped[e_name][0],\n",
    "            self.in_encoders,\n",
    "        ))\n",
    "\n",
    "        # for x in xs:\n",
    "        #     print(f'{x.shape=}')\n",
    "\n",
    "        # 4. Apply encoders\n",
    "        xs = list(map(\n",
    "            lambda item: self.encoders[item[0]](item[1]), \n",
    "            zip(x_grouped.keys(), xs),\n",
    "        ))\n",
    "\n",
    "        return torch.concat(xs, dim=1)\n",
    "\n",
    "    def apply_slice_encoders(self, x):\n",
    "        # 1. Get slices\n",
    "        x_slices = []\n",
    "        for slices in self.slice_encoders.values():\n",
    "            x_slice = torch.concat(\n",
    "                list(map(lambda s: x[:, s, :], slices)),\n",
    "                dim=1\n",
    "            )\n",
    "            x_slices.append(x_slice)\n",
    "            # print(f'{x_slice.shape=}')\n",
    "            \n",
    "        # print(f'{len(x_slices)}')\n",
    "\n",
    "        # 4. Apply encoders\n",
    "        xs = list(map(\n",
    "            lambda item: self.encoders[item[0]](item[1]), \n",
    "            zip(self.slice_encoders.keys(), x_slices),\n",
    "        ))\n",
    "\n",
    "        return torch.concat(xs, dim=1)\n",
    "\n",
    "    def forward(self, x):\n",
    "        # -> Apply encoders\n",
    "        x_enc = self.apply_encoders(x)\n",
    "        # print(f'{x.shape=} <- apply_encoders()')\n",
    "\n",
    "        # -> Apply slice_encoders\n",
    "        if self.slice_encoders:\n",
    "            x_slice_enc = self.apply_slice_encoders(x)\n",
    "            # print(f'{x_slice_enc.shape=} <- apply_slice_encoders()')\n",
    "\n",
    "            ## -> Merge encoders\n",
    "            x = torch.concat([x_enc, x_slice_enc], dim=1)\n",
    "        else:\n",
    "            x = x_enc\n",
    "        \n",
    "        # -> Apply branches\n",
    "        xs = self.apply_branches(x.permute(0, 2, 1))\n",
    "        \n",
    "        # -> Join the branches on the channel dimension and apply attention\n",
    "        x = torch.concat(xs, dim=2)\n",
    "\n",
    "        # -> Apply Dropout\n",
    "        # print(f'{x.shape=}')\n",
    "        x = self.dropout_m(x)\n",
    "        \n",
    "        # -> Join the branches on the channel dimension and apply attention\n",
    "        x = F.scaled_dot_product_attention(x, x, x)\n",
    "        \n",
    "        # -> Apply linear backbone and pick the last element for classification\n",
    "        x = self.linear_backbone(x)\n",
    "        x = self.linear(x[..., -1, :])\n",
    "\n",
    "        return x\n",
    "\n",
    "    def make_small_conv_module(self, in_channels, conv_configs, **kwargs):\n",
    "        def conv_fn(args):\n",
    "            # Extract parameters\n",
    "            conv_idx, (conv_out, kernel, dropout) = args\n",
    "            conv_in = in_channels if conv_idx == 0 else conv_configs[conv_idx - 1][0]\n",
    "\n",
    "            # Create layers\n",
    "            layers = [\n",
    "                ConvBlock1d(conv_in, conv_out, kernel, **kwargs)\n",
    "            ]\n",
    "            \n",
    "            if dropout is not None: layers.append(nn.Dropout(dropout))\n",
    "            \n",
    "            return layers\n",
    "            \n",
    "        return nn.Sequential(\n",
    "            *sum(\n",
    "                map(\n",
    "                    conv_fn,\n",
    "                    enumerate(conv_configs)\n",
    "                ),\n",
    "                []\n",
    "            )\n",
    "        )\n",
    "\n",
    "    def make_bdconv_module(self, in_channels, conv_configs, **kwargs):\n",
    "        def bdconv_fn(args):\n",
    "            # Extract parameters\n",
    "            conv_idx, config = args\n",
    "            conv_in = in_channels if conv_idx == 0 else conv_configs[conv_idx - 1][0]\n",
    "\n",
    "            return BDConvBlock(\n",
    "                f'bdconv_{conv_idx}', conv_in, *config,\n",
    "                squeeze_channels=self.squeeze_channels, **kwargs,\n",
    "            )\n",
    "            \n",
    "        return nn.Sequential(*map(bdconv_fn, enumerate(conv_configs)))\n",
    "\n",
    "    def make_linear_block(self, args):\n",
    "        idx, config = args\n",
    "        block_name = f'block_{idx}'\n",
    "        block = BDLinearBlock(block_name, *config, bias=False)\n",
    "\n",
    "        return block_name, block\n",
    "        \n",
    "model = BDLstmModel(\n",
    "    in_channels=model_config.in_channels,\n",
    "    out_channels=model_config.out_channels,\n",
    "    \n",
    "    in_splits=model_config.in_splits,\n",
    "    in_encoders=model_config.in_encoders,\n",
    "    slice_encoders=model_config.slice_encoders,\n",
    "    \n",
    "    squeeze_channels=model_config.squeeze_channels,\n",
    "    rnn_channels=model_config.rnn_channels,\n",
    "    \n",
    "    with_noise=model_config.with_noise,\n",
    ")\n",
    "\n",
    "if 'model.summary' in config.features:\n",
    "    print(\n",
    "        summary(\n",
    "            model=model, \n",
    "            input_size=(16, model_config.in_channels, model_config.input_size),\n",
    "            col_names=[\"input_size\", \"output_size\", \"num_params\", \"trainable\"],\n",
    "            col_width=20,\n",
    "            row_settings=[\"var_names\"],\n",
    "        )\n",
    "    )"
   ]
  },
  {
   "cell_type": "markdown",
   "id": "396fd486",
   "metadata": {
    "_cell_guid": "9c3468ba-e764-4f51-89a5-efe2963ce777",
    "_uuid": "e3e0e194-4c8c-48cc-8f18-0cf46c7a6bf1",
    "collapsed": false,
    "jupyter": {
     "outputs_hidden": false
    },
    "papermill": {
     "duration": 0.006581,
     "end_time": "2025-08-20T10:29:29.819079",
     "exception": false,
     "start_time": "2025-08-20T10:29:29.812498",
     "status": "completed"
    },
    "tags": []
   },
   "source": [
    "# Training"
   ]
  },
  {
   "cell_type": "markdown",
   "id": "61cf9277",
   "metadata": {
    "_cell_guid": "7eb6c304-83a6-4109-b446-5ddef900fc34",
    "_uuid": "45e5924f-d65b-4d30-a82c-02c1ef66d187",
    "collapsed": false,
    "jupyter": {
     "outputs_hidden": false
    },
    "papermill": {
     "duration": 0.006587,
     "end_time": "2025-08-20T10:29:29.832249",
     "exception": false,
     "start_time": "2025-08-20T10:29:29.825662",
     "status": "completed"
    },
    "tags": []
   },
   "source": [
    "## Configuration"
   ]
  },
  {
   "cell_type": "code",
   "execution_count": 11,
   "id": "e21a5651",
   "metadata": {
    "_cell_guid": "a7dc9ee8-3f1b-49a6-bcdb-a2a1dc4fe2c4",
    "_uuid": "2732fc4d-214c-4f03-8d73-c8e47f9fe4ae",
    "collapsed": false,
    "execution": {
     "iopub.execute_input": "2025-08-20T10:29:29.847141Z",
     "iopub.status.busy": "2025-08-20T10:29:29.846380Z",
     "iopub.status.idle": "2025-08-20T10:29:29.854792Z",
     "shell.execute_reply": "2025-08-20T10:29:29.854013Z"
    },
    "jupyter": {
     "outputs_hidden": false
    },
    "papermill": {
     "duration": 0.017019,
     "end_time": "2025-08-20T10:29:29.855820",
     "exception": false,
     "start_time": "2025-08-20T10:29:29.838801",
     "status": "completed"
    },
    "tags": []
   },
   "outputs": [
    {
     "name": "stdout",
     "output_type": "stream",
     "text": [
      "train_config=TrainConfig(name='train', num_classes=18, batch_size=64, epochs=200, optimizer=OptimizerConfig(name='adam', lr=0.0007, early_stopping=20, patience=1, lr_decay=0.65, min_lr=0.0001, momentum=0.9, weight_decay=0.0001), early_stop=False, device=device(type='cuda', index=0), dataloader_workers=3, checkpoint=PosixPath('weights.pt'), load_best_ckpt=False, items_to_mix=2, mixup_num_samples=256, mixup_prob=0.4)\n",
      "valid_config=TrainConfig(name='valid', num_classes=18, batch_size=64, epochs=200, optimizer=OptimizerConfig(name='adam', lr=0.0007, early_stopping=20, patience=1, lr_decay=0.65, min_lr=0.0001, momentum=0.9, weight_decay=0.0001), early_stop=False, device=device(type='cuda', index=0), dataloader_workers=3, checkpoint=None, load_best_ckpt=False, items_to_mix=2, mixup_num_samples=256, mixup_prob=0.4)\n"
     ]
    }
   ],
   "source": [
    "from dataclasses import dataclass, field\n",
    "from typing import List, Dict, Callable, Union\n",
    "from pathlib import Path\n",
    "\n",
    "@dataclass\n",
    "class OptimizerConfig:\n",
    "    name: str = 'adam'\n",
    "    lr: float = 7E-4\n",
    "    \n",
    "    early_stopping: int = 20\n",
    "\n",
    "    # Scheduler\n",
    "    patience: int = 1\n",
    "    lr_decay: float = 0.65\n",
    "    min_lr: float = 1E-4\n",
    "    \n",
    "    momentum: float = 0.9\n",
    "\n",
    "    # Regularization\n",
    "    weight_decay: float = 1E-4\n",
    "\n",
    "@dataclass\n",
    "class TrainConfig:\n",
    "    name: str = 'train'\n",
    "    num_classes: int = 18\n",
    "        \n",
    "    batch_size: int = 64\n",
    "    # batch_size: int = 16\n",
    "    epochs: int = 200\n",
    "        \n",
    "    optimizer: OptimizerConfig = field(default_factory=OptimizerConfig)\n",
    "    early_stop: bool = False\n",
    "\n",
    "    device: str = 'cpu'\n",
    "    dataloader_workers: int = 3\n",
    "\n",
    "    checkpoint: Path = None\n",
    "    load_best_ckpt: bool = False\n",
    "\n",
    "    # Collater\n",
    "    items_to_mix: int = 2\n",
    "    mixup_num_samples: int = 256\n",
    "    mixup_prob: float = .4\n",
    "\n",
    "train_config = TrainConfig(\n",
    "    name='train',\n",
    "    num_classes=model_config.out_channels,\n",
    "    device=config.device,\n",
    "    checkpoint=Path('weights.pt')\n",
    ")\n",
    "valid_config = TrainConfig(\n",
    "    name='valid',\n",
    "    num_classes=model_config.out_channels,\n",
    "    device=config.device,\n",
    ")\n",
    "\n",
    "print(f'{train_config=}')\n",
    "print(f'{valid_config=}')"
   ]
  },
  {
   "cell_type": "markdown",
   "id": "767befca",
   "metadata": {
    "_cell_guid": "ec038ee5-d04a-48f6-ad95-cab157d42a10",
    "_uuid": "84930f31-69a3-4820-bde0-8de5d68cc6f0",
    "collapsed": false,
    "jupyter": {
     "outputs_hidden": false
    },
    "papermill": {
     "duration": 0.007033,
     "end_time": "2025-08-20T10:29:29.869822",
     "exception": false,
     "start_time": "2025-08-20T10:29:29.862789",
     "status": "completed"
    },
    "tags": []
   },
   "source": [
    "## Dataloaders"
   ]
  },
  {
   "cell_type": "code",
   "execution_count": 12,
   "id": "be0c17b2",
   "metadata": {
    "_cell_guid": "c9ddb217-cd89-4dc5-8f3d-2d666cf6ad34",
    "_uuid": "2d6bfacd-d2b4-44fc-9043-9ea5d60606b7",
    "collapsed": false,
    "execution": {
     "iopub.execute_input": "2025-08-20T10:29:29.884465Z",
     "iopub.status.busy": "2025-08-20T10:29:29.883831Z",
     "iopub.status.idle": "2025-08-20T10:29:29.898963Z",
     "shell.execute_reply": "2025-08-20T10:29:29.898258Z"
    },
    "jupyter": {
     "outputs_hidden": false
    },
    "papermill": {
     "duration": 0.023464,
     "end_time": "2025-08-20T10:29:29.899953",
     "exception": false,
     "start_time": "2025-08-20T10:29:29.876489",
     "status": "completed"
    },
    "tags": []
   },
   "outputs": [
    {
     "name": "stdout",
     "output_type": "stream",
     "text": [
      "\n",
      "Train\n",
      "=====\n",
      " \n",
      "train_loader_params={'batch_size': 64, 'shuffle': True, 'pin_memory': True, 'num_workers': 3, 'persistent_workers': True}\n",
      "\n",
      "Validation\n",
      "==========\n",
      " \n",
      "valid_loader_params={'batch_size': 64, 'shuffle': False, 'pin_memory': True, 'num_workers': 3, 'persistent_workers': True}\n"
     ]
    }
   ],
   "source": [
    "from core_utilities import make_header\n",
    "from torch_dataloader import dataloader_params\n",
    "\n",
    "train_loader_params = dataloader_params(train_config)\n",
    "valid_loader_params = dataloader_params(valid_config)\n",
    "\n",
    "if 'info.dataloader.params' in config.features:\n",
    "    print(\n",
    "        make_header('Train'),\n",
    "        f'\\n{train_loader_params=}'\n",
    "    )\n",
    "    print(\n",
    "        make_header('Validation'),\n",
    "        f'\\n{valid_loader_params=}'\n",
    "    )"
   ]
  },
  {
   "cell_type": "code",
   "execution_count": 13,
   "id": "35d94436",
   "metadata": {
    "_cell_guid": "1bcdee50-bb6a-4a4b-b9e8-483a87403db8",
    "_uuid": "ece13dd0-30a1-4174-9122-36e5f730fdb2",
    "collapsed": false,
    "execution": {
     "iopub.execute_input": "2025-08-20T10:29:29.914353Z",
     "iopub.status.busy": "2025-08-20T10:29:29.914162Z",
     "iopub.status.idle": "2025-08-20T10:29:30.261060Z",
     "shell.execute_reply": "2025-08-20T10:29:30.259670Z"
    },
    "jupyter": {
     "outputs_hidden": false
    },
    "papermill": {
     "duration": 0.357142,
     "end_time": "2025-08-20T10:29:30.263935",
     "exception": false,
     "start_time": "2025-08-20T10:29:29.906793",
     "status": "completed"
    },
    "tags": []
   },
   "outputs": [
    {
     "name": "stdout",
     "output_type": "stream",
     "text": [
      "<class 'torch.Tensor'>\n",
      "\n",
      "Dataloader: train\n",
      "=================\n",
      " \n",
      "Xs.shape=torch.Size([64, 270, 64]) torch.float32 ys.shape=torch.Size([64]) ys.dtype=torch.int64 ys=tensor([ 7,  2,  6,  6,  7, 10,  4,  3, 14,  9,  1, 15, 10, 15,  8, 17, 14,  0,\n",
      "         5, 12,  6,  9, 16, 13, 14,  0, 12,  6,  4,  3,  1,  6,  7,  6,  6,  3,\n",
      "        16, 12,  9,  3,  0,  1, 10, 12,  4,  6, 17,  7,  7, 15,  6,  0,  1,  6,\n",
      "        14,  0,  5, 10,  6,  7,  8,  3,  6, 14])\n",
      "<class 'torch.Tensor'>\n",
      "\n",
      "Dataloader: valid\n",
      "=================\n",
      " \n",
      "Xs.shape=torch.Size([64, 270, 64]) torch.float32 ys.shape=torch.Size([64]) ys.dtype=torch.int64 ys=tensor([10,  9, 16,  1, 11,  0, 16,  4,  1, 12,  7,  3,  1, 11,  1, 14, 15,  4,\n",
      "         1,  1,  1,  5,  9,  6, 13,  6,  7,  7,  1,  6, 10,  4,  1,  0, 15,  3,\n",
      "        16, 17, 14,  8,  9, 14,  5,  0,  7, 15, 14,  4, 15,  7,  6,  5, 14,  0,\n",
      "         4,  4,  9, 14,  0, 14,  1,  3, 15, 14])\n"
     ]
    }
   ],
   "source": [
    "from torch.utils.data import TensorDataset, DataLoader\n",
    "from core_utilities import make_header\n",
    "from torch_dataloader import create_dataloader, summarize_dataloader, get_mixup_collate_fn\n",
    "\n",
    "train_loader = create_dataloader(\n",
    "    train_set,\n",
    "    train_config=train_config,\n",
    "    # collate_fn=get_mixup_collate_fn(\n",
    "    #     num_classes=model_config.out_channels,\n",
    "    #     items_to_mix=train_config.items_to_mix,\n",
    "    #     prob=train_config.mixup_prob,\n",
    "    #     mixup_num_samples=train_config.mixup_num_samples,\n",
    "    # )\n",
    ")\n",
    "valid_loader = create_dataloader(valid_set, train_config=valid_config)\n",
    "\n",
    "if 'info.dataloader.summary' in config.features:\n",
    "    summarize_dataloader('train', train_loader)\n",
    "    summarize_dataloader('valid', valid_loader)"
   ]
  },
  {
   "cell_type": "markdown",
   "id": "adcfabf0",
   "metadata": {
    "_cell_guid": "3580e539-7123-4c68-b157-74e08033d30d",
    "_uuid": "a44de60e-d0c9-46cd-a6d4-db017504cd5a",
    "collapsed": false,
    "jupyter": {
     "outputs_hidden": false
    },
    "papermill": {
     "duration": 0.008673,
     "end_time": "2025-08-20T10:29:30.290970",
     "exception": false,
     "start_time": "2025-08-20T10:29:30.282297",
     "status": "completed"
    },
    "tags": []
   },
   "source": [
    "## Training Loop"
   ]
  },
  {
   "cell_type": "code",
   "execution_count": 14,
   "id": "6a2341d0",
   "metadata": {
    "execution": {
     "iopub.execute_input": "2025-08-20T10:29:30.306785Z",
     "iopub.status.busy": "2025-08-20T10:29:30.306030Z",
     "iopub.status.idle": "2025-08-20T10:29:30.311587Z",
     "shell.execute_reply": "2025-08-20T10:29:30.311014Z"
    },
    "papermill": {
     "duration": 0.014587,
     "end_time": "2025-08-20T10:29:30.312605",
     "exception": false,
     "start_time": "2025-08-20T10:29:30.298018",
     "status": "completed"
    },
    "tags": []
   },
   "outputs": [],
   "source": [
    "import torch\n",
    "\n",
    "from pathlib import Path\n",
    "\n",
    "if 'checkpoint' in config.features:\n",
    "    ckpt_path = Path('/kaggle/input/cmi-behavior-detection-lstm-l/weights.pt')\n",
    "    print(f'Load:: {ckpt_path=}')\n",
    "    model.load_state_dict(\n",
    "        torch.load(\n",
    "            ckpt_path,\n",
    "            weights_only=True,\n",
    "            map_location=torch.device(config.device)\n",
    "        )\n",
    "    )"
   ]
  },
  {
   "cell_type": "code",
   "execution_count": 15,
   "id": "d8fe1da2",
   "metadata": {
    "_cell_guid": "e6553d1d-61cd-435f-9580-cd5e8bd7da1f",
    "_uuid": "a9c52fb9-91d3-4403-ac1a-57c9578fcbd7",
    "collapsed": false,
    "execution": {
     "iopub.execute_input": "2025-08-20T10:29:30.326906Z",
     "iopub.status.busy": "2025-08-20T10:29:30.326559Z",
     "iopub.status.idle": "2025-08-20T10:36:28.971303Z",
     "shell.execute_reply": "2025-08-20T10:36:28.970472Z"
    },
    "jupyter": {
     "outputs_hidden": false
    },
    "papermill": {
     "duration": 418.653222,
     "end_time": "2025-08-20T10:36:28.972571",
     "exception": false,
     "start_time": "2025-08-20T10:29:30.319349",
     "status": "completed"
    },
    "tags": []
   },
   "outputs": [
    {
     "name": "stderr",
     "output_type": "stream",
     "text": [
      "  0%|          | 1/200 [00:08<27:22,  8.25s/it, epoch=0, loss=2.44, lr=0.000700, mem=1.08 GB, step=25, train_acc=0.185, valid_acc=0.269, valid_loss=2.08]"
     ]
    },
    {
     "name": "stdout",
     "output_type": "stream",
     "text": [
      "Saving epoch=0 result=0.2691\n"
     ]
    },
    {
     "name": "stderr",
     "output_type": "stream",
     "text": [
      "  1%|          | 2/200 [00:16<26:31,  8.04s/it, epoch=1, loss=1.95, lr=0.000700, mem=1.08 GB, step=25, train_acc=0.333, valid_acc=0.359, valid_loss=1.78]"
     ]
    },
    {
     "name": "stdout",
     "output_type": "stream",
     "text": [
      "Saving epoch=1 result=0.3590\n"
     ]
    },
    {
     "name": "stderr",
     "output_type": "stream",
     "text": [
      "  2%|▏         | 3/200 [00:24<26:09,  7.97s/it, epoch=2, loss=1.73, lr=0.000700, mem=1.08 GB, step=25, train_acc=0.398, valid_acc=0.424, valid_loss=1.63]"
     ]
    },
    {
     "name": "stdout",
     "output_type": "stream",
     "text": [
      "Saving epoch=2 result=0.4241\n"
     ]
    },
    {
     "name": "stderr",
     "output_type": "stream",
     "text": [
      "  2%|▏         | 4/200 [00:31<25:54,  7.93s/it, epoch=3, loss=1.58, lr=0.000700, mem=1.08 GB, step=25, train_acc=0.445, valid_acc=0.46, valid_loss=1.52]"
     ]
    },
    {
     "name": "stdout",
     "output_type": "stream",
     "text": [
      "Saving epoch=3 result=0.4602\n"
     ]
    },
    {
     "name": "stderr",
     "output_type": "stream",
     "text": [
      "  2%|▎         | 5/200 [00:39<25:39,  7.90s/it, epoch=5, loss=1.4, lr=0.000700, mem=1.08 GB, step=0, train_acc=0.5]                                      "
     ]
    },
    {
     "name": "stdout",
     "output_type": "stream",
     "text": [
      "Saving epoch=4 result=0.4962\n"
     ]
    },
    {
     "name": "stderr",
     "output_type": "stream",
     "text": [
      "  3%|▎         | 6/200 [00:47<25:25,  7.87s/it, epoch=6, loss=1.25, lr=0.000700, mem=1.08 GB, step=0, train_acc=0.547]                                  "
     ]
    },
    {
     "name": "stdout",
     "output_type": "stream",
     "text": [
      "Saving epoch=5 result=0.5167\n"
     ]
    },
    {
     "name": "stderr",
     "output_type": "stream",
     "text": [
      "  4%|▎         | 7/200 [00:55<25:16,  7.86s/it, epoch=7, loss=1.24, lr=0.000700, mem=1.08 GB, step=0, train_acc=0.578]                                  "
     ]
    },
    {
     "name": "stdout",
     "output_type": "stream",
     "text": [
      "Saving epoch=6 result=0.5265\n"
     ]
    },
    {
     "name": "stderr",
     "output_type": "stream",
     "text": [
      "  4%|▍         | 8/200 [01:03<25:10,  7.87s/it, epoch=7, loss=1.22, lr=0.000700, mem=1.08 GB, step=25, train_acc=0.562, valid_acc=0.535, valid_loss=1.3]"
     ]
    },
    {
     "name": "stdout",
     "output_type": "stream",
     "text": [
      "Saving epoch=7 result=0.5348\n"
     ]
    },
    {
     "name": "stderr",
     "output_type": "stream",
     "text": [
      "  4%|▍         | 9/200 [01:11<25:03,  7.87s/it, epoch=8, loss=1.17, lr=0.000700, mem=1.08 GB, step=25, train_acc=0.582, valid_acc=0.562, valid_loss=1.22]"
     ]
    },
    {
     "name": "stdout",
     "output_type": "stream",
     "text": [
      "Saving epoch=8 result=0.5619\n"
     ]
    },
    {
     "name": "stderr",
     "output_type": "stream",
     "text": [
      "  6%|▌         | 11/200 [01:26<24:41,  7.84s/it, epoch=11, loss=1.06, lr=0.000700, mem=1.08 GB, step=0, train_acc=0.609]                                  "
     ]
    },
    {
     "name": "stdout",
     "output_type": "stream",
     "text": [
      "Saving epoch=10 result=0.5648\n"
     ]
    },
    {
     "name": "stderr",
     "output_type": "stream",
     "text": [
      "  6%|▌         | 12/200 [01:34<24:36,  7.85s/it, epoch=11, loss=1.05, lr=0.000700, mem=1.08 GB, step=25, train_acc=0.616, valid_acc=0.57, valid_loss=1.22]"
     ]
    },
    {
     "name": "stdout",
     "output_type": "stream",
     "text": [
      "Saving epoch=11 result=0.5696\n"
     ]
    },
    {
     "name": "stderr",
     "output_type": "stream",
     "text": [
      "  6%|▋         | 13/200 [01:42<24:29,  7.86s/it, epoch=13, loss=1.16, lr=0.000700, mem=1.08 GB, step=0, train_acc=0.578]                                   "
     ]
    },
    {
     "name": "stdout",
     "output_type": "stream",
     "text": [
      "Saving epoch=12 result=0.5836\n"
     ]
    },
    {
     "name": "stderr",
     "output_type": "stream",
     "text": [
      "  8%|▊         | 15/200 [01:58<24:11,  7.85s/it, epoch=14, loss=0.938, lr=0.000700, mem=1.08 GB, step=25, train_acc=0.657, valid_acc=0.603, valid_loss=1.13]"
     ]
    },
    {
     "name": "stdout",
     "output_type": "stream",
     "text": [
      "Saving epoch=14 result=0.6026\n"
     ]
    },
    {
     "name": "stderr",
     "output_type": "stream",
     "text": [
      "  9%|▉         | 18/200 [02:21<23:43,  7.82s/it, epoch=18, loss=0.788, lr=0.000455, mem=1.08 GB, step=0, train_acc=0.719]                                   "
     ]
    },
    {
     "name": "stdout",
     "output_type": "stream",
     "text": [
      "Saving epoch=17 result=0.6076\n"
     ]
    },
    {
     "name": "stderr",
     "output_type": "stream",
     "text": [
      " 10%|█         | 20/200 [02:37<23:24,  7.80s/it, epoch=20, loss=0.394, lr=0.000296, mem=1.08 GB, step=0, train_acc=0.891]                                   "
     ]
    },
    {
     "name": "stdout",
     "output_type": "stream",
     "text": [
      "Saving epoch=19 result=0.6147\n"
     ]
    },
    {
     "name": "stderr",
     "output_type": "stream",
     "text": [
      " 11%|█         | 22/200 [02:52<23:09,  7.81s/it, epoch=22, loss=0.478, lr=0.000192, mem=1.08 GB, step=0, train_acc=0.828]                                   "
     ]
    },
    {
     "name": "stdout",
     "output_type": "stream",
     "text": [
      "Saving epoch=21 result=0.6160\n"
     ]
    },
    {
     "name": "stderr",
     "output_type": "stream",
     "text": [
      " 12%|█▏        | 24/200 [03:08<22:51,  7.79s/it, epoch=23, loss=0.575, lr=0.000192, mem=1.08 GB, step=25, train_acc=0.801, valid_acc=0.621, valid_loss=1.14]"
     ]
    },
    {
     "name": "stdout",
     "output_type": "stream",
     "text": [
      "Saving epoch=23 result=0.6207\n"
     ]
    },
    {
     "name": "stderr",
     "output_type": "stream",
     "text": [
      " 13%|█▎        | 26/200 [03:23<22:38,  7.81s/it, epoch=26, loss=0.301, lr=0.000125, mem=1.08 GB, step=0, train_acc=0.875]                                 "
     ]
    },
    {
     "name": "stdout",
     "output_type": "stream",
     "text": [
      "Saving epoch=25 result=0.6208\n"
     ]
    },
    {
     "name": "stderr",
     "output_type": "stream",
     "text": [
      " 14%|█▍        | 29/200 [03:47<22:11,  7.79s/it, epoch=28, loss=0.457, lr=0.000100, mem=1.08 GB, step=25, train_acc=0.84, valid_acc=0.641, valid_loss=1.14]"
     ]
    },
    {
     "name": "stdout",
     "output_type": "stream",
     "text": [
      "Saving epoch=28 result=0.6407\n"
     ]
    },
    {
     "name": "stderr",
     "output_type": "stream",
     "text": [
      " 16%|█▋        | 33/200 [04:18<21:42,  7.80s/it, epoch=32, loss=0.432, lr=0.000100, mem=1.08 GB, step=25, train_acc=0.851, valid_acc=0.646, valid_loss=1.1]"
     ]
    },
    {
     "name": "stdout",
     "output_type": "stream",
     "text": [
      "Saving epoch=32 result=0.6459\n"
     ]
    },
    {
     "name": "stderr",
     "output_type": "stream",
     "text": [
      " 26%|██▌       | 52/200 [06:53<19:36,  7.95s/it, epoch=52, loss=0.27, lr=0.000100, mem=1.08 GB, step=25, train_acc=0.914, valid_acc=0.616, valid_loss=1.36]\n"
     ]
    },
    {
     "name": "stdout",
     "output_type": "stream",
     "text": [
      "Early stopping at epoch=52\n",
      "\n",
      "Training Metrics\n",
      "================\n",
      "\n",
      "loss:[2.4392439512645496, 1.9484337404662488, 1.7256229134166943, 1.5832769625327165, 1.4541407823562622, 1.3825439132896125, 1.2929249768163644, 1.2206327301614426, 1.1703111938401765, 1.14176050120709, 1.069662341300179, 1.0541070921748292, 1.0179878666120417, 0.9549136284519645, 0.9381960157085868, 0.9088777069951973, 0.8799694361639958, 0.8024245167479795, 0.7339039664058125, 0.677478387075312, 0.6636852779809166, 0.5927608363768634, 0.5741214968410193, 0.5754429727208381, 0.5287118489835777, 0.499867864391383, 0.496213656430151, 0.46795791036942425, 0.45658789545881984, 0.44354648712803335, 0.4381575733423233, 0.4275369427952112, 0.43244294194029825, 0.4132205859995356, 0.4103891919640934, 0.3884989629481353, 0.3799169658153665, 0.38616208848999994, 0.35917377428096886, 0.37568457249332876, 0.36514442224128574, 0.34524396397903856, 0.3480251631608196, 0.33235351682878006, 0.3297308212986179, 0.3177950620359066, 0.30659763018290204, 0.31404631000523475, 0.3013259740728958, 0.29437702236806645, 0.29745669283118903, 0.29242250717738094, 0.2700551578081122]\n",
      "train_acc:[0.18480829836106769, 0.3326549372252296, 0.39778098726973815, 0.44454656862745096, 0.48076418071400884, 0.5103947829966452, 0.5362613794266009, 0.5616903009952283, 0.5823047967518077, 0.5842524509803921, 0.6099877450980392, 0.6155024509803921, 0.6316088934739431, 0.6557466738364276, 0.6566001398890626, 0.6729254202515471, 0.6775866594969058, 0.7059042366111979, 0.734615721538955, 0.7540922620717216, 0.7568714986829197, 0.7930672268072764, 0.7993259803921569, 0.8005077032481923, 0.8083420869182137, 0.8276873248464921, 0.8282563026044883, 0.8369660365815256, 0.8396577379282784, 0.8479516804218292, 0.8466386555456648, 0.8498555673103706, 0.8511467085165136, 0.8625481444246629, 0.8590029764409158, 0.8694852941176471, 0.8688944326896294, 0.8656556372549019, 0.8806678921568627, 0.8721988797187805, 0.8787202379282784, 0.8836221987125921, 0.8832501751535079, 0.8883490895523745, 0.8895964634184744, 0.8964898457714155, 0.8989408261635724, 0.8933385856011334, 0.9011510856011334, 0.906490721538955, 0.9066001398890626, 0.9021139705882353, 0.9142156862745098]\n",
      "valid_loss:[2.0793648270460277, 1.7789991589692922, 1.6251093057485728, 1.51827878676928, 1.3851984097407415, 1.3136424605663006, 1.2976259589195251, 1.2966203574950879, 1.2152122465463786, 1.2707275564853961, 1.20618690435703, 1.2187080406225645, 1.1482979219693403, 1.208176633486381, 1.1265418644134815, 1.1892532270688276, 1.1816662504122808, 1.146504521369934, 1.134368678698173, 1.1415682549660022, 1.1841292931483343, 1.1347955006819506, 1.0993594091672163, 1.1355359966938312, 1.145351646038202, 1.145286853496845, 1.1676326050208166, 1.201067255093501, 1.143605385835354, 1.1836951329157903, 1.1624925824312062, 1.1806427400845747, 1.102346236889179, 1.1675106103603656, 1.1989781512663915, 1.2202123930821052, 1.204524122751676, 1.195830599619792, 1.229745204632099, 1.227709181033648, 1.2191106287332683, 1.2500102886786828, 1.2632045264427478, 1.2721767884034376, 1.2553994174187, 1.2461169774715717, 1.2048123891537006, 1.2881109141386473, 1.285252869129181, 1.3009771154477046, 1.3076916978909419, 1.30272910457391, 1.3568566464460814]\n",
      "valid_acc:[0.26905629611932314, 0.3590066685126378, 0.4240656013672168, 0.4602008370252756, 0.49618098598260146, 0.5167299933158435, 0.5265004657782041, 0.5348363828200561, 0.5618796520508252, 0.5504613828200561, 0.5648456880679498, 0.5695758370252756, 0.5835918119320502, 0.5734142363071442, 0.602589949965477, 0.5799084982046714, 0.5811879657782041, 0.6076302734705118, 0.5954947265294882, 0.6147254957602575, 0.5936918419141036, 0.616004962187547, 0.6147254957602575, 0.6207351111448728, 0.6184475811628195, 0.6207738828200561, 0.6038694163927665, 0.6178078468029315, 0.6407219286148365, 0.6238562350089734, 0.6202504657782041, 0.6251357014362628, 0.6459367240850742, 0.6345572265294882, 0.6261825366662099, 0.6245347398978013, 0.6262213083413931, 0.6329482014362628, 0.6315524188371805, 0.6219758058969791, 0.6329482014362628, 0.6280241929567777, 0.6322696965474349, 0.6225379957602575, 0.6261049933158435, 0.6206963394696896, 0.6418075366662099, 0.6261437649910266, 0.6327931135892868, 0.6304668119320502, 0.6299046209225287, 0.6298270775721624, 0.6158886471619973]\n",
      "Reload:: train_config.checkpoint=PosixPath('weights.pt')\n"
     ]
    }
   ],
   "source": [
    "from core_utilities import make_header\n",
    "from torch_trainer import Trainer\n",
    "\n",
    "if 'train' in config.features:\n",
    "    trainer = Trainer(\n",
    "        model,\n",
    "        train_config,\n",
    "        # class_weights=train_class_weights,\n",
    "        # batch_weights=True,\n",
    "    )\n",
    "    \n",
    "    metrics = trainer.fit(\n",
    "        train_loader,\n",
    "        valid_loader,\n",
    "        monitor='valid_acc',\n",
    "        mode='max',\n",
    "        # train_batch_fn=train_batch_turn_one_class_off_per_epoch\n",
    "        # train_batch_fn=get_train_batch_mixup_fn(train_config)\n",
    "    )\n",
    "\n",
    "    if 'train.metrics' in config.features:\n",
    "        print(make_header('Training Metrics'))\n",
    "        for k, v in metrics.items():\n",
    "            print(f'{k}:{v}')\n",
    "\n",
    "    if 'train.save.latest' in config.features:\n",
    "        print(f'Save latest model at:: {train_config.checkpoint=}')\n",
    "        torch.save(model.state_dict(), train_config.checkpoint)\n",
    "\n",
    "    ## Reload best model\n",
    "    print(f'Reload:: {train_config.checkpoint=}')\n",
    "    model.load_state_dict(\n",
    "        torch.load(\n",
    "            train_config.checkpoint,\n",
    "            weights_only=True,\n",
    "            map_location=torch.device(config.device)\n",
    "        )\n",
    "    )"
   ]
  },
  {
   "cell_type": "markdown",
   "id": "813bd2c2",
   "metadata": {
    "_cell_guid": "e3ee7d66-7da8-4c01-9e9d-a7f1b3bbc037",
    "_uuid": "407e2165-4819-4d5f-9ed4-411ad6e472f9",
    "collapsed": false,
    "jupyter": {
     "outputs_hidden": false
    },
    "papermill": {
     "duration": 0.273893,
     "end_time": "2025-08-20T10:36:29.574268",
     "exception": false,
     "start_time": "2025-08-20T10:36:29.300375",
     "status": "completed"
    },
    "tags": []
   },
   "source": [
    "## Evaluation"
   ]
  },
  {
   "cell_type": "code",
   "execution_count": 16,
   "id": "183e754d",
   "metadata": {
    "_cell_guid": "10160110-f23a-4347-a191-197858851281",
    "_uuid": "2710cf3e-ebd9-4384-a6ae-c3937894e738",
    "collapsed": false,
    "execution": {
     "iopub.execute_input": "2025-08-20T10:36:30.123579Z",
     "iopub.status.busy": "2025-08-20T10:36:30.123151Z",
     "iopub.status.idle": "2025-08-20T10:36:39.640495Z",
     "shell.execute_reply": "2025-08-20T10:36:39.639556Z"
    },
    "jupyter": {
     "outputs_hidden": false
    },
    "papermill": {
     "duration": 9.791745,
     "end_time": "2025-08-20T10:36:39.641692",
     "exception": false,
     "start_time": "2025-08-20T10:36:29.849947",
     "status": "completed"
    },
    "tags": []
   },
   "outputs": [
    {
     "name": "stderr",
     "output_type": "stream",
     "text": [
      "Prediction: 100%|██████████| 1631/1631 [00:07<00:00, 217.78it/s]\n"
     ]
    },
    {
     "data": {
      "image/png": "[encoded data removed]",
      "text/plain": [
       "<Figure size 640x480 with 2 Axes>"
      ]
     },
     "metadata": {},
     "output_type": "display_data"
    },
    {
     "data": {
      "text/html": [
       "<div>\n",
       "<style scoped>\n",
       "    .dataframe tbody tr th:only-of-type {\n",
       "        vertical-align: middle;\n",
       "    }\n",
       "\n",
       "    .dataframe tbody tr th {\n",
       "        vertical-align: top;\n",
       "    }\n",
       "\n",
       "    .dataframe thead th {\n",
       "        text-align: right;\n",
       "    }\n",
       "</style>\n",
       "<table border=\"1\" class=\"dataframe\">\n",
       "  <thead>\n",
       "    <tr style=\"text-align: right;\">\n",
       "      <th></th>\n",
       "      <th>Prediction</th>\n",
       "      <th>Target</th>\n",
       "    </tr>\n",
       "  </thead>\n",
       "  <tbody>\n",
       "    <tr>\n",
       "      <th>0</th>\n",
       "      <td>10</td>\n",
       "      <td>10</td>\n",
       "    </tr>\n",
       "    <tr>\n",
       "      <th>1</th>\n",
       "      <td>9</td>\n",
       "      <td>9</td>\n",
       "    </tr>\n",
       "    <tr>\n",
       "      <th>2</th>\n",
       "      <td>16</td>\n",
       "      <td>16</td>\n",
       "    </tr>\n",
       "    <tr>\n",
       "      <th>3</th>\n",
       "      <td>1</td>\n",
       "      <td>1</td>\n",
       "    </tr>\n",
       "    <tr>\n",
       "      <th>4</th>\n",
       "      <td>11</td>\n",
       "      <td>11</td>\n",
       "    </tr>\n",
       "    <tr>\n",
       "      <th>...</th>\n",
       "      <td>...</td>\n",
       "      <td>...</td>\n",
       "    </tr>\n",
       "    <tr>\n",
       "      <th>1626</th>\n",
       "      <td>14</td>\n",
       "      <td>14</td>\n",
       "    </tr>\n",
       "    <tr>\n",
       "      <th>1627</th>\n",
       "      <td>1</td>\n",
       "      <td>10</td>\n",
       "    </tr>\n",
       "    <tr>\n",
       "      <th>1628</th>\n",
       "      <td>0</td>\n",
       "      <td>0</td>\n",
       "    </tr>\n",
       "    <tr>\n",
       "      <th>1629</th>\n",
       "      <td>4</td>\n",
       "      <td>1</td>\n",
       "    </tr>\n",
       "    <tr>\n",
       "      <th>1630</th>\n",
       "      <td>11</td>\n",
       "      <td>17</td>\n",
       "    </tr>\n",
       "  </tbody>\n",
       "</table>\n",
       "<p>1631 rows × 2 columns</p>\n",
       "</div>"
      ],
      "text/plain": [
       "      Prediction  Target\n",
       "0             10      10\n",
       "1              9       9\n",
       "2             16      16\n",
       "3              1       1\n",
       "4             11      11\n",
       "...          ...     ...\n",
       "1626          14      14\n",
       "1627           1      10\n",
       "1628           0       0\n",
       "1629           4       1\n",
       "1630          11      17\n",
       "\n",
       "[1631 rows x 2 columns]"
      ]
     },
     "metadata": {},
     "output_type": "display_data"
    },
    {
     "name": "stdout",
     "output_type": "stream",
     "text": [
      "\n",
      "Valid Sliced\n",
      "============\n",
      "\n",
      "accuracy=0.7118332311465358\n"
     ]
    }
   ],
   "source": [
    "import pandas as pd\n",
    "\n",
    "from transforms import FixLength, Transpose, ToType, ToTensor, Resize, Clip\n",
    "from torch_evaluation import get_predict_fn, get_slices_fn, get_slices_predict_fn, evaluate_dataset\n",
    "from core_utilities import make_header\n",
    "\n",
    "if 'evaluation.valid.sliced' in config.features:\n",
    "    base_predict_fn = get_predict_fn(model, config.device)\n",
    "    slices_fn = get_slices_fn(\n",
    "        slice_dim=0,\n",
    "        slice_size=data_config.slice_len,\n",
    "        stride=16,\n",
    "        transforms=[Clip(limits=(-3.5, 2.5)), FixLength(data_config.sequence_len)]\n",
    "    )\n",
    "    predict_fn = get_slices_predict_fn(\n",
    "        base_predict_fn,\n",
    "        slices_fn,\n",
    "        transforms=[\n",
    "            Transpose(dims=(0, 2, 1)),\n",
    "            ToType(),\n",
    "            ToTensor(),\n",
    "        ])\n",
    "\n",
    "    # Create a dataset\n",
    "    dataset = CMIDataset(valid_X, valid_y, transforms=[])\n",
    "\n",
    "    # Compute predictions and overall accuracy\n",
    "    y_preds, ys = evaluate_dataset(dataset, predict_fn)\n",
    "    accuracy = (y_preds == ys).mean()\n",
    "\n",
    "    # Save predictions\n",
    "    df = pd.DataFrame(columns=['Prediction', 'Target'])\n",
    "    df['Prediction'] = y_preds\n",
    "    df['Target'] = ys\n",
    "    df.to_pickle('valid.sliced.predictions.pkl')\n",
    "    display(df)\n",
    "\n",
    "    print(make_header('Valid Sliced'))\n",
    "    print(f'{accuracy=}')"
   ]
  },
  {
   "cell_type": "code",
   "execution_count": 17,
   "id": "2e0acf8d",
   "metadata": {
    "execution": {
     "iopub.execute_input": "2025-08-20T10:36:40.273103Z",
     "iopub.status.busy": "2025-08-20T10:36:40.272347Z",
     "iopub.status.idle": "2025-08-20T10:36:40.279154Z",
     "shell.execute_reply": "2025-08-20T10:36:40.278572Z"
    },
    "papermill": {
     "duration": 0.354417,
     "end_time": "2025-08-20T10:36:40.280210",
     "exception": false,
     "start_time": "2025-08-20T10:36:39.925793",
     "status": "completed"
    },
    "tags": []
   },
   "outputs": [],
   "source": [
    "import pandas as pd\n",
    "\n",
    "from transforms import FixLength, Transpose, ToType, ToTensor, Resize, Clip\n",
    "from torch_evaluation import load_models, get_multi_predict_fn, get_slices_fn, get_slices_predict_fn, evaluate_dataset\n",
    "from core_utilities import make_header\n",
    "\n",
    "if 'evaluation.composite.sliced' in config.features:\n",
    "    # Model Weights\n",
    "    model_weights = {\n",
    "        'mixup': Path('/kaggle/input/cmi-behavior-detection-84/weights.pt'),\n",
    "        'hard-labels': Path('weights.pt'),\n",
    "    }\n",
    "    \n",
    "    # Load all models\n",
    "    models = load_models(model, model_weights, config.device)\n",
    "\n",
    "    # base_predict_fn = get_predict_fn(model, config.device)\n",
    "    base_predict_fn = get_multi_predict_fn(models, config.device)\n",
    "    slices_fn = get_slices_fn(\n",
    "        slice_dim=0,\n",
    "        slice_size=data_config.slice_len,\n",
    "        stride=16,\n",
    "        transforms=[Clip(limits=(-3.5, 2.5)), FixLength(data_config.sequence_len)]\n",
    "    )\n",
    "    predict_fn = get_slices_predict_fn(\n",
    "        base_predict_fn,\n",
    "        slices_fn,\n",
    "        transforms=[\n",
    "            Transpose(dims=(0, 2, 1)),\n",
    "            ToType(),\n",
    "            ToTensor(),\n",
    "        ])\n",
    "\n",
    "    # Create a dataset\n",
    "    dataset = CMIDataset(valid_X, valid_y, transforms=[])\n",
    "\n",
    "    # Compute predictions and overall accuracy\n",
    "    y_preds, ys = evaluate_dataset(dataset, predict_fn)\n",
    "    accuracy = (y_preds == ys).mean()\n",
    "\n",
    "    # Save predictions\n",
    "    df = pd.DataFrame(columns=['Prediction', 'Target'])\n",
    "    df['Prediction'] = y_preds\n",
    "    df['Target'] = ys\n",
    "    df.to_pickle('valid.sliced.predictions.pkl')\n",
    "    display(df)\n",
    "\n",
    "    print(make_header('Valid Sliced'))\n",
    "    print(f'{accuracy=}')"
   ]
  },
  {
   "cell_type": "code",
   "execution_count": 18,
   "id": "97ab3ef1",
   "metadata": {
    "_cell_guid": "67ecc4b9-5b8c-470e-b6db-b6a61475b7ea",
    "_uuid": "69b1d8e1-1630-44e5-ac59-545dc9363675",
    "collapsed": false,
    "execution": {
     "iopub.execute_input": "2025-08-20T10:36:40.828113Z",
     "iopub.status.busy": "2025-08-20T10:36:40.827410Z",
     "iopub.status.idle": "2025-08-20T10:36:48.136864Z",
     "shell.execute_reply": "2025-08-20T10:36:48.136081Z"
    },
    "jupyter": {
     "outputs_hidden": false
    },
    "papermill": {
     "duration": 7.583883,
     "end_time": "2025-08-20T10:36:48.138028",
     "exception": false,
     "start_time": "2025-08-20T10:36:40.554145",
     "status": "completed"
    },
    "tags": []
   },
   "outputs": [
    {
     "name": "stderr",
     "output_type": "stream",
     "text": [
      "Prediction: 100%|██████████| 1631/1631 [00:06<00:00, 249.81it/s]\n"
     ]
    },
    {
     "data": {
      "image/png": "[encoded data removed]",
      "text/plain": [
       "<Figure size 640x480 with 2 Axes>"
      ]
     },
     "metadata": {},
     "output_type": "display_data"
    },
    {
     "data": {
      "text/html": [
       "<div>\n",
       "<style scoped>\n",
       "    .dataframe tbody tr th:only-of-type {\n",
       "        vertical-align: middle;\n",
       "    }\n",
       "\n",
       "    .dataframe tbody tr th {\n",
       "        vertical-align: top;\n",
       "    }\n",
       "\n",
       "    .dataframe thead th {\n",
       "        text-align: right;\n",
       "    }\n",
       "</style>\n",
       "<table border=\"1\" class=\"dataframe\">\n",
       "  <thead>\n",
       "    <tr style=\"text-align: right;\">\n",
       "      <th></th>\n",
       "      <th>Prediction</th>\n",
       "      <th>Target</th>\n",
       "    </tr>\n",
       "  </thead>\n",
       "  <tbody>\n",
       "    <tr>\n",
       "      <th>0</th>\n",
       "      <td>10</td>\n",
       "      <td>10</td>\n",
       "    </tr>\n",
       "    <tr>\n",
       "      <th>1</th>\n",
       "      <td>1</td>\n",
       "      <td>9</td>\n",
       "    </tr>\n",
       "    <tr>\n",
       "      <th>2</th>\n",
       "      <td>16</td>\n",
       "      <td>16</td>\n",
       "    </tr>\n",
       "    <tr>\n",
       "      <th>3</th>\n",
       "      <td>1</td>\n",
       "      <td>1</td>\n",
       "    </tr>\n",
       "    <tr>\n",
       "      <th>4</th>\n",
       "      <td>11</td>\n",
       "      <td>11</td>\n",
       "    </tr>\n",
       "    <tr>\n",
       "      <th>...</th>\n",
       "      <td>...</td>\n",
       "      <td>...</td>\n",
       "    </tr>\n",
       "    <tr>\n",
       "      <th>1626</th>\n",
       "      <td>14</td>\n",
       "      <td>14</td>\n",
       "    </tr>\n",
       "    <tr>\n",
       "      <th>1627</th>\n",
       "      <td>10</td>\n",
       "      <td>10</td>\n",
       "    </tr>\n",
       "    <tr>\n",
       "      <th>1628</th>\n",
       "      <td>0</td>\n",
       "      <td>0</td>\n",
       "    </tr>\n",
       "    <tr>\n",
       "      <th>1629</th>\n",
       "      <td>4</td>\n",
       "      <td>1</td>\n",
       "    </tr>\n",
       "    <tr>\n",
       "      <th>1630</th>\n",
       "      <td>11</td>\n",
       "      <td>17</td>\n",
       "    </tr>\n",
       "  </tbody>\n",
       "</table>\n",
       "<p>1631 rows × 2 columns</p>\n",
       "</div>"
      ],
      "text/plain": [
       "      Prediction  Target\n",
       "0             10      10\n",
       "1              1       9\n",
       "2             16      16\n",
       "3              1       1\n",
       "4             11      11\n",
       "...          ...     ...\n",
       "1626          14      14\n",
       "1627          10      10\n",
       "1628           0       0\n",
       "1629           4       1\n",
       "1630          11      17\n",
       "\n",
       "[1631 rows x 2 columns]"
      ]
     },
     "metadata": {},
     "output_type": "display_data"
    },
    {
     "name": "stdout",
     "output_type": "stream",
     "text": [
      "\n",
      "Valid\n",
      "=====\n",
      "\n",
      "accuracy=0.6756591048436542\n"
     ]
    }
   ],
   "source": [
    "import pandas as pd\n",
    "\n",
    "from transforms import FixLength, Transpose, ToType, ToTensor, Resize, Clip\n",
    "from torch_evaluation import get_predict_fn, evaluate_dataset\n",
    "from core_utilities import make_header\n",
    "\n",
    "def Unsqueeze(dim=0):\n",
    "    def fn(X, y=None):\n",
    "        X = X.unsqueeze(dim)\n",
    "\n",
    "        return X if y is None else (X, y)\n",
    "\n",
    "    return fn\n",
    "\n",
    "if 'evaluation.valid' in config.features:\n",
    "    predict_fn = get_predict_fn(model, config.device)\n",
    "\n",
    "    # Create a dataset22\n",
    "    transforms = [\n",
    "        Clip(limits=(-3.5, 2.5)),\n",
    "        FixLength(data_config.sequence_len),\n",
    "        Transpose(),\n",
    "        ToType(),\n",
    "        ToTensor(),\n",
    "        Unsqueeze(),\n",
    "    ]\n",
    "    dataset = CMIDataset(valid_X, valid_y, transforms=transforms)\n",
    "\n",
    "    # Compute predictions and overall accuracy\n",
    "    y_preds, ys = evaluate_dataset(dataset, predict_fn)\n",
    "    accuracy = (y_preds == ys).mean()\n",
    "\n",
    "    # Save predictions\n",
    "    df = pd.DataFrame(columns=['Prediction', 'Target'])\n",
    "    df['Prediction'] = y_preds\n",
    "    df['Target'] = ys\n",
    "    df.to_pickle('valid.predictions.pkl')\n",
    "    display(df)\n",
    "    \n",
    "    print(make_header('Valid'))\n",
    "    print(f'{accuracy=}')\n",
    "\n",
    "# predict_fn = get_predict_fn(model, config)\n",
    "\n",
    "# torch.argmax(predict_fn(torch.tensor(valid_X[0].astype('float32')).unsqueeze(0).transpose(1, 2)))"
   ]
  },
  {
   "cell_type": "markdown",
   "id": "f72df868",
   "metadata": {
    "_cell_guid": "daea6713-827f-4552-88f9-34ae4e3d51fa",
    "_uuid": "3ed7d83c-403a-4b59-9956-57ac6fec074a",
    "collapsed": false,
    "jupyter": {
     "outputs_hidden": false
    },
    "papermill": {
     "duration": 0.277848,
     "end_time": "2025-08-20T10:36:48.750033",
     "exception": false,
     "start_time": "2025-08-20T10:36:48.472185",
     "status": "completed"
    },
    "tags": []
   },
   "source": [
    "# Competition Metrics\n",
    "\n",
    "* We use: https://www.kaggle.com/code/richolson/cmi-2025-metric-copy-for-import"
   ]
  },
  {
   "cell_type": "code",
   "execution_count": 19,
   "id": "18b645b9",
   "metadata": {
    "_cell_guid": "a4358841-bab8-495e-9200-c9c703f8e593",
    "_uuid": "5a0d5592-25ea-4205-9e0f-b11290f82182",
    "collapsed": false,
    "execution": {
     "iopub.execute_input": "2025-08-20T10:36:49.308071Z",
     "iopub.status.busy": "2025-08-20T10:36:49.307331Z",
     "iopub.status.idle": "2025-08-20T10:36:49.312191Z",
     "shell.execute_reply": "2025-08-20T10:36:49.311596Z"
    },
    "jupyter": {
     "outputs_hidden": false
    },
    "papermill": {
     "duration": 0.283277,
     "end_time": "2025-08-20T10:36:49.313299",
     "exception": false,
     "start_time": "2025-08-20T10:36:49.030022",
     "status": "completed"
    },
    "tags": []
   },
   "outputs": [],
   "source": [
    "import torch\n",
    "import pandas as pd\n",
    "\n",
    "def compute_gestures(dataset, classes, model, config):\n",
    "    # Compute predictions\n",
    "    y_probs, ys = get_predictions(\n",
    "        dataset, \n",
    "        predict_fn=get_predict_fn(model, config.device),\n",
    "        config=config\n",
    "    )\n",
    "    y_preds = torch.argmax(y_probs, dim=1).cpu().numpy()\n",
    "    gestures = pd.Series(y_preds).map(lambda c_idx: classes[c_idx])\n",
    "\n",
    "    return y_preds, gestures"
   ]
  },
  {
   "cell_type": "code",
   "execution_count": 20,
   "id": "db904556",
   "metadata": {
    "_cell_guid": "c474f3e9-a5fd-4526-a7e8-357865371194",
    "_uuid": "f4a83a5a-aaaf-4be0-b205-14d02ffbd03a",
    "collapsed": false,
    "execution": {
     "iopub.execute_input": "2025-08-20T10:36:49.936893Z",
     "iopub.status.busy": "2025-08-20T10:36:49.936629Z",
     "iopub.status.idle": "2025-08-20T10:36:49.959769Z",
     "shell.execute_reply": "2025-08-20T10:36:49.959209Z"
    },
    "jupyter": {
     "outputs_hidden": false
    },
    "papermill": {
     "duration": 0.309535,
     "end_time": "2025-08-20T10:36:49.961184",
     "exception": false,
     "start_time": "2025-08-20T10:36:49.651649",
     "status": "completed"
    },
    "tags": []
   },
   "outputs": [],
   "source": [
    "import pandas as pd\n",
    "\n",
    "from cmi_2025_metric_copy_for_import import CompetitionMetric\n",
    "from core_utilities import make_header\n",
    "\n",
    "def evaluate_valid_score(dataset, classes, model, config):\n",
    "    preds, preds_gestures = compute_gestures(dataset, classes, model, config)\n",
    "    y_gestures = pd.Series(y).map(lambda c_idx: classes[c_idx])\n",
    "    \n",
    "    submission = pd.DataFrame({'gesture': preds_gestures})\n",
    "    solution = pd.DataFrame({'gesture': y_gestures})\n",
    "    \n",
    "    # Run competition metric\n",
    "    metric = CompetitionMetric()\n",
    "    score = metric.calculate_hierarchical_f1(solution, submission)\n",
    "    print(f\"Estimated leaderboard score: {score:.4f}\")\n",
    "\n",
    "if 'competition.metrics.valid' in config.features:\n",
    "    print(make_header('Valid Gestures'))\n",
    "    evaluate_valid_score(valid_set, label_encoders[0].classes_, model, valid_config)"
   ]
  },
  {
   "cell_type": "markdown",
   "id": "13e909fb",
   "metadata": {
    "_cell_guid": "2c9f4946-6846-4dbd-9d09-fb23056e9886",
    "_uuid": "93c6582b-0895-4f81-825e-7722c0f459d1",
    "collapsed": false,
    "jupyter": {
     "outputs_hidden": false
    },
    "papermill": {
     "duration": 0.286231,
     "end_time": "2025-08-20T10:36:50.548846",
     "exception": false,
     "start_time": "2025-08-20T10:36:50.262615",
     "status": "completed"
    },
    "tags": []
   },
   "source": [
    "## Test"
   ]
  },
  {
   "cell_type": "code",
   "execution_count": 21,
   "id": "ed33363a",
   "metadata": {
    "execution": {
     "iopub.execute_input": "2025-08-20T10:36:51.175689Z",
     "iopub.status.busy": "2025-08-20T10:36:51.174869Z",
     "iopub.status.idle": "2025-08-20T10:36:51.181324Z",
     "shell.execute_reply": "2025-08-20T10:36:51.180770Z"
    },
    "papermill": {
     "duration": 0.296924,
     "end_time": "2025-08-20T10:36:51.182529",
     "exception": false,
     "start_time": "2025-08-20T10:36:50.885605",
     "status": "completed"
    },
    "tags": []
   },
   "outputs": [],
   "source": [
    "import numpy as np\n",
    "import pandas as pd\n",
    "\n",
    "from scipy.spatial.transform import Rotation as R\n",
    "\n",
    "def remove_gravity_from_acc(acc_values, quat_values):\n",
    "    # Some variables\n",
    "    num_samples = acc_values.shape[0]\n",
    "    linear_accel = np.zeros_like(acc_values)\n",
    "    gravity_world = np.array([0, 0, 9.81])\n",
    "\n",
    "    # Iterate over all the samples\n",
    "    for idx in range(num_samples):\n",
    "        ## Handle NaN and 0 cases\n",
    "        if np.all(np.isnan(quat_values[idx])) or np.allclose(quat_values[idx], 0):\n",
    "            linear_accel[idx, :] = acc_values[idx, :]\n",
    "        ## Handle valid rotation values cases\n",
    "        else:\n",
    "            try:\n",
    "                rotation = R.from_quat(quat_values[idx], scalar_first=True)\n",
    "                gravity_frame = rotation.apply(gravity_world, inverse=True)\n",
    "                linear_accel[idx, :] = acc_values[idx, :] - gravity_frame\n",
    "            except ValueError:\n",
    "                 linear_accel[idx, :] = acc_values[idx, :]\n",
    "    return linear_accel\n",
    "\n",
    "def get_linear_acc(data, config):\n",
    "    # Get acceleration and rotation values\n",
    "    acc_values = data[config.columns('acc')].values\n",
    "    rot_values = data[config.columns('rot')].values\n",
    "    \n",
    "    # Compute linear acceleration values\n",
    "    linear_acc_values = remove_gravity_from_acc(acc_values, rot_values)\n",
    "\n",
    "    return linear_acc_values"
   ]
  },
  {
   "cell_type": "code",
   "execution_count": 22,
   "id": "52dea22b",
   "metadata": {
    "execution": {
     "iopub.execute_input": "2025-08-20T10:36:51.818876Z",
     "iopub.status.busy": "2025-08-20T10:36:51.818590Z",
     "iopub.status.idle": "2025-08-20T10:36:51.825826Z",
     "shell.execute_reply": "2025-08-20T10:36:51.825257Z"
    },
    "papermill": {
     "duration": 0.358111,
     "end_time": "2025-08-20T10:36:51.826872",
     "exception": false,
     "start_time": "2025-08-20T10:36:51.468761",
     "status": "completed"
    },
    "tags": []
   },
   "outputs": [],
   "source": [
    "import warnings\n",
    "import numpy as np\n",
    "import pandas as pd\n",
    "\n",
    "from sklearn.preprocessing import StandardScaler\n",
    "from scipy.signal import savgol_filter\n",
    "\n",
    "def get_sequence_prep_fn(config, data_config, sm_window=None):\n",
    "    def fn(sequence_data):\n",
    "        ## Placeholder for data\n",
    "        # data = sequence_data[sequence_data.columns]\n",
    "        data = sequence_data[data_config.sequence_columns()].copy()\n",
    "\n",
    "        ## Fix tof data\n",
    "        if data_config.columns('tof'):\n",
    "            ### Get tof_columns values\n",
    "            tof_values = data[data_config.columns('tof')].values\n",
    "\n",
    "            ### Replace -1 with NaN\n",
    "            tof_values[tof_values == -1.] = np.nan\n",
    "\n",
    "            ### Compute mean of tof_columns while skipping NaNs\n",
    "            with warnings.catch_warnings():\n",
    "                warnings.simplefilter(\"ignore\", category=RuntimeWarning)\n",
    "                tof_mean = np.nan_to_num(np.nanmean(tof_values, axis=0))\n",
    "\n",
    "            ### Replace NaN with means\n",
    "            tof_values = np.where(np.isnan(tof_values), tof_mean, tof_values)\n",
    "\n",
    "            ### Update the DataFrame\n",
    "            data[data_config.columns('tof')] = tof_values\n",
    "\n",
    "        if any(feature in config.features for feature in ['data.linear_acc', 'data.linear_acc.overwrite']):\n",
    "        # if 'data.linear_acc' in config.features:\n",
    "            linear_acc = pd.DataFrame(\n",
    "                get_linear_acc(data, data_config),\n",
    "                columns=data_config.columns('linear_acc'),\n",
    "                index=data.index,\n",
    "            )\n",
    "\n",
    "            if 'data.linear_acc.overwrite' in config.features:\n",
    "                data[data_config.columns('acc')] = linear_acc\n",
    "            else:\n",
    "                # print(data.shape, linear_acc.shape)\n",
    "                # display(data), display(linear_acc)\n",
    "                data = pd.concat([data, linear_acc], axis=1)\n",
    "                # display(data)\n",
    "                # print(f'After concat:: {data.shape=}')\n",
    "\n",
    "        ### Fill NaN with the mean value\n",
    "        means = data.mean().fillna(0)\n",
    "        data = data.ffill().bfill().fillna(means.to_dict())\n",
    "        \n",
    "        ## Data scaling\n",
    "        data = StandardScaler().fit_transform(data)\n",
    "\n",
    "        ## Data smoothening\n",
    "        if sm_window:\n",
    "            data = savgol_filter(data, sm_window, 3, axis=0)\n",
    "        \n",
    "        return data\n",
    "\n",
    "    return fn"
   ]
  },
  {
   "cell_type": "code",
   "execution_count": 23,
   "id": "8019d550",
   "metadata": {
    "_cell_guid": "e6d08b84-5c7e-4aa0-8f55-1b774a210e52",
    "_uuid": "ce6dbbff-eb5f-47c6-9be2-a1978d7709d5",
    "collapsed": false,
    "execution": {
     "iopub.execute_input": "2025-08-20T10:36:52.395478Z",
     "iopub.status.busy": "2025-08-20T10:36:52.395200Z",
     "iopub.status.idle": "2025-08-20T10:36:54.779165Z",
     "shell.execute_reply": "2025-08-20T10:36:54.778463Z"
    },
    "jupyter": {
     "outputs_hidden": false
    },
    "papermill": {
     "duration": 2.669928,
     "end_time": "2025-08-20T10:36:54.780296",
     "exception": false,
     "start_time": "2025-08-20T10:36:52.110368",
     "status": "completed"
    },
    "tags": []
   },
   "outputs": [
    {
     "data": {
      "text/html": [
       "<div>\n",
       "<style scoped>\n",
       "    .dataframe tbody tr th:only-of-type {\n",
       "        vertical-align: middle;\n",
       "    }\n",
       "\n",
       "    .dataframe tbody tr th {\n",
       "        vertical-align: top;\n",
       "    }\n",
       "\n",
       "    .dataframe thead th {\n",
       "        text-align: right;\n",
       "    }\n",
       "</style>\n",
       "<table border=\"1\" class=\"dataframe\">\n",
       "  <thead>\n",
       "    <tr style=\"text-align: right;\">\n",
       "      <th></th>\n",
       "      <th>sequence_id</th>\n",
       "      <th>gesture</th>\n",
       "    </tr>\n",
       "  </thead>\n",
       "  <tbody>\n",
       "    <tr>\n",
       "      <th>0</th>\n",
       "      <td>SEQ_000001</td>\n",
       "      <td>Neck - scratch</td>\n",
       "    </tr>\n",
       "    <tr>\n",
       "      <th>1</th>\n",
       "      <td>SEQ_000011</td>\n",
       "      <td>Eyelash - pull hair</td>\n",
       "    </tr>\n",
       "  </tbody>\n",
       "</table>\n",
       "</div>"
      ],
      "text/plain": [
       "  sequence_id              gesture\n",
       "0  SEQ_000001       Neck - scratch\n",
       "1  SEQ_000011  Eyelash - pull hair"
      ]
     },
     "metadata": {},
     "output_type": "display_data"
    }
   ],
   "source": [
    "import os\n",
    "import torch\n",
    "import kaggle_evaluation.cmi_inference_server\n",
    "\n",
    "import polars as pl\n",
    "import pandas as pd\n",
    "\n",
    "from transforms import FixLength, Transpose, ToType, ToTensor, Resize, Clip\n",
    "from torch_evaluation import get_predict_fn, get_slices_fn, get_slices_predict_fn\n",
    "from core_utilities import make_header\n",
    "\n",
    "# Sequence Builder\n",
    "test_sequence_prep_fn = get_sequence_prep_fn(config, data_config)\n",
    "\n",
    "# Class names\n",
    "class_names = load_pkl(config.data_root / 'class_names.pkl')\n",
    "\n",
    "# Multi-slice test transforms\n",
    "base_predict_fn = get_predict_fn(model, config.device)\n",
    "slices_fn = get_slices_fn(\n",
    "    slice_dim=0,\n",
    "    slice_size=data_config.slice_len,\n",
    "    stride=16,\n",
    "    transforms=[Clip(limits=(-3.5, 2.5)), FixLength(data_config.sequence_len)]\n",
    ")\n",
    "\n",
    "predict_fn = get_slices_predict_fn(\n",
    "    base_predict_fn,\n",
    "    slices_fn,\n",
    "    transforms=[\n",
    "        Transpose(dims=(0, 2, 1)),\n",
    "        ToType(),\n",
    "        ToTensor(),\n",
    "    ])\n",
    "\n",
    "@torch.inference_mode()\n",
    "def predict(sequence: pl.DataFrame, demographics: pl.DataFrame) -> str:\n",
    "    ## Convert daa\n",
    "    data = sequence.to_pandas()[data_config.columns(['metadata', 'acc', 'rot', 'thm', 'tof'])]\n",
    "    demographics_data = demographics.to_pandas()[data_config.columns(['metadata_d', 'd'])]\n",
    "    \n",
    "    selection = data_config.sequence_columns()\n",
    "    data = pd.merge(data, demographics_data, on='subject')[selection]\n",
    "\n",
    "    ## Normalize\n",
    "    X = test_sequence_prep_fn(data)\n",
    "\n",
    "    ## Compute probabilities\n",
    "    probs = predict_fn(X)\n",
    "\n",
    "    ## Compute predicted class\n",
    "    y_label = np.squeeze(torch.argmax(probs, dim=1).cpu().numpy())\n",
    "\n",
    "    ## Compute gesture\n",
    "    gesture = class_names[y_label]\n",
    "\n",
    "    return gesture\n",
    "\n",
    "if 'competition.metrics.test' in config.features:\n",
    "    inference_server = kaggle_evaluation.cmi_inference_server.CMIInferenceServer(predict)\n",
    "\n",
    "    if os.getenv('KAGGLE_IS_COMPETITION_RERUN'):\n",
    "        inference_server.serve()\n",
    "    else:\n",
    "        inference_server.run_local_gateway(\n",
    "            data_paths=(\n",
    "                '/kaggle/input/cmi-detect-behavior-with-sensor-data/test.csv',\n",
    "                '/kaggle/input/cmi-detect-behavior-with-sensor-data/test_demographics.csv',\n",
    "            )\n",
    "        )\n",
    "        display(pd.read_parquet('submission.parquet'))\n",
    "    \n",
    "# if 'competition.metrics.test' in config.features:\n",
    "#     print(make_header('Valid Gestures'))\n",
    "#     evaluate_score(X_test, None, label_encoders[0].classes_, model, valid_config)"
   ]
  }
 ],
 "metadata": {
  "kaggle": {
   "accelerator": "none",
   "dataSources": [
    {
     "databundleVersionId": 12518947,
     "sourceId": 102335,
     "sourceType": "competition"
    },
    {
     "databundleVersionId": 13322897,
     "datasetId": 8013230,
     "sourceId": 12709968,
     "sourceType": "datasetVersion"
    },
    {
     "sourceId": 242954653,
     "sourceType": "kernelVersion"
    },
    {
     "sourceId": 254765745,
     "sourceType": "kernelVersion"
    },
    {
     "sourceId": 254773128,
     "sourceType": "kernelVersion"
    },
    {
     "sourceId": 254975243,
     "sourceType": "kernelVersion"
    },
    {
     "sourceId": 255778641,
     "sourceType": "kernelVersion"
    },
    {
     "sourceId": 256260848,
     "sourceType": "kernelVersion"
    },
    {
     "sourceId": 256586827,
     "sourceType": "kernelVersion"
    },
    {
     "sourceId": 257054616,
     "sourceType": "kernelVersion"
    },
    {
     "sourceId": 257055511,
     "sourceType": "kernelVersion"
    }
   ],
   "dockerImageVersionId": 31090,
   "isGpuEnabled": false,
   "isInternetEnabled": true,
   "language": "python",
   "sourceType": "notebook"
  },
  "kernelspec": {
   "display_name": "Python 3",
   "language": "python",
   "name": "python3"
  },
  "language_info": {
   "codemirror_mode": {
    "name": "ipython",
    "version": 3
   },
   "file_extension": ".py",
   "mimetype": "text/x-python",
   "name": "python",
   "nbconvert_exporter": "python",
   "pygments_lexer": "ipython3",
   "version": "3.11.13"
  },
  "papermill": {
   "default_parameters": {},
   "duration": 471.165568,
   "end_time": "2025-08-20T10:36:57.885841",
   "environment_variables": {},
   "exception": null,
   "input_path": "__notebook__.ipynb",
   "output_path": "__notebook__.ipynb",
   "parameters": {},
   "start_time": "2025-08-20T10:29:06.720273",
   "version": "2.6.0"
  }
 },
 "nbformat": 4,
 "nbformat_minor": 5
}
