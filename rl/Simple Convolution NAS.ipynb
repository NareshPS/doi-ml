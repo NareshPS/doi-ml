{
 "cells": [
  {
   "cell_type": "code",
   "execution_count": 10,
   "metadata": {},
   "outputs": [],
   "source": [
    "%%capture\n",
    "import random\n",
    "\n",
    "import matplotlib.pyplot as plt\n",
    "import numpy as np\n",
    "import tensorflow as tf\n",
    "import tensorflow.keras as keras\n",
    "import tensorflow_addons as tfa\n",
    "import tensorflow_datasets as tfds\n",
    "import pandas as pd\n",
    "\n",
    "from tensorflow.keras import layers, optimizers\n",
    "from collections import deque\n",
    "from matplotlib.ticker import MaxNLocator\n",
    "\n",
    "SEED = 111\n",
    "\n",
    "tf.random.set_seed(SEED)\n",
    "np.random.seed(SEED)\n",
    "random.seed(SEED)"
   ]
  },
  {
   "cell_type": "code",
   "execution_count": 16,
   "metadata": {},
   "outputs": [
    {
     "name": "stderr",
     "output_type": "stream",
     "text": [
      "2022-10-13 14:20:46.379058: W tensorflow/core/kernels/data/cache_dataset_ops.cc:768] The calling iterator did not fully read the dataset being cached. In order to avoid unexpected truncation of the dataset, the partially cached contents of the dataset  will be discarded. This can happen if you have an input pipeline similar to `dataset.cache().take(k).repeat()`. You should use `dataset.take(k).cache().repeat()` instead.\n"
     ]
    },
    {
     "data": {
      "text/plain": [
       "(32, 32, 3)"
      ]
     },
     "execution_count": 16,
     "metadata": {},
     "output_type": "execute_result"
    }
   ],
   "source": [
    "# DATASET = 'mnist'\n",
    "DATASET = 'cifar10'\n",
    "\n",
    "if DATASET == 'mnist':\n",
    "    DATASET_PARAMS = dict(\n",
    "        input_shape=(28, 28, 3),\n",
    "        n_classes=10,\n",
    "        baseline_accuracy=.3,\n",
    "        n_layers=2\n",
    "    )\n",
    "\n",
    "    train_ds, val_ds = tfds.load(\n",
    "        DATASET,\n",
    "        split=['train[:20%]', 'train[80%:]'],\n",
    "        as_supervised=True\n",
    "    )\n",
    "\n",
    "    gray_to_rgb = lambda image, label: (tf.repeat(image, 3, axis=-1), label)\n",
    "    train_ds = train_ds.map(gray_to_rgb)\n",
    "    val_ds = val_ds.map(gray_to_rgb)\n",
    "elif DATASET == 'cifar10':\n",
    "    DATASET_PARAMS = dict(\n",
    "        input_shape=(32, 32, 3),\n",
    "        n_classes=10,\n",
    "        baseline_accuracy=.1,\n",
    "        n_layers=3\n",
    "    )\n",
    "\n",
    "    train_ds, val_ds = tfds.load(\n",
    "        DATASET,\n",
    "        split=['train[:10%]', 'train[90%:]'],\n",
    "        as_supervised=True\n",
    "    )\n",
    "\n",
    "# next(train_ds.as_numpy_iterator())[0].shape\n",
    "# gray_item, rgb_item = next(train_ds.as_numpy_iterator()), next(ds.as_numpy_iterator())\n",
    "# gray_image, rgb_image = gray_item[0], rgb_item[0]\n",
    "# gray_image[row][col], rgb_image[row][col]\n",
    "\n",
    "# (image,_), (rgb_item,_) = next(train_ds.as_numpy_iterator()), next(ds.as_numpy_iterator())\n",
    "\n",
    "# gray_item"
   ]
  },
  {
   "cell_type": "code",
   "execution_count": 17,
   "metadata": {},
   "outputs": [
    {
     "name": "stdout",
     "output_type": "stream",
     "text": [
      "Model: \"model_3\"\n",
      "__________________________________________________________________________________________________\n",
      " Layer (type)                   Output Shape         Param #     Connected to                     \n",
      "==================================================================================================\n",
      " input_19 (InputLayer)          [(None,)]            0           []                               \n",
      "                                                                                                  \n",
      " embedding_3 (Embedding)        (None, 32)           96          ['input_19[0][0]']               \n",
      "                                                                                                  \n",
      " nas_cell_3 (NASCell)           ((None, 32),         16384       ['embedding_3[0][0]',            \n",
      "                                 [(None, 32),                     'nas_cell_3[0][0]',             \n",
      "                                 (None, 32)])                     'nas_cell_3[0][1]',             \n",
      "                                                                  'nas_cell_3[0][2]',             \n",
      "                                                                  'nas_cell_3[1][0]',             \n",
      "                                                                  'nas_cell_3[1][1]',             \n",
      "                                                                  'nas_cell_3[1][2]',             \n",
      "                                                                  'nas_cell_3[2][0]',             \n",
      "                                                                  'nas_cell_3[2][1]',             \n",
      "                                                                  'nas_cell_3[2][2]',             \n",
      "                                                                  'nas_cell_3[3][0]',             \n",
      "                                                                  'nas_cell_3[3][1]',             \n",
      "                                                                  'nas_cell_3[3][2]',             \n",
      "                                                                  'nas_cell_3[4][0]',             \n",
      "                                                                  'nas_cell_3[4][1]',             \n",
      "                                                                  'nas_cell_3[4][2]']             \n",
      "                                                                                                  \n",
      " dense_29 (Dense)               (None, 3)            99          ['nas_cell_3[0][0]']             \n",
      "                                                                                                  \n",
      " dense_30 (Dense)               (None, 2)            66          ['nas_cell_3[1][0]']             \n",
      "                                                                                                  \n",
      " dense_31 (Dense)               (None, 3)            99          ['nas_cell_3[2][0]']             \n",
      "                                                                                                  \n",
      " dense_32 (Dense)               (None, 2)            66          ['nas_cell_3[3][0]']             \n",
      "                                                                                                  \n",
      " dense_33 (Dense)               (None, 3)            99          ['nas_cell_3[4][0]']             \n",
      "                                                                                                  \n",
      " dense_34 (Dense)               (None, 2)            66          ['nas_cell_3[5][0]']             \n",
      "                                                                                                  \n",
      "==================================================================================================\n",
      "Total params: 16,975\n",
      "Trainable params: 16,975\n",
      "Non-trainable params: 0\n",
      "__________________________________________________________________________________________________\n",
      "Random Predictions: [2, 0, 1, 0, 1, 1]\n",
      "Episode: 0 Child Config: [(64, 1), (32, 1), (32, 3)]\n"
     ]
    },
    {
     "name": "stderr",
     "output_type": "stream",
     "text": [
      "2022-10-13 14:20:52.744103: I tensorflow/core/grappler/optimizers/custom_graph_optimizer_registry.cc:113] Plugin optimizer for device_type GPU is enabled.\n"
     ]
    },
    {
     "name": "stdout",
     "output_type": "stream",
     "text": [
      "40/40 [==============================] - ETA: 0s - loss: 9.5759 - accuracy: 0.1104"
     ]
    },
    {
     "name": "stderr",
     "output_type": "stream",
     "text": [
      "2022-10-13 14:20:53.930705: I tensorflow/core/grappler/optimizers/custom_graph_optimizer_registry.cc:113] Plugin optimizer for device_type GPU is enabled.\n"
     ]
    },
    {
     "name": "stdout",
     "output_type": "stream",
     "text": [
      "40/40 [==============================] - 2s 38ms/step - loss: 9.5759 - accuracy: 0.1104 - val_loss: 2.3282 - val_accuracy: 0.1118\n",
      "Episode: 0 Reward: 0.0059000037610530826 Accuracy: 0.11180000752210617\n",
      "Start State: array([2])\n",
      "Random Predictions: [0, 1, 0, 0, 2, 0]\n",
      "Episode: 1 Child Config: [(16, 3), (16, 1), (64, 1)]\n",
      " 1/40 [..............................] - ETA: 12s - loss: 27.3196 - accuracy: 0.1094"
     ]
    },
    {
     "name": "stderr",
     "output_type": "stream",
     "text": [
      "2022-10-13 14:20:54.736075: I tensorflow/core/grappler/optimizers/custom_graph_optimizer_registry.cc:113] Plugin optimizer for device_type GPU is enabled.\n"
     ]
    },
    {
     "name": "stdout",
     "output_type": "stream",
     "text": [
      "40/40 [==============================] - ETA: 0s - loss: 9.1755 - accuracy: 0.1216"
     ]
    },
    {
     "name": "stderr",
     "output_type": "stream",
     "text": [
      "2022-10-13 14:20:55.526823: I tensorflow/core/grappler/optimizers/custom_graph_optimizer_registry.cc:113] Plugin optimizer for device_type GPU is enabled.\n"
     ]
    },
    {
     "name": "stdout",
     "output_type": "stream",
     "text": [
      "40/40 [==============================] - 1s 21ms/step - loss: 9.1755 - accuracy: 0.1216 - val_loss: 4.2905 - val_accuracy: 0.1650\n",
      "Episode: 1 Reward: 0.03940000186363857 Accuracy: 0.16500000655651093\n",
      "Start State: array([0])\n",
      "Random Predictions: [1, 1, 2, 1, 1, 1]\n",
      "Episode: 2 Child Config: [(32, 3), (64, 3), (32, 3)]\n",
      " 1/40 [..............................] - ETA: 12s - loss: 32.8968 - accuracy: 0.0625"
     ]
    },
    {
     "name": "stderr",
     "output_type": "stream",
     "text": [
      "2022-10-13 14:20:55.989630: I tensorflow/core/grappler/optimizers/custom_graph_optimizer_registry.cc:113] Plugin optimizer for device_type GPU is enabled.\n"
     ]
    },
    {
     "name": "stdout",
     "output_type": "stream",
     "text": [
      "40/40 [==============================] - ETA: 0s - loss: 6.3261 - accuracy: 0.1346"
     ]
    },
    {
     "name": "stderr",
     "output_type": "stream",
     "text": [
      "2022-10-13 14:20:56.876262: I tensorflow/core/grappler/optimizers/custom_graph_optimizer_registry.cc:113] Plugin optimizer for device_type GPU is enabled.\n"
     ]
    },
    {
     "name": "stdout",
     "output_type": "stream",
     "text": [
      "40/40 [==============================] - 1s 26ms/step - loss: 6.3261 - accuracy: 0.1346 - val_loss: 2.5394 - val_accuracy: 0.1722\n",
      "Episode: 2 Reward: 0.03495000340044499 Accuracy: 0.172200009226799\n",
      "Start State: array([1])\n",
      "Random Predictions: [2, 0, 2, 0, 0, 0]\n",
      "Episode: 3 Child Config: [(64, 1), (64, 1), (16, 1)]\n"
     ]
    },
    {
     "name": "stderr",
     "output_type": "stream",
     "text": [
      "2022-10-13 14:20:57.432200: I tensorflow/core/grappler/optimizers/custom_graph_optimizer_registry.cc:113] Plugin optimizer for device_type GPU is enabled.\n"
     ]
    },
    {
     "name": "stdout",
     "output_type": "stream",
     "text": [
      "40/40 [==============================] - ETA: 0s - loss: 11.8864 - accuracy: 0.1134"
     ]
    },
    {
     "name": "stderr",
     "output_type": "stream",
     "text": [
      "2022-10-13 14:20:58.584635: I tensorflow/core/grappler/optimizers/custom_graph_optimizer_registry.cc:113] Plugin optimizer for device_type GPU is enabled.\n"
     ]
    },
    {
     "name": "stdout",
     "output_type": "stream",
     "text": [
      "40/40 [==============================] - 2s 34ms/step - loss: 11.8864 - accuracy: 0.1134 - val_loss: 2.3264 - val_accuracy: 0.0958\n",
      "Episode: 3 Reward: -0.03316000074148179 Accuracy: 0.0958000048995018\n",
      "Start State: array([2])\n",
      "Random Predictions: [1, 1, 2, 0, 1, 0]\n",
      "Episode: 4 Child Config: [(32, 3), (64, 1), (32, 1)]\n",
      " 4/40 [==>...........................] - ETA: 0s - loss: 28.5645 - accuracy: 0.1191 "
     ]
    },
    {
     "name": "stderr",
     "output_type": "stream",
     "text": [
      "2022-10-13 14:20:59.258399: I tensorflow/core/grappler/optimizers/custom_graph_optimizer_registry.cc:113] Plugin optimizer for device_type GPU is enabled.\n"
     ]
    },
    {
     "name": "stdout",
     "output_type": "stream",
     "text": [
      "40/40 [==============================] - ETA: 0s - loss: 9.1289 - accuracy: 0.1262"
     ]
    },
    {
     "name": "stderr",
     "output_type": "stream",
     "text": [
      "2022-10-13 14:21:00.128692: I tensorflow/core/grappler/optimizers/custom_graph_optimizer_registry.cc:113] Plugin optimizer for device_type GPU is enabled.\n"
     ]
    },
    {
     "name": "stdout",
     "output_type": "stream",
     "text": [
      "40/40 [==============================] - 1s 26ms/step - loss: 9.1289 - accuracy: 0.1262 - val_loss: 3.2534 - val_accuracy: 0.1530\n",
      "Episode: 4 Reward: 0.020033338665962214 Accuracy: 0.15300001204013824\n",
      "Start State: array([1])\n"
     ]
    }
   ],
   "source": [
    "CHILD_PARAMS = dict(\n",
    "    epochs=1,\n",
    "    batch_size=128,\n",
    "    learning_rate=0.001,\n",
    "    train_ds=train_ds,\n",
    "    val_ds=val_ds,\n",
    "    rolling_accuracies_window=20,\n",
    ")\n",
    "\n",
    "class ChildManager():\n",
    "    def __init__(self):\n",
    "        self.tds = CHILD_PARAMS['train_ds'].shuffle(\n",
    "            500,\n",
    "            reshuffle_each_iteration=True\n",
    "        ).batch(CHILD_PARAMS['batch_size'])\n",
    "        self.vds = CHILD_PARAMS['val_ds'].batch(256)\n",
    "\n",
    "        self.past_accuracies = deque(maxlen=CHILD_PARAMS['rolling_accuracies_window'])\n",
    "        self.past_accuracies.append(DATASET_PARAMS['baseline_accuracy'])\n",
    "\n",
    "    def make_child(self, config):\n",
    "        \"\"\"\n",
    "        Arguments:\n",
    "            config: It is an ordered list of tuples.\n",
    "                    Each tuple contains configuration for constructing a CNN layer.\n",
    "\n",
    "        Returns:\n",
    "            model: A CNN model with the layers laid out based on the input config.\n",
    "        \"\"\"\n",
    "        model = tf.keras.Sequential()\n",
    "        model.add(tf.keras.Input(shape=DATASET_PARAMS['input_shape'], dtype=tf.float32))\n",
    "\n",
    "        for idx, (channels, kernel) in enumerate(config):\n",
    "            model.add(layers.Conv2D(channels, kernel, name='conv_%d'%(idx)))\n",
    "            model.add(layers.MaxPool2D(2))\n",
    "            model.add(layers.Activation('relu'))\n",
    "        \n",
    "        model.add(layers.Flatten())\n",
    "        model.add(layers.Dense(DATASET_PARAMS['n_classes'], activation='softmax'))\n",
    "\n",
    "        optimizer = optimizers.Adam(learning_rate=CHILD_PARAMS['learning_rate'])\n",
    "        model.compile(\n",
    "            optimizer=optimizer,\n",
    "            loss='sparse_categorical_crossentropy',\n",
    "            metrics='accuracy'\n",
    "        )\n",
    "\n",
    "        return model\n",
    "    \n",
    "    def train(self, model):\n",
    "        history = model.fit(self.tds, validation_data=self.vds, epochs=CHILD_PARAMS['epochs'])\n",
    "        accuracy = max(history.history['val_accuracy'])\n",
    "\n",
    "        return accuracy\n",
    "    \n",
    "    def get_rewards(self, config):\n",
    "        model = self.make_child(config)\n",
    "        accuracy = self.train(model)\n",
    "\n",
    "        self.past_accuracies.append(accuracy)\n",
    "        rolling_accuracy = (sum(self.past_accuracies)/len(self.past_accuracies))\n",
    "        reward = accuracy - rolling_accuracy\n",
    "\n",
    "        return reward, accuracy\n",
    "\n",
    "STATE_SPACE = [\n",
    "    dict(name='channels', values=[16, 32, 64]),\n",
    "    dict(name='kernel', values=[1, 3]),\n",
    "]\n",
    "\n",
    "CONTROLLER_PARAMS = dict(\n",
    "    exploration=0.8,\n",
    "    hidden_size=32,\n",
    "    episodes=5,\n",
    "    learning_rate=0.001\n",
    ")\n",
    "\n",
    "def convert_controller_preds_to_child_config(predictions):\n",
    "    channels_ids = map(lambda x: predictions[2*x], range(DATASET_PARAMS['n_layers']))\n",
    "    kernel_ids = map(lambda x: predictions[2*x+1], range(DATASET_PARAMS['n_layers']))\n",
    "\n",
    "    channels = map(lambda x: STATE_SPACE[0]['values'][x], channels_ids)\n",
    "    kernel = map(lambda x: STATE_SPACE[1]['values'][x], kernel_ids)\n",
    "\n",
    "    return list(zip(channels, kernel))\n",
    "\n",
    "class Controller():\n",
    "    def __init__(self):\n",
    "        self.rnn = self.make_rnn()\n",
    "        self.store = dict(children=[], rewards=[], accuracies=[])\n",
    "        self.loss_fn = tf.keras.losses.SparseCategoricalCrossentropy()\n",
    "        self.optimizer = optimizers.Adam(\n",
    "            learning_rate=CONTROLLER_PARAMS['learning_rate']\n",
    "        )\n",
    "\n",
    "    def make_rnn(self):\n",
    "        start_state = tf.keras.Input(shape=(), dtype=tf.int32)\n",
    "        rnn_cell = tfa.rnn.NASCell(CONTROLLER_PARAMS['hidden_size'])\n",
    "\n",
    "        initial_data = {\n",
    "            'cell_state': [\n",
    "                tf.zeros((1, CONTROLLER_PARAMS['hidden_size']), dtype=tf.float32),\n",
    "                tf.zeros((1, CONTROLLER_PARAMS['hidden_size']), dtype=tf.float32)\n",
    "            ],\n",
    "            'embeddings': tf.keras.layers.Embedding(\n",
    "                len(STATE_SPACE[0]['values']),\n",
    "                CONTROLLER_PARAMS['hidden_size']\n",
    "            )\n",
    "        }\n",
    "\n",
    "        prev_output = initial_data['embeddings'](start_state)\n",
    "        prev_cell_state = initial_data['cell_state']\n",
    "        predictions = []\n",
    "\n",
    "        for action_id in range(len(STATE_SPACE)*DATASET_PARAMS['n_layers']):\n",
    "            prev_output, prev_cell_state = rnn_cell(prev_output, prev_cell_state)\n",
    "            state_id = action_id%len(STATE_SPACE)\n",
    "            prediction_layer = tf.keras.layers.Dense(len(STATE_SPACE[state_id]['values']), activation='softmax')\n",
    "            pred_action = prediction_layer(prev_output)\n",
    "            predictions.append(pred_action)\n",
    "\n",
    "        model = tf.keras.Model(inputs=start_state, outputs=predictions)\n",
    "        model.summary()\n",
    "\n",
    "        return model\n",
    "    \n",
    "    def predict_child(self, start_state):\n",
    "        if np.random.random() < CONTROLLER_PARAMS['exploration']:\n",
    "            predictions = list(map(\n",
    "                lambda x: random.randrange(len(STATE_SPACE[x%len(STATE_SPACE)]['values'])),\n",
    "                range(len(STATE_SPACE)*DATASET_PARAMS['n_layers'])\n",
    "            ))\n",
    "            print('Random Predictions:', predictions)\n",
    "        else:\n",
    "            predictions = self.rnn([start_state])\n",
    "            predictions = list(map(lambda x: np.argmax(x), predictions))\n",
    "\n",
    "        return predictions\n",
    "    \n",
    "    def save_trial(self, child, reward, accuracy):\n",
    "        self.store['children'].append(child)\n",
    "        self.store['rewards'].append(reward)\n",
    "        self.store['accuracies'].append(accuracy)\n",
    "    \n",
    "    def train_step(self):\n",
    "        child_config = self.store['children'][-1]\n",
    "        reward = self.store['rewards'][-1]\n",
    "        start_state = np.array([child_config[0]])\n",
    "\n",
    "        with tf.GradientTape() as tape:\n",
    "            outputs = controller.rnn(start_state)\n",
    "            loss = 0.\n",
    "\n",
    "            for index, output in enumerate(outputs):\n",
    "                y_true = [child_config[index]]\n",
    "                loss += self.loss_fn(y_true, output)\n",
    "            \n",
    "            grads = tape.gradient(loss, controller.rnn.trainable_variables)\n",
    "            \n",
    "            for index, grad in enumerate(grads):\n",
    "                grads[index] = tf.multiply(grad, reward)\n",
    "\n",
    "            self.optimizer.apply_gradients(\n",
    "                zip(grads, controller.rnn.trainable_variables)\n",
    "            )\n",
    "\n",
    "controller = Controller()\n",
    "child_manager = ChildManager()\n",
    "start_state = np.array([random.randrange(len(STATE_SPACE[0]))])\n",
    "\n",
    "for episode in range(CONTROLLER_PARAMS['episodes']):\n",
    "    predictions = controller.predict_child(start_state)\n",
    "    config = convert_controller_preds_to_child_config(predictions)\n",
    "\n",
    "    print('Episode: {} Child Config: {}'.format(episode, config))\n",
    "\n",
    "    # Evaluate the child generated by the controller\n",
    "    reward, accuracy = child_manager.get_rewards(config)\n",
    "    print(\n",
    "        'Episode: {} Reward: {} Accuracy: {}'.format(\n",
    "            episode,\n",
    "            reward,\n",
    "            accuracy\n",
    "        )\n",
    "    )\n",
    "\n",
    "    # Store predicted child and its rewards\n",
    "    controller.save_trial(predictions, reward, accuracy)\n",
    "    \n",
    "    # Train the Controller\n",
    "    controller.train_step()\n",
    "\n",
    "    # Update start_state for next episode.\n",
    "    start_state = np.array([predictions[0]])\n",
    "    tf.print('Start State:', start_state)"
   ]
  },
  {
   "cell_type": "code",
   "execution_count": 18,
   "metadata": {},
   "outputs": [
    {
     "data": {
      "image/png": "[encoded data removed]",
      "text/plain": [
       "<Figure size 432x288 with 1 Axes>"
      ]
     },
     "metadata": {
      "needs_background": "light"
     },
     "output_type": "display_data"
    }
   ],
   "source": [
    "accuracies_df = pd.DataFrame(controller.store['accuracies'])\n",
    "rolling_accuracies = accuracies_df.rolling(2).mean()[0].tolist()\n",
    "\n",
    "plt.plot(controller.store['rewards'], label='Reward')\n",
    "plt.plot(controller.store['accuracies'], label='Accuracy')\n",
    "plt.plot(rolling_accuracies, label='Rolling Accuracy')\n",
    "plt.xlabel('Episodes')\n",
    "plt.legend()\n",
    "plt.gca().xaxis.set_major_locator(MaxNLocator(integer=True))"
   ]
  },
  {
   "cell_type": "code",
   "execution_count": 20,
   "metadata": {},
   "outputs": [
    {
     "data": {
      "text/html": [
       "<div>\n",
       "<style scoped>\n",
       "    .dataframe tbody tr th:only-of-type {\n",
       "        vertical-align: middle;\n",
       "    }\n",
       "\n",
       "    .dataframe tbody tr th {\n",
       "        vertical-align: top;\n",
       "    }\n",
       "\n",
       "    .dataframe thead th {\n",
       "        text-align: right;\n",
       "    }\n",
       "</style>\n",
       "<table border=\"1\" class=\"dataframe\">\n",
       "  <thead>\n",
       "    <tr style=\"text-align: right;\">\n",
       "      <th></th>\n",
       "      <th>Layer 0</th>\n",
       "      <th>Layer 1</th>\n",
       "      <th>Layer 2</th>\n",
       "      <th>Accuracy</th>\n",
       "    </tr>\n",
       "    <tr>\n",
       "      <th>Episodes</th>\n",
       "      <th></th>\n",
       "      <th></th>\n",
       "      <th></th>\n",
       "      <th></th>\n",
       "    </tr>\n",
       "  </thead>\n",
       "  <tbody>\n",
       "    <tr>\n",
       "      <th>0</th>\n",
       "      <td>(64, 1)</td>\n",
       "      <td>(32, 1)</td>\n",
       "      <td>(32, 3)</td>\n",
       "      <td>0.1118</td>\n",
       "    </tr>\n",
       "    <tr>\n",
       "      <th>1</th>\n",
       "      <td>(16, 3)</td>\n",
       "      <td>(16, 1)</td>\n",
       "      <td>(64, 1)</td>\n",
       "      <td>0.1650</td>\n",
       "    </tr>\n",
       "    <tr>\n",
       "      <th>2</th>\n",
       "      <td>(32, 3)</td>\n",
       "      <td>(64, 3)</td>\n",
       "      <td>(32, 3)</td>\n",
       "      <td>0.1722</td>\n",
       "    </tr>\n",
       "    <tr>\n",
       "      <th>3</th>\n",
       "      <td>(64, 1)</td>\n",
       "      <td>(64, 1)</td>\n",
       "      <td>(16, 1)</td>\n",
       "      <td>0.0958</td>\n",
       "    </tr>\n",
       "    <tr>\n",
       "      <th>4</th>\n",
       "      <td>(32, 3)</td>\n",
       "      <td>(64, 1)</td>\n",
       "      <td>(32, 1)</td>\n",
       "      <td>0.1530</td>\n",
       "    </tr>\n",
       "  </tbody>\n",
       "</table>\n",
       "</div>"
      ],
      "text/plain": [
       "          Layer 0  Layer 1  Layer 2  Accuracy\n",
       "Episodes                                     \n",
       "0         (64, 1)  (32, 1)  (32, 3)    0.1118\n",
       "1         (16, 3)  (16, 1)  (64, 1)    0.1650\n",
       "2         (32, 3)  (64, 3)  (32, 3)    0.1722\n",
       "3         (64, 1)  (64, 1)  (16, 1)    0.0958\n",
       "4         (32, 3)  (64, 1)  (32, 1)    0.1530"
      ]
     },
     "metadata": {},
     "output_type": "display_data"
    },
    {
     "data": {
      "text/html": [
       "<div>\n",
       "<style scoped>\n",
       "    .dataframe tbody tr th:only-of-type {\n",
       "        vertical-align: middle;\n",
       "    }\n",
       "\n",
       "    .dataframe tbody tr th {\n",
       "        vertical-align: top;\n",
       "    }\n",
       "\n",
       "    .dataframe thead th {\n",
       "        text-align: right;\n",
       "    }\n",
       "</style>\n",
       "<table border=\"1\" class=\"dataframe\">\n",
       "  <thead>\n",
       "    <tr style=\"text-align: right;\">\n",
       "      <th></th>\n",
       "      <th>Accuracy</th>\n",
       "      <th>Counts</th>\n",
       "    </tr>\n",
       "    <tr>\n",
       "      <th>Layer 0</th>\n",
       "      <th></th>\n",
       "      <th></th>\n",
       "    </tr>\n",
       "  </thead>\n",
       "  <tbody>\n",
       "    <tr>\n",
       "      <th>(16, 3)</th>\n",
       "      <td>0.1650</td>\n",
       "      <td>1</td>\n",
       "    </tr>\n",
       "    <tr>\n",
       "      <th>(32, 3)</th>\n",
       "      <td>0.1626</td>\n",
       "      <td>2</td>\n",
       "    </tr>\n",
       "    <tr>\n",
       "      <th>(64, 1)</th>\n",
       "      <td>0.1038</td>\n",
       "      <td>2</td>\n",
       "    </tr>\n",
       "  </tbody>\n",
       "</table>\n",
       "</div>"
      ],
      "text/plain": [
       "         Accuracy  Counts\n",
       "Layer 0                  \n",
       "(16, 3)    0.1650       1\n",
       "(32, 3)    0.1626       2\n",
       "(64, 1)    0.1038       2"
      ]
     },
     "metadata": {},
     "output_type": "display_data"
    },
    {
     "data": {
      "text/html": [
       "<div>\n",
       "<style scoped>\n",
       "    .dataframe tbody tr th:only-of-type {\n",
       "        vertical-align: middle;\n",
       "    }\n",
       "\n",
       "    .dataframe tbody tr th {\n",
       "        vertical-align: top;\n",
       "    }\n",
       "\n",
       "    .dataframe thead th {\n",
       "        text-align: right;\n",
       "    }\n",
       "</style>\n",
       "<table border=\"1\" class=\"dataframe\">\n",
       "  <thead>\n",
       "    <tr style=\"text-align: right;\">\n",
       "      <th></th>\n",
       "      <th>Accuracy</th>\n",
       "      <th>Counts</th>\n",
       "    </tr>\n",
       "    <tr>\n",
       "      <th>Layer 1</th>\n",
       "      <th></th>\n",
       "      <th></th>\n",
       "    </tr>\n",
       "  </thead>\n",
       "  <tbody>\n",
       "    <tr>\n",
       "      <th>(16, 1)</th>\n",
       "      <td>0.1650</td>\n",
       "      <td>1</td>\n",
       "    </tr>\n",
       "    <tr>\n",
       "      <th>(32, 1)</th>\n",
       "      <td>0.1118</td>\n",
       "      <td>1</td>\n",
       "    </tr>\n",
       "    <tr>\n",
       "      <th>(64, 1)</th>\n",
       "      <td>0.1244</td>\n",
       "      <td>2</td>\n",
       "    </tr>\n",
       "    <tr>\n",
       "      <th>(64, 3)</th>\n",
       "      <td>0.1722</td>\n",
       "      <td>1</td>\n",
       "    </tr>\n",
       "  </tbody>\n",
       "</table>\n",
       "</div>"
      ],
      "text/plain": [
       "         Accuracy  Counts\n",
       "Layer 1                  \n",
       "(16, 1)    0.1650       1\n",
       "(32, 1)    0.1118       1\n",
       "(64, 1)    0.1244       2\n",
       "(64, 3)    0.1722       1"
      ]
     },
     "metadata": {},
     "output_type": "display_data"
    },
    {
     "data": {
      "text/html": [
       "<div>\n",
       "<style scoped>\n",
       "    .dataframe tbody tr th:only-of-type {\n",
       "        vertical-align: middle;\n",
       "    }\n",
       "\n",
       "    .dataframe tbody tr th {\n",
       "        vertical-align: top;\n",
       "    }\n",
       "\n",
       "    .dataframe thead th {\n",
       "        text-align: right;\n",
       "    }\n",
       "</style>\n",
       "<table border=\"1\" class=\"dataframe\">\n",
       "  <thead>\n",
       "    <tr style=\"text-align: right;\">\n",
       "      <th></th>\n",
       "      <th>Accuracy</th>\n",
       "      <th>Counts</th>\n",
       "    </tr>\n",
       "    <tr>\n",
       "      <th>Layer 2</th>\n",
       "      <th></th>\n",
       "      <th></th>\n",
       "    </tr>\n",
       "  </thead>\n",
       "  <tbody>\n",
       "    <tr>\n",
       "      <th>(16, 1)</th>\n",
       "      <td>0.0958</td>\n",
       "      <td>1</td>\n",
       "    </tr>\n",
       "    <tr>\n",
       "      <th>(32, 1)</th>\n",
       "      <td>0.1530</td>\n",
       "      <td>1</td>\n",
       "    </tr>\n",
       "    <tr>\n",
       "      <th>(32, 3)</th>\n",
       "      <td>0.1420</td>\n",
       "      <td>2</td>\n",
       "    </tr>\n",
       "    <tr>\n",
       "      <th>(64, 1)</th>\n",
       "      <td>0.1650</td>\n",
       "      <td>1</td>\n",
       "    </tr>\n",
       "  </tbody>\n",
       "</table>\n",
       "</div>"
      ],
      "text/plain": [
       "         Accuracy  Counts\n",
       "Layer 2                  \n",
       "(16, 1)    0.0958       1\n",
       "(32, 1)    0.1530       1\n",
       "(32, 3)    0.1420       2\n",
       "(64, 1)    0.1650       1"
      ]
     },
     "metadata": {},
     "output_type": "display_data"
    }
   ],
   "source": [
    "child_configs = list(\n",
    "    map(\n",
    "        convert_controller_preds_to_child_config,\n",
    "        controller.store['children']\n",
    "    )\n",
    ")\n",
    "layer_id_to_name = lambda x: 'Layer %d'%x\n",
    "columns = list(map(layer_id_to_name, range(DATASET_PARAMS['n_layers'])))\n",
    "df = pd.DataFrame(child_configs, columns=columns)\n",
    "df['Accuracy'] = controller.store['accuracies']\n",
    "df.index.name = 'Episodes'\n",
    "\n",
    "def column_summary(df, column):\n",
    "    column_df = df[[column, 'Accuracy']].groupby(column)\n",
    "    column_stats = column_df.mean()\n",
    "    column_stats['Counts'] = column_df.count()\n",
    "    return column_stats\n",
    "\n",
    "display(df)\n",
    "for layer_id in range(DATASET_PARAMS['n_layers']):\n",
    "    display(column_summary(df, layer_id_to_name(layer_id)))"
   ]
  },
  {
   "cell_type": "code",
   "execution_count": 21,
   "metadata": {},
   "outputs": [
    {
     "data": {
      "text/plain": [
       "(<AxesSubplot:xlabel='Episodes', ylabel='Accuracies'>, <AxesSubplot:>)"
      ]
     },
     "execution_count": 21,
     "metadata": {},
     "output_type": "execute_result"
    },
    {
     "data": {
      "image/png": "[encoded data removed]",
      "text/plain": [
       "<Figure size 432x288 with 2 Axes>"
      ]
     },
     "metadata": {
      "needs_background": "light"
     },
     "output_type": "display_data"
    }
   ],
   "source": [
    "fig, axes = plt.subplots(1, 2)\n",
    "plt_rewards, plt_accuracies = axes\n",
    "\n",
    "plt_rewards.plot(controller.store['rewards'], label='Reward')\n",
    "plt_rewards.set_xlabel('Episodes')\n",
    "plt_rewards.set_ylabel('Rewards')\n",
    "\n",
    "plt_rewards.plot(list(child_manager.past_accuracies)[1:], label='Accuracy')\n",
    "plt_rewards.set_xlabel('Episodes')\n",
    "plt_rewards.set_ylabel('Accuracies')\n",
    "\n",
    "plt_rewards, plt_accuracies\n",
    "# controller.store"
   ]
  }
 ],
 "metadata": {
  "kernelspec": {
   "display_name": "Python 3.9.10 ('base')",
   "language": "python",
   "name": "python3"
  },
  "language_info": {
   "codemirror_mode": {
    "name": "ipython",
    "version": 3
   },
   "file_extension": ".py",
   "mimetype": "text/x-python",
   "name": "python",
   "nbconvert_exporter": "python",
   "pygments_lexer": "ipython3",
   "version": "3.9.10"
  },
  "orig_nbformat": 4,
  "vscode": {
   "interpreter": {
    "hash": "ef4ac4ea1ec422be6b4eb59e3fa0ded4ce016edaf83e8378f1dbc473945965d7"
   }
  }
 },
 "nbformat": 4,
 "nbformat_minor": 2
}
