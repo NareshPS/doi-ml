{
 "cells": [
  {
   "cell_type": "code",
   "execution_count": 1,
   "metadata": {},
   "outputs": [],
   "source": [
    "%%capture\n",
    "! pip install gym gym[box2d]\n",
    "! pip install ipywidgets"
   ]
  },
  {
   "cell_type": "code",
   "execution_count": 6,
   "metadata": {},
   "outputs": [],
   "source": [
    "%%capture\n",
    "# simple neural network implementation of qlearning\n",
    "import gym\n",
    "import pickle\n",
    "import random\n",
    "\n",
    "import numpy as np\n",
    "import tensorflow as tf\n",
    "import tensorflow.keras as keras\n",
    "import matplotlib.pyplot as plt\n",
    "\n",
    "from tensorflow.keras import layers, optimizers\n",
    "from IPython.display import HTML, display\n",
    "from PIL import Image\n",
    "\n",
    "# RL using OpenAI Gym: https://www.learndatasci.com/tutorials/reinforcement-q-learning-scratch-python-openai-gym/\n",
    "# Deep Q-Learning: https://github.com/adventuresinML/adventures-in-ml-code/blob/master/r_learning_tensorflow.py"
   ]
  },
  {
   "cell_type": "code",
   "execution_count": 4,
   "metadata": {},
   "outputs": [
    {
     "data": {
      "text/plain": [
       "<matplotlib.image.AxesImage at 0x17c106d90>"
      ]
     },
     "execution_count": 4,
     "metadata": {},
     "output_type": "execute_result"
    },
    {
     "data": {
      "image/png": "[encoded data removed]",
      "text/plain": [
       "<Figure size 432x288 with 1 Axes>"
      ]
     },
     "metadata": {
      "needs_background": "light"
     },
     "output_type": "display_data"
    }
   ],
   "source": [
    "seed = 111\n",
    "\n",
    "tf.random.set_seed(seed)\n",
    "np.random.seed(seed)\n",
    "random.seed(seed)\n",
    "\n",
    "import os\n",
    "os.environ[\"SDL_VIDEODRIVER\"] = \"dummy\"\n",
    "\n",
    "\"\"\"\n",
    "Observation Space has 8 states\n",
    "===============================\n",
    "\n",
    "1- The coordinates of the lander in x & y.\n",
    "2- Its linear velocities in x & y.\n",
    "3- Its angle.\n",
    "4- Its angular velocity.\n",
    "5- Two booleans that represent whether each leg is in contact with the ground or not.\n",
    "\n",
    "Action Space has 4 discrete actions\n",
    "===================================\n",
    "1- Do nothing.\n",
    "2- Fire left orientation engine.\n",
    "3- Fire main engine.\n",
    "4- Fire right orientation engine.\n",
    "\n",
    "\"\"\"\n",
    "\n",
    "env = gym.make(\"LunarLander-v2\")\n",
    "obs = env.reset()\n",
    "image = env.render(mode='rgb_array')\n",
    "\n",
    "plt.imshow(image)"
   ]
  },
  {
   "cell_type": "markdown",
   "metadata": {},
   "source": [
    "## Utility Methods to Save Output as GIF"
   ]
  },
  {
   "cell_type": "code",
   "execution_count": 7,
   "metadata": {},
   "outputs": [],
   "source": [
    "def save_visuals(env, frames):\n",
    "    # Save the current game visuals\n",
    "    frame = env.render(mode='rgb_array')\n",
    "    frames.append(frame)\n",
    "\n",
    "def save_frames_as_gif(container, episode_id, frames):\n",
    "    gif = Image.fromarray(np.copy(frames[0]))\n",
    "       \n",
    "    gif_name = 'lunar_lander.{}.{}.gif'.format(episode_id, random.randint(0,2e9))\n",
    "\n",
    "    gif.save(\n",
    "        gif_name,\n",
    "        append_images=list(map(lambda im: Image.fromarray(im), frames[1:])),\n",
    "        save_all=True, duration=5, loop=0\n",
    "    )\n",
    "\n",
    "    container[episode_id] = gif_name"
   ]
  },
  {
   "cell_type": "markdown",
   "metadata": {},
   "source": [
    "## Create Model"
   ]
  },
  {
   "cell_type": "code",
   "execution_count": 17,
   "metadata": {},
   "outputs": [
    {
     "name": "stdout",
     "output_type": "stream",
     "text": [
      "Model: \"sequential_2\"\n",
      "_________________________________________________________________\n",
      " Layer (type)                Output Shape              Param #   \n",
      "=================================================================\n",
      " conv2d_8 (Conv2D)           (None, 396, 596, 32)      2400      \n",
      "                                                                 \n",
      " conv2d_9 (Conv2D)           (None, 392, 592, 32)      25600     \n",
      "                                                                 \n",
      " conv2d_10 (Conv2D)          (None, 388, 588, 64)      51200     \n",
      "                                                                 \n",
      " max_pooling2d_2 (MaxPooling  (None, 194, 294, 64)     0         \n",
      " 2D)                                                             \n",
      "                                                                 \n",
      " conv2d_11 (Conv2D)          (None, 192, 292, 64)      36864     \n",
      "                                                                 \n",
      " dense_4 (Dense)             (None, 192, 292, 512)     33280     \n",
      "                                                                 \n",
      " flatten (Flatten)           (None, 28704768)          0         \n",
      "                                                                 \n",
      " dense_5 (Dense)             (None, 4)                 114819076 \n",
      "                                                                 \n",
      "=================================================================\n",
      "Total params: 114,968,420\n",
      "Trainable params: 114,968,420\n",
      "Non-trainable params: 0\n",
      "_________________________________________________________________\n"
     ]
    }
   ],
   "source": [
    "N_STATES = env.observation_space.shape[0]\n",
    "N_ACTIONS = env.action_space.n\n",
    "\n",
    "def create_model():\n",
    "    \"\"\"Construct the critic network with q-values per action as output\"\"\"\n",
    "    model = keras.Sequential([\n",
    "        layers.Input(shape=(image.shape)),\n",
    "        layers.Conv2D(32, 5, activation=\"relu\", use_bias=False),\n",
    "        layers.Conv2D(32, 5, activation=\"relu\", use_bias=False),\n",
    "        layers.Conv2D(64, 5, activation=\"relu\", use_bias=False),\n",
    "        layers.MaxPool2D(2),\n",
    "        layers.Conv2D(64, 3, activation=\"relu\", use_bias=False),\n",
    "        layers.Dense(512, activation=\"relu\"),\n",
    "        layers.Flatten(),\n",
    "        layers.Dense(N_ACTIONS, activation='linear')\n",
    "    ])\n",
    "    \n",
    "    model.compile(optimizer=optimizers.Adam(.001), loss='mse')\n",
    "\n",
    "    return model\n",
    "\n",
    "model = create_model()\n",
    "model.summary()"
   ]
  },
  {
   "cell_type": "markdown",
   "metadata": {},
   "source": [
    "## Training"
   ]
  },
  {
   "cell_type": "code",
   "execution_count": 19,
   "metadata": {},
   "outputs": [
    {
     "name": "stderr",
     "output_type": "stream",
     "text": [
      "2022-06-22 14:28:53.015886: I tensorflow/core/grappler/optimizers/custom_graph_optimizer_registry.cc:113] Plugin optimizer for device_type GPU is enabled.\n"
     ]
    },
    {
     "ename": "KeyboardInterrupt",
     "evalue": "",
     "output_type": "error",
     "traceback": [
      "\u001b[0;31m---------------------------------------------------------------------------\u001b[0m",
      "\u001b[0;31mKeyboardInterrupt\u001b[0m                         Traceback (most recent call last)",
      "\u001b[1;32m/Users/broxoli/projects/doi-ml/rl/Lunar Lander [Images].ipynb Cell 9'\u001b[0m in \u001b[0;36m<cell line: 74>\u001b[0;34m()\u001b[0m\n\u001b[1;32m     <a href='vscode-notebook-cell:/Users/broxoli/projects/doi-ml/rl/Lunar%20Lander%20%5BImages%5D.ipynb#ch0000006?line=90'>91</a>\u001b[0m save_visuals(env, images)\n\u001b[1;32m     <a href='vscode-notebook-cell:/Users/broxoli/projects/doi-ml/rl/Lunar%20Lander%20%5BImages%5D.ipynb#ch0000006?line=92'>93</a>\u001b[0m \u001b[39m# Train model based on the memory\u001b[39;00m\n\u001b[0;32m---> <a href='vscode-notebook-cell:/Users/broxoli/projects/doi-ml/rl/Lunar%20Lander%20%5BImages%5D.ipynb#ch0000006?line=93'>94</a>\u001b[0m \u001b[39mif\u001b[39;00m step_id\u001b[39m%\u001b[39m\u001b[39m20\u001b[39m \u001b[39m==\u001b[39m \u001b[39m0\u001b[39m: batch_train(step_id, model, memory, score)\n\u001b[1;32m     <a href='vscode-notebook-cell:/Users/broxoli/projects/doi-ml/rl/Lunar%20Lander%20%5BImages%5D.ipynb#ch0000006?line=95'>96</a>\u001b[0m \u001b[39mif\u001b[39;00m done:\n\u001b[1;32m     <a href='vscode-notebook-cell:/Users/broxoli/projects/doi-ml/rl/Lunar%20Lander%20%5BImages%5D.ipynb#ch0000006?line=96'>97</a>\u001b[0m     episode_results \u001b[39m=\u001b[39m (step_id, score, reward, \u001b[39mTrue\u001b[39;00m \u001b[39mif\u001b[39;00m reward \u001b[39m==\u001b[39m \u001b[39m100\u001b[39m \u001b[39melse\u001b[39;00m \u001b[39mFalse\u001b[39;00m)\n",
      "\u001b[1;32m/Users/broxoli/projects/doi-ml/rl/Lunar Lander [Images].ipynb Cell 9'\u001b[0m in \u001b[0;36mbatch_train\u001b[0;34m(step_id, model, memory, score, bs, log)\u001b[0m\n\u001b[1;32m     <a href='vscode-notebook-cell:/Users/broxoli/projects/doi-ml/rl/Lunar%20Lander%20%5BImages%5D.ipynb#ch0000006?line=56'>57</a>\u001b[0m     \u001b[39melse\u001b[39;00m:\n\u001b[1;32m     <a href='vscode-notebook-cell:/Users/broxoli/projects/doi-ml/rl/Lunar%20Lander%20%5BImages%5D.ipynb#ch0000006?line=57'>58</a>\u001b[0m         q_s_a[idx][action] \u001b[39m=\u001b[39m reward \u001b[39m+\u001b[39m GAMMA\u001b[39m*\u001b[39mnp\u001b[39m.\u001b[39mamax(q_s_a_next[idx])\n\u001b[0;32m---> <a href='vscode-notebook-cell:/Users/broxoli/projects/doi-ml/rl/Lunar%20Lander%20%5BImages%5D.ipynb#ch0000006?line=59'>60</a>\u001b[0m history \u001b[39m=\u001b[39m model\u001b[39m.\u001b[39;49mfit(tf\u001b[39m.\u001b[39;49mstack(X), q_s_a, batch_size\u001b[39m=\u001b[39;49mbs, epochs\u001b[39m=\u001b[39;49m\u001b[39m1\u001b[39;49m, verbose\u001b[39m=\u001b[39;49m\u001b[39m0\u001b[39;49m)\n\u001b[1;32m     <a href='vscode-notebook-cell:/Users/broxoli/projects/doi-ml/rl/Lunar%20Lander%20%5BImages%5D.ipynb#ch0000006?line=61'>62</a>\u001b[0m \u001b[39mif\u001b[39;00m log \u001b[39mand\u001b[39;00m step_id\u001b[39m%\u001b[39m\u001b[39m4\u001b[39m \u001b[39m==\u001b[39m \u001b[39m0\u001b[39m:\n\u001b[1;32m     <a href='vscode-notebook-cell:/Users/broxoli/projects/doi-ml/rl/Lunar%20Lander%20%5BImages%5D.ipynb#ch0000006?line=62'>63</a>\u001b[0m     \u001b[39mprint\u001b[39m(\u001b[39m'\u001b[39m\u001b[39mStep: \u001b[39m\u001b[39m'\u001b[39m, step_id, \u001b[39m'\u001b[39m\u001b[39mLoss: \u001b[39m\u001b[39m'\u001b[39m, history\u001b[39m.\u001b[39mhistory[\u001b[39m'\u001b[39m\u001b[39mloss\u001b[39m\u001b[39m'\u001b[39m][\u001b[39m-\u001b[39m\u001b[39m1\u001b[39m], \u001b[39m'\u001b[39m\u001b[39m Score: \u001b[39m\u001b[39m'\u001b[39m, score)\n",
      "File \u001b[0;32m~/miniforge3/lib/python3.9/site-packages/keras/utils/traceback_utils.py:64\u001b[0m, in \u001b[0;36mfilter_traceback.<locals>.error_handler\u001b[0;34m(*args, **kwargs)\u001b[0m\n\u001b[1;32m     62\u001b[0m filtered_tb \u001b[39m=\u001b[39m \u001b[39mNone\u001b[39;00m\n\u001b[1;32m     63\u001b[0m \u001b[39mtry\u001b[39;00m:\n\u001b[0;32m---> 64\u001b[0m   \u001b[39mreturn\u001b[39;00m fn(\u001b[39m*\u001b[39;49margs, \u001b[39m*\u001b[39;49m\u001b[39m*\u001b[39;49mkwargs)\n\u001b[1;32m     65\u001b[0m \u001b[39mexcept\u001b[39;00m \u001b[39mException\u001b[39;00m \u001b[39mas\u001b[39;00m e:  \u001b[39m# pylint: disable=broad-except\u001b[39;00m\n\u001b[1;32m     66\u001b[0m   filtered_tb \u001b[39m=\u001b[39m _process_traceback_frames(e\u001b[39m.\u001b[39m__traceback__)\n",
      "File \u001b[0;32m~/miniforge3/lib/python3.9/site-packages/keras/engine/training.py:1393\u001b[0m, in \u001b[0;36mModel.fit\u001b[0;34m(self, x, y, batch_size, epochs, verbose, callbacks, validation_split, validation_data, shuffle, class_weight, sample_weight, initial_epoch, steps_per_epoch, validation_steps, validation_batch_size, validation_freq, max_queue_size, workers, use_multiprocessing)\u001b[0m\n\u001b[1;32m   1390\u001b[0m       \u001b[39mif\u001b[39;00m \u001b[39mself\u001b[39m\u001b[39m.\u001b[39mstop_training:\n\u001b[1;32m   1391\u001b[0m         \u001b[39mbreak\u001b[39;00m\n\u001b[0;32m-> 1393\u001b[0m logs \u001b[39m=\u001b[39m tf_utils\u001b[39m.\u001b[39;49msync_to_numpy_or_python_type(logs)\n\u001b[1;32m   1394\u001b[0m \u001b[39mif\u001b[39;00m logs \u001b[39mis\u001b[39;00m \u001b[39mNone\u001b[39;00m:\n\u001b[1;32m   1395\u001b[0m   \u001b[39mraise\u001b[39;00m \u001b[39mValueError\u001b[39;00m(\u001b[39m'\u001b[39m\u001b[39mUnexpected result of `train_function` \u001b[39m\u001b[39m'\u001b[39m\n\u001b[1;32m   1396\u001b[0m                    \u001b[39m'\u001b[39m\u001b[39m(Empty logs). Please use \u001b[39m\u001b[39m'\u001b[39m\n\u001b[1;32m   1397\u001b[0m                    \u001b[39m'\u001b[39m\u001b[39m`Model.compile(..., run_eagerly=True)`, or \u001b[39m\u001b[39m'\u001b[39m\n\u001b[1;32m   1398\u001b[0m                    \u001b[39m'\u001b[39m\u001b[39m`tf.config.run_functions_eagerly(True)` for more \u001b[39m\u001b[39m'\u001b[39m\n\u001b[1;32m   1399\u001b[0m                    \u001b[39m'\u001b[39m\u001b[39minformation of where went wrong, or file a \u001b[39m\u001b[39m'\u001b[39m\n\u001b[1;32m   1400\u001b[0m                    \u001b[39m'\u001b[39m\u001b[39missue/bug to `tf.keras`.\u001b[39m\u001b[39m'\u001b[39m)\n",
      "File \u001b[0;32m~/miniforge3/lib/python3.9/site-packages/keras/utils/tf_utils.py:563\u001b[0m, in \u001b[0;36msync_to_numpy_or_python_type\u001b[0;34m(tensors)\u001b[0m\n\u001b[1;32m    560\u001b[0m     \u001b[39mreturn\u001b[39;00m t\n\u001b[1;32m    561\u001b[0m   \u001b[39mreturn\u001b[39;00m t\u001b[39m.\u001b[39mitem() \u001b[39mif\u001b[39;00m np\u001b[39m.\u001b[39mndim(t) \u001b[39m==\u001b[39m \u001b[39m0\u001b[39m \u001b[39melse\u001b[39;00m t\n\u001b[0;32m--> 563\u001b[0m \u001b[39mreturn\u001b[39;00m tf\u001b[39m.\u001b[39;49mnest\u001b[39m.\u001b[39;49mmap_structure(_to_single_numpy_or_python_type, tensors)\n",
      "File \u001b[0;32m~/miniforge3/lib/python3.9/site-packages/tensorflow/python/util/nest.py:914\u001b[0m, in \u001b[0;36mmap_structure\u001b[0;34m(func, *structure, **kwargs)\u001b[0m\n\u001b[1;32m    910\u001b[0m flat_structure \u001b[39m=\u001b[39m (flatten(s, expand_composites) \u001b[39mfor\u001b[39;00m s \u001b[39min\u001b[39;00m structure)\n\u001b[1;32m    911\u001b[0m entries \u001b[39m=\u001b[39m \u001b[39mzip\u001b[39m(\u001b[39m*\u001b[39mflat_structure)\n\u001b[1;32m    913\u001b[0m \u001b[39mreturn\u001b[39;00m pack_sequence_as(\n\u001b[0;32m--> 914\u001b[0m     structure[\u001b[39m0\u001b[39m], [func(\u001b[39m*\u001b[39mx) \u001b[39mfor\u001b[39;00m x \u001b[39min\u001b[39;00m entries],\n\u001b[1;32m    915\u001b[0m     expand_composites\u001b[39m=\u001b[39mexpand_composites)\n",
      "File \u001b[0;32m~/miniforge3/lib/python3.9/site-packages/tensorflow/python/util/nest.py:914\u001b[0m, in \u001b[0;36m<listcomp>\u001b[0;34m(.0)\u001b[0m\n\u001b[1;32m    910\u001b[0m flat_structure \u001b[39m=\u001b[39m (flatten(s, expand_composites) \u001b[39mfor\u001b[39;00m s \u001b[39min\u001b[39;00m structure)\n\u001b[1;32m    911\u001b[0m entries \u001b[39m=\u001b[39m \u001b[39mzip\u001b[39m(\u001b[39m*\u001b[39mflat_structure)\n\u001b[1;32m    913\u001b[0m \u001b[39mreturn\u001b[39;00m pack_sequence_as(\n\u001b[0;32m--> 914\u001b[0m     structure[\u001b[39m0\u001b[39m], [func(\u001b[39m*\u001b[39;49mx) \u001b[39mfor\u001b[39;00m x \u001b[39min\u001b[39;00m entries],\n\u001b[1;32m    915\u001b[0m     expand_composites\u001b[39m=\u001b[39mexpand_composites)\n",
      "File \u001b[0;32m~/miniforge3/lib/python3.9/site-packages/keras/utils/tf_utils.py:557\u001b[0m, in \u001b[0;36msync_to_numpy_or_python_type.<locals>._to_single_numpy_or_python_type\u001b[0;34m(t)\u001b[0m\n\u001b[1;32m    554\u001b[0m \u001b[39mdef\u001b[39;00m \u001b[39m_to_single_numpy_or_python_type\u001b[39m(t):\n\u001b[1;32m    555\u001b[0m   \u001b[39m# Don't turn ragged or sparse tensors to NumPy.\u001b[39;00m\n\u001b[1;32m    556\u001b[0m   \u001b[39mif\u001b[39;00m \u001b[39misinstance\u001b[39m(t, tf\u001b[39m.\u001b[39mTensor):\n\u001b[0;32m--> 557\u001b[0m     t \u001b[39m=\u001b[39m t\u001b[39m.\u001b[39;49mnumpy()\n\u001b[1;32m    558\u001b[0m   \u001b[39m# Strings, ragged and sparse tensors don't have .item(). Return them as-is.\u001b[39;00m\n\u001b[1;32m    559\u001b[0m   \u001b[39mif\u001b[39;00m \u001b[39mnot\u001b[39;00m \u001b[39misinstance\u001b[39m(t, (np\u001b[39m.\u001b[39mndarray, np\u001b[39m.\u001b[39mgeneric)):\n",
      "File \u001b[0;32m~/miniforge3/lib/python3.9/site-packages/tensorflow/python/framework/ops.py:1223\u001b[0m, in \u001b[0;36m_EagerTensorBase.numpy\u001b[0;34m(self)\u001b[0m\n\u001b[1;32m   1200\u001b[0m \u001b[39m\"\"\"Copy of the contents of this Tensor into a NumPy array or scalar.\u001b[39;00m\n\u001b[1;32m   1201\u001b[0m \n\u001b[1;32m   1202\u001b[0m \u001b[39mUnlike NumPy arrays, Tensors are immutable, so this method has to copy\u001b[39;00m\n\u001b[0;32m   (...)\u001b[0m\n\u001b[1;32m   1220\u001b[0m \u001b[39m    NumPy dtype.\u001b[39;00m\n\u001b[1;32m   1221\u001b[0m \u001b[39m\"\"\"\u001b[39;00m\n\u001b[1;32m   1222\u001b[0m \u001b[39m# TODO(slebedev): Consider avoiding a copy for non-CPU or remote tensors.\u001b[39;00m\n\u001b[0;32m-> 1223\u001b[0m maybe_arr \u001b[39m=\u001b[39m \u001b[39mself\u001b[39;49m\u001b[39m.\u001b[39;49m_numpy()  \u001b[39m# pylint: disable=protected-access\u001b[39;00m\n\u001b[1;32m   1224\u001b[0m \u001b[39mreturn\u001b[39;00m maybe_arr\u001b[39m.\u001b[39mcopy() \u001b[39mif\u001b[39;00m \u001b[39misinstance\u001b[39m(maybe_arr, np\u001b[39m.\u001b[39mndarray) \u001b[39melse\u001b[39;00m maybe_arr\n",
      "File \u001b[0;32m~/miniforge3/lib/python3.9/site-packages/tensorflow/python/framework/ops.py:1189\u001b[0m, in \u001b[0;36m_EagerTensorBase._numpy\u001b[0;34m(self)\u001b[0m\n\u001b[1;32m   1187\u001b[0m \u001b[39mdef\u001b[39;00m \u001b[39m_numpy\u001b[39m(\u001b[39mself\u001b[39m):\n\u001b[1;32m   1188\u001b[0m   \u001b[39mtry\u001b[39;00m:\n\u001b[0;32m-> 1189\u001b[0m     \u001b[39mreturn\u001b[39;00m \u001b[39mself\u001b[39;49m\u001b[39m.\u001b[39;49m_numpy_internal()\n\u001b[1;32m   1190\u001b[0m   \u001b[39mexcept\u001b[39;00m core\u001b[39m.\u001b[39m_NotOkStatusException \u001b[39mas\u001b[39;00m e:  \u001b[39m# pylint: disable=protected-access\u001b[39;00m\n\u001b[1;32m   1191\u001b[0m     \u001b[39mraise\u001b[39;00m core\u001b[39m.\u001b[39m_status_to_exception(e) \u001b[39mfrom\u001b[39;00m \u001b[39mNone\u001b[39m\n",
      "\u001b[0;31mKeyboardInterrupt\u001b[0m: "
     ]
    }
   ],
   "source": [
    "GAMMA = 0.95\n",
    "EXPLORATION_RATE = 0.5\n",
    "\n",
    "def choose_action(model, state):\n",
    "    random_action = lambda: np.random.randint(N_ACTIONS)\n",
    "    \n",
    "    def predicted_action():\n",
    "        q_values = model(tf.expand_dims(state, 0))\n",
    "        action = tf.squeeze(tf.argmax(q_values, axis=-1))\n",
    "        return action.numpy()\n",
    "\n",
    "    # Choose between the greey move or the random move.\n",
    "    # Greedy move take the greedy approach to chose the best current action.\n",
    "    epsilon = np.random.rand()\n",
    "    action =  random_action() if epsilon <= EXPLORATION_RATE else predicted_action()\n",
    "\n",
    "    return action\n",
    "\n",
    "def obs_to_state(obs):\n",
    "    state = np.squeeze(obs)\n",
    "    return state\n",
    "\n",
    "def play(model, state):\n",
    "    return choose_action(model, state)\n",
    "\n",
    "def capped_append(memory, data, max_size=1000):\n",
    "    memory.append(data)\n",
    "    if len(memory) > max_size: memory.pop(0)\n",
    "\n",
    "def normalize_reward(reward, min=-150.0, max=150.0):\n",
    "    return (reward-min)/(max-min)\n",
    "\n",
    "def update_exploration_rate(step_id):\n",
    "    global EXPLORATION_RATE\n",
    "    if step_id > 1000: EXPLORATION_RATE = .01\n",
    "    elif step_id > 500: EXPLORATION_RATE = .05\n",
    "    elif step_id > 300: EXPLORATION_RATE = .1\n",
    "    elif step_id > 100: EXPLORATION_RATE = .2\n",
    "    elif step_id > 50: EXPLORATION_RATE = .3\n",
    "    else: EXPLORATION_RATE = .5\n",
    "\n",
    "def batch_train(step_id, model, memory, score, bs=16, log=False):\n",
    "    update_exploration_rate(step_id)\n",
    "    batch = random.sample(memory, bs) if len(memory) > bs else memory\n",
    "\n",
    "    X = tf.stack([m[0] for m in batch])\n",
    "    next_X = tf.stack([m[3] for m in batch])\n",
    "\n",
    "    q_s_a = model.predict(X)\n",
    "    q_s_a_next = model.predict(next_X)\n",
    "\n",
    "    for idx, (_, action, reward, _, done) in enumerate(batch):\n",
    "        if done:\n",
    "            q_s_a[idx][action] = reward\n",
    "        else:\n",
    "            q_s_a[idx][action] = reward + GAMMA*np.amax(q_s_a_next[idx])\n",
    "    \n",
    "    history = model.fit(tf.stack(X), q_s_a, batch_size=bs, epochs=1, verbose=0)\n",
    "\n",
    "    if log and step_id%4 == 0:\n",
    "        print('Step: ', step_id, 'Loss: ', history.history['loss'][-1], ' Score: ', score)\n",
    "    \n",
    "episodes = 3\n",
    "memory = []\n",
    "last_step_memory = []\n",
    "sims = {}\n",
    "results = []\n",
    "\n",
    "# Reset the environment to start training from scratch.\n",
    "obs = env.reset()\n",
    "\n",
    "for episode_id in range(episodes):\n",
    "    images = []\n",
    "    score = 0\n",
    "\n",
    "    for step_id in range(1000):\n",
    "        # state = obs_to_state(obs)\n",
    "        state = env.render(mode='rgb_array')\n",
    "        action = play(model, state)\n",
    "        obs, reward, done, _ = env.step(action)\n",
    "        score += reward\n",
    "        next_state = env.render(mode='rgb_array')\n",
    "\n",
    "        # Save event data to memory for training later\n",
    "        # capped_append(memory, (state, action, reward, obs_to_state(obs), done))\n",
    "        capped_append(memory, (state, action, reward, next_state, done))\n",
    "        \n",
    "        # Save the current game visuals\n",
    "        save_visuals(env, images)\n",
    "\n",
    "        # Train model based on the memory\n",
    "        if step_id%20 == 0: batch_train(step_id, model, memory, score)\n",
    "\n",
    "        if done:\n",
    "            episode_results = (step_id, score, reward, True if reward == 100 else False)\n",
    "            results.append(episode_results)\n",
    "            print('Episode:', episode_id, episode_results)\n",
    "            break\n",
    "\n",
    "    obs = env.reset()\n",
    "    save_frames_as_gif(sims, episode_id, images)\n",
    "\n",
    "with open('lunar_lander.results.pkl', 'wb') as f:\n",
    "    pickle.dump(results, f)\n",
    "\n",
    "model.save_weights('lunar_lander.h5')"
   ]
  }
 ],
 "metadata": {
  "kernelspec": {
   "display_name": "Python 3.9.10 ('base')",
   "language": "python",
   "name": "python3"
  },
  "language_info": {
   "codemirror_mode": {
    "name": "ipython",
    "version": 3
   },
   "file_extension": ".py",
   "mimetype": "text/x-python",
   "name": "python",
   "nbconvert_exporter": "python",
   "pygments_lexer": "ipython3",
   "version": "3.9.10"
  },
  "orig_nbformat": 4,
  "vscode": {
   "interpreter": {
    "hash": "ef4ac4ea1ec422be6b4eb59e3fa0ded4ce016edaf83e8378f1dbc473945965d7"
   }
  }
 },
 "nbformat": 4,
 "nbformat_minor": 2
}
