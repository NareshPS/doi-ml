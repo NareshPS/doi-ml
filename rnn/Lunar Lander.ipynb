{
 "cells": [
  {
   "cell_type": "code",
   "execution_count": 2,
   "metadata": {},
   "outputs": [],
   "source": [
    "%%capture\n",
    "! pip install gym gym[box2d]"
   ]
  },
  {
   "cell_type": "code",
   "execution_count": 3,
   "metadata": {},
   "outputs": [],
   "source": [
    "%%capture\n",
    "# simple neural network implementation of qlearning\n",
    "import gym\n",
    "import random\n",
    "\n",
    "import numpy as np\n",
    "import tensorflow as tf\n",
    "import tensorflow.keras as keras\n",
    "import matplotlib.pyplot as plt\n",
    "\n",
    "from tensorflow.keras import layers, optimizers\n",
    "\n",
    "\n",
    "# RL using OpenAI Gym: https://www.learndatasci.com/tutorials/reinforcement-q-learning-scratch-python-openai-gym/\n",
    "# Deep Q-Learning: https://github.com/adventuresinML/adventures-in-ml-code/blob/master/r_learning_tensorflow.py"
   ]
  },
  {
   "cell_type": "code",
   "execution_count": 4,
   "metadata": {},
   "outputs": [
    {
     "name": "stderr",
     "output_type": "stream",
     "text": [
      "/Users/broxoli/miniforge3/lib/python3.9/site-packages/gym/utils/passive_env_checker.py:97: UserWarning: \u001b[33mWARN: We recommend you to use a symmetric and normalized Box action space (range=[-1, 1]) https://stable-baselines3.readthedocs.io/en/master/guide/rl_tips.html\u001b[0m\n",
      "  logger.warn(\n"
     ]
    },
    {
     "data": {
      "text/plain": [
       "<matplotlib.image.AxesImage at 0x29476eb50>"
      ]
     },
     "execution_count": 4,
     "metadata": {},
     "output_type": "execute_result"
    },
    {
     "data": {
      "image/png": "[encoded data removed]",
      "text/plain": [
       "<Figure size 432x288 with 1 Axes>"
      ]
     },
     "metadata": {
      "needs_background": "light"
     },
     "output_type": "display_data"
    }
   ],
   "source": [
    "seed = 111\n",
    "\n",
    "tf.random.set_seed(seed)\n",
    "np.random.seed(seed)\n",
    "random.seed(seed)\n",
    "\n",
    "import os\n",
    "os.environ[\"SDL_VIDEODRIVER\"] = \"dummy\"\n",
    "\n",
    "\"\"\"\n",
    "Observation Space has 8 states\n",
    "===============================\n",
    "\n",
    "1- The coordinates of the lander in x & y.\n",
    "2- Its linear velocities in x & y.\n",
    "3- Its angle.\n",
    "4- Its angular velocity.\n",
    "5- Two booleans that represent whether each leg is in contact with the ground or not.\n",
    "\n",
    "Action Space has 4 discrete actions\n",
    "===================================\n",
    "1- Do nothing.\n",
    "2- Fire left orientation engine.\n",
    "3- Fire main engine.\n",
    "4- Fire right orientation engine.\n",
    "\n",
    "\"\"\"\n",
    "\n",
    "env = gym.make(\"LunarLander-v2\")\n",
    "observation, info = env.reset(seed=42, return_info=True)\n",
    "observation, info\n",
    "\n",
    "image = env.render(mode='rgb_array')\n",
    "plt.imshow(image)"
   ]
  },
  {
   "cell_type": "code",
   "execution_count": 16,
   "metadata": {},
   "outputs": [],
   "source": [
    "import random\n",
    "\n",
    "from IPython.display import HTML, display\n",
    "from PIL import Image\n",
    "\n",
    "def save_visuals(env, frames):\n",
    "    # Save the current game visuals\n",
    "    frame = env.render(mode='rgb_array')\n",
    "    frames.append(frame)\n",
    "\n",
    "def save_frames_as_gif(container, episode_id, frames):\n",
    "    gif = Image.fromarray(np.copy(frames[0]))\n",
    "       \n",
    "    gif_name = 'lunar_lander.{}.{}.gif'.format(episode_id, random.randint(0,2e9))\n",
    "\n",
    "    gif.save(\n",
    "        gif_name,\n",
    "        append_images=list(map(lambda im: Image.fromarray(im), frames[1:])),\n",
    "        save_all=True, duration=5, loop=0\n",
    "    )\n",
    "\n",
    "    container[episode_id] = gif_name"
   ]
  },
  {
   "cell_type": "code",
   "execution_count": 24,
   "metadata": {},
   "outputs": [
    {
     "name": "stdout",
     "output_type": "stream",
     "text": [
      "8 4\n"
     ]
    }
   ],
   "source": [
    "def construct_q_network(state_dim, action_dim):\n",
    "    \"\"\"Construct the critic network with q-values per action as output\"\"\"\n",
    "    model = keras.Sequential([\n",
    "        layers.Input(shape=(state_dim)),\n",
    "        layers.Dense(32, activation=\"relu\"),\n",
    "        layers.Dense(64, activation=\"relu\"),\n",
    "        layers.Dense(256, activation=\"relu\"),\n",
    "        layers.Dense(64, activation=\"relu\"),\n",
    "        layers.Dense(action_dim, activation='linear')\n",
    "    ])\n",
    "    \n",
    "    model.compile(optimizer=optimizers.Adam(.001), loss='mse')\n",
    "\n",
    "    return model\n",
    "\n",
    "N_STATES = env.observation_space.shape[0]\n",
    "N_ACTIONS = env.action_space.n\n",
    "\n",
    "print(N_STATES, N_ACTIONS)\n",
    "\n",
    "model = construct_q_network(N_STATES, N_ACTIONS)"
   ]
  },
  {
   "cell_type": "code",
   "execution_count": 25,
   "metadata": {},
   "outputs": [
    {
     "name": "stdout",
     "output_type": "stream",
     "text": [
      "\n",
      "Episode: 0 \n",
      "\n"
     ]
    },
    {
     "name": "stderr",
     "output_type": "stream",
     "text": [
      "2022-06-21 15:57:35.837653: I tensorflow/core/grappler/optimizers/custom_graph_optimizer_registry.cc:113] Plugin optimizer for device_type GPU is enabled.\n",
      "2022-06-21 15:57:36.239891: I tensorflow/core/grappler/optimizers/custom_graph_optimizer_registry.cc:113] Plugin optimizer for device_type GPU is enabled.\n"
     ]
    },
    {
     "name": "stdout",
     "output_type": "stream",
     "text": [
      "Step:  0 Loss:  0.9077377319335938  Score:  -1.9416252616447878\n",
      "Step:  20 Loss:  1.379498839378357  Score:  -48.84642135963982\n",
      "Step:  40 Loss:  1.0258983373641968  Score:  -55.63297821037716\n",
      "Step:  60 Loss:  1.1990224123001099  Score:  -101.84139920912295\n"
     ]
    },
    {
     "name": "stderr",
     "output_type": "stream",
     "text": [
      "2022-06-21 15:57:37.323255: I tensorflow/core/grappler/optimizers/custom_graph_optimizer_registry.cc:113] Plugin optimizer for device_type GPU is enabled.\n",
      "2022-06-21 15:57:37.560819: I tensorflow/core/grappler/optimizers/custom_graph_optimizer_registry.cc:113] Plugin optimizer for device_type GPU is enabled.\n"
     ]
    },
    {
     "name": "stdout",
     "output_type": "stream",
     "text": [
      "Step:  80 Loss:  2.42220401763916  Score:  -197.7800147039634\n",
      "Episode: 0 Steps: 90\n",
      "Final Reward: -100 Score: -425.6919657519108\n"
     ]
    }
   ],
   "source": [
    "import pickle\n",
    "\n",
    "GAMMA = 0.95\n",
    "EXPLORATION_RATE = 0.5\n",
    "\n",
    "def choose_action(model, state):\n",
    "    random_action = lambda: np.random.randint(N_ACTIONS)\n",
    "    \n",
    "    def predicted_action():\n",
    "        q_values = model(tf.expand_dims(state, 0))\n",
    "        action = tf.squeeze(tf.argmax(q_values, axis=-1))\n",
    "        return action.numpy()\n",
    "\n",
    "    # Choose between the greey move or the random move.\n",
    "    # Greedy move take the greedy approach to chose the best current action.\n",
    "    epsilon = np.random.rand()\n",
    "    action =  random_action() if epsilon <= EXPLORATION_RATE else predicted_action()\n",
    "\n",
    "    return action\n",
    "\n",
    "def obs_to_state(obs):\n",
    "    state = np.squeeze(obs)\n",
    "    return state\n",
    "\n",
    "def play(model, state):\n",
    "    return choose_action(model, state)\n",
    "\n",
    "def capped_append(memory, data, max_size=10000):\n",
    "    memory.append(data)\n",
    "    if len(memory) > max_size: memory.pop(0)\n",
    "\n",
    "def normalize_reward(reward, min=-150.0, max=150.0):\n",
    "    return (reward-min)/(max-min)\n",
    "\n",
    "def update_exploration_rate(step_id):\n",
    "    global EXPLORATION_RATE\n",
    "    if step_id > 1000: EXPLORATION_RATE = .01\n",
    "    elif step_id > 500: EXPLORATION_RATE = .05\n",
    "    elif step_id > 300: EXPLORATION_RATE = .1\n",
    "    elif step_id > 100: EXPLORATION_RATE = .2\n",
    "    elif step_id > 50: EXPLORATION_RATE = .3\n",
    "    else: EXPLORATION_RATE = .5\n",
    "\n",
    "def batch_train(step_id, model, memory, score, bs=64):\n",
    "    update_exploration_rate(step_id)\n",
    "    batch = random.sample(memory, bs) if len(memory) > bs else memory\n",
    "\n",
    "    X = tf.stack([m[0] for m in batch])\n",
    "    next_X = tf.stack([m[3] for m in batch])\n",
    "\n",
    "    q_s_a = model.predict(X)\n",
    "    q_s_a_next = model.predict(next_X)\n",
    "\n",
    "    for idx, (_, action, reward, _, done) in enumerate(batch):\n",
    "        if done:\n",
    "            q_s_a[idx][action] = reward\n",
    "        else:\n",
    "            q_s_a[idx][action] = reward + GAMMA*np.amax(q_s_a_next[idx])\n",
    "    \n",
    "    history = model.fit(tf.stack(X), q_s_a, batch_size=bs, epochs=1, verbose=0)\n",
    "\n",
    "    if step_id%4 == 0:\n",
    "        print('Step: ', step_id, 'Loss: ', history.history['loss'][-1], ' Score: ', score)\n",
    "    \n",
    "episodes = 1\n",
    "memory = []\n",
    "last_step_memory = []\n",
    "batch_size = 64\n",
    "sims = {}\n",
    "episode_results = []\n",
    "\n",
    "# Reset the environment to start training from scratch.\n",
    "obs = env.reset()\n",
    "\n",
    "for episode_id in range(episodes):\n",
    "    images = []\n",
    "    score = 0\n",
    "\n",
    "    print('\\nEpisode: {} \\n'.format(episode_id))\n",
    "\n",
    "    for step_id in range(1000):\n",
    "        state = obs_to_state(obs)\n",
    "        action = play(model, state)\n",
    "        obs, reward, done, _ = env.step(action)\n",
    "        score += reward\n",
    "\n",
    "        # Save event data to memory for training later\n",
    "        capped_append(memory, (state, action, reward, obs_to_state(obs), done))\n",
    "        \n",
    "        # Save the current game visuals\n",
    "        save_visuals(env, images)\n",
    "\n",
    "        # Train model based on the memory\n",
    "        if step_id%20 == 0: batch_train(step_id, model, memory, score)\n",
    "\n",
    "        if done:\n",
    "            print('Episode:', episode_id, 'Steps:', step_id)\n",
    "            print('Final Reward:', reward, 'Score:', score)\n",
    "            episode_results.append((step_id, score, reward, True if reward == 100 else False))\n",
    "            break\n",
    "\n",
    "    obs = env.reset()\n",
    "    save_frames_as_gif(sims, episode_id, images)\n",
    "\n",
    "with open('lunar_lander.results.pkl', 'wb') as f:\n",
    "    pickle.dump(episode_results, f)\n",
    "\n",
    "model.save_weights('lunar_lander.h5')"
   ]
  },
  {
   "cell_type": "code",
   "execution_count": 26,
   "metadata": {},
   "outputs": [
    {
     "data": {
      "text/html": [
       "<div style=\"display: flex; flex-wrap: wrap;\"><div style=\"margin: 0 .2%;  width:20%\"><img src=\"lunar_lander.0.7584988.gif\"/>\n",
       "<p style=\"text-align: center\">Episode: 0</p></div></div>"
      ],
      "text/plain": [
       "<IPython.core.display.HTML object>"
      ]
     },
     "metadata": {},
     "output_type": "display_data"
    }
   ],
   "source": [
    "def display_episodes(sims, episodes):\n",
    "    html_preable = '<div style=\"display: flex; flex-wrap: wrap;\">'\n",
    "    html_postamble = '</div>'\n",
    "    html_body = ''\n",
    "    for episode_id in episodes:\n",
    "        content_preamble = '<div style=\"margin: 0 .2%;  width:20%\">'\n",
    "        content_postamble = '</div>'\n",
    "        gif_name = sims[episode_id]\n",
    "\n",
    "        content = '<img src=\"{}\"/>\\n<p style=\"text-align: center\">Episode: {}</p>'.format(gif_name, episode_id)\n",
    "        html_body += content_preamble + content + content_postamble\n",
    "\n",
    "    display(HTML(html_preable + html_body + html_postamble))\n",
    "\n",
    "display_episodes(sims, range(episodes)[:15])"
   ]
  },
  {
   "cell_type": "code",
   "execution_count": 27,
   "metadata": {},
   "outputs": [
    {
     "data": {
      "text/html": [
       "<div>\n",
       "<style scoped>\n",
       "    .dataframe tbody tr th:only-of-type {\n",
       "        vertical-align: middle;\n",
       "    }\n",
       "\n",
       "    .dataframe tbody tr th {\n",
       "        vertical-align: top;\n",
       "    }\n",
       "\n",
       "    .dataframe thead th {\n",
       "        text-align: right;\n",
       "    }\n",
       "</style>\n",
       "<table border=\"1\" class=\"dataframe\">\n",
       "  <thead>\n",
       "    <tr style=\"text-align: right;\">\n",
       "      <th></th>\n",
       "      <th>Steps</th>\n",
       "      <th>Score</th>\n",
       "      <th>Final Reward</th>\n",
       "      <th>Finished</th>\n",
       "    </tr>\n",
       "  </thead>\n",
       "  <tbody>\n",
       "    <tr>\n",
       "      <th>0</th>\n",
       "      <td>90</td>\n",
       "      <td>-425.691966</td>\n",
       "      <td>-100</td>\n",
       "      <td>False</td>\n",
       "    </tr>\n",
       "  </tbody>\n",
       "</table>\n",
       "</div>"
      ],
      "text/plain": [
       "   Steps       Score  Final Reward  Finished\n",
       "0     90 -425.691966          -100     False"
      ]
     },
     "metadata": {},
     "output_type": "display_data"
    }
   ],
   "source": [
    "import pandas as pd\n",
    "\n",
    "with open('lunar_lander.results.pkl', 'rb') as f:\n",
    "    results = pickle.load(f)\n",
    "    pdf = pd.DataFrame(results, columns=['Steps', 'Score', 'Final Reward', 'Finished'])\n",
    "    display(pdf)"
   ]
  }
 ],
 "metadata": {
  "kernelspec": {
   "display_name": "Python 3.9.10 ('base')",
   "language": "python",
   "name": "python3"
  },
  "language_info": {
   "codemirror_mode": {
    "name": "ipython",
    "version": 3
   },
   "file_extension": ".py",
   "mimetype": "text/x-python",
   "name": "python",
   "nbconvert_exporter": "python",
   "pygments_lexer": "ipython3",
   "version": "3.9.10"
  },
  "orig_nbformat": 4,
  "vscode": {
   "interpreter": {
    "hash": "ef4ac4ea1ec422be6b4eb59e3fa0ded4ce016edaf83e8378f1dbc473945965d7"
   }
  }
 },
 "nbformat": 4,
 "nbformat_minor": 2
}
