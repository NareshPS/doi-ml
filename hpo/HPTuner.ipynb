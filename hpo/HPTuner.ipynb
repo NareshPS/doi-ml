{
 "cells": [
  {
   "cell_type": "code",
   "execution_count": 1,
   "metadata": {},
   "outputs": [],
   "source": [
    "%%capture\n",
    "import operator\n",
    "\n",
    "import tensorflow as tf\n",
    "import tensorflow_datasets as tfds\n",
    "import numpy as np\n",
    "import importlib as imp\n",
    "\n",
    "from collections import namedtuple\n",
    "from random import sample, shuffle\n",
    "from functools import reduce\n",
    "from itertools import accumulate\n",
    "from math import floor, ceil, sqrt, log, pi\n",
    "from matplotlib import pyplot as plt\n",
    "from tensorflow.keras import layers, utils, losses, models as mds, optimizers\n",
    "\n",
    "if imp.util.find_spec('aggdraw'): import aggdraw\n",
    "if imp.util.find_spec('tensorflow_addons'): from tensorflow_addons import layers as tfa_layers\n",
    "if imp.util.find_spec('tensorflow_models'): from official.vision.beta.ops import augment as visaugment\n",
    "if imp.util.find_spec('tensorflow_probability'): from tensorflow_probability import distributions as tfd\n",
    "if imp.util.find_spec('keras_tuner'): import keras_tuner as kt"
   ]
  },
  {
   "cell_type": "code",
   "execution_count": 2,
   "metadata": {},
   "outputs": [
    {
     "name": "stdout",
     "output_type": "stream",
     "text": [
      "Metal device set to: Apple M1\n",
      "\n",
      "systemMemory: 8.00 GB\n",
      "maxCacheSize: 2.67 GB\n",
      "\n"
     ]
    },
    {
     "name": "stderr",
     "output_type": "stream",
     "text": [
      "2022-09-09 14:00:51.770484: I tensorflow/core/common_runtime/pluggable_device/pluggable_device_factory.cc:305] Could not identify NUMA node of platform GPU ID 0, defaulting to 0. Your kernel may not have been built with NUMA support.\n",
      "2022-09-09 14:00:51.770622: I tensorflow/core/common_runtime/pluggable_device/pluggable_device_factory.cc:271] Created TensorFlow device (/job:localhost/replica:0/task:0/device:GPU:0 with 0 MB memory) -> physical PluggableDevice (device: 0, name: METAL, pci bus id: <undefined>)\n"
     ]
    }
   ],
   "source": [
    "# Dataset image size\n",
    "IMG_SIZE = 264\n",
    "N_CLASSES = 102\n",
    "\n",
    "def preprocess(image, *args):\n",
    "    image = tf.image.resize_with_pad(image, IMG_SIZE, IMG_SIZE)\n",
    "    image /= 255\n",
    "    return (image, *args)\n",
    "\n",
    "train_ds, val_ds = tfds.load(\n",
    "    'oxford_flowers102',\n",
    "    split=['train', 'validation'],\n",
    "    as_supervised=True,\n",
    "    read_config=tfds.ReadConfig(try_autocache=False)\n",
    ")\n",
    "\n",
    "train_ds = train_ds.map(preprocess, num_parallel_calls=tf.data.AUTOTUNE)\n",
    "val_ds = val_ds.map(preprocess, num_parallel_calls=tf.data.AUTOTUNE)"
   ]
  },
  {
   "cell_type": "code",
   "execution_count": 3,
   "metadata": {},
   "outputs": [],
   "source": [
    "def create_model(lr=0.001):\n",
    "    m = tf.keras.Sequential([\n",
    "        layers.Conv2D(32, 3, padding='same', activation='relu', input_shape=(IMG_SIZE, IMG_SIZE, 3)),\n",
    "        layers.MaxPool2D(2),\n",
    "        layers.Conv2D(32, 3, padding='same', activation='relu'),\n",
    "        layers.MaxPool2D(2),\n",
    "        layers.Conv2D(32, 3, padding='same', activation='relu'),\n",
    "        layers.MaxPool2D(2),\n",
    "        layers.Flatten(),\n",
    "        layers.Dense(N_CLASSES, activation='softmax')\n",
    "    ])\n",
    "    \n",
    "    optimizer = tf.keras.optimizers.Nadam(lr)\n",
    "    m.compile(optimizer=optimizer, loss='sparse_categorical_crossentropy', metrics='accuracy')\n",
    "\n",
    "    return m\n",
    "\n",
    "def create_with_params(lr):\n",
    "    return create_model(lr)"
   ]
  },
  {
   "cell_type": "markdown",
   "metadata": {},
   "source": [
    "## Random Search"
   ]
  },
  {
   "cell_type": "code",
   "execution_count": 4,
   "metadata": {},
   "outputs": [
    {
     "name": "stdout",
     "output_type": "stream",
     "text": [
      "Trial 1 Complete [00h 00m 14s]\n",
      "val_loss: 4.6880927085876465\n",
      "\n",
      "Best val_loss So Far: 4.6880927085876465\n",
      "Total elapsed time: 00h 00m 14s\n",
      "\n",
      "Search: Running Trial #2\n",
      "\n",
      "Value             |Best Value So Far |Hyperparameter\n",
      "0.0028644         |0.00035276        |lr\n",
      "24                |24                |bs\n",
      "\n",
      "{'lr': 0.002864353203357012, 'bs': 24}\n",
      "Epoch 1/10\n"
     ]
    },
    {
     "name": "stderr",
     "output_type": "stream",
     "text": [
      "2022-09-09 14:00:22.512261: I tensorflow/core/grappler/optimizers/custom_graph_optimizer_registry.cc:113] Plugin optimizer for device_type GPU is enabled.\n",
      "2022-09-09 14:00:22.578565: I tensorflow/core/grappler/optimizers/custom_graph_optimizer_registry.cc:113] Plugin optimizer for device_type GPU is enabled.\n",
      "2022-09-09 14:00:22.947831: I tensorflow/core/grappler/optimizers/custom_graph_optimizer_registry.cc:113] Plugin optimizer for device_type GPU is enabled.\n"
     ]
    },
    {
     "name": "stdout",
     "output_type": "stream",
     "text": [
      "1/1 [==============================] - ETA: 0s - loss: 4.6314 - accuracy: 0.0000e+00"
     ]
    },
    {
     "name": "stderr",
     "output_type": "stream",
     "text": [
      "2022-09-09 14:00:24.975983: I tensorflow/core/grappler/optimizers/custom_graph_optimizer_registry.cc:113] Plugin optimizer for device_type GPU is enabled.\n"
     ]
    },
    {
     "name": "stdout",
     "output_type": "stream",
     "text": [
      "1/1 [==============================] - 3s 3s/step - loss: 4.6314 - accuracy: 0.0000e+00 - val_loss: 8.2313 - val_accuracy: 0.0417\n"
     ]
    },
    {
     "name": "stderr",
     "output_type": "stream",
     "text": [
      "2022-09-09 14:00:25.177673: W tensorflow/core/kernels/data/cache_dataset_ops.cc:768] The calling iterator did not fully read the dataset being cached. In order to avoid unexpected truncation of the dataset, the partially cached contents of the dataset  will be discarded. This can happen if you have an input pipeline similar to `dataset.cache().take(k).repeat()`. You should use `dataset.take(k).cache().repeat()` instead.\n"
     ]
    },
    {
     "name": "stdout",
     "output_type": "stream",
     "text": [
      "Epoch 2/10\n"
     ]
    },
    {
     "name": "stderr",
     "output_type": "stream",
     "text": [
      "2022-09-09 14:00:25.402538: I tensorflow/core/grappler/optimizers/custom_graph_optimizer_registry.cc:113] Plugin optimizer for device_type GPU is enabled.\n"
     ]
    },
    {
     "name": "stdout",
     "output_type": "stream",
     "text": [
      "1/1 [==============================] - 2s 2s/step - loss: 9.9318 - accuracy: 0.0000e+00 - val_loss: 4.7376 - val_accuracy: 0.0000e+00\n"
     ]
    },
    {
     "name": "stderr",
     "output_type": "stream",
     "text": [
      "2022-09-09 14:00:27.224948: W tensorflow/core/kernels/data/cache_dataset_ops.cc:768] The calling iterator did not fully read the dataset being cached. In order to avoid unexpected truncation of the dataset, the partially cached contents of the dataset  will be discarded. This can happen if you have an input pipeline similar to `dataset.cache().take(k).repeat()`. You should use `dataset.take(k).cache().repeat()` instead.\n"
     ]
    },
    {
     "name": "stdout",
     "output_type": "stream",
     "text": [
      "Epoch 3/10\n"
     ]
    },
    {
     "name": "stderr",
     "output_type": "stream",
     "text": [
      "2022-09-09 14:00:27.444510: I tensorflow/core/grappler/optimizers/custom_graph_optimizer_registry.cc:113] Plugin optimizer for device_type GPU is enabled.\n"
     ]
    },
    {
     "name": "stdout",
     "output_type": "stream",
     "text": [
      "1/1 [==============================] - 1s 1s/step - loss: 4.9197 - accuracy: 0.0417 - val_loss: 4.6461 - val_accuracy: 0.0000e+00\n"
     ]
    },
    {
     "name": "stderr",
     "output_type": "stream",
     "text": [
      "2022-09-09 14:00:28.423045: W tensorflow/core/kernels/data/cache_dataset_ops.cc:768] The calling iterator did not fully read the dataset being cached. In order to avoid unexpected truncation of the dataset, the partially cached contents of the dataset  will be discarded. This can happen if you have an input pipeline similar to `dataset.cache().take(k).repeat()`. You should use `dataset.take(k).cache().repeat()` instead.\n",
      "2022-09-09 14:00:28.605844: I tensorflow/core/grappler/optimizers/custom_graph_optimizer_registry.cc:113] Plugin optimizer for device_type GPU is enabled.\n"
     ]
    },
    {
     "name": "stdout",
     "output_type": "stream",
     "text": [
      "Epoch 4/10\n",
      "1/1 [==============================] - 1s 1s/step - loss: 4.7759 - accuracy: 0.0000e+00 - val_loss: 4.5756 - val_accuracy: 0.0000e+00\n"
     ]
    },
    {
     "name": "stderr",
     "output_type": "stream",
     "text": [
      "2022-09-09 14:00:29.578006: W tensorflow/core/kernels/data/cache_dataset_ops.cc:768] The calling iterator did not fully read the dataset being cached. In order to avoid unexpected truncation of the dataset, the partially cached contents of the dataset  will be discarded. This can happen if you have an input pipeline similar to `dataset.cache().take(k).repeat()`. You should use `dataset.take(k).cache().repeat()` instead.\n",
      "2022-09-09 14:00:29.734131: I tensorflow/core/grappler/optimizers/custom_graph_optimizer_registry.cc:113] Plugin optimizer for device_type GPU is enabled.\n"
     ]
    },
    {
     "name": "stdout",
     "output_type": "stream",
     "text": [
      "Epoch 5/10\n"
     ]
    },
    {
     "ename": "",
     "evalue": "",
     "output_type": "error",
     "traceback": [
      "\u001b[1;31mThe Kernel crashed while executing code in the the current cell or a previous cell. Please review the code in the cell(s) to identify a possible cause of the failure. Click <a href='https://aka.ms/vscodeJupyterKernelCrash'>here</a> for more info. View Jupyter <a href='command:jupyter.viewOutput'>log</a> for further details."
     ]
    },
    {
     "ename": "",
     "evalue": "",
     "output_type": "error",
     "traceback": [
      "\u001b[1;31mCanceled future for execute_request message before replies were done"
     ]
    }
   ],
   "source": [
    "def build_model_with_hp():\n",
    "    def build_model(hp):\n",
    "        lr = hp.Float(\"lr\", min_value=1e-4, max_value=1e-2, sampling=\"log\")\n",
    "        bs = hp.Choice('bs', [8, 16, 24, 32])\n",
    "        m = create_with_params(lr=lr)\n",
    "\n",
    "        return m\n",
    "    \n",
    "    return build_model\n",
    "\n",
    "class RandomSearchWithBatch(kt.RandomSearch):\n",
    "    def run_trial(self, trial, *args, **kwargs):\n",
    "        augs = tf.keras.Sequential([\n",
    "            layers.RandomFlip(\"horizontal\"),\n",
    "            layers.RandomRotation(0.1),\n",
    "        ])\n",
    "        print(trial.hyperparameters.values)\n",
    "        train_ds = args[0]\n",
    "        val_ds = kwargs.get('validation_data')\n",
    "        batch_size = trial.hyperparameters['bs']\n",
    "\n",
    "        tds = train_ds.shuffle(batch_size*20, reshuffle_each_iteration=True).batch(batch_size)\n",
    "        tds = tds.map(lambda x,y: (augs(x, training=True), y), num_parallel_calls=tf.data.AUTOTUNE).take(1)\n",
    "        vds = val_ds.batch(batch_size).cache().take(1) if val_ds else None\n",
    "\n",
    "        # Update Trial Arguments\n",
    "        args = tds, *args[1:]\n",
    "        kwargs['validation_data'] = vds\n",
    "\n",
    "        return super(RandomSearchWithBatch, self).run_trial(trial, *args, **kwargs)\n",
    "\n",
    "# Tune Hyper Parameters\n",
    "tuner = RandomSearchWithBatch(build_model_with_hp(), objective='val_loss', max_trials=7)\n",
    "tuner.search(train_ds, epochs=10, validation_data=val_ds)\n",
    "\n",
    "# Select best parameters\n",
    "model = tuner.get_best_models()[0]\n",
    "BATCH_SIZE = tuner.get_best_hyperparameters()[0]['bs']\n",
    "tuner.results_summary()\n",
    "tuner.get_best_hyperparameters()[0].values"
   ]
  },
  {
   "cell_type": "markdown",
   "metadata": {},
   "source": [
    "## Bayesian Optimization"
   ]
  },
  {
   "cell_type": "code",
   "execution_count": 6,
   "metadata": {},
   "outputs": [
    {
     "name": "stdout",
     "output_type": "stream",
     "text": [
      "Trial 7 Complete [00h 00m 16s]\n",
      "val_loss: 4.633131980895996\n",
      "\n",
      "Best val_loss So Far: 4.519103050231934\n",
      "Total elapsed time: 00h 01m 59s\n",
      "Results summary\n",
      "Results in ./bayesian\n",
      "Showing 10 best trials\n",
      "<keras_tuner.engine.objective.Objective object at 0x2ac8a3370>\n",
      "Trial summary\n",
      "Hyperparameters:\n",
      "lr: 0.0015338120284119725\n",
      "bs: 32\n",
      "Score: 4.519103050231934\n",
      "Trial summary\n",
      "Hyperparameters:\n",
      "lr: 0.0007078536645991944\n",
      "bs: 32\n",
      "Score: 4.56817626953125\n",
      "Trial summary\n",
      "Hyperparameters:\n",
      "lr: 0.001961600367042234\n",
      "bs: 32\n",
      "Score: 4.597342014312744\n",
      "Trial summary\n",
      "Hyperparameters:\n",
      "lr: 0.0011360464630244373\n",
      "bs: 32\n",
      "Score: 4.604775428771973\n",
      "Trial summary\n",
      "Hyperparameters:\n",
      "lr: 0.01\n",
      "bs: 32\n",
      "Score: 4.615253925323486\n",
      "Trial summary\n",
      "Hyperparameters:\n",
      "lr: 0.0001\n",
      "bs: 32\n",
      "Score: 4.633131980895996\n",
      "Trial summary\n",
      "Hyperparameters:\n",
      "lr: 0.0003967960974673944\n",
      "bs: 24\n",
      "Score: 4.77764892578125\n"
     ]
    },
    {
     "data": {
      "text/plain": [
       "{'lr': 0.0015338120284119725, 'bs': 32}"
      ]
     },
     "execution_count": 6,
     "metadata": {},
     "output_type": "execute_result"
    }
   ],
   "source": [
    "def build_model_with_hp():\n",
    "    def build_model(hp):\n",
    "        lr = hp.Float(\"lr\", min_value=1e-4, max_value=1e-2, sampling=\"log\")\n",
    "        bs = hp.Choice('bs', [8, 16, 24, 32])\n",
    "        m = create_with_params(lr=lr)\n",
    "\n",
    "        return m\n",
    "    \n",
    "    return build_model\n",
    "\n",
    "class BayesianOptimizationWithBatch(kt.BayesianOptimization):\n",
    "    def run_trial(self, trial, *args, **kwargs):\n",
    "        augs = tf.keras.Sequential([\n",
    "            layers.RandomFlip(\"horizontal\"),\n",
    "            layers.RandomRotation(0.1),\n",
    "        ])\n",
    "        print(trial.hyperparameters.values)\n",
    "        train_ds = args[0]\n",
    "        val_ds = kwargs.get('validation_data')\n",
    "        batch_size = trial.hyperparameters['bs']\n",
    "\n",
    "        tds = train_ds.shuffle(batch_size*20, reshuffle_each_iteration=True).batch(batch_size)\n",
    "        tds = tds.map(lambda x,y: (augs(x, training=True), y), num_parallel_calls=tf.data.AUTOTUNE).take(1)\n",
    "        vds = val_ds.batch(batch_size).cache().take(1) if val_ds else None\n",
    "\n",
    "        # Update Trial Arguments\n",
    "        args = tds, *args[1:]\n",
    "        kwargs['validation_data'] = vds\n",
    "\n",
    "        return super(BayesianOptimizationWithBatch, self).run_trial(trial, *args, **kwargs)\n",
    "\n",
    "# Tune Hyper Parameters\n",
    "tuner = BayesianOptimizationWithBatch(build_model_with_hp(), objective='val_loss', max_trials=7, project_name='bayesian')\n",
    "tuner.search(train_ds, epochs=10, validation_data=val_ds)\n",
    "\n",
    "# Select best parameters\n",
    "model = tuner.get_best_models()[0]\n",
    "BATCH_SIZE = tuner.get_best_hyperparameters()[0]['bs']\n",
    "tuner.results_summary()\n",
    "tuner.get_best_hyperparameters()[0].values"
   ]
  },
  {
   "cell_type": "code",
   "execution_count": 39,
   "metadata": {},
   "outputs": [
    {
     "data": {
      "text/plain": [
       "0.0003967960974673944"
      ]
     },
     "execution_count": 39,
     "metadata": {},
     "output_type": "execute_result"
    }
   ],
   "source": [
    "tuner.oracle.trials[str(0)].hyperparameters['lr']"
   ]
  },
  {
   "cell_type": "code",
   "execution_count": 45,
   "metadata": {},
   "outputs": [
    {
     "data": {
      "text/plain": [
       "[<matplotlib.lines.Line2D at 0x14bd7d310>]"
      ]
     },
     "execution_count": 45,
     "metadata": {},
     "output_type": "execute_result"
    },
    {
     "data": {
      "image/png": "[encoded data removed]",
      "text/plain": [
       "<Figure size 432x288 with 1 Axes>"
      ]
     },
     "metadata": {
      "needs_background": "light"
     },
     "output_type": "display_data"
    },
    {
     "data": {
      "image/png": "[encoded data removed]",
      "text/plain": [
       "<Figure size 432x288 with 1 Axes>"
      ]
     },
     "metadata": {
      "needs_background": "light"
     },
     "output_type": "display_data"
    }
   ],
   "source": [
    "learning_rates = []\n",
    "scores = []\n",
    "\n",
    "for tid in range(tuner.oracle.max_trials):\n",
    "    learning_rates.append(tuner.oracle.trials[str(tid)].hyperparameters['lr'])\n",
    "    scores.append(tuner.oracle.trials[str(tid)].score)\n",
    "\n",
    "plt.plot(range(tuner.oracle.max_trials), learning_rates)\n",
    "plt.figure()\n",
    "plt.plot(range(tuner.oracle.max_trials), scores)\n"
   ]
  }
 ],
 "metadata": {
  "kernelspec": {
   "display_name": "Python 3.9.10 ('base')",
   "language": "python",
   "name": "python3"
  },
  "language_info": {
   "codemirror_mode": {
    "name": "ipython",
    "version": 3
   },
   "file_extension": ".py",
   "mimetype": "text/x-python",
   "name": "python",
   "nbconvert_exporter": "python",
   "pygments_lexer": "ipython3",
   "version": "3.9.10"
  },
  "orig_nbformat": 4,
  "vscode": {
   "interpreter": {
    "hash": "ef4ac4ea1ec422be6b4eb59e3fa0ded4ce016edaf83e8378f1dbc473945965d7"
   }
  }
 },
 "nbformat": 4,
 "nbformat_minor": 2
}
