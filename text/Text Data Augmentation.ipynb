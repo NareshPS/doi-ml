{
  "nbformat": 4,
  "nbformat_minor": 0,
  "metadata": {
    "colab": {
      "name": "Text Data Augmentation.ipynb",
      "provenance": [],
      "collapsed_sections": [
        "li-Dc8YVp0nC",
        "ZRctfCeYt8fo",
        "AjGE1Jvw4icb",
        "gKpB4tvFWRyD",
        "pERzQ1Ej3l2a",
        "aOzzYD-_W9zr",
        "yWJytehVs0Ni"
      ]
    },
    "kernelspec": {
      "display_name": "Python 3",
      "name": "python3"
    },
    "language_info": {
      "name": "python"
    },
    "accelerator": "GPU"
  },
  "cells": [
    {
      "cell_type": "markdown",
      "metadata": {
        "id": "li-Dc8YVp0nC"
      },
      "source": [
        "# Installation\n",
        "\n",
        "Install the necessary modules that are going to be used in the notebook."
      ]
    },
    {
      "cell_type": "code",
      "metadata": {
        "id": "PxIsG3p7pi6E"
      },
      "source": [
        "%%capture\n",
        "!pip install -U scikit-learn tensorflow-addons tf-models-official\n",
        "# !pip install --upgrade tfds-nightly\n",
        "!pip install dropbox\n",
        "!pip install nlpaug transformers"
      ],
      "execution_count": null,
      "outputs": []
    },
    {
      "cell_type": "code",
      "metadata": {
        "id": "YXPkv3OHp6_8"
      },
      "source": [
        "import tensorflow as tf\n",
        "import numpy as np\n",
        "import pandas as pd\n",
        "import matplotlib.pyplot as plt\n",
        "import tensorflow_datasets as tfds\n",
        "import tensorflow_probability as tfpd\n",
        "import tensorflow_addons as tfa\n",
        "import tensorflow_hub as hub\n",
        "import dropbox\n",
        "import pickle\n",
        "\n",
        "from tensorflow.keras import applications as apps\n",
        "from tensorflow.keras import layers, optimizers, metrics, utils\n",
        "\n",
        "from IPython.display import display\n",
        "from os import path\n",
        "from google.colab import files\n",
        "from pathlib import Path\n",
        "from time import time\n",
        "from functools import reduce\n",
        "from shutil import make_archive, unpack_archive, rmtree\n",
        "from tqdm import tqdm"
      ],
      "execution_count": null,
      "outputs": []
    },
    {
      "cell_type": "code",
      "metadata": {
        "id": "FpvUOuC3j27n"
      },
      "source": [
        "# try:\n",
        "#   tpu = tf.distribute.cluster_resolver.TPUClusterResolver()  # TPU detection\n",
        "#   print('Running on TPU ', tpu.cluster_spec().as_dict()['worker'])\n",
        "# except ValueError:\n",
        "#   raise BaseException('ERROR: Not connected to a TPU runtime; please see the previous cell in this notebook for instructions!')\n",
        "\n",
        "# tf.config.experimental_connect_to_cluster(tpu)\n",
        "# tf.tpu.experimental.initialize_tpu_system(tpu)\n",
        "# strategy = tf.distribute.TPUStrategy(tpu)"
      ],
      "execution_count": null,
      "outputs": []
    },
    {
      "cell_type": "markdown",
      "metadata": {
        "id": "9858QyylqFUr"
      },
      "source": [
        "# Dataset creation and visualization\n",
        "\n",
        "We use the *ag_news_subset* to demonstrate the sample efficiency improvements for text datasets. Tensorflow makes it available through *tensorflow_datasets* package. Details about the dataset are available at: [AG News Dataset](https://www.tensorflow.org/datasets/catalog/ag_news_subset)\n",
        "\n",
        "The AG's news topic classification dataset is constructed by choosing 4 largest classes from the original corpus. Each class contains 30,000 training samples and 1,900 testing samples. The total number of training samples is 120,000 and testing 7,600.\n",
        "\n",
        "| Name     | Id       |\n",
        "| -------- | :------: |\n",
        "| World    | 0        |\n",
        "| Sports   | 1        |\n",
        "| Business | 2        |\n",
        "| Sci/Tech | 3        |\n",
        "\n",
        "In this section, we will create the training, validation and the test splits for the dataset. The dataset elements are formatted as a tuple *(text, class_label)*. We expose the following objects:\n",
        "* train_ds (Training dataset)\n",
        "* test_ds (Test dataset)\n",
        "* ds_info (Dataset metadata object)\n",
        "\n",
        "* [Colab Tutorial](https://colab.research.google.com/github/dlmacedo/starter-academic/blob/master/content/courses/deeplearning/notebooks/tensorflow/fine_tuning_bert.ipynb#scrollTo=idxyhmrCQcw5)\n",
        "* [Kaggle Tutorial](https://www.kaggle.com/au1206/fine-tuning-bert-text-classification)"
      ]
    },
    {
      "cell_type": "code",
      "metadata": {
        "id": "afYO3pEW1Bwk"
      },
      "source": [
        "DATASET_SPLITS = ['train[:60%]', 'train[60%:]', 'test']\n",
        "NUM_CLASSES = 2 #ds_info.features['label'].num_classes"
      ],
      "execution_count": null,
      "outputs": []
    },
    {
      "cell_type": "code",
      "metadata": {
        "id": "9fgfA0i1L5T3"
      },
      "source": [
        "%%capture\n",
        "(train_ds, val_ds, test_ds), ds_info = tfds.load(\n",
        "  name='imdb_reviews', \n",
        "  split=DATASET_SPLITS,\n",
        "  as_supervised=True,\n",
        "  with_info=True\n",
        ")"
      ],
      "execution_count": null,
      "outputs": []
    },
    {
      "cell_type": "code",
      "metadata": {
        "colab": {
          "base_uri": "https://localhost:8080/"
        },
        "id": "410cBfHgODOU",
        "outputId": "0d182376-55ca-4359-cd2c-0f08f96e815e"
      },
      "source": [
        "next(train_ds.as_numpy_iterator()), ds_info"
      ],
      "execution_count": null,
      "outputs": [
        {
          "output_type": "execute_result",
          "data": {
            "text/plain": [
              "((b\"This was an absolutely terrible movie. Don't be lured in by Christopher Walken or Michael Ironside. Both are great actors, but this must simply be their worst role in history. Even their great acting could not redeem this movie's ridiculous storyline. This movie is an early nineties US propaganda piece. The most pathetic scenes were those when the Columbian rebels were making their cases for revolutions. Maria Conchita Alonso appeared phony, and her pseudo-love affair with Walken was nothing but a pathetic emotional plug in a movie that was devoid of any real meaning. I am disappointed that there are movies like this, ruining actor's like Christopher Walken's good name. I could barely sit through it.\",\n",
              "  0),\n",
              " tfds.core.DatasetInfo(\n",
              "     name='imdb_reviews',\n",
              "     version=1.0.0,\n",
              "     description='Large Movie Review Dataset.\n",
              " This is a dataset for binary sentiment classification containing substantially more data than previous benchmark datasets. We provide a set of 25,000 highly polar movie reviews for training, and 25,000 for testing. There is additional unlabeled data for use as well.',\n",
              "     homepage='http://ai.stanford.edu/~amaas/data/sentiment/',\n",
              "     features=FeaturesDict({\n",
              "         'label': ClassLabel(shape=(), dtype=tf.int64, num_classes=2),\n",
              "         'text': Text(shape=(), dtype=tf.string),\n",
              "     }),\n",
              "     total_num_examples=100000,\n",
              "     splits={\n",
              "         'test': 25000,\n",
              "         'train': 25000,\n",
              "         'unsupervised': 50000,\n",
              "     },\n",
              "     supervised_keys=('text', 'label'),\n",
              "     citation=\"\"\"@InProceedings{maas-EtAl:2011:ACL-HLT2011,\n",
              "       author    = {Maas, Andrew L.  and  Daly, Raymond E.  and  Pham, Peter T.  and  Huang, Dan  and  Ng, Andrew Y.  and  Potts, Christopher},\n",
              "       title     = {Learning Word Vectors for Sentiment Analysis},\n",
              "       booktitle = {Proceedings of the 49th Annual Meeting of the Association for Computational Linguistics: Human Language Technologies},\n",
              "       month     = {June},\n",
              "       year      = {2011},\n",
              "       address   = {Portland, Oregon, USA},\n",
              "       publisher = {Association for Computational Linguistics},\n",
              "       pages     = {142--150},\n",
              "       url       = {http://www.aclweb.org/anthology/P11-1015}\n",
              "     }\"\"\",\n",
              "     redistribution_info=,\n",
              " ))"
            ]
          },
          "metadata": {},
          "execution_count": 6
        }
      ]
    },
    {
      "cell_type": "markdown",
      "metadata": {
        "id": "ZRctfCeYt8fo"
      },
      "source": [
        "## Apply preliminary transformations to the datasets.\n",
        "\n",
        "These are the transformations that apply to all the splits of the dataset like data cleaning or formatting."
      ]
    },
    {
      "cell_type": "code",
      "metadata": {
        "id": "99Q1XCmprVi0"
      },
      "source": [
        "# !pip install -U gensim\n",
        "# !pip install spacy[cuda111]\n",
        "# import spacy\n",
        "# spacy.prefer_gpu()\n",
        "# !nvcc --version"
      ],
      "execution_count": null,
      "outputs": []
    },
    {
      "cell_type": "code",
      "metadata": {
        "id": "2ETx6uqAqMar"
      },
      "source": [
        "# import gensim.downloader as api\n",
        "\n",
        "# info = api.info()  # show info about available models/datasets\n",
        "# model = api.load(\"glove-twitter-25\")  # download the model and return as object ready for use\n",
        "# model.get_vector('hello')"
      ],
      "execution_count": null,
      "outputs": []
    },
    {
      "cell_type": "code",
      "metadata": {
        "colab": {
          "base_uri": "https://localhost:8080/"
        },
        "id": "cMIb6fPTwxL5",
        "outputId": "e5228cea-5b70-40d4-964b-80bcde936278"
      },
      "source": [
        "!python -m spacy download en_core_web_md"
      ],
      "execution_count": null,
      "outputs": [
        {
          "output_type": "stream",
          "name": "stdout",
          "text": [
            "Collecting en_core_web_md==2.2.5\n",
            "  Downloading https://github.com/explosion/spacy-models/releases/download/en_core_web_md-2.2.5/en_core_web_md-2.2.5.tar.gz (96.4 MB)\n",
            "\u001b[K     |████████████████████████████████| 96.4 MB 1.3 MB/s \n",
            "\u001b[?25hRequirement already satisfied: spacy>=2.2.2 in /usr/local/lib/python3.7/dist-packages (from en_core_web_md==2.2.5) (2.2.4)\n",
            "Requirement already satisfied: tqdm<5.0.0,>=4.38.0 in /usr/local/lib/python3.7/dist-packages (from spacy>=2.2.2->en_core_web_md==2.2.5) (4.62.3)\n",
            "Requirement already satisfied: cymem<2.1.0,>=2.0.2 in /usr/local/lib/python3.7/dist-packages (from spacy>=2.2.2->en_core_web_md==2.2.5) (2.0.5)\n",
            "Requirement already satisfied: setuptools in /usr/local/lib/python3.7/dist-packages (from spacy>=2.2.2->en_core_web_md==2.2.5) (57.4.0)\n",
            "Requirement already satisfied: requests<3.0.0,>=2.13.0 in /usr/local/lib/python3.7/dist-packages (from spacy>=2.2.2->en_core_web_md==2.2.5) (2.23.0)\n",
            "Requirement already satisfied: catalogue<1.1.0,>=0.0.7 in /usr/local/lib/python3.7/dist-packages (from spacy>=2.2.2->en_core_web_md==2.2.5) (1.0.0)\n",
            "Requirement already satisfied: blis<0.5.0,>=0.4.0 in /usr/local/lib/python3.7/dist-packages (from spacy>=2.2.2->en_core_web_md==2.2.5) (0.4.1)\n",
            "Requirement already satisfied: murmurhash<1.1.0,>=0.28.0 in /usr/local/lib/python3.7/dist-packages (from spacy>=2.2.2->en_core_web_md==2.2.5) (1.0.5)\n",
            "Requirement already satisfied: srsly<1.1.0,>=1.0.2 in /usr/local/lib/python3.7/dist-packages (from spacy>=2.2.2->en_core_web_md==2.2.5) (1.0.5)\n",
            "Requirement already satisfied: plac<1.2.0,>=0.9.6 in /usr/local/lib/python3.7/dist-packages (from spacy>=2.2.2->en_core_web_md==2.2.5) (1.1.3)\n",
            "Requirement already satisfied: thinc==7.4.0 in /usr/local/lib/python3.7/dist-packages (from spacy>=2.2.2->en_core_web_md==2.2.5) (7.4.0)\n",
            "Requirement already satisfied: numpy>=1.15.0 in /usr/local/lib/python3.7/dist-packages (from spacy>=2.2.2->en_core_web_md==2.2.5) (1.19.5)\n",
            "Requirement already satisfied: preshed<3.1.0,>=3.0.2 in /usr/local/lib/python3.7/dist-packages (from spacy>=2.2.2->en_core_web_md==2.2.5) (3.0.5)\n",
            "Requirement already satisfied: wasabi<1.1.0,>=0.4.0 in /usr/local/lib/python3.7/dist-packages (from spacy>=2.2.2->en_core_web_md==2.2.5) (0.8.2)\n",
            "Requirement already satisfied: importlib-metadata>=0.20 in /usr/local/lib/python3.7/dist-packages (from catalogue<1.1.0,>=0.0.7->spacy>=2.2.2->en_core_web_md==2.2.5) (4.8.1)\n",
            "Requirement already satisfied: zipp>=0.5 in /usr/local/lib/python3.7/dist-packages (from importlib-metadata>=0.20->catalogue<1.1.0,>=0.0.7->spacy>=2.2.2->en_core_web_md==2.2.5) (3.6.0)\n",
            "Requirement already satisfied: typing-extensions>=3.6.4 in /usr/local/lib/python3.7/dist-packages (from importlib-metadata>=0.20->catalogue<1.1.0,>=0.0.7->spacy>=2.2.2->en_core_web_md==2.2.5) (3.7.4.3)\n",
            "Requirement already satisfied: chardet<4,>=3.0.2 in /usr/local/lib/python3.7/dist-packages (from requests<3.0.0,>=2.13.0->spacy>=2.2.2->en_core_web_md==2.2.5) (3.0.4)\n",
            "Requirement already satisfied: urllib3!=1.25.0,!=1.25.1,<1.26,>=1.21.1 in /usr/local/lib/python3.7/dist-packages (from requests<3.0.0,>=2.13.0->spacy>=2.2.2->en_core_web_md==2.2.5) (1.24.3)\n",
            "Requirement already satisfied: idna<3,>=2.5 in /usr/local/lib/python3.7/dist-packages (from requests<3.0.0,>=2.13.0->spacy>=2.2.2->en_core_web_md==2.2.5) (2.10)\n",
            "Requirement already satisfied: certifi>=2017.4.17 in /usr/local/lib/python3.7/dist-packages (from requests<3.0.0,>=2.13.0->spacy>=2.2.2->en_core_web_md==2.2.5) (2021.5.30)\n",
            "Building wheels for collected packages: en-core-web-md\n",
            "  Building wheel for en-core-web-md (setup.py) ... \u001b[?25l\u001b[?25hdone\n",
            "  Created wheel for en-core-web-md: filename=en_core_web_md-2.2.5-py3-none-any.whl size=98051302 sha256=40544cf782ce8508437120a5e166b55a489d94365426616d1ecf62f073a396ad\n",
            "  Stored in directory: /tmp/pip-ephem-wheel-cache-7krwubyc/wheels/69/c5/b8/4f1c029d89238734311b3269762ab2ee325a42da2ce8edb997\n",
            "Successfully built en-core-web-md\n",
            "Installing collected packages: en-core-web-md\n",
            "Successfully installed en-core-web-md-2.2.5\n",
            "\u001b[38;5;2m✔ Download and installation successful\u001b[0m\n",
            "You can now load the model via spacy.load('en_core_web_md')\n"
          ]
        }
      ]
    },
    {
      "cell_type": "code",
      "metadata": {
        "id": "HeS8HXoCwSrO"
      },
      "source": [
        "import en_core_web_md\n",
        "nlp = en_core_web_md.load()"
      ],
      "execution_count": null,
      "outputs": []
    },
    {
      "cell_type": "code",
      "metadata": {
        "id": "GOB7JO_h57P2"
      },
      "source": [
        ""
      ],
      "execution_count": null,
      "outputs": []
    },
    {
      "cell_type": "code",
      "metadata": {
        "colab": {
          "base_uri": "https://localhost:8080/"
        },
        "id": "5yiw645k9FoN",
        "outputId": "4a907198-9257-4fde-b14a-98200fbe090a"
      },
      "source": [
        "np.zeros(shape=(10))"
      ],
      "execution_count": null,
      "outputs": [
        {
          "output_type": "execute_result",
          "data": {
            "text/plain": [
              "array([0., 0., 0., 0., 0., 0., 0., 0., 0., 0.])"
            ]
          },
          "metadata": {},
          "execution_count": 12
        }
      ]
    },
    {
      "cell_type": "code",
      "metadata": {
        "id": "6SXSWLW-yfGM"
      },
      "source": [
        "MAX_SEQ_LEN = 500\n",
        "WORD2VEC_LEN = 300\n",
        "\n",
        "def vectorizepyfn(text):\n",
        "  text = text.numpy().decode('utf-8')\n",
        "  doc = nlp(text)\n",
        "  text_vectors = np.array(list(map(lambda word: word.vector, doc))[:MAX_SEQ_LEN])\n",
        "  num_text_vectors = len(text_vectors)\n",
        "  padding = np.zeros(shape=(MAX_SEQ_LEN - num_text_vectors, WORD2VEC_LEN)) if num_text_vectors < MAX_SEQ_LEN else None\n",
        "  vector = np.concatenate((text_vectors, padding)) if padding is not None else np.array(text_vectors)\n",
        "\n",
        "  return vector\n",
        "\n",
        "def vectorizefn(text, label):\n",
        "  vector = tf.py_function(vectorizepyfn, inp=[text], Tout=tf.float32)\n",
        "  vector.set_shape((None, WORD2VEC_LEN))\n",
        "  return vector, label"
      ],
      "execution_count": null,
      "outputs": []
    },
    {
      "cell_type": "code",
      "metadata": {
        "id": "6F-SOhiwxypx"
      },
      "source": [
        "def mapchainfn(ds, funcs=[], cache=False):\n",
        "  result_ds = reduce(lambda y,x: y.map(x), funcs, ds)\n",
        "  return result_ds.cache() if cache else result_ds"
      ],
      "execution_count": null,
      "outputs": []
    },
    {
      "cell_type": "code",
      "metadata": {
        "id": "n7cxvNdsYdbr"
      },
      "source": [
        "train_prep_ds = mapchainfn(train_ds.take(500))\n",
        "val_prep_ds = mapchainfn(val_ds)\n",
        "test_prep_ds = mapchainfn(test_ds)\n",
        "# itr = train_prep_ds.map(vectorizefn)\n",
        "# next(itr)"
      ],
      "execution_count": null,
      "outputs": []
    },
    {
      "cell_type": "markdown",
      "metadata": {
        "id": "AjGE1Jvw4icb"
      },
      "source": [
        "## Dataset visualization"
      ]
    },
    {
      "cell_type": "code",
      "metadata": {
        "colab": {
          "base_uri": "https://localhost:8080/"
        },
        "id": "5TvEiDRV4mcv",
        "outputId": "96fd3e4a-f0e5-4636-a5de-d7365ae83df9"
      },
      "source": [
        "def ds_show(ds, info=None, count=10, title='dataset'):\n",
        "  df = pd.DataFrame(ds.take(count), columns=info.supervised_keys if info else [])\n",
        "  return df\n",
        "  #return display(tfds.as_dataframe(ds.take(count), info))\n",
        "\n",
        "print(ds_show(train_ds, ds_info))"
      ],
      "execution_count": null,
      "outputs": [
        {
          "output_type": "stream",
          "name": "stdout",
          "text": [
            "                                                text                                label\n",
            "0  tf.Tensor(b\"This was an absolutely terrible mo...  tf.Tensor(0, shape=(), dtype=int64)\n",
            "1  tf.Tensor(b'I have been known to fall asleep d...  tf.Tensor(0, shape=(), dtype=int64)\n",
            "2  tf.Tensor(b'Mann photographs the Alberta Rocky...  tf.Tensor(0, shape=(), dtype=int64)\n",
            "3  tf.Tensor(b'This is the kind of film for a sno...  tf.Tensor(1, shape=(), dtype=int64)\n",
            "4  tf.Tensor(b'As others have mentioned, all the ...  tf.Tensor(1, shape=(), dtype=int64)\n",
            "5  tf.Tensor(b\"This is a film which should be see...  tf.Tensor(1, shape=(), dtype=int64)\n",
            "6  tf.Tensor(b'Okay, you have:<br /><br />Penelop...  tf.Tensor(0, shape=(), dtype=int64)\n",
            "7  tf.Tensor(b'The film is based on a genuine 195...  tf.Tensor(0, shape=(), dtype=int64)\n",
            "8  tf.Tensor(b'I really love the sexy action and ...  tf.Tensor(0, shape=(), dtype=int64)\n",
            "9  tf.Tensor(b'Sure, this one isn\\'t really a blo...  tf.Tensor(0, shape=(), dtype=int64)\n"
          ]
        }
      ]
    },
    {
      "cell_type": "markdown",
      "metadata": {
        "id": "gKpB4tvFWRyD"
      },
      "source": [
        "## Metrics visualization"
      ]
    },
    {
      "cell_type": "code",
      "metadata": {
        "id": "fgN7eA8sWUZx"
      },
      "source": [
        "def plot_metric(history, metric='accuracy', val=True):\n",
        "  val_metric = 'val_' + metric\n",
        "\n",
        "  # Plot training and validation metrics\n",
        "  plt.plot(history.history[metric])\n",
        "  plt.plot(history.history[val_metric]) if val else None\n",
        "\n",
        "  plt.title('model loss')\n",
        "  plt.ylabel('loss')\n",
        "  plt.xlabel('epoch')\n",
        "  plt.legend(['train', 'val'] if val else ['train'], loc='upper left')\n",
        "  plt.show()"
      ],
      "execution_count": null,
      "outputs": []
    },
    {
      "cell_type": "markdown",
      "metadata": {
        "id": "a0LpS0YeMJBR"
      },
      "source": [
        "# Initialize the datastore\n",
        "\n",
        "We store our run data in a dropbox store. Key Variables:\n",
        "\n",
        "* **PROJECT**: Location of the store.\n",
        "* **UPLOAD_FREQUENCY**: Checkpoint upload frequency.\n"
      ]
    },
    {
      "cell_type": "code",
      "metadata": {
        "id": "EgoI4_BZ6fNB"
      },
      "source": [
        "PROJECT = 'sample_efficiency_text_word2vec'\n",
        "CHKPT_DIR = Path('chkpt')\n",
        "CHKPT_TMPL = Path(CHKPT_DIR, 'epoch-{epoch:d}-val_accuracy-{val_accuracy:.4f}/weights')\n",
        "HISTORY_DIR = Path('hist')\n",
        "INITIAL_WEIGHTS = Path('initial_weights/weights')\n",
        "UPLOAD_FREQUENCY = 20"
      ],
      "execution_count": null,
      "outputs": []
    },
    {
      "cell_type": "code",
      "metadata": {
        "id": "Ai0h5KYeMRUL"
      },
      "source": [
        "DBX = dropbox.Dropbox('')\n",
        "CHUNK_SIZE = 20 * 1024 * 1024\n",
        "\n",
        "def dbx_upload_large_file(local_path, remote_path, mode=None):\n",
        "  size = local_path.stat().st_size\n",
        "  with open(local_path, \"rb\") as f, tqdm(total=size, desc=\"Uploaded\") as pbar:\n",
        "    session_start = DBX.files_upload_session_start(f.read(CHUNK_SIZE))\n",
        "    pbar.update(CHUNK_SIZE)\n",
        "    \n",
        "    cursor = dropbox.files.UploadSessionCursor(session_id=session_start.session_id, offset=f.tell())\n",
        "    while f.tell() < size:\n",
        "      if (size - f.tell()) <= CHUNK_SIZE:\n",
        "        commit = dropbox.files.CommitInfo(path=remote_path, mode=mode)\n",
        "        DBX.files_upload_session_finish(f.read(CHUNK_SIZE), cursor, commit)\n",
        "      else:\n",
        "        DBX.files_upload_session_append_v2(f.read(CHUNK_SIZE), cursor)\n",
        "        cursor.offset = f.tell()\n",
        "      \n",
        "      pbar.update(CHUNK_SIZE)\n",
        "\n",
        "def dbx_download(local_path, remote_path):\n",
        "  DBX.files_download_to_file(local_path, remote_path)\n",
        "  return local_path\n",
        "\n",
        "def dbx_upload(local_path, remote_path, overwrite=False):\n",
        "  mode = dropbox.files.WriteMode.overwrite if overwrite else None\n",
        "  \n",
        "  if local_path.stat().st_size <= CHUNK_SIZE:\n",
        "    # Upload Small File\n",
        "    with open(local_path, \"rb\") as f: DBX.files_upload(f.read(), remote_path, mode=mode)\n",
        "  else:\n",
        "    dbx_upload_large_file(local_path, remote_path, mode)\n",
        "    \n",
        "  return remote_path\n",
        "\n",
        "def dbx_latest_filter(item):\n",
        "  return item.server_modified\n",
        "\n",
        "def dbx_latest_history(experiment):\n",
        "  hist_path = Path('/', PROJECT, experiment, HISTORY_DIR)\n",
        "  info = DBX.files_list_folder(str(hist_path))\n",
        "  latest = max(info.entries, key=dbx_latest_filter) # Latest entry\n",
        "  local_path = HISTORY_DIR / latest.name if latest else None # Local path\n",
        "  remote_path = latest.path_display if latest else None\n",
        "\n",
        "  return str(local_path), remote_path\n",
        "\n",
        "def dbx_latest_chkpt(experiment):\n",
        "  chkpt_path = path.join('/', PROJECT, experiment, CHKPT_DIR)\n",
        "  info = DBX.files_list_folder(chkpt_path)\n",
        "  latest = max(info.entries, key=dbx_latest_filter) # Latest entry\n",
        "  local_path = path.join(CHKPT_DIR, latest.name) if latest else None # Local path\n",
        "  remote_path = latest.path_display if latest else None\n",
        "\n",
        "  return local_path, remote_path\n",
        "\n",
        "def latest_local_chkpt():\n",
        "  checkpoints = Path(CHKPT_DIR).glob('**/*.index')\n",
        "  latest = max(checkpoints, key=path.getctime) if checkpoints else None\n",
        "  return latest.parent\n",
        "\n",
        "def latest_local_hist():\n",
        "  histories = HISTORY_DIR.glob('*.hist')\n",
        "  latest = max(histories, key=path.getctime) if histories else None\n",
        "  return latest\n",
        "\n",
        "def dbx_exp_download(experiment, filepath):\n",
        "  remote_path = path.join('/', PROJECT, experiment, filepath)\n",
        "  dbx_download(filepath, remote_path)\n",
        "  return filepath\n",
        "\n",
        "def dbx_exp_upload(experiment, filepath):\n",
        "  remote_path = path.join('/', PROJECT, experiment, filepath)\n",
        "  dbx_upload(filepath, remote_path)\n",
        "  return filepath\n",
        "\n",
        "def dbx_download_chkpt(experiment):\n",
        "  info = dbx_latest_chkpt(experiment)\n",
        "  return dbx_download(*info)\n",
        "\n",
        "def dbx_upload_chkpt(experiment, overwrite=False):\n",
        "  checkpoint = latest_local_chkpt()\n",
        "  zip_path = Path(make_archive(str(checkpoint), 'zip', str(checkpoint))) # Create temporary archive\n",
        "  \n",
        "  zip_name = zippath(checkpoint) # Upload file name\n",
        "  remote_path = Path('/', PROJECT, experiment, zip_name) # Construct remote path\n",
        "  dbx_upload(zip_path, str(remote_path), overwrite) # Upload file\n",
        "\n",
        "  Path(zip_path).unlink() # Clean up temporary archive\n",
        "\n",
        "  return remote_path\n",
        "\n",
        "def dbx_upload_history(experiment):\n",
        "  hist_name = latest_local_hist()\n",
        "  remote_path = Path('/', PROJECT, experiment, hist_name)\n",
        "  return dbx_upload(hist_name, str(remote_path))\n",
        "\n",
        "def dbx_download_history(experiment):\n",
        "  info = dbx_latest_history(experiment)\n",
        "  return dbx_download(*info)\n",
        "\n",
        "def zippath(p):\n",
        "  return p.parent / f'{p.name}.zip'\n",
        "\n",
        "def dbx_download_initial_weights():\n",
        "  weight_zip = zippath(INITIAL_WEIGHTS.parent)\n",
        "  remote_path = path.join('/', PROJECT, weight_zip.name)\n",
        "\n",
        "  zip_path = dbx_download(weight_zip.name, remote_path) # Download archive\n",
        "  unpack_archive(zip_path, str(INITIAL_WEIGHTS.parent)) # Unzip contents\n",
        "  Path(zip_path).unlink() # Clean up the archive\n",
        "\n",
        "def dbx_upload_initial_weights(overwrite=False):\n",
        "  weight_dir = INITIAL_WEIGHTS.parent.name\n",
        "  zip_path = Path(make_archive(weight_dir, 'zip', weight_dir))\n",
        "\n",
        "  remote_path = path.join('/', PROJECT, zip_path.name)\n",
        "  return dbx_upload(zip_path, remote_path, overwrite)\n",
        "\n",
        "Path(CHKPT_DIR).mkdir(parents=True, exist_ok=True)\n",
        "HISTORY_DIR.mkdir(parents=True, exist_ok=True)"
      ],
      "execution_count": null,
      "outputs": []
    },
    {
      "cell_type": "code",
      "metadata": {
        "id": "VhH341wfMTfJ"
      },
      "source": [
        "def dbx_history(experiment):\n",
        "  hist_file = dbx_download_history(experiment)\n",
        "  hist = pickle.load(open(hist_file, \"rb\"))\n",
        "  \n",
        "  return hist\n",
        "\n",
        "def history_tmpl():\n",
        "  snapshot_time = int(time())\n",
        "  return 'history-{0}.hist'.format(snapshot_time)\n",
        "\n",
        "def save_history(history):\n",
        "  hist_name = history_tmpl()\n",
        "  hist_path = HISTORY_DIR / hist_name\n",
        "\n",
        "  pickle.dump(history.history, open(hist_path, \"wb\"))\n",
        "  return str(hist_path)"
      ],
      "execution_count": null,
      "outputs": []
    },
    {
      "cell_type": "markdown",
      "metadata": {
        "id": "pERzQ1Ej3l2a"
      },
      "source": [
        "# Model architecture\n",
        "\n",
        "We use a double stacked bidirectional LSTM model to classify AGNews dataset. The model is exposed through a **model** variable. "
      ]
    },
    {
      "cell_type": "code",
      "metadata": {
        "id": "OHx2Dvm3AAxN"
      },
      "source": [
        "from dropbox.exceptions import ApiError\n",
        "\n",
        "def save_and_upload_model(m, overwrite=False):\n",
        "  m.save_weights(str(INITIAL_WEIGHTS))\n",
        "  print('Uploading initial_weights to remote...')\n",
        "  dbx_upload_initial_weights(overwrite)\n",
        "\n",
        "def configure_initial_weights(m, overwrite=False):\n",
        "  # Download Project Weights\n",
        "  if not INITIAL_WEIGHTS.parent.exists():\n",
        "    try:\n",
        "      print('Downloading remote initial weights...')\n",
        "      dbx_download_initial_weights()\n",
        "      print('Download complete!')\n",
        "    except ApiError:\n",
        "      print('Remote initial weights are unavailable')\n",
        "\n",
        "  if INITIAL_WEIGHTS.parent.exists():\n",
        "    print('Loading initial_weights...')\n",
        "    try:\n",
        "      m.load_weights(str(INITIAL_WEIGHTS))\n",
        "    except ValueError:\n",
        "      try:\n",
        "        print('Available weights are incompatible with the model. They will be updated.')\n",
        "        save_and_upload_model(m, overwrite)\n",
        "      except:\n",
        "        rmtree(INITIAL_WEIGHTS.parent)\n",
        "        raise EnvironmentError('Load failed. Please enable overwrite.')\n",
        "  else:\n",
        "    save_and_upload_model(m, overwrite)"
      ],
      "execution_count": null,
      "outputs": []
    },
    {
      "cell_type": "code",
      "metadata": {
        "id": "psGrQPdX4Cxy"
      },
      "source": [
        "LEARNING_RATE = 0.0002"
      ],
      "execution_count": null,
      "outputs": []
    },
    {
      "cell_type": "code",
      "metadata": {
        "id": "Gl_tlslfdh7T"
      },
      "source": [
        "# # HUB_LAYER_URL = \"https://tfhub.dev/google/nnlm-en-dim50/2\"\n",
        "# HUB_LAYER_URL = 'https://tfhub.dev/google/universal-sentence-encoder/4'\n",
        "\n",
        "# def get_hub_layer():\n",
        "#   hl = hub.KerasLayer(HUB_LAYER_URL, input_shape=[], dtype=tf.string, trainable=True)\n",
        "#   return hl\n",
        "\n",
        "# def create_model():\n",
        "#   model = tf.keras.Sequential([\n",
        "#     get_hub_layer(),\n",
        "#     layers.Dense(16, activation='relu'),\n",
        "#     layers.Dense(1, activation='sigmoid')\n",
        "#   ])\n",
        "\n",
        "#   adam = optimizers.Adam(learning_rate=LEARNING_RATE)\n",
        "\n",
        "#   model.compile(optimizer=adam, loss='binary_crossentropy', metrics=['accuracy'])\n",
        "\n",
        "#   return model\n",
        "\n",
        "# model = create_model()\n",
        "# model.summary()"
      ],
      "execution_count": null,
      "outputs": []
    },
    {
      "cell_type": "code",
      "metadata": {
        "colab": {
          "base_uri": "https://localhost:8080/"
        },
        "id": "qs9RW9eXnRsP",
        "outputId": "9aab2648-b755-4b63-d595-3ad21e27276b"
      },
      "source": [
        "def create_model():\n",
        "  model = tf.keras.Sequential([\n",
        "    layers.Bidirectional(layers.LSTM(64, return_sequences=True), input_shape=(MAX_SEQ_LEN, WORD2VEC_LEN)),\n",
        "    layers.Dropout(0.5),\n",
        "    layers.Bidirectional(layers.LSTM(32, return_sequences=False)),\n",
        "\t  layers.Dropout(0.5),\n",
        "    layers.Dense(20, activation='relu'),\n",
        "    layers.Flatten(),\n",
        "    layers.Dense(1, activation='sigmoid'),\n",
        "  ])\n",
        "  adam = optimizers.Adam(learning_rate=LEARNING_RATE)\n",
        "\n",
        "  model.compile(optimizer=adam, loss='binary_crossentropy', metrics=['accuracy'])\n",
        "\n",
        "  return model\n",
        "\n",
        "model = create_model()\n",
        "model.summary()"
      ],
      "execution_count": null,
      "outputs": [
        {
          "output_type": "stream",
          "name": "stdout",
          "text": [
            "Model: \"sequential_1\"\n",
            "_________________________________________________________________\n",
            "Layer (type)                 Output Shape              Param #   \n",
            "=================================================================\n",
            "bidirectional_1 (Bidirection (None, 500, 128)          186880    \n",
            "_________________________________________________________________\n",
            "dropout_1 (Dropout)          (None, 500, 128)          0         \n",
            "_________________________________________________________________\n",
            "bidirectional_2 (Bidirection (None, 64)                41216     \n",
            "_________________________________________________________________\n",
            "dropout_2 (Dropout)          (None, 64)                0         \n",
            "_________________________________________________________________\n",
            "dense_2 (Dense)              (None, 20)                1300      \n",
            "_________________________________________________________________\n",
            "flatten (Flatten)            (None, 20)                0         \n",
            "_________________________________________________________________\n",
            "dense_3 (Dense)              (None, 1)                 21        \n",
            "=================================================================\n",
            "Total params: 229,417\n",
            "Trainable params: 229,417\n",
            "Non-trainable params: 0\n",
            "_________________________________________________________________\n"
          ]
        }
      ]
    },
    {
      "cell_type": "code",
      "metadata": {
        "id": "6TMnagkAAYz7"
      },
      "source": [
        "# text, label = next(iter(train_prep_ds))\n",
        "# model(tf.expand_dims(text, axis=0))"
      ],
      "execution_count": null,
      "outputs": []
    },
    {
      "cell_type": "markdown",
      "metadata": {
        "id": "aOzzYD-_W9zr"
      },
      "source": [
        "# Training functions"
      ]
    },
    {
      "cell_type": "code",
      "metadata": {
        "id": "tE8M5WjRjEzz"
      },
      "source": [
        "from tensorflow.keras.callbacks import LambdaCallback\n",
        "\n",
        "def checkpoint_uploadfn(name):\n",
        "  upload_path = dbx_upload_chkpt(name)\n",
        "  #print('Uploaded: ' + upload_path)\n",
        "\n",
        "def get_upload_callback(name, epochs=20):\n",
        "  on_epoch_end = lambda epoch, logs: checkpoint_uploadfn(name) if (epoch + 1) % epochs == 0 else None\n",
        "  on_train_end = lambda logs: checkpoint_uploadfn(name)\n",
        "  callback = LambdaCallback(on_epoch_end=on_epoch_end, on_train_end=on_train_end)\n",
        "  return callback"
      ],
      "execution_count": null,
      "outputs": []
    },
    {
      "cell_type": "code",
      "metadata": {
        "id": "CtwbsYgEW873"
      },
      "source": [
        "from tensorflow.keras.callbacks import ModelCheckpoint, EarlyStopping\n",
        "\n",
        "def train(experiment, model, tds, vds, epochs=100):\n",
        "  tds = tds.prefetch(buffer_size=tf.data.AUTOTUNE)\n",
        "  vds = vds.prefetch(buffer_size=tf.data.AUTOTUNE)\n",
        "  \n",
        "  cb_upload = get_upload_callback(experiment, epochs=UPLOAD_FREQUENCY)\n",
        "  cb_checkpoint = ModelCheckpoint(str(CHKPT_TMPL), save_best_only=True, monitor=\"val_accuracy\", save_weights_only=True)\n",
        "  cb_earlystopping = EarlyStopping(monitor='val_accuracy', patience= 15, mode='auto', restore_best_weights=True)\n",
        "\n",
        "  callbacks = [cb_checkpoint, cb_earlystopping]\n",
        "  # callbacks = [cb_checkpoint, cb_upload, cb_earlystopping]\n",
        "  history = model.fit(tds, validation_data=vds, epochs=epochs, callbacks=callbacks)\n",
        "\n",
        "  return history"
      ],
      "execution_count": null,
      "outputs": []
    },
    {
      "cell_type": "markdown",
      "metadata": {
        "id": "XAb8OdCLlXyj"
      },
      "source": [
        "## NLP Augmentations\n",
        "\n",
        "Use *randaugfn()* function with the [NLPAug](https://nlpaug.readthedocs.io/en/latest/index.html) augmenter as a parameter."
      ]
    },
    {
      "cell_type": "code",
      "metadata": {
        "id": "IgVLRxrJlaPh"
      },
      "source": [
        "def nlpaugfn(aug, is_batch=False):\n",
        "  def pyfn(text):\n",
        "    try:\n",
        "        utext = np.char.decode(text.numpy().astype(np.bytes_), 'UTF-8') if is_batch else text.numpy().decode(\"utf-8\")\n",
        "        aug_text = aug.augment(utext)\n",
        "    except ValueError as e:\n",
        "        print(text, utext, e)\n",
        "        raise e\n",
        "    \n",
        "    return aug_text\n",
        "\n",
        "  def augtext(text, label):\n",
        "    aug_text = tf.py_function(pyfn, inp=[text], Tout=tf.string)\n",
        "    aug_text.set_shape(text.shape)\n",
        "\n",
        "    return aug_text, label\n",
        "\n",
        "  return augtext"
      ],
      "execution_count": null,
      "outputs": []
    },
    {
      "cell_type": "markdown",
      "metadata": {
        "id": "DA07oV3ZXIQM"
      },
      "source": [
        "# Experiments"
      ]
    },
    {
      "cell_type": "markdown",
      "metadata": {
        "id": "l2G-oTjyXMAD"
      },
      "source": [
        "## baseline"
      ]
    },
    {
      "cell_type": "code",
      "metadata": {
        "id": "yy6hvZz-XJxm",
        "colab": {
          "base_uri": "https://localhost:8080/",
          "height": 521
        },
        "outputId": "bf5a9df8-fd1d-4fe2-beb1-45d1f6933c6a"
      },
      "source": [
        "experiment = 'baseline'\n",
        "\n",
        "tds = train_prep_ds.map(vectorizefn).cache().shuffle(500, reshuffle_each_iteration=True).batch(16)\n",
        "# tds = train_prep_ds.cache().shuffle(10000, reshuffle_each_iteration=True).batch(512)\n",
        "vds = val_prep_ds.take(1000).map(vectorizefn).batch(512).cache()\n",
        "\n",
        "configure_initial_weights(model, True)\n",
        "# hist = train(experiment, model, tds, vds, epochs=1)\n",
        "hist = train(experiment, model, tds, vds, epochs=50)\n",
        "\n",
        "save_history(hist)\n",
        "dbx_upload_history(experiment)\n",
        "plot_metric(hist)\n",
        "\n",
        "baseline_hist = hist"
      ],
      "execution_count": null,
      "outputs": [
        {
          "output_type": "stream",
          "name": "stdout",
          "text": [
            "Loading initial_weights...\n",
            "Epoch 1/50\n",
            "32/32 [==============================] - 93s 2s/step - loss: 7.6246 - accuracy: 0.5000 - val_loss: 7.9144 - val_accuracy: 0.4810\n",
            "Epoch 2/50\n",
            "32/32 [==============================] - 6s 199ms/step - loss: 7.6246 - accuracy: 0.5000 - val_loss: 7.9144 - val_accuracy: 0.4810\n",
            "Epoch 3/50\n",
            "32/32 [==============================] - 5s 149ms/step - loss: 7.6246 - accuracy: 0.5000 - val_loss: 7.9144 - val_accuracy: 0.4810\n",
            "Epoch 4/50\n",
            "32/32 [==============================] - 4s 141ms/step - loss: 7.6246 - accuracy: 0.5000 - val_loss: 7.9144 - val_accuracy: 0.4810\n",
            "Epoch 5/50\n",
            "32/32 [==============================] - 5s 142ms/step - loss: 7.6246 - accuracy: 0.5000 - val_loss: 7.9144 - val_accuracy: 0.4810\n",
            "Epoch 6/50\n",
            "32/32 [==============================] - 5s 142ms/step - loss: 7.6246 - accuracy: 0.5000 - val_loss: 7.9144 - val_accuracy: 0.4810\n"
          ]
        },
        {
          "output_type": "display_data",
          "data": {
            "image/png": "[encoded data removed]",
            "text/plain": [
              "<Figure size 432x288 with 1 Axes>"
            ]
          },
          "metadata": {
            "needs_background": "light"
          }
        }
      ]
    },
    {
      "cell_type": "markdown",
      "metadata": {
        "id": "yWJytehVs0Ni"
      },
      "source": [
        "## nlpaugs"
      ]
    },
    {
      "cell_type": "code",
      "metadata": {
        "id": "QLxxdjy4s2ng",
        "colab": {
          "base_uri": "https://localhost:8080/"
        },
        "outputId": "68b2c1fc-85ad-44ea-d80a-df17e73408ff"
      },
      "source": [
        "from nltk import download as nltk_download\n",
        "from nlpaug.augmenter import sentence as nas\n",
        "from nlpaug.augmenter import word as naw\n",
        "from nlpaug.augmenter import char as nac\n",
        "from nlpaug import flow as naf\n",
        "\n",
        "[nltk_download(item) for item in ['punkt', 'averaged_perceptron_tagger', 'wordnet']]\n",
        "\n",
        "aug_args = dict(aug_p=0.3, aug_max=40)\n",
        "\n",
        "chain = [\n",
        "    nas.random.RandomSentAug(**aug_args),\n",
        "    naw.RandomWordAug(action='delete', **aug_args),\n",
        "    naw.RandomWordAug(action='swap', **aug_args),\n",
        "    naw.RandomWordAug(action='crop', **aug_args),\n",
        "    naw.RandomWordAug(action='substitute', **aug_args),\n",
        "    nac.KeyboardAug()\n",
        "]\n",
        "flow = naf.Sometimes(chain, pipeline_p=0.3)"
      ],
      "execution_count": null,
      "outputs": [
        {
          "output_type": "stream",
          "name": "stdout",
          "text": [
            "[nltk_data] Downloading package punkt to /root/nltk_data...\n",
            "[nltk_data]   Unzipping tokenizers/punkt.zip.\n",
            "[nltk_data] Downloading package averaged_perceptron_tagger to\n",
            "[nltk_data]     /root/nltk_data...\n",
            "[nltk_data]   Unzipping taggers/averaged_perceptron_tagger.zip.\n",
            "[nltk_data] Downloading package wordnet to /root/nltk_data...\n",
            "[nltk_data]   Unzipping corpora/wordnet.zip.\n"
          ]
        }
      ]
    },
    {
      "cell_type": "code",
      "metadata": {
        "id": "jfuQHnBesm4l"
      },
      "source": [
        "def extract_partial(text, size):\n",
        "    start = np.random.randint(0, len(text)-size-1)\n",
        "    end = start + size\n",
        "    return text[start:end]\n",
        "\n",
        "def get_partial(text, size=500):\n",
        "    text = text.numpy().decode(\"utf-8\")\n",
        "    text = extract_partial(text, size) if len(text) > (size + 10) else text\n",
        "    return text\n",
        "\n",
        "def handlepyfn(fn, fntype='first'):\n",
        "    def callfirst(text, label):\n",
        "        result_text = tf.py_function(fn, inp=[text], Tout=tf.string)\n",
        "        result_text.set_shape(text.shape)\n",
        "        return result_text, label\n",
        "    \n",
        "    switches = {\n",
        "        'first': callfirst,\n",
        "#         'second': callsecond,\n",
        "#         'all': callall\n",
        "    }\n",
        "    \n",
        "    return switches[fntype]"
      ],
      "execution_count": null,
      "outputs": []
    },
    {
      "cell_type": "code",
      "metadata": {
        "id": "90Jkrxlht2QW"
      },
      "source": [
        "# experiment = 'nlpaugs'\n",
        "\n",
        "# # batch_size = 64 * tpu_strategy.num_replicas_in_sync\n",
        "\n",
        "# tds = train_prep_ds.cache().shuffle(10000, reshuffle_each_iteration=True).map(randaugfn(senaug)).map(randaugfn(synaug)).batch(512)\n",
        "# vds = val_prep_ds.batch(512).cache()\n",
        "\n",
        "# configure_initial_weights(model)\n",
        "# history = train(experiment, model, tds, vds, epochs=30)\n",
        "\n",
        "# hfile = save_history(history)\n",
        "# dbx_upload_history(experiment)\n",
        "# plot_metric(history)\n",
        "\n",
        "# nlpaugs = {'history': history, 'hfile': hfile}"
      ],
      "execution_count": null,
      "outputs": []
    },
    {
      "cell_type": "code",
      "metadata": {
        "colab": {
          "base_uri": "https://localhost:8080/"
        },
        "id": "CJ7xPb3nGE4e",
        "outputId": "9f0f6b53-e2d7-49e8-db36-6e94e0056cb8"
      },
      "source": [
        "experiment = 'nlpaugs'\n",
        "\n",
        "tds = train_prep_ds.shuffle(500, reshuffle_each_iteration=True).map(handlepyfn(get_partial)).map(nlpaugfn(flow)).map(vectorizefn).batch(16)\n",
        "vds = test_prep_ds.take(1000).map(vectorizefn).batch(512).cache()\n",
        "\n",
        "# tds = train_prep_ds.take(10).cache().shuffle(10000, reshuffle_each_iteration=True).map(randaugfn(senaug)).map(randaugfn(synaug)).batch(512)\n",
        "# vds = val_prep_ds.take(10).batch(512).cache()\n",
        "\n",
        "configure_initial_weights(model, True)\n",
        "history = train(experiment, model, tds, vds, epochs=50)\n",
        "# history = train(experiment, model, tds, vds, epochs=1)\n",
        "\n",
        "hfile = save_history(history)\n",
        "dbx_upload_history(experiment)\n",
        "plot_metric(history)\n",
        "\n",
        "nlpaugs = {'history': history, 'hfile': hfile}"
      ],
      "execution_count": null,
      "outputs": [
        {
          "output_type": "stream",
          "name": "stdout",
          "text": [
            "Loading initial_weights...\n",
            "WARNING:tensorflow:Inconsistent references when loading the checkpoint into this object graph. Either the Trackable object references in the Python program have changed in an incompatible way, or the checkpoint was generated in an incompatible program.\n",
            "\n",
            "Two checkpoint references resolved to different objects (<keras.layers.core.Dense object at 0x7fdcf1570d90> and <keras.layers.core.Dropout object at 0x7fdcf2db8490>).\n",
            "Available weights are incompatible with the model. They will be updated.\n",
            "Uploading initial_weights to remote...\n",
            "Epoch 1/50\n",
            "32/32 [==============================] - 79s 2s/step - loss: 0.7057 - accuracy: 0.4820 - val_loss: 0.6914 - val_accuracy: 0.5010\n",
            "Epoch 2/50\n",
            "32/32 [==============================] - 22s 677ms/step - loss: 0.6905 - accuracy: 0.5300 - val_loss: 0.6852 - val_accuracy: 0.5710\n",
            "Epoch 3/50\n",
            "32/32 [==============================] - 24s 754ms/step - loss: 0.6957 - accuracy: 0.5260 - val_loss: 0.6832 - val_accuracy: 0.5740\n",
            "Epoch 4/50\n",
            "32/32 [==============================] - 24s 748ms/step - loss: 0.6852 - accuracy: 0.5660 - val_loss: 0.6736 - val_accuracy: 0.6080\n",
            "Epoch 5/50\n",
            "32/32 [==============================] - 24s 744ms/step - loss: 0.6682 - accuracy: 0.5820 - val_loss: 0.6882 - val_accuracy: 0.5860\n",
            "Epoch 6/50\n",
            "32/32 [==============================] - 24s 737ms/step - loss: 0.6827 - accuracy: 0.5780 - val_loss: 0.6938 - val_accuracy: 0.5000\n",
            "Epoch 7/50\n",
            "32/32 [==============================] - 21s 660ms/step - loss: 0.7016 - accuracy: 0.5000 - val_loss: 0.6927 - val_accuracy: 0.5320\n",
            "Epoch 8/50\n",
            "32/32 [==============================] - 25s 764ms/step - loss: 0.7023 - accuracy: 0.4680 - val_loss: 0.6917 - val_accuracy: 0.4970\n",
            "Epoch 9/50\n",
            "32/32 [==============================] - 23s 727ms/step - loss: 0.6933 - accuracy: 0.5280 - val_loss: 0.6928 - val_accuracy: 0.5050\n",
            "Epoch 10/50\n",
            "32/32 [==============================] - 21s 661ms/step - loss: 0.6948 - accuracy: 0.4680 - val_loss: 0.6918 - val_accuracy: 0.5460\n",
            "Epoch 11/50\n",
            "32/32 [==============================] - 23s 709ms/step - loss: 0.6970 - accuracy: 0.4780 - val_loss: 0.6915 - val_accuracy: 0.5480\n",
            "Epoch 12/50\n",
            "32/32 [==============================] - 22s 670ms/step - loss: 0.6923 - accuracy: 0.4980 - val_loss: 0.6910 - val_accuracy: 0.5160\n",
            "Epoch 13/50\n",
            "32/32 [==============================] - 25s 772ms/step - loss: 0.6926 - accuracy: 0.5120 - val_loss: 0.6911 - val_accuracy: 0.5060\n",
            "Epoch 14/50\n",
            "32/32 [==============================] - 22s 684ms/step - loss: 0.6880 - accuracy: 0.5560 - val_loss: 0.6916 - val_accuracy: 0.5290\n",
            "Epoch 15/50\n",
            " 9/32 [=======>......................] - ETA: 15s - loss: 0.6845 - accuracy: 0.5694"
          ]
        }
      ]
    },
    {
      "cell_type": "code",
      "metadata": {
        "colab": {
          "base_uri": "https://localhost:8080/"
        },
        "id": "mAxlor8C8Ki5",
        "outputId": "4766e323-a9c0-443e-e54e-029ff19a7416"
      },
      "source": [
        "import numpy as np\n",
        "\n",
        "texts = np.array(['his was an absolutely terrible', 'I have been known to fall asleep', 'As others have mentioned']).astype(np.str_)\n",
        "print(texts)\n",
        "\n",
        "seq_len = 500\n",
        "vec_len = 300\n",
        "batch_size = texts.shape[0]\n",
        "vector = np.zeros(shape=(batch_size, seq_len, vec_len))\n",
        "\n",
        "for tidx, doc in enumerate(nlp.pipe(texts.tolist())):\n",
        "  for didx, token in enumerate(doc):\n",
        "    vector[tidx][didx] = token.vector\n",
        "\n",
        "print(vector)\n",
        "# wordvecs = [[1, 2, 4, 4, 8, 1]]\n",
        "\n",
        "# for idx in range(min(seq_len, len(wordvecs))):\n",
        "#     vector[idx] = wordvecs[idx]\n",
        "\n",
        "# print(vector)"
      ],
      "execution_count": null,
      "outputs": [
        {
          "output_type": "stream",
          "name": "stdout",
          "text": [
            "['his was an absolutely terrible' 'I have been known to fall asleep'\n",
            " 'As others have mentioned']\n",
            "[[[ 1.90970004e-02  2.31189996e-01 -1.68099999e-01 ...  5.23289979e-01\n",
            "    1.47510007e-01 -1.68540001e-01]\n",
            "  [-4.40579988e-02  3.66109997e-01  1.80319995e-01 ...  1.86250001e-01\n",
            "   -9.78169963e-02 -6.71040034e-05]\n",
            "  [-1.16619999e-02  1.94830000e-01  8.88540000e-02 ... -5.46660013e-02\n",
            "   -1.93399996e-01  1.39950007e-01]\n",
            "  ...\n",
            "  [ 0.00000000e+00  0.00000000e+00  0.00000000e+00 ...  0.00000000e+00\n",
            "    0.00000000e+00  0.00000000e+00]\n",
            "  [ 0.00000000e+00  0.00000000e+00  0.00000000e+00 ...  0.00000000e+00\n",
            "    0.00000000e+00  0.00000000e+00]\n",
            "  [ 0.00000000e+00  0.00000000e+00  0.00000000e+00 ...  0.00000000e+00\n",
            "    0.00000000e+00  0.00000000e+00]]\n",
            "\n",
            " [[ 1.87329993e-01  4.05950010e-01 -5.11740029e-01 ...  1.64949998e-01\n",
            "    1.87570006e-01  5.38739979e-01]\n",
            "  [ 3.56700011e-02  1.85599998e-01 -3.05519998e-01 ... -2.21410006e-01\n",
            "    3.82809997e-01 -3.37430015e-02]\n",
            "  [ 4.12199982e-02  1.26959994e-01 -1.44409999e-01 ... -1.50330007e-01\n",
            "   -6.64590001e-02 -1.27169997e-01]\n",
            "  ...\n",
            "  [ 0.00000000e+00  0.00000000e+00  0.00000000e+00 ...  0.00000000e+00\n",
            "    0.00000000e+00  0.00000000e+00]\n",
            "  [ 0.00000000e+00  0.00000000e+00  0.00000000e+00 ...  0.00000000e+00\n",
            "    0.00000000e+00  0.00000000e+00]\n",
            "  [ 0.00000000e+00  0.00000000e+00  0.00000000e+00 ...  0.00000000e+00\n",
            "    0.00000000e+00  0.00000000e+00]]\n",
            "\n",
            " [[-1.06480002e-01 -1.62950009e-02 -2.27550000e-01 ... -3.13430011e-01\n",
            "    8.74240026e-02 -1.66099995e-01]\n",
            "  [-2.75180012e-01  8.64050016e-02 -2.83479989e-01 ... -1.24909997e-01\n",
            "    1.19790003e-01  2.65540004e-01]\n",
            "  [ 3.56700011e-02  1.85599998e-01 -3.05519998e-01 ... -2.21410006e-01\n",
            "    3.82809997e-01 -3.37430015e-02]\n",
            "  ...\n",
            "  [ 0.00000000e+00  0.00000000e+00  0.00000000e+00 ...  0.00000000e+00\n",
            "    0.00000000e+00  0.00000000e+00]\n",
            "  [ 0.00000000e+00  0.00000000e+00  0.00000000e+00 ...  0.00000000e+00\n",
            "    0.00000000e+00  0.00000000e+00]\n",
            "  [ 0.00000000e+00  0.00000000e+00  0.00000000e+00 ...  0.00000000e+00\n",
            "    0.00000000e+00  0.00000000e+00]]]\n"
          ]
        }
      ]
    }
  ]
}