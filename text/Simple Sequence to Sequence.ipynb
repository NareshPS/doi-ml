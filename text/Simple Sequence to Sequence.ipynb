{
 "cells": [
  {
   "cell_type": "code",
   "execution_count": 1,
   "metadata": {},
   "outputs": [],
   "source": [
    "%%capture\n",
    "# simple neural network implementation of qlearning\n",
    "import pickle, random\n",
    "\n",
    "import numpy as np\n",
    "import pandas as pd\n",
    "import tensorflow as tf\n",
    "import tensorflow.keras as keras\n",
    "import matplotlib.pyplot as plt\n",
    "\n",
    "from tensorflow.keras import layers, optimizers\n",
    "from IPython.display import HTML, display\n",
    "from statistics import mean"
   ]
  },
  {
   "cell_type": "code",
   "execution_count": 12,
   "metadata": {},
   "outputs": [],
   "source": [
    "data = pd.read_csv('fra.txt', sep='\\t', header=None, names=['English', 'French'])\n",
    "train_ds = data.sample(frac=.60)\n",
    "test_ds = data.drop(train_ds.index)"
   ]
  },
  {
   "cell_type": "code",
   "execution_count": 17,
   "metadata": {},
   "outputs": [
    {
     "name": "stderr",
     "output_type": "stream",
     "text": [
      "2022-06-30 14:23:30.630077: I tensorflow/core/grappler/optimizers/custom_graph_optimizer_registry.cc:113] Plugin optimizer for device_type GPU is enabled.\n",
      "2022-06-30 14:23:33.574448: I tensorflow/core/grappler/optimizers/custom_graph_optimizer_registry.cc:113] Plugin optimizer for device_type GPU is enabled.\n"
     ]
    }
   ],
   "source": [
    "VOCAB_SIZE = 5000\n",
    "SEQ_LEN = 20\n",
    "LEARNING_RATE = .001\n",
    "\n",
    "vectorizers = {\n",
    "    'en': layers.TextVectorization(max_tokens=VOCAB_SIZE, output_sequence_length=SEQ_LEN),\n",
    "    'fr': layers.TextVectorization(max_tokens=VOCAB_SIZE, output_sequence_length=SEQ_LEN),\n",
    "}\n",
    "\n",
    "vectorizers['en'].adapt(list(train_ds['English']))\n",
    "vectorizers['fr'].adapt(list(train_ds['French']))"
   ]
  },
  {
   "cell_type": "code",
   "execution_count": 26,
   "metadata": {},
   "outputs": [
    {
     "name": "stdout",
     "output_type": "stream",
     "text": [
      "5000\n",
      "Model: \"model_2\"\n",
      "__________________________________________________________________________________________________\n",
      " Layer (type)                   Output Shape         Param #     Connected to                     \n",
      "==================================================================================================\n",
      " input_3 (InputLayer)           [(None, 20)]         0           []                               \n",
      "                                                                                                  \n",
      " embedding_2 (Embedding)        (None, 20, 64)       320000      ['input_3[0][0]']                \n",
      "                                                                                                  \n",
      " attention_2 (Attention)        (None, 20, 64)       0           ['embedding_2[0][0]',            \n",
      "                                                                  'embedding_2[0][0]']            \n",
      "                                                                                                  \n",
      " flatten_2 (Flatten)            (None, 1280)         0           ['attention_2[0][0]']            \n",
      "                                                                                                  \n",
      " dense_2 (Dense)                (None, 4)            5124        ['flatten_2[0][0]']              \n",
      "                                                                                                  \n",
      "==================================================================================================\n",
      "Total params: 325,124\n",
      "Trainable params: 325,124\n",
      "Non-trainable params: 0\n",
      "__________________________________________________________________________________________________\n"
     ]
    }
   ],
   "source": [
    "vocabs = dict(map(lambda item: (item[0], item[1].get_vocabulary()), vectorizers.items()))\n",
    "\n",
    "def create_model():\n",
    "    text = tf.keras.Input(shape=(SEQ_LEN), dtype=tf.float32)\n",
    "    en_embedding = layers.Embedding(len(vocabs['en']), 64)(text)\n",
    "    fr_embedding = layers.Embedding(len(vocabs['fr']), 64)(text)\n",
    "    \n",
    "    self_attention = layers.Attention()([en_embedding, fr_embedding])\n",
    "    flattened = layers.Flatten()(self_attention)\n",
    "    output = layers.Dense(SEQ_LEN)(flattened)\n",
    "    \n",
    "    model = tf.keras.Model(inputs=[text], outputs=[output])\n",
    "    \n",
    "    adam = optimizers.Adam(learning_rate=LEARNING_RATE)\n",
    "    loss = 'sparse_categorical_crossentropy'\n",
    "    metrics = 'accuracy'\n",
    "    \n",
    "    model.compile(optimizer=adam, loss=loss, metrics=metrics)\n",
    "    return model\n",
    "\n",
    "model = create_model()\n",
    "model.summary()"
   ]
  },
  {
   "cell_type": "code",
   "execution_count": 25,
   "metadata": {},
   "outputs": [
    {
     "data": {
      "text/plain": [
       "5000"
      ]
     },
     "execution_count": 25,
     "metadata": {},
     "output_type": "execute_result"
    }
   ],
   "source": [
    "len(vocabs['en'])"
   ]
  }
 ],
 "metadata": {
  "kernelspec": {
   "display_name": "Python 3.9.10 ('base')",
   "language": "python",
   "name": "python3"
  },
  "language_info": {
   "codemirror_mode": {
    "name": "ipython",
    "version": 3
   },
   "file_extension": ".py",
   "mimetype": "text/x-python",
   "name": "python",
   "nbconvert_exporter": "python",
   "pygments_lexer": "ipython3",
   "version": "3.9.10"
  },
  "orig_nbformat": 4,
  "vscode": {
   "interpreter": {
    "hash": "ef4ac4ea1ec422be6b4eb59e3fa0ded4ce016edaf83e8378f1dbc473945965d7"
   }
  }
 },
 "nbformat": 4,
 "nbformat_minor": 2
}
