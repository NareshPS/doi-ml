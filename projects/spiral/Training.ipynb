{
 "cells": [
  {
   "cell_type": "code",
   "execution_count": 1,
   "metadata": {},
   "outputs": [
    {
     "name": "stderr",
     "output_type": "stream",
     "text": [
      "2022-04-19 10:28:45.540845: W tensorflow/stream_executor/platform/default/dso_loader.cc:64] Could not load dynamic library 'libcudart.so.11.0'; dlerror: libcudart.so.11.0: cannot open shared object file: No such file or directory\n",
      "2022-04-19 10:28:45.543407: I tensorflow/stream_executor/cuda/cudart_stub.cc:29] Ignore above cudart dlerror if you do not have a GPU set up on your machine.\n"
     ]
    }
   ],
   "source": [
    "%%capture\n",
    "import operator\n",
    "\n",
    "import tensorflow as tf\n",
    "import tensorflow_datasets as tfds\n",
    "import numpy as np\n",
    "import importlib as imp\n",
    "import pandas as pd\n",
    "\n",
    "from collections import namedtuple\n",
    "from random import sample, shuffle\n",
    "from functools import reduce\n",
    "from itertools import accumulate\n",
    "from math import floor, ceil, sqrt, log, pi\n",
    "from matplotlib import pyplot as plt\n",
    "from tensorflow.keras import layers, utils, losses, models as mds, optimizers\n",
    "\n",
    "if imp.util.find_spec('aggdraw'): import aggdraw\n",
    "if imp.util.find_spec('tensorflow_addons'): from tensorflow_addons import layers as tfa_layers\n",
    "if imp.util.find_spec('tensorflow_models'): from official.vision.beta.ops import augment as visaugment\n",
    "if imp.util.find_spec('tensorflow_probability'): from tensorflow_probability import distributions as tfd\n",
    "if imp.util.find_spec('keras_tuner'): import keras_tuner as kt"
   ]
  },
  {
   "cell_type": "code",
   "execution_count": 2,
   "metadata": {},
   "outputs": [
    {
     "name": "stderr",
     "output_type": "stream",
     "text": [
      "2022-04-19 10:29:13.040082: W tensorflow/stream_executor/platform/default/dso_loader.cc:64] Could not load dynamic library 'libcuda.so.1'; dlerror: libcuda.so.1: cannot open shared object file: No such file or directory; LD_LIBRARY_PATH: /home/broxoli/miniconda3/lib/python3.9/site-packages/cv2/../../lib64:\n",
      "2022-04-19 10:29:13.040197: W tensorflow/stream_executor/cuda/cuda_driver.cc:269] failed call to cuInit: UNKNOWN ERROR (303)\n",
      "2022-04-19 10:29:13.040362: I tensorflow/stream_executor/cuda/cuda_diagnostics.cc:156] kernel driver does not appear to be running on this host (DESKTOP-19319V3): /proc/driver/nvidia/version does not exist\n",
      "2022-04-19 10:29:13.043664: I tensorflow/core/platform/cpu_feature_guard.cc:151] This TensorFlow binary is optimized with oneAPI Deep Neural Network Library (oneDNN) to use the following CPU instructions in performance-critical operations:  AVX2 FMA\n",
      "To enable them in other operations, rebuild TensorFlow with the appropriate compiler flags.\n"
     ]
    }
   ],
   "source": [
    "# Dataset image size\n",
    "IMG_SIZE = 264\n",
    "N_CLASSES = 102\n",
    "\n",
    "def preprocess(image, *args):\n",
    "    image = tf.image.resize_with_pad(image, IMG_SIZE, IMG_SIZE)\n",
    "    image /= 255\n",
    "    return (image, *args)\n",
    "\n",
    "train_ds, val_ds = tfds.load(\n",
    "    'oxford_flowers102',\n",
    "    split=['train', 'validation'],\n",
    "    as_supervised=True,\n",
    "    read_config=tfds.ReadConfig(try_autocache=False)\n",
    ")\n",
    "\n",
    "train_ds = train_ds.map(preprocess, num_parallel_calls=tf.data.AUTOTUNE)\n",
    "val_ds = val_ds.map(preprocess, num_parallel_calls=tf.data.AUTOTUNE)"
   ]
  },
  {
   "cell_type": "code",
   "execution_count": 3,
   "metadata": {},
   "outputs": [
    {
     "data": {
      "text/plain": [
       "(<tf.Tensor: shape=(5,), dtype=int64, numpy=array([0, 0, 0, 0, 0])>,\n",
       " <tf.Tensor: shape=(5,), dtype=int64, numpy=array([ 0,  0,  0, 18, 15])>,\n",
       " <tf.Tensor: shape=(5,), dtype=int64, numpy=array([ 5, 17,  3,  0,  0])>)"
      ]
     },
     "execution_count": 3,
     "metadata": {},
     "output_type": "execute_result"
    }
   ],
   "source": [
    "BATCH_SIZE = 5\n",
    "N_CLASSES = 102\n",
    "\n",
    "def split_label(ways=2):\n",
    "    def split_fn(x, y):\n",
    "        zero_mask = tf.zeros(tf.shape(y), dtype=y.dtype)\n",
    "\n",
    "        def label_fn(slot):\n",
    "            slot_size = tf.constant(N_CLASSES//ways, dtype=y.dtype)\n",
    "            start, end = slot*slot_size, (slot+1)*slot_size\n",
    "            start_cond = tf.math.greater_equal(y, start)\n",
    "            end_cond = tf.math.less(y, end)\n",
    "            slot_y = tf.where(tf.logical_and(start_cond, end_cond), y-start+1, zero_mask)\n",
    "\n",
    "            return slot_y\n",
    "        \n",
    "        y = tf.map_fn(label_fn, tf.range(ways, dtype=y.dtype), dtype=y.dtype)\n",
    "        y = tf.unstack(y, axis=0)\n",
    "        \n",
    "        return (x, tuple(y))\n",
    "    \n",
    "    return split_fn\n",
    "\n",
    "tds = train_ds.batch(BATCH_SIZE).map(split_label(3))\n",
    "itr = iter(tds)\n",
    "next(itr)[1]\n",
    "# split_label(3)(tf.zeros([1]), tf.constant([0, 1, 2, 34, 68], dtype=tf.int64))"
   ]
  },
  {
   "cell_type": "code",
   "execution_count": 4,
   "metadata": {},
   "outputs": [
    {
     "name": "stdout",
     "output_type": "stream",
     "text": [
      "Model: \"model\"\n",
      "__________________________________________________________________________________________________\n",
      " Layer (type)                   Output Shape         Param #     Connected to                     \n",
      "==================================================================================================\n",
      " input_1 (InputLayer)           [(None, 264, 264, 3  0           []                               \n",
      "                                )]                                                                \n",
      "                                                                                                  \n",
      " conv_block_0 (Sequential)      (None, 65, 65, 32)   1024        ['input_1[0][0]']                \n",
      "|¯¯¯¯¯¯¯¯¯¯¯¯¯¯¯¯¯¯¯¯¯¯¯¯¯¯¯¯¯¯¯¯¯¯¯¯¯¯¯¯¯¯¯¯¯¯¯¯¯¯¯¯¯¯¯¯¯¯¯¯¯¯¯¯¯¯¯¯¯¯¯¯¯¯¯¯¯¯¯¯¯¯¯¯¯¯¯¯¯¯¯¯¯¯¯¯|\n",
      "| conv2d (Conv2D)              (None, 131, 131, 32  896         []                               |\n",
      "|                              )                                                                 |\n",
      "|                                                                                                |\n",
      "| max_pooling2d (MaxPooling2D)  (None, 65, 65, 32)  0           []                               |\n",
      "|                                                                                                |\n",
      "| batch_normalization (BatchNorm  (None, 65, 65, 32)  128       []                               |\n",
      "| alization)                                                                                     |\n",
      "¯¯¯¯¯¯¯¯¯¯¯¯¯¯¯¯¯¯¯¯¯¯¯¯¯¯¯¯¯¯¯¯¯¯¯¯¯¯¯¯¯¯¯¯¯¯¯¯¯¯¯¯¯¯¯¯¯¯¯¯¯¯¯¯¯¯¯¯¯¯¯¯¯¯¯¯¯¯¯¯¯¯¯¯¯¯¯¯¯¯¯¯¯¯¯¯¯¯\n",
      " conv_block_1 (Sequential)      (None, 31, 31, 32)   9376        ['conv_block_0[0][0]']           \n",
      "|¯¯¯¯¯¯¯¯¯¯¯¯¯¯¯¯¯¯¯¯¯¯¯¯¯¯¯¯¯¯¯¯¯¯¯¯¯¯¯¯¯¯¯¯¯¯¯¯¯¯¯¯¯¯¯¯¯¯¯¯¯¯¯¯¯¯¯¯¯¯¯¯¯¯¯¯¯¯¯¯¯¯¯¯¯¯¯¯¯¯¯¯¯¯¯¯|\n",
      "| conv2d_1 (Conv2D)            (None, 63, 63, 32)   9248        []                               |\n",
      "|                                                                                                |\n",
      "| max_pooling2d_1 (MaxPooling2D)  (None, 31, 31, 32)  0         []                               |\n",
      "|                                                                                                |\n",
      "| batch_normalization_1 (BatchNo  (None, 31, 31, 32)  128       []                               |\n",
      "| rmalization)                                                                                   |\n",
      "¯¯¯¯¯¯¯¯¯¯¯¯¯¯¯¯¯¯¯¯¯¯¯¯¯¯¯¯¯¯¯¯¯¯¯¯¯¯¯¯¯¯¯¯¯¯¯¯¯¯¯¯¯¯¯¯¯¯¯¯¯¯¯¯¯¯¯¯¯¯¯¯¯¯¯¯¯¯¯¯¯¯¯¯¯¯¯¯¯¯¯¯¯¯¯¯¯¯\n",
      " conv_block_2 (Sequential)      (None, 7, 7, 64)     18752       ['conv_block_1[0][0]']           \n",
      "|¯¯¯¯¯¯¯¯¯¯¯¯¯¯¯¯¯¯¯¯¯¯¯¯¯¯¯¯¯¯¯¯¯¯¯¯¯¯¯¯¯¯¯¯¯¯¯¯¯¯¯¯¯¯¯¯¯¯¯¯¯¯¯¯¯¯¯¯¯¯¯¯¯¯¯¯¯¯¯¯¯¯¯¯¯¯¯¯¯¯¯¯¯¯¯¯|\n",
      "| conv2d_2 (Conv2D)            (None, 15, 15, 64)   18496       []                               |\n",
      "|                                                                                                |\n",
      "| max_pooling2d_2 (MaxPooling2D)  (None, 7, 7, 64)  0           []                               |\n",
      "|                                                                                                |\n",
      "| batch_normalization_2 (BatchNo  (None, 7, 7, 64)  256         []                               |\n",
      "| rmalization)                                                                                   |\n",
      "¯¯¯¯¯¯¯¯¯¯¯¯¯¯¯¯¯¯¯¯¯¯¯¯¯¯¯¯¯¯¯¯¯¯¯¯¯¯¯¯¯¯¯¯¯¯¯¯¯¯¯¯¯¯¯¯¯¯¯¯¯¯¯¯¯¯¯¯¯¯¯¯¯¯¯¯¯¯¯¯¯¯¯¯¯¯¯¯¯¯¯¯¯¯¯¯¯¯\n",
      " conv_block_3 (Sequential)      (None, 2, 2, 64)     37184       ['conv_block_2[0][0]']           \n",
      "|¯¯¯¯¯¯¯¯¯¯¯¯¯¯¯¯¯¯¯¯¯¯¯¯¯¯¯¯¯¯¯¯¯¯¯¯¯¯¯¯¯¯¯¯¯¯¯¯¯¯¯¯¯¯¯¯¯¯¯¯¯¯¯¯¯¯¯¯¯¯¯¯¯¯¯¯¯¯¯¯¯¯¯¯¯¯¯¯¯¯¯¯¯¯¯¯|\n",
      "| conv2d_3 (Conv2D)            (None, 5, 5, 64)     36928       []                               |\n",
      "|                                                                                                |\n",
      "| max_pooling2d_3 (MaxPooling2D)  (None, 2, 2, 64)  0           []                               |\n",
      "|                                                                                                |\n",
      "| batch_normalization_3 (BatchNo  (None, 2, 2, 64)  256         []                               |\n",
      "| rmalization)                                                                                   |\n",
      "¯¯¯¯¯¯¯¯¯¯¯¯¯¯¯¯¯¯¯¯¯¯¯¯¯¯¯¯¯¯¯¯¯¯¯¯¯¯¯¯¯¯¯¯¯¯¯¯¯¯¯¯¯¯¯¯¯¯¯¯¯¯¯¯¯¯¯¯¯¯¯¯¯¯¯¯¯¯¯¯¯¯¯¯¯¯¯¯¯¯¯¯¯¯¯¯¯¯\n",
      " dense (Dense)                  (None, 2, 2, 60)     3900        ['conv_block_3[0][0]']           \n",
      "                                                                                                  \n",
      " dense_2 (Dense)                (None, 2, 2, 60)     3900        ['conv_block_3[0][0]']           \n",
      "                                                                                                  \n",
      " dense_4 (Dense)                (None, 2, 2, 60)     3900        ['conv_block_3[0][0]']           \n",
      "                                                                                                  \n",
      " flatten (Flatten)              (None, 240)          0           ['dense[0][0]']                  \n",
      "                                                                                                  \n",
      " flatten_1 (Flatten)            (None, 240)          0           ['dense_2[0][0]']                \n",
      "                                                                                                  \n",
      " flatten_2 (Flatten)            (None, 240)          0           ['dense_4[0][0]']                \n",
      "                                                                                                  \n",
      " dense_1 (Dense)                (None, 35)           8435        ['flatten[0][0]']                \n",
      "                                                                                                  \n",
      " dense_3 (Dense)                (None, 35)           8435        ['flatten_1[0][0]']              \n",
      "                                                                                                  \n",
      " dense_5 (Dense)                (None, 35)           8435        ['flatten_2[0][0]']              \n",
      "                                                                                                  \n",
      "==================================================================================================\n",
      "Total params: 103,341\n",
      "Trainable params: 102,957\n",
      "Non-trainable params: 384\n",
      "__________________________________________________________________________________________________\n"
     ]
    },
    {
     "data": {
      "image/png": "[encoded data removed]",
      "text/plain": [
       "<IPython.core.display.Image object>"
      ]
     },
     "execution_count": 4,
     "metadata": {},
     "output_type": "execute_result"
    }
   ],
   "source": [
    "class SplitSparseCategoricalCrossentropy(losses.SparseCategoricalCrossentropy):\n",
    "    def __init__(self, from_logits=False, **kwargs):\n",
    "        super().__init__(from_logits, **kwargs)\n",
    "\n",
    "    def call(self, y_true, y_pred):\n",
    "        scale = tf.squeeze(tf.where(tf.equal(y_true, 0), .5, 1))\n",
    "        base = super().call(y_true, y_pred)\n",
    "        return tf.math.multiply(base, scale)\n",
    "\n",
    "conv_id = -1\n",
    "\n",
    "def increment_conv_id():\n",
    "    global conv_id\n",
    "    conv_id += 1\n",
    "\n",
    "    return conv_id\n",
    "\n",
    "def conv_block(filters, strides=1, dr=None, **kwargs):\n",
    "    ls = [\n",
    "        layers.Conv2D(filters, 3, strides=strides, **kwargs),\n",
    "        # layers.Conv2D(filters, 3, strides=1, **kwargs),\n",
    "        # SEBlock(filters),\n",
    "        layers.MaxPool2D(2),\n",
    "        # layers.MaxPool2D(strides) if strides > 1 else None,\n",
    "        # layers.SpatialDropout2D(dr) if dr is not None else None,\n",
    "        layers.BatchNormalization()\n",
    "    ]\n",
    "    ls = list(filter(lambda x: x is not None, ls))\n",
    "\n",
    "    return tf.keras.Sequential(ls, name='conv_block_' + str(increment_conv_id()))\n",
    "\n",
    "def attentive_merge(q, v):\n",
    "    v = layers.Dense(q.shape[-1])(v) if v.shape[-1] != q.shape[-1] else v\n",
    "    return layers.Attention()([q, v])\n",
    "\n",
    "def multi_level_merge(q, vs):\n",
    "    format = lambda t: layers.Reshape([-1, t.shape[-1]])(t)\n",
    "    unformat = lambda t,s: layers.Reshape(s[1:])(t)\n",
    "\n",
    "    output = reduce(lambda y,x: attentive_merge(y, format(x)), vs, format(q))\n",
    "\n",
    "    v = unformat(output, q.shape)\n",
    "    return v\n",
    "\n",
    "class Fibo(object):\n",
    "    def __init__(self, first, second, limit=None):\n",
    "        self.first = first\n",
    "        self.second = second\n",
    "        self.limit = limit\n",
    "    \n",
    "    def next(self):\n",
    "        v = self.first + self.second\n",
    "        limit_cond = self.limit and v < self.limit\n",
    "        self.first, self.second = (self.second, v) if limit_cond else (self.second, self.limit)\n",
    "        return self.second\n",
    "    \n",
    "    def get(self):\n",
    "        return self.second\n",
    "\n",
    "\"\"\"\n",
    "Heat indicates a conv down operation. Chill follows heat convs to preserve the spatial dimensions.\n",
    "Reheat is a conv up operation which follows chill convs.\n",
    "\"\"\"\n",
    "def assemble_backbone(input_tensor, depth, skip_rates, skip_start_depth,\n",
    "    heat=1, chill=1, reheat=8,\n",
    "    min_channels=32, max_channels=1024\n",
    "):\n",
    "    channel_fibo = Fibo(0, min_channels, max_channels)\n",
    "    channel_fn = lambda: min(channel_fibo.next(), max_channels)\n",
    "    conf_fn = lambda x: (2, channel_fn()) if x%(heat+chill) == 0 else (1, channel_fibo.get())\n",
    "    dropout_fn = lambda x: .05*x*(1/log(x, max_channels)/x)\n",
    "\n",
    "    # strides = list(map(lambda x: 2 if x%(heat+chill) == 0 else 1, range(depth)))\n",
    "    confs = list(map(conf_fn, range(depth)))\n",
    "    # sizes = list(accumulate(confs, lambda y,x: y//(x[0]*2), initial=input_tensor.shape[-2]))\n",
    "\n",
    "    def conv_fn(x):\n",
    "        strides, filters = x\n",
    "        return conv_block(filters, strides=strides, dr=dropout_fn(filters))\n",
    "\n",
    "    # Create Convolution Blocks\n",
    "    # kwargs = dict(padding='same')\n",
    "    kwargs = dict(padding='same', activation='relu')\n",
    "    # blocks = list(map(lambda x: conv_block(x[1], strides=x[0], dr=dropout_fn(x[1]), **kwargs), confs))\n",
    "    blocks = list(map(lambda x: conv_fn(x), confs))\n",
    "    block_outputs = [None] * len(blocks)\n",
    "\n",
    "    # Compute skip connections\n",
    "    skip_levels = list(map(lambda sr: list(range(0, depth, sr)), skip_rates))\n",
    "    skip_connections = [[] for _ in range(depth)]\n",
    "\n",
    "    for sl in skip_levels:\n",
    "        for x in range(1, len(sl)):\n",
    "            skip_connections[sl[x]].append(sl[x-1])\n",
    "\n",
    "    def join_skips(idx, skips):\n",
    "        skip_outputs = list(map(lambda x: block_outputs[x], skips))\n",
    "        block_input =  multi_level_merge(block_outputs[idx-1], skip_outputs)\n",
    "        return blocks[idx](block_input)\n",
    "    \n",
    "    def apply_reheat(idx, x):\n",
    "        filters, name = x.shape[-1], 'conv_transpose_' + str(increment_conv_id())\n",
    "        x = layers.Conv2DTranspose(filters, 3, strides=2, name=name)(x)\n",
    "        block_outputs[idx-1] = x\n",
    "        return x\n",
    "    \n",
    "    for idx, block in enumerate(blocks):\n",
    "        skips = skip_connections[idx]\n",
    "\n",
    "        # Deconv to increase dimensionality\n",
    "        reheat_cond = reheat and idx and not idx%reheat\n",
    "        input_tensor = apply_reheat(idx, input_tensor) if reheat_cond else input_tensor\n",
    "\n",
    "        join_cond = skips and idx >= skip_start_depth\n",
    "        input_tensor = join_skips(idx, skips) if join_cond else block(input_tensor)\n",
    "        block_outputs[idx] = input_tensor\n",
    "    \n",
    "    return input_tensor\n",
    "    \n",
    "def create_model(lr=0.001, depth=60, skips=[2, 3, 5, 8, 13, 21, 34, 55], skip_start_depth=9, **kwargs):\n",
    "    inp = tf.keras.Input(shape=(IMG_SIZE, IMG_SIZE, 3))\n",
    "\n",
    "    x = assemble_backbone(inp, depth, skips, skip_start_depth, **kwargs)\n",
    "    # b2 = assemble_backbone(inp, depth, skips, skip_start_depth, **kwargs)\n",
    "    # x = tf.concat([b1, b2], axis=-1)\n",
    "\n",
    "    def head(x):\n",
    "        x = layers.Dense(60, activation='relu')(x)\n",
    "        # x = layers.Dense(60)(x)\n",
    "        # x = layers.PReLU()(x)\n",
    "        x = layers.Flatten()(x)\n",
    "        x = layers.Dense(N_CLASSES//3 + 1, activation='softmax')(x)\n",
    "        return x\n",
    "\n",
    "    outputs = list(map(lambda _: head(x), range(3)))\n",
    "\n",
    "    m = tf.keras.Model(inputs=inp, outputs=outputs)\n",
    "    optimizer = optimizers.Nadam(lr)\n",
    "    loss = SplitSparseCategoricalCrossentropy()\n",
    "    # loss = 'sparse_categorical_crossentropy'\n",
    "    # loss='categorical_crossentropy'\n",
    "\n",
    "    m.compile(optimizer=optimizer, loss=loss, metrics='accuracy')\n",
    "\n",
    "    return m\n",
    "\n",
    "def create_with_params(lr=0.00088):\n",
    "    kwargs = dict(heat=1, chill=1, reheat=0, min_channels=32, max_channels=256)\n",
    "    model = create_model(lr=lr, depth=4, skips=[], skip_start_depth=2, **kwargs)\n",
    "    \n",
    "    return model\n",
    "\n",
    "model = create_with_params()\n",
    "model.summary(expand_nested=True)\n",
    "utils.plot_model(model, show_shapes=True)"
   ]
  },
  {
   "cell_type": "code",
   "execution_count": 173,
   "metadata": {},
   "outputs": [
    {
     "name": "stdout",
     "output_type": "stream",
     "text": [
      "1/1 [==============================] - 15s 15s/step - loss: 7.3228 - dense_142_loss: 1.8894 - dense_144_loss: 2.2481 - dense_146_loss: 3.1853 - dense_142_accuracy: 0.0000e+00 - dense_144_accuracy: 0.2000 - dense_146_accuracy: 0.0000e+00\n"
     ]
    },
    {
     "data": {
      "text/plain": [
       "<keras.callbacks.History at 0x7f74ab5b7760>"
      ]
     },
     "execution_count": 173,
     "metadata": {},
     "output_type": "execute_result"
    }
   ],
   "source": [
    "image, y = next(itr)\n",
    "# py = model(image)\n",
    "\n",
    "# l = losses.SparseCategoricalCrossentropy()\n",
    "# y, l(y,py)\n",
    "model.fit(tds.take(1))\n",
    "# model(image)\n",
    "# y"
   ]
  },
  {
   "cell_type": "code",
   "execution_count": 5,
   "metadata": {},
   "outputs": [
    {
     "data": {
      "text/plain": [
       "<tensorflow.python.training.tracking.util.CheckpointLoadStatus at 0x7f52fa77f310>"
      ]
     },
     "execution_count": 5,
     "metadata": {},
     "output_type": "execute_result"
    }
   ],
   "source": [
    "model.load_weights('scaled_weights/weights')\n"
   ]
  },
  {
   "cell_type": "markdown",
   "metadata": {},
   "source": [
    "## Partial Predictions"
   ]
  },
  {
   "cell_type": "code",
   "execution_count": 34,
   "metadata": {},
   "outputs": [
    {
     "data": {
      "text/plain": [
       "(  label prediction\n",
       " 0     8         -1\n",
       " 1    13         13\n",
       " 2    29         -1\n",
       " 3     7         -1\n",
       " 4    12         12,\n",
       " 0.37941176470588234)"
      ]
     },
     "execution_count": 34,
     "metadata": {},
     "output_type": "execute_result"
    }
   ],
   "source": [
    "def predict(x, smid):\n",
    "    preds = model(x)[smid]\n",
    "    preds = tf.argmax(preds, axis=-1)\n",
    "    preds = smid*N_CLASSES//3 + preds - 1\n",
    "\n",
    "    return preds\n",
    "\n",
    "def filter_fn(l, softmax_id):\n",
    "    return True if l >= softmax_id*N_CLASSES//3 and l <= (softmax_id+1)*N_CLASSES//3 - 1 else False\n",
    "\n",
    "softmax_id = 0\n",
    "vds = val_ds.filter(lambda _,y: filter_fn(y, softmax_id))\n",
    "vds = vds.batch(64).map(lambda x,y: (predict(x, softmax_id), y))\n",
    "vitr = iter(vds)\n",
    "# next(vitr)\n",
    "\n",
    "predictions = pd.DataFrame(columns=['label', 'prediction'])\n",
    "for b in range(15):\n",
    "    try:\n",
    "        preds, labels = next(vitr)\n",
    "        batch_df = pd.DataFrame({'label': labels, 'prediction': preds})\n",
    "        predictions = pd.concat([predictions, batch_df], axis=0)\n",
    "    except StopIteration:\n",
    "        break\n",
    "\n",
    "predictions.head(), predictions[predictions['label'] == predictions['prediction']].shape[0]/predictions.shape[0]"
   ]
  },
  {
   "cell_type": "markdown",
   "metadata": {},
   "source": [
    "## Predict All Classes"
   ]
  },
  {
   "cell_type": "code",
   "execution_count": 229,
   "metadata": {},
   "outputs": [],
   "source": [
    "def predict(x):\n",
    "    preds = tf.transpose(model(x), [1, 0, 2])\n",
    "    preds = tf.reshape(preds[:, :, 1:], [-1, N_CLASSES])\n",
    "    preds = tf.argmax(preds, axis=-1)\n",
    "\n",
    "    return preds\n",
    "\n",
    "vds = val_ds.batch(64).map(lambda x,y: (predict(x), y))"
   ]
  },
  {
   "cell_type": "code",
   "execution_count": 232,
   "metadata": {},
   "outputs": [
    {
     "data": {
      "text/plain": [
       "(  label prediction\n",
       " 0    88         47\n",
       " 1    54         54\n",
       " 2     8          8\n",
       " 3    37         37\n",
       " 4    13         13,\n",
       " 0.425)"
      ]
     },
     "execution_count": 232,
     "metadata": {},
     "output_type": "execute_result"
    }
   ],
   "source": [
    "vitr = iter(vds)\n",
    "predictions = pd.DataFrame(columns=['label', 'prediction'])\n",
    "for b in range(15):\n",
    "    preds, labels = next(vitr)\n",
    "    batch_df = pd.DataFrame({'label': labels, 'prediction': preds})\n",
    "    predictions = pd.concat([predictions, batch_df], axis=0)\n",
    "\n",
    "predictions.head(), predictions[predictions['label'] == predictions['prediction']].shape[0]/predictions.shape[0]"
   ]
  },
  {
   "cell_type": "code",
   "execution_count": 244,
   "metadata": {},
   "outputs": [
    {
     "data": {
      "text/plain": [
       "(  label prediction\n",
       " 0    88         47\n",
       " 1    54         54\n",
       " 2     8          8\n",
       " 3    37         37\n",
       " 4    13         13,\n",
       " 0.4046875)"
      ]
     },
     "execution_count": 244,
     "metadata": {},
     "output_type": "execute_result"
    }
   ],
   "source": [
    "def scaled_probs(model, x):\n",
    "    preds = tf.transpose(model(x), [1, 0, 2])\n",
    "    # preds = tf.reshape(preds[:, :, 1:], [-1, N_CLASSES])\n",
    "    factors = 1 - preds[:, :, 0]\n",
    "    scaled_probs = tf.math.multiply(preds[:, :, 1:], factors[:, :, tf.newaxis])\n",
    "    scaled_probs = tf.reshape(scaled_probs, [-1, N_CLASSES])\n",
    "    # preds = tf.argmax(preds, axis=-1)\n",
    "    preds = tf.argmax(scaled_probs, axis=-1)\n",
    "\n",
    "    return preds\n",
    "\n",
    "def pick_most_likely_classifier(model, x):\n",
    "    preds = tf.transpose(model(x), [1, 0, 2])\n",
    "    most_likely_clasifier = tf.argmin(tf.reshape(preds[:, :, 0], [-1, 3]), axis=-1)\n",
    "    preds = tf.math.reduce_max(preds, axis=1)\n",
    "    preds = most_likely_clasifier*34 + tf.argmax(preds[:, 1:], axis=-1)\n",
    "    return preds\n",
    "\n",
    "vds = val_ds.batch(64).map(lambda x,y: (pick_most_likely_classifier(model, x), y))\n",
    "vitr = iter(vds)\n",
    "\n",
    "predictions = pd.DataFrame(columns=['label', 'prediction'])\n",
    "for b in range(10):\n",
    "    preds, labels = next(vitr)\n",
    "    batch_df = pd.DataFrame({'label': labels, 'prediction': preds})\n",
    "    predictions = pd.concat([predictions, batch_df], axis=0)\n",
    "\n",
    "predictions.head(), predictions[predictions['label'] == predictions['prediction']].shape[0]/predictions.shape[0]\n"
   ]
  },
  {
   "cell_type": "code",
   "execution_count": 282,
   "metadata": {},
   "outputs": [
    {
     "data": {
      "text/plain": [
       "(  label prediction\n",
       " 0     8         -1\n",
       " 1    13         13\n",
       " 2    29         -1\n",
       " 3     7         -1\n",
       " 4    12         12,\n",
       " 0.37941176470588234)"
      ]
     },
     "execution_count": 282,
     "metadata": {},
     "output_type": "execute_result"
    }
   ],
   "source": [
    "def predict(x, oidx):\n",
    "    preds = model(x)\n",
    "    preds = tf.argmax(preds[oidx], axis=-1) - 1 + oidx*34\n",
    "\n",
    "    return preds\n",
    "\n",
    "def filter_fn(y, oidx):\n",
    "    ge_cond = tf.math.greater_equal(y, oidx*34)\n",
    "    lt_cond = tf.math.less(y, (oidx+1)*34)\n",
    "    return tf.math.logical_and(ge_cond, lt_cond)\n",
    "\n",
    "vds = val_ds.filter(lambda fx,fy: filter_fn(fy, 0)).batch(64).map(lambda x,y: (predict(x, 0), y))\n",
    "vitr = iter(vds)\n",
    "\n",
    "predictions = pd.DataFrame(columns=['label', 'prediction'])\n",
    "for b in range(10):\n",
    "    try:\n",
    "        preds, labels = next(vitr)\n",
    "    except StopIteration:\n",
    "        break\n",
    "\n",
    "    batch_df = pd.DataFrame({'label': labels, 'prediction': preds})\n",
    "    predictions = pd.concat([predictions, batch_df], axis=0)\n",
    "\n",
    "predictions.head(), predictions[predictions['label'] == predictions['prediction']].shape[0]/predictions.shape[0]"
   ]
  },
  {
   "cell_type": "code",
   "execution_count": 283,
   "metadata": {},
   "outputs": [
    {
     "data": {
      "text/plain": [
       "(  label prediction\n",
       " 0    54         33\n",
       " 1    37         37\n",
       " 2    52         33\n",
       " 3    67         33\n",
       " 4    58         58,\n",
       " 0.47941176470588237)"
      ]
     },
     "execution_count": 283,
     "metadata": {},
     "output_type": "execute_result"
    }
   ],
   "source": [
    "vds = val_ds.filter(lambda fx,fy: filter_fn(fy, 1)).batch(64).map(lambda x,y: (predict(x, 1), y))\n",
    "vitr = iter(vds)\n",
    "\n",
    "predictions = pd.DataFrame(columns=['label', 'prediction'])\n",
    "for b in range(10):\n",
    "    try:\n",
    "        preds, labels = next(vitr)\n",
    "    except StopIteration:\n",
    "        break\n",
    "\n",
    "    batch_df = pd.DataFrame({'label': labels, 'prediction': preds})\n",
    "    predictions = pd.concat([predictions, batch_df], axis=0)\n",
    "\n",
    "predictions.head(), predictions[predictions['label'] == predictions['prediction']].shape[0]/predictions.shape[0]"
   ]
  },
  {
   "cell_type": "code",
   "execution_count": 284,
   "metadata": {},
   "outputs": [
    {
     "data": {
      "text/plain": [
       "(  label prediction\n",
       " 0    88         67\n",
       " 1    94         84\n",
       " 2    75         75\n",
       " 3    88         67\n",
       " 4    89         67,\n",
       " 0.27058823529411763)"
      ]
     },
     "execution_count": 284,
     "metadata": {},
     "output_type": "execute_result"
    }
   ],
   "source": [
    "vds = val_ds.filter(lambda fx,fy: filter_fn(fy, 2)).batch(64).map(lambda x,y: (predict(x, 2), y))\n",
    "vitr = iter(vds)\n",
    "\n",
    "predictions = pd.DataFrame(columns=['label', 'prediction'])\n",
    "for b in range(10):\n",
    "    try:\n",
    "        preds, labels = next(vitr)\n",
    "    except StopIteration:\n",
    "        break\n",
    "\n",
    "    batch_df = pd.DataFrame({'label': labels, 'prediction': preds})\n",
    "    predictions = pd.concat([predictions, batch_df], axis=0)\n",
    "\n",
    "predictions.head(), predictions[predictions['label'] == predictions['prediction']].shape[0]/predictions.shape[0]"
   ]
  }
 ],
 "metadata": {
  "interpreter": {
   "hash": "472baa808a066784c660228b7522f02c55b99d16f672674ca10b75b514659298"
  },
  "kernelspec": {
   "display_name": "Python 3.9.7 ('base')",
   "language": "python",
   "name": "python3"
  },
  "language_info": {
   "codemirror_mode": {
    "name": "ipython",
    "version": 3
   },
   "file_extension": ".py",
   "mimetype": "text/x-python",
   "name": "python",
   "nbconvert_exporter": "python",
   "pygments_lexer": "ipython3",
   "version": "3.9.7"
  },
  "orig_nbformat": 4
 },
 "nbformat": 4,
 "nbformat_minor": 2
}
