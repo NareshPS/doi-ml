{
 "cells": [
  {
   "cell_type": "code",
   "execution_count": 12,
   "metadata": {},
   "outputs": [],
   "source": [
    "%%capture\n",
    "import tensorflow as tf\n",
    "import tensorflow_datasets as tfds\n",
    "import numpy as np\n",
    "import importlib as imp\n",
    "\n",
    "from collections import namedtuple\n",
    "from random import sample, shuffle\n",
    "from functools import reduce\n",
    "from itertools import accumulate\n",
    "from math import floor, ceil, sqrt, log, pi\n",
    "from tensorflow.keras import layers, utils, losses, models as mds, optimizers\n",
    "from visualkeras import layered_view\n",
    "\n",
    "if imp.util.find_spec('aggdraw'): import aggdraw\n",
    "if imp.util.find_spec('tensorflow_addons'): from tensorflow_addons import layers as tfa_layers\n",
    "if imp.util.find_spec('tensorflow_models'): from official.vision.beta.ops import augment as visaugment"
   ]
  },
  {
   "cell_type": "code",
   "execution_count": 11,
   "metadata": {},
   "outputs": [],
   "source": [
    "# Dataset image size\n",
    "IMG_SIZE = 264\n",
    "N_CLASSES = 102\n",
    "\n",
    "def preprocess(image, *args):\n",
    "    image = tf.image.resize_with_pad(image, IMG_SIZE, IMG_SIZE)\n",
    "    image /= 255\n",
    "    return (image, *args)\n",
    "\n",
    "train_ds, val_ds = tfds.load(\n",
    "    'oxford_flowers102',\n",
    "    split=['train', 'validation'],\n",
    "    as_supervised=True,\n",
    "    read_config=tfds.ReadConfig(try_autocache=False)\n",
    ")\n",
    "\n",
    "train_ds = train_ds.map(preprocess, num_parallel_calls=tf.data.AUTOTUNE)\n",
    "val_ds = val_ds.map(preprocess, num_parallel_calls=tf.data.AUTOTUNE)"
   ]
  },
  {
   "cell_type": "markdown",
   "metadata": {},
   "source": [
    "## Image Augmentation"
   ]
  },
  {
   "cell_type": "code",
   "execution_count": 7,
   "metadata": {},
   "outputs": [
    {
     "ename": "ModuleNotFoundError",
     "evalue": "No module named 'official'",
     "output_type": "error",
     "traceback": [
      "\u001b[0;31m---------------------------------------------------------------------------\u001b[0m",
      "\u001b[0;31mModuleNotFoundError\u001b[0m                       Traceback (most recent call last)",
      "\u001b[0;32m/tmp/ipykernel_5253/987174738.py\u001b[0m in \u001b[0;36m<module>\u001b[0;34m\u001b[0m\n\u001b[0;32m----> 1\u001b[0;31m \u001b[0;32mfrom\u001b[0m \u001b[0mofficial\u001b[0m\u001b[0;34m.\u001b[0m\u001b[0mvision\u001b[0m\u001b[0;34m.\u001b[0m\u001b[0mops\u001b[0m \u001b[0;32mimport\u001b[0m \u001b[0maugment\u001b[0m\u001b[0;34m\u001b[0m\u001b[0;34m\u001b[0m\u001b[0m\n\u001b[0m\u001b[1;32m      2\u001b[0m \u001b[0;34m\u001b[0m\u001b[0m\n\u001b[1;32m      3\u001b[0m \u001b[0;31m# Recommended is m=2, n=9\u001b[0m\u001b[0;34m\u001b[0m\u001b[0;34m\u001b[0m\u001b[0m\n\u001b[1;32m      4\u001b[0m \u001b[0maugmenter\u001b[0m \u001b[0;34m=\u001b[0m \u001b[0maugment\u001b[0m\u001b[0;34m.\u001b[0m\u001b[0mRandAugment\u001b[0m\u001b[0;34m(\u001b[0m\u001b[0mnum_layers\u001b[0m\u001b[0;34m=\u001b[0m\u001b[0;36m3\u001b[0m\u001b[0;34m,\u001b[0m \u001b[0mmagnitude\u001b[0m\u001b[0;34m=\u001b[0m\u001b[0;36m10\u001b[0m\u001b[0;34m)\u001b[0m\u001b[0;34m\u001b[0m\u001b[0;34m\u001b[0m\u001b[0m\n\u001b[1;32m      5\u001b[0m \u001b[0;34m\u001b[0m\u001b[0m\n",
      "\u001b[0;31mModuleNotFoundError\u001b[0m: No module named 'official'"
     ]
    }
   ],
   "source": [
    "augmenter = visaugment.RandAugment()\n",
    "\n",
    "def randaug_pp(image, label):\n",
    "    image = tf.cast(image*255, tf.uint8)\n",
    "    image = augmenter.distort(image)\n",
    "    image = tf.cast(image, tf.float32)\n",
    "    image /= 255\n",
    "    \n",
    "    return image, label\n",
    "\n",
    "tds = train_ds.map(randaug_pp, num_parallel_calls=tf.data.AUTOTUNE)"
   ]
  },
  {
   "cell_type": "code",
   "execution_count": 13,
   "metadata": {},
   "outputs": [
    {
     "data": {
      "text/plain": [
       "(<tf.Tensor: shape=(2, 264, 264, 3), dtype=float32, numpy=\n",
       " array([[[[0.00784314, 0.01176471, 0.        ],\n",
       "          [0.00784314, 0.01176471, 0.        ],\n",
       "          [0.00784314, 0.01176471, 0.        ],\n",
       "          ...,\n",
       "          [0.00540311, 0.01091428, 0.        ],\n",
       "          [0.0041903 , 0.01176471, 0.        ],\n",
       "          [0.00400661, 0.01176471, 0.        ]],\n",
       " \n",
       "         [[0.00784314, 0.01176471, 0.        ],\n",
       "          [0.00784314, 0.01176471, 0.        ],\n",
       "          [0.00784314, 0.01176471, 0.        ],\n",
       "          ...,\n",
       "          [0.00453919, 0.01189561, 0.        ],\n",
       "          [0.00382943, 0.01165428, 0.        ],\n",
       "          [0.00551471, 0.0172912 , 0.00199538]],\n",
       " \n",
       "         [[0.00784314, 0.01176471, 0.        ],\n",
       "          [0.00784314, 0.01176471, 0.        ],\n",
       "          [0.00784314, 0.01176471, 0.        ],\n",
       "          ...,\n",
       "          [0.01036594, 0.01712209, 0.00904413],\n",
       "          [0.02969323, 0.04504927, 0.02606002],\n",
       "          [0.05706767, 0.07749655, 0.05362134]],\n",
       " \n",
       "         ...,\n",
       " \n",
       "         [[0.02394019, 0.02786176, 0.00825391],\n",
       "          [0.02205248, 0.02511335, 0.00812636],\n",
       "          [0.01991996, 0.02310378, 0.00573993],\n",
       "          ...,\n",
       "          [0.00392157, 0.00784314, 0.        ],\n",
       "          [0.00147764, 0.00539921, 0.        ],\n",
       "          [0.0070568 , 0.01097837, 0.        ]],\n",
       " \n",
       "         [[0.01857568, 0.0207523 , 0.00645814],\n",
       "          [0.01785553, 0.01833476, 0.01077474],\n",
       "          [0.01376117, 0.01429826, 0.01068848],\n",
       "          ...,\n",
       "          [0.00366416, 0.00758573, 0.        ],\n",
       "          [0.00518003, 0.00910159, 0.        ],\n",
       "          [0.01088727, 0.01480884, 0.        ]],\n",
       " \n",
       "         [[0.01369282, 0.01482778, 0.00760171],\n",
       "          [0.01137987, 0.01137987, 0.01137987],\n",
       "          [0.00694779, 0.00694779, 0.00694779],\n",
       "          ...,\n",
       "          [0.00133803, 0.0052596 , 0.        ],\n",
       "          [0.01243644, 0.01635801, 0.00246247],\n",
       "          [0.01786809, 0.02178966, 0.00279563]]],\n",
       " \n",
       " \n",
       "        [[[0.        , 0.        , 0.        ],\n",
       "          [0.        , 0.        , 0.        ],\n",
       "          [0.        , 0.        , 0.        ],\n",
       "          ...,\n",
       "          [0.        , 0.        , 0.        ],\n",
       "          [0.        , 0.        , 0.        ],\n",
       "          [0.        , 0.        , 0.        ]],\n",
       " \n",
       "         [[0.        , 0.        , 0.        ],\n",
       "          [0.        , 0.        , 0.        ],\n",
       "          [0.        , 0.        , 0.        ],\n",
       "          ...,\n",
       "          [0.        , 0.        , 0.        ],\n",
       "          [0.        , 0.        , 0.        ],\n",
       "          [0.        , 0.        , 0.        ]],\n",
       " \n",
       "         [[0.        , 0.        , 0.        ],\n",
       "          [0.        , 0.        , 0.        ],\n",
       "          [0.        , 0.        , 0.        ],\n",
       "          ...,\n",
       "          [0.        , 0.        , 0.        ],\n",
       "          [0.        , 0.        , 0.        ],\n",
       "          [0.        , 0.        , 0.        ]],\n",
       " \n",
       "         ...,\n",
       " \n",
       "         [[0.        , 0.        , 0.        ],\n",
       "          [0.        , 0.        , 0.        ],\n",
       "          [0.        , 0.        , 0.        ],\n",
       "          ...,\n",
       "          [0.        , 0.        , 0.        ],\n",
       "          [0.        , 0.        , 0.        ],\n",
       "          [0.        , 0.        , 0.        ]],\n",
       " \n",
       "         [[0.        , 0.        , 0.        ],\n",
       "          [0.        , 0.        , 0.        ],\n",
       "          [0.        , 0.        , 0.        ],\n",
       "          ...,\n",
       "          [0.        , 0.        , 0.        ],\n",
       "          [0.        , 0.        , 0.        ],\n",
       "          [0.        , 0.        , 0.        ]],\n",
       " \n",
       "         [[0.        , 0.        , 0.        ],\n",
       "          [0.        , 0.        , 0.        ],\n",
       "          [0.        , 0.        , 0.        ],\n",
       "          ...,\n",
       "          [0.        , 0.        , 0.        ],\n",
       "          [0.        , 0.        , 0.        ],\n",
       "          [0.        , 0.        , 0.        ]]]], dtype=float32)>,\n",
       " <tf.Tensor: shape=(2,), dtype=int64, numpy=array([72, 84])>)"
      ]
     },
     "execution_count": 13,
     "metadata": {},
     "output_type": "execute_result"
    }
   ],
   "source": [
    "augs = tf.keras.Sequential([\n",
    "  layers.RandomFlip(\"horizontal\"),\n",
    "  layers.RandomRotation(0.1),\n",
    "])\n",
    "\n",
    "BATCH_SIZE = 2\n",
    "\n",
    "tds = train_ds.batch(BATCH_SIZE).map(lambda x,y: (augs(x, training=True), y))\n",
    "itr = iter(tds)\n",
    "next(itr)"
   ]
  }
 ],
 "metadata": {
  "interpreter": {
   "hash": "472baa808a066784c660228b7522f02c55b99d16f672674ca10b75b514659298"
  },
  "kernelspec": {
   "display_name": "Python 3.9.7 ('base')",
   "language": "python",
   "name": "python3"
  },
  "language_info": {
   "codemirror_mode": {
    "name": "ipython",
    "version": 3
   },
   "file_extension": ".py",
   "mimetype": "text/x-python",
   "name": "python",
   "nbconvert_exporter": "python",
   "pygments_lexer": "ipython3",
   "version": "3.9.7"
  },
  "orig_nbformat": 4
 },
 "nbformat": 4,
 "nbformat_minor": 2
}
