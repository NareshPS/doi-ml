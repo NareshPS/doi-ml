{
 "cells": [
  {
   "cell_type": "code",
   "execution_count": 3,
   "metadata": {},
   "outputs": [],
   "source": [
    "from tensorflow.keras import layers, losses, models as mds, optimizers\n",
    "from collections import namedtuple\n",
    "from random import sample, shuffle\n",
    "from math import floor, ceil, sqrt, log, pi\n",
    "\n",
    "import tensorflow as tf\n",
    "import tensorflow_datasets as tfds"
   ]
  },
  {
   "cell_type": "code",
   "execution_count": null,
   "metadata": {},
   "outputs": [],
   "source": [
    "\n",
    "IMAGE_SIZE = 32\n",
    "\n",
    "def sic_block(input_tensor, filters, strides, padding, activation):\n",
    "    def variant_dims(size):\n",
    "        n_variants = ceil(log(ceil(sqrt(size)), pi))\n",
    "        return list(map(lambda x: 3**x, range(1, n_variants+1)))\n",
    "\n",
    "    def make_layer(size):\n",
    "        kwargs = dict(strides=strides, padding=padding)\n",
    "        return layers.Conv2D(filters, size, **kwargs)\n",
    "\n",
    "    size = min(input_tensor.shape[1:-1])\n",
    "    variants = variant_dims(size)\n",
    "    conv_layers = map(make_layer, variants)\n",
    "    conv_outputs = list(map(lambda x: x(input_tensor), conv_layers))\n",
    "    merged = tf.concat(conv_outputs, axis=-1)\n",
    "    normalized = layers.BatchNormalization()(merged)\n",
    "    output = layers.Activation(activation)(normalized)\n",
    "\n",
    "    return output\n",
    "\n",
    "def create_model():\n",
    "    inp = tf.keras.Input(shape=(IMAGE_SIZE, IMAGE_SIZE, 3))\n",
    "    x = sic_block(inp, filters=64, strides=1, padding='same', activation='relu')\n",
    "    "
   ]
  }
 ],
 "metadata": {
  "interpreter": {
   "hash": "472baa808a066784c660228b7522f02c55b99d16f672674ca10b75b514659298"
  },
  "kernelspec": {
   "display_name": "Python 3.9.7 ('base')",
   "language": "python",
   "name": "python3"
  },
  "language_info": {
   "codemirror_mode": {
    "name": "ipython",
    "version": 3
   },
   "file_extension": ".py",
   "mimetype": "text/x-python",
   "name": "python",
   "nbconvert_exporter": "python",
   "pygments_lexer": "ipython3",
   "version": "3.9.7"
  },
  "orig_nbformat": 4
 },
 "nbformat": 4,
 "nbformat_minor": 2
}
