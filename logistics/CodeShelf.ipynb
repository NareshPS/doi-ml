{
 "cells": [
  {
   "cell_type": "code",
   "execution_count": 1,
   "metadata": {},
   "outputs": [],
   "source": [
    "import shelve"
   ]
  },
  {
   "cell_type": "markdown",
   "metadata": {},
   "source": [
    "## Code Shelf"
   ]
  },
  {
   "cell_type": "code",
   "execution_count": 2,
   "metadata": {},
   "outputs": [],
   "source": [
    "shelf = shelve.open('CodeShelf')"
   ]
  },
  {
   "cell_type": "markdown",
   "metadata": {},
   "source": [
    "## Add or Update"
   ]
  },
  {
   "cell_type": "code",
   "execution_count": 6,
   "metadata": {},
   "outputs": [
    {
     "name": "stdout",
     "output_type": "stream",
     "text": [
      "None\n"
     ]
    }
   ],
   "source": [
    "value = \"\"\"\n",
    "T_SAMPLES_PER_CLASS = 3\n",
    "V_SAMPLES_PER_CLASS = 3\n",
    "\n",
    "def make_dataset_samples(ds, n_samples_per_class):\n",
    "    samples = list(map(lambda _: [], range(N_CLASSES)))\n",
    "    total_samples = 0\n",
    "    for image,label in ds:\n",
    "        if len(samples[label]) < n_samples_per_class:\n",
    "            samples[label].append(image)\n",
    "            total_samples += 1\n",
    "        \n",
    "        if total_samples >= n_samples_per_class*N_CLASSES:\n",
    "            break\n",
    "    return samples\n",
    "\n",
    "def show_samples(samples, samples_per_class, title='Samples'):\n",
    "    fig, axes = plt.subplots(N_CLASSES, samples_per_class, figsize=(samples_per_class*3, N_CLASSES*2))\n",
    "\n",
    "    for row in range(N_CLASSES):\n",
    "        for col in range(samples_per_class):\n",
    "            axes[row, col].imshow(samples[row][col])\n",
    "            axes[row, col].axis('off')\n",
    "            axes[row, col].set_title('C ' + str(row))\n",
    "    \n",
    "    plt.tight_layout()\n",
    "    fig.suptitle(title, fontsize=16)\n",
    "    \n",
    "    return fig\n",
    "\n",
    "T_SAMPLES = make_dataset_samples(train_ds, T_SAMPLES_PER_CLASS)\n",
    "V_SAMPLES = make_dataset_samples(val_ds, V_SAMPLES_PER_CLASS)\n",
    "\"\"\"\n",
    "\n",
    "key = 'show_dataset_samples'\n",
    "\n",
    "print(shelf.get(key))\n",
    "shelf[key] = value\n",
    "shelf.sync()"
   ]
  },
  {
   "cell_type": "markdown",
   "metadata": {},
   "source": [
    "## Enumerate"
   ]
  },
  {
   "cell_type": "code",
   "execution_count": 7,
   "metadata": {},
   "outputs": [
    {
     "name": "stdout",
     "output_type": "stream",
     "text": [
      "8 ['plot_history', 'model_summary', 'run_summary', 'tf_imports', 'basic_image_augmentations', 'image_randaugment', 'run_summary_multioutput', 'show_dataset_samples']\n"
     ]
    }
   ],
   "source": [
    "keys = list(shelf.keys())\n",
    "print(len(keys), keys)"
   ]
  },
  {
   "cell_type": "markdown",
   "metadata": {},
   "source": [
    "## Query"
   ]
  },
  {
   "cell_type": "code",
   "execution_count": 5,
   "metadata": {},
   "outputs": [
    {
     "name": "stdout",
     "output_type": "stream",
     "text": [
      "\n",
      "def plot_history(h):\n",
      "    fig, axes = plt.subplots(1, 2, figsize=(10, 5), facecolor='w', edgecolor='k')\n",
      "\n",
      "    axes[0].plot(h['loss'], label='Loss')\n",
      "    axes[0].plot(h['val_loss'], label='Validation Loss')\n",
      "\n",
      "    axes[0].set_xlabel('Epoch')\n",
      "    axes[0].set_ylabel('Loss')\n",
      "    axes[0].set_title('Losses')\n",
      "\n",
      "    axes[1].plot(h['accuracy'], label='Accuracy')\n",
      "    axes[1].plot(h['val_accuracy'], label='Validation Accuracy')\n",
      "\n",
      "    axes[1].set_xlabel('Epoch')\n",
      "    axes[1].set_ylabel('Accuracy')\n",
      "    axes[1].set_title('Accuracies')\n",
      "\n",
      "    fig.legend()\n",
      "\n",
      "def run_summary(h):\n",
      "    plot_history(h)\n",
      "    print(max(h['accuracy']), '|', max(h['val_accuracy']))\n",
      "\n"
     ]
    }
   ],
   "source": [
    "print(shelf['run_summary'])"
   ]
  }
 ],
 "metadata": {
  "interpreter": {
   "hash": "472baa808a066784c660228b7522f02c55b99d16f672674ca10b75b514659298"
  },
  "kernelspec": {
   "display_name": "Python 3.9.7 ('base')",
   "language": "python",
   "name": "python3"
  },
  "language_info": {
   "codemirror_mode": {
    "name": "ipython",
    "version": 3
   },
   "file_extension": ".py",
   "mimetype": "text/x-python",
   "name": "python",
   "nbconvert_exporter": "python",
   "pygments_lexer": "ipython3",
   "version": "3.9.7"
  },
  "orig_nbformat": 4
 },
 "nbformat": 4,
 "nbformat_minor": 2
}
