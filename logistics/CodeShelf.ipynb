{
 "cells": [
  {
   "cell_type": "code",
   "execution_count": 1,
   "metadata": {},
   "outputs": [],
   "source": [
    "import shelve"
   ]
  },
  {
   "cell_type": "markdown",
   "metadata": {},
   "source": [
    "## Code Shelf"
   ]
  },
  {
   "cell_type": "code",
   "execution_count": 2,
   "metadata": {},
   "outputs": [],
   "source": [
    "shelf = shelve.open('CodeShelf')"
   ]
  },
  {
   "cell_type": "markdown",
   "metadata": {},
   "source": [
    "## Add or Update"
   ]
  },
  {
   "cell_type": "code",
   "execution_count": 3,
   "metadata": {},
   "outputs": [
    {
     "name": "stdout",
     "output_type": "stream",
     "text": [
      "\n",
      "def plot_grid(images, cols=5):\n",
      "    rows = (len(images)+cols-1)//cols\n",
      "    fig, axes = plt.subplots(rows, cols)\n",
      "\n",
      "    def axis_off(ax):\n",
      "        ax.set_axis_off()\n",
      "        return ax\n",
      "\n",
      "    raveled_axes = list(map(axis_off, axes.ravel()))\n",
      "\n",
      "    for index, name in enumerate(images):\n",
      "        ax = raveled_axes[index]\n",
      "        image = images[name]\n",
      "        ax.imshow(image) if len(\n",
      "            image.shape) == 3 else ax.imshow(image, cmap='gray')\n",
      "        ax.set_title(name)\n",
      "\n",
      "\n",
      "for image, mask in train_prep_ds.take(2):\n",
      "    mask_frequencies = np.unique(mask, return_counts=True)\n",
      "    sample = {'Input Image': image, 'Input Mask: {}'.format(mask_frequencies[1]): mask}\n",
      "    plot_grid(sample, cols=2)\n",
      "\n"
     ]
    }
   ],
   "source": [
    "value = \"\"\"\n",
    "def plot_grid(images, cols=5):\n",
    "    rows = (len(images)+cols-1)//cols\n",
    "    fig, axes = plt.subplots(rows, cols)\n",
    "\n",
    "    def axis_off(ax):\n",
    "        ax.set_axis_off()\n",
    "        return ax\n",
    "\n",
    "    raveled_axes = list(map(axis_off, axes.ravel()))\n",
    "\n",
    "    for index, name in enumerate(images):\n",
    "        ax = raveled_axes[index]\n",
    "        image = images[name]\n",
    "        ax.imshow(image) if len(\n",
    "            image.shape) == 3 else ax.imshow(image, cmap='gray')\n",
    "        ax.set_title(name)\n",
    "\n",
    "\n",
    "for image, mask in train_prep_ds.take(2):\n",
    "    mask_frequencies = np.unique(mask, return_counts=True)\n",
    "    sample = {'Input Image': image, 'Input Mask: {}'.format(mask_frequencies[1]): mask}\n",
    "    plot_grid(sample, cols=2)\n",
    "\"\"\"\n",
    "\n",
    "key = 'plot_image_grid'\n",
    "\n",
    "print(shelf.get(key))\n",
    "shelf[key] = value\n",
    "shelf.sync()"
   ]
  },
  {
   "cell_type": "markdown",
   "metadata": {},
   "source": [
    "## Enumerate"
   ]
  },
  {
   "cell_type": "code",
   "execution_count": 4,
   "metadata": {},
   "outputs": [
    {
     "name": "stdout",
     "output_type": "stream",
     "text": [
      "18 ['plot_history', 'model_summary', 'run_summary', 'tf_imports', 'basic_image_augmentations', 'image_randaugment', 'run_summary_multioutput', 'show_dataset_samples', 'draw_bb_boxes', 'dense_boxes', 'save_frames_as_gif', 'display_gifs', 'display_gifs_ipython', 'openai_virtual_display', 'plot_loss', 'color_distortion', 'display_image_dataset', 'plot_image_grid']\n"
     ]
    }
   ],
   "source": [
    "keys = list(shelf.keys())\n",
    "print(len(keys), keys)"
   ]
  },
  {
   "cell_type": "markdown",
   "metadata": {},
   "source": [
    "## Query"
   ]
  },
  {
   "cell_type": "code",
   "execution_count": 5,
   "metadata": {},
   "outputs": [
    {
     "name": "stdout",
     "output_type": "stream",
     "text": [
      "\n",
      "def rgb_to_hex(rgb):\n",
      "    return '#%02x%02x%02x' % rgb\n",
      "\n",
      "def bbox_to_rect(bbox, shape, color):\n",
      "    \"Convert bounding box to matplotlib format.\"\n",
      "    h, w = shape\n",
      "    left, top, right, bottom = bbox[0]*w, bbox[1]*h, bbox[2]*w, bbox[3]*h\n",
      "    \n",
      "    rect = plt.Rectangle(\n",
      "        xy=(left, top), width=right-left, height=bottom-top,\n",
      "        fill=False, edgecolor=color, linewidth=2)\n",
      "#     print(rect)\n",
      "    return rect\n",
      "\n",
      "N_CLASSES = ds_info.features['labels'].num_classes\n",
      "LABELS = ds_info.features['labels'].names\n",
      "CLASS_COLORS = list(map(lambda v: rgb_to_hex(tuple(v.tolist())), np.random.choice(range(64, 255),size=[N_CLASSES, 3])))\n",
      "\n",
      "# itr = iter(train_ds)\n",
      "itr = iter(raw_train_ds)\n",
      "item = next(itr)\n",
      "\n",
      "fig = plt.imshow(item['image'])\n",
      "\n",
      "def draw_boxes(image, fig):\n",
      "    box_shape = image.shape[:2]\n",
      "    objs = item['objects']\n",
      "    \n",
      "    for index, bbox in enumerate(objs['bbox']):\n",
      "        rect = bbox_to_rect(bbox, box_shape, CLASS_COLORS[objs['label'][index]])\n",
      "        fig.axes.add_patch(rect)\n",
      "        fig.axes.text(*rect.get_xy(), LABELS[objs['label'][index]], ha='left', va='top', bbox=dict(ec='none', fc=CLASS_COLORS[objs['label'][index]]))\n",
      "\n",
      "draw_boxes(item['image'], fig)\n",
      "# item['image'].shape, item['objects']['bbox'], item\n",
      "print(list(enumerate(ds_info.features['labels'].names)))\n",
      "item['objects']['label'], item['image'].shape, item['objects']['bbox']\n",
      "\n"
     ]
    }
   ],
   "source": [
    "print(shelf['draw_bb_boxes'])"
   ]
  },
  {
   "cell_type": "code",
   "execution_count": null,
   "metadata": {},
   "outputs": [],
   "source": []
  }
 ],
 "metadata": {
  "interpreter": {
   "hash": "ef4ac4ea1ec422be6b4eb59e3fa0ded4ce016edaf83e8378f1dbc473945965d7"
  },
  "kernelspec": {
   "display_name": "Python 3.9.10 ('base')",
   "language": "python",
   "name": "python3"
  },
  "language_info": {
   "codemirror_mode": {
    "name": "ipython",
    "version": 3
   },
   "file_extension": ".py",
   "mimetype": "text/x-python",
   "name": "python",
   "nbconvert_exporter": "python",
   "pygments_lexer": "ipython3",
   "version": "3.10.9"
  },
  "orig_nbformat": 4
 },
 "nbformat": 4,
 "nbformat_minor": 2
}
