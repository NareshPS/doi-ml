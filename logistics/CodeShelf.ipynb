{
 "cells": [
  {
   "cell_type": "code",
   "execution_count": 1,
   "metadata": {},
   "outputs": [],
   "source": [
    "import shelve"
   ]
  },
  {
   "cell_type": "markdown",
   "metadata": {},
   "source": [
    "## Code Shelf"
   ]
  },
  {
   "cell_type": "code",
   "execution_count": 2,
   "metadata": {},
   "outputs": [],
   "source": [
    "shelf = shelve.open('CodeShelf')"
   ]
  },
  {
   "cell_type": "markdown",
   "metadata": {},
   "source": [
    "## Add or Update"
   ]
  },
  {
   "cell_type": "code",
   "execution_count": 6,
   "metadata": {},
   "outputs": [
    {
     "name": "stdout",
     "output_type": "stream",
     "text": [
      "\n",
      "def display(display_list, cols=2, size=(8, 8)):\n",
      "    rows = (len(display_list) + cols - 1)//cols\n",
      "    fig, axes = plt.subplots(rows, cols, figsize=size)\n",
      "\n",
      "    def get_axis(index):\n",
      "        row, col = index//cols, index%cols\n",
      "        return axes[row, col] if rows>1 else axes[col]\n",
      "    \n",
      "    for index, item in enumerate(display_list):\n",
      "        image, label = item\n",
      "        axis = get_axis(index)\n",
      "        axis.imshow(tf.keras.utils.array_to_img(image))\n",
      "        axis.set_xlabel(label)\n",
      "\n",
      "items = []\n",
      "for item in train_ds.take(2).as_numpy_iterator():\n",
      "    items.append(item)\n",
      "\n",
      "display(items, size=(2,2))\n",
      "\n"
     ]
    }
   ],
   "source": [
    "value = \"\"\"\n",
    "def display(display_list, cols=2, size=(8, 8)):\n",
    "    rows = (len(display_list) + cols - 1)//cols\n",
    "    fig, axes = plt.subplots(rows, cols, figsize=size)\n",
    "\n",
    "    def get_axis(index):\n",
    "        row, col = index//cols, index%cols\n",
    "        return axes[row, col] if rows>1 else axes[col]\n",
    "    \n",
    "    for index, item in enumerate(display_list):\n",
    "        image, label = item\n",
    "        axis = get_axis(index)\n",
    "        axis.imshow(tf.keras.utils.array_to_img(image))\n",
    "        axis.set_xlabel(label)\n",
    "\n",
    "items = []\n",
    "for item in train_ds.take(2).as_numpy_iterator():\n",
    "    items.append(item)\n",
    "\n",
    "display(items, size=(2,2))\n",
    "\"\"\"\n",
    "\n",
    "key = 'display_image_dataset'\n",
    "\n",
    "print(shelf.get(key))\n",
    "shelf[key] = value\n",
    "shelf.sync()"
   ]
  },
  {
   "cell_type": "markdown",
   "metadata": {},
   "source": [
    "## Enumerate"
   ]
  },
  {
   "cell_type": "code",
   "execution_count": 3,
   "metadata": {},
   "outputs": [
    {
     "name": "stdout",
     "output_type": "stream",
     "text": [
      "17 ['plot_history', 'model_summary', 'run_summary', 'tf_imports', 'basic_image_augmentations', 'image_randaugment', 'run_summary_multioutput', 'show_dataset_samples', 'draw_bb_boxes', 'dense_boxes', 'save_frames_as_gif', 'display_gifs', 'display_gifs_ipython', 'openai_virtual_display', 'display_images_in_grid', 'plot_loss', 'color_distortion']\n"
     ]
    }
   ],
   "source": [
    "keys = list(shelf.keys())\n",
    "print(len(keys), keys)"
   ]
  },
  {
   "cell_type": "markdown",
   "metadata": {},
   "source": [
    "## Query"
   ]
  },
  {
   "cell_type": "code",
   "execution_count": 4,
   "metadata": {},
   "outputs": [
    {
     "name": "stdout",
     "output_type": "stream",
     "text": [
      "\n",
      "def display(display_list, cols=2, size=(8, 8)):\n",
      "    rows = (len(display_list) + cols - 1)//cols\n",
      "    fig, axes = plt.subplots(rows, cols, figsize=size)\n",
      "\n",
      "    def get_axis(index):\n",
      "        row, col = index//cols, index%cols\n",
      "        return axes[row, col] if rows>1 else axes[col]\n",
      "    \n",
      "    for index, image in enumerate(display_list):\n",
      "        axis = get_axis(index)\n",
      "        axis.imshow(tf.keras.utils.array_to_img(display_list[index]))\n",
      "\n",
      "for image, mask in test_prep_ds.take(2):\n",
      "    display([image, mask])\n",
      "\n"
     ]
    }
   ],
   "source": [
    "print(shelf['display_images_in_grid'])"
   ]
  },
  {
   "cell_type": "code",
   "execution_count": null,
   "metadata": {},
   "outputs": [],
   "source": []
  }
 ],
 "metadata": {
  "interpreter": {
   "hash": "ef4ac4ea1ec422be6b4eb59e3fa0ded4ce016edaf83e8378f1dbc473945965d7"
  },
  "kernelspec": {
   "display_name": "Python 3.9.10 ('base')",
   "language": "python",
   "name": "python3"
  },
  "language_info": {
   "codemirror_mode": {
    "name": "ipython",
    "version": 3
   },
   "file_extension": ".py",
   "mimetype": "text/x-python",
   "name": "python",
   "nbconvert_exporter": "python",
   "pygments_lexer": "ipython3",
   "version": "3.9.10"
  },
  "orig_nbformat": 4
 },
 "nbformat": 4,
 "nbformat_minor": 2
}
