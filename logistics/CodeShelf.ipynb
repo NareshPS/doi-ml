{
 "cells": [
  {
   "cell_type": "code",
   "execution_count": 1,
   "metadata": {},
   "outputs": [],
   "source": [
    "import shelve"
   ]
  },
  {
   "cell_type": "markdown",
   "metadata": {},
   "source": [
    "## Code Shelf"
   ]
  },
  {
   "cell_type": "code",
   "execution_count": 2,
   "metadata": {},
   "outputs": [],
   "source": [
    "shelf = shelve.open('CodeShelf')"
   ]
  },
  {
   "cell_type": "markdown",
   "metadata": {},
   "source": [
    "## Add or Update"
   ]
  },
  {
   "cell_type": "code",
   "execution_count": 9,
   "metadata": {},
   "outputs": [
    {
     "name": "stdout",
     "output_type": "stream",
     "text": [
      "None\n"
     ]
    }
   ],
   "source": [
    "value = \"\"\"\n",
    "def plot_grid(images, cols=5):\n",
    "    rows = (len(images)+cols-1)//cols\n",
    "    fig, axes = plt.subplots(rows, cols)\n",
    "\n",
    "    def axis_off(ax):\n",
    "        ax.set_axis_off()\n",
    "        return ax\n",
    "\n",
    "    raveled_axes = list(map(axis_off, axes.ravel()))\n",
    "\n",
    "    for index, name in enumerate(images):\n",
    "        ax = raveled_axes[index]\n",
    "        image = images[name]\n",
    "        ax.imshow(image) if len(\n",
    "            image.shape) == 3 else ax.imshow(image, cmap='gray')\n",
    "        ax.set_title(name)\n",
    "\n",
    "\n",
    "for image, mask in train_prep_ds.take(2):\n",
    "    mask_frequencies = np.unique(mask, return_counts=True)\n",
    "    sample = {'Input Image': image, 'Input Mask: {}'.format(mask_frequencies[1]): mask}\n",
    "    plot_grid(sample, cols=2)\n",
    "\"\"\"\n",
    "\n",
    "key = 'plot_image_grid'\n",
    "\n",
    "print(shelf.get(key))\n",
    "shelf[key] = value\n",
    "shelf.sync()"
   ]
  },
  {
   "cell_type": "markdown",
   "metadata": {},
   "source": [
    "## Enumerate"
   ]
  },
  {
   "cell_type": "code",
   "execution_count": 13,
   "metadata": {},
   "outputs": [
    {
     "name": "stdout",
     "output_type": "stream",
     "text": [
      "18 ['plot_history', 'model_summary', 'run_summary', 'tf_imports', 'basic_image_augmentations', 'image_randaugment', 'run_summary_multioutput', 'show_dataset_samples', 'draw_bb_boxes', 'dense_boxes', 'save_frames_as_gif', 'display_gifs', 'display_gifs_ipython', 'openai_virtual_display', 'plot_loss', 'color_distortion', 'display_image_dataset', 'plot_image_grid']\n"
     ]
    }
   ],
   "source": [
    "keys = list(shelf.keys())\n",
    "print(len(keys), keys)"
   ]
  },
  {
   "cell_type": "markdown",
   "metadata": {},
   "source": [
    "## Query"
   ]
  },
  {
   "cell_type": "code",
   "execution_count": 11,
   "metadata": {},
   "outputs": [
    {
     "name": "stdout",
     "output_type": "stream",
     "text": [
      "\n",
      "def plot_grid(images, cols=5):\n",
      "    rows = (len(images)+cols-1)//cols\n",
      "    fig, axes = plt.subplots(rows, cols)\n",
      "\n",
      "    def axis_off(ax):\n",
      "        ax.set_axis_off()\n",
      "        return ax\n",
      "\n",
      "    raveled_axes = list(map(axis_off, axes.ravel()))\n",
      "\n",
      "    for index, name in enumerate(images):\n",
      "        ax = raveled_axes[index]\n",
      "        image = images[name]\n",
      "        ax.imshow(image) if len(\n",
      "            image.shape) == 3 else ax.imshow(image, cmap='gray')\n",
      "        ax.set_title(name)\n",
      "\n",
      "\n",
      "for image, mask in train_prep_ds.take(2):\n",
      "    mask_frequencies = np.unique(mask, return_counts=True)\n",
      "    sample = {'Input Image': image, 'Input Mask: {}'.format(mask_frequencies[1]): mask}\n",
      "    plot_grid(sample, cols=2)\n",
      "\n"
     ]
    }
   ],
   "source": [
    "print(shelf['plot_image_grid'])"
   ]
  },
  {
   "cell_type": "code",
   "execution_count": null,
   "metadata": {},
   "outputs": [],
   "source": []
  }
 ],
 "metadata": {
  "interpreter": {
   "hash": "ef4ac4ea1ec422be6b4eb59e3fa0ded4ce016edaf83e8378f1dbc473945965d7"
  },
  "kernelspec": {
   "display_name": "Python 3.9.10 ('base')",
   "language": "python",
   "name": "python3"
  },
  "language_info": {
   "codemirror_mode": {
    "name": "ipython",
    "version": 3
   },
   "file_extension": ".py",
   "mimetype": "text/x-python",
   "name": "python",
   "nbconvert_exporter": "python",
   "pygments_lexer": "ipython3",
   "version": "3.10.9"
  },
  "orig_nbformat": 4
 },
 "nbformat": 4,
 "nbformat_minor": 2
}
