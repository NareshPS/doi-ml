{
 "cells": [
  {
   "cell_type": "code",
   "execution_count": 2,
   "metadata": {},
   "outputs": [],
   "source": [
    "import shelve"
   ]
  },
  {
   "cell_type": "markdown",
   "metadata": {},
   "source": [
    "## Code Shelf"
   ]
  },
  {
   "cell_type": "code",
   "execution_count": 3,
   "metadata": {},
   "outputs": [],
   "source": [
    "shelf = shelve.open('CodeShelf')"
   ]
  },
  {
   "cell_type": "markdown",
   "metadata": {},
   "source": [
    "## Add or Update"
   ]
  },
  {
   "cell_type": "code",
   "execution_count": 4,
   "metadata": {},
   "outputs": [
    {
     "name": "stdout",
     "output_type": "stream",
     "text": [
      "\n",
      "def display(display_list, cols=2, size=(8, 8)):\n",
      "    rows = (len(display_list) + cols - 1)//cols\n",
      "    fig, axes = plt.subplots(rows, cols, figsize=size)\n",
      "\n",
      "    def get_axis(index):\n",
      "        row, col = index//cols, index%cols\n",
      "        return axes[row, col] if rows>1 else axes[col]\n",
      "    \n",
      "    for index, image in enumerate(display_list):\n",
      "        axis = get_axis(index)\n",
      "        axis.imshow(tf.keras.utils.array_to_img(display_list[index]))\n",
      "\n",
      "for image, mask in test_prep_ds.take(2):\n",
      "    display([image, mask])\n",
      "\n"
     ]
    }
   ],
   "source": [
    "value = \"\"\"\n",
    "def display(display_list, cols=2, size=(8, 8)):\n",
    "    rows = (len(display_list) + cols - 1)//cols\n",
    "    fig, axes = plt.subplots(rows, cols, figsize=size)\n",
    "\n",
    "    def get_axis(index):\n",
    "        row, col = index//cols, index%cols\n",
    "        return axes[row, col] if rows>1 else axes[col]\n",
    "    \n",
    "    for index, image in enumerate(display_list):\n",
    "        axis = get_axis(index)\n",
    "        axis.imshow(tf.keras.utils.array_to_img(display_list[index]))\n",
    "\n",
    "for image, mask in test_prep_ds.take(2):\n",
    "    display([image, mask])\n",
    "\"\"\"\n",
    "\n",
    "key = 'display_images_in_grid'\n",
    "\n",
    "print(shelf.get(key))\n",
    "shelf[key] = value\n",
    "shelf.sync()"
   ]
  },
  {
   "cell_type": "markdown",
   "metadata": {},
   "source": [
    "## Enumerate"
   ]
  },
  {
   "cell_type": "code",
   "execution_count": 5,
   "metadata": {},
   "outputs": [
    {
     "name": "stdout",
     "output_type": "stream",
     "text": [
      "15 ['plot_history', 'model_summary', 'run_summary', 'tf_imports', 'basic_image_augmentations', 'image_randaugment', 'run_summary_multioutput', 'show_dataset_samples', 'draw_bb_boxes', 'dense_boxes', 'save_frames_as_gif', 'display_gifs', 'display_gifs_ipython', 'openai_virtual_display', 'display_images_in_grid']\n"
     ]
    }
   ],
   "source": [
    "keys = list(shelf.keys())\n",
    "print(len(keys), keys)"
   ]
  },
  {
   "cell_type": "markdown",
   "metadata": {},
   "source": [
    "## Query"
   ]
  },
  {
   "cell_type": "code",
   "execution_count": 6,
   "metadata": {},
   "outputs": [
    {
     "name": "stdout",
     "output_type": "stream",
     "text": [
      "\n",
      "def plot_history(h):\n",
      "    fig, axes = plt.subplots(1, 2, figsize=(10, 5), facecolor='w', edgecolor='k')\n",
      "\n",
      "    axes[0].plot(h['loss'], label='Loss')\n",
      "    axes[0].plot(h['val_loss'], label='Validation Loss')\n",
      "\n",
      "    axes[0].set_xlabel('Epoch')\n",
      "    axes[0].set_ylabel('Loss')\n",
      "    axes[0].set_title('Losses')\n",
      "\n",
      "    axes[1].plot(h['accuracy'], label='Accuracy')\n",
      "    axes[1].plot(h['val_accuracy'], label='Validation Accuracy')\n",
      "\n",
      "    axes[1].set_xlabel('Epoch')\n",
      "    axes[1].set_ylabel('Accuracy')\n",
      "    axes[1].set_title('Accuracies')\n",
      "\n",
      "    fig.legend()\n",
      "\n"
     ]
    }
   ],
   "source": [
    "print(shelf['plot_history'])"
   ]
  },
  {
   "cell_type": "code",
   "execution_count": null,
   "metadata": {},
   "outputs": [],
   "source": []
  }
 ],
 "metadata": {
  "interpreter": {
   "hash": "ef4ac4ea1ec422be6b4eb59e3fa0ded4ce016edaf83e8378f1dbc473945965d7"
  },
  "kernelspec": {
   "display_name": "Python 3.9.10 ('base')",
   "language": "python",
   "name": "python3"
  },
  "language_info": {
   "codemirror_mode": {
    "name": "ipython",
    "version": 3
   },
   "file_extension": ".py",
   "mimetype": "text/x-python",
   "name": "python",
   "nbconvert_exporter": "python",
   "pygments_lexer": "ipython3",
   "version": "3.9.10"
  },
  "orig_nbformat": 4
 },
 "nbformat": 4,
 "nbformat_minor": 2
}
