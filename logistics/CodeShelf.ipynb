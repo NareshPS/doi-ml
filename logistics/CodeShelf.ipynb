{
 "cells": [
  {
   "cell_type": "code",
   "execution_count": 1,
   "metadata": {},
   "outputs": [],
   "source": [
    "import shelve"
   ]
  },
  {
   "cell_type": "markdown",
   "metadata": {},
   "source": [
    "## Code Shelf"
   ]
  },
  {
   "cell_type": "code",
   "execution_count": 2,
   "metadata": {},
   "outputs": [],
   "source": [
    "shelf = shelve.open('CodeShelf')"
   ]
  },
  {
   "cell_type": "markdown",
   "metadata": {},
   "source": [
    "## Add or Update"
   ]
  },
  {
   "cell_type": "code",
   "execution_count": 3,
   "metadata": {},
   "outputs": [
    {
     "name": "stdout",
     "output_type": "stream",
     "text": [
      "\n",
      "! apt-get install -y xvfb python-opengl\n",
      "! pip install pyvirtualdisplay\n",
      "\n",
      "from pyvirtualdisplay import Display\n",
      "\n",
      "display = Display(visible=0, size=(200, 150))\n",
      "display.start()\n",
      "\n"
     ]
    }
   ],
   "source": [
    "value = \"\"\"\n",
    "! apt-get install -y xvfb python-opengl\n",
    "! pip install pyvirtualdisplay\n",
    "\n",
    "from pyvirtualdisplay import Display\n",
    "\n",
    "display = Display(visible=0, size=(200, 150))\n",
    "display.start()\n",
    "\"\"\"\n",
    "\n",
    "key = 'openai_virtual_display'\n",
    "\n",
    "print(shelf.get(key))\n",
    "shelf[key] = value\n",
    "shelf.sync()"
   ]
  },
  {
   "cell_type": "markdown",
   "metadata": {},
   "source": [
    "## Enumerate"
   ]
  },
  {
   "cell_type": "code",
   "execution_count": 4,
   "metadata": {},
   "outputs": [
    {
     "name": "stdout",
     "output_type": "stream",
     "text": [
      "14 ['plot_history', 'model_summary', 'run_summary', 'tf_imports', 'basic_image_augmentations', 'image_randaugment', 'run_summary_multioutput', 'show_dataset_samples', 'draw_bb_boxes', 'dense_boxes', 'save_frames_as_gif', 'display_gifs', 'display_gifs_ipython', 'openai_virtual_display']\n"
     ]
    }
   ],
   "source": [
    "keys = list(shelf.keys())\n",
    "print(len(keys), keys)"
   ]
  },
  {
   "cell_type": "markdown",
   "metadata": {},
   "source": [
    "## Query"
   ]
  },
  {
   "cell_type": "code",
   "execution_count": 5,
   "metadata": {},
   "outputs": [
    {
     "name": "stdout",
     "output_type": "stream",
     "text": [
      "\n",
      "from IPython.display import HTML, display\n",
      "from PIL import Image\n",
      "\n",
      "def display_episodes(sims, episodes):\n",
      "    html_preable = '<div style=\"display: flex; flex-wrap: wrap;\">'\n",
      "    html_postamble = '</div>'\n",
      "    html_body = ''\n",
      "    for episode_id in episodes:\n",
      "        content_preamble = '<div style=\"margin: 0 .2%;  width:20%\">'\n",
      "        content_postamble = '</div>'\n",
      "        gif_name = sims[episode_id]\n",
      "\n",
      "        content = '<img src=\"{}\"/>\n",
      "<p style=\"text-align: center\">Episode: {}</p>'.format(gif_name, episode_id)\n",
      "        html_body += content_preamble + content + content_postamble\n",
      "\n",
      "    display(HTML(html_preable + html_body + html_postamble))\n",
      "\n",
      "display_episodes(sims, range(episodes)[:15])\n",
      "\n"
     ]
    }
   ],
   "source": [
    "print(shelf['display_gifs'])"
   ]
  },
  {
   "cell_type": "code",
   "execution_count": null,
   "metadata": {},
   "outputs": [],
   "source": []
  }
 ],
 "metadata": {
  "interpreter": {
   "hash": "ef4ac4ea1ec422be6b4eb59e3fa0ded4ce016edaf83e8378f1dbc473945965d7"
  },
  "kernelspec": {
   "display_name": "Python 3.9.10 ('base')",
   "language": "python",
   "name": "python3"
  },
  "language_info": {
   "codemirror_mode": {
    "name": "ipython",
    "version": 3
   },
   "file_extension": ".py",
   "mimetype": "text/x-python",
   "name": "python",
   "nbconvert_exporter": "python",
   "pygments_lexer": "ipython3",
   "version": "3.9.10"
  },
  "orig_nbformat": 4
 },
 "nbformat": 4,
 "nbformat_minor": 2
}
