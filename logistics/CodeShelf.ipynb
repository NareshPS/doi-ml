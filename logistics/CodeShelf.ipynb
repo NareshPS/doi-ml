{
 "cells": [
  {
   "cell_type": "code",
   "execution_count": 1,
   "metadata": {},
   "outputs": [],
   "source": [
    "import shelve"
   ]
  },
  {
   "cell_type": "markdown",
   "metadata": {},
   "source": [
    "## Code Shelf"
   ]
  },
  {
   "cell_type": "code",
   "execution_count": 2,
   "metadata": {},
   "outputs": [],
   "source": [
    "shelf = shelve.open('CodeShelf')"
   ]
  },
  {
   "cell_type": "markdown",
   "metadata": {},
   "source": [
    "## Add or Update"
   ]
  },
  {
   "cell_type": "code",
   "execution_count": 6,
   "metadata": {},
   "outputs": [
    {
     "name": "stdout",
     "output_type": "stream",
     "text": [
      "None\n"
     ]
    }
   ],
   "source": [
    "value = \"\"\"\n",
    "N_CLASSES = 102\n",
    "SHUFFLE_BUFFER_SIZE = 500\n",
    "\n",
    "# Augmentation Configuration\n",
    "CROP_LOW_LIMIT = int(.08*IMG_SIZE)\n",
    "CROP_HIGH_LIMIT = IMG_SIZE+1\n",
    "PIXEL_MAX_VAL = 255\n",
    "RAND_GENERATOR = tf.random.Generator.from_seed(SEED)\n",
    "\n",
    "def random_choice(fn1, fn2, p=0.5):\n",
    "    choice = RAND_GENERATOR.uniform(())\n",
    "    return fn1() if choice<=p else fn2()\n",
    "\n",
    "\n",
    "def random_apply(fn, arg, p=.5):\n",
    "    choice = RAND_GENERATOR.uniform(())\n",
    "    return fn(arg) if choice<=p else arg\n",
    "\n",
    "def random_crop_and_resize(image):\n",
    "    def crop():\n",
    "        dim1 = tf.random.uniform(\n",
    "            [],\n",
    "            minval=CROP_LOW_LIMIT,\n",
    "            maxval=CROP_HIGH_LIMIT,\n",
    "            dtype=tf.int32\n",
    "        )\n",
    "        dim2 = int((3/4)*float(dim1))\n",
    "\n",
    "        shape = random_choice(\n",
    "            lambda: (dim1, dim2, image.shape[-1]),\n",
    "            lambda: (dim2, dim1, image.shape[-1]),\n",
    "        )\n",
    "        cropped = tf.image.random_crop(image, shape)\n",
    "        return cropped\n",
    "    \n",
    "    cropped = crop()\n",
    "    resized = tf.image.resize(cropped, (IMG_SIZE, IMG_SIZE))\n",
    "    return resized\n",
    "\n",
    "def color_distortion(image, factor=0.8):\n",
    "    def color_jitter(x):\n",
    "        x = tf.image.random_brightness(x, int(factor*PIXEL_MAX_VAL))\n",
    "        x = tf.image.random_contrast(x, 1-factor, 1+factor)\n",
    "        x = tf.image.random_saturation(x, 1-factor, 1+factor)\n",
    "        x = tf.image.random_hue(x, 0.2)\n",
    "        x = tf.clip_by_value(x, 0, PIXEL_MAX_VAL+1)\n",
    "        return x\n",
    "\n",
    "    def color_drop(x):\n",
    "        x = tf.image.rgb_to_grayscale(x)\n",
    "        x = tf.tile(x, [1, 1, 3])\n",
    "        return x\n",
    "\n",
    "    # randomly apply transformation with probability p.\n",
    "    image = random_apply(color_jitter, image, p=0.8)\n",
    "    image = random_apply(color_drop, image, p=0.2)\n",
    "    return image\n",
    "\n",
    "def gaussian_blur(image, kernel_size=IMG_SIZE//10):\n",
    "    blurred = tfa.image.gaussian_filter2d(\n",
    "        image,\n",
    "        (kernel_size, kernel_size),\n",
    "        (0.1, 2.0)\n",
    "    )\n",
    "    return blurred\n",
    "\n",
    "@tf.function\n",
    "def apply_augmentations_for_self_supervision(image):\n",
    "    def random_flip(x):\n",
    "        return tf.image.random_flip_left_right(x)\n",
    "\n",
    "    image = random_crop_and_resize(image)\n",
    "    image = random_flip(image)\n",
    "    image = color_distortion(image)\n",
    "    image = random_apply(gaussian_blur, image, 0.5)\n",
    "    return image\n",
    "\n",
    "def make_display_input(image):\n",
    "    transform1 = apply_augmentations_for_self_supervision(image)\n",
    "    transform2 = apply_augmentations_for_self_supervision(image)\n",
    "    return image, transform1, transform2\n",
    "\n",
    "def make_contrastive_input(image, label):\n",
    "    transform1 = apply_augmentations_for_self_supervision(image)\n",
    "    transform2 = apply_augmentations_for_self_supervision(image)\n",
    "    inputs = tf.stack([transform1, transform2], axis=0)\n",
    "    labels = tf.stack([label, label], axis=0)\n",
    "    return inputs, labels\n",
    "\"\"\"\n",
    "\n",
    "key = 'color_distortion'\n",
    "\n",
    "print(shelf.get(key))\n",
    "shelf[key] = value\n",
    "shelf.sync()"
   ]
  },
  {
   "cell_type": "markdown",
   "metadata": {},
   "source": [
    "## Enumerate"
   ]
  },
  {
   "cell_type": "code",
   "execution_count": 7,
   "metadata": {},
   "outputs": [
    {
     "name": "stdout",
     "output_type": "stream",
     "text": [
      "17 ['plot_history', 'model_summary', 'run_summary', 'tf_imports', 'basic_image_augmentations', 'image_randaugment', 'run_summary_multioutput', 'show_dataset_samples', 'draw_bb_boxes', 'dense_boxes', 'save_frames_as_gif', 'display_gifs', 'display_gifs_ipython', 'openai_virtual_display', 'display_images_in_grid', 'plot_loss', 'color_distortion']\n"
     ]
    }
   ],
   "source": [
    "keys = list(shelf.keys())\n",
    "print(len(keys), keys)"
   ]
  },
  {
   "cell_type": "markdown",
   "metadata": {},
   "source": [
    "## Query"
   ]
  },
  {
   "cell_type": "code",
   "execution_count": 8,
   "metadata": {},
   "outputs": [
    {
     "name": "stdout",
     "output_type": "stream",
     "text": [
      "\n",
      "N_CLASSES = 102\n",
      "SHUFFLE_BUFFER_SIZE = 500\n",
      "\n",
      "# Augmentation Configuration\n",
      "CROP_LOW_LIMIT = int(.08*IMG_SIZE)\n",
      "CROP_HIGH_LIMIT = IMG_SIZE+1\n",
      "PIXEL_MAX_VAL = 255\n",
      "RAND_GENERATOR = tf.random.Generator.from_seed(SEED)\n",
      "\n",
      "def random_choice(fn1, fn2, p=0.5):\n",
      "    choice = RAND_GENERATOR.uniform(())\n",
      "    return fn1() if choice<=p else fn2()\n",
      "\n",
      "\n",
      "def random_apply(fn, arg, p=.5):\n",
      "    choice = RAND_GENERATOR.uniform(())\n",
      "    return fn(arg) if choice<=p else arg\n",
      "\n",
      "def random_crop_and_resize(image):\n",
      "    def crop():\n",
      "        dim1 = tf.random.uniform(\n",
      "            [],\n",
      "            minval=CROP_LOW_LIMIT,\n",
      "            maxval=CROP_HIGH_LIMIT,\n",
      "            dtype=tf.int32\n",
      "        )\n",
      "        dim2 = int((3/4)*float(dim1))\n",
      "\n",
      "        shape = random_choice(\n",
      "            lambda: (dim1, dim2, image.shape[-1]),\n",
      "            lambda: (dim2, dim1, image.shape[-1]),\n",
      "        )\n",
      "        cropped = tf.image.random_crop(image, shape)\n",
      "        return cropped\n",
      "    \n",
      "    cropped = crop()\n",
      "    resized = tf.image.resize(cropped, (IMG_SIZE, IMG_SIZE))\n",
      "    return resized\n",
      "\n",
      "def color_distortion(image, factor=0.8):\n",
      "    def color_jitter(x):\n",
      "        x = tf.image.random_brightness(x, int(factor*PIXEL_MAX_VAL))\n",
      "        x = tf.image.random_contrast(x, 1-factor, 1+factor)\n",
      "        x = tf.image.random_saturation(x, 1-factor, 1+factor)\n",
      "        x = tf.image.random_hue(x, 0.2)\n",
      "        x = tf.clip_by_value(x, 0, PIXEL_MAX_VAL+1)\n",
      "        return x\n",
      "\n",
      "    def color_drop(x):\n",
      "        x = tf.image.rgb_to_grayscale(x)\n",
      "        x = tf.tile(x, [1, 1, 3])\n",
      "        return x\n",
      "\n",
      "    # randomly apply transformation with probability p.\n",
      "    image = random_apply(color_jitter, image, p=0.8)\n",
      "    image = random_apply(color_drop, image, p=0.2)\n",
      "    return image\n",
      "\n",
      "def gaussian_blur(image, kernel_size=IMG_SIZE//10):\n",
      "    blurred = tfa.image.gaussian_filter2d(\n",
      "        image,\n",
      "        (kernel_size, kernel_size),\n",
      "        (0.1, 2.0)\n",
      "    )\n",
      "    return blurred\n",
      "\n",
      "@tf.function\n",
      "def apply_augmentations_for_self_supervision(image):\n",
      "    def random_flip(x):\n",
      "        return tf.image.random_flip_left_right(x)\n",
      "\n",
      "    image = random_crop_and_resize(image)\n",
      "    image = random_flip(image)\n",
      "    image = color_distortion(image)\n",
      "    image = random_apply(gaussian_blur, image, 0.5)\n",
      "    return image\n",
      "\n",
      "def make_display_input(image):\n",
      "    transform1 = apply_augmentations_for_self_supervision(image)\n",
      "    transform2 = apply_augmentations_for_self_supervision(image)\n",
      "    return image, transform1, transform2\n",
      "\n",
      "def make_contrastive_input(image, label):\n",
      "    transform1 = apply_augmentations_for_self_supervision(image)\n",
      "    transform2 = apply_augmentations_for_self_supervision(image)\n",
      "    inputs = tf.stack([transform1, transform2], axis=0)\n",
      "    labels = tf.stack([label, label], axis=0)\n",
      "    return inputs, labels\n",
      "\n"
     ]
    }
   ],
   "source": [
    "print(shelf['color_distortion'])"
   ]
  },
  {
   "cell_type": "code",
   "execution_count": null,
   "metadata": {},
   "outputs": [],
   "source": []
  }
 ],
 "metadata": {
  "interpreter": {
   "hash": "ef4ac4ea1ec422be6b4eb59e3fa0ded4ce016edaf83e8378f1dbc473945965d7"
  },
  "kernelspec": {
   "display_name": "Python 3.9.10 ('base')",
   "language": "python",
   "name": "python3"
  },
  "language_info": {
   "codemirror_mode": {
    "name": "ipython",
    "version": 3
   },
   "file_extension": ".py",
   "mimetype": "text/x-python",
   "name": "python",
   "nbconvert_exporter": "python",
   "pygments_lexer": "ipython3",
   "version": "3.9.10"
  },
  "orig_nbformat": 4
 },
 "nbformat": 4,
 "nbformat_minor": 2
}
