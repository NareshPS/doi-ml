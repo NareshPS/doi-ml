{
 "cells": [
  {
   "cell_type": "code",
   "execution_count": 1,
   "metadata": {},
   "outputs": [],
   "source": [
    "import shelve"
   ]
  },
  {
   "cell_type": "markdown",
   "metadata": {},
   "source": [
    "## Code Shelf"
   ]
  },
  {
   "cell_type": "code",
   "execution_count": 2,
   "metadata": {},
   "outputs": [],
   "source": [
    "shelf = shelve.open('CodeShelf')"
   ]
  },
  {
   "cell_type": "markdown",
   "metadata": {},
   "source": [
    "## Add or Update"
   ]
  },
  {
   "cell_type": "code",
   "execution_count": 9,
   "metadata": {},
   "outputs": [
    {
     "name": "stdout",
     "output_type": "stream",
     "text": [
      "None\n"
     ]
    }
   ],
   "source": [
    "value = \"\"\"\n",
    "def calibrate_null_class(boxes):\n",
    "    sparse_classes, boxes = tf.split(boxes, [1, BOX_DIMS], axis=-1)\n",
    "    sparse_classes += 1\n",
    "\n",
    "    boxes = tf.concat([sparse_classes, boxes], axis=-1)\n",
    "    return boxes\n",
    "\n",
    "def dense_boxes(boxes):\n",
    "    n_boxes = tf.shape(boxes)[0]\n",
    "    empties = tf.zeros((MAX_BOX_QUERIES-n_boxes, BOX_DIMS+1), dtype=tf.float32)\n",
    "    boxes = tf.concat([boxes, empties], axis=0)\n",
    "\n",
    "    return boxes\n",
    "\n",
    "dtrain_ds = train_ds.map(lambda x,y: (x, calibrate_null_class(y)))\n",
    "dtrain_ds = dtrain_ds.map(lambda x,y: (x, dense_boxes(y)))\n",
    "itr = iter(dtrain_ds)\n",
    "y_true = next(itr)[1]\n",
    "tf.print(y_true)\n",
    "\"\"\"\n",
    "\n",
    "key = 'dense_boxes'\n",
    "\n",
    "print(shelf.get(key))\n",
    "shelf[key] = value\n",
    "shelf.sync()"
   ]
  },
  {
   "cell_type": "markdown",
   "metadata": {},
   "source": [
    "## Enumerate"
   ]
  },
  {
   "cell_type": "code",
   "execution_count": 10,
   "metadata": {},
   "outputs": [
    {
     "name": "stdout",
     "output_type": "stream",
     "text": [
      "10 ['plot_history', 'model_summary', 'run_summary', 'tf_imports', 'basic_image_augmentations', 'image_randaugment', 'run_summary_multioutput', 'show_dataset_samples', 'draw_bb_boxes', 'dense_boxes']\n"
     ]
    }
   ],
   "source": [
    "keys = list(shelf.keys())\n",
    "print(len(keys), keys)"
   ]
  },
  {
   "cell_type": "markdown",
   "metadata": {},
   "source": [
    "## Query"
   ]
  },
  {
   "cell_type": "code",
   "execution_count": 8,
   "metadata": {},
   "outputs": [
    {
     "name": "stdout",
     "output_type": "stream",
     "text": [
      "\n",
      "def rgb_to_hex(rgb):\n",
      "    return '#%02x%02x%02x' % rgb\n",
      "\n",
      "def bbox_to_rect(bbox, shape, color):\n",
      "    \"Convert bounding box to matplotlib format.\"\n",
      "    h, w = shape\n",
      "    left, top, right, bottom = bbox[0]*w, bbox[1]*h, bbox[2]*w, bbox[3]*h\n",
      "    \n",
      "    rect = plt.Rectangle(\n",
      "        xy=(left, top), width=right-left, height=bottom-top,\n",
      "        fill=False, edgecolor=color, linewidth=2)\n",
      "#     print(rect)\n",
      "    return rect\n",
      "\n",
      "N_CLASSES = ds_info.features['labels'].num_classes\n",
      "LABELS = ds_info.features['labels'].names\n",
      "CLASS_COLORS = list(map(lambda v: rgb_to_hex(tuple(v.tolist())), np.random.choice(range(64, 255),size=[N_CLASSES, 3])))\n",
      "\n",
      "# itr = iter(train_ds)\n",
      "itr = iter(raw_train_ds)\n",
      "item = next(itr)\n",
      "\n",
      "fig = plt.imshow(item['image'])\n",
      "\n",
      "def draw_boxes(image, fig):\n",
      "    box_shape = image.shape[:2]\n",
      "    objs = item['objects']\n",
      "    \n",
      "    for index, bbox in enumerate(objs['bbox']):\n",
      "        rect = bbox_to_rect(bbox, box_shape, CLASS_COLORS[objs['label'][index]])\n",
      "        fig.axes.add_patch(rect)\n",
      "        fig.axes.text(*rect.get_xy(), LABELS[objs['label'][index]], ha='left', va='top', bbox=dict(ec='none', fc=CLASS_COLORS[objs['label'][index]]))\n",
      "\n",
      "draw_boxes(item['image'], fig)\n",
      "# item['image'].shape, item['objects']['bbox'], item\n",
      "print(list(enumerate(ds_info.features['labels'].names)))\n",
      "item['objects']['label'], item['image'].shape, item['objects']['bbox']\n",
      "\n"
     ]
    }
   ],
   "source": [
    "print(shelf['draw_bb_boxes'])"
   ]
  },
  {
   "cell_type": "code",
   "execution_count": null,
   "metadata": {},
   "outputs": [],
   "source": []
  }
 ],
 "metadata": {
  "interpreter": {
   "hash": "ef4ac4ea1ec422be6b4eb59e3fa0ded4ce016edaf83e8378f1dbc473945965d7"
  },
  "kernelspec": {
   "display_name": "Python 3.9.10 ('base')",
   "language": "python",
   "name": "python3"
  },
  "language_info": {
   "codemirror_mode": {
    "name": "ipython",
    "version": 3
   },
   "file_extension": ".py",
   "mimetype": "text/x-python",
   "name": "python",
   "nbconvert_exporter": "python",
   "pygments_lexer": "ipython3",
   "version": "3.9.10"
  },
  "orig_nbformat": 4
 },
 "nbformat": 4,
 "nbformat_minor": 2
}
