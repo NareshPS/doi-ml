{
 "cells": [
  {
   "attachments": {},
   "cell_type": "markdown",
   "metadata": {},
   "source": [
    "# Conv Output Visualization"
   ]
  },
  {
   "cell_type": "code",
   "execution_count": null,
   "metadata": {},
   "outputs": [],
   "source": [
    "def rescale(x, targetMin, targetMax):\n",
    "    dataMin = tf.math.reduce_min(x)\n",
    "\n",
    "    if dataMin < 0:\n",
    "        x -= dataMin\n",
    "        dataMin = 0\n",
    "    \n",
    "    dataMax = tf.math.reduce_max(x)\n",
    "    rescaled = (targetMax - targetMin)*(x - dataMin)/(dataMax - dataMin) + targetMin\n",
    "\n",
    "    return rescaled\n",
    "\n",
    "def rescale_and_plot_channels(ax, x):\n",
    "    channels = x.shape[-1]\n",
    "\n",
    "    for channel_id in range(channels):\n",
    "        rescaled = rescale(x[:, :, channel_id:channel_id+1], 0, 1)\n",
    "        ax[channel_id + 1].imshow(rescaled, cmap='gray')\n",
    "\n",
    "def plot_weights_2d(images, weights):\n",
    "    num_items, cols = weights.shape[0], weights.shape[-1] + 1\n",
    "\n",
    "    _, axes = plt.subplots(num_items, cols, figsize=(12, 2.5*num_items))\n",
    "\n",
    "    for item_id in range(num_items):\n",
    "        item_weights = weights[item_id]\n",
    "        # rescaled = rescale(weight, 0, 1)\n",
    "\n",
    "        #\n",
    "        axes[item_id, 0].imshow(images[item_id])\n",
    "        rescale_and_plot_channels(axes[item_id], item_weights)\n",
    "        # axes[item_id, 1].imshow(rescaled, cmap='gray')\n",
    "\n",
    "conv_output = conv_layer(images)\n",
    "plot_weights_2d(images, conv_output[0])"
   ]
  }
 ],
 "metadata": {
  "language_info": {
   "name": "python"
  },
  "orig_nbformat": 4
 },
 "nbformat": 4,
 "nbformat_minor": 2
}
