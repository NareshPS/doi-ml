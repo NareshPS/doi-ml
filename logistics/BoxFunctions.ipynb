{
 "cells": [
  {
   "attachments": {},
   "cell_type": "markdown",
   "metadata": {},
   "source": [
    "# Box Functions"
   ]
  },
  {
   "attachments": {},
   "cell_type": "markdown",
   "metadata": {},
   "source": [
    "## Random Boxes\n",
    "\n",
    "These boxes are created to ensure that the top < bottom and left < right."
   ]
  },
  {
   "cell_type": "code",
   "execution_count": null,
   "metadata": {},
   "outputs": [],
   "source": [
    "def make_random_boxes(num_boxes=1):\n",
    "    pair_1 = tf.random.uniform((num_boxes, 2))\n",
    "    pair_2 = tf.random.uniform((num_boxes, 2))\n",
    "\n",
    "    yx_min = tf.where(pair_1 < pair_2, pair_1, pair_2)\n",
    "    yx_max = tf.where(pair_1 > pair_2, pair_1, pair_2)\n",
    "\n",
    "    boxes = tf.concat([yx_min, yx_max], axis=-1)\n",
    "    return tf.RaggedTensor.from_tensor(boxes)\n",
    "\n",
    "def make_random_grid_boxes(num_boxes, grid_size):\n",
    "    \"\"\"\n",
    "        Generates a random boxes in a grid.\n",
    "\n",
    "        Arguments:\n",
    "            num_boxes: An integer value to indicate the number of boxes to generate.\n",
    "            grid_size: The size of target grid to fit the boxes into.\n",
    "        \n",
    "        Returns:\n",
    "            A grid containing heights and widths of input boxes fitted based on their top-left coordinates.\n",
    "            The output shape is (grid_size, grid_size, 2)\n",
    "    \"\"\"\n",
    "    pair_1 = tf.random.uniform((num_boxes, 2))\n",
    "    pair_2 = tf.random.uniform((num_boxes, 2))\n",
    "\n",
    "    yx_min = tf.where(pair_1 < pair_2, pair_1, pair_2)\n",
    "    yx_max = tf.where(pair_1 > pair_2, pair_1, pair_2)\n",
    "\n",
    "    boxes = tf.concat([yx_min, yx_max], axis=-1)\n",
    "    box_grid = yxyx_to_hw_grid(boxes, grid_size)\n",
    "\n",
    "    # box_indices = tf.cast(tf.random.uniform((num_boxes, 2))*grid_size, dtype=tf.int32)\n",
    "    # box_grid = tf.scatter_nd(indices=box_indices, updates=boxes, shape=(grid_size, grid_size, 4))\n",
    "\n",
    "    # tf.print('box_indices: ', box_indices, box_indices.shape)\n",
    "    # tf.print('boxes: ', boxes, boxes.shape)\n",
    "    # tf.print('box_grid: ', box_grid, box_grid.shape)\n",
    "\n",
    "    return box_grid"
   ]
  },
  {
   "attachments": {},
   "cell_type": "markdown",
   "metadata": {},
   "source": [
    "## Box Translations\n",
    "\n",
    "Translation between YXYX, YXHW and Grid HW formats."
   ]
  },
  {
   "cell_type": "code",
   "execution_count": null,
   "metadata": {},
   "outputs": [],
   "source": [
    "def generate_grid_indices(size):\n",
    "    def cell_indices():\n",
    "        indices = tf.repeat(tf.range(size), size)\n",
    "        return tf.reshape(indices, (size, size))\n",
    "    \n",
    "    row_ids = cell_indices()\n",
    "    col_ids = tf.transpose(row_ids)\n",
    "    result = tf.concat([tf.expand_dims(row_ids, axis=-1), tf.expand_dims(col_ids, axis=-1)], axis=-1)\n",
    "    return result\n",
    "\n",
    "def yxyx_to_yxhw(boxes):\n",
    "    \"\"\"\n",
    "        It translates the boxes from YXYX format to YXHW format.\n",
    "        boxes: A tensor of boxes with shape (N_BOXES, 4) in YXYX format.\n",
    "\n",
    "        Returns:\n",
    "            A tensor of boxes with shape (N_BOXES, 4) in YXHW format.\n",
    "    \"\"\"\n",
    "    yx_min, yx_max = tf.split(boxes, 2, axis=-1)\n",
    "    hw = yx_max - yx_min\n",
    "    hw_boxes = tf.concat([yx_min, hw], axis=-1)\n",
    "    return hw_boxes\n",
    "\n",
    "def yxhw_to_yxyx(boxes):\n",
    "    \"\"\"\n",
    "        It translates the boxes from YXHW format to YXYX format.\n",
    "        boxes: A tensor of boxes with shape (N_BOXES, 4) in YXHW format.\n",
    "\n",
    "        Returns:\n",
    "            A tensor of boxes with shape (N_BOXES, 4) in YXYX format.\n",
    "    \"\"\"\n",
    "    yx_min, yx_hw = tf.split(boxes, 2, axis=-1)\n",
    "    yx_max = tf.clip_by_value(yx_min + yx_hw, 0, 1)\n",
    "    yxyx_boxes = tf.concat([yx_min, yx_max], axis=-1)\n",
    "    return yxyx_boxes"
   ]
  },
  {
   "attachments": {},
   "cell_type": "markdown",
   "metadata": {},
   "source": [
    "## Represenation Translations\n",
    "\n",
    "Translations between Dense, Sparse and Ragged boxes."
   ]
  },
  {
   "cell_type": "code",
   "execution_count": null,
   "metadata": {},
   "outputs": [],
   "source": [
    "def sparse_to_ragged_boxes(sparse_boxes, size):\n",
    "    yx_min = tf.cast(tf.reshape(sparse_boxes.indices, [-1, 6])[:, :2]/size, dtype=sparse_boxes.dtype)\n",
    "    yx_max = tf.reshape(sparse_boxes.values, [-1, 2])\n",
    "\n",
    "    # tf.print('yx_min: ', yx_min, yx_min.shape)\n",
    "    # tf.print('yx_max: ', yx_max, yx_max.shape)\n",
    "\n",
    "    boxes = tf.concat([yx_min, yx_max], axis=-1)\n",
    "\n",
    "    return boxes\n",
    "\n",
    "def sparsify_boxes(bboxes, size):\n",
    "    bboxes = bboxes.to_tensor()\n",
    "    num_boxes = tf.shape(bboxes)[0]\n",
    "\n",
    "    # Extract box properties.\n",
    "    [yx_min, yx_max] = tf.split(bboxes, 2, axis=-1)\n",
    "\n",
    "    # Compute box dimensions which includes their heights and widths\n",
    "    hw = yx_max - yx_min\n",
    "\n",
    "    # Compute (y_min, x_min) indices of the boxes to address their top-left corner.\n",
    "    yx_indices = yx_to_indices(yx_min, size)\n",
    "\n",
    "    # Compute indices for sparse tensor of shape (IMG_SIZE, IMG_SIZE, 2) as [[Y, X, H], [Y, X, W]...].\n",
    "    sparse_yx_indices = tf.repeat(yx_indices, 2, axis=0)\n",
    "    sparse_hw_indices = tf.reshape(tf.repeat(tf.constant([[0, 1]], dtype=tf.int64), num_boxes, axis=0), [-1, 1])\n",
    "    sparse_indices = tf.concat([sparse_yx_indices, sparse_hw_indices], axis=-1)\n",
    "    sparse_values = tf.reshape(hw, [-1])\n",
    "\n",
    "    sparse_boxes = tf.sparse.SparseTensor(indices=sparse_indices, values=sparse_values, dense_shape=(size, size, 2))\n",
    "\n",
    "    return sparse_boxes\n",
    "\n",
    "# boxes_yxyx_1 = tf.SparseTensor(indices=[[0, 1, 0], [0, 1, 1]], values=[.25, .5], dense_shape=[IMG_SIZE, IMG_SIZE, 2])\n",
    "# boxes_yxyx_2 = tf.SparseTensor(indices=[[100, 100, 0], [100, 100, 1]], values=[.75, .95], dense_shape=[IMG_SIZE, IMG_SIZE, 2])\n",
    "\n",
    "# sparse_to_ragged_boxes(boxes_yxyx_1, IMG_SIZE)"
   ]
  },
  {
   "attachments": {},
   "cell_type": "markdown",
   "metadata": {},
   "source": [
    "## Box Properties"
   ]
  },
  {
   "cell_type": "code",
   "execution_count": null,
   "metadata": {},
   "outputs": [],
   "source": [
    "def box_area(boxes):\n",
    "    \"\"\"\n",
    "        It computes the area of the boxes.\n",
    "        boxes: A tensor of boxes with shape (N_BOXES, 4) in YXYX format.\n",
    "\n",
    "        Returns:\n",
    "            A tensor of box areas of shape (N_BOXES, 1)\n",
    "    \"\"\"\n",
    "    y_min, x_min, y_max, x_max = tf.split(boxes, 4, axis=-1)\n",
    "    return (y_max - y_min)*(x_max - x_min)"
   ]
  }
 ],
 "metadata": {
  "language_info": {
   "name": "python"
  },
  "orig_nbformat": 4
 },
 "nbformat": 4,
 "nbformat_minor": 2
}
