{
 "cells": [
  {
   "cell_type": "code",
   "execution_count": 1,
   "id": "9ce7abc5",
   "metadata": {},
   "outputs": [
    {
     "name": "stderr",
     "output_type": "stream",
     "text": [
      "2022-02-17 21:38:03.686713: W tensorflow/stream_executor/platform/default/dso_loader.cc:64] Could not load dynamic library 'libcudart.so.11.0'; dlerror: libcudart.so.11.0: cannot open shared object file: No such file or directory\n",
      "2022-02-17 21:38:03.686790: I tensorflow/stream_executor/cuda/cudart_stub.cc:29] Ignore above cudart dlerror if you do not have a GPU set up on your machine.\n"
     ]
    }
   ],
   "source": [
    "from tensorflow.keras import layers, losses, models as mds, optimizers\n",
    "from collections import namedtuple\n",
    "from random import sample, shuffle\n",
    "from math import floor\n",
    "\n",
    "import tensorflow as tf\n",
    "import tensorflow_datasets as tfds"
   ]
  },
  {
   "cell_type": "code",
   "execution_count": 2,
   "id": "b116665f",
   "metadata": {},
   "outputs": [
    {
     "name": "stderr",
     "output_type": "stream",
     "text": [
      "2022-02-17 21:38:06.935407: W tensorflow/stream_executor/platform/default/dso_loader.cc:64] Could not load dynamic library 'libcuda.so.1'; dlerror: libcuda.so.1: cannot open shared object file: No such file or directory\n",
      "2022-02-17 21:38:06.935471: W tensorflow/stream_executor/cuda/cuda_driver.cc:269] failed call to cuInit: UNKNOWN ERROR (303)\n",
      "2022-02-17 21:38:06.935499: I tensorflow/stream_executor/cuda/cuda_diagnostics.cc:156] kernel driver does not appear to be running on this host (DESKTOP-19319V3): /proc/driver/nvidia/version does not exist\n",
      "2022-02-17 21:38:06.935922: I tensorflow/core/platform/cpu_feature_guard.cc:151] This TensorFlow binary is optimized with oneAPI Deep Neural Network Library (oneDNN) to use the following CPU instructions in performance-critical operations:  AVX2 FMA\n",
      "To enable them in other operations, rebuild TensorFlow with the appropriate compiler flags.\n"
     ]
    }
   ],
   "source": [
    "# Dataset image size\n",
    "IMG_SIZE = 264\n",
    "N_CLASSES = 102\n",
    "\n",
    "def resize_image(image, *args):\n",
    "    image = tf.image.resize_with_pad(image, IMG_SIZE, IMG_SIZE)\n",
    "    return image, *args\n",
    "\n",
    "def normalize_image(image, *args):\n",
    "    image /= 255\n",
    "    return image, *args\n",
    "\n",
    "train_ds, val_ds = tfds.load(\n",
    "    'oxford_flowers102',\n",
    "    split=['train[:20%]', 'validation'],\n",
    "    as_supervised=True,\n",
    "    read_config=tfds.ReadConfig(try_autocache=False)\n",
    ")\n",
    "\n",
    "train_ds = train_ds.map(resize_image).map(normalize_image)\n",
    "val_ds = val_ds.map(resize_image).map(normalize_image)"
   ]
  },
  {
   "cell_type": "code",
   "execution_count": 3,
   "id": "563804aa",
   "metadata": {},
   "outputs": [
    {
     "data": {
      "text/plain": [
       "<tf.Tensor: shape=(3,), dtype=float32, numpy=array([0.34849134, 0.3406482 , 0.28966781], dtype=float32)>"
      ]
     },
     "execution_count": 3,
     "metadata": {},
     "output_type": "execute_result"
    }
   ],
   "source": [
    "itr = iter(train_ds)\n",
    "next(itr)[0][100, 100]"
   ]
  },
  {
   "cell_type": "code",
   "execution_count": 4,
   "id": "2c83b9cd",
   "metadata": {},
   "outputs": [
    {
     "data": {
      "text/plain": [
       "[[id: 0, parent: 0, gen: 0, model: <keras.engine.sequential.Sequential object at 0x7f30247060d0>],\n",
       " [id: 1, parent: 1, gen: 0, model: <keras.engine.sequential.Sequential object at 0x7f30246ba520>],\n",
       " [id: 2, parent: 2, gen: 0, model: <keras.engine.sequential.Sequential object at 0x7f30246824c0>],\n",
       " [id: 3, parent: 3, gen: 0, model: <keras.engine.sequential.Sequential object at 0x7f302468cf10>],\n",
       " [id: 4, parent: 4, gen: 0, model: <keras.engine.sequential.Sequential object at 0x7f302461ca00>]]"
      ]
     },
     "execution_count": 4,
     "metadata": {},
     "output_type": "execute_result"
    }
   ],
   "source": [
    "MEMBER_RUNNING_ID = 0\n",
    "\n",
    "# Member = namedtuple('Member', ['id', 'gen', 'model'])\n",
    "class Member(object):\n",
    "    def __init__(self, member_id, parent, gen, model):\n",
    "        self.id = member_id\n",
    "        self.parent = parent\n",
    "        self.gen = gen\n",
    "        self.model = model\n",
    "    \n",
    "    def __repr__(self):\n",
    "        return '[id: {}, parent: {}, gen: {}, model: {}]'.format(self.id, self.parent, self.gen, self.model)\n",
    "\n",
    "def init_model():\n",
    "    model = tf.keras.Sequential([\n",
    "        tf.keras.Input((IMG_SIZE, IMG_SIZE, 3), dtype=tf.float32),\n",
    "        layers.GlobalMaxPooling2D(),\n",
    "#         tf.keras.Sequential([layers.GlobalMaxPooling2D()]),\n",
    "        layers.Dense(N_CLASSES, activation='softmax')\n",
    "    ])\n",
    "    \n",
    "    optimizer = optimizers.Adam(learning_rate=0.1)\n",
    "    loss = 'sparse_categorical_crossentropy'\n",
    "    metrics = 'accuracy'\n",
    "    \n",
    "    model.compile(optimizer=optimizer, loss=loss, metrics=metrics)\n",
    "    return model\n",
    "\n",
    "def init_member(parent=-1, gen=0, model=None):\n",
    "    global MEMBER_RUNNING_ID\n",
    "    \n",
    "    m = Member(MEMBER_RUNNING_ID, parent, gen, model or init_model())\n",
    "    \n",
    "    MEMBER_RUNNING_ID += 1\n",
    "    return m\n",
    "\n",
    "def let_there_be_light():\n",
    "    START_POPULATION = 5\n",
    "    \n",
    "    return list(map(init_member, range(START_POPULATION)))\n",
    "\n",
    "POPULATION = let_there_be_light()\n",
    "POPULATION"
   ]
  },
  {
   "cell_type": "code",
   "execution_count": 5,
   "id": "5a2c656d",
   "metadata": {},
   "outputs": [
    {
     "name": "stdout",
     "output_type": "stream",
     "text": [
      "0 [[id: 2, parent: 2, gen: 0, model: <keras.engine.sequential.Sequential object at 0x7f30246824c0>], [id: 4, parent: 4, gen: 0, model: <keras.engine.sequential.Sequential object at 0x7f302461ca00>], [id: 1, parent: 1, gen: 0, model: <keras.engine.sequential.Sequential object at 0x7f30246ba520>], [id: 5, parent: 1, gen: 1, model: <keras.engine.sequential.Sequential object at 0x7f302462d3a0>]]\n",
      "1 [[id: 4, parent: 4, gen: 0, model: <keras.engine.sequential.Sequential object at 0x7f302461ca00>], [id: 5, parent: 1, gen: 1, model: <keras.engine.sequential.Sequential object at 0x7f302462d3a0>], [id: 6, parent: 4, gen: 1, model: <keras.engine.sequential.Sequential object at 0x7f302b93d550>]]\n",
      "2 [[id: 5, parent: 1, gen: 1, model: <keras.engine.sequential.Sequential object at 0x7f302462d3a0>], [id: 6, parent: 4, gen: 1, model: <keras.engine.sequential.Sequential object at 0x7f302b93d550>], [id: 7, parent: 5, gen: 2, model: <keras.engine.sequential.Sequential object at 0x7f302464f970>]]\n"
     ]
    },
    {
     "data": {
      "text/plain": [
       "[[id: 5, parent: 1, gen: 1, model: <keras.engine.sequential.Sequential object at 0x7f302462d3a0>],\n",
       " [id: 6, parent: 4, gen: 1, model: <keras.engine.sequential.Sequential object at 0x7f302b93d550>],\n",
       " [id: 7, parent: 5, gen: 2, model: <keras.engine.sequential.Sequential object at 0x7f302464f970>]]"
      ]
     },
     "execution_count": 5,
     "metadata": {},
     "output_type": "execute_result"
    }
   ],
   "source": [
    "N_ITERATIONS = 3\n",
    "SURVIVAL_RATE = .7\n",
    "REPRODUCTION_RATE = .5\n",
    "\n",
    "def train_member(m):\n",
    "#     result = m.model.fit(train_ds.batch(2).take(1))\n",
    "    result = m\n",
    "    return result\n",
    "\n",
    "def natural_selection(p):\n",
    "    def partition(items, size):\n",
    "        shuffle(items) # In-place shuffle\n",
    "        left, right = items[:size], items[size:]\n",
    "        return left, right\n",
    "    \n",
    "    mc = len(p) # Member Count\n",
    "    sc = floor(mc*SURVIVAL_RATE) # Survivals\n",
    "    survivals, deaths = partition(list(range(mc)), sc) # Survivals and deaths\n",
    "    \n",
    "    # Transform survival and death indices to members \n",
    "    ids_to_members = lambda ids: list(map(lambda idx: p[idx], ids))\n",
    "    survivals, _ = ids_to_members(survivals), ids_to_members(deaths)\n",
    "\n",
    "    return survivals\n",
    "\n",
    "def reproduction(p):\n",
    "    def birth(parent):\n",
    "        # Child Attributes\n",
    "        parent_id, gen = parent.id, parent.gen+1 \n",
    "        model = mds.clone_model(parent.model)\n",
    "    \n",
    "        child = init_member(parent=parent_id, gen=gen, model=model)\n",
    "        return child\n",
    "        \n",
    "    mc = len(p) # Member Count\n",
    "    pc = floor(mc*REPRODUCTION_RATE) # Parents\n",
    "    parents = sample(list(range(mc)), pc)\n",
    "    \n",
    "    # Transform parent ids to parents\n",
    "    parents = map(lambda idx: p[idx], parents)\n",
    "    \n",
    "    # Update population with new births\n",
    "    p.extend(map(birth, parents))\n",
    "    \n",
    "    return p\n",
    "\n",
    "def next_evolution(p):\n",
    "    def update_member_gen(m):\n",
    "        m.gen += 1\n",
    "        return m\n",
    "    \n",
    "    # Natural Selection\n",
    "    p = natural_selection(p)\n",
    "    \n",
    "#     # Increment Generation\n",
    "#     p = list(map(update_member_gen, p))\n",
    "    \n",
    "    # Reproduction\n",
    "    p = reproduction(p)\n",
    "    \n",
    "    # Evolve\n",
    "    result = list(map(train_member, p))\n",
    "    return result\n",
    "\n",
    "def calculateDaysBetweenDates()\n",
    "\n",
    "def run(p):\n",
    "    result = None\n",
    "    for step, iteration in enumerate(range(N_ITERATIONS)):\n",
    "        p = next_evolution(p)\n",
    "        print(step, p)\n",
    "        result = p\n",
    "\n",
    "    return result\n",
    "\n",
    "run(POPULATION)"
   ]
  }
 ],
 "metadata": {
  "kernelspec": {
   "display_name": "Python 3 (ipykernel)",
   "language": "python",
   "name": "python3"
  },
  "language_info": {
   "codemirror_mode": {
    "name": "ipython",
    "version": 3
   },
   "file_extension": ".py",
   "mimetype": "text/x-python",
   "name": "python",
   "nbconvert_exporter": "python",
   "pygments_lexer": "ipython3",
   "version": "3.9.7"
  }
 },
 "nbformat": 4,
 "nbformat_minor": 5
}
