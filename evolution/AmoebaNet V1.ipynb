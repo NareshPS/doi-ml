{
 "cells": [
  {
   "cell_type": "code",
   "execution_count": 2,
   "id": "9ce7abc5",
   "metadata": {},
   "outputs": [
    {
     "name": "stderr",
     "output_type": "stream",
     "text": [
      "/Users/broxoli/miniforge3/lib/python3.10/site-packages/tqdm/auto.py:22: TqdmWarning: IProgress not found. Please update jupyter and ipywidgets. See https://ipywidgets.readthedocs.io/en/stable/user_install.html\n",
      "  from .autonotebook import tqdm as notebook_tqdm\n"
     ]
    }
   ],
   "source": [
    "import tensorflow as tf\n",
    "import tensorflow_datasets as tfds\n",
    "import numpy as np\n",
    "import pandas as pd\n",
    "\n",
    "from tensorflow.keras import layers, losses, models, optimizers\n",
    "from matplotlib import pyplot as plt\n",
    "from matplotlib import ticker\n",
    "from collections import deque\n",
    "from random import sample, shuffle, randrange\n",
    "from math import floor\n",
    "from functools import reduce"
   ]
  },
  {
   "cell_type": "code",
   "execution_count": 3,
   "id": "b116665f",
   "metadata": {},
   "outputs": [
    {
     "name": "stdout",
     "output_type": "stream",
     "text": [
      "Metal device set to: Apple M1\n",
      "\n",
      "systemMemory: 8.00 GB\n",
      "maxCacheSize: 2.67 GB\n",
      "\n"
     ]
    },
    {
     "name": "stderr",
     "output_type": "stream",
     "text": [
      "2022-11-08 16:15:05.259631: I tensorflow/core/common_runtime/pluggable_device/pluggable_device_factory.cc:306] Could not identify NUMA node of platform GPU ID 0, defaulting to 0. Your kernel may not have been built with NUMA support.\n",
      "2022-11-08 16:15:05.260447: I tensorflow/core/common_runtime/pluggable_device/pluggable_device_factory.cc:272] Created TensorFlow device (/job:localhost/replica:0/task:0/device:GPU:0 with 0 MB memory) -> physical PluggableDevice (device: 0, name: METAL, pci bus id: <undefined>)\n"
     ]
    }
   ],
   "source": [
    "DATASET_PARAMS = dict(\n",
    "    input_shape=(32, 32, 3),\n",
    "    n_classes=10,\n",
    "    baseline_accuracy=.1,\n",
    ")\n",
    "\n",
    "train_ds, val_ds = tfds.load(\n",
    "    'cifar10',\n",
    "    split=['train[:80%]', 'train[20%:]'],\n",
    "    as_supervised=True\n",
    ")"
   ]
  },
  {
   "cell_type": "code",
   "execution_count": 4,
   "id": "563804aa",
   "metadata": {},
   "outputs": [
    {
     "name": "stderr",
     "output_type": "stream",
     "text": [
      "2022-11-08 16:15:05.557707: W tensorflow/core/platform/profile_utils/cpu_utils.cc:128] Failed to get CPU frequency: 0 Hz\n",
      "2022-11-08 16:15:05.585575: W tensorflow/core/kernels/data/cache_dataset_ops.cc:856] The calling iterator did not fully read the dataset being cached. In order to avoid unexpected truncation of the dataset, the partially cached contents of the dataset  will be discarded. This can happen if you have an input pipeline similar to `dataset.cache().take(k).repeat()`. You should use `dataset.take(k).cache().repeat()` instead.\n"
     ]
    },
    {
     "data": {
      "image/png": "[encoded data removed]",
      "text/plain": [
       "<Figure size 200x200 with 2 Axes>"
      ]
     },
     "metadata": {},
     "output_type": "display_data"
    }
   ],
   "source": [
    "def display(display_list, cols=2, size=(8, 8)):\n",
    "    rows = (len(display_list) + cols - 1)//cols\n",
    "    fig, axes = plt.subplots(rows, cols, figsize=size)\n",
    "\n",
    "    def get_axis(index):\n",
    "        row, col = index//cols, index%cols\n",
    "        return axes[row, col] if rows>1 else axes[col]\n",
    "    \n",
    "    for index, item in enumerate(display_list):\n",
    "        image, label = item\n",
    "        axis = get_axis(index)\n",
    "        axis.imshow(tf.keras.utils.array_to_img(image))\n",
    "        axis.set_xlabel(label)\n",
    "\n",
    "items = []\n",
    "for item in train_ds.take(2).as_numpy_iterator():\n",
    "    items.append(item)\n",
    "\n",
    "display(items, size=(2,2))"
   ]
  },
  {
   "cell_type": "code",
   "execution_count": 133,
   "id": "8d27f33b",
   "metadata": {},
   "outputs": [
    {
     "name": "stderr",
     "output_type": "stream",
     "text": [
      "2022-11-08 12:50:22.755711: I tensorflow/core/grappler/optimizers/custom_graph_optimizer_registry.cc:114] Plugin optimizer for device_type GPU is enabled.\n"
     ]
    },
    {
     "name": "stdout",
     "output_type": "stream",
     "text": [
      "2/2 [==============================] - ETA: 0s - loss: 2.3059 - accuracy: 0.0586 "
     ]
    },
    {
     "name": "stderr",
     "output_type": "stream",
     "text": [
      "2022-11-08 12:50:33.404316: I tensorflow/core/grappler/optimizers/custom_graph_optimizer_registry.cc:114] Plugin optimizer for device_type GPU is enabled.\n"
     ]
    },
    {
     "name": "stdout",
     "output_type": "stream",
     "text": [
      "2/2 [==============================] - 19s 5s/step - loss: 2.3059 - accuracy: 0.0586 - val_loss: 2.3131 - val_accuracy: 0.1855\n"
     ]
    },
    {
     "name": "stderr",
     "output_type": "stream",
     "text": [
      "2022-11-08 12:50:36.388449: W tensorflow/core/kernels/data/cache_dataset_ops.cc:856] The calling iterator did not fully read the dataset being cached. In order to avoid unexpected truncation of the dataset, the partially cached contents of the dataset  will be discarded. This can happen if you have an input pipeline similar to `dataset.cache().take(k).repeat()`. You should use `dataset.take(k).cache().repeat()` instead.\n",
      "2022-11-08 12:50:36.395040: W tensorflow/core/kernels/data/cache_dataset_ops.cc:856] The calling iterator did not fully read the dataset being cached. In order to avoid unexpected truncation of the dataset, the partially cached contents of the dataset  will be discarded. This can happen if you have an input pipeline similar to `dataset.cache().take(k).repeat()`. You should use `dataset.take(k).cache().repeat()` instead.\n"
     ]
    },
    {
     "name": "stdout",
     "output_type": "stream",
     "text": [
      "Child: [[[0 1 0 2 1]\n",
      "  [1 1 2 2 0]\n",
      "  [0 0 3 3 1]\n",
      "  [1 1 2 2 1]\n",
      "  [0 0 3 0 0]]\n",
      "\n",
      " [[1 1 4 0 1]\n",
      "  [1 1 1 0 0]\n",
      "  [1 0 0 4 1]\n",
      "  [0 0 2 1 1]\n",
      "  [1 1 2 1 0]]] \n",
      " Accuracy: 0.1855\n"
     ]
    },
    {
     "name": "stderr",
     "output_type": "stream",
     "text": [
      "2022-11-08 12:50:38.380889: I tensorflow/core/grappler/optimizers/custom_graph_optimizer_registry.cc:114] Plugin optimizer for device_type GPU is enabled.\n"
     ]
    },
    {
     "name": "stdout",
     "output_type": "stream",
     "text": [
      "2/2 [==============================] - ETA: 0s - loss: 4.0212 - accuracy: 0.0586"
     ]
    },
    {
     "name": "stderr",
     "output_type": "stream",
     "text": [
      "2022-11-08 12:50:48.503255: I tensorflow/core/grappler/optimizers/custom_graph_optimizer_registry.cc:114] Plugin optimizer for device_type GPU is enabled.\n"
     ]
    },
    {
     "name": "stdout",
     "output_type": "stream",
     "text": [
      "2/2 [==============================] - 14s 5s/step - loss: 4.0212 - accuracy: 0.0586 - val_loss: 2.8884 - val_accuracy: 0.1270\n"
     ]
    },
    {
     "name": "stderr",
     "output_type": "stream",
     "text": [
      "2022-11-08 12:50:51.137885: W tensorflow/core/kernels/data/cache_dataset_ops.cc:856] The calling iterator did not fully read the dataset being cached. In order to avoid unexpected truncation of the dataset, the partially cached contents of the dataset  will be discarded. This can happen if you have an input pipeline similar to `dataset.cache().take(k).repeat()`. You should use `dataset.take(k).cache().repeat()` instead.\n",
      "2022-11-08 12:50:51.143082: W tensorflow/core/kernels/data/cache_dataset_ops.cc:856] The calling iterator did not fully read the dataset being cached. In order to avoid unexpected truncation of the dataset, the partially cached contents of the dataset  will be discarded. This can happen if you have an input pipeline similar to `dataset.cache().take(k).repeat()`. You should use `dataset.take(k).cache().repeat()` instead.\n"
     ]
    },
    {
     "name": "stdout",
     "output_type": "stream",
     "text": [
      "Child: [[[1 1 5 5 0]\n",
      "  [1 0 1 2 1]\n",
      "  [0 1 2 4 1]\n",
      "  [0 0 4 1 1]\n",
      "  [0 0 0 3 0]]\n",
      "\n",
      " [[1 0 0 4 1]\n",
      "  [0 1 4 0 1]\n",
      "  [0 1 3 1 0]\n",
      "  [0 0 4 2 1]\n",
      "  [0 0 5 4 1]]] \n",
      " Accuracy: 0.1270\n",
      "Cycle:  0\n",
      "Best Child:  0 Accuracy: 0.185547\n",
      "(1, 3, 0) 1\n",
      "(0, 4, 2) 5\n"
     ]
    },
    {
     "name": "stderr",
     "output_type": "stream",
     "text": [
      "2022-11-08 12:50:52.979908: I tensorflow/core/grappler/optimizers/custom_graph_optimizer_registry.cc:114] Plugin optimizer for device_type GPU is enabled.\n"
     ]
    },
    {
     "name": "stdout",
     "output_type": "stream",
     "text": [
      "2/2 [==============================] - ETA: 0s - loss: 5.0496 - accuracy: 0.0938"
     ]
    },
    {
     "name": "stderr",
     "output_type": "stream",
     "text": [
      "2022-11-08 12:51:02.922672: I tensorflow/core/grappler/optimizers/custom_graph_optimizer_registry.cc:114] Plugin optimizer for device_type GPU is enabled.\n"
     ]
    },
    {
     "name": "stdout",
     "output_type": "stream",
     "text": [
      "2/2 [==============================] - 14s 5s/step - loss: 5.0496 - accuracy: 0.0938 - val_loss: 3.2320 - val_accuracy: 0.1211\n"
     ]
    },
    {
     "name": "stderr",
     "output_type": "stream",
     "text": [
      "2022-11-08 12:51:05.618660: W tensorflow/core/kernels/data/cache_dataset_ops.cc:856] The calling iterator did not fully read the dataset being cached. In order to avoid unexpected truncation of the dataset, the partially cached contents of the dataset  will be discarded. This can happen if you have an input pipeline similar to `dataset.cache().take(k).repeat()`. You should use `dataset.take(k).cache().repeat()` instead.\n",
      "2022-11-08 12:51:05.627524: W tensorflow/core/kernels/data/cache_dataset_ops.cc:856] The calling iterator did not fully read the dataset being cached. In order to avoid unexpected truncation of the dataset, the partially cached contents of the dataset  will be discarded. This can happen if you have an input pipeline similar to `dataset.cache().take(k).repeat()`. You should use `dataset.take(k).cache().repeat()` instead.\n"
     ]
    },
    {
     "name": "stdout",
     "output_type": "stream",
     "text": [
      "Child: [[[1 0 3 1 1]\n",
      "  [0 0 5 1 0]\n",
      "  [1 1 2 5 1]\n",
      "  [1 0 0 5 1]\n",
      "  [1 0 5 3 1]]\n",
      "\n",
      " [[0 1 2 4 1]\n",
      "  [1 1 4 5 1]\n",
      "  [1 1 5 3 1]\n",
      "  [1 1 1 5 0]\n",
      "  [1 1 3 0 1]]] \n",
      " Accuracy: 0.1211\n",
      "Removal Candidate: [[[0 1 0 2 1]\n",
      "  [1 1 2 2 0]\n",
      "  [0 0 3 3 1]\n",
      "  [1 1 2 2 1]\n",
      "  [0 0 3 0 0]]\n",
      "\n",
      " [[1 1 4 0 1]\n",
      "  [1 1 1 0 0]\n",
      "  [1 0 0 4 1]\n",
      "  [0 0 2 1 1]\n",
      "  [1 1 2 1 0]]]\n",
      " Accuracy: 0.18555\n",
      "Mutation Candidate: [[[0 1 0 2 1]\n",
      "  [1 1 2 2 0]\n",
      "  [0 0 3 3 1]\n",
      "  [1 1 2 2 1]\n",
      "  [0 0 3 0 0]]\n",
      "\n",
      " [[1 1 4 0 1]\n",
      "  [1 1 1 0 0]\n",
      "  [1 0 0 4 1]\n",
      "  [0 0 2 1 1]\n",
      "  [1 1 2 1 0]]]\n",
      " Accuracy: 0.18555\n",
      "Cycle:  1\n",
      "Best Child:  0 Accuracy: 0.126953\n",
      "(0, 1, 3) 5\n",
      "(0, 3, 0) 1\n"
     ]
    },
    {
     "name": "stderr",
     "output_type": "stream",
     "text": [
      "2022-11-08 12:51:07.785949: I tensorflow/core/grappler/optimizers/custom_graph_optimizer_registry.cc:114] Plugin optimizer for device_type GPU is enabled.\n"
     ]
    },
    {
     "name": "stdout",
     "output_type": "stream",
     "text": [
      "2/2 [==============================] - ETA: 0s - loss: 4.4765 - accuracy: 0.0859"
     ]
    },
    {
     "name": "stderr",
     "output_type": "stream",
     "text": [
      "2022-11-08 12:51:17.707331: I tensorflow/core/grappler/optimizers/custom_graph_optimizer_registry.cc:114] Plugin optimizer for device_type GPU is enabled.\n"
     ]
    },
    {
     "name": "stdout",
     "output_type": "stream",
     "text": [
      "2/2 [==============================] - 14s 5s/step - loss: 4.4765 - accuracy: 0.0859 - val_loss: 2.7725 - val_accuracy: 0.0938\n",
      "Child: [[[0 1 1 2 1]\n",
      "  [0 1 0 5 0]\n",
      "  [0 0 4 5 0]\n",
      "  [1 0 3 1 1]\n",
      "  [1 0 4 5 0]]\n",
      "\n",
      " [[0 0 0 1 1]\n",
      "  [0 0 1 5 1]\n",
      "  [0 0 4 4 0]\n",
      "  [1 0 2 1 0]\n",
      "  [1 0 2 5 0]]] \n",
      " Accuracy: 0.0938\n",
      "Removal Candidate: [[[1 1 5 5 0]\n",
      "  [1 0 1 2 1]\n",
      "  [0 1 2 4 1]\n",
      "  [0 0 4 1 1]\n",
      "  [0 0 0 3 0]]\n",
      "\n",
      " [[1 0 0 4 1]\n",
      "  [0 1 4 0 1]\n",
      "  [0 1 3 1 0]\n",
      "  [0 0 4 2 1]\n",
      "  [0 0 5 4 1]]]\n",
      " Accuracy: 0.12695\n",
      "Mutation Candidate: [[[1 1 5 5 0]\n",
      "  [1 0 1 2 1]\n",
      "  [0 1 2 4 1]\n",
      "  [0 0 4 1 1]\n",
      "  [0 0 0 3 0]]\n",
      "\n",
      " [[1 0 0 4 1]\n",
      "  [0 1 4 0 1]\n",
      "  [0 1 3 1 0]\n",
      "  [0 0 4 2 1]\n",
      "  [0 0 5 4 1]]]\n",
      " Accuracy: 0.12695\n"
     ]
    },
    {
     "name": "stderr",
     "output_type": "stream",
     "text": [
      "2022-11-08 12:51:20.581215: W tensorflow/core/kernels/data/cache_dataset_ops.cc:856] The calling iterator did not fully read the dataset being cached. In order to avoid unexpected truncation of the dataset, the partially cached contents of the dataset  will be discarded. This can happen if you have an input pipeline similar to `dataset.cache().take(k).repeat()`. You should use `dataset.take(k).cache().repeat()` instead.\n",
      "2022-11-08 12:51:20.585990: W tensorflow/core/kernels/data/cache_dataset_ops.cc:856] The calling iterator did not fully read the dataset being cached. In order to avoid unexpected truncation of the dataset, the partially cached contents of the dataset  will be discarded. This can happen if you have an input pipeline similar to `dataset.cache().take(k).repeat()`. You should use `dataset.take(k).cache().repeat()` instead.\n"
     ]
    }
   ],
   "source": [
    "CHILD_PARAMS = dict(\n",
    "    epochs=1,\n",
    "    batch_size=128,\n",
    "    learning_rate=0.001,\n",
    "    train_ds=train_ds,\n",
    "    val_ds=val_ds,\n",
    "    max_branch_length=2,\n",
    "    blocks=5,\n",
    "    cells=2,\n",
    "    initial_width=1,\n",
    "    initial_channels=4\n",
    ")\n",
    "\n",
    "STATE_SPACE = [\n",
    "    dict(name='hidden_state', values=list(range(2)), count=2),\n",
    "    dict(\n",
    "        name='primitives',\n",
    "        values=['sep_3x3', 'sep_5x5', 'sep_7x7', 'avg_3x3', 'max_3x3', 'identity'],\n",
    "        count=2\n",
    "    ),\n",
    "    dict(name='combinations', values=['add', 'concat'], count=1),\n",
    "]\n",
    "\n",
    "TDS = CHILD_PARAMS['train_ds'].shuffle(\n",
    "    500,\n",
    "    reshuffle_each_iteration=True\n",
    ").batch(CHILD_PARAMS['batch_size']).take(2)\n",
    "VDS = CHILD_PARAMS['val_ds'].batch(256).take(2)\n",
    "\n",
    "class CNNCell():\n",
    "    \"\"\"\n",
    "    It composes a cell based on the input configuration.\n",
    "    Arguments:\n",
    "        stride: A positive integer to represent the convolution strides.\n",
    "            Normal cells use stride=1 and reduction cells use stride=2\n",
    "    \"\"\"\n",
    "    def __init__(self, stride=1, channels=64):\n",
    "        self.channels = channels\n",
    "        self.stride = stride\n",
    "        self.kwargs = dict(strides=(1, 1), padding='same')\n",
    "    \n",
    "    def repair_channels(self, inp):\n",
    "        \"\"\"\n",
    "        This method sends the input through a convolution layer with\n",
    "        a fixed channel size to ensure that the inputs to each cell block\n",
    "        have identical channel dimensions.\n",
    "        \"\"\"\n",
    "        return layers.Conv2D(self.channels, 1, padding='same')(inp)\n",
    "\n",
    "    def repair_branches(self, branches):\n",
    "        \"\"\"\n",
    "        It transforms the input branches to an identical feature space.\n",
    "        It is useful when a cell receives inputs with different feature spaces.\n",
    "        \"\"\"\n",
    "        (hidden_1, width_1), (hidden_2, width_2) = branches\n",
    "\n",
    "        if width_1 != width_2:\n",
    "            hidden_1 = layers.Conv2D(\n",
    "                self.channels,\n",
    "                3,\n",
    "                strides=(2,2),\n",
    "                padding='same'\n",
    "            )(hidden_1)\n",
    "        else:\n",
    "            hidden_1 = self.repair_channels(hidden_1)\n",
    "        \n",
    "        hidden_2 = self.repair_channels(hidden_2)\n",
    "        \n",
    "        return [hidden_1, hidden_2]\n",
    "    \n",
    "    def reduce_inputs(self, inputs):\n",
    "        \"\"\"\n",
    "        It halves the input feature space using a convolution layer with stride 2\n",
    "        \"\"\"\n",
    "        if self.stride == 2:\n",
    "            inputs = list(\n",
    "                map(\n",
    "                    lambda inp: layers.Conv2D(\n",
    "                        self.channels,\n",
    "                        3,\n",
    "                        strides=(2,2),\n",
    "                        padding='same'\n",
    "                    )(inp),\n",
    "                    inputs\n",
    "                )\n",
    "            )\n",
    "        \n",
    "        return inputs\n",
    "    \n",
    "    def apply_op(self, op_id, inp):\n",
    "        \"\"\"\n",
    "        It applies a primitive operation to the input.\n",
    "        \"\"\"\n",
    "        if op_id == 0:\n",
    "            output = layers.DepthwiseConv2D(3, **self.kwargs)(inp)\n",
    "        elif op_id == 1:\n",
    "            output = layers.DepthwiseConv2D(5, **self.kwargs)(inp)\n",
    "        elif op_id == 2:\n",
    "            output = layers.DepthwiseConv2D(7, **self.kwargs)(inp)\n",
    "        elif op_id == 3:\n",
    "            output = layers.AveragePooling2D(3, **self.kwargs)(inp)\n",
    "        elif op_id == 4:\n",
    "            output = layers.MaxPool2D(3, **self.kwargs)(inp)\n",
    "        elif op_id == 5:\n",
    "            output = inp\n",
    "        \n",
    "        return output\n",
    "\n",
    "    def combination(self, op_id, inp_1, inp_2):\n",
    "        \"\"\"\n",
    "        It applies a combination operation to the inputs.\n",
    "        \"\"\"\n",
    "        if op_id == 0:\n",
    "            output = inp_1 + inp_2\n",
    "        elif op_id == 1:\n",
    "            x = tf.concat([inp_1, inp_2], -1)\n",
    "            output = self.repair_channels(x)\n",
    "        \n",
    "        return output\n",
    "\n",
    "    def compose_block(self, block_config, inputs):\n",
    "        input_1, input_2 = list(map(lambda idx: inputs[idx], block_config[:2]))\n",
    "        op1, op2 = block_config[2:4]\n",
    "        combine_op = block_config[-1]\n",
    "\n",
    "        output = self.combination(\n",
    "            combine_op,\n",
    "            self.apply_op(op1, input_1),\n",
    "            self.apply_op(op2, input_2)\n",
    "        )\n",
    "\n",
    "        return output\n",
    "\n",
    "    def make_cell(self, cell_config, branches):\n",
    "        \"\"\"\n",
    "        It constructs a cell based on the cell_config and the branches.\n",
    "        A cell_config is 2-D numpy array of shape [5,5] which contains\n",
    "        the 5 state choices for each of the 5 blocks.\n",
    "        \"\"\"\n",
    "        inputs = self.repair_branches(branches)\n",
    "        inputs = self.reduce_inputs(inputs)\n",
    "\n",
    "        blocks = []\n",
    "        for block in cell_config:\n",
    "            block_output = self.compose_block(block, inputs)\n",
    "            blocks.append(block_output)\n",
    "        \n",
    "        x = tf.concat(blocks, -1)\n",
    "        output = self.repair_channels(x)\n",
    "\n",
    "        return output\n",
    "\n",
    "class Child(object):\n",
    "    def __init__(self, config, train=True):\n",
    "        self.config = config\n",
    "        self.layers = [(0, 1), (1, 2), (0, 1), (1, 2), (0, 1)]\n",
    "        self.model = self.make_child()\n",
    "        self.accuracy = 0.0\n",
    "        self.accuracy = self.train() if train else 0\n",
    "        print('Child: {} \\n Accuracy: {:1.4f}'.format(\n",
    "            self.config,\n",
    "            self.accuracy\n",
    "        ))\n",
    "    \n",
    "    def make_child(self):\n",
    "        \"\"\"\n",
    "        Arguments:\n",
    "            config: It is an array of shape [2, 5, 5]\n",
    "                    Each row represents a cell: [Normal, Reduction]\n",
    "                    Each cell contains 5 blocks.\n",
    "                    Each block contains 5 operations.\n",
    "\n",
    "        Returns:\n",
    "            model: A CNN model with the layers laid out based on the input config.\n",
    "        \"\"\"\n",
    "        inp = tf.keras.Input(shape=DATASET_PARAMS['input_shape'], dtype=tf.uint8)\n",
    "        x = layers.Rescaling(1./255)(inp)\n",
    "\n",
    "        width = CHILD_PARAMS['initial_width']\n",
    "        branches = deque(maxlen=CHILD_PARAMS['max_branch_length'])\n",
    "        branches.append((x, width))\n",
    "        branches.append((x, width))\n",
    "\n",
    "        for cell_type, stride in self.layers:\n",
    "            width *= stride\n",
    "            cnn_cell = CNNCell(\n",
    "                stride,\n",
    "                channels=CHILD_PARAMS['initial_channels']**width\n",
    "            )\n",
    "\n",
    "            x = cnn_cell.make_cell(self.config[cell_type], branches)\n",
    "            branches.append((x, width))\n",
    "\n",
    "        x = layers.GlobalAveragePooling2D()(x)\n",
    "        output = layers.Dense(DATASET_PARAMS['n_classes'], activation='softmax')(x)\n",
    "\n",
    "        model = tf.keras.Model(inp, output)\n",
    "        optimizer = optimizers.Adam(learning_rate=CHILD_PARAMS['learning_rate'])\n",
    "\n",
    "        model.compile(\n",
    "            optimizer=optimizer,\n",
    "            loss='sparse_categorical_crossentropy',\n",
    "            metrics='accuracy'\n",
    "        )\n",
    "        # model.summary()\n",
    "\n",
    "        return model\n",
    "\n",
    "    def train(self):\n",
    "        history = self.model.fit(\n",
    "            TDS,\n",
    "            validation_data=VDS,\n",
    "            epochs=CHILD_PARAMS['epochs']\n",
    "        )\n",
    "        self.accuracy = max(history.history['val_accuracy'])\n",
    "\n",
    "        return self.accuracy\n",
    "\n",
    "\n",
    "CONTROLLER_PARAMS = dict(\n",
    "    episodes=2,\n",
    "    population_size=2,\n",
    "    sample_size=2,\n",
    "    mutation_size=2\n",
    ")\n",
    "\n",
    "BLOCK_TIMESTEPS = 5\n",
    "CELL_TIMESTEPS = BLOCK_TIMESTEPS*CHILD_PARAMS['blocks']\n",
    "TOTAL_TIMESTEPS = CELL_TIMESTEPS*CHILD_PARAMS['cells']\n",
    "STATE_ID_TO_STATE_SPACE_ID = {0:0, 1:0, 2:1, 3:1, 4:2}\n",
    "\n",
    "TIMESTEP_ADDRESS_SPACE = (\n",
    "    CHILD_PARAMS['cells'],\n",
    "    CHILD_PARAMS['blocks'],\n",
    "    len(STATE_ID_TO_STATE_SPACE_ID)\n",
    ")\n",
    "TIMESTEP_ADDRESSES = np.stack(\n",
    "    np.unravel_index(range(TOTAL_TIMESTEPS),TIMESTEP_ADDRESS_SPACE),\n",
    "    -1\n",
    ")\n",
    "\n",
    "STATE_ADDRESSES = list(map(\n",
    "    lambda x: [x[0], x[1], STATE_ID_TO_STATE_SPACE_ID[x[2]]],\n",
    "    TIMESTEP_ADDRESSES\n",
    "))\n",
    "\n",
    "class Controller():\n",
    "    def __init__(self):\n",
    "        self.population_size = CONTROLLER_PARAMS['population_size']\n",
    "        self.population = deque(maxlen=self.population_size)\n",
    "        self.histories = []\n",
    "        self.sample_size = CONTROLLER_PARAMS['sample_size']\n",
    "        self.best_accuracies = []\n",
    "    \n",
    "    def random_state(self, address):\n",
    "        (_, __, state_id) = address\n",
    "        return randrange(len(STATE_SPACE[state_id]['values']))\n",
    "\n",
    "    def create_random_child(self):\n",
    "        state = list(map(self.random_state, STATE_ADDRESSES))\n",
    "        config = np.array(state).reshape(TIMESTEP_ADDRESS_SPACE)\n",
    "        child = Child(config)\n",
    "        return child\n",
    "\n",
    "    def initialize_population(self):\n",
    "        \"\"\"\n",
    "        It creates children as specified through the size parameter.\n",
    "        Each child is trained and their history is stored.\n",
    "        It should be called only once.\n",
    "\n",
    "        Arguments:\n",
    "            size: The size of the population.\n",
    "        \"\"\"\n",
    "        def work_fn():\n",
    "            self.population.extend(map(\n",
    "                lambda _: self.create_random_child(),\n",
    "                range(self.population_size)\n",
    "            ))\n",
    "            self.histories += self.population\n",
    "        \n",
    "        work_fn() if not self.population else None\n",
    "    \n",
    "    def mutate(self, config):\n",
    "        state = list(map(self.random_state, STATE_ADDRESSES))\n",
    "        config = np.array(state).reshape(TIMESTEP_ADDRESS_SPACE)\n",
    "\n",
    "        def mutate_once():\n",
    "            mutation_address = tuple(map(randrange, TIMESTEP_ADDRESS_SPACE))\n",
    "            state_id = mutation_address[-1]\n",
    "            state_space_id = STATE_ID_TO_STATE_SPACE_ID[state_id]\n",
    "            mutation = randrange(len(STATE_SPACE[state_space_id]['values']))\n",
    "\n",
    "            return mutation_address, mutation\n",
    "\n",
    "        def apply_mutation(config):\n",
    "            address, mutation = mutate_once()\n",
    "            print(address, mutation)\n",
    "            config[address] = mutation\n",
    "            return config\n",
    "    \n",
    "        mutated_config = reduce(\n",
    "            lambda x,_: apply_mutation(x),\n",
    "            range(2),\n",
    "            config.copy())\n",
    "\n",
    "        return mutated_config\n",
    "    \n",
    "    def run_cycle(self):\n",
    "        # Pick random children from the population for the mutation stage\n",
    "        p_sample = sample(range(len(self.population)), self.sample_size)\n",
    "\n",
    "        # Find the best child in the sample\n",
    "        accuracies = list(map(\n",
    "            lambda idx: self.population[idx].accuracy,\n",
    "            p_sample\n",
    "        ))\n",
    "        best_sample = np.argmax(accuracies)\n",
    "        print('Best Child: {:2d} Accuracy: {:4f}'.format(\n",
    "            p_sample[best_sample],\n",
    "            accuracies[best_sample]\n",
    "        ))\n",
    "\n",
    "        # Record the best accuracies\n",
    "        self.best_accuracies.append(accuracies[best_sample])\n",
    "\n",
    "        # Mutate the best child\n",
    "        best_child = self.population[p_sample[best_sample]]\n",
    "        mutated_child = Child(self.mutate(best_child.config))\n",
    "\n",
    "        # Update population\n",
    "        print('Removal Candidate: {}\\n Accuracy: {:1.5f}'.format(\n",
    "            self.population[0].config,\n",
    "            self.population[0].accuracy\n",
    "        ))\n",
    "        print('Mutation Candidate: {}\\n Accuracy: {:1.5f}'.format(\n",
    "            best_child.config,\n",
    "            best_child.accuracy\n",
    "        ))\n",
    "        self.population.append(mutated_child)\n",
    "                \n",
    "        # Add the mutated child to the histories\n",
    "        self.histories.append(mutated_child)\n",
    "\n",
    "controller = Controller()\n",
    "controller.initialize_population()\n",
    "\n",
    "for episode in range(CONTROLLER_PARAMS['episodes']):\n",
    "    print('Cycle: ', episode)\n",
    "    controller.run_cycle()\n",
    "#     predictions = controller.predict_child(start_state)\n",
    "    \n",
    "    # config = np.array(predictions).reshape(TIMESTEP_ADDRESS_SPACE)\n",
    "\n",
    "    # # Evaluate the child generated by the controller\n",
    "    # reward, accuracy = child_manager.get_rewards(config)\n",
    "    # print(\n",
    "    #     'Episode: {} Reward: {} Accuracy: {}'.format(\n",
    "    #         episode,\n",
    "    #         reward,\n",
    "    #         accuracy\n",
    "    #     )\n",
    "    # )\n",
    "\n",
    "    # # Store predicted child and its rewards\n",
    "    # controller.save_trial(predictions, reward, accuracy)\n",
    "    \n",
    "    # # Train the Controller\n",
    "    # controller.train_step()\n",
    "\n",
    "    # # Update start_state for next episode.\n",
    "    # start_state = np.array([predictions[0]])\n",
    "    # tf.print('Start State:', start_state)"
   ]
  },
  {
   "cell_type": "code",
   "execution_count": 134,
   "id": "0cc31a13",
   "metadata": {},
   "outputs": [
    {
     "data": {
      "image/png": "[encoded data removed]",
      "text/plain": [
       "<Figure size 640x480 with 1 Axes>"
      ]
     },
     "metadata": {},
     "output_type": "display_data"
    }
   ],
   "source": [
    "accuracies = list(map(lambda child: child.accuracy, controller.histories))\n",
    "accuracies_df = pd.DataFrame(accuracies)\n",
    "rolling_accuracies = accuracies_df.rolling(len(controller.population)).mean()[0].tolist()\n",
    "\n",
    "plt.plot(accuracies, label='Accuracy')\n",
    "plt.plot(rolling_accuracies, label='Rolling Accuracy')\n",
    "plt.xlabel('Trials')\n",
    "plt.legend()\n",
    "plt.title('Evolution NAS')\n",
    "plt.gca().xaxis.set_major_locator(ticker.MaxNLocator(integer=True))"
   ]
  },
  {
   "cell_type": "code",
   "execution_count": 135,
   "id": "fc40dc60",
   "metadata": {},
   "outputs": [
    {
     "data": {
      "text/plain": [
       "[0.185546875, 0.126953125]"
      ]
     },
     "execution_count": 135,
     "metadata": {},
     "output_type": "execute_result"
    },
    {
     "data": {
      "image/png": "[encoded data removed]",
      "text/plain": [
       "<Figure size 640x480 with 1 Axes>"
      ]
     },
     "metadata": {},
     "output_type": "display_data"
    }
   ],
   "source": [
    "plt.plot(controller.best_accuracies, label='Cycle Accuracies')\n",
    "plt.xlabel('Cycle')\n",
    "plt.legend()\n",
    "plt.title('Cycle Accuracies for Evolution NAS')\n",
    "plt.gca().xaxis.set_major_locator(ticker.MaxNLocator(integer=True))\n",
    "\n",
    "controller.best_accuracies"
   ]
  },
  {
   "cell_type": "code",
   "execution_count": null,
   "id": "3e1e8be4",
   "metadata": {},
   "outputs": [],
   "source": []
  },
  {
   "cell_type": "code",
   "execution_count": 4,
   "id": "2c83b9cd",
   "metadata": {},
   "outputs": [
    {
     "data": {
      "text/plain": [
       "[[id: 0, parent: 0, gen: 0, model: <keras.engine.sequential.Sequential object at 0x7f30247060d0>],\n",
       " [id: 1, parent: 1, gen: 0, model: <keras.engine.sequential.Sequential object at 0x7f30246ba520>],\n",
       " [id: 2, parent: 2, gen: 0, model: <keras.engine.sequential.Sequential object at 0x7f30246824c0>],\n",
       " [id: 3, parent: 3, gen: 0, model: <keras.engine.sequential.Sequential object at 0x7f302468cf10>],\n",
       " [id: 4, parent: 4, gen: 0, model: <keras.engine.sequential.Sequential object at 0x7f302461ca00>]]"
      ]
     },
     "execution_count": 4,
     "metadata": {},
     "output_type": "execute_result"
    }
   ],
   "source": [
    "MEMBER_RUNNING_ID = 0\n",
    "\n",
    "# Member = namedtuple('Member', ['id', 'gen', 'model'])\n",
    "class Member(object):\n",
    "    def __init__(self, member_id, parent, gen, model):\n",
    "        self.id = member_id\n",
    "        self.parent = parent\n",
    "        self.gen = gen\n",
    "        self.model = model\n",
    "    \n",
    "    def __repr__(self):\n",
    "        return '[id: {}, parent: {}, gen: {}, model: {}]'.format(self.id, self.parent, self.gen, self.model)\n",
    "\n",
    "def init_model():\n",
    "    model = tf.keras.Sequential([\n",
    "        tf.keras.Input((IMG_SIZE, IMG_SIZE, 3), dtype=tf.float32),\n",
    "        layers.GlobalMaxPooling2D(),\n",
    "#         tf.keras.Sequential([layers.GlobalMaxPooling2D()]),\n",
    "        layers.Dense(N_CLASSES, activation='softmax')\n",
    "    ])\n",
    "    \n",
    "    optimizer = optimizers.Adam(learning_rate=0.1)\n",
    "    loss = 'sparse_categorical_crossentropy'\n",
    "    metrics = 'accuracy'\n",
    "    \n",
    "    model.compile(optimizer=optimizer, loss=loss, metrics=metrics)\n",
    "    return model\n",
    "\n",
    "def init_member(parent=-1, gen=0, model=None):\n",
    "    global MEMBER_RUNNING_ID\n",
    "    \n",
    "    m = Member(MEMBER_RUNNING_ID, parent, gen, model or init_model())\n",
    "    \n",
    "    MEMBER_RUNNING_ID += 1\n",
    "    return m\n",
    "\n",
    "def let_there_be_light():\n",
    "    START_POPULATION = 5\n",
    "    \n",
    "    return list(map(init_member, range(START_POPULATION)))\n",
    "\n",
    "POPULATION = let_there_be_light()\n",
    "POPULATION"
   ]
  },
  {
   "cell_type": "code",
   "execution_count": 5,
   "id": "5a2c656d",
   "metadata": {},
   "outputs": [
    {
     "name": "stdout",
     "output_type": "stream",
     "text": [
      "0 [[id: 2, parent: 2, gen: 0, model: <keras.engine.sequential.Sequential object at 0x7f30246824c0>], [id: 4, parent: 4, gen: 0, model: <keras.engine.sequential.Sequential object at 0x7f302461ca00>], [id: 1, parent: 1, gen: 0, model: <keras.engine.sequential.Sequential object at 0x7f30246ba520>], [id: 5, parent: 1, gen: 1, model: <keras.engine.sequential.Sequential object at 0x7f302462d3a0>]]\n",
      "1 [[id: 4, parent: 4, gen: 0, model: <keras.engine.sequential.Sequential object at 0x7f302461ca00>], [id: 5, parent: 1, gen: 1, model: <keras.engine.sequential.Sequential object at 0x7f302462d3a0>], [id: 6, parent: 4, gen: 1, model: <keras.engine.sequential.Sequential object at 0x7f302b93d550>]]\n",
      "2 [[id: 5, parent: 1, gen: 1, model: <keras.engine.sequential.Sequential object at 0x7f302462d3a0>], [id: 6, parent: 4, gen: 1, model: <keras.engine.sequential.Sequential object at 0x7f302b93d550>], [id: 7, parent: 5, gen: 2, model: <keras.engine.sequential.Sequential object at 0x7f302464f970>]]\n"
     ]
    },
    {
     "data": {
      "text/plain": [
       "[[id: 5, parent: 1, gen: 1, model: <keras.engine.sequential.Sequential object at 0x7f302462d3a0>],\n",
       " [id: 6, parent: 4, gen: 1, model: <keras.engine.sequential.Sequential object at 0x7f302b93d550>],\n",
       " [id: 7, parent: 5, gen: 2, model: <keras.engine.sequential.Sequential object at 0x7f302464f970>]]"
      ]
     },
     "execution_count": 5,
     "metadata": {},
     "output_type": "execute_result"
    }
   ],
   "source": [
    "N_ITERATIONS = 3\n",
    "SURVIVAL_RATE = .7\n",
    "REPRODUCTION_RATE = .5\n",
    "\n",
    "def train_member(m):\n",
    "#     result = m.model.fit(train_ds.batch(2).take(1))\n",
    "    result = m\n",
    "    return result\n",
    "\n",
    "def natural_selection(p):\n",
    "    def partition(items, size):\n",
    "        shuffle(items) # In-place shuffle\n",
    "        left, right = items[:size], items[size:]\n",
    "        return left, right\n",
    "    \n",
    "    mc = len(p) # Member Count\n",
    "    sc = floor(mc*SURVIVAL_RATE) # Survivals\n",
    "    survivals, deaths = partition(list(range(mc)), sc) # Survivals and deaths\n",
    "    \n",
    "    # Transform survival and death indices to members \n",
    "    ids_to_members = lambda ids: list(map(lambda idx: p[idx], ids))\n",
    "    survivals, _ = ids_to_members(survivals), ids_to_members(deaths)\n",
    "\n",
    "    return survivals\n",
    "\n",
    "def reproduction(p):\n",
    "    def birth(parent):\n",
    "        # Child Attributes\n",
    "        parent_id, gen = parent.id, parent.gen+1 \n",
    "        model = mds.clone_model(parent.model)\n",
    "    \n",
    "        child = init_member(parent=parent_id, gen=gen, model=model)\n",
    "        return child\n",
    "        \n",
    "    mc = len(p) # Member Count\n",
    "    pc = floor(mc*REPRODUCTION_RATE) # Parents\n",
    "    parents = sample(list(range(mc)), pc)\n",
    "    \n",
    "    # Transform parent ids to parents\n",
    "    parents = map(lambda idx: p[idx], parents)\n",
    "    \n",
    "    # Update population with new births\n",
    "    p.extend(map(birth, parents))\n",
    "    \n",
    "    return p\n",
    "\n",
    "def next_evolution(p):\n",
    "    def update_member_gen(m):\n",
    "        m.gen += 1\n",
    "        return m\n",
    "    \n",
    "    # Natural Selection\n",
    "    p = natural_selection(p)\n",
    "    \n",
    "#     # Increment Generation\n",
    "#     p = list(map(update_member_gen, p))\n",
    "    \n",
    "    # Reproduction\n",
    "    p = reproduction(p)\n",
    "    \n",
    "    # Evolve\n",
    "    result = list(map(train_member, p))\n",
    "    return result\n",
    "\n",
    "def calculateDaysBetweenDates()\n",
    "\n",
    "def run(p):\n",
    "    result = None\n",
    "    for step, iteration in enumerate(range(N_ITERATIONS)):\n",
    "        p = next_evolution(p)\n",
    "        print(step, p)\n",
    "        result = p\n",
    "\n",
    "    return result\n",
    "\n",
    "run(POPULATION)"
   ]
  }
 ],
 "metadata": {
  "kernelspec": {
   "display_name": "Python 3.9.10 ('base')",
   "language": "python",
   "name": "python3"
  },
  "language_info": {
   "codemirror_mode": {
    "name": "ipython",
    "version": 3
   },
   "file_extension": ".py",
   "mimetype": "text/x-python",
   "name": "python",
   "nbconvert_exporter": "python",
   "pygments_lexer": "ipython3",
   "version": "3.10.6"
  },
  "vscode": {
   "interpreter": {
    "hash": "ef4ac4ea1ec422be6b4eb59e3fa0ded4ce016edaf83e8378f1dbc473945965d7"
   }
  }
 },
 "nbformat": 4,
 "nbformat_minor": 5
}
